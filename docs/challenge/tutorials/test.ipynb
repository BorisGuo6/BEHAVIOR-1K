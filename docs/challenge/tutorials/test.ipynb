{
 "cells": [
  {
   "cell_type": "markdown",
   "id": "0b7789cd",
   "metadata": {},
   "source": [
    "### Using B1K Data"
   ]
  },
  {
   "cell_type": "code",
   "execution_count": null,
   "id": "31b1a9cf",
   "metadata": {},
   "outputs": [],
   "source": [
    "!pip install -q condacolab\n",
    "import condacolab\n",
    "condacolab.install()\n",
    "\n",
    "!conda create -n behavior python=3.10 av \"numpy<2\" \"setuptools<=79\" -c conda-forge -y\n",
    "!conda run -n behavior pip install torch==2.6.0 torchvision==0.21.0 torchaudio==2.6.0 --index-url https://download.pytorch.org/whl/cu124\n",
    "!conda run -n behavior pip install torch-cluster -f https://data.pyg.org/whl/torch-2.6.0+cu124.html\n",
    "\n",
    "!git clone https://github.com/StanfordVL/BEHAVIOR-1K -b eval\n",
    "%cd BEHAVIOR-1K/bddl\n",
    "!conda run -n behavior pip install -e .\n",
    "%cd ../OmniGibson\n",
    "!conda run -n behavior pip install -e .[eval]"
   ]
  },
  {
   "cell_type": "code",
   "execution_count": null,
   "id": "b62e202a",
   "metadata": {},
   "outputs": [],
   "source": [
    "# Register a Python 3.10 conda env as a new Jupyter kernel in Colab\n",
    "!conda run -n behavior python -m pip install ipykernel\n",
    "!conda run -n behavior python -m ipykernel install --user --name=behavior --display-name \"Python 3.10 (behavior)\""
   ]
  },
  {
   "cell_type": "code",
   "execution_count": null,
   "id": "7fe45b72",
   "metadata": {},
   "outputs": [],
   "source": [
    "import numpy as np\n",
    "import omnigibson as og"
   ]
  },
  {
   "cell_type": "code",
   "execution_count": null,
   "id": "2404426a",
   "metadata": {},
   "outputs": [],
   "source": []
  }
 ],
 "metadata": {
  "kernelspec": {
   "display_name": "behavior",
   "language": "python",
   "name": "python3"
  },
  "language_info": {
   "name": "python",
   "version": "3.10.18"
  }
 },
 "nbformat": 4,
 "nbformat_minor": 5
}
