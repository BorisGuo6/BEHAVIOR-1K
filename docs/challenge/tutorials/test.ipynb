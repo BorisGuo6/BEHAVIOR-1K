{
 "cells": [
  {
   "cell_type": "markdown",
   "id": "0b7789cd",
   "metadata": {},
   "source": [
    "### Test"
   ]
  },
  {
   "cell_type": "code",
   "execution_count": null,
   "id": "31b1a9cf",
   "metadata": {},
   "outputs": [],
   "source": [
    "!pip install -q condacolab\n",
    "import condacolab\n",
    "condacolab.install()"
   ]
  },
  {
   "cell_type": "code",
   "execution_count": null,
   "id": "9e053268",
   "metadata": {},
   "outputs": [],
   "source": [
    "!conda install -y av -c conda-forge"
   ]
  },
  {
   "cell_type": "code",
   "execution_count": null,
   "id": "db552eb1",
   "metadata": {},
   "outputs": [],
   "source": [
    "!git clone https://github.com/StanfordVL/BEHAVIOR-1K -b eval\n",
    "%cd BEHAVIOR-1K\n",
    "!pip install -e .[eval]"
   ]
  },
  {
   "cell_type": "code",
   "execution_count": null,
   "id": "7fe45b72",
   "metadata": {},
   "outputs": [],
   "source": [
    "import numpy as np\n",
    "import omnigibson as og"
   ]
  },
  {
   "cell_type": "code",
   "execution_count": null,
   "id": "2404426a",
   "metadata": {},
   "outputs": [],
   "source": []
  }
 ],
 "metadata": {
  "kernelspec": {
   "display_name": "behavior",
   "language": "python",
   "name": "python3"
  },
  "language_info": {
   "name": "python",
   "version": "3.10.18"
  }
 },
 "nbformat": 4,
 "nbformat_minor": 5
}
