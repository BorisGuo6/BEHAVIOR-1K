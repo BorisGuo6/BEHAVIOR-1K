{
 "cells": [
  {
   "cell_type": "code",
   "execution_count": null,
   "id": "3ecb7637",
   "metadata": {},
   "outputs": [
    {
     "name": "stdout",
     "output_type": "stream",
     "text": [
      "Adding /scr/rc6.zip\n",
      "Adding /scr/rc7_patch.zip\n",
      "Copying files\n"
     ]
    },
    {
     "name": "stderr",
     "output_type": "stream",
     "text": [
      "100%|██████████| 202129/202129 [03:02<00:00, 1106.60it/s]\n"
     ]
    },
    {
     "name": "stdout",
     "output_type": "stream",
     "text": [
      "Removing some objects\n"
     ]
    },
    {
     "ename": "AssertionError",
     "evalue": "Needed exactly one dir for uuuien, got []",
     "output_type": "error",
     "traceback": [
      "\u001b[0;31m---------------------------------------------------------------------------\u001b[0m",
      "\u001b[0;31mAssertionError\u001b[0m                            Traceback (most recent call last)",
      "Cell \u001b[0;32mIn[1], line 46\u001b[0m\n\u001b[1;32m     43\u001b[0m             \u001b[38;5;28mprint\u001b[39m(\u001b[38;5;124m\"\u001b[39m\u001b[38;5;124mRemoving\u001b[39m\u001b[38;5;124m\"\u001b[39m, objdir)\n\u001b[1;32m     44\u001b[0m             objects_dir\u001b[38;5;241m.\u001b[39mremovetree(objdir)\n\u001b[0;32m---> 46\u001b[0m \u001b[43mmain\u001b[49m\u001b[43m(\u001b[49m\u001b[43m)\u001b[49m\n",
      "Cell \u001b[0;32mIn[1], line 41\u001b[0m, in \u001b[0;36mmain\u001b[0;34m()\u001b[0m\n\u001b[1;32m     39\u001b[0m \u001b[38;5;28;01mfor\u001b[39;00m obj_to_remove \u001b[38;5;129;01min\u001b[39;00m OBJECTS_TO_REMOVE:\n\u001b[1;32m     40\u001b[0m     objdir_glob \u001b[38;5;241m=\u001b[39m [x\u001b[38;5;241m.\u001b[39mpath \u001b[38;5;28;01mfor\u001b[39;00m x \u001b[38;5;129;01min\u001b[39;00m objects_dir\u001b[38;5;241m.\u001b[39mglob(\u001b[38;5;124mf\u001b[39m\u001b[38;5;124m\"\u001b[39m\u001b[38;5;124m*/\u001b[39m\u001b[38;5;132;01m{\u001b[39;00mobj_to_remove\u001b[38;5;132;01m}\u001b[39;00m\u001b[38;5;124m\"\u001b[39m)]\n\u001b[0;32m---> 41\u001b[0m     \u001b[38;5;28;01massert\u001b[39;00m \u001b[38;5;28mlen\u001b[39m(objdir_glob) \u001b[38;5;241m==\u001b[39m \u001b[38;5;241m1\u001b[39m, \u001b[38;5;124mf\u001b[39m\u001b[38;5;124m\"\u001b[39m\u001b[38;5;124mNeeded exactly one dir for \u001b[39m\u001b[38;5;132;01m{\u001b[39;00mobj_to_remove\u001b[38;5;132;01m}\u001b[39;00m\u001b[38;5;124m, got \u001b[39m\u001b[38;5;132;01m{\u001b[39;00mobjdir_glob\u001b[38;5;132;01m}\u001b[39;00m\u001b[38;5;124m\"\u001b[39m\n\u001b[1;32m     42\u001b[0m     objdir \u001b[38;5;241m=\u001b[39m objdir_glob[\u001b[38;5;241m0\u001b[39m]\n\u001b[1;32m     43\u001b[0m     \u001b[38;5;28mprint\u001b[39m(\u001b[38;5;124m\"\u001b[39m\u001b[38;5;124mRemoving\u001b[39m\u001b[38;5;124m\"\u001b[39m, objdir)\n",
      "\u001b[0;31mAssertionError\u001b[0m: Needed exactly one dir for uuuien, got []"
     ]
    }
   ],
   "source": [
    "import tqdm\n",
    "import fs.zipfs\n",
    "import fs.multifs\n",
    "import os\n",
    "import fs.copy\n",
    "import sys\n",
    "sys.path.append(\"/scr/ig_pipeline\")\n",
    "import b1k_pipeline.utils\n",
    "\n",
    "OUT_FILENAME = \"/scr/rc7.zip\"\n",
    "\n",
    "# In the order of priority\n",
    "PARALLELS = [\n",
    "    \"/scr/rc6.zip\",\n",
    "    \"/scr/rc7_patch.zip\",\n",
    "]\n",
    "\n",
    "OBJECTS_TO_REMOVE = [\n",
    "    \"uuuien\",\n",
    "    \"ccnvxc\",\n",
    "]\n",
    "\n",
    "def main():\n",
    "    # Get a multi-FS view over all of the parallel filesystems.\n",
    "    multi_fs = fs.multifs.MultiFS()\n",
    "    for priority, parallel_zip_name in enumerate(PARALLELS):\n",
    "        print(\"Adding\", parallel_zip_name)\n",
    "        multi_fs.add_fs(os.path.basename(parallel_zip_name), fs.zipfs.ZipFS(parallel_zip_name), priority=priority)\n",
    "\n",
    "    # Copy all the files to the output zip filesystem.\n",
    "    print(\"Copying files\")\n",
    "    total_files = sum(1 for f in multi_fs.walk.files())\n",
    "    with b1k_pipeline.utils.WriteOnly7ZipFS(OUT_FILENAME) as out_fs:\n",
    "        with tqdm.tqdm(total=total_files) as pbar:\n",
    "            fs.copy.copy_fs(multi_fs, out_fs, on_copy=lambda *args: pbar.update(1))\n",
    "\n",
    "        print(\"Removing some objects\")\n",
    "        objects_dir = out_fs.opendir(\"objects\")\n",
    "        for obj_to_remove in OBJECTS_TO_REMOVE:\n",
    "            objdir_glob = [x.path for x in objects_dir.glob(f\"*/{obj_to_remove}/\")]\n",
    "            assert len(objdir_glob) == 1, f\"Needed exactly one dir for {obj_to_remove}, got {objdir_glob}\"\n",
    "            objdir = objdir_glob[0]\n",
    "            print(\"Removing\", objdir)\n",
    "            objects_dir.removetree(objdir)\n",
    "\n",
    "main()"
   ]
  }
 ],
 "metadata": {
  "kernelspec": {
   "display_name": "omnigibson45",
   "language": "python",
   "name": "python3"
  },
  "language_info": {
   "codemirror_mode": {
    "name": "ipython",
    "version": 3
   },
   "file_extension": ".py",
   "mimetype": "text/x-python",
   "name": "python",
   "nbconvert_exporter": "python",
   "pygments_lexer": "ipython3",
   "version": "3.10.0"
  }
 },
 "nbformat": 4,
 "nbformat_minor": 5
}
