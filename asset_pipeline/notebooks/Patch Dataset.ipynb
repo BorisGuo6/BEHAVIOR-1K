{
 "cells": [
  {
   "cell_type": "code",
   "execution_count": 1,
   "id": "3ecb7637",
   "metadata": {},
   "outputs": [
    {
     "name": "stdout",
     "output_type": "stream",
     "text": [
      "Adding /scr/rc6.zip\n",
      "Adding /scr/rc8_patch.zip\n",
      "Copying files\n"
     ]
    },
    {
     "name": "stderr",
     "output_type": "stream",
     "text": [
      "100%|██████████| 202135/202135 [03:04<00:00, 1094.01it/s]\n"
     ]
    },
    {
     "name": "stdout",
     "output_type": "stream",
     "text": [
      "Removing some objects\n",
      "Removing /half_log/uuuien/\n",
      "Removing /half_log/ccnvxc/\n"
     ]
    }
   ],
   "source": [
    "import tqdm\n",
    "import fs.zipfs\n",
    "import fs.multifs\n",
    "import os\n",
    "import fs.copy\n",
    "import sys\n",
    "sys.path.append(\"/scr/ig_pipeline\")\n",
    "import b1k_pipeline.utils\n",
    "\n",
    "OUT_FILENAME = \"/scr/rc8.zip\"\n",
    "\n",
    "# In the order of priority\n",
    "PARALLELS = [\n",
    "    \"/scr/rc6.zip\",\n",
    "    \"/scr/rc8_patch.zip\",\n",
    "]\n",
    "\n",
    "OBJECTS_TO_REMOVE = [\n",
    "    \"uuuien\",\n",
    "    \"ccnvxc\",\n",
    "]\n",
    "\n",
    "def main():\n",
    "    # Get a multi-FS view over all of the parallel filesystems.\n",
    "    multi_fs = fs.multifs.MultiFS()\n",
    "    for priority, parallel_zip_name in enumerate(PARALLELS):\n",
    "        print(\"Adding\", parallel_zip_name)\n",
    "        multi_fs.add_fs(os.path.basename(parallel_zip_name), fs.zipfs.ZipFS(parallel_zip_name), priority=priority)\n",
    "\n",
    "    # Copy all the files to the output zip filesystem.\n",
    "    print(\"Copying files\")\n",
    "    total_files = sum(1 for f in multi_fs.walk.files())\n",
    "    with b1k_pipeline.utils.WriteOnly7ZipFS(OUT_FILENAME) as out_fs:\n",
    "        with tqdm.tqdm(total=total_files) as pbar:\n",
    "            fs.copy.copy_fs(multi_fs, out_fs, on_copy=lambda *args: pbar.update(1))\n",
    "\n",
    "        print(\"Removing some objects\")\n",
    "        objects_dir = out_fs.opendir(\"objects\")\n",
    "        for obj_to_remove in OBJECTS_TO_REMOVE:\n",
    "            objdir_glob = [x.path for x in objects_dir.glob(f\"*/{obj_to_remove}/\")]\n",
    "            assert len(objdir_glob) == 1, f\"Needed exactly one dir for {obj_to_remove}, got {objdir_glob}\"\n",
    "            objdir = objdir_glob[0]\n",
    "            print(\"Removing\", objdir)\n",
    "            objects_dir.removetree(objdir)\n",
    "\n",
    "main()"
   ]
  }
 ],
 "metadata": {
  "kernelspec": {
   "display_name": "omnigibson45",
   "language": "python",
   "name": "python3"
  },
  "language_info": {
   "codemirror_mode": {
    "name": "ipython",
    "version": 3
   },
   "file_extension": ".py",
   "mimetype": "text/x-python",
   "name": "python",
   "nbconvert_exporter": "python",
   "pygments_lexer": "ipython3",
   "version": "3.10.0"
  }
 },
 "nbformat": 4,
 "nbformat_minor": 5
}
