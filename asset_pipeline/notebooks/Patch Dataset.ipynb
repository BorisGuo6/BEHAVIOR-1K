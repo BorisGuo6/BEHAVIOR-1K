{
 "cells": [
  {
   "cell_type": "code",
   "execution_count": 1,
   "id": "3ecb7637",
   "metadata": {},
   "outputs": [
    {
     "name": "stdout",
     "output_type": "stream",
     "text": [
      "Adding /scr/rc16.zip\n",
      "Adding /scr/rc17_patch.zip\n",
      "Copying files\n"
     ]
    },
    {
     "name": "stderr",
     "output_type": "stream",
     "text": [
      "100%|██████████| 210126/210126 [03:07<00:00, 1118.41it/s]\n"
     ]
    },
    {
     "name": "stdout",
     "output_type": "stream",
     "text": [
      "Removing some objects\n"
     ]
    }
   ],
   "source": [
    "import tqdm\n",
    "import fs.zipfs\n",
    "import fs.multifs\n",
    "import os\n",
    "import fs.copy\n",
    "import sys\n",
    "sys.path.append(\"/scr/BEHAVIOR-1K/asset_pipeline\")\n",
    "import b1k_pipeline.utils\n",
    "\n",
    "OUT_FILENAME = \"/scr/rc17.zip\"\n",
    "\n",
    "# In the order of priority\n",
    "PARALLELS = [\n",
    "    \"/scr/rc16.zip\",\n",
    "    \"/scr/rc17_patch.zip\",\n",
    "]\n",
    "\n",
    "OBJECTS_TO_REMOVE = []\n",
    "\n",
    "def main():\n",
    "    # Get a multi-FS view over all of the parallel filesystems.\n",
    "    multi_fs = fs.multifs.MultiFS()\n",
    "    for priority, parallel_zip_name in enumerate(PARALLELS):\n",
    "        print(\"Adding\", parallel_zip_name)\n",
    "        multi_fs.add_fs(os.path.basename(parallel_zip_name), fs.zipfs.ZipFS(parallel_zip_name), priority=priority)\n",
    "\n",
    "    # Copy all the files to the output zip filesystem.\n",
    "    print(\"Copying files\")\n",
    "    total_files = sum(1 for f in multi_fs.walk.files())\n",
    "    with b1k_pipeline.utils.WriteOnly7ZipFS(OUT_FILENAME) as out_fs:\n",
    "        with tqdm.tqdm(total=total_files) as pbar:\n",
    "            fs.copy.copy_fs(multi_fs, out_fs, on_copy=lambda *args: pbar.update(1))\n",
    "\n",
    "        print(\"Removing some objects\")\n",
    "        objects_dir = out_fs.opendir(\"objects\")\n",
    "        for obj_to_remove in OBJECTS_TO_REMOVE:\n",
    "            objdir_glob = [x.path for x in objects_dir.glob(f\"*/{obj_to_remove}/\")]\n",
    "            assert len(objdir_glob) == 1, f\"Needed exactly one dir for {obj_to_remove}, got {objdir_glob}\"\n",
    "            objdir = objdir_glob[0]\n",
    "            print(\"Removing\", objdir)\n",
    "            objects_dir.removetree(objdir)\n",
    "\n",
    "        systems_dir = out_fs.opendir(\"systems\")\n",
    "        for system_dir in list(systems_dir.listdir(\"/\")):\n",
    "            if objects_dir.exists(system_dir):\n",
    "                print(\"Removing\", system_dir)\n",
    "                objects_dir.removetree(system_dir)\n",
    "\n",
    "main()"
   ]
  },
  {
   "cell_type": "code",
   "execution_count": 2,
   "id": "d1e3b6e2",
   "metadata": {},
   "outputs": [
    {
     "name": "stdout",
     "output_type": "stream",
     "text": [
      "Copying file:///scr/rc17.zip [Content-Type=application/zip]...\n",
      "==> NOTE: You are uploading one or more large file(s), which would run          \n",
      "significantly faster if you enable parallel composite uploads. This\n",
      "feature can be enabled by editing the\n",
      "\"parallel_composite_upload_threshold\" value in your .boto\n",
      "configuration file. However, note that if you do this large files will\n",
      "be uploaded as `composite objects\n",
      "<https://cloud.google.com/storage/docs/composite-objects>`_,which\n",
      "means that any user who downloads such objects will need to have a\n",
      "compiled crcmod installed (see \"gsutil help crcmod\"). This is because\n",
      "without a compiled crcmod, computing checksums on composite objects is\n",
      "so slow that gsutil disables downloads of composite objects.\n",
      "\n",
      "| [1 files][ 29.5 GiB/ 29.5 GiB]  103.4 MiB/s                                   \n",
      "Operation completed over 1 objects/29.5 GiB.                                     \n"
     ]
    }
   ],
   "source": [
    "! gsutil cp \"/scr/rc17.zip\" \"gs://gibson_scenes/og_dataset_1_2_0rc17.zip\""
   ]
  },
  {
   "cell_type": "code",
   "execution_count": null,
   "id": "8404f755",
   "metadata": {},
   "outputs": [],
   "source": []
  }
 ],
 "metadata": {
  "kernelspec": {
   "display_name": "omnigibson45",
   "language": "python",
   "name": "python3"
  },
  "language_info": {
   "codemirror_mode": {
    "name": "ipython",
    "version": 3
   },
   "file_extension": ".py",
   "mimetype": "text/x-python",
   "name": "python",
   "nbconvert_exporter": "python",
   "pygments_lexer": "ipython3",
   "version": "3.10.0"
  }
 },
 "nbformat": 4,
 "nbformat_minor": 5
}
