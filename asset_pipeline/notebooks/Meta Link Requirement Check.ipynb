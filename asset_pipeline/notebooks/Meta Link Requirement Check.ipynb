{
 "cells": [
  {
   "cell_type": "code",
   "execution_count": 1,
   "metadata": {},
   "outputs": [
    {
     "name": "stderr",
     "output_type": "stream",
     "text": [
      "Loading BDDL knowledge base... This may take a few seconds.\n",
      "[nltk_data] Downloading package wordnet to /home/cgokmen/nltk_data...\n",
      "[nltk_data]   Package wordnet is already up-to-date!\n"
     ]
    }
   ],
   "source": [
    "from bddl.knowledge_base import *"
   ]
  },
  {
   "cell_type": "code",
   "execution_count": 6,
   "metadata": {},
   "outputs": [
    {
     "data": {
      "text/plain": [
       "{'togglebutton'}"
      ]
     },
     "execution_count": 6,
     "metadata": {},
     "output_type": "execute_result"
    }
   ],
   "source": [
    "s = Synset.get(\"salt__shaker.n.01\")\n",
    "s.required_meta_links"
   ]
  },
  {
   "cell_type": "code",
   "execution_count": 8,
   "metadata": {},
   "outputs": [
    {
     "name": "stdout",
     "output_type": "stream",
     "text": [
      "[Property(name='breakable', parameters='{}', id='a6a55697-75cb-4833-8bcc-9e7947e933f6'), Property(name='disinfectable', parameters='{}', id='8b12da04-02e0-45a2-a159-2e57da350992'), Property(name='dustyable', parameters='{}', id='c2fede51-f036-404c-b2a3-747e7650d316'), Property(name='freezable', parameters='{}', id='e26e3e5e-041f-45ff-9182-bd38544df355'), Property(name='grassyable', parameters='{}', id='50fcd203-03ab-4399-8fbc-b6f78513c024'), Property(name='moldyable', parameters='{}', id='5f0432fa-1292-47bc-86ac-b417ce875b15'), Property(name='needsOrientation', parameters='{}', id='d827049d-a542-4bac-9e2d-b972f9a2cfe1'), Property(name='nonSubstance', parameters='{}', id='0bb6be00-be1a-4979-b778-15d1610ca733'), Property(name='particleApplier', parameters='{\"method\": \"projection\", \"conditions\": {\"salt.n.02\": [[\"toggled_on\", true], [\"gravity\", true]]}}', id='4520cf7d-c7a9-4939-9824-ef4af0a26adb'), Property(name='rigidBody', parameters='{}', id='52903df6-6f20-41e6-9d25-d98554601b1e'), Property(name='rustable', parameters='{}', id='69c1a591-79cd-4c1f-8a74-14651793a68e'), Property(name='scratchable', parameters='{}', id='d3592f38-3626-44e1-97ab-be7a1cb3f98b'), Property(name='stainable', parameters='{}', id='52ec9735-dc8b-4989-bad8-fdfb8522dd6b'), Property(name='stickyable', parameters='{}', id='53e220d4-4904-4b51-aef3-47b6abafaf7f'), Property(name='tarnishable', parameters='{}', id='365d941f-362b-4f48-9b52-234955fb39ab'), Property(name='toggleable', parameters='{}', id='fbb7358e-c1d1-45e3-925b-f2a725c4543c'), Property(name='wetable', parameters='{}', id='17b8626b-830b-4525-bc88-488b5cfe76c1'), Property(name='wrinkleable', parameters='{}', id='0544dffc-e7dd-45f7-8945-501c0e4e7cf7')]\n"
     ]
    }
   ],
   "source": [
    "print(list(s.properties))"
   ]
  },
  {
   "cell_type": "code",
   "execution_count": null,
   "metadata": {},
   "outputs": [],
   "source": []
  }
 ],
 "metadata": {
  "kernelspec": {
   "display_name": "omnigibson",
   "language": "python",
   "name": "python3"
  },
  "language_info": {
   "codemirror_mode": {
    "name": "ipython",
    "version": 3
   },
   "file_extension": ".py",
   "mimetype": "text/x-python",
   "name": "python",
   "nbconvert_exporter": "python",
   "pygments_lexer": "ipython3",
   "version": "3.10.13"
  }
 },
 "nbformat": 4,
 "nbformat_minor": 2
}
