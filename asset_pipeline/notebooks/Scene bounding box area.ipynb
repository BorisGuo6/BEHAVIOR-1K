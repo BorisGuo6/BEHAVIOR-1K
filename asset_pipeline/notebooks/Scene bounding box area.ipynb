{
 "cells": [
  {
   "cell_type": "code",
   "execution_count": 2,
   "id": "2db8d0af",
   "metadata": {},
   "outputs": [],
   "source": [
    "import sys\n",
    "sys.path.append(\"/scr/BEHAVIOR-1K/asset_pipeline\")\n",
    "from b1k_pipeline.utils import ParallelZipFS"
   ]
  },
  {
   "cell_type": "code",
   "execution_count": 3,
   "id": "f7b1e878",
   "metadata": {},
   "outputs": [],
   "source": [
    "s = ParallelZipFS(\"scenes.zip\")"
   ]
  },
  {
   "cell_type": "code",
   "execution_count": 8,
   "id": "14fcace0",
   "metadata": {},
   "outputs": [],
   "source": [
    "files = [x.path for x in s.glob(\"**/*.urdf\")]"
   ]
  },
  {
   "cell_type": "code",
   "execution_count": 24,
   "id": "e57af6d1",
   "metadata": {},
   "outputs": [],
   "source": [
    "import xml.etree.ElementTree as ET\n",
    "import numpy as np\n",
    "def bb(fn):\n",
    "    with s.open(fn) as f:\n",
    "        root = ET.parse(f)\n",
    "    poslist = []\n",
    "    for link in root.findall(\"joint\"):\n",
    "        poslist.append(np.array([float(x) for x in link.find(\"origin\").attrib[\"xyz\"].split()]))\n",
    "    return np.max(np.max(poslist, axis=0) - np.min(poslist, axis=0))"
   ]
  },
  {
   "cell_type": "code",
   "execution_count": 25,
   "id": "8d4ad2ef",
   "metadata": {},
   "outputs": [
    {
     "name": "stdout",
     "output_type": "stream",
     "text": [
      "{'/scenes/Beechwood_1_int/urdf/Beechwood_1_int_best.urdf': 16.705, '/scenes/office_cubicles_left/urdf/office_cubicles_left_best.urdf': 23970.758895237483, '/scenes/Wainscott_1_int/urdf/Wainscott_1_int_best.urdf': 20.52499975586, '/scenes/Benevolence_0_int/urdf/Benevolence_0_int_best.urdf': 7.630049560545001, '/scenes/hall_train_station/urdf/hall_train_station_best.urdf': 37439.42696615783, '/scenes/office_large/urdf/office_large_best.urdf': 11250.260153564448, '/scenes/hotel_suite_large/urdf/hotel_suite_large_best.urdf': 11.633964902320532, '/scenes/grocery_store_half_stocked/urdf/grocery_store_half_stocked_best.urdf': 14880.776049583023, '/scenes/Ihlen_0_int/urdf/Ihlen_0_int_best.urdf': 12.455093750000001, '/scenes/commercial_kitchen_fire_extinguisher/urdf/commercial_kitchen_fire_extinguisher_best.urdf': 8.50277685547, '/scenes/Pomaria_0_garden/urdf/Pomaria_0_garden_best.urdf': 41.547836153245385, '/scenes/house_double_floor_upper/urdf/house_double_floor_upper_best.urdf': 17.811512423382197, '/scenes/restaurant_hotel/urdf/restaurant_hotel_best.urdf': 17869.938316040036, '/scenes/public_restroom_white/urdf/public_restroom_white_best.urdf': 7.248439331055, '/scenes/school_gym/urdf/school_gym_best.urdf': 28029.39239648437, '/scenes/grocery_store_convenience/urdf/grocery_store_convenience_best.urdf': 13909.681676633256, '/scenes/Merom_0_int/urdf/Merom_0_int_best.urdf': 12.000609985355, '/scenes/Pomaria_0_int/urdf/Pomaria_0_int_best.urdf': 14.025, '/scenes/public_restroom_brown/urdf/public_restroom_brown_best.urdf': 6.853676391571304, '/scenes/public_restroom_marble/urdf/public_restroom_marble_best.urdf': 6.911661377077658, '/scenes/restaurant_brunch/urdf/restaurant_brunch_best.urdf': 8952.692820893393, '/scenes/school_computer_lab_and_infirmary/urdf/school_computer_lab_and_infirmary_best.urdf': 111326.04647407807, '/scenes/Pomaria_2_int/urdf/Pomaria_2_int_best.urdf': 8.890000000005001, '/scenes/restaurant_cafeteria/urdf/restaurant_cafeteria_best.urdf': 11664.739751074929, '/scenes/public_restroom_blue/urdf/public_restroom_blue_best.urdf': 7.813690185545, '/scenes/office_vendor_machine/urdf/office_vendor_machine_best.urdf': 15850.48584908315, '/scenes/grocery_store_asian/urdf/grocery_store_asian_best.urdf': 12698.675752234147, '/scenes/Rs_int/urdf/Rs_int_best.urdf': 7.630223876955, '/scenes/house_double_floor_lower/urdf/house_double_floor_lower_best.urdf': 44.99601474038442, '/scenes/Pomaria_1_int/urdf/Pomaria_1_int_best.urdf': 14.83000048828, '/scenes/office_cubicles_right/urdf/office_cubicles_right_best.urdf': 18232.11846069336, '/scenes/Beechwood_0_int/urdf/Beechwood_0_int_best.urdf': 12.945663085935, '/scenes/Benevolence_1_int/urdf/Benevolence_1_int_best.urdf': 10.504999572755, '/scenes/grocery_store_cafe/urdf/grocery_store_cafe_best.urdf': 14548.62167407226, '/scenes/Merom_1_int/urdf/Merom_1_int_best.urdf': 12.165264648440003, '/scenes/hall_arch_wood/urdf/hall_arch_wood_best.urdf': 14562.70653536626, '/scenes/hotel_suite_small/urdf/hotel_suite_small_best.urdf': 7.088582641604999, '/scenes/public_restroom_futuristic/urdf/public_restroom_futuristic_best.urdf': 8.58205969238, '/scenes/Wainscott_0_int/urdf/Wainscott_0_int_best.urdf': 20.414999755860002, '/scenes/restaurant_asian/urdf/restaurant_asian_best.urdf': 15857.83142816162, '/scenes/restaurant_urban/urdf/restaurant_urban_best.urdf': 20475.060482177738, '/scenes/commercial_kitchen_pans/urdf/commercial_kitchen_pans_best.urdf': 8.64740112305, '/scenes/Ihlen_1_int/urdf/Ihlen_1_int_best.urdf': 12.595000000005001, '/scenes/school_geography/urdf/school_geography_best.urdf': 111365.22147114838, '/scenes/house_single_floor/urdf/house_single_floor_best.urdf': 58.57020749253949, '/scenes/Benevolence_2_int/urdf/Benevolence_2_int_best.urdf': 10.315203613285, '/scenes/restaurant_diner/urdf/restaurant_diner_best.urdf': 6364.105948892147, '/scenes/school_biology/urdf/school_biology_best.urdf': 54557.4726771962, '/scenes/hall_conference_large/urdf/hall_conference_large_best.urdf': 32987.6793503418, '/scenes/school_chemistry/urdf/school_chemistry_best.urdf': 54561.01600336807, '/scenes/hotel_gym_spa/urdf/hotel_gym_spa_best.urdf': 44.41574707031501, '/scenes/hall_glass_ceiling/urdf/hall_glass_ceiling_best.urdf': 23883.8089309916, '/scenes/office_bike/urdf/office_bike_best.urdf': 26.229308593754997, '/scenes/gates_bedroom/urdf/gates_bedroom_best.urdf': 6.739998168950002}\n"
     ]
    }
   ],
   "source": [
    "bbs = {fn: bb(fn) for fn in files}\n",
    "print(bbs)"
   ]
  },
  {
   "cell_type": "code",
   "execution_count": 27,
   "id": "2f247bbf",
   "metadata": {},
   "outputs": [
    {
     "data": {
      "text/plain": [
       "[('/scenes/gates_bedroom/urdf/gates_bedroom_best.urdf', 6.739998168950002),\n",
       " ('/scenes/public_restroom_brown/urdf/public_restroom_brown_best.urdf',\n",
       "  6.853676391571304),\n",
       " ('/scenes/public_restroom_marble/urdf/public_restroom_marble_best.urdf',\n",
       "  6.911661377077658),\n",
       " ('/scenes/hotel_suite_small/urdf/hotel_suite_small_best.urdf',\n",
       "  7.088582641604999),\n",
       " ('/scenes/public_restroom_white/urdf/public_restroom_white_best.urdf',\n",
       "  7.248439331055),\n",
       " ('/scenes/Benevolence_0_int/urdf/Benevolence_0_int_best.urdf',\n",
       "  7.630049560545001),\n",
       " ('/scenes/Rs_int/urdf/Rs_int_best.urdf', 7.630223876955),\n",
       " ('/scenes/public_restroom_blue/urdf/public_restroom_blue_best.urdf',\n",
       "  7.813690185545),\n",
       " ('/scenes/commercial_kitchen_fire_extinguisher/urdf/commercial_kitchen_fire_extinguisher_best.urdf',\n",
       "  8.50277685547),\n",
       " ('/scenes/public_restroom_futuristic/urdf/public_restroom_futuristic_best.urdf',\n",
       "  8.58205969238),\n",
       " ('/scenes/commercial_kitchen_pans/urdf/commercial_kitchen_pans_best.urdf',\n",
       "  8.64740112305),\n",
       " ('/scenes/Pomaria_2_int/urdf/Pomaria_2_int_best.urdf', 8.890000000005001),\n",
       " ('/scenes/Benevolence_2_int/urdf/Benevolence_2_int_best.urdf',\n",
       "  10.315203613285),\n",
       " ('/scenes/Benevolence_1_int/urdf/Benevolence_1_int_best.urdf',\n",
       "  10.504999572755),\n",
       " ('/scenes/hotel_suite_large/urdf/hotel_suite_large_best.urdf',\n",
       "  11.633964902320532),\n",
       " ('/scenes/Merom_0_int/urdf/Merom_0_int_best.urdf', 12.000609985355),\n",
       " ('/scenes/Merom_1_int/urdf/Merom_1_int_best.urdf', 12.165264648440003),\n",
       " ('/scenes/Ihlen_0_int/urdf/Ihlen_0_int_best.urdf', 12.455093750000001),\n",
       " ('/scenes/Ihlen_1_int/urdf/Ihlen_1_int_best.urdf', 12.595000000005001),\n",
       " ('/scenes/Beechwood_0_int/urdf/Beechwood_0_int_best.urdf', 12.945663085935),\n",
       " ('/scenes/Pomaria_0_int/urdf/Pomaria_0_int_best.urdf', 14.025),\n",
       " ('/scenes/Pomaria_1_int/urdf/Pomaria_1_int_best.urdf', 14.83000048828),\n",
       " ('/scenes/Beechwood_1_int/urdf/Beechwood_1_int_best.urdf', 16.705),\n",
       " ('/scenes/house_double_floor_upper/urdf/house_double_floor_upper_best.urdf',\n",
       "  17.811512423382197),\n",
       " ('/scenes/Wainscott_0_int/urdf/Wainscott_0_int_best.urdf',\n",
       "  20.414999755860002),\n",
       " ('/scenes/Wainscott_1_int/urdf/Wainscott_1_int_best.urdf', 20.52499975586),\n",
       " ('/scenes/office_bike/urdf/office_bike_best.urdf', 26.229308593754997),\n",
       " ('/scenes/Pomaria_0_garden/urdf/Pomaria_0_garden_best.urdf',\n",
       "  41.547836153245385),\n",
       " ('/scenes/hotel_gym_spa/urdf/hotel_gym_spa_best.urdf', 44.41574707031501),\n",
       " ('/scenes/house_double_floor_lower/urdf/house_double_floor_lower_best.urdf',\n",
       "  44.99601474038442),\n",
       " ('/scenes/house_single_floor/urdf/house_single_floor_best.urdf',\n",
       "  58.57020749253949),\n",
       " ('/scenes/restaurant_diner/urdf/restaurant_diner_best.urdf',\n",
       "  6364.105948892147),\n",
       " ('/scenes/restaurant_brunch/urdf/restaurant_brunch_best.urdf',\n",
       "  8952.692820893393),\n",
       " ('/scenes/office_large/urdf/office_large_best.urdf', 11250.260153564448),\n",
       " ('/scenes/restaurant_cafeteria/urdf/restaurant_cafeteria_best.urdf',\n",
       "  11664.739751074929),\n",
       " ('/scenes/grocery_store_asian/urdf/grocery_store_asian_best.urdf',\n",
       "  12698.675752234147),\n",
       " ('/scenes/grocery_store_convenience/urdf/grocery_store_convenience_best.urdf',\n",
       "  13909.681676633256),\n",
       " ('/scenes/grocery_store_cafe/urdf/grocery_store_cafe_best.urdf',\n",
       "  14548.62167407226),\n",
       " ('/scenes/hall_arch_wood/urdf/hall_arch_wood_best.urdf', 14562.70653536626),\n",
       " ('/scenes/grocery_store_half_stocked/urdf/grocery_store_half_stocked_best.urdf',\n",
       "  14880.776049583023),\n",
       " ('/scenes/office_vendor_machine/urdf/office_vendor_machine_best.urdf',\n",
       "  15850.48584908315),\n",
       " ('/scenes/restaurant_asian/urdf/restaurant_asian_best.urdf',\n",
       "  15857.83142816162),\n",
       " ('/scenes/restaurant_hotel/urdf/restaurant_hotel_best.urdf',\n",
       "  17869.938316040036),\n",
       " ('/scenes/office_cubicles_right/urdf/office_cubicles_right_best.urdf',\n",
       "  18232.11846069336),\n",
       " ('/scenes/restaurant_urban/urdf/restaurant_urban_best.urdf',\n",
       "  20475.060482177738),\n",
       " ('/scenes/hall_glass_ceiling/urdf/hall_glass_ceiling_best.urdf',\n",
       "  23883.8089309916),\n",
       " ('/scenes/office_cubicles_left/urdf/office_cubicles_left_best.urdf',\n",
       "  23970.758895237483),\n",
       " ('/scenes/school_gym/urdf/school_gym_best.urdf', 28029.39239648437),\n",
       " ('/scenes/hall_conference_large/urdf/hall_conference_large_best.urdf',\n",
       "  32987.6793503418),\n",
       " ('/scenes/hall_train_station/urdf/hall_train_station_best.urdf',\n",
       "  37439.42696615783),\n",
       " ('/scenes/school_biology/urdf/school_biology_best.urdf', 54557.4726771962),\n",
       " ('/scenes/school_chemistry/urdf/school_chemistry_best.urdf',\n",
       "  54561.01600336807),\n",
       " ('/scenes/school_computer_lab_and_infirmary/urdf/school_computer_lab_and_infirmary_best.urdf',\n",
       "  111326.04647407807),\n",
       " ('/scenes/school_geography/urdf/school_geography_best.urdf',\n",
       "  111365.22147114838)]"
      ]
     },
     "execution_count": 27,
     "metadata": {},
     "output_type": "execute_result"
    }
   ],
   "source": [
    "sorted(bbs.items(), key=lambda x: x[1])"
   ]
  },
  {
   "cell_type": "code",
   "execution_count": null,
   "id": "a81ef5be",
   "metadata": {},
   "outputs": [],
   "source": []
  }
 ],
 "metadata": {
  "kernelspec": {
   "display_name": "Python 3 (ipykernel)",
   "language": "python",
   "name": "python3"
  },
  "language_info": {
   "codemirror_mode": {
    "name": "ipython",
    "version": 3
   },
   "file_extension": ".py",
   "mimetype": "text/x-python",
   "name": "python",
   "nbconvert_exporter": "python",
   "pygments_lexer": "ipython3",
   "version": "3.8.0"
  }
 },
 "nbformat": 4,
 "nbformat_minor": 5
}
