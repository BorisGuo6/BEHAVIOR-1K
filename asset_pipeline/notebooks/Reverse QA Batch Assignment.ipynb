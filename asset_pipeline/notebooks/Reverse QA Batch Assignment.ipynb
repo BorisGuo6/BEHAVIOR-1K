{
 "cells": [
  {
   "cell_type": "code",
   "execution_count": 1,
   "metadata": {},
   "outputs": [],
   "source": [
    "import hashlib, glob, pathlib"
   ]
  },
  {
   "cell_type": "code",
   "execution_count": 3,
   "metadata": {},
   "outputs": [
    {
     "name": "stdout",
     "output_type": "stream",
     "text": [
      "['acetone_atomizer', 'acorn', 'address', 'agave', 'air_conditioner', 'air_filter', 'air_freshener_atomizer', 'alarm_clock', 'allen_wrench', 'allspice_shaker', 'alphabet_abacus', 'aluminum_foil', 'ammonia_water_atomizer', 'antlers', 'apple', 'apple_pie', 'apricot', 'apron', 'arbor', 'arched_window', 'architectural_plan', 'arepa', 'armchair', 'artichoke', 'arugula', 'ashtray', 'asparagus', 'auricularia', 'avocado', 'axe', 'baby_bottle', 'baby_shoe', 'background', 'backpack', 'bacon', 'bagel', 'bagel_dough', 'baguette', 'bag_of_auricularia', 'bag_of_breadcrumbs', 'bag_of_brown_rice', 'bag_of_chips', 'bag_of_cookies', 'bag_of_cream_cheese', 'bag_of_fertilizer', 'bag_of_flour', 'bag_of_ice_cream', 'bag_of_jerky', 'bag_of_mulch', 'bag_of_oranges', 'bag_of_popcorn', 'bag_of_rice', 'bag_of_rubbish', 'bag_of_shiitake', 'bag_of_snacks', 'bag_of_starch', 'bag_of_tea', 'bag_of_yeast', 'bait', 'baking_powder_jar', 'baking_sheet', 'balloon', 'banana', 'banana_bread', 'bandage', 'bandana', 'bap', 'bar', 'barbecue_sauce_bottle', 'bar_soap', 'baseball', 'baseball_bat', 'baseball_cap', 'baseball_glove', 'baseboard', 'basil', 'basil_jar', 'bathtub', 'bath_rug', 'bath_towel', 'battery', 'batting_gloves', 'bay_leaf', 'beach_toy', 'beaker', 'bean_curd', 'bed', 'bed_screen', 'bed_sheet', 'beefsteak_tomato', 'beef_broth_carton', 'beer_bottle', 'beer_glass', 'beer_keg', 'beer_tap', 'beeswax_candle', 'beet', 'bell', 'bell_pepper', 'belt', 'bench', 'bench_press_machine', 'bicycle', 'bicycle_chain', 'bicycle_rack', 'bidet', 'bikini', 'binder', 'birdcage', 'bird_feeder', 'bird_feed_bag', 'biscuit', 'biscuit_dough', 'blackberry', 'blackboard', 'blackboard_eraser', 'blanket', 'bleaching_agent_atomizer', 'blender', 'bleu', 'blouse', 'board', 'board_game', 'bobby_pin', 'bok_choy', 'bookcase', 'bookend', 'booth', 'bottle_of_alcohol', 'bottle_of_alfredo_sauce', 'bottle_of_almond_oil', 'bottle_of_ammonia', 'bottle_of_antihistamines', 'bottle_of_apple_cider', 'bottle_of_apple_juice', 'bottle_of_aspirin', 'bottle_of_baby_oil', 'bottle_of_barbecue_sauce', 'bottle_of_beer', 'bottle_of_black_pepper', 'bottle_of_bleach_agent', 'bottle_of_bug_repellent', 'bottle_of_carrot_juice', 'bottle_of_catsup', 'bottle_of_caulk', 'bottle_of_champagne', 'bottle_of_chili_pepper', 'bottle_of_chocolate_sauce', 'bottle_of_cleaner', 'bottle_of_cocoa', 'bottle_of_coconut_milk', 'bottle_of_coconut_oil', 'bottle_of_coconut_water', 'bottle_of_coffee', 'bottle_of_coke', 'bottle_of_cold_cream', 'bottle_of_cologne', 'bottle_of_conditioner', 'bottle_of_cooking_oil', 'bottle_of_cranberry_juice', 'bottle_of_deicer', 'bottle_of_detergent', 'bottle_of_dish_soap', 'bottle_of_disinfectant', 'bottle_of_essential_oil', 'bottle_of_fabric_softener', 'bottle_of_face_cream', 'bottle_of_fennel', 'bottle_of_frosting', 'bottle_of_fruit_punch', 'bottle_of_garlic_sauce', 'bottle_of_gin', 'bottle_of_ginger', 'bottle_of_ginger_beer', 'bottle_of_glass_cleaner', 'bottle_of_glue', 'bottle_of_ground_cloves', 'bottle_of_ground_mace', 'bottle_of_ground_nutmeg', 'bottle_of_hot_sauce', 'bottle_of_lacquer', 'bottle_of_lavender_oil', 'bottle_of_lemonade', 'bottle_of_lemon_juice', 'bottle_of_lemon_sauce', 'bottle_of_lighter_fluid', 'bottle_of_lime_juice', 'bottle_of_liquid_soap', 'bottle_of_lotion', 'bottle_of_lubricant', 'bottle_of_maple_syrup', 'bottle_of_mayonnaise', 'bottle_of_medicine', 'bottle_of_milk', 'bottle_of_milkshake', 'bottle_of_molasses', 'bottle_of_mushroom_sauce', 'bottle_of_mustard', 'bottle_of_mustard_seeds', 'bottle_of_oil', 'bottle_of_olive_oil', 'bottle_of_onion_powder', 'bottle_of_orange_juice', 'bottle_of_paint', 'bottle_of_paint_remover', 'bottle_of_papaya_juice', 'bottle_of_paprika', 'bottle_of_peanut_butter', 'bottle_of_perfume', 'bottle_of_pesticide', 'bottle_of_pesto', 'bottle_of_pizza_sauce', 'bottle_of_pop', 'bottle_of_poppy_seeds', 'bottle_of_powder', 'bottle_of_protein_powder', 'bottle_of_pumpkin_pie_spice', 'bottle_of_rum', 'bottle_of_sage', 'bottle_of_sake', 'bottle_of_salsa', 'bottle_of_sealant', 'bottle_of_seasoning', 'bottle_of_sesame_oil', 'bottle_of_sesame_seeds', 'bottle_of_shampoo', 'bottle_of_skin_cream', 'bottle_of_soda', 'bottle_of_solvent', 'bottle_of_soup', 'bottle_of_sour_cream', 'bottle_of_soy_milk', 'bottle_of_soy_sauce', 'bottle_of_sriracha', 'bottle_of_strawberry_juice', 'bottle_of_sunscreen', 'bottle_of_supplements', 'bottle_of_tea', 'bottle_of_tea_leaves', 'bottle_of_tequila', 'bottle_of_tomato_paste', 'bottle_of_tonic', 'bottle_of_vinegar', 'bottle_of_vodka', 'bottle_of_water', 'bottle_of_whiskey', 'bottle_of_wine', 'bottom_cabinet', 'bottom_cabinet_no_top', 'bouillon_cube', 'boulder', 'bouquet', 'bow', 'bowl', 'bowling_ball', 'boxed_cake', 'boxed_cpu_board', 'boxed_ink_cartridge', 'boxed_router', 'boxers', 'boxing_gloves', 'box_of_almond_milk', 'box_of_aluminium_foil', 'box_of_apple_juice', 'box_of_baking_mix', 'box_of_baking_powder', 'box_of_baking_soda', 'box_of_barley', 'box_of_beer', 'box_of_brown_sugar', 'box_of_butter', 'box_of_candy', 'box_of_cane_sugar', 'box_of_cereal', 'box_of_champagne', 'box_of_chocolates', 'box_of_coconut_milk', 'box_of_coffee', 'box_of_cookies', 'box_of_corn_flakes', 'box_of_crackers', 'box_of_cream', 'box_of_flour', 'box_of_fruit', 'box_of_granola_bars', 'box_of_ice_cream', 'box_of_lasagna', 'box_of_lemons', 'box_of_milk', 'box_of_oatmeal', 'box_of_raspberries', 'box_of_rice', 'box_of_rum', 'box_of_sake', 'box_of_salt', 'box_of_sanitary_napkins', 'box_of_shampoo', 'box_of_takeout', 'box_of_tissues', 'box_of_tomato_juice', 'box_of_vegetable_juice', 'box_of_whiskey', 'box_of_yogurt', 'bra', 'bracelet', 'branch', 'bratwurst', 'bread_slice', 'breakfast_table', 'briefcase', 'brisket', 'broccoli', 'broccolini', 'broccoli_rabe', 'broken_glass', 'broken_light_bulb', 'broom', 'brownie', 'brown_rice_sack', 'brown_sugar_sack', 'brussels_sprouts', 'bucket', 'bucket_of_paint', 'bulldog_clip', 'bulletin_board', 'bunch_of_bananas', 'buret', 'buret_clamp', 'burlap_bag', 'burner', 'burrito', 'bush', 'bust', 'butter', 'buttermilk_pancake', 'butternut_squash', 'butter_cookie', 'butter_package', 'cabinet_base', 'cabinet_door', 'cactus', 'cake_stand', 'calculator', 'calendar', 'caliper', 'camera_tripod', 'can', 'candied_yam', 'candle_holder', 'candy_cane', 'candy_dispenser_shelf', 'canister', 'canned_food', 'cantaloup', 'canteen', 'canvas', 'can_of_baking_mix', 'can_of_bay_leaves', 'can_of_beans', 'can_of_cat_food', 'can_of_coffee', 'can_of_corn', 'can_of_dog_food', 'can_of_icetea', 'can_of_oatmeal', 'can_of_sardines', 'can_of_soda', 'can_of_tomatoes', 'can_of_tomato_paste', 'cap', 'car', 'carafe', 'cardigan', 'cardstock', 'carpet', 'carpet_sweeper', 'carrot', 'carton', 'carton_of_eggs', 'carton_of_milk', 'carton_of_orange_juice', 'carton_of_pineapple_juice', 'carton_of_soy_milk', 'carving_knife', 'car_wheel', 'case_of_eyeshadow', 'cash_register', 'casserole', 'cast', 'catalog', 'catsup_bottle', 'cat_food_tin', 'cauldron', 'cauliflower', 'cayenne_shaker', 'cd', 'cedar_chest', 'ceilings', 'ceiling_air_conditioner', 'ceiling_fan', 'ceiling_mounted_basketball_hoop', 'ceiling_mounted_projector', 'ceiling_rack', 'celery', 'cellulose_tape', 'cell_phone', 'cement', 'centerpiece', 'ceramic_tile', 'ceremonial_robe', 'chainsaw', 'chaise_longue', 'chalice', 'chandelier', 'chanterelle', 'charcoal_grill', 'chard', 'charger', 'checkout_counter', 'cheddar', 'cheesecake', 'cheese_danish', 'cheese_tart', 'cherry', 'cherry_tomato', 'chess_set', 'chestnut', 'chia_seed_bag', 'chicken', 'chicken_breast', 'chicken_broth_carton', 'chicken_coop', 'chicken_leg', 'chicken_soup_carton', 'chicken_tender', 'chicken_thigh', 'chicken_wing', 'chicken_wire', 'chickpea_can', 'chili', 'china', 'chip', 'chisel', 'chives', 'chlorine_bottle', 'chocolate_bar', 'chocolate_biscuit', 'chocolate_cake', 'chocolate_chip_cookie', 'chocolate_cookie_dough', 'chocolate_sauce_bottle', 'chopped_lettuce', 'chopping_block', 'chopping_board', 'chopstick', 'chorizo', 'christmas_tree', 'christmas_tree_decorated', 'cigar', 'cigarette', 'cilantro', 'cinnamon_roll', 'cinnamon_shaker', 'cinnamon_stick', 'clam', 'clamp', 'classroom_mock_up', 'cleansing_bottle', 'cleaver', 'clipboard', 'clipper', 'cloche', 'clothesline', 'clothesline_pole', 'clothesline_rope', 'clothes_dryer', 'clout_nail', 'clove_jar', 'club_sandwich', 'coaster', 'coatrack', 'cocktail_glass', 'cocoa_box', 'cocoa_powder_box', 'coconut_fruit', 'coconut_oil_jar', 'coffee_bean_jar', 'coffee_cup', 'coffee_grinder', 'coffee_maker', 'coffee_table', 'colander', 'cola_bottle', 'cold_cuts', 'colored_pencil', 'comb', 'comic_book', 'commercial_kitchen_sink', 'commercial_kitchen_table', 'compost_bin', 'conch', 'conditioner_atomizer', 'conditioner_dispenser', 'conference_table', 'console_table', 'cookie_cutter', 'cookie_dough', 'cookie_stick', 'cooking_oil_bottle', 'cooler', 'copper_pot', 'copper_wire', 'coriander_shaker', 'cork', 'corkscrew', 'cornstarch_jar', 'cotton_ball', 'cotton_thread', 'countertop', 'crab', 'crawfish', 'crayon', 'cream_carton', 'cream_cheese_box', 'cream_of_tartar_shaker', 'credit_card', 'credit_card_terminal', 'crewneck_sweater', 'crib', 'crock_pot', 'croissant', 'cruet', 'crystal', 'cubicle', 'cucumber', 'cumin_shaker', 'cupcake', 'cup_holder', 'cup_of_ranch', 'cup_of_yogurt', 'curry_powder_shaker', 'curtain', 'curtain_rod', 'cutting_board', 'cymbal', 'daffodil_bulb', 'dahlia_flower', 'dart', 'dartboard', 'date', 'decanter', 'decorative_sign', 'deep_fryer', 'dehumidifier', 'dental_floss', 'denture', 'deodorant_atomizer', 'deodorant_stick', 'desk', 'desktop_computer', 'desk_bracket', 'desk_leg', 'desk_organizer', 'desk_phone', 'desk_top', 'dessert_stand', 'detergent_atomizer', 'detergent_bottle', 'diamond', 'diaper', 'dice', 'digital_camera', 'digital_scale', 'digital_thermometer', 'dinner_napkin', 'dipper', 'dip_candle', 'dishtowel', 'dishwasher', 'dish_rack', 'disinfectant_bottle', 'display_case', 'display_fridge', 'dog_collar', 'dog_food_can', 'doily', 'doll', 'donut', 'door', 'dowel', 'downlight', 'drawer_unit', 'dreidel', 'dress', 'dress_shirt', 'dried_apricot', 'drill', 'drinking_fountain', 'drink_dispenser', 'drip_pot', 'driveway', 'drumstick', 'drying_rack', 'dry_food_dispenser_shelf', 'duck', 'duct_tape', 'duffel_bag', 'dumpling', 'durian', 'dustpan', 'dutch_oven', 'dvd', 'eames_chair', 'easel', 'easter_egg', 'echeveria_elegans', 'edible_cookie_dough', 'egg', 'eggplant', 'electric_cauldron', 'electric_fan', 'electric_hand_mixer', 'electric_kettle', 'electric_mixer', 'electric_switch', 'elevator_door', 'elliptical_machine', 'emery_paper', 'enchilada', 'envelope', 'erlenmeyer_flask', 'espresso_machine', 'exercise_bike', 'eyeglasses', 'fabric_softener_bottle', 'face_mask', 'facsimile', 'fairy_light', 'farm_stand', 'feather', 'fertilizer_atomizer', 'feta', 'feta_box', 'fillet', 'fireplace', 'firewood', 'firewood_grate', 'fire_alarm', 'fire_extinguisher', 'fire_sprinkler', 'first_aid_kit', 'fishing_rod', 'flagpole', 'flag_pole', 'flashlight', 'flask_clamp', 'flat_bench', 'floors', 'floor_lamp', 'floor_wax_bottle', 'flour_sack', 'flower', 'flower_petal', 'folder', 'folderal', 'folding_chair', 'food_processor', 'food_slicer', 'fountain', 'frail', 'frame', 'freezer', 'free_weight', 'free_weight_rack', 'french_fries', 'french_fry_holder', 'french_press', 'french_toast', 'fridge', 'frosting_jar', 'fruitcake', 'frying_pan', 'fuel_can', 'funnel', 'fur_coat', 'gaming_table', 'garage_door', 'garden_chair', 'garden_coffee_table', 'garden_light', 'garden_plant', 'garden_statue', 'garden_umbrella', 'garlic', 'garlic_bread', 'garlic_clove', 'gate', 'gelatin', 'gelatin_box', 'geode', 'gift_box', 'gingerbread', 'ginger_root', 'ginger_shaker', 'glass_lantern', 'glaze_bottle', 'globe', 'glue_stick', 'goalkeeper_gloves', 'goblet', 'goggles', 'golf_club', 'gooseberry', 'gooseneck_microphone', 'gourd', 'graduated_cylinder', 'grandfather_clock', 'granola_bar', 'granola_box', 'granulated_sugar_jar', 'granulated_sugar_sack', 'grape', 'grapefruit', 'grated_cheese_sack', 'grater', 'gravy_boat', 'greenery', 'green_bean', 'green_onion', 'griddle', 'grill', 'grocery_cupboard', 'grocery_shelf', 'ground_beef_package', 'guitar', 'gym_mat', 'gym_shoe', 'hairbrush', 'hair_dryer', 'half_agave', 'half_apple', 'half_apple_pie', 'half_apricot', 'half_arepa', 'half_artichoke', 'half_arugula', 'half_asparagus', 'half_auricularia', 'half_avocado', 'half_bacon', 'half_bagel', 'half_bagel_dough', 'half_baguette', 'half_banana', 'half_banana_bread', 'half_bay_leaf', 'half_bean_curd', 'half_beefsteak_tomato', 'half_beet', 'half_bell_pepper', 'half_biscuit_dough', 'half_blackberry', 'half_bleu', 'half_bok_choy', 'half_branch', 'half_bratwurst', 'half_brisket', 'half_broccoli', 'half_broccolini', 'half_broccoli_rabe', 'half_brownie', 'half_brussels_sprouts', 'half_burrito', 'half_butter', 'half_buttermilk_pancake', 'half_butternut_squash', 'half_butter_cookie', 'half_candied_yam', 'half_cantaloup', 'half_cardstock', 'half_carrot', 'half_cauliflower', 'half_celery', 'half_chanterelle', 'half_chard', 'half_cheddar', 'half_cheesecake', 'half_cheese_danish', 'half_cheese_tart', 'half_cherry', 'half_cherry_tomato', 'half_chestnut', 'half_chicken', 'half_chicken_breast', 'half_chicken_leg', 'half_chicken_tender', 'half_chicken_wing', 'half_chili', 'half_chives', 'half_chocolate_biscuit', 'half_chocolate_cake', 'half_chocolate_chip_cookie', 'half_chocolate_cookie_dough', 'half_chorizo', 'half_cinnamon_roll', 'half_club_sandwich', 'half_coconut_fruit', 'half_cold_cuts', 'half_cookie_dough', 'half_crab', 'half_crawfish', 'half_croissant', 'half_cucumber', 'half_cupcake', 'half_date', 'half_doughnut', 'half_dried_apricot', 'half_duck', 'half_durian', 'half_edible_cookie_dough', 'half_eggplant', 'half_enchilada', 'half_fennel', 'half_feta', 'half_fillet', 'half_french_fries', 'half_french_toast', 'half_fruitcake', 'half_garlic', 'half_garlic_bread', 'half_garlic_clove', 'half_gelatin', 'half_gingerbread', 'half_ginger_root', 'half_gooseberry', 'half_gourd', 'half_granola_bar', 'half_grapefruit', 'half_green_bean', 'half_green_onion', 'half_hamburger', 'half_hamburger_bun', 'half_ham_hock', 'half_hard_boiled_egg', 'half_hazelnut', 'half_head_cabbage', 'half_hotdog', 'half_hotdog_bun', 'half_hotdog_frank', 'half_kabob', 'half_kale', 'half_kielbasa', 'half_kiwi', 'half_lamb', 'half_leaf', 'half_leek', 'half_lemon', 'half_lettuce', 'half_lime', 'half_lobster', 'half_log', 'half_macaroon', 'half_mango', 'half_marshmallow', 'half_meatball', 'half_meat_loaf', 'half_mozzarella', 'half_muffin', 'half_mushroom', 'half_mustard_leaf', 'half_nectarine', 'half_olive', 'half_omelet', 'half_orange', 'half_oyster', 'half_papaya', 'half_parsley', 'half_parsnip', 'half_pastry', 'half_peach', 'half_pear', 'half_peppermint', 'half_peppermint_candy', 'half_pepperoni', 'half_pickle', 'half_pineapple', 'half_pita', 'half_pizza', 'half_pizza_dough', 'half_plum', 'half_pomegranate', 'half_pomelo', 'half_pork', 'half_pork_chop', 'half_pork_rib', 'half_potato', 'half_pretzel', 'half_prosciutto', 'half_pumpkin', 'half_quail_breast', 'half_quiche', 'half_radish', 'half_ramen', 'half_rhubarb', 'half_roll_dough', 'half_rope', 'half_rosehip', 'half_rutabaga', 'half_salmon', 'half_scone', 'half_shiitake', 'half_shrimp', 'half_snapper', 'half_sourdough', 'half_spice_cookie', 'half_spice_cookie_dough', 'half_spinach', 'half_squid', 'half_steak', 'half_strawberry', 'half_sugar_cookie', 'half_sugar_cookie_dough', 'half_sunflower', 'half_sushi', 'half_sweet_corn', 'half_swiss_cheese', 'half_taco', 'half_tenderloin', 'half_tiramisu', 'half_toast', 'half_tofu', 'half_tortilla', 'half_tortilla_chip', 'half_trout', 'half_tulip', 'half_tuna', 'half_turkey', 'half_turkey_leg', 'half_vanilla_flower', 'half_veal', 'half_venison', 'half_vidalia_onion', 'half_virginia_ham', 'half_waffle', 'half_walnut', 'half_watermelon', 'half_white_turnip', 'half_wrapping_paper', 'half_zucchini', 'hall_tree', 'hamburger', 'hamburger_bun', 'hammam_bench', 'hammer', 'hammock', 'hamper', 'hamster_wheel', 'ham_hock', 'handle', 'handset', 'hand_dryer', 'hand_towel', 'hanger', 'hanging', 'hanging_banners', 'hanging_basket', 'hanging_plant', 'hardback', 'hard_boiled_egg', 'hard_candy', 'hard_drive', 'hat', 'hazelnut', 'headset', 'headstone', 'head_cabbage', 'heap_of_granola', 'heap_of_gravel', 'heap_of_raisins', 'heatgun', 'herbicide_bottle', 'highchair', 'high_heel', 'hiking_boot', 'hinge', 'hitch', 'hockey_puck', 'hockey_stick', 'hoe', 'holly_decoration', 'honey_jar', 'honing_steel', 'hoodie', 'hook', 'hose', 'hose_cart', 'hospital_bed', 'hotdog', 'hotdog_bun', 'hotdog_frank', 'hot_sauce_bottle', 'hot_tub', 'hourglass', 'hummus_box', 'hutch', 'hydrogen_peroxide_bottle', 'ice', 'ice_bucket', 'ice_cream_carton', 'ice_cream_cone', 'ice_cube', 'ice_lolly', 'ice_tray', 'icicle_lights', 'infant_car_seat', 'information_bulletin', 'inhaler', 'ink_bottle', 'insectifuge_atomizer', 'instant_coffee_jar', 'instant_pot', 'iron', 'ironing_board', 'isopropanol_dispenser', 'jacket', 'jade', 'jade_roller', 'jam_dispenser', 'jar', 'jar_of_bath_salt', 'jar_of_chilli_powder', 'jar_of_clove', 'jar_of_cocoa', 'jar_of_coffee', 'jar_of_cumin', 'jar_of_curry_powder', 'jar_of_dill_seed', 'jar_of_grains', 'jar_of_honey', 'jar_of_jam', 'jar_of_jelly', 'jar_of_kidney_beans', 'jar_of_mayonnaise', 'jar_of_orange_jam', 'jar_of_orange_sauce', 'jar_of_pepper', 'jar_of_peppercorns', 'jar_of_pepper_seasoning', 'jar_of_puree', 'jar_of_sesame_seed', 'jar_of_spaghetti_sauce', 'jar_of_strawberry_jam', 'jar_of_sugar', 'jar_of_tumeric', 'jeans', 'jelly_bean_jar', 'jelly_jar', 'jersey', 'jigger', 'jigsaw_puzzle', 'jigsaw_puzzle_piece', 'jimmies_jar', 'joystick', 'jug', 'jug_of_milk', 'juicer', 'jukebox', 'kabob', 'kale', 'kayak', 'kayak_rack', 'kebab', 'kettle', 'key', 'keyboard', 'keys', 'key_chain', 'kid_glove', 'kielbasa', 'kitchen_analog_scale', 'kiwi', 'knife_block', 'lab_exhaust_hood', 'lab_table', 'lace', 'ladder', 'lamb', 'lampshade', 'laptop', 'lasagna', 'lawn', 'lawn_mower', 'leaf', 'leaf_blower', 'leek', 'legal_document', 'legging', 'lemon', 'lemonade_bottle', 'lemon_juice_bottle', 'lemon_peel', 'lemon_pepper_seasoning_shaker', 'lens', 'leotard', 'letter', 'lettuce', 'license_plate', 'lid', 'life_jacket', 'lighter', 'light_bulb', 'lily', 'lily_pad', 'lime', 'lime_juice_bottle', 'lingerie', 'lint_roller', 'lint_screen', 'lipstick', 'lip_balm', 'liquid_carton', 'liquid_soap_bottle', 'litter_box', 'lobster', 'lock', 'locker', 'log', 'loin', 'lollipop', 'longboard', 'loofah', 'lorry', 'loudspeaker', 'low_resolution_tree', 'lubricant_bottle', 'lunch_box', 'l_shaped_handle', 'macaron', 'mac_and_cheese', 'magazine', 'magazine_rack', 'magnetic_stirrer', 'magnifying_glass', 'mail', 'mailbox', 'maillot', 'mallet', 'mango', 'mannequin', 'map', 'maple_syrup_jar', 'margarine_box', 'marigold', 'marinara_jar', 'marjoram_shaker', 'marker', 'marshmallow', 'masking_tape', 'massage_bed', 'mat', 'match', 'match_box', 'mattress', 'measuring_cup', 'meatball', 'meat_loaf', 'meat_thermometer', 'menu', 'metal_bottom_cabinet', 'microfiber_cloth', 'microphone', 'microscope', 'microwave', 'milk_carton', 'mint', 'mirror', 'mixing_bowl', 'modem', 'money', 'monitor', 'mop', 'mop_bucket', 'mortar', 'moth_ball', 'motion_sensor', 'motorcycle', 'mouse', 'mousepad', 'mousetrap', 'mozzarella', 'muffin', 'mug', 'mulch_bag', 'mushroom', 'music_stool', 'mussel', 'mustard_bottle', 'mustard_leaf', 'mustard_seed_shaker', 'name_tag', 'national_flag', 'nativity_figurine', 'necklace', 'necktie', 'nectarine', 'newspaper', 'nickel', 'nightstand', 'noodle_jar', 'notebook', 'notepad', 'nutmeg_shaker', 'oat_box', 'octopus', 'oden_cooker', 'oil_bottle', 'okra', 'olive', 'olive_oil_bottle', 'omelet', 'onesie', 'onion_powder_shaker', 'open_air_cooler', 'open_end_wrench', 'orange', 'orange_juice_carton', 'ottoman', 'outlet', 'outline_tray', 'outline_vase', 'oven', 'oyster', 'package', 'packing_box', 'pack_of_bread', 'pack_of_chocolate_bar', 'pack_of_cigarettes', 'pack_of_ground_beef', 'pack_of_kielbasa', 'pack_of_pasta', 'pack_of_protein_powder', 'pack_of_ramen', 'paddle', 'paintbrush', 'painting', 'paint_roller', 'pajamas', 'pallet', 'pants', 'papaya', 'paperback_book', 'paper_bag', 'paper_clip', 'paper_coffee_filter', 'paper_cup', 'paper_lantern', 'paper_liners', 'paper_sheet', 'paper_towel', 'paper_towel_dispenser', 'paper_towel_holder', 'paprika_shaker', 'paraffin_wax', 'parallel_bars', 'parer', 'parmesan_shaker', 'parsley', 'parsnip', 'pasta_box', 'pasta_server', 'pastry', 'pastry_cutter', 'patty', 'paving_stone', 'pay_phone', 'peach', 'peanut_butter_jar', 'peanut_nut', 'pear', 'pearl', 'pea_pod', 'pebble', 'pedestal', 'pedestal_table', 'pegboard', 'pellet', 'pellet_food_bag', 'pen', 'pencil', 'pencil_box', 'pencil_case', 'pencil_holder', 'pennant', 'penny', 'peppermint', 'peppermint_candy', 'pepperoni', 'pepper_grinder', 'pepper_shaker', 'pergola', 'periodic_table', 'pesticide_atomizer', 'pestle', 'petfood_bag', 'petri_dish', 'pet_bed', 'pewter_teapot', 'phonograph_record', 'photocopier', 'piano', 'pickle', 'pickup_truck', 'picture', 'picture_frame', 'pillar', 'pillar_candle', 'pillow', 'pillowcase', 'pill_bottle', 'pineapple', 'pineapple_juice_carton', 'pine_cone', 'pipe', 'pipe_cleaner', 'pita', 'pitcher', 'pizza', 'pizza_box', 'pizza_dough', 'place_mat', 'plant_pot', 'plant_pot_stand', 'plant_stem', 'plastic_bag', 'plastic_wrap', 'plate', 'platter', 'playground', 'plier', 'plug', 'plum', 'plywood', 'pocketknife', 'poinsettia', 'poker', 'pole', 'polish_bottle', 'polo_shirt', 'pomegranate', 'pomelo', 'pommel_horse', 'pool_ball', 'pool_stick', 'pool_table', 'popcorn_bag', 'popcorn_machine', 'pop_case', 'pork', 'pork_chop', 'pork_rib', 'portafilter', 'portrait', 'postage_stamp', 'postcard', 'poster', 'poster_roll', 'post_it', 'potato', 'potato_masher', 'pottable_beefsteak_tomato', 'pottable_cactus', 'pottable_chili', 'pottable_daffodil', 'pottable_dahlia', 'pottable_marigold', 'pot_plant', 'power_drill', 'power_strip', 'power_washer', 'pressure_cooker', 'pretzel', 'price_tag', 'printer', 'projection_screen', 'projector', 'prosciutto', 'pruner', 'pump', 'pumpkin', 'pumpkin_seed_bag', 'punching_bag', 'putty_knife', 'quail_breast', 'quail_breast_raw', 'quail_leg', 'quarter', 'quartz', 'quiche', 'quilt', 'radiator', 'radio', 'radish', 'rag', 'railing', 'rail_fence', 'raincoat', 'raisin_box', 'rake', 'ramen', 'range_hood', 'raspberry', 'raw_egg', 'razor', 'reagent_bottle', 'receipt', 'reception_desk', 'recreational_vehicle', 'recycling_bin', 'reed_diffuser', 'refried_beans_can', 'retainer', 'rhubarb', 'rib', 'ribbon', 'rice_cooker', 'ring', 'ripsaw', 'roasting_pan', 'rocking_chair', 'rolling_pin', 'roll_dough', 'roof', 'room_divider', 'room_light', 'room_ventilator', 'rope', 'rose', 'rosehip', 'rosemary_shaker', 'round_bottom_flask', 'router', 'rubber_boot', 'rubber_eraser', 'rubber_glove', 'rubbing_alcohol_atomizer', 'ruby', 'ruler', 'rum_bottle', 'rutabaga', 'saddle_soap_bottle', 'saffron_shaker', 'sage_shaker', 'salad', 'salmon', 'salsa_bottle', 'salt_bottle', 'salt_shaker', 'sandal', 'sandbox', 'sanitary_napkin', 'saucepan', 'saucepot', 'saucer', 'sauna_bench', 'sauna_heater', 'sauna_suit', 'saxophone', 'scallop', 'scanner', 'scarf', 'schnitzel', 'scone', 'scoop', 'scoop_of_ice_cream', 'scoreboard', 'scraper', 'screw', 'screwdriver', 'scrub_brush', 'sealant_atomizer', 'seashell', 'security_camera', 'serving_cart', 'sesame_oil_bottle', 'sesame_seed_shaker', 'set_triangle', 'shaker', 'shampoo_bottle', 'shampoo_dispenser', 'shears', 'shelf', 'shelf_back_panel', 'shelf_baseboard', 'shelf_shelf', 'shelf_side', 'shelf_top', 'shiitake', 'shoe_box', 'shoe_rack', 'shopping_basket', 'shopping_cart', 'shortening_carton', 'shorts', 'shoulder_bag', 'shovel', 'shower', 'showerhead', 'shower_stall', 'shredder', 'shrimp', 'shutter', 'sieve', 'signpost', 'silver_coins', 'sink', 'skateboard_deck', 'skateboard_wheel', 'skates', 'skeletal_frame', 'ski', 'skiff', 'skimmer', 'skirt', 'skyrocket', 'sleeping_bag', 'sliced_brisket', 'sliced_chocolate_cake', 'sliced_cucumber', 'sliced_eggplant', 'sliced_lemon', 'sliced_lime', 'sliced_melon', 'sliced_onion', 'sliced_papaya', 'sliced_roast_beef', 'sliced_tomato', 'slingback', 'smoker', 'snack_rack', 'snapper', 'snow_globe', 'soap_bottle', 'soap_dish', 'soap_dispenser', 'soccer_ball', 'sock', 'sod', 'soda_can', 'soda_cup', 'soda_water_bottle', 'sodium_carbonate_jar', 'sofa', 'softball', 'soft_roll', 'soil_bag', 'solvent_bottle', 'sound_system', 'soup_ladle', 'sourdough', 'soybean', 'soy_sauce_bottle', 'space_heater', 'sparkler', 'spatula', 'speaker_system', 'specimen_bottle', 'spice_cookie', 'spice_cookie_dough', 'spinach', 'spirit_lamp', 'sponge', 'spotlight', 'spray_bottle', 'spray_can', 'spray_paint_can', 'square_light', 'squeegee', 'squeeze_bottle', 'squid', 'stadium_stand', 'stairs', 'stake', 'stand', 'standing_tv', 'staple', 'stapler', 'star_anise', 'statue', 'steak', 'steamer_basket', 'steel_wool', 'sticker', 'sticky_note', 'stocking', 'stockpot', 'stone_wall', 'storage_box', 'storage_organizer', 'stove', 'straight_chair', 'straight_pin', 'straw', 'strawberry', 'stroller', 'structural_element', 'sugar_cookie', 'sugar_cookie_dough', 'sugar_cube', 'sugar_sack', 'sugar_syrup_bottle', 'suitcase', 'sunflower', 'sunflower_seed_bag', 'sunglasses', 'sushi', 'sweatshirt', 'sweet_corn', 'swimming_pool', 'swing', 'swiss_cheese', 'swivel_chair', 'syringe', 'tablecloth', 'tablefork', 'tablespoon', 'tablet', 'table_knife', 'table_lamp', 'table_runner', 'taboret', 'tackle_box', 'taco', 'tag', 'tank', 'tank_top', 'tarp', 'tartlet', 'tassel', 'teacup', 'teapot', 'teaspoon', 'tea_bag', 'teddy_bear', 'tenderloin', 'tennis_ball', 'tennis_racket', 'tent', 'terrarium', 'test_tube', 'test_tube_clamp', 'test_tube_holder', 'test_tube_rack', 'textbook', 'thermostat', 'thumbtack', 'thyme_shaker', 'ticket', 'tights', 'tile', 'tinsel', 'tiramisu', 'tissue_dispenser', 'toast', 'toaster', 'toaster_oven', 'toasting_fork', 'tobacco_pipe', 'tofu', 'toilet', 'toilet_paper', 'toilet_paper_dispenser', 'toilet_paper_holder', 'toilet_soap_bottle', 'tomato_paste_can', 'tomato_sauce_jar', 'tongs', 'toolbox', 'toothbrush', 'toothpick', 'top_cabinet', 'tortilla', 'tortilla_chips', 'tote', 'towel_rack', 'toy_box', 'toy_car', 'toy_dice', 'toy_figure', 'toy_train', 'trailer_truck', 'trampoline', 'trampoline_leg', 'trampoline_top', 'trash_can', 'tray', 'treadmill', 'tree', 'trombone', 'trophy', 'trout', 'trowel', 'trumpet', 'tube_of_lotion', 'tube_of_toothpaste', 'tulip', 'tuna', 'tupperware', 'turkey', 'turkey_leg', 'turnstile', 'tweezers', 'twine', 't_shirt', 'umbrella', 'umbrella_rack', 'urinal', 'utility_knife', 'vacuum', 'valentine_wreath', 'van', 'vanilla_bottle', 'vanilla_flower', 'vase', 'veal', 'vegetable_peeler', 'vending_machine', 'venison', 'vest', 'vidalia_onion', 'video_game', 'vinegar_atomizer', 'vinegar_bottle', 'violin', 'violin_case', 'virginia_ham', 'vodka_bottle', 'volleyball', 'volleyball_net', 'wading_pool', 'wafer', 'waffle', 'waffle_maker', 'walker', 'wallet', 'walls', 'wall_clock', 'wall_mounted_light', 'wall_mounted_loudspeaker', 'wall_mounted_shelf', 'wall_mounted_soap_dispenser', 'wall_mounted_tv', 'wall_nail', 'wall_socket', 'walnut', 'wardrobe', 'washer', 'watch', 'watering_can', 'watermelon', 'water_atomizer', 'water_bottle', 'water_cooler', 'water_dispenser', 'water_filter', 'water_glass', 'wax_paper', 'webcam', 'weed', 'weight_bar', 'wheelbarrow', 'whetstone', 'whipped_cream_atomizer', 'whisk', 'whiskey_bottle', 'whiskey_stone', 'whistle', 'whiteboard', 'whitewall_tire', 'white_chocolate', 'white_rice_sack', 'white_sauce_bottle', 'white_turnip', 'wicker_basket', 'window', 'window_blind', 'windshield', 'wind_chime', 'wineglass', 'wine_bottle', 'wine_fridge', 'wine_sauce_bottle', 'wire_cutter', 'wok', 'wooden_spoon', 'wool_coat', 'work_helmet', 'wrapped_hamburger', 'wrapping_paper', 'wreath', 'yeast_jar', 'yeast_shaker', 'yoga_mat', 'yogurt_carton', 'zipper', 'zucchini']\n"
     ]
    }
   ],
   "source": [
    "files = [pathlib.Path(f).stem for f in glob.glob(r\"D:\\ig_pipeline\\qa-merged\\*\")]\n",
    "print(files)"
   ]
  },
  {
   "cell_type": "code",
   "execution_count": 16,
   "metadata": {},
   "outputs": [],
   "source": [
    "batch_count = 20\n",
    "seed = \"potato\"\n",
    "batches = []\n",
    "cat_to_batch = {}\n",
    "for i in range(batch_count):\n",
    "    batch = [cat for cat in files if int(hashlib.md5((cat + seed).encode()).hexdigest(), 16) % batch_count == i]\n",
    "    batches.append(batch)\n",
    "    for cat in batch:\n",
    "        cat_to_batch[cat] = i"
   ]
  },
  {
   "cell_type": "code",
   "execution_count": 30,
   "metadata": {},
   "outputs": [
    {
     "data": {
      "text/plain": [
       "6"
      ]
     },
     "execution_count": 30,
     "metadata": {},
     "output_type": "execute_result"
    }
   ],
   "source": [
    "cat_to_batch[\"hamper\"]"
   ]
  },
  {
   "cell_type": "code",
   "execution_count": 26,
   "metadata": {},
   "outputs": [],
   "source": [
    "import json\n",
    "bench_scales = {pathlib.Path(x).stem: json.loads(pathlib.Path(x).read_text())[\"scale\"] for cat in batches[14] for x in glob.glob(str(pathlib.Path(r\"D:\\ig_pipeline\\qa-merged\") / cat / \"*.json\"))}"
   ]
  },
  {
   "cell_type": "code",
   "execution_count": 29,
   "metadata": {},
   "outputs": [
    {
     "data": {
      "text/plain": [
       "{'cvknrh': [1.0, 1.0, 1.0],\n",
       " 'trwyaq': [1.0, 1.0, 1.0],\n",
       " 'vqwovi': [1.0, 1.0, 1.0],\n",
       " 'hhtbuy': [1.0, 1.0, 1.0],\n",
       " 'fntqmd': [1.0, 1.0, 1.0],\n",
       " 'rlejxx': [1.0, 1.0, 1.0],\n",
       " 'ixhbmk': [1.0, 1.0, 1.0],\n",
       " 'ivmsdt': [1.0, 1.0, 1.0],\n",
       " 'jfsovh': [1.0, 1.0, 1.0],\n",
       " 'ldpbcu': [1.0, 1.0, 1.0],\n",
       " 'omsbux': [1.0, 1.0, 1.0],\n",
       " 'padfds': [1.0, 1.0, 1.0],\n",
       " 'xeskbh': [1.0, 1.0, 1.0],\n",
       " 'ecqxgd': [1.0, 1.0, 1.0],\n",
       " 'adrvdv': [1.0, 1.0, 1.0],\n",
       " 'esagiq': [1.0, 1.0, 1.0],\n",
       " 'fdxevw': [1.0, 1.0, 1.0],\n",
       " 'ftvzzg': [1.0, 1.0, 1.0],\n",
       " 'hezgut': [1.0, 1.0, 1.0],\n",
       " 'jaklov': [1.0, 1.0, 1.0],\n",
       " 'jvygiq': [1.0, 1.0, 1.0],\n",
       " 'kpeeai': [1.0, 1.0, 1.0],\n",
       " 'nnzwxs': [1.0, 1.0, 1.0],\n",
       " 'nokayw': [1.0, 1.0, 1.0],\n",
       " 'nzsfrw': [1.0, 1.0, 1.0],\n",
       " 'pcymmc': [1.0, 1.0, 1.0],\n",
       " 'pfjnnj': [1.0, 1.0, 1.0],\n",
       " 'qhuvow': [1.0, 1.0, 1.0],\n",
       " 'sfglvm': [1.0, 1.0, 1.0],\n",
       " 'sihckt': [1.0, 1.0, 1.0],\n",
       " 'sntjne': [1.0, 1.0, 1.0],\n",
       " 'svnyht': [1.0, 1.0, 1.0],\n",
       " 'uuhugq': [1.0, 1.0, 1.0],\n",
       " 'wtkahs': [1.0, 1.0, 1.0],\n",
       " 'wvtbnn': [1.0, 1.0, 1.0],\n",
       " 'xwphjd': [1.0, 1.0, 1.0],\n",
       " 'ybkjzd': [1.0, 1.0, 1.0],\n",
       " 'yldwmi': [1.0, 1.0, 1.0],\n",
       " 'zfpjkj': [1.0, 1.0, 1.0],\n",
       " 'htcikj': [1.0, 1.0, 1.0],\n",
       " 'eoywpy': [1.0, 1.0, 1.0],\n",
       " 'frgdqh': [1.0, 1.0, 1.0],\n",
       " 'fzyuip': [1.0, 1.0, 1.0],\n",
       " 'gcfkqa': [1.0, 1.0, 1.0],\n",
       " 'gumkqh': [1.0, 1.0, 1.0],\n",
       " 'ibzhzu': [1.0, 1.0, 1.0],\n",
       " 'iqfvfl': [1.0, 1.0, 1.0],\n",
       " 'lzslbu': [1.0, 1.0, 1.0],\n",
       " 'nfewft': [1.0, 1.0, 1.0],\n",
       " 'ovttum': [1.0, 1.0, 1.0],\n",
       " 'phwwnx': [1.0, 1.0, 1.0],\n",
       " 'qdkyzl': [1.0, 1.0, 1.0],\n",
       " 'qgvsnb': [1.0, 1.0, 1.0],\n",
       " 'rgvkmy': [1.0, 1.0, 1.0],\n",
       " 'twkglv': [1.0, 1.0, 1.0],\n",
       " 'vbamua': [1.0, 1.0, 1.0],\n",
       " 'ucnmax': [1.0, 1.0, 1.0],\n",
       " 'kzvkyp': [1.0, 1.0, 1.0],\n",
       " 'ueanhf': [1.0, 1.0, 1.0],\n",
       " 'nrdgrp': [1.0, 1.0, 1.0],\n",
       " 'qzzett': [1.0, 1.0, 1.0],\n",
       " 'cizogj': [1.0, 1.0, 1.0],\n",
       " 'lfygch': [1.0, 1.0, 1.0],\n",
       " 'rjsibn': [1.0, 1.0, 1.0],\n",
       " 'abpqcs': [1.0, 1.0, 1.0],\n",
       " 'azjfky': [1.0, 1.0, 1.0],\n",
       " 'hxrhoc': [1.0, 1.0, 1.0],\n",
       " 'iohsjz': [1.0, 1.0, 1.0],\n",
       " 'ojvfmv': [1.0, 1.0, 1.0],\n",
       " 'qfrurx': [1.0, 1.0, 1.0],\n",
       " 'rczpdw': [1.0, 1.0, 1.0],\n",
       " 'tuzwhy': [1.0, 1.0, 1.0],\n",
       " 'wsxavx': [1.0, 1.0, 1.0],\n",
       " 'gknfxt': [1.0, 1.0, 1.0],\n",
       " 'jkzyfr': [1.0, 1.0, 1.0],\n",
       " 'pflmbv': [1.0, 1.0, 1.0],\n",
       " 'kwmmty': [1.0, 1.0, 1.0],\n",
       " 'hrehue': [1.0, 1.0, 1.0],\n",
       " 'xkfnrj': [1.0, 1.0, 1.0],\n",
       " 'fwstpx': [1.0, 1.0, 1.0],\n",
       " 'gbdzls': [1.0, 1.0, 1.0],\n",
       " 'dbhfuh': [1.0, 1.0, 1.0],\n",
       " 'lencii': [1.0, 1.0, 1.0],\n",
       " 'lkltpa': [1.0, 1.0, 1.0],\n",
       " 'fmomat': [1.0, 1.0, 1.0],\n",
       " 'gjbnba': [1.0, 1.0, 1.0],\n",
       " 'tairrn': [1.0, 1.0, 1.0],\n",
       " 'tulvpb': [1.0, 1.0, 1.0],\n",
       " 'agecro': [1.0, 1.0, 1.0],\n",
       " 'pbbkpz': [1.0, 1.0, 1.0],\n",
       " 'rafkbt': [1.0, 1.0, 1.0],\n",
       " 'xhbpqh': [1.0, 1.0, 1.0],\n",
       " 'kfeuep': [1.0, 1.0, 1.0],\n",
       " 'arjpcz': [1.0, 1.0, 1.0],\n",
       " 'httqaj': [1.0, 1.0, 1.0],\n",
       " 'oyqdtz': [1.0, 1.0, 1.0],\n",
       " 'dnweyo': [1.0, 1.0, 1.0],\n",
       " 'ieihld': [1.0, 1.0, 1.0],\n",
       " 'gbaons': [0.4665073802097334, 0.4665073802097334, 0.4665073802097334],\n",
       " 'ghctun': [1.0, 1.0, 1.0],\n",
       " 'mxjejs': [1.0, 1.0, 1.0],\n",
       " 'poexjo': [1.0, 1.0, 1.0],\n",
       " 'ozykxk': [1.0, 1.0, 1.0],\n",
       " 'prewfi': [1.0, 1.0, 1.0],\n",
       " 'uyixwc': [1.0, 1.0, 1.0],\n",
       " 'jtrbkc': [1.0, 1.0, 1.0],\n",
       " 'ficvss': [1.0, 1.0, 1.0],\n",
       " 'ddjzqg': [1.0, 1.0, 1.0],\n",
       " 'putkli': [1.0, 1.0, 1.0],\n",
       " 'aeloou': [1.0, 1.0, 1.0],\n",
       " 'qetrvm': [1.0, 1.0, 1.0],\n",
       " 'mdaqot': [1.0, 1.0, 1.0],\n",
       " 'mnhwnp': [1.0, 1.0, 1.0],\n",
       " 'wjreyv': [1.0, 1.0, 1.0],\n",
       " 'fkbfdp': [1.0, 1.0, 1.0],\n",
       " 'wxqptp': [1.0, 1.0, 1.0],\n",
       " 'dajnau': [1.0, 1.0, 1.0],\n",
       " 'nvtssz': [1.0, 1.0, 1.0],\n",
       " 'khcjog': [1.0, 1.0, 1.0],\n",
       " 'qhmncb': [1.0, 1.0, 1.0],\n",
       " 'ategou': [1.0, 1.0, 1.0],\n",
       " 'xhyczf': [1.0, 1.0, 1.0],\n",
       " 'oecniy': [1.0, 1.0, 1.0],\n",
       " 'qvdvcz': [1.0, 1.0, 1.0],\n",
       " 'pdyexe': [1.0, 1.0, 1.0],\n",
       " 'tcsuum': [1.0, 1.0, 1.0],\n",
       " 'eokxzc': [1.0, 1.0, 1.0],\n",
       " 'kkctir': [1.0, 1.0, 1.0],\n",
       " 'quszcu': [1.0, 1.0, 1.0],\n",
       " 'rkbfvr': [1.0, 1.0, 1.0],\n",
       " 'qecwzm': [1.0, 1.0, 1.0],\n",
       " 'hvqdow': [1.0, 1.0, 1.0],\n",
       " 'jkrbjp': [1.0, 1.0, 1.0],\n",
       " 'hbzolq': [1.0, 1.0, 1.0],\n",
       " 'xuxpbr': [1.0, 1.0, 1.0],\n",
       " 'mawcog': [1.0, 1.0, 1.0],\n",
       " 'ndohjv': [1.0, 1.0, 1.0],\n",
       " 'ojbzln': [1.0, 1.0, 1.0],\n",
       " 'olcdif': [1.0, 1.0, 1.0],\n",
       " 'tqohvs': [1.0, 1.0, 1.0],\n",
       " 'htqifz': [1.0, 1.0, 1.0],\n",
       " 'omckzr': [1.0, 1.0, 1.0],\n",
       " 'nuzkuf': [1.0, 1.0, 1.0],\n",
       " 'wbnkfk': [1.0, 1.0, 1.0],\n",
       " 'lbwpka': [1.0, 1.0, 1.0],\n",
       " 'mjcbfc': [1.0, 1.0, 1.0],\n",
       " 'bpxhso': [1.0, 1.0, 1.0],\n",
       " 'tsktnz': [1.0, 1.0, 1.0],\n",
       " 'vyfehw': [1.0, 1.0, 1.0],\n",
       " 'gjgwvi': [1.0, 1.0, 1.0],\n",
       " 'hjjeeh': [1.0, 1.0, 1.0],\n",
       " 'llexze': [1.0, 1.0, 1.0],\n",
       " 'pvxfot': [1.0, 1.0, 1.0],\n",
       " 'quzmfw': [1.0, 1.0, 1.0],\n",
       " 'sdlkyk': [1.0, 1.0, 1.0],\n",
       " 'qsdqik': [1.0, 1.0, 1.0],\n",
       " 'ehkwjg': [1.0, 1.0, 1.0],\n",
       " 'fhhuic': [1.0, 1.0, 1.0],\n",
       " 'fkaapx': [1.0, 1.0, 1.0],\n",
       " 'huvmgu': [1.0, 1.0, 1.0],\n",
       " 'pepele': [1.0, 1.0, 1.0],\n",
       " 'rlhqcm': [1.0, 1.0, 1.0],\n",
       " 'sboyet': [1.0, 1.0, 1.0],\n",
       " 'tujlga': [1.0, 1.0, 1.0],\n",
       " 'ubcyhk': [1.0, 1.0, 1.0],\n",
       " 'ujwecs': [1.0, 1.0, 1.0],\n",
       " 'wdablp': [1.0, 1.0, 1.0],\n",
       " 'uudvib': [1.0, 1.0, 1.0],\n",
       " 'vtvqwc': [1.0, 1.0, 1.0],\n",
       " 'clyiol': [1.0, 1.0, 1.0],\n",
       " 'wigtue': [1.0, 1.0, 1.0],\n",
       " 'mdcnha': [1.0, 1.0, 1.0],\n",
       " 'wnfyin': [1.0, 1.0, 1.0],\n",
       " 'xfciuu': [1.0, 1.0, 1.0],\n",
       " 'csvdbe': [1.0, 1.0, 1.0],\n",
       " 'wsasmm': [1.0, 1.0, 1.0],\n",
       " 'drqtci': [1.0, 1.0, 1.0],\n",
       " 'kilkpz': [1.0, 1.0, 1.0],\n",
       " 'klgses': [1.0, 1.0, 1.0],\n",
       " 'poplsu': [1.0, 1.0, 1.0],\n",
       " 'tgqodl': [1.0, 1.0, 1.0],\n",
       " 'vfuilh': [1.0, 1.0, 1.0],\n",
       " 'chviag': [1.0, 1.0, 1.0],\n",
       " 'glyeot': [1.0, 1.0, 1.0],\n",
       " 'umcfkh': [1.0, 1.0, 1.0],\n",
       " 'phgkmn': [1.0, 1.0, 1.0],\n",
       " 'hsejyi': [1.0, 1.0, 1.0],\n",
       " 'gswpdr': [1.0, 1.0, 1.0],\n",
       " 'idsani': [1.0, 1.0, 1.0],\n",
       " 'quxcke': [1.0, 1.0, 1.0],\n",
       " 'vfncga': [1.0, 1.0, 1.0],\n",
       " 'wmiodz': [1.0, 1.0, 1.0],\n",
       " 'gzcqwx': [1.0, 1.0, 1.0],\n",
       " 'kdlbbq': [1.0, 1.0, 1.0],\n",
       " 'aelksc': [1.0, 1.0, 1.0],\n",
       " 'aoqsbu': [1.0, 1.0, 1.0],\n",
       " 'bfehsl': [1.0, 1.0, 1.0],\n",
       " 'cwdngq': [1.0, 1.0, 1.0],\n",
       " 'dkpfys': [0.25937424601000014, 0.25937424601000014, 0.25937424601000014],\n",
       " 'dxyfxf': [1.0, 1.0, 1.0],\n",
       " 'eqnopt': [1.0, 1.0, 1.0],\n",
       " 'gffrzl': [1.0, 1.0, 1.0],\n",
       " 'ggfznh': [1.0, 1.0, 1.0],\n",
       " 'hviblz': [1.0, 1.0, 1.0],\n",
       " 'leeqgt': [1.0, 1.0, 1.0],\n",
       " 'nmquap': [1.0, 1.0, 1.0],\n",
       " 'ovzajm': [1.0, 1.0, 1.0],\n",
       " 'pghmyr': [1.0, 1.0, 1.0],\n",
       " 'rifpjo': [1.0, 1.0, 1.0],\n",
       " 'sodbbr': [1.0, 1.0, 1.0],\n",
       " 'uvlqsl': [1.0, 1.0, 1.0],\n",
       " 'xldpbf': [1.0, 1.0, 1.0],\n",
       " 'ylvjhb': [1.0, 1.0, 1.0],\n",
       " 'zesqym': [1.0, 1.0, 1.0],\n",
       " 'xiwkwz': [1.0, 1.0, 1.0]}"
      ]
     },
     "execution_count": 29,
     "metadata": {},
     "output_type": "execute_result"
    }
   ],
   "source": [
    "bench_scales"
   ]
  },
  {
   "cell_type": "code",
   "execution_count": 31,
   "metadata": {},
   "outputs": [],
   "source": [
    "# Average number of changed scales by batch\n",
    "batches_scales = [\n",
    "  {pathlib.Path(x).stem: json.loads(pathlib.Path(x).read_text())[\"scale\"] for cat in batch for x in glob.glob(str(pathlib.Path(r\"D:\\ig_pipeline\\qa-merged\") / cat / \"*.json\"))}\n",
    "  for batch in batches\n",
    "]"
   ]
  },
  {
   "cell_type": "code",
   "execution_count": 34,
   "metadata": {},
   "outputs": [],
   "source": [
    "import numpy as np\n",
    "num_scaled = [\n",
    "  len([obj for obj, scale in batch_scales.items() if not np.allclose(scale, 1.0)]) / len(batch_scales)\n",
    "  for batch_scales in batches_scales\n",
    "]"
   ]
  },
  {
   "cell_type": "code",
   "execution_count": 37,
   "metadata": {},
   "outputs": [
    {
     "data": {
      "image/png": "[encoded data removed]",
      "text/plain": [
       "<Figure size 432x288 with 1 Axes>"
      ]
     },
     "metadata": {
      "needs_background": "light"
     },
     "output_type": "display_data"
    }
   ],
   "source": [
    "# Bar-plot the number of changed scales by batch\n",
    "import matplotlib.pyplot as plt\n",
    "plt.bar(range(batch_count), num_scaled)\n",
    "plt.xlabel(\"Batch\")\n",
    "plt.xticks(range(batch_count), range(batch_count))\n",
    "plt.ylabel(\"Fraction of objects with non-identity scale\")\n",
    "plt.show()"
   ]
  },
  {
   "cell_type": "code",
   "execution_count": null,
   "metadata": {},
   "outputs": [],
   "source": []
  }
 ],
 "metadata": {
  "language_info": {
   "name": "python"
  }
 },
 "nbformat": 4,
 "nbformat_minor": 2
}
