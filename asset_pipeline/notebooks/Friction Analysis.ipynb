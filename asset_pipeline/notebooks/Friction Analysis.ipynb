{
 "cells": [
  {
   "cell_type": "code",
   "execution_count": 2,
   "id": "89e9af17",
   "metadata": {},
   "outputs": [],
   "source": [
    "import trimesh, random\n",
    "from tqdm.notebook import tqdm\n",
    "import numpy as np\n",
    "import fs.osfs\n",
    "import fs.zipfs\n",
    "import fs.path\n",
    "import glob\n",
    "import pathlib"
   ]
  },
  {
   "cell_type": "code",
   "execution_count": 3,
   "id": "72346a19",
   "metadata": {},
   "outputs": [],
   "source": [
    "import matplotlib.pyplot as plt\n",
    "def display_stats(a, title):\n",
    "    _ = plt.hist(np.minimum(a, 64), bins=\"auto\")  # arguments are passed to np.histogram\n",
    "    plt.title(title)\n",
    "    # plt.xlabel(\"Collision mesh count\")\n",
    "    # plt.ylabel(\"# objects with this collision mesh count\")\n",
    "    plt.show()\n",
    "    print(\"Median\", np.median(a))\n",
    "    print(\"Mean\", np.mean(a))\n",
    "    print(\"Std\", np.std(a))\n",
    "    print(\"Max\", np.max(a))\n",
    "    print(\"Min\", np.min(a))"
   ]
  },
  {
   "cell_type": "code",
   "execution_count": 5,
   "id": "906f2d8a",
   "metadata": {},
   "outputs": [
    {
     "name": "stdout",
     "output_type": "stream",
     "text": [
      "1664\n"
     ]
    }
   ],
   "source": [
    "urdfs = glob.glob(r\"C:\\Users\\Cem\\research\\iGibson-dev\\igibson\\data\\ig_dataset\\objects\\*\\*\\*.urdf\")\n",
    "print(len(urdfs))"
   ]
  },
  {
   "cell_type": "code",
   "execution_count": 24,
   "id": "bf00b590",
   "metadata": {},
   "outputs": [
    {
     "name": "stdout",
     "output_type": "stream",
     "text": [
      "2491\n"
     ]
    }
   ],
   "source": [
    "import xml.etree.ElementTree as ET\n",
    "frictions = []\n",
    "for x in urdfs:\n",
    "    xml = ET.parse(x)\n",
    "    root = xml.getroot()"
   ]
  },
  {
   "cell_type": "markdown",
   "id": "99a32456",
   "metadata": {},
   "source": [
    "## Count Collision Hulls"
   ]
  },
  {
   "cell_type": "code",
   "execution_count": 26,
   "id": "05a23463",
   "metadata": {},
   "outputs": [
    {
     "data": {
      "application/vnd.jupyter.widget-view+json": {
       "model_id": "7f8f1ce547ee41219d18d9d84eeb16cb",
       "version_major": 2,
       "version_minor": 0
      },
      "text/plain": [
       "  0%|          | 0/2491 [00:00<?, ?it/s]"
      ]
     },
     "metadata": {},
     "output_type": "display_data"
    },
    {
     "name": "stderr",
     "output_type": "stream",
     "text": [
      "face_normals all zero, ignoring!\n",
      "face_normals all zero, ignoring!\n",
      "face_normals all zero, ignoring!\n",
      "face_normals all zero, ignoring!\n",
      "face_normals all zero, ignoring!\n",
      "face_normals all zero, ignoring!\n",
      "face_normals all zero, ignoring!\n",
      "face_normals all zero, ignoring!\n",
      "face_normals all zero, ignoring!\n",
      "face_normals all zero, ignoring!\n",
      "face_normals all zero, ignoring!\n",
      "face_normals all zero, ignoring!\n"
     ]
    },
    {
     "name": "stdout",
     "output_type": "stream",
     "text": [
      "/objects/window/tuztdv/shape/collision/window-tuztdv-link_1.obj has mesh with 102 vertices\n"
     ]
    },
    {
     "name": "stderr",
     "output_type": "stream",
     "text": [
      "face_normals all zero, ignoring!\n",
      "face_normals all zero, ignoring!\n",
      "face_normals all zero, ignoring!\n",
      "face_normals all zero, ignoring!\n",
      "face_normals all zero, ignoring!\n",
      "face_normals all zero, ignoring!\n",
      "face_normals all zero, ignoring!\n",
      "face_normals all zero, ignoring!\n",
      "face_normals all zero, ignoring!\n",
      "face_normals all zero, ignoring!\n",
      "face_normals all zero, ignoring!\n",
      "face_normals all zero, ignoring!\n",
      "face_normals all zero, ignoring!\n",
      "face_normals all zero, ignoring!\n",
      "face_normals all zero, ignoring!\n",
      "face_normals all zero, ignoring!\n",
      "face_normals all zero, ignoring!\n",
      "face_normals all zero, ignoring!\n",
      "face_normals all zero, ignoring!\n",
      "face_normals all zero, ignoring!\n",
      "face_normals all zero, ignoring!\n",
      "face_normals all zero, ignoring!\n",
      "face_normals all zero, ignoring!\n",
      "face_normals all zero, ignoring!\n",
      "face_normals all zero, ignoring!\n",
      "face_normals all zero, ignoring!\n",
      "face_normals all zero, ignoring!\n",
      "face_normals all zero, ignoring!\n",
      "face_normals all zero, ignoring!\n",
      "face_normals all zero, ignoring!\n",
      "face_normals all zero, ignoring!\n",
      "face_normals all zero, ignoring!\n",
      "face_normals all zero, ignoring!\n",
      "face_normals all zero, ignoring!\n",
      "face_normals all zero, ignoring!\n",
      "face_normals all zero, ignoring!\n",
      "face_normals all zero, ignoring!\n",
      "face_normals all zero, ignoring!\n",
      "face_normals all zero, ignoring!\n",
      "face_normals all zero, ignoring!\n",
      "face_normals all zero, ignoring!\n",
      "face_normals all zero, ignoring!\n",
      "face_normals all zero, ignoring!\n",
      "face_normals all zero, ignoring!\n",
      "face_normals all zero, ignoring!\n",
      "face_normals all zero, ignoring!\n",
      "face_normals all zero, ignoring!\n",
      "face_normals all zero, ignoring!\n",
      "face_normals all zero, ignoring!\n",
      "face_normals all zero, ignoring!\n",
      "face_normals all zero, ignoring!\n",
      "face_normals all zero, ignoring!\n",
      "face_normals all zero, ignoring!\n",
      "face_normals all zero, ignoring!\n",
      "face_normals all zero, ignoring!\n",
      "face_normals all zero, ignoring!\n",
      "face_normals all zero, ignoring!\n",
      "face_normals all zero, ignoring!\n",
      "face_normals all zero, ignoring!\n",
      "face_normals all zero, ignoring!\n",
      "face_normals all zero, ignoring!\n",
      "face_normals all zero, ignoring!\n",
      "face_normals all zero, ignoring!\n",
      "face_normals all zero, ignoring!\n",
      "face_normals all zero, ignoring!\n",
      "face_normals all zero, ignoring!\n",
      "face_normals all zero, ignoring!\n",
      "face_normals all zero, ignoring!\n",
      "face_normals all zero, ignoring!\n",
      "face_normals all zero, ignoring!\n",
      "face_normals all zero, ignoring!\n",
      "face_normals all zero, ignoring!\n",
      "face_normals all zero, ignoring!\n",
      "face_normals all zero, ignoring!\n",
      "face_normals all zero, ignoring!\n",
      "face_normals all zero, ignoring!\n",
      "face_normals all zero, ignoring!\n",
      "face_normals all zero, ignoring!\n",
      "face_normals all zero, ignoring!\n"
     ]
    },
    {
     "name": "stdout",
     "output_type": "stream",
     "text": [
      "/objects/swivel_chair/dqllma/shape/collision/swivel_chair-dqllma-base_link.obj has mesh with 109 vertices\n"
     ]
    },
    {
     "name": "stderr",
     "output_type": "stream",
     "text": [
      "face_normals all zero, ignoring!\n",
      "face_normals all zero, ignoring!\n",
      "face_normals all zero, ignoring!\n",
      "face_normals all zero, ignoring!\n",
      "face_normals all zero, ignoring!\n",
      "face_normals all zero, ignoring!\n",
      "face_normals all zero, ignoring!\n"
     ]
    },
    {
     "name": "stdout",
     "output_type": "stream",
     "text": [
      "/objects/electric_switch/hrwnhp/shape/collision/electric_switch-hrwnhp-base_link.obj has mesh with 109 vertices\n",
      "/objects/vinegar/snzyfk/shape/collision/vinegar-snzyfk-base_link.obj has mesh with 104 vertices\n",
      "/objects/vinegar/snzyfk/shape/collision/vinegar-snzyfk-base_link.obj has mesh with 108 vertices\n",
      "/objects/pea/iblyep/shape/collision/pea-iblyep-base_link.obj has mesh with 112 vertices\n"
     ]
    },
    {
     "name": "stderr",
     "output_type": "stream",
     "text": [
      "face_normals all zero, ignoring!\n",
      "face_normals all zero, ignoring!\n",
      "face_normals all zero, ignoring!\n",
      "face_normals all zero, ignoring!\n",
      "face_normals all zero, ignoring!\n",
      "face_normals all zero, ignoring!\n",
      "face_normals all zero, ignoring!\n",
      "face_normals all zero, ignoring!\n",
      "face_normals all zero, ignoring!\n",
      "face_normals all zero, ignoring!\n",
      "face_normals all zero, ignoring!\n",
      "face_normals all zero, ignoring!\n",
      "face_normals all zero, ignoring!\n",
      "face_normals all zero, ignoring!\n",
      "face_normals all zero, ignoring!\n",
      "face_normals all zero, ignoring!\n",
      "face_normals all zero, ignoring!\n",
      "face_normals all zero, ignoring!\n",
      "face_normals all zero, ignoring!\n",
      "face_normals all zero, ignoring!\n",
      "face_normals all zero, ignoring!\n",
      "face_normals all zero, ignoring!\n",
      "face_normals all zero, ignoring!\n",
      "face_normals all zero, ignoring!\n",
      "face_normals all zero, ignoring!\n",
      "face_normals all zero, ignoring!\n",
      "face_normals all zero, ignoring!\n",
      "face_normals all zero, ignoring!\n",
      "face_normals all zero, ignoring!\n",
      "face_normals all zero, ignoring!\n",
      "face_normals all zero, ignoring!\n",
      "face_normals all zero, ignoring!\n",
      "face_normals all zero, ignoring!\n",
      "face_normals all zero, ignoring!\n",
      "face_normals all zero, ignoring!\n",
      "face_normals all zero, ignoring!\n",
      "face_normals all zero, ignoring!\n",
      "face_normals all zero, ignoring!\n",
      "face_normals all zero, ignoring!\n",
      "face_normals all zero, ignoring!\n",
      "face_normals all zero, ignoring!\n",
      "face_normals all zero, ignoring!\n",
      "face_normals all zero, ignoring!\n",
      "face_normals all zero, ignoring!\n",
      "face_normals all zero, ignoring!\n",
      "face_normals all zero, ignoring!\n",
      "face_normals all zero, ignoring!\n",
      "face_normals all zero, ignoring!\n",
      "face_normals all zero, ignoring!\n",
      "face_normals all zero, ignoring!\n",
      "face_normals all zero, ignoring!\n"
     ]
    },
    {
     "name": "stdout",
     "output_type": "stream",
     "text": [
      "/objects/floor_lamp/vdxlda/shape/collision/floor_lamp-vdxlda-base_link.obj has mesh with 113 vertices\n",
      "/objects/cupcake/pfwrlq/shape/collision/cupcake-pfwrlq-base_link.obj has mesh with 106 vertices\n"
     ]
    },
    {
     "name": "stderr",
     "output_type": "stream",
     "text": [
      "face_normals all zero, ignoring!\n",
      "face_normals all zero, ignoring!\n",
      "face_normals all zero, ignoring!\n",
      "face_normals all zero, ignoring!\n",
      "face_normals all zero, ignoring!\n",
      "face_normals all zero, ignoring!\n",
      "face_normals all zero, ignoring!\n",
      "face_normals all zero, ignoring!\n",
      "face_normals all zero, ignoring!\n",
      "face_normals all zero, ignoring!\n",
      "face_normals all zero, ignoring!\n",
      "face_normals all zero, ignoring!\n",
      "face_normals all zero, ignoring!\n",
      "face_normals all zero, ignoring!\n",
      "face_normals all zero, ignoring!\n",
      "face_normals all zero, ignoring!\n",
      "face_normals all zero, ignoring!\n",
      "face_normals all zero, ignoring!\n",
      "face_normals all zero, ignoring!\n",
      "face_normals all zero, ignoring!\n",
      "face_normals all zero, ignoring!\n",
      "face_normals all zero, ignoring!\n",
      "face_normals all zero, ignoring!\n",
      "face_normals all zero, ignoring!\n",
      "face_normals all zero, ignoring!\n",
      "face_normals all zero, ignoring!\n",
      "face_normals all zero, ignoring!\n",
      "face_normals all zero, ignoring!\n",
      "face_normals all zero, ignoring!\n",
      "face_normals all zero, ignoring!\n",
      "face_normals all zero, ignoring!\n",
      "face_normals all zero, ignoring!\n",
      "face_normals all zero, ignoring!\n",
      "face_normals all zero, ignoring!\n",
      "face_normals all zero, ignoring!\n",
      "face_normals all zero, ignoring!\n",
      "face_normals all zero, ignoring!\n",
      "face_normals all zero, ignoring!\n",
      "face_normals all zero, ignoring!\n",
      "face_normals all zero, ignoring!\n",
      "face_normals all zero, ignoring!\n",
      "face_normals all zero, ignoring!\n",
      "face_normals all zero, ignoring!\n",
      "face_normals all zero, ignoring!\n",
      "face_normals all zero, ignoring!\n",
      "face_normals all zero, ignoring!\n",
      "face_normals all zero, ignoring!\n",
      "face_normals all zero, ignoring!\n",
      "face_normals all zero, ignoring!\n",
      "face_normals all zero, ignoring!\n",
      "face_normals all zero, ignoring!\n",
      "face_normals all zero, ignoring!\n",
      "face_normals all zero, ignoring!\n",
      "face_normals all zero, ignoring!\n",
      "face_normals all zero, ignoring!\n",
      "face_normals all zero, ignoring!\n",
      "face_normals all zero, ignoring!\n",
      "face_normals all zero, ignoring!\n",
      "face_normals all zero, ignoring!\n",
      "face_normals all zero, ignoring!\n",
      "face_normals all zero, ignoring!\n",
      "face_normals all zero, ignoring!\n",
      "face_normals all zero, ignoring!\n",
      "face_normals all zero, ignoring!\n",
      "face_normals all zero, ignoring!\n",
      "face_normals all zero, ignoring!\n",
      "face_normals all zero, ignoring!\n",
      "face_normals all zero, ignoring!\n",
      "face_normals all zero, ignoring!\n",
      "face_normals all zero, ignoring!\n",
      "face_normals all zero, ignoring!\n",
      "face_normals all zero, ignoring!\n",
      "face_normals all zero, ignoring!\n",
      "face_normals all zero, ignoring!\n",
      "face_normals all zero, ignoring!\n",
      "face_normals all zero, ignoring!\n",
      "face_normals all zero, ignoring!\n",
      "face_normals all zero, ignoring!\n",
      "face_normals all zero, ignoring!\n",
      "face_normals all zero, ignoring!\n",
      "face_normals all zero, ignoring!\n",
      "face_normals all zero, ignoring!\n"
     ]
    },
    {
     "name": "stdout",
     "output_type": "stream",
     "text": [
      "/objects/top_cabinet/nkrgez/shape/collision/top_cabinet-nkrgez-link_0.obj has mesh with 101 vertices\n"
     ]
    },
    {
     "name": "stderr",
     "output_type": "stream",
     "text": [
      "face_normals all zero, ignoring!\n",
      "face_normals all zero, ignoring!\n",
      "face_normals all zero, ignoring!\n",
      "face_normals all zero, ignoring!\n",
      "face_normals all zero, ignoring!\n",
      "face_normals all zero, ignoring!\n",
      "face_normals all zero, ignoring!\n",
      "face_normals all zero, ignoring!\n",
      "face_normals all zero, ignoring!\n",
      "face_normals all zero, ignoring!\n",
      "face_normals all zero, ignoring!\n",
      "face_normals all zero, ignoring!\n",
      "face_normals all zero, ignoring!\n",
      "face_normals all zero, ignoring!\n",
      "face_normals all zero, ignoring!\n"
     ]
    },
    {
     "name": "stdout",
     "output_type": "stream",
     "text": [
      "/objects/picture/fhkzlm/shape/collision/picture-fhkzlm-base_link.obj has mesh with 110 vertices\n"
     ]
    },
    {
     "name": "stderr",
     "output_type": "stream",
     "text": [
      "face_normals all zero, ignoring!\n",
      "face_normals all zero, ignoring!\n",
      "face_normals all zero, ignoring!\n",
      "face_normals all zero, ignoring!\n",
      "face_normals all zero, ignoring!\n",
      "face_normals all zero, ignoring!\n",
      "face_normals all zero, ignoring!\n",
      "face_normals all zero, ignoring!\n",
      "face_normals all zero, ignoring!\n",
      "face_normals all zero, ignoring!\n",
      "face_normals all zero, ignoring!\n",
      "face_normals all zero, ignoring!\n",
      "face_normals all zero, ignoring!\n",
      "face_normals all zero, ignoring!\n",
      "face_normals all zero, ignoring!\n",
      "face_normals all zero, ignoring!\n",
      "face_normals all zero, ignoring!\n"
     ]
    },
    {
     "name": "stdout",
     "output_type": "stream",
     "text": [
      "/objects/picture/ytxhyl/shape/collision/picture-ytxhyl-base_link.obj has mesh with 110 vertices\n",
      "/objects/oven/qygclv/shape/collision/oven-qygclv-link_0.obj has mesh with 100 vertices\n",
      "/objects/straight_chair/amgwaw/shape/collision/straight_chair-amgwaw-base_link.obj has mesh with 108 vertices\n"
     ]
    },
    {
     "name": "stderr",
     "output_type": "stream",
     "text": [
      "face_normals all zero, ignoring!\n",
      "face_normals all zero, ignoring!\n",
      "face_normals all zero, ignoring!\n",
      "face_normals all zero, ignoring!\n",
      "face_normals all zero, ignoring!\n",
      "face_normals all zero, ignoring!\n",
      "face_normals all zero, ignoring!\n",
      "face_normals all zero, ignoring!\n",
      "face_normals all zero, ignoring!\n",
      "face_normals all zero, ignoring!\n",
      "face_normals all zero, ignoring!\n",
      "face_normals all zero, ignoring!\n",
      "face_normals all zero, ignoring!\n",
      "face_normals all zero, ignoring!\n",
      "face_normals all zero, ignoring!\n",
      "face_normals all zero, ignoring!\n",
      "face_normals all zero, ignoring!\n",
      "face_normals all zero, ignoring!\n",
      "face_normals all zero, ignoring!\n",
      "face_normals all zero, ignoring!\n",
      "face_normals all zero, ignoring!\n",
      "face_normals all zero, ignoring!\n",
      "face_normals all zero, ignoring!\n",
      "face_normals all zero, ignoring!\n"
     ]
    },
    {
     "name": "stdout",
     "output_type": "stream",
     "text": [
      "/objects/monitor/huvcgu/shape/collision/monitor-huvcgu-screen.obj has mesh with 105 vertices\n"
     ]
    },
    {
     "name": "stderr",
     "output_type": "stream",
     "text": [
      "face_normals all zero, ignoring!\n",
      "face_normals all zero, ignoring!\n",
      "face_normals all zero, ignoring!\n",
      "face_normals all zero, ignoring!\n",
      "face_normals all zero, ignoring!\n",
      "face_normals all zero, ignoring!\n",
      "face_normals all zero, ignoring!\n",
      "face_normals all zero, ignoring!\n"
     ]
    },
    {
     "name": "stdout",
     "output_type": "stream",
     "text": [
      "/objects/griddle/ryvqep/shape/collision/griddle-ryvqep-base_link.obj has mesh with 112 vertices\n"
     ]
    },
    {
     "name": "stderr",
     "output_type": "stream",
     "text": [
      "face_normals all zero, ignoring!\n",
      "face_normals all zero, ignoring!\n",
      "face_normals all zero, ignoring!\n",
      "face_normals all zero, ignoring!\n",
      "face_normals all zero, ignoring!\n",
      "face_normals all zero, ignoring!\n"
     ]
    },
    {
     "name": "stdout",
     "output_type": "stream",
     "text": [
      "/objects/radish/vztgpr/shape/collision/radish-vztgpr-base_link.obj has mesh with 113 vertices\n"
     ]
    },
    {
     "name": "stderr",
     "output_type": "stream",
     "text": [
      "face_normals all zero, ignoring!\n",
      "face_normals all zero, ignoring!\n",
      "face_normals all zero, ignoring!\n",
      "face_normals all zero, ignoring!\n"
     ]
    },
    {
     "name": "stdout",
     "output_type": "stream",
     "text": [
      "/objects/picture/qavxsz/shape/collision/picture-qavxsz-base_link.obj has mesh with 106 vertices\n"
     ]
    },
    {
     "name": "stderr",
     "output_type": "stream",
     "text": [
      "face_normals all zero, ignoring!\n",
      "face_normals all zero, ignoring!\n",
      "face_normals all zero, ignoring!\n",
      "face_normals all zero, ignoring!\n",
      "face_normals all zero, ignoring!\n",
      "face_normals all zero, ignoring!\n",
      "face_normals all zero, ignoring!\n",
      "face_normals all zero, ignoring!\n",
      "face_normals all zero, ignoring!\n",
      "face_normals all zero, ignoring!\n",
      "face_normals all zero, ignoring!\n",
      "face_normals all zero, ignoring!\n",
      "face_normals all zero, ignoring!\n",
      "face_normals all zero, ignoring!\n",
      "face_normals all zero, ignoring!\n",
      "face_normals all zero, ignoring!\n",
      "face_normals all zero, ignoring!\n",
      "face_normals all zero, ignoring!\n",
      "face_normals all zero, ignoring!\n",
      "face_normals all zero, ignoring!\n",
      "face_normals all zero, ignoring!\n",
      "face_normals all zero, ignoring!\n"
     ]
    },
    {
     "name": "stdout",
     "output_type": "stream",
     "text": [
      "/objects/top_cabinet/jvdbxh/shape/collision/top_cabinet-jvdbxh-link_0.obj has mesh with 100 vertices\n",
      "/objects/pedestal_table/ktevfe/shape/collision/pedestal_table-ktevfe-base_link.obj has mesh with 110 vertices\n"
     ]
    },
    {
     "name": "stderr",
     "output_type": "stream",
     "text": [
      "face_normals all zero, ignoring!\n",
      "face_normals all zero, ignoring!\n",
      "face_normals all zero, ignoring!\n",
      "face_normals all zero, ignoring!\n",
      "face_normals all zero, ignoring!\n",
      "face_normals all zero, ignoring!\n",
      "face_normals all zero, ignoring!\n",
      "face_normals all zero, ignoring!\n",
      "face_normals all zero, ignoring!\n",
      "face_normals all zero, ignoring!\n",
      "face_normals all zero, ignoring!\n",
      "face_normals all zero, ignoring!\n",
      "face_normals all zero, ignoring!\n",
      "face_normals all zero, ignoring!\n",
      "face_normals all zero, ignoring!\n"
     ]
    },
    {
     "name": "stdout",
     "output_type": "stream",
     "text": [
      "/objects/fridge/juwaoh/shape/collision/fridge-juwaoh-link_0.obj has mesh with 105 vertices\n"
     ]
    },
    {
     "name": "stderr",
     "output_type": "stream",
     "text": [
      "face_normals all zero, ignoring!\n",
      "face_normals all zero, ignoring!\n",
      "face_normals all zero, ignoring!\n",
      "face_normals all zero, ignoring!\n",
      "face_normals all zero, ignoring!\n",
      "face_normals all zero, ignoring!\n",
      "face_normals all zero, ignoring!\n",
      "face_normals all zero, ignoring!\n",
      "face_normals all zero, ignoring!\n",
      "face_normals all zero, ignoring!\n",
      "face_normals all zero, ignoring!\n",
      "face_normals all zero, ignoring!\n",
      "face_normals all zero, ignoring!\n",
      "face_normals all zero, ignoring!\n",
      "face_normals all zero, ignoring!\n",
      "face_normals all zero, ignoring!\n",
      "face_normals all zero, ignoring!\n",
      "face_normals all zero, ignoring!\n",
      "face_normals all zero, ignoring!\n",
      "face_normals all zero, ignoring!\n",
      "face_normals all zero, ignoring!\n",
      "face_normals all zero, ignoring!\n",
      "face_normals all zero, ignoring!\n",
      "face_normals all zero, ignoring!\n",
      "face_normals all zero, ignoring!\n",
      "face_normals all zero, ignoring!\n",
      "face_normals all zero, ignoring!\n",
      "face_normals all zero, ignoring!\n",
      "face_normals all zero, ignoring!\n",
      "face_normals all zero, ignoring!\n",
      "face_normals all zero, ignoring!\n"
     ]
    },
    {
     "name": "stdout",
     "output_type": "stream",
     "text": [
      "/objects/stove/qbjiva/shape/collision/stove-qbjiva-link_0.obj has mesh with 103 vertices\n"
     ]
    },
    {
     "name": "stderr",
     "output_type": "stream",
     "text": [
      "face_normals all zero, ignoring!\n",
      "face_normals all zero, ignoring!\n",
      "face_normals all zero, ignoring!\n",
      "face_normals all zero, ignoring!\n",
      "face_normals all zero, ignoring!\n",
      "face_normals all zero, ignoring!\n"
     ]
    },
    {
     "name": "stdout",
     "output_type": "stream",
     "text": [
      "/objects/speaker_system/suzqfe/shape/collision/speaker_system-suzqfe-base_link.obj has mesh with 95 vertices\n",
      "/objects/speaker_system/suzqfe/shape/collision/speaker_system-suzqfe-base_link.obj has mesh with 66 vertices\n"
     ]
    },
    {
     "name": "stderr",
     "output_type": "stream",
     "text": [
      "face_normals all zero, ignoring!\n",
      "face_normals all zero, ignoring!\n",
      "face_normals all zero, ignoring!\n",
      "face_normals all zero, ignoring!\n",
      "face_normals all zero, ignoring!\n",
      "face_normals all zero, ignoring!\n",
      "face_normals all zero, ignoring!\n",
      "face_normals all zero, ignoring!\n",
      "face_normals all zero, ignoring!\n",
      "face_normals all zero, ignoring!\n",
      "face_normals all zero, ignoring!\n",
      "face_normals all zero, ignoring!\n",
      "face_normals all zero, ignoring!\n",
      "face_normals all zero, ignoring!\n",
      "face_normals all zero, ignoring!\n",
      "face_normals all zero, ignoring!\n",
      "face_normals all zero, ignoring!\n",
      "face_normals all zero, ignoring!\n",
      "face_normals all zero, ignoring!\n",
      "face_normals all zero, ignoring!\n",
      "face_normals all zero, ignoring!\n",
      "face_normals all zero, ignoring!\n",
      "face_normals all zero, ignoring!\n",
      "face_normals all zero, ignoring!\n",
      "face_normals all zero, ignoring!\n",
      "face_normals all zero, ignoring!\n"
     ]
    },
    {
     "name": "stdout",
     "output_type": "stream",
     "text": [
      "/objects/burner/lfyqat/shape/collision/burner-lfyqat-base_link.obj has mesh with 109 vertices\n"
     ]
    },
    {
     "name": "stderr",
     "output_type": "stream",
     "text": [
      "face_normals all zero, ignoring!\n",
      "face_normals all zero, ignoring!\n",
      "face_normals all zero, ignoring!\n",
      "face_normals all zero, ignoring!\n",
      "face_normals all zero, ignoring!\n",
      "face_normals all zero, ignoring!\n",
      "face_normals all zero, ignoring!\n",
      "face_normals all zero, ignoring!\n",
      "face_normals all zero, ignoring!\n",
      "face_normals all zero, ignoring!\n",
      "face_normals all zero, ignoring!\n",
      "face_normals all zero, ignoring!\n"
     ]
    }
   ],
   "source": [
    "import io\n",
    "\n",
    "# Count the number of o-directives in each\n",
    "o_directives = {}\n",
    "failed = []\n",
    "for p in tqdm(collision_objs):\n",
    "    parts = fs.path.parts(p)\n",
    "    target = parts[-5] + \"-\" + parts[-4]\n",
    "    \n",
    "    with dataset.open(p, \"rb\") as f:\n",
    "        bio = io.BytesIO(f.read())\n",
    "        \n",
    "    m = trimesh.load(bio, file_type=\"obj\", force=\"mesh\", skip_material=True)\n",
    "    submeshes = m.split(only_watertight=False)\n",
    "    for s in submeshes:\n",
    "        if not s.is_watertight:\n",
    "            s.show()\n",
    "        \n",
    "        \n",
    "    for submesh in submeshes:\n",
    "        if len(submesh.vertices) > 60:\n",
    "            print(p, \"has mesh with\", len(submesh.vertices), \"vertices\")\n",
    "            failed.append(target)\n",
    "    o_directives[target] = len(submeshes)"
   ]
  },
  {
   "cell_type": "code",
   "execution_count": 7,
   "id": "e7321290",
   "metadata": {},
   "outputs": [
    {
     "name": "stdout",
     "output_type": "stream",
     "text": [
      "[('oven-tllnvs', 148), ('loudspeaker-bmpdyv', 76), ('bottom_cabinet-leizjb', 66), ('oven-hxorzh', 65), ('burner-lfyqat', 65), ('bed-rhanfx', 64), ('bucket-lsmlzi', 63), ('glove-crbvcg', 62), ('vacuum-amnmmq', 62), ('swivel_chair-aqobyj', 62), ('bathtub-jfhrwj', 61), ('lid-aybgkm', 61), ('parsley-kkgkkd', 61), ('sink-xiybkb', 61), ('washer-jgyzhv', 60), ('mayonnaise-ktmjvg', 60), ('crab-tjkiva', 60), ('guacamole-ajnjvv', 60), ('walker-dgewyj', 60), ('jar-qzwijs', 60), ('swivel_chair-zswgck', 60), ('swivel_chair-dqllma', 60), ('toy-wvpqbf', 60), ('watch-ghobzn', 59), ('swivel_chair-moimne', 59), ('gaming_table-ipdvzo', 59), ('cruet-njqmqv', 59), ('headset-oytuam', 59), ('umbrella-cqfbku', 59), ('gym_shoe-pblxfp', 58), ('duffel_bag-ozykxk', 58), ('pitcher-bbewjo', 58), ('radish-vztgpr', 58), ('lid-zkderg', 58), ('kitchen_analog_scale-zpmpoq', 58), ('toy-txgpxx', 57), ('water_bottle-emquat', 57), ('gym_shoe-mjyyda', 57), ('crumb-irhmll', 57), ('sink-yfaufu', 57), ('swivel_chair-kjrrxi', 57), ('swivel_chair-dmedmy', 56), ('oven-wuinhm', 56), ('bottom_cabinet_no_top-gjrero', 56), ('bowl-kthvrl', 56), ('bottom_cabinet-kenkcw', 56), ('sink-bnpjjy', 56), ('bathtub-enpxbn', 55), ('bottom_cabinet_no_top-exgntg', 55), ('door-nfrbch', 55), ('swivel_chair-lxupys', 55), ('modem-axqxsv', 55), ('blender-cwkvib', 54), ('dryer-smcyys', 54), ('bed-hkmwyc', 54), ('dinner_napkin-rpccls', 54), ('walker-txpihh', 54), ('cream_pitcher-wmkwhg', 54), ('bottom_cabinet_no_top-apjbrw', 54), ('table_lamp-htinka', 53), ('dryer-zlmnfg', 53), ('swivel_chair-njxooh', 53), ('top_cabinet-fqitbw', 53), ('trash_can-glzckq', 53), ('piano-ygmqqa', 52), ('coffee_table-qlmqyy', 52), ('breakfast_table-rjgmmy', 52), ('hand_towel-jaubic', 52), ('top_cabinet-dmwxyl', 52), ('toy-nncqfn', 52), ('speaker_system-lgkhqt', 51), ('range_hood-ylsdmp', 51), ('jar-vzwhbg', 51), ('washer-omeuop', 51), ('swivel_chair-danzuv', 50), ('table_lamp-utsqrs', 50), ('stove-kfhkqp', 50), ('armchair-cyvmhv', 50), ('cupcake-pfwrlq', 50), ('bottom_cabinet-getjzo', 50), ('paint-mxyrzd', 49), ('armchair-xqovyv', 49), ('bowl-fwdfeg', 49), ('cup-vckahe', 49), ('gym_shoe-kmcbym', 49), ('cup-dkxddg', 48), ('bottom_cabinet-olgoza', 48), ('shelf-ptxdid', 48), ('bed-sztpse', 48), ('swivel_chair-zcegqh', 48), ('toilet-yxbgey', 47), ('coffee_table-gcollb', 47), ('bath_towel-lyqgnf', 47), ('beet-wantjv', 47), ('ginger-wqcasl', 47), ('bottom_cabinet_no_top-ozzcvs', 46), ('celery-rqvtqi', 46), ('radish-bpmjki', 46), ('dishwasher-tnlzww', 46), ('top_cabinet-lsyzkh', 46), ('turnip-nnvlrd', 46), ('bathtub-wxrafq', 46), ('bowl-rlwpcd', 46), ('oven-rwuazb', 46), ('pot_plant-qbnaph', 46), ('sink-czyfhq', 46), ('swivel_chair-mhsjfu', 45), ('paper_bag-bzsxgw', 45), ('toy-ecvxmu', 45), ('saucepan-fsinsu', 45), ('casserole-mmbavt', 45), ('dishtowel-yobhae', 44), ('dishwasher-znfvmj', 44), ('gooseberry-cltzwx', 44), ('swivel_chair-mrjlps', 44), ('shelf-wnvxme', 44), ('walker-ndexvs', 44), ('sugar_jar-bholak', 43), ('stocking-imdhfp', 43), ('jeans-nmvvil', 43), ('swivel_chair-bukrxm', 43), ('bowl-ajzltc', 43), ('bowl-adciys', 43), ('straight_chair-mgzcic', 43), ('sofa-jhfkdc', 43), ('armchair-qgcjtr', 43), ('bottom_cabinet_no_top-vdedzt', 43), ('vinegar-snzyfk', 43), ('apricot-inxcvi', 43), ('paint-ycnaho', 43), ('dress-gtghon', 43), ('ribbon-puwdwq', 43), ('bowl-fiarri', 43), ('rocking_chair-tjaphm', 43), ('pea-iblyep', 43), ('jeans-pvzxyp', 43), ('lid-vkepll', 42), ('top_cabinet-twjqua', 42), ('lid-ugfmpq', 42), ('gym_shoe-arigtn', 42), ('swivel_chair-nqojos', 42), ('bottom_cabinet-qacthv', 42), ('wall_clock-xevvel', 42), ('loudspeaker-avtlcj', 42), ('bowl-mspdar', 42), ('bell_pepper-ggurxn', 42), ('strawberry-xcnzxh', 42), ('bed-sunfhf', 42), ('olive_oil_bottle-lvsfgc', 42), ('coffee_table-elhvfw', 41), ('bowl-dalyim', 41), ('bottom_cabinet_no_top-qohxjq', 41), ('rail_fence-qmsnld', 41), ('bottom_cabinet_no_top-wtnrwl', 41), ('dryer-xsuyua', 41), ('rocking_chair-drpbxj', 41), ('walker-glrsok', 40), ('bottom_cabinet-nddvba', 40), ('stove-dwhqap', 40), ('bottom_cabinet_no_top-ufhpbn', 40), ('bottom_cabinet-cjcyed', 40), ('swivel_chair-opkoam', 40), ('gym_shoe-hwrvmy', 40), ('shelf-tahafx', 40), ('bottom_cabinet-ojceew', 40), ('chestnut-tfawre', 40), ('towel_rack-pqhsry', 40), ('prosciutto-udjqae', 40), ('bottom_cabinet_no_top-fmelap', 39), ('green_onion-wzqhsg', 39), ('wrapped_gift-wpmksn', 39), ('gym_shoe-uuvwev', 39), ('chaise_longue-uicxlz', 39), ('sheet-czdhwu', 39), ('lid-jvqtqi', 39), ('chestnut-jvnilh', 39), ('armchair-xpcheg', 39), ('jar-pluujx', 39), ('bow-fhchql', 38), ('bottom_cabinet-jrhgeu', 38), ('armchair-axudcx', 38), ('coffee_maker-pyttso', 38), ('desk-cjhriz', 38), ('bench-nzsfrw', 38), ('dishwasher-ynrhuk', 38), ('bulldog_clip-cqxnkn', 38), ('walker-scbatq', 38), ('swivel_chair-sddcnh', 38), ('jar-fyfahz', 38), ('desk-uxgyui', 38), ('dish_rack-kxuutl', 38), ('glove-hsaxtc', 38), ('notebook-ksxknp', 38), ('jar-ykrdzg', 38), ('paint-gjjugj', 38), ('lid-jvzjzp', 38), ('straight_chair-myxhad', 37), ('lid-qhlsdq', 37), ('cup-ykuftq', 37), ('vacuum-wikhik', 37), ('jar-rdngsc', 37), ('bell_pepper-ihctxa', 37), ('shower-atiuco', 37), ('pencil_box-otcmih', 37), ('glove-rlzvry', 37), ('jar-piemou', 37), ('swivel_chair-qtqitn', 36), ('dryer-fhtvuq', 36), ('floor_lamp-fanocp', 36), ('jar-zqoboc', 36), ('straight_chair-amgwaw', 36), ('toy-vcmcoi', 36), ('jar-xrirkq', 36), ('pot_plant-yvuagy', 36), ('washer-xusefg', 36), ('lid-muczdt', 36), ('tape-fetnry', 36), ('tape-yyekns', 36), ('swivel_chair-aepbmj', 36), ('oven-kfftgk', 36), ('piano-bnxcvw', 36), ('pot_plant-xlylfy', 36), ('microwave-abzvij', 36), ('toy-issvzv', 36), ('facsimile-mcqqhy', 36), ('grandfather_clock-oskfvo', 36), ('bathtub-oobbwn', 36), ('shelf-uriudf', 36), ('tart-borxmv', 36), ('jar-jbhdeu', 36), ('jar-vuolos', 36), ('jar-xebmcy', 36), ('pomegranate-vqybii', 36), ('pot_plant-vcwwrd', 36), ('crib-oimydv', 36), ('jar-lnxzuy', 36), ('nightstand-hessxe', 36), ('swivel_chair-dqkces', 36), ('printer-oyqbtq', 36), ('muffin-pxrntz', 35), ('bottom_cabinet-slgzfc', 35), ('coffee_cup-skamgp', 35), ('jar-uydvnv', 35), ('jar-irqkdw', 35), ('breakfast_table-ixvmic', 35), ('beer-phdimo', 35), ('swivel_chair-ywqhzu', 35), ('armchair-vzhxuf', 35), ('rib-nzbnqp', 35), ('jar-nzcbda', 35), ('walker-cmfdmv', 35), ('toy-gnofgv', 35), ('trash_can-mdojox', 34), ('trash_can-nuoypc', 34), ('walls-uwsqqu', 34), ('cup-rypdvd', 34), ('scrub_brush-hsejyi', 34), ('pineapple-wfaybl', 34), ('bucket-bdhvnt', 34), ('basket-xhdtjn', 34), ('swivel_chair-ffvxwn', 34), ('dishwasher-xlmier', 34), ('lid-itwwle', 34), ('pot_plant-jatssq', 34), ('hose-gavrvw', 34), ('briefcase-rxvbea', 34), ('dryer-wivnic', 34), ('broom-tpyvbt', 34), ('artichoke-tfclmg', 34), ('trash_can-xkqkbf', 34), ('kettle-bzisss', 34), ('swivel_chair-elwzdc', 34), ('coconut-qwriih', 34), ('trash_can-wklill', 34), ('platter-iadlti', 34), ('lawn_mower-bterwo', 34), ('walnut-nzqier', 34), ('armchair-nckeqb', 34), ('soup-wbqjbt', 34), ('bed-mpgavt', 34), ('pitcher-tsyims', 34), ('pumpkin-apitmi', 34), ('pomegranate-tbwsgm', 34), ('basket-xjftlf', 34), ('swivel_chair-bvqqps', 34), ('walnut-rmwtdh', 34), ('trash_can-rteihy', 34), ('lasagna-eovigz', 34), ('bell-oshurh', 34), ('bed-guguqb', 34), ('jar-sktwfj', 33), ('pot_plant-jaunqh', 33), ('straight_chair-psoizi', 33), ('bed-xhegju', 33), ('beef-vdfkby', 33), ('grandfather_clock-icznug', 33), ('window-ithrgo', 33), ('rag-dgzewy', 33), ('armchair-tcxiue', 33), ('pot_plant-uvbpsf', 32), ('washer-dobgmu', 32), ('mousetrap-mwfwsv', 32), ('sweater-ekcjci', 32), ('broccoli-wsxavx', 32), ('toilet-rqxqtd', 32), ('sweater-eknmzl', 32), ('lid-niarsj', 32), ('bowl-jfvjep', 32), ('swivel_chair-alvjtk', 32), ('hat-ldxyyc', 32), ('floor_lamp-lqdmym', 32), ('scarf-xdcrfh', 32), ('grape-venbog', 32), ('bowl-eipwho', 32), ('burner-pmntxh', 32), ('toilet-aapttl', 32), ('armchair-jmunen', 32), ('swivel_chair-xppcsn', 32), ('pot_plant-udqjui', 32), ('coffee_table-zzqwse', 32), ('swivel_chair-iageoq', 32), ('glass-slscza', 32), ('pot_plant-quaxmw', 32), ('head_cabbage-tqohvs', 32), ('breakfast_table-cjjayg', 32), ('gym_shoe-lqzooz', 32), ('pineapple-jizmyh', 32), ('pot_plant-azfbnd', 32), ('coat-brebdk', 32), ('toy-cqeowc', 32), ('basket-clziqw', 32), ('pot_plant-qcpges', 32), ('toy-acymin', 32), ('stove-jhyhag', 32), ('lid-qkogll', 32), ('hat-wkrzep', 32), ('toy-cobfpg', 32), ('table_lamp-wdqvjl', 32), ('pot_plant-qenqqv', 32), ('coat-kiiium', 32), ('bowl-zwhewa', 32), ('hat-zymxgw', 32), ('table_lamp-pxdhzm', 32), ('swivel_chair-yiphfr', 32), ('lettuce-yxemcs', 32), ('pot_plant-imhfnc', 32), ('door-ceddpg', 32), ('breakfast_table-kpwegp', 32), ('grape-uprbwp', 32), ('sock-rhgweu', 32), ('pot_plant-ftbsdt', 32), ('cookie-ggpang', 32), ('cord-ydrhwh', 32), ('toilet-wusctd', 32), ('spinach-nshkpm', 32), ('toy-jwjrza', 32), ('pot_plant-kjnypo', 32), ('briefcase-lwbctq', 32), ('pretzel-rmutwn', 32), ('cocktail_glass-xevdnl', 32), ('chicken-nppsmz', 32), ('pitcher-tzbnmh', 32), ('swivel_chair-lizuow', 32), ('salad-dhdhul', 32), ('washer-mrgspe', 32), ('cream-ompiss', 32), ('wreath-rkrxno', 32), ('egg-mimzbz', 32), ('pineapple-zympwt', 32), ('grill-ddlqye', 32), ('toilet-vtqdev', 32), ('heater-wntwxx', 32), ('lid-uwzqlf', 32), ('christmas_tree-eadukw', 32), ('swivel_chair-spwzyt', 32), ('range_hood-duqgcu', 32), ('gym_shoe-qxecbh', 32), ('hat-avvknr', 32), ('christmas_tree_decorated-wakmhn', 32), ('underwear-uwzqxm', 32), ('cord-aqikou', 32), ('lid-exzfzm', 32), ('basil-bebpnf', 32), ('gym_shoe-picdro', 32), ('jar-wvgsqk', 32), ('trash_can-leazin', 32), ('rag-zmmbpz', 32), ('paint-qbqche', 32), ('sushi-akpnxn', 32), ('hamburger-fyswch', 32), ('kettle-vjbldp', 32), ('t_shirt-kvidcx', 32), ('swivel_chair-lafeot', 32), ('basket-pqzyxx', 32), ('walker-xnpimz', 32), ('cauldron-zndohl', 32), ('trash_can-aefcem', 32), ('colander-ambnzk', 32), ('coconut-nnankv', 32), ('bell_pepper-uqcenz', 32), ('coffee_pouch-zmadza', 32), ('raspberry-spkers', 32), ('coconut-txtabm', 32), ('toy-aihmqy', 32), ('swivel_chair-barmrv', 32), ('stool-ycfbsd', 32), ('cup-ckkwmj', 32), ('coffee_pouch-fovxcx', 32), ('tape-budhaz', 32), ('swivel_chair-imhixv', 32), ('bucket-wlilma', 32), ('pot_plant-nscddw', 32), ('almond-acooui', 32), ('swivel_chair-vhlzdb', 32), ('toy-gyrsew', 32), ('armchair-bslhmj', 32), ('kitchen_analog_scale-lpjpez', 32), ('swivel_chair-fvfaeu', 32), ('rocking_chair-wkduul', 32), ('gym_shoe-wfmrpw', 32), ('scarf-gqzivs', 32), ('floor_lamp-jcbvfi', 32), ('pot_plant-vyswzs', 32), ('pot_plant-kxmvco', 32), ('chocolate_box-bdvkbh', 32), ('stool-miftfy', 32), ('swivel_chair-lmmjpk', 32), ('grape-snjrhg', 32), ('swivel_chair-fqbnuk', 32), ('lid-kuibhu', 32), ('teapot-foaehs', 32), ('jar-gtnmis', 32), ('bed-hojitx', 32), ('lid-chwwdg', 32), ('trash_can-gsgutn', 32), ('container_cranberry-fbcpsl', 32), ('top_cabinet-oztrra', 31), ('bottom_cabinet-nnvyol', 31), ('bottom_cabinet-vceupd', 31), ('rosehip-xembcb', 31), ('shelf-lbbims', 31), ('straight_chair-pmpwwi', 31), ('table_lamp-jiuwwn', 31), ('swivel_chair-odoklx', 31), ('shelf-njwsoa', 31), ('milk-xbvdpc', 31), ('swivel_chair-irlmpz', 31), ('bottom_cabinet-lhucjo', 30), ('bottom_cabinet-rvunhj', 30), ('bell_pepper-ukkycp', 30), ('bottom_cabinet-kdbgpm', 30), ('fridge-xyejdx', 30), ('desk-phavlj', 30), ('bottom_cabinet-mwgceh', 30), ('breakfast_table-metubv', 30), ('trash_can-zotrbg', 30), ('outlet-alwlfr', 30), ('bracelet-thqqmo', 30), ('carafe-ocjcgp', 30), ('bench-wtkahs', 30), ('walls-qisxmx', 30), ('bowl-oyidja', 30), ('treadmill-ackppx', 29), ('bath_towel-feojdm', 29), ('top_cabinet-nkrgez', 29), ('apple-omzprq', 29), ('tinsel-ndmqqw', 29), ('desk-jfhurf', 29), ('coffee_table-ytlgdt', 29), ('sweet_corn-dacgvr', 29), ('sink-ksecxq', 29), ('apple-agveuv', 29), ('pumpkin-mrntpd', 29), ('dishtowel-qvzbjx', 29), ('dental_floss-aokqke', 29), ('bottom_cabinet-nyfebf', 28), ('toilet-vdbmon', 28), ('swivel_chair-mqxrim', 28), ('bottom_cabinet_no_top-vzzafs', 28), ('coffee_table-gpkbiw', 28), ('rail_fence-iduxiv', 28), ('bottom_cabinet-twhums', 28), ('toy-krmxjk', 28), ('straight_chair-xfhcep', 28), ('shoulder_bag-mcualj', 28), ('mug-ppzttc', 28), ('straight_chair-haaiau', 28), ('cord-tzurlz', 28), ('bench-jaklov', 28), ('treadmill-ahwnhu', 28), ('platter-hnlivs', 27), ('armchair-rabzuf', 27), ('bathtub-azdgtl', 27), ('bed-pqptex', 27), ('bench-zfpjkj', 27), ('pillow-bfword', 27), ('fridge-hzgqdn', 27), ('straight_chair-axmhdk', 27), ('lid-utfcdx', 27), ('bench-svnyht', 27), ('lipstick-petufo', 27), ('toilet-sjjweo', 26), ('basket-wqxrbf', 26), ('vidalia_onion-buyxll', 26), ('sunglass-nxfifs', 26), ('bowl-xpnlup', 26), ('toy-fnueyn', 26), ('bathtub-gulceo', 26), ('piano-ojoiqt', 25), ('lid-qfqccp', 25), ('table_lamp-wslomg', 25), ('sofa-uixwiv', 25), ('sink-wzpabm', 25), ('walker-ykjauh', 25), ('bottom_cabinet-sxppcj', 24), ('pool_table-atjfhn', 24), ('bottom_cabinet-bamfsz', 24), ('sandal-zafskl', 24), ('desk-tdhgko', 24), ('sunglass-wdxiwf', 24), ('toilet-vcgvfe', 24), ('straight_chair-osvmes', 24), ('toy-gdekzd', 24), ('shower-aktzdp', 24), ('green_onion_chopped-akrkjr', 24), ('stand-geeldi', 24), ('sofa-otxxor', 24), ('wall_socket-eaxxbm', 24), ('pedestal_table-poukwl', 24), ('coffee_table-tzmkgq', 24), ('oven-fexqbj', 24), ('pillow-jghdke', 24), ('olive_oil_bottle-luikop', 24), ('toilet-jkwccu', 24), ('desk-clenrz', 24), ('olive_oil_bottle-cqycjk', 24), ('painting-uzhuyu', 24), ('bed-gcgodj', 24), ('dishtowel-dtfspn', 24), ('bottom_cabinet-mbmbpa', 23), ('perfume-ipurzb', 23), ('walls-gfxhgi', 23), ('coffee_table-vcgabn', 23), ('top_cabinet-eobsmt', 23), ('top_cabinet-zjtaus', 23), ('straight_chair-lxmgbs', 23), ('zucchini-dybtwb', 23), ('coffee_table-stocuk', 23), ('bench-hezgut', 23), ('toy-orunry', 23), ('date-pfdasw', 23), ('toy-gqspnb', 23), ('toy-zuntus', 23), ('chest-fwstpx', 23), ('straight_chair-hetymd', 23), ('cereal-dkhgxn', 23), ('olive-rzktwr', 23), ('floor_lamp-vdxlda', 23), ('basket-haewxp', 23), ('lid-fnqhbz', 23), ('ladder-shfvtl', 23), ('peach-orowgl', 23), ('olive-rstwkd', 23), ('bed-nwzbyk', 22), ('swivel_chair-gbknnw', 22), ('console_table-xqlxni', 22), ('straight_chair-vkgbbl', 22), ('bottom_cabinet-qkgfln', 22), ('armchair-qjwuus', 22), ('bed-lslyyi', 22), ('bottom_cabinet-xiurwn', 22), ('walls-ioxzum', 22), ('painting-ggloob', 22), ('bed-wyxtqf', 22), ('swivel_chair-dxusxd', 22), ('salt_shaker-iomwtn', 22), ('sofa-mnfbbh', 22), ('sink-ejooms', 22), ('stool-sghekm', 22), ('straight_chair-enuago', 22), ('washer-zgzvcv', 21), ('console_table-tvhett', 21), ('trash_can-eahqyq', 21), ('trash_can-hqdnjz', 21), ('window-ulnafj', 21), ('basket-pcyjbu', 21), ('pajamas-rcgdde', 21), ('desk-uffjvo', 21), ('tongs-rcpjld', 21), ('canned_food-pkopdw', 21), ('sink-zexzrc', 21), ('sandal-uhzfis', 21), ('sofa-ctjgcl', 21), ('canned_food-cbmndg', 21), ('glass-nfoydb', 21), ('breakfast_table-dnsjnv', 21), ('coffee_table-hmwkkt', 21), ('electric_switch-hpowgy', 21), ('jam-vxjbjf', 21), ('date-lskefl', 21), ('shelf-eyidvz', 20), ('straight_chair-tfdjag', 20), ('chaise_longue-xmjcle', 20), ('window-bhwwja', 20), ('armchair-vtsoat', 20), ('bottom_cabinet-ttmejh', 20), ('lid-dkncbi', 20), ('highchair-pahqnp', 20), ('sandal-chgcrm', 20), ('grater-jlkowf', 20), ('lid-lwyfab', 20), ('bath_towel-iviyls', 20), ('ice_cube-iiimgo', 20), ('swivel_chair-llckbs', 20), ('razor-jocsgp', 19), ('straight_chair-mdnhjm', 19), ('dustpan-espzwv', 19), ('mushroom-xeodai', 19), ('toy-lfxygp', 19), ('tea_bag-kmvcrb', 19), ('oven-nvqqkv', 19), ('mushroom-zlukhz', 19), ('vacuum-bdmsbr', 19), ('lid-qferch', 19), ('straight_chair-fffhmn', 19), ('lid-exiqxa', 19), ('sofa-ocydlq', 19), ('bed-smmmaf', 18), ('desk-yezrwt', 18), ('straight_chair-fgoezn', 18), ('shower-invgma', 18), ('table_lamp-eosezn', 18), ('dryer-tpqzai', 18), ('straight_chair-dmdipc', 18), ('straight_chair-gxzrim', 18), ('coffee_table-xshzms', 18), ('armchair-qplklw', 18), ('sofa-rxtscm', 18), ('window-mjssrd', 18), ('bed-yghbxh', 18), ('bathtub-fdjykf', 18), ('backpack-gvbiwl', 18), ('straight_chair-eospnr', 18), ('bench-pcymmc', 18), ('paper_towel_holder-rntefx', 18), ('bottom_cabinet-immwzb', 17), ('bottom_cabinet-rvpunw', 17), ('shelf-owvfik', 17), ('cherry-lkltpa', 17), ('walls-qannys', 17), ('straight_chair-laxufh', 17), ('toy-tjchdg', 17), ('pork-ihekpm', 17), ('table_lamp-bhdxug', 17), ('straight_chair-hwpixe', 17), ('walls-jukzkm', 17), ('straight_chair-isirjh', 17), ('pedestal_table-pyybeq', 17), ('bench-jvygiq', 17), ('bench-nokayw', 17), ('armchair-pmrcex', 17), ('digital_scale-ccphiu', 16), ('bottom_cabinet-pkdnbu', 16), ('paper_towel-aclaus', 16), ('table_lamp-awfehr', 16), ('clove-thigpl', 16), ('breakfast_table-lwtcfh', 16), ('ring-oolbrj', 16), ('chopping_board-ayegwd', 16), ('outlet-pqgeot', 16), ('bulletin_board-ayaoal', 16), ('bottom_cabinet-ilofmb', 15), ('breakfast_table-zypvuv', 15), ('sofa-qnnwfx', 15), ('bed-wbjidf', 15), ('walls-dekben', 15), ('sofa-xhxdqf', 15), ('pomegranate-tldskr', 15), ('sofa-itbkff', 15), ('stove-yhjzwg', 15), ('shelf-vehhll', 15), ('toilet-chuack', 15), ('armchair-viphen', 15), ('basket-wdsnjy', 15), ('bottom_cabinet-hnxyev', 15), ('plate-iawoof', 15), ('steak-ppykkp', 15), ('lid-jqvurl', 15), ('pop-mrrozu', 15), ('pop-uzbpnw', 15), ('pop-iloapr', 15), ('sandal-shdahi', 15), ('shelf-pkgbcp', 15), ('shelf-cqcoox', 15), ('basket-pgwdlg', 14), ('sandal-spcddb', 14), ('package-msfzpz', 14), ('briefcase-ohelib', 14), ('bottom_cabinet-rntwkg', 14), ('standing_tv-udotid', 14), ('stove-igwqpj', 14), ('carpet_sweeper-xboreo', 14), ('bottom_cabinet-dsbcxl', 14), ('sink-vbquye', 14), ('window-fufios', 14), ('nightstand-gjwjtj', 14), ('dishtowel-ltydgg', 14), ('scissors-hqfure', 14), ('desk-kmmlna', 14), ('platter-kiiamx', 14), ('pool-xixlzr', 14), ('walls-eugiyg', 14), ('desk-egzdgz', 14), ('video_game-ceaxsd', 14), ('frying_pan-sfbdjn', 14), ('kiwi-ukwism', 14), ('walls-kabquv', 14), ('walls-dondsu', 14), ('whiteboard-bqqmtc', 14), ('breakfast_table-sfxqtk', 14), ('armchair-xkacfd', 13), ('toilet-kfmkbm', 13), ('bottom_cabinet-plccav', 13), ('bottom_cabinet-wesxdp', 13), ('window-iwcqsz', 13), ('cinnamon-bmbjdf', 13), ('desk-tmukzm', 13), ('bottom_cabinet-pllcur', 13), ('desk-sfstso', 13), ('peach-wrutgk', 13), ('stand-kanola', 13), ('walls-hosciu', 13), ('microwave-vuezel', 13), ('mouse-oydobn', 13), ('walls-zoonsb', 13), ('tape-vpgzne', 13), ('walls-axhynp', 13), ('cologne-lyipur', 13), ('bed-wfxgbb', 13), ('highchair-eteuuf', 13), ('straight_chair-zhojwx', 13), ('video_game-apjpos', 12), ('scissors-iizidc', 12), ('electric_switch-wseglt', 12), ('stand-ljtrka', 12), ('coffee_table-aoojzy', 12), ('microwave-bfbeeb', 12), ('bottom_cabinet-jhymlr', 12), ('paper_clip-xjfirk', 12), ('straight_chair-htssho', 12), ('bagel-zlxkry', 12), ('table_lamp-pmekkr', 12), ('picture-lucjyq', 12), ('breakfast_table-mwsyqb', 12), ('apricot-qmwmwm', 12), ('desk-zjbhgq', 12), ('breakfast_table-wwsikw', 12), ('walls-hnqegn', 12), ('shelf-vgzdul', 12), ('oven-qriitd', 12), ('vidalia_onion-tnmqrt', 12), ('microwave-rtfebu', 11), ('trash_can-pdmzhv', 11), ('stove-rgpphy', 11), ('desk-vpwmkm', 11), ('video_game-ppnzqm', 11), ('oven-nkxhvf', 11), ('desk-ntezkg', 11), ('armchair-tnryza', 11), ('platter-ekjpdj', 11), ('bottom_cabinet_no_top-wamrju', 11), ('alarm-dkwmmf', 11), ('walls-wycsdd', 11), ('chaise_longue-ajjxcd', 11), ('breakfast_table-bmnubh', 11), ('wall_mounted_tv-ggfznh', 11), ('standing_tv-bkyguk', 11), ('desk-cnewsu', 11), ('blender-eyedvd', 11), ('range_hood-lejkwg', 11), ('hard_drive-ubjbsm', 11), ('window-qdkcdn', 11), ('gingerbread-hxkcxs', 11), ('breakfast_table-hggsao', 11), ('breakfast_table-skczfi', 11), ('walls-yeodqe', 11), ('coffee_table-fqluyq', 11), ('walls-bdxwvm', 11), ('floor_lamp-jqsuky', 11), ('drill-nzgmza', 11), ('bottom_cabinet_no_top-qudfwe', 10), ('monitor-huvcgu', 10), ('wall_mounted_tv-gffrzl', 10), ('walls-dthtvd', 10), ('desk-bptvoy', 10), ('heater-dwmloz', 10), ('soup_ladle-xocqxg', 10), ('toy-jddrck', 10), ('range_hood-iqbpie', 10), ('tape-gchdhk', 10), ('walls-kvmewy', 10), ('walls-djfood', 10), ('walls-ugemkf', 10), ('chip-qstxpj', 10), ('straight_chair-lfgxjk', 10), ('straight_chair-rosdkm', 10), ('walls-pquwwj', 10), ('bean-mfkwzi', 10), ('table_lamp-wvysoe', 10), ('breakfast_table-skseyx', 10), ('armchair-umbrpd', 10), ('soup_ladle-hgvzdm', 10), ('walls-nvtvxi', 10), ('stool-xcmniq', 10), ('chest-gbdzls', 10), ('roller-jcqwrt', 10), ('puree-raagvm', 10), ('video_game-coiafo', 10), ('fish-qofuoa', 10), ('canned_food-acgdtc', 10), ('bed-zrumze', 10), ('pop-sevoto', 9), ('microwave-snsqrt', 9), ('folding_chair-vngcqu', 9), ('walls-ddswbg', 9), ('pop-pyrics', 9), ('briefcase-fdpjtj', 9), ('ceilings-gatymy', 9), ('desk-ampuyz', 9), ('spoon-kwyoqh', 9), ('pop-msmlud', 9), ('top_cabinet-jvdbxh', 9), ('coatrack-qyjssf', 9), ('document-qkrlsi', 9), ('pop-ribekf', 9), ('date-kdfasq', 9), ('pop-hjrwqb', 9), ('kiwi-khupqq', 9), ('standing_tv-lkpsai', 9), ('hinge-qroify', 9), ('stove-qbjiva', 9), ('detergent-gkpmii', 9), ('pop-exapzb', 9), ('tray-xzcnjq', 9), ('detergent-qjkmhq', 9), ('pop-jnoksl', 9), ('pop-xoldze', 9), ('iron-fzbvce', 9), ('pop-mdznsn', 9), ('heater-arfdpk', 9), ('pop-pvabxf', 9), ('wine_bottle-vecadn', 9), ('protein_powder-ysgesq', 9), ('electric_switch-hrwnhp', 9), ('ceilings-uidjxd', 9), ('pop-pfjzkn', 9), ('vidalia_onion-yxwjgn', 9), ('spoon-aeubta', 9), ('pop-vfjhav', 9), ('tape-sklkyc', 9), ('pop-ubazru', 9), ('pop-rhclfg', 9), ('pop-oeipjl', 9), ('video_game-ckugyi', 9), ('table_lamp-lyjkje', 8), ('carrot-qhmmmx', 8), ('breakfast_table-kwmfdg', 8), ('top_cabinet-yegcau', 8), ('breakfast_table-lnwggc', 8), ('pop-nyupqh', 8), ('straight_chair-kywbxv', 8), ('video_game-muwcnf', 8), ('walls-ggcuux', 8), ('eraser-cungod', 8), ('window-tuztdv', 8), ('bottom_cabinet-gvtucm', 8), ('walls-xamxbe', 8), ('pop-kviogj', 8), ('console_table-emeeke', 8), ('walls-hukjxe', 8), ('pop-ghxeqz', 8), ('pop-nepfjl', 8), ('dishwasher-dngvvi', 8), ('pop-wrgmdt', 8), ('walls-yjbruo', 8), ('pop-wmqhul', 8), ('wine_bottle-hnkiog', 8), ('pillow-pjqqmb', 8), ('pop-zxambx', 8), ('standing_tv-blyapt', 8), ('pop-uwmchl', 8), ('walls-eyalcx', 8), ('pop-haoywb', 8), ('bottom_cabinet_no_top-pluwfl', 8), ('lid-haxrqc', 8), ('console_table-fihyuz', 8), ('picture-qavxsz', 8), ('armchair-fsrprw', 8), ('pop-oghrnk', 8), ('pop-dlqmit', 8), ('top_cabinet-tactqn', 8), ('walls-exiopd', 8), ('guitar-wjohag', 8), ('walls-hfwelb', 8), ('apple-sguztn', 8), ('spoon-qdepdj', 8), ('picture-gwricv', 8), ('walls-yrcjvs', 8), ('pop-bqretx', 8), ('walls-insggh', 8), ('stool-mysfnz', 8), ('walls-zrhulr', 8), ('standing_tv-wbkvxr', 8), ('towel_rack-crivoa', 8), ('video_game-pujfzk', 8), ('pop-mhzttm', 8), ('video_game-lfdpse', 8), ('walls-pefrto', 8), ('pop-drqbiy', 8), ('door-gmytjz', 7), ('standing_tv-ghxsoy', 7), ('walls-qyejch', 7), ('picture-fhkzlm', 7), ('oven-leqtlc', 7), ('oven-qygclv', 7), ('walls-dfnqnk', 7), ('folderal-ttldpx', 7), ('walls-ywzpuk', 7), ('breakfast_table-uhrsex', 7), ('top_cabinet-qiausz', 7), ('walls-iwipoh', 7), ('bottom_cabinet-ncbfwr', 7), ('spoon-pxwpuw', 7), ('walls-joztgu', 7), ('plum-rhaemq', 7), ('picture-wfdvzv', 7), ('hanger-ffecvd', 7), ('video_game-quzjuo', 7), ('walls-dzlwbx', 7), ('walls-frmaew', 7), ('rail_fence-vwpqly', 7), ('speaker_system-suzqfe', 7), ('spoon-nxddfp', 7), ('walls-wpqxxx', 7), ('necklace-wzmleo', 7), ('vidalia_onion-ldeuli', 7), ('walls-nthwqa', 7), ('walls-uzzssc', 7), ('picture-ytxhyl', 7), ('mirror-pevdqu', 7), ('picture-rciuob', 7), ('keyboard-nddmmy', 7), ('candle-bhaqam', 7), ('walls-nxxtrq', 7), ('picture-jpfyrq', 7), ('walls-iqbzlu', 7), ('apple-qusmpx', 7), ('hook-mdnfjr', 7), ('speaker_system-snbvop', 7), ('walls-vdzmpj', 7), ('walls-qysmts', 7), ('chives-gboofh', 7), ('straight_chair-dmcixv', 7), ('pocketknife-ngtgdn', 7), ('walls-jiubjd', 7), ('pedestal_table-mbojpo', 7), ('saw-laysom', 6), ('floor_lamp-pfuqec', 6), ('pedestal_table-oqclwq', 6), ('picture-cltbty', 6), ('walls-zevlix', 6), ('canned_food-mzoaia', 6), ('door-ktydvs', 6), ('walls-szxayl', 6), ('walls-dmjwhh', 6), ('monitor-rbqanz', 6), ('microwave-hjjxmi', 6), ('medicine-egondf', 6), ('top_cabinet-fqhdne', 6), ('fridge-hivvdf', 6), ('picture-etixod', 6), ('picture-tlwjpv', 6), ('table_lamp-midfvh', 6), ('spoon-prbhag', 6), ('pop-chwjfu', 6), ('towel_rack-kqrmrh', 6), ('griddle-ryvqep', 6), ('window-jzxtbv', 6), ('notebook-umxsmd', 6), ('folding_chair-dxergu', 6), ('paintbrush-gngyrk', 6), ('picture-yrgaal', 6), ('spoon-huudhe', 6), ('walls-wlruaa', 6), ('picture-qtvjzk', 6), ('walls-sdaafd', 6), ('trash_can-ifzxzj', 6), ('lime-iwjcjp', 6), ('walls-ziijka', 6), ('walls-bvcaju', 6), ('picture-zsirgc', 6), ('baguette-xydhpd', 6), ('walls-ucsylc', 6), ('fridge-juwaoh', 6), ('scraper-icqmje', 6), ('bean-cdinsu', 6), ('bottom_cabinet-phoesw', 6), ('chili-pbbkpz', 6), ('notebook-xhigou', 6), ('picture-weqggl', 6), ('walls-zqimeh', 6), ('walls-ejzliv', 6), ('guitar-gysapt', 6), ('pop-vszbvb', 6), ('walls-bvtxbv', 6), ('pop-xlyult', 6), ('walls-rvrsph', 6), ('breakfast_table-lcsizg', 6), ('guitar-hpqjrq', 6), ('picture-fanvpf', 6), ('walls-odbsjx', 6), ('strawberry-pgguhi', 6), ('dart-hzvuwy', 6), ('walls-gxynpx', 6), ('walls-qbpprw', 6), ('medicine-fmfwng', 6), ('walls-cazhvf', 6), ('oven-kenajw', 5), ('walls-qycklp', 5), ('walls-ubdyfk', 5), ('floors-byoazk', 5), ('walls-cufcke', 5), ('window-subxdn', 5), ('table_lamp-dkfwyb', 5), ('bottom_cabinet-gcrjan', 5), ('chili-nidjog', 5), ('ceilings-mjpcrf', 5), ('walls-xrmvpg', 5), ('guitar-cybisc', 5), ('atomizer-tehmzy', 5), ('ceilings-wdxynv', 5), ('dipper-hqqjfo', 5), ('medicine-syfpak', 5), ('walls-pamlhu', 5), ('walls-mhguff', 5), ('pedestal_table-ktevfe', 5), ('notebook-jxabmj', 5), ('walls-icgqdt', 5), ('walls-yjllte', 5), ('candy_cane-qfomjj', 5), ('banana-vvyyyv', 5), ('breakfast_table-idnnmz', 5), ('window-bxydsr', 5), ('walls-ipzkkp', 5), ('walls-bbqdud', 5), ('walls-gtaxam', 5), ('walls-hxakof', 5), ('eggplant-jniuxf', 5), ('caliper-sngjmj', 5), ('pillow-jsdeew', 5), ('pillow-flwire', 5), ('walls-qcqpyi', 5), ('fridge-dszchb', 5), ('pepper_grinder-tfoogy', 5), ('walls-tnwkjr', 5), ('folder-piezyg', 5), ('scanner-juzkjp', 5), ('ink_cartridge-oinelo', 5), ('walls-bcjmdz', 5), ('stove-dusebh', 5), ('walls-bgymrg', 5), ('bean-dyjvwv', 5), ('walls-wruryx', 5), ('picture-szpupz', 5), ('walls-wzauoy', 5), ('walls-jkgued', 5), ('ink_cartridge-oepuip', 5), ('video_game-yyvkel', 5), ('pillow-fxxpwf', 5), ('walls-soxcnj', 5), ('wine_bottle-fzuiwy', 5), ('floors-vfhjsg', 5), ('pegboard-jafivf', 5), ('walls-bntgiu', 5), ('walls-pidgcc', 5), ('walls-mqqmct', 5), ('walls-cesukw', 5), ('board_game-fzyuip', 4), ('pillow-uavnng', 4), ('conditioner-njqnuo', 4), ('bulletin_board-rjlpsy', 4), ('pillow-sjeori', 4), ('bottom_cabinet-vespxk', 4), ('walls-xwtqey', 4), ('shampoo-kkbhzw', 4), ('door-ohagsq', 4), ('medicine-qqsukh', 4), ('bottom_cabinet_no_top-spojpj', 4), ('walls-ljngkt', 4), ('pistachio-bhirar', 4), ('walls-xlgydu', 4), ('ceilings-gztsev', 4), ('walls-izojlc', 4), ('bottom_cabinet-kxushk', 4), ('walls-wiihpm', 4), ('walls-aigrtq', 4), ('walls-hqpeoy', 4), ('notebook-aanuhi', 4), ('trowel-ematag', 4), ('tomato-altlfz', 4), ('walls-fecefe', 4), ('bed-fnzxxr', 4), ('ceilings-gljdaz', 4), ('walls-ngbqxk', 4), ('hammer-bbzlel', 4), ('window-tflzbx', 4), ('floors-qsesig', 4), ('floors-dclqap', 4), ('bean-lvbjws', 4), ('board_game-frgdqh', 4), ('ceilings-vjiuwu', 4), ('walls-qztmjw', 4), ('walls-mzmzrc', 4), ('walls-snokhn', 4), ('chives-yifjct', 4), ('board_game-iqfvfl', 4), ('walls-gxvfxw', 4), ('table_lamp-ncgcgo', 4), ('floors-mknpoc', 4), ('door-cbgtjl', 4), ('zucchini-udvfaz', 4), ('dishwasher-cgugie', 4), ('walls-kdmgth', 4), ('walls-tsyvvt', 4), ('bottom_cabinet-smujam', 4), ('walls-wxyhis', 4), ('hairbrush-bdylnb', 4), ('protein_powder-rikjwx', 4), ('toasting_fork-vokznh', 4), ('bar_soap-ozifwa', 4), ('walls-fxibmi', 4), ('cracker_box-cmdigf', 4), ('breakfast_table-pllvrt', 4), ('sausage-qijvmi', 4), ('walls-kpxpyc', 4), ('walls-ewvyod', 4), ('calculator-kwmmty', 4), ('walls-bqdrep', 4), ('board_game-qdkyzl', 4), ('walls-mxwoul', 4), ('platter-csanbr', 4), ('pillow-rhewoi', 4), ('walls-afdfgb', 4), ('zucchini-ifvmal', 4), ('ceilings-sxfdbk', 4), ('board_game-nfewft', 4), ('pillow-eynvbz', 4), ('walls-vgmxoy', 4), ('walls-tmpzcd', 4), ('walls-rvvbvi', 4), ('walls-pcrftt', 4), ('walls-gdajid', 4), ('walls-yttffi', 4), ('chives-vvacxt', 4), ('thumbtack-qfrphh', 4), ('walls-pziwqm', 4), ('floors-vlwrdh', 4), ('walls-gadgor', 3), ('walls-qrwkbi', 3), ('walls-tbvitn', 3), ('bottom_cabinet-yohygj', 3), ('walls-umjlad', 3), ('medicine-zfbnjh', 3), ('walls-qpzyrh', 3), ('catsup-hvxkso', 3), ('walls-xkqcvi', 3), ('floors-gjpvfd', 3), ('bottom_cabinet-mxrzpj', 3), ('floors-igemfx', 3), ('bottom_cabinet-ryznya', 3), ('ceilings-jneuhg', 3), ('folding_chair-dqhazh', 3), ('tablefork-flexrc', 3), ('walls-yteboe', 3), ('walls-unxsio', 3), ('walls-fuuaks', 3), ('walls-hyizxy', 3), ('walls-uuaxti', 3), ('toilet-mzocsn', 3), ('pillow-fhsner', 3), ('cap-gmdwwe', 3), ('walls-xwettc', 3), ('door-mgmayh', 3), ('ceilings-xqauyk', 3), ('bottom_cabinet-lwjdmj', 3), ('floors-gshqfr', 3), ('ceilings-taqajg', 3), ('pear-ngtwvy', 3), ('floors-tzlsla', 3), ('walls-xvjxce', 3), ('walls-ijhavy', 3), ('walls-hmmmqw', 3), ('magazine-ehdwsd', 3), ('walls-ezgaki', 3), ('walls-loxfub', 3), ('walls-zekpak', 3), ('spatula-ktkigm', 3), ('walls-mkvxcd', 3), ('ceilings-xfkvct', 3), ('ceilings-ofefox', 3), ('pear-mqvgcg', 3), ('walls-cuglzp', 3), ('bottom_cabinet-yxfueo', 3), ('walls-tzcwsl', 3), ('ceilings-dslvvl', 3), ('walls-gitxjr', 3), ('walls-ujdgcj', 3), ('sticky_note-tghqep', 3), ('walls-pgvsqx', 3), ('floors-gupykd', 3), ('walls-bgwwet', 3), ('walls-lmdouk', 3), ('plum-dsybez', 3), ('pillow-cnaerr', 3), ('ceilings-cmtgio', 3), ('walls-nfprcv', 3), ('ceilings-uqrmaj', 3), ('walls-qvxgfb', 3), ('walls-xkdbsb', 3), ('grandfather_clock-veyqcp', 3), ('walls-zlszjq', 3), ('floor_lamp-imgsrd', 3), ('walls-cxcmht', 3), ('honing_steel-ugerym', 3), ('walls-ngughn', 3), ('walls-zfcdkd', 3), ('ceilings-plnpyp', 3), ('walls-mesrth', 3), ('ceilings-rnaypg', 3), ('ceilings-qsqnsq', 3), ('pillow-euryeh', 3), ('roller-nbwihe', 3), ('tablefork-pqrtkc', 3), ('walls-adkdbx', 3), ('walls-dbcxft', 3), ('walls-ebolxd', 3), ('fillet-fqhuey', 3), ('tile-vowkci', 3), ('floors-eldjou', 3), ('hardback-nubbfj', 3), ('ceilings-msnxsu', 3), ('walls-krfqkh', 3), ('floors-kjptjl', 3), ('walls-xtqexq', 3), ('walls-exahpb', 3), ('walls-dtyudh', 3), ('walls-bncgrb', 3), ('dishwasher-dugpby', 3), ('walls-rhibpr', 3), ('notebook-svisnb', 3), ('walls-nbzzdk', 3), ('bottom_cabinet_no_top-motill', 3), ('shampoo-dvrzmy', 3), ('walls-miioiw', 3), ('fridge-jtqazu', 3), ('walls-ifeyfb', 3), ('bottom_cabinet_no_top-bmsclc', 3), ('floors-abekig', 3), ('walls-frkwfk', 3), ('floors-qrzmkt', 3), ('floors-sktjer', 3), ('walls-chzguy', 3), ('pop_case-rzhvvk', 3), ('toothbrush-qbkrzg', 3), ('floors-wgxprh', 3), ('walls-ryfecu', 3), ('walls-cqojjq', 3), ('floors-qzdhdl', 3), ('walls-yogylp', 3), ('toasting_fork-osrfkc', 3), ('walls-yaeyqi', 3), ('pop_case-unmexe', 3), ('walls-qrskkp', 3), ('walls-lxzuqa', 3), ('walls-twxspa', 3), ('notebook-ffdjzp', 3), ('walls-nsyzcf', 3), ('pop_case-qcfxec', 3), ('medicine-kasbsy', 3), ('yogurt-kihdsj', 3), ('medicine-kqkwoq', 3), ('walls-bvpzet', 3), ('ceilings-hzdavr', 3), ('walls-gpucms', 3), ('walls-lbhapt', 3), ('newspaper-ukamcl', 3), ('floors-kqgjaj', 3), ('toothpaste-vsclsj', 3), ('walls-hsudbq', 3), ('walls-zssquq', 3), ('walls-lyuheh', 3), ('walls-smqaax', 3), ('pillow-cnskfp', 2), ('walls-icgyhn', 2), ('walls-prkntu', 2), ('walls-xcmirp', 2), ('floors-sfyruj', 2), ('door-lvgliq', 2), ('screwdriver-uajlga', 2), ('powder_bottle-vfabau', 2), ('ceilings-inuoux', 2), ('ceilings-rujues', 2), ('walls-jvltxt', 2), ('floors-kopltd', 2), ('canned_food-zfmfje', 2), ('floors-gwawvk', 2), ('carving_knife-mzhpkm', 2), ('pillow-pwjehr', 2), ('walls-nyvztg', 2), ('floors-fzriob', 2), ('ceilings-zbmcak', 2), ('standing_tv-gjlztf', 2), ('ceilings-fasuse', 2), ('table_knife-nmkend', 2), ('walls-bbokbs', 2), ('walls-sfsjho', 2), ('lemon-wouoym', 2), ('bottom_cabinet-glefdh', 2), ('bottom_cabinet-tolupn', 2), ('bottom_cabinet-pzjecb', 2), ('table_lamp-zpqejt', 2), ('pencil_box-acikzo', 2), ('walls-uqnjgx', 2), ('picture-qjkajj', 2), ('ceilings-imtzdm', 2), ('floors-suqrjf', 2), ('orange-yloghd', 2), ('bottom_cabinet-imyaje', 2), ('ceilings-yrqbbo', 2), ('floors-nuacoz', 2), ('pillow-spethe', 2), ('ceilings-xusryb', 2), ('ceilings-wcvcax', 2), ('top_cabinet-dhguym', 2), ('walls-aquzfl', 2), ('door-rhcnln', 2), ('walls-oggwut', 2), ('ceilings-bkifrn', 2), ('floors-buiarh', 2), ('toothbrush-vkrjps', 2), ('ceilings-ndlpeo', 2), ('baseboard-prytbo', 2), ('board_game-twkglv', 2), ('walls-uvkglh', 2), ('bottom_cabinet-xpdbgf', 2), ('bottom_cabinet-ybntlp', 2), ('ceilings-ayfjzo', 2), ('ceilings-qpqfcx', 2), ('walls-cusskx', 2), ('walls-vghbob', 2), ('walls-qfsjoy', 2), ('bottom_cabinet-ujniob', 2), ('pillow-iyjelw', 2), ('walls-oxikcw', 2), ('protein_powder-rbvrrp', 2), ('board_game-phwwnx', 2), ('bottom_cabinet-zuwvdo', 2), ('walls-cyflyo', 2), ('ceilings-wvqyit', 2), ('floors-mcecze', 2), ('floors-sdaotz', 2), ('walls-qepoqs', 2), ('walls-kvrkmr', 2), ('board_game-lzslbu', 2), ('bottom_cabinet-nrlayx', 2), ('floors-zhumsu', 2), ('light_bulb-kfmkwd', 2), ('pillow-ikenre', 2), ('walls-lqvggk', 2), ('board_game-gumkqh', 2), ('ceilings-carllw', 2), ('walls-gfpsmo', 2), ('cucumber-wcvwye', 2), ('board_game-vbamua', 2), ('ceilings-zfnsml', 2), ('board_game-eoywpy', 2), ('bottom_cabinet-dajebq', 2), ('walls-bouphi', 2), ('board_game-ovttum', 2), ('table_lamp-tggobp', 2), ('floors-skvhfo', 2), ('ceilings-opdbwd', 2), ('canned_food-foetdd', 2), ('cpu_board-xlqvil', 2), ('protein_powder-tpcsve', 2), ('straw-qcqvjt', 2), ('floors-zpatyb', 2), ('walls-gmdnub', 2), ('ceilings-ypyuxd', 2), ('pillow-tittti', 2), ('clout_nail-gvfevt', 2), ('pillow-gjsepr', 2), ('floors-bcoszl', 2), ('floors-ssjixw', 2), ('pillow-rteuzs', 2), ('ceilings-hkpbtx', 2), ('bottom_cabinet-kubcdk', 2), ('walls-kgxnls', 2), ('floors-xzlkei', 2), ('lollipop-bhjyff', 2), ('walls-mlnhxt', 2), ('ceilings-gwhnjk', 2), ('walls-vboutb', 2), ('laptop-nvulcs', 2), ('walls-eiunty', 2), ('spaghetti_sauce-zahyds', 2), ('walls-guswuo', 2), ('pillow-libtpu', 2), ('umbrella-zxnjwz', 2), ('walls-rcvnmt', 2), ('floors-qhfsxw', 2), ('walls-dfkxqx', 2), ('floors-zzevtl', 2), ('walls-ztifms', 2), ('ceilings-odcayc', 2), ('walls-adqmpz', 2), ('ceilings-gbfubh', 2), ('ceilings-trhqld', 2), ('door-lhxdte', 2), ('floors-ibjsgt', 2), ('table_lamp-xbfgjc', 2), ('ceilings-ibqleu', 2), ('walls-vcwrno', 2), ('carving_knife-alekva', 2), ('board_game-ibzhzu', 2), ('cheese-hwxeto', 2), ('floors-mvnkva', 2), ('ceilings-repcwx', 2), ('floors-yxiuet', 2), ('floors-yoxmsz', 2), ('floors-btfqvw', 2), ('ceilings-gdodun', 2), ('comb-lqnwhb', 2), ('bottom_cabinet-eupgpt', 2), ('board_game-gcfkqa', 2), ('walls-hffrei', 2), ('potato-ljfitc', 2), ('walls-ihrcrz', 2), ('floors-pmlwwl', 2), ('walls-pcboew', 2), ('carving_knife-awvoox', 2), ('walls-nmpdgu', 2), ('walls-zbggqd', 2), ('floors-llngfy', 2), ('walls-llgahv', 2), ('walls-dstwoi', 2), ('straight_pin-ohhsqc', 2), ('board_game-qgvsnb', 2), ('pillow-aetpte', 2), ('floors-jiafyw', 2), ('ceilings-nkohbh', 2), ('ceilings-ssgfbx', 2), ('walls-btbqgm', 2), ('wall_mounted_tv-ylvjhb', 2), ('floors-wgpzom', 2), ('walls-niwrlc', 2), ('walls-vzblbk', 2), ('ceilings-dhjrcb', 2), ('router-dsgtpk', 2), ('walls-diztjx', 2), ('rake-jjetot', 2), ('walls-qwfvng', 2), ('walls-iopurg', 2), ('floors-jkaqil', 2), ('walls-qboeng', 2), ('walls-hhxupj', 2), ('floors-ompijb', 2), ('walls-uishdq', 2), ('cantaloup-pqcnoc', 2), ('walls-wrxyby', 2), ('pillow-cakwer', 2), ('floors-fgltrw', 2), ('walls-pmqiht', 2), ('ceilings-xzgtpt', 2), ('table_knife-lrdmpf', 2), ('screwdriver-irtslw', 2), ('video_game-veodkq', 2), ('floors-nzidpe', 2), ('ceilings-yhafaa', 2), ('hard_drive-ijibkm', 2), ('floors-lqngig', 2), ('pomelo-qecwzm', 2), ('ceilings-kqvkod', 2), ('tomato-wjreyv', 2), ('walls-ayjzsb', 2), ('ceilings-ziuymf', 2), ('walls-rgsqwp', 2), ('walls-wdifxf', 2), ('ceilings-hfacms', 2), ('floors-jniagb', 2), ('floors-lhvxey', 2), ('chopping_board-akgegh', 2), ('video_game-qsyyql', 1), ('floors-gabzai', 1), ('ceilings-mrbukh', 1), ('floors-bryjan', 1), ('floors-jmlrre', 1), ('folder-poqpux', 1), ('floors-wjvglv', 1), ('floors-umhwim', 1), ('walls-bgoxzh', 1), ('wall_clock-przkmo', 1), ('picture-hhxttu', 1), ('table_lamp-tnbwvj', 1), ('walls-ltirav', 1), ('ceilings-xlrktm', 1), ('walls-simdfi', 1), ('walls-cezdjs', 1), ('ceilings-odgyya', 1), ('shelf_shelf-ymtnqa', 1), ('drumstick-lkvzmj', 1), ('walls-xivxtv', 1), ('board_game-rgvkmy', 1), ('ceilings-kdovid', 1), ('floors-jbiwrx', 1), ('floors-dpjzuo', 1), ('pencil-dcqvto', 1), ('floors-ouzguk', 1), ('floors-jpldmi', 1), ('carton-causya', 1), ('floors-kjaffs', 1), ('floors-ideoae', 1), ('walls-oqlnfz', 1), ('shelf_baseboard-hlhneo', 1), ('walls-rkueec', 1), ('ceilings-chcxue', 1), ('toilet-wkltpj', 1), ('walls-wnqrbz', 1), ('pillow-ajpapo', 1), ('plywood-fkmkqa', 1), ('walls-ysxqfc', 1), ('floors-wympsq', 1), ('pillow-cfqdde', 1), ('walls-pmfadr', 1), ('ceilings-hjvmxm', 1), ('ceilings-rgasdu', 1), ('ball-nofzds', 1), ('ceilings-olthoc', 1), ('shampoo-jccyom', 1), ('floors-mwkesh', 1), ('foot_rule-swlgkg', 1), ('pop_case-oarbks', 1), ('walls-xkoxct', 1), ('walls-qjspuw', 1), ('standing_tv-sbxgwj', 1), ('ceilings-achzqe', 1), ('pop_case-gwgaqb', 1), ('walls-udirwo', 1), ('walls-enroos', 1), ('walls-lziiqq', 1), ('floors-kxqtap', 1), ('ceilings-bpheuv', 1), ('carpet-ctclvd', 1), ('floors-hcqtge', 1), ('ceilings-xaihjt', 1), ('pen-zmimhb', 1), ('walls-ggligz', 1), ('door-lctyaf', 1), ('floors-verjrv', 1), ('floors-hzcewr', 1), ('pop_case-qwtbon', 1), ('walls-xwrjsn', 1), ('floors-rqcmwl', 1), ('ceilings-dtjmrf', 1), ('walls-toxdzr', 1), ('ceilings-dulwkz', 1), ('pencil-zzzvln', 1), ('floors-oskvfp', 1), ('ceilings-zlhppj', 1), ('ceilings-holqmb', 1), ('walls-smskuw', 1), ('pillow-pdkrer', 1), ('floors-obpiof', 1), ('ceilings-aaonre', 1), ('floors-rbcdel', 1), ('ceilings-ouguhp', 1), ('walls-vikesx', 1), ('butter-ovirmc', 1), ('ceilings-gpivsz', 1), ('floors-ifmioj', 1), ('lemon-vuwehu', 1), ('walls-nwhfvp', 1), ('walls-beqqbw', 1), ('pencil-tqrrbk', 1), ('toilet-nqwekw', 1), ('walls-pivmuk', 1), ('cereal-tiykku', 1), ('ceilings-ckxrok', 1), ('floors-jdcmwf', 1), ('floors-ozonyy', 1), ('ceilings-izafwi', 1), ('ceilings-phrrml', 1), ('walls-rbknoz', 1), ('foot_rule-ckywbx', 1), ('walls-xmoyby', 1), ('walls-nboaej', 1), ('pencil-faudjj', 1), ('ceilings-gvaqgm', 1), ('floors-bqayjv', 1), ('floors-txjurc', 1), ('bottom_cabinet-hrdeys', 1), ('pasta-gwqhko', 1), ('walls-xumdqs', 1), ('floors-kwnype', 1), ('floors-avfwga', 1), ('floors-meryyw', 1), ('pencil-xuanpj', 1), ('ceilings-axfptw', 1), ('pencil-lrwosa', 1), ('ceilings-ojbbex', 1), ('walls-kesywo', 1), ('pillow-zxxdwe', 1), ('walls-pvfzkt', 1), ('countertop-tpuwys', 1), ('potato-bpwohr', 1), ('walls-glkvdl', 1), ('ceilings-rlsnwq', 1), ('pop_case-pldtgy', 1), ('door-chonxi', 1), ('walls-piiojx', 1), ('shelf_side-yujrmw', 1), ('walls-hnmcoo', 1), ('walls-uwbxiv', 1), ('walls-oeikjq', 1), ('walls-nqtojt', 1), ('chopping_board-mwmzzv', 1), ('table_lamp-kwkqot', 1), ('floors-sqtkxe', 1), ('walls-luowiu', 1), ('ceilings-qjjlzt', 1), ('ceilings-mqfvqd', 1), ('ceilings-xcvxqs', 1), ('walls-syulfg', 1), ('walls-wjkmjj', 1), ('floors-fzpedl', 1), ('pop_case-seiatm', 1), ('floors-cjvouw', 1), ('jewel-syneus', 1), ('ceilings-rhfker', 1), ('ceilings-amtwry', 1), ('floors-qhmout', 1), ('pop_case-zfyatg', 1), ('walls-pqyhgr', 1), ('foot_rule-ujizkx', 1), ('floors-nbzcbu', 1), ('pop_case-sqiatv', 1), ('watermelon-slucoe', 1), ('ceilings-cbjzgq', 1), ('ceilings-gjsieo', 1), ('orange-ucstpm', 1), ('floors-zijaqk', 1), ('floors-sfpzcj', 1), ('pool_ball-uoirje', 1), ('floors-wskgxd', 1), ('ceilings-ytbprd', 1), ('bottom_cabinet-bycegi', 1), ('ceilings-vkmgky', 1), ('floors-qqdoab', 1), ('walls-ycxnon', 1), ('pomelo-ezckjt', 1), ('potato-ngjeog', 1), ('floors-bkqcyy', 1), ('ceilings-zyeokx', 1), ('pillow-yiuopu', 1), ('floors-jciltq', 1), ('ceilings-aiddbc', 1), ('sunscreen-prlrwi', 1), ('ceilings-mawmyf', 1), ('floors-qtdpcm', 1), ('ceilings-eewgbi', 1), ('walls-lwkmsr', 1), ('floors-mowtdm', 1), ('ceilings-vyvqsb', 1), ('ceilings-yeqcqn', 1), ('pillow-eyioee', 1), ('floors-aafddg', 1), ('walls-lysuls', 1), ('floors-mdwoyt', 1), ('ceilings-dofmgw', 1), ('floors-tojvok', 1), ('walls-sdxbli', 1), ('floors-ylloew', 1), ('package-sxlklf', 1), ('ceilings-lwqgnc', 1), ('lotion-ixfuxm', 1), ('walls-jrrget', 1), ('ceilings-hrmlqv', 1), ('floors-qgdckc', 1), ('walls-nidtbd', 1), ('shelf_back_panel-gjsnrt', 1), ('ceilings-gjwnre', 1), ('floors-qwfmno', 1), ('ceilings-hyjmts', 1), ('walls-ngfxil', 1), ('ceilings-jzjsqp', 1), ('walls-wgwywc', 1), ('walls-btxdrd', 1), ('floors-gjemfr', 1), ('floors-esoefs', 1), ('walls-fhngna', 1), ('cereal-hcwbzw', 1), ('ceilings-gnpckf', 1), ('ceilings-uahaxk', 1), ('foot_rule-vmnaih', 1), ('walls-oxtgxe', 1), ('ceilings-xrasdh', 1), ('ceilings-eanlkl', 1), ('flour-ylezpk', 1), ('pillow-tepkbl', 1), ('floors-znzabl', 1), ('walls-kmgqsi', 1), ('envelope-urcigc', 1), ('ceilings-vnstqh', 1), ('walls-radpsr', 1), ('walls-krpumb', 1), ('medicine-hvocpc', 1), ('walls-ormaga', 1), ('ceilings-pcatii', 1), ('foot_rule-rutqab', 1), ('floors-tweoyk', 1), ('floors-ucjdgj', 1), ('ceilings-oetibq', 1), ('walls-lybykw', 1), ('floors-krlcki', 1), ('floors-wgqunv', 1), ('floors-ixbfja', 1), ('shampoo-hlkpwd', 1), ('walls-gfsjqz', 1), ('ceilings-itajyb', 1), ('ceilings-wxbmon', 1), ('shampoo-tzghev', 1), ('walls-fxflqu', 1), ('walls-tjfjwe', 1), ('walls-apmsgb', 1), ('floors-qgohwi', 1), ('ceilings-hfnxxt', 1), ('straw-ovckrp', 1), ('floors-yvshid', 1), ('walls-hdrtcw', 1), ('ink_cartridge-ltblou', 1), ('floors-yvuaqk', 1), ('floors-ptwlei', 1), ('floors-gxiigf', 1), ('chopping_board-ktxcvz', 1), ('floors-zvyodb', 1), ('ceilings-lmlzab', 1), ('walls-ueifcw', 1), ('walls-baahfr', 1), ('ceilings-obbhyx', 1), ('floors-wywwii', 1), ('ceilings-zplkyb', 1), ('chestnut-fmomat', 1), ('walls-ifhuaw', 1), ('walls-vrkkum', 1), ('floors-ugktwr', 1), ('highlighter-tcsmqv', 1), ('ceilings-bwcjal', 1), ('walls-vwivpw', 1), ('floors-getzeg', 1), ('shampoo-bclpiq', 1), ('walls-ofedqs', 1), ('pool_stick-werrrt', 1), ('floors-hhvngm', 1), ('walls-ojraij', 1), ('potato-lqjear', 1), ('walls-mqmdyl', 1), ('floors-ekqfhr', 1), ('shampoo-nijidu', 1), ('walls-bpaayh', 1), ('ceilings-xqhgay', 1), ('walls-vvlnbk', 1), ('walls-dmusnk', 1), ('ceilings-adtedr', 1), ('shelf_top-pfiole', 1), ('ceilings-gpoofm', 1), ('floors-tcsswg', 1), ('walls-asykgf', 1), ('shelf_side-bxfkjj', 1), ('ceilings-yimfml', 1), ('walls-toazul', 1), ('watermelon-zgmaqe', 1), ('walls-iwgkkg', 1), ('pillow-xstiee', 1), ('walls-vujprx', 1), ('cereal-iucshm', 1), ('cereal-surzft', 1), ('floors-rmwqgp', 1), ('chopstick-ahmhza', 1), ('ceilings-taubkv', 1), ('ceilings-vubcbl', 1), ('walls-rutehy', 1), ('walls-nsqgzs', 1), ('ceilings-mxtfkv', 1), ('floors-mzywvs', 1), ('walls-ecwlnf', 1), ('ceilings-unxwzc', 1), ('walls-xzknke', 1), ('walls-fevgpn', 1), ('ceilings-wmhznm', 1), ('floors-gmuspq', 1), ('ceilings-dashlx', 1), ('mat-mayaur', 1), ('floors-owamxh', 1), ('ceilings-xbqebs', 1), ('ceilings-ekhjwh', 1), ('walls-fsaxgs', 1), ('walls-exsogt', 1), ('walls-wcekyw', 1), ('floors-lwmene', 1), ('ceilings-vwwzdu', 1), ('ceilings-kjpzku', 1), ('ceilings-dgtdqf', 1), ('walls-twygld', 1), ('ceilings-lfwahr', 1), ('ceilings-pueokn', 1), ('walls-ewecsu', 1), ('walls-fteroj', 1), ('dartboard-zjenlc', 1), ('floors-vwafvg', 1), ('walls-oyfrsd', 1), ('tile-kuombe', 1), ('ceilings-jkgiww', 1), ('pencil-vakowb', 1), ('ceilings-gblyms', 1), ('pop_case-noiyxv', 1), ('floors-cborev', 1), ('pop_case-zxguap', 1), ('floors-iqauon', 1), ('video_game-rzaxlj', 1), ('ceilings-jfsbfp', 1), ('floors-ljbnpd', 1), ('floors-mcivwr', 1), ('floors-dggxhh', 1), ('walls-nmzbqa', 1), ('floors-yrasqm', 1), ('walls-ygzdjf', 1), ('toothpick-deysav', 1), ('floors-elvhyh', 1), ('floors-utzlbf', 1), ('walls-jrmnlu', 1), ('walls-etttgp', 1), ('walls-shgsjx', 1), ('floors-wihjyi', 1), ('floors-avvnuv', 1), ('pillow-wirpqe', 1), ('walls-mimdov', 1), ('ceilings-zhzvbw', 1), ('walls-vxqmoc', 1), ('ceilings-edrgnz', 1), ('ceilings-tcvtrs', 1), ('ceilings-rtefmk', 1), ('floors-iesznz', 1), ('pop_case-dufbnv', 1), ('pen-nqxveo', 1), ('walls-bsypmj', 1), ('floors-mqatev', 1), ('oatmeal-zkggxm', 1), ('walls-kptxkg', 1)]\n"
     ]
    }
   ],
   "source": [
    "print(sorted(o_directives.items(), key=lambda x: -x[1]))"
   ]
  },
  {
   "cell_type": "code",
   "execution_count": 9,
   "id": "892b8366",
   "metadata": {},
   "outputs": [
    {
     "name": "stdout",
     "output_type": "stream",
     "text": [
      "oven-tllnvs has 148 hulls\n"
     ]
    }
   ],
   "source": [
    "for k, v in o_directives.items():\n",
    "    if v > 100:\n",
    "        print(k, \"has\", v, \"hulls\")"
   ]
  },
  {
   "cell_type": "code",
   "execution_count": 10,
   "id": "a3f7caeb",
   "metadata": {},
   "outputs": [
    {
     "data": {
      "image/png": "[encoded data removed]",
      "text/plain": [
       "<Figure size 432x288 with 1 Axes>"
      ]
     },
     "metadata": {
      "needs_background": "light"
     },
     "output_type": "display_data"
    },
    {
     "name": "stdout",
     "output_type": "stream",
     "text": [
      "Median 7.0\n",
      "Mean 15.067451820128479\n",
      "Std 16.373215139999168\n",
      "Max 148\n",
      "Min 1\n"
     ]
    }
   ],
   "source": [
    "a = np.array(list(o_directives.values()))\n",
    "display_stats(a, \"Collision mesh count histogram\")"
   ]
  },
  {
   "cell_type": "markdown",
   "id": "f410e4ce",
   "metadata": {},
   "source": [
    "## Analyze bounding box volumes"
   ]
  },
  {
   "cell_type": "code",
   "execution_count": 11,
   "id": "456bf8ee",
   "metadata": {},
   "outputs": [
    {
     "data": {
      "application/vnd.jupyter.widget-view+json": {
       "model_id": "80834ea9775d49aa888b4e3e7dc0b3f4",
       "version_major": 2,
       "version_minor": 0
      },
      "text/plain": [
       "  0%|          | 0/2491 [00:00<?, ?it/s]"
      ]
     },
     "metadata": {},
     "output_type": "display_data"
    },
    {
     "ename": "ValueError",
     "evalue": "string is not a file: D:\\objects\\coffee_table\\elhvfw\\shape\\collision\\coffee_table-elhvfw-link_3.obj",
     "output_type": "error",
     "traceback": [
      "\u001b[1;31m---------------------------------------------------------------------------\u001b[0m",
      "\u001b[1;31mValueError\u001b[0m                                Traceback (most recent call last)",
      "Input \u001b[1;32mIn [11]\u001b[0m, in \u001b[0;36m<cell line: 7>\u001b[1;34m()\u001b[0m\n\u001b[0;32m      9\u001b[0m target \u001b[38;5;241m=\u001b[39m col_name\u001b[38;5;241m.\u001b[39mparts[\u001b[38;5;241m-\u001b[39m\u001b[38;5;241m5\u001b[39m] \u001b[38;5;241m+\u001b[39m \u001b[38;5;124m\"\u001b[39m\u001b[38;5;124m-\u001b[39m\u001b[38;5;124m\"\u001b[39m \u001b[38;5;241m+\u001b[39m col_name\u001b[38;5;241m.\u001b[39mparts[\u001b[38;5;241m-\u001b[39m\u001b[38;5;241m4\u001b[39m]\n\u001b[0;32m     10\u001b[0m vis_name \u001b[38;5;241m=\u001b[39m pathlib\u001b[38;5;241m.\u001b[39mPath(\u001b[38;5;28mstr\u001b[39m(col_name)\u001b[38;5;241m.\u001b[39mreplace(\u001b[38;5;124m\"\u001b[39m\u001b[38;5;124mcollision\u001b[39m\u001b[38;5;124m\"\u001b[39m, \u001b[38;5;124m\"\u001b[39m\u001b[38;5;124mvisual\u001b[39m\u001b[38;5;124m\"\u001b[39m))\n\u001b[1;32m---> 11\u001b[0m col_mesh \u001b[38;5;241m=\u001b[39m \u001b[43mtrimesh\u001b[49m\u001b[38;5;241;43m.\u001b[39;49m\u001b[43mload\u001b[49m\u001b[43m(\u001b[49m\u001b[43mcol_name\u001b[49m\u001b[43m,\u001b[49m\u001b[43m \u001b[49m\u001b[43mforce\u001b[49m\u001b[38;5;241;43m=\u001b[39;49m\u001b[38;5;124;43m\"\u001b[39;49m\u001b[38;5;124;43mmesh\u001b[39;49m\u001b[38;5;124;43m\"\u001b[39;49m\u001b[43m,\u001b[49m\u001b[43m \u001b[49m\u001b[43mskip_material\u001b[49m\u001b[38;5;241;43m=\u001b[39;49m\u001b[38;5;28;43;01mTrue\u001b[39;49;00m\u001b[43m)\u001b[49m\n\u001b[0;32m     12\u001b[0m vis_mesh \u001b[38;5;241m=\u001b[39m trimesh\u001b[38;5;241m.\u001b[39mload(vis_name, force\u001b[38;5;241m=\u001b[39m\u001b[38;5;124m\"\u001b[39m\u001b[38;5;124mmesh\u001b[39m\u001b[38;5;124m\"\u001b[39m, skip_material\u001b[38;5;241m=\u001b[39m\u001b[38;5;28;01mTrue\u001b[39;00m, merge_tex\u001b[38;5;241m=\u001b[39m\u001b[38;5;28;01mTrue\u001b[39;00m, merge_norm\u001b[38;5;241m=\u001b[39m\u001b[38;5;28;01mTrue\u001b[39;00m)\n\u001b[0;32m     13\u001b[0m \u001b[38;5;28;01mif\u001b[39;00m vis_mesh\u001b[38;5;241m.\u001b[39mis_volume:\n",
      "File \u001b[1;32m~\\.conda\\envs\\pipeline\\lib\\site-packages\\trimesh\\exchange\\load.py:111\u001b[0m, in \u001b[0;36mload\u001b[1;34m(file_obj, file_type, resolver, force, **kwargs)\u001b[0m\n\u001b[0;32m    103\u001b[0m     \u001b[38;5;28;01mreturn\u001b[39;00m file_obj\n\u001b[0;32m    105\u001b[0m \u001b[38;5;66;03m# parse the file arguments into clean loadable form\u001b[39;00m\n\u001b[0;32m    106\u001b[0m (file_obj,  \u001b[38;5;66;03m# file- like object\u001b[39;00m\n\u001b[0;32m    107\u001b[0m  file_type,  \u001b[38;5;66;03m# str, what kind of file\u001b[39;00m\n\u001b[0;32m    108\u001b[0m  metadata,  \u001b[38;5;66;03m# dict, any metadata from file name\u001b[39;00m\n\u001b[0;32m    109\u001b[0m  opened,    \u001b[38;5;66;03m# bool, did we open the file ourselves\u001b[39;00m\n\u001b[0;32m    110\u001b[0m  resolver   \u001b[38;5;66;03m# object to load referenced resources\u001b[39;00m\n\u001b[1;32m--> 111\u001b[0m  ) \u001b[38;5;241m=\u001b[39m \u001b[43mparse_file_args\u001b[49m\u001b[43m(\u001b[49m\u001b[43mfile_obj\u001b[49m\u001b[38;5;241;43m=\u001b[39;49m\u001b[43mfile_obj\u001b[49m\u001b[43m,\u001b[49m\n\u001b[0;32m    112\u001b[0m \u001b[43m                     \u001b[49m\u001b[43mfile_type\u001b[49m\u001b[38;5;241;43m=\u001b[39;49m\u001b[43mfile_type\u001b[49m\u001b[43m,\u001b[49m\n\u001b[0;32m    113\u001b[0m \u001b[43m                     \u001b[49m\u001b[43mresolver\u001b[49m\u001b[38;5;241;43m=\u001b[39;49m\u001b[43mresolver\u001b[49m\u001b[43m)\u001b[49m\n\u001b[0;32m    115\u001b[0m \u001b[38;5;28;01mtry\u001b[39;00m:\n\u001b[0;32m    116\u001b[0m     \u001b[38;5;28;01mif\u001b[39;00m \u001b[38;5;28misinstance\u001b[39m(file_obj, \u001b[38;5;28mdict\u001b[39m):\n\u001b[0;32m    117\u001b[0m         \u001b[38;5;66;03m# if we've been passed a dict treat it as kwargs\u001b[39;00m\n",
      "File \u001b[1;32m~\\.conda\\envs\\pipeline\\lib\\site-packages\\trimesh\\exchange\\load.py:623\u001b[0m, in \u001b[0;36mparse_file_args\u001b[1;34m(file_obj, file_type, resolver, **kwargs)\u001b[0m\n\u001b[0;32m    620\u001b[0m             \u001b[38;5;28;01mraise\u001b[39;00m \u001b[38;5;167;01mValueError\u001b[39;00m(\n\u001b[0;32m    621\u001b[0m                 \u001b[38;5;124m'\u001b[39m\u001b[38;5;124muse load_remote to load URL: \u001b[39m\u001b[38;5;132;01m{}\u001b[39;00m\u001b[38;5;124m'\u001b[39m\u001b[38;5;241m.\u001b[39mformat(file_obj))\n\u001b[0;32m    622\u001b[0m         \u001b[38;5;28;01melif\u001b[39;00m file_type \u001b[38;5;129;01mis\u001b[39;00m \u001b[38;5;28;01mNone\u001b[39;00m:\n\u001b[1;32m--> 623\u001b[0m             \u001b[38;5;28;01mraise\u001b[39;00m \u001b[38;5;167;01mValueError\u001b[39;00m(\u001b[38;5;124m'\u001b[39m\u001b[38;5;124mstring is not a file: \u001b[39m\u001b[38;5;132;01m{}\u001b[39;00m\u001b[38;5;124m'\u001b[39m\u001b[38;5;241m.\u001b[39mformat(file_obj))\n\u001b[0;32m    625\u001b[0m \u001b[38;5;28;01mif\u001b[39;00m file_type \u001b[38;5;129;01mis\u001b[39;00m \u001b[38;5;28;01mNone\u001b[39;00m:\n\u001b[0;32m    626\u001b[0m     file_type \u001b[38;5;241m=\u001b[39m file_obj\u001b[38;5;241m.\u001b[39m\u001b[38;5;18m__class__\u001b[39m\u001b[38;5;241m.\u001b[39m\u001b[38;5;18m__name__\u001b[39m\n",
      "\u001b[1;31mValueError\u001b[0m: string is not a file: D:\\objects\\coffee_table\\elhvfw\\shape\\collision\\coffee_table-elhvfw-link_3.obj"
     ]
    }
   ],
   "source": [
    "col_vols = {}\n",
    "vis_vols = {}\n",
    "bb_volume_ratios = {}\n",
    "bb_max_nonzero_dim_ratios = {}\n",
    "filtered_objs = collision_objs  # [x for x in collision_objs if \"floors\" in x]\n",
    "watertight = 0\n",
    "for col_name in tqdm(filtered_objs):\n",
    "    col_name = pathlib.Path(col_name)\n",
    "    target = col_name.parts[-5] + \"-\" + col_name.parts[-4]\n",
    "    vis_name = pathlib.Path(str(col_name).replace(\"collision\", \"visual\"))\n",
    "    col_mesh = trimesh.load(col_name, force=\"mesh\", skip_material=True)\n",
    "    vis_mesh = trimesh.load(vis_name, force=\"mesh\", skip_material=True, merge_tex=True, merge_norm=True)\n",
    "    if vis_mesh.is_volume:\n",
    "        watertight += 1\n",
    "    \n",
    "    col_bb = col_mesh.bounding_box.extents\n",
    "    vis_bb = vis_mesh.bounding_box.extents\n",
    "    \n",
    "    col_vol = np.product(col_bb)\n",
    "    vis_vol = np.product(vis_bb)\n",
    "    \n",
    "    col_vols[target] = col_vol\n",
    "    vis_vols[target] = vis_vol\n",
    "    bb_volume_ratios[target] = col_vol / vis_vol\n",
    "    \n",
    "    dim_ratio = col_bb / vis_bb\n",
    "    invalid_dims = np.isclose(vis_bb, 0, atol=1e-3)\n",
    "    if np.all(invalid_dims):\n",
    "        print(f\"Error: {target} bb's all dimensions are close to zero, can't include it:\", vis_bb)\n",
    "        continue\n",
    "    elif np.any(invalid_dims):\n",
    "        print(f\"Warning: {target} bb has dimension close to zero:\", vis_bb)\n",
    "    bb_max_nonzero_dim_ratios[target] = np.max(dim_ratio[~invalid_dims])"
   ]
  },
  {
   "cell_type": "code",
   "execution_count": null,
   "id": "5eece366",
   "metadata": {},
   "outputs": [],
   "source": [
    "print(\"Total\", len(filtered_objs))\n",
    "print(\"Watertight\", watertight)\n",
    "print(\"Ratio\", watertight / len(filtered_objs))"
   ]
  },
  {
   "cell_type": "code",
   "execution_count": null,
   "id": "50d46420",
   "metadata": {},
   "outputs": [],
   "source": [
    "a = np.array(list(col_vols.values()))\n",
    "display_stats(np.log(a), \"Collision bounding box volume histogram\")"
   ]
  },
  {
   "cell_type": "code",
   "execution_count": null,
   "id": "3ed0d8fb",
   "metadata": {},
   "outputs": [],
   "source": [
    "a = np.array(list(vis_vols.values()))\n",
    "display_stats(np.log(a), \"Visual bounding box volume histogram\")"
   ]
  },
  {
   "cell_type": "code",
   "execution_count": null,
   "id": "68371848",
   "metadata": {},
   "outputs": [],
   "source": [
    "a = np.array(list(bb_volume_ratios.values()))\n",
    "display_stats(a, \"Collision-to-visual bounding box volume ratio histogram\")"
   ]
  },
  {
   "cell_type": "code",
   "execution_count": null,
   "id": "ba4274ed",
   "metadata": {
    "scrolled": true
   },
   "outputs": [],
   "source": [
    "a = np.array(list(bb_max_nonzero_dim_ratios.values()))\n",
    "display_stats(a, \"Maximum collision-to-visual bounding box non-zero dimension ratio histogram\")"
   ]
  },
  {
   "cell_type": "markdown",
   "id": "202be852",
   "metadata": {},
   "source": [
    "## Objects with too many links"
   ]
  },
  {
   "cell_type": "code",
   "execution_count": null,
   "id": "9f97238f",
   "metadata": {},
   "outputs": [],
   "source": [
    "import sys\n",
    "sys.path.append(r\"D:\\ig_pipeline\")\n",
    "from b1k_pipeline.utils import get_targets, PIPELINE_ROOT, parse_name"
   ]
  },
  {
   "cell_type": "code",
   "execution_count": null,
   "id": "8c708fad",
   "metadata": {},
   "outputs": [],
   "source": [
    "import json\n",
    "from collections import defaultdict\n",
    "# Count the number of objects with non-tagged fixed links\n",
    "link_cnts = {}\n",
    "for target in tqdm.tqdm(get_targets(\"combined\")):\n",
    "    obj_list_file = PIPELINE_ROOT / \"cad\" / target / \"artifacts\" / \"object_list.json\"\n",
    "    assert obj_list_file.exists(), \"Missing obj list file \" + str(obj_list_file)\n",
    "    with open(obj_list_file, \"r\") as f:\n",
    "        data = json.load(f)\n",
    "        meshes = data[\"meshes\"]\n",
    "        parsed = [parse_name(x) for x in meshes]\n",
    "        obj_link_cnts = defaultdict(set)\n",
    "        for p in parsed:\n",
    "            if not p.group(\"link_name\") or p.group(\"link_name\") == \"base_link\":\n",
    "                continue\n",
    "            if p.group(\"bad\"):\n",
    "                continue\n",
    "            obj_name = p.group(\"obj_basename\")\n",
    "            link_name = p.group(\"link_basename\")\n",
    "            # Don't count openable links\n",
    "            if p.group(\"tag\") and \"openable\" in p.group(\"tag\"):\n",
    "                continue\n",
    "            obj_link_cnts[obj_name].add(link_name)\n",
    "        # fixed = sum(1 for x in parsed if x is not None and x.group(\"joint_type\") == \"F\" and not x.group(\"tag\"))\n",
    "        link_cnts.update({x: len(y) for x, y in obj_link_cnts.items()})"
   ]
  },
  {
   "cell_type": "code",
   "execution_count": null,
   "id": "6b9f7b21",
   "metadata": {},
   "outputs": [],
   "source": [
    "interesting = np.asarray(list(link_cnts.values()), dtype=int)\n",
    "interesting = interesting[interesting>3]\n",
    "display_stats(a, \"Collision-to-visual bounding box volume ratio histogram\")"
   ]
  },
  {
   "cell_type": "code",
   "execution_count": null,
   "id": "04ee7ca0",
   "metadata": {},
   "outputs": [],
   "source": [
    "print(\"\\n\".join(str(x) for x in sorted(link_cnts.items(), key=lambda x: -x[1])))"
   ]
  },
  {
   "cell_type": "code",
   "execution_count": null,
   "id": "1f9d6e1f",
   "metadata": {
    "scrolled": true
   },
   "outputs": [],
   "source": [
    "m = trimesh.load(r\"C:\\Users\\Cem\\Downloads\\test-fridge\\alarm-dkwmmf-base_link.obj\", force=\"mesh\", skip_material=True, merge_tex=True, merge_norm=True)"
   ]
  },
  {
   "cell_type": "code",
   "execution_count": null,
   "id": "f18110ac",
   "metadata": {},
   "outputs": [],
   "source": [
    "len(m.split())"
   ]
  },
  {
   "cell_type": "code",
   "execution_count": null,
   "id": "fb885582",
   "metadata": {},
   "outputs": [],
   "source": []
  }
 ],
 "metadata": {
  "kernelspec": {
   "display_name": "Python 3 (ipykernel)",
   "language": "python",
   "name": "python3"
  },
  "language_info": {
   "codemirror_mode": {
    "name": "ipython",
    "version": 3
   },
   "file_extension": ".py",
   "mimetype": "text/x-python",
   "name": "python",
   "nbconvert_exporter": "python",
   "pygments_lexer": "ipython3",
   "version": "3.8.0"
  }
 },
 "nbformat": 4,
 "nbformat_minor": 5
}
