{
 "cells": [
  {
   "cell_type": "code",
   "execution_count": 4,
   "metadata": {},
   "outputs": [
    {
     "data": {
      "application/vnd.jupyter.widget-view+json": {
       "model_id": "3c518c698724437a8b9a10bce6a44a6c",
       "version_major": 2,
       "version_minor": 0
      },
      "text/plain": [
       "  0%|          | 0/8042 [00:00<?, ?it/s]"
      ]
     },
     "metadata": {},
     "output_type": "display_data"
    }
   ],
   "source": [
    "import json\n",
    "import fs.zipfs\n",
    "from tqdm.notebook import tqdm\n",
    "\n",
    "obj_fs = fs.zipfs.ZipFS(\"/scr/ig_pipeline/artifacts/parallels/objects.zip\")\n",
    "meta_files = [x.path for x in obj_fs.glob(\"objects/*/*/misc/metadata.json\")]\n",
    "jsons = {meta_file: json.loads(obj_fs.gettext(meta_file)) for meta_file in tqdm(meta_files)}"
   ]
  },
  {
   "cell_type": "code",
   "execution_count": 21,
   "metadata": {},
   "outputs": [],
   "source": [
    "import collections\n",
    "from scipy.spatial.transform import Rotation as R\n",
    "import numpy as np\n",
    "\n",
    "bad_metas_by_type = collections.defaultdict(set)\n",
    "for obj, meta in jsons.items():\n",
    "    links = meta[\"meta_links\"]\n",
    "    for link_meta_items in links.values():\n",
    "        for meta_type, meta_type_items in link_meta_items.items():\n",
    "            for meta_id_items in meta_type_items.values():\n",
    "                for meta_subid_item in meta_id_items:\n",
    "                    if True: # R.from_quat(meta_subid_item[\"orientation\"]).magnitude() > np.deg2rad(1):\n",
    "                        bad_metas_by_type[meta_type].add(obj)"
   ]
  },
  {
   "cell_type": "code",
   "execution_count": 22,
   "metadata": {},
   "outputs": [
    {
     "data": {
      "text/plain": [
       "{'fillable': 598,\n",
       " 'particleapplier': 78,\n",
       " 'togglebutton': 538,\n",
       " 'particleremover': 12,\n",
       " 'heatsource': 45,\n",
       " 'lights': 284,\n",
       " 'fluidsource': 59,\n",
       " 'attachment': 8,\n",
       " 'slicer': 7,\n",
       " 'fluidsink': 70}"
      ]
     },
     "execution_count": 22,
     "metadata": {},
     "output_type": "execute_result"
    }
   ],
   "source": [
    "{mt: len(objs) for mt, objs in bad_metas_by_type.items()}"
   ]
  },
  {
   "cell_type": "code",
   "execution_count": null,
   "metadata": {},
   "outputs": [],
   "source": []
  }
 ],
 "metadata": {
  "kernelspec": {
   "display_name": "pipeline",
   "language": "python",
   "name": "python3"
  },
  "language_info": {
   "codemirror_mode": {
    "name": "ipython",
    "version": 3
   },
   "file_extension": ".py",
   "mimetype": "text/x-python",
   "name": "python",
   "nbconvert_exporter": "python",
   "pygments_lexer": "ipython3",
   "version": "3.8.0"
  },
  "orig_nbformat": 4
 },
 "nbformat": 4,
 "nbformat_minor": 2
}
