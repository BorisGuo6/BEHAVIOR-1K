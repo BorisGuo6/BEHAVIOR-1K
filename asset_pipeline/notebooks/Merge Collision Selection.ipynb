{
 "cells": [
  {
   "cell_type": "code",
   "execution_count": 4,
   "metadata": {},
   "outputs": [
    {
     "ename": "FileNotFoundError",
     "evalue": "[Errno 2] No such file or directory: '/scr/ig_pipeline/cad/objects/jersey-of/artifacts/collision_selection.json'",
     "output_type": "error",
     "traceback": [
      "\u001b[0;31m---------------------------------------------------------------------------\u001b[0m",
      "\u001b[0;31mFileNotFoundError\u001b[0m                         Traceback (most recent call last)",
      "Cell \u001b[0;32mIn[4], line 51\u001b[0m\n\u001b[1;32m     48\u001b[0m     cur_path\u001b[38;5;241m.\u001b[39munlink()\n\u001b[1;32m     50\u001b[0m \u001b[38;5;66;03m# Write the combined file\u001b[39;00m\n\u001b[0;32m---> 51\u001b[0m \u001b[38;5;28;01mwith\u001b[39;00m \u001b[38;5;28;43mopen\u001b[39;49m\u001b[43m(\u001b[49m\u001b[43mcur_path\u001b[49m\u001b[43m,\u001b[49m\u001b[43m \u001b[49m\u001b[38;5;124;43m\"\u001b[39;49m\u001b[38;5;124;43mw\u001b[39;49m\u001b[38;5;124;43m\"\u001b[39;49m\u001b[43m)\u001b[49m \u001b[38;5;28;01mas\u001b[39;00m f:\n\u001b[1;32m     52\u001b[0m     json\u001b[38;5;241m.\u001b[39mdump(combined_selection, f, indent\u001b[38;5;241m=\u001b[39m\u001b[38;5;241m2\u001b[39m)\n",
      "File \u001b[0;32m~/miniconda3/envs/pipeline/lib/python3.8/site-packages/IPython/core/interactiveshell.py:284\u001b[0m, in \u001b[0;36m_modified_open\u001b[0;34m(file, *args, **kwargs)\u001b[0m\n\u001b[1;32m    277\u001b[0m \u001b[38;5;28;01mif\u001b[39;00m file \u001b[38;5;129;01min\u001b[39;00m {\u001b[38;5;241m0\u001b[39m, \u001b[38;5;241m1\u001b[39m, \u001b[38;5;241m2\u001b[39m}:\n\u001b[1;32m    278\u001b[0m     \u001b[38;5;28;01mraise\u001b[39;00m \u001b[38;5;167;01mValueError\u001b[39;00m(\n\u001b[1;32m    279\u001b[0m         \u001b[38;5;124mf\u001b[39m\u001b[38;5;124m\"\u001b[39m\u001b[38;5;124mIPython won\u001b[39m\u001b[38;5;124m'\u001b[39m\u001b[38;5;124mt let you open fd=\u001b[39m\u001b[38;5;132;01m{\u001b[39;00mfile\u001b[38;5;132;01m}\u001b[39;00m\u001b[38;5;124m by default \u001b[39m\u001b[38;5;124m\"\u001b[39m\n\u001b[1;32m    280\u001b[0m         \u001b[38;5;124m\"\u001b[39m\u001b[38;5;124mas it is likely to crash IPython. If you know what you are doing, \u001b[39m\u001b[38;5;124m\"\u001b[39m\n\u001b[1;32m    281\u001b[0m         \u001b[38;5;124m\"\u001b[39m\u001b[38;5;124myou can use builtins\u001b[39m\u001b[38;5;124m'\u001b[39m\u001b[38;5;124m open.\u001b[39m\u001b[38;5;124m\"\u001b[39m\n\u001b[1;32m    282\u001b[0m     )\n\u001b[0;32m--> 284\u001b[0m \u001b[38;5;28;01mreturn\u001b[39;00m \u001b[43mio_open\u001b[49m\u001b[43m(\u001b[49m\u001b[43mfile\u001b[49m\u001b[43m,\u001b[49m\u001b[43m \u001b[49m\u001b[38;5;241;43m*\u001b[39;49m\u001b[43margs\u001b[49m\u001b[43m,\u001b[49m\u001b[43m \u001b[49m\u001b[38;5;241;43m*\u001b[39;49m\u001b[38;5;241;43m*\u001b[39;49m\u001b[43mkwargs\u001b[49m\u001b[43m)\u001b[49m\n",
      "\u001b[0;31mFileNotFoundError\u001b[0m: [Errno 2] No such file or directory: '/scr/ig_pipeline/cad/objects/jersey-of/artifacts/collision_selection.json'"
     ]
    }
   ],
   "source": [
    "import pathlib\n",
    "import json\n",
    "\n",
    "import sys\n",
    "sys.path.append(\"/scr/ig_pipeline\")\n",
    "\n",
    "from b1k_pipeline.utils import parse_name\n",
    "\n",
    "# Go through each target\n",
    "for target in pathlib.Path(\"/scr/ig_pipeline\").rglob(\"cad/*/*\"):\n",
    "    # Load the backup file\n",
    "    bkp_path = target / \"artifacts/collision_selection_backup.json\"\n",
    "    backup_selection = {}\n",
    "    if bkp_path.exists():\n",
    "        backup_selection = json.loads(bkp_path.read_text())\n",
    "\n",
    "    # Previous selection ID mapping\n",
    "    key_to_entry = {}\n",
    "    for entry in backup_selection.keys():\n",
    "        pn = parse_name(entry)\n",
    "        key = (pn.group(\"model_id\"), pn.group(\"link_name\"))\n",
    "        key_to_entry[key] = entry\n",
    "\n",
    "    # Load the current file\n",
    "    cur_path = target / \"artifacts/collision_selection.json\"\n",
    "    current_selection = {}\n",
    "    if cur_path.exists():\n",
    "        current_selection = json.loads(cur_path.read_text())\n",
    "\n",
    "    # Combine the two\n",
    "    combined_selection = {}\n",
    "    combined_selection.update(backup_selection)\n",
    "    \n",
    "    for entry, value in current_selection.items():\n",
    "        pn = parse_name(entry)\n",
    "        key = (pn.group(\"model_id\"), pn.group(\"link_name\"))\n",
    "        if key in key_to_entry:\n",
    "            combined_selection[key_to_entry[key]] = value\n",
    "        else:\n",
    "            combined_selection[entry] = value\n",
    "\n",
    "    # Remove the backup file\n",
    "    if bkp_path.exists():\n",
    "        bkp_path.unlink()\n",
    "\n",
    "    # Write the combined file\n",
    "    with open(cur_path, \"w\") as f:\n",
    "        json.dump(combined_selection, f, indent=2)"
   ]
  },
  {
   "cell_type": "code",
   "execution_count": null,
   "metadata": {},
   "outputs": [],
   "source": []
  }
 ],
 "metadata": {
  "kernelspec": {
   "display_name": "pipeline",
   "language": "python",
   "name": "python3"
  },
  "language_info": {
   "codemirror_mode": {
    "name": "ipython",
    "version": 3
   },
   "file_extension": ".py",
   "mimetype": "text/x-python",
   "name": "python",
   "nbconvert_exporter": "python",
   "pygments_lexer": "ipython3",
   "version": "3.8.0"
  }
 },
 "nbformat": 4,
 "nbformat_minor": 2
}
