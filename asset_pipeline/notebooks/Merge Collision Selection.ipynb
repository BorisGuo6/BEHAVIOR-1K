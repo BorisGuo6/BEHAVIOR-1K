{
 "cells": [
  {
   "cell_type": "code",
   "execution_count": 5,
   "metadata": {},
   "outputs": [],
   "source": [
    "import pathlib\n",
    "import json\n",
    "\n",
    "import sys\n",
    "sys.path.append(\"/scr/BEHAVIOR-1K/asset_pipeline\")\n",
    "\n",
    "from b1k_pipeline.utils import parse_name\n",
    "\n",
    "# Go through each target\n",
    "for target in pathlib.Path(\"/scr/BEHAVIOR-1K/asset_pipeline\").rglob(\"cad/*/*\"):\n",
    "    # Load the backup file\n",
    "    bkp_path = target / \"artifacts/collision_selection_backup.json\"\n",
    "    backup_selection = {}\n",
    "    if bkp_path.exists():\n",
    "        backup_selection = json.loads(bkp_path.read_text())\n",
    "\n",
    "    # Previous selection ID mapping\n",
    "    key_to_entry = {}\n",
    "    for entry in backup_selection.keys():\n",
    "        pn = parse_name(entry)\n",
    "        key = (pn.group(\"model_id\"), pn.group(\"link_name\"))\n",
    "        key_to_entry[key] = entry\n",
    "\n",
    "    # Load the current file\n",
    "    cur_path = target / \"artifacts/collision_selection.json\"\n",
    "    current_selection = {}\n",
    "    if cur_path.exists():\n",
    "        current_selection = json.loads(cur_path.read_text())\n",
    "\n",
    "    # Combine the two\n",
    "    combined_selection = {}\n",
    "    combined_selection.update(backup_selection)\n",
    "    \n",
    "    for entry, value in current_selection.items():\n",
    "        pn = parse_name(entry)\n",
    "        key = (pn.group(\"model_id\"), pn.group(\"link_name\"))\n",
    "        if key in key_to_entry:\n",
    "            combined_selection[key_to_entry[key]] = value\n",
    "        else:\n",
    "            combined_selection[entry] = value\n",
    "\n",
    "    # Remove the backup file\n",
    "    if bkp_path.exists():\n",
    "        bkp_path.unlink()\n",
    "\n",
    "    # Write the combined file\n",
    "    with open(cur_path, \"w\") as f:\n",
    "        json.dump(combined_selection, f, indent=2)"
   ]
  },
  {
   "cell_type": "code",
   "execution_count": null,
   "metadata": {},
   "outputs": [],
   "source": []
  }
 ],
 "metadata": {
  "kernelspec": {
   "display_name": "pipeline",
   "language": "python",
   "name": "python3"
  },
  "language_info": {
   "codemirror_mode": {
    "name": "ipython",
    "version": 3
   },
   "file_extension": ".py",
   "mimetype": "text/x-python",
   "name": "python",
   "nbconvert_exporter": "python",
   "pygments_lexer": "ipython3",
   "version": "3.8.0"
  }
 },
 "nbformat": 4,
 "nbformat_minor": 2
}
