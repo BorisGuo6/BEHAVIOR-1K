{
 "cells": [
  {
   "cell_type": "code",
   "execution_count": 23,
   "id": "6b492cf5",
   "metadata": {},
   "outputs": [],
   "source": [
    "import os, glob\n",
    "import igibson\n",
    "import json"
   ]
  },
  {
   "cell_type": "code",
   "execution_count": 24,
   "id": "2d76ef47",
   "metadata": {},
   "outputs": [],
   "source": [
    "obj_metadata_files = list(glob.glob(os.path.join(igibson.ig_dataset_path, \"objects\", \"*\", \"*\", \"misc\", \"metadata.json\")))"
   ]
  },
  {
   "cell_type": "code",
   "execution_count": 25,
   "id": "4bfe9144",
   "metadata": {},
   "outputs": [
    {
     "data": {
      "text/plain": [
       "1216"
      ]
     },
     "execution_count": 25,
     "metadata": {},
     "output_type": "execute_result"
    }
   ],
   "source": [
    "len(obj_metadata_files)"
   ]
  },
  {
   "cell_type": "code",
   "execution_count": 26,
   "id": "8c2518ee",
   "metadata": {},
   "outputs": [],
   "source": [
    "obj_metadatas = []\n",
    "for x in obj_metadata_files:\n",
    "    with open(x, \"r\") as f:\n",
    "        obj_metadatas.append(json.load(f))"
   ]
  },
  {
   "cell_type": "code",
   "execution_count": 27,
   "id": "ed019d5b",
   "metadata": {},
   "outputs": [
    {
     "data": {
      "text/plain": [
       "1216"
      ]
     },
     "execution_count": 27,
     "metadata": {},
     "output_type": "execute_result"
    }
   ],
   "source": [
    "len(obj_metadatas)"
   ]
  },
  {
   "cell_type": "code",
   "execution_count": 28,
   "id": "513243d3",
   "metadata": {},
   "outputs": [
    {
     "data": {
      "text/plain": [
       "{'base_link_offset',\n",
       " 'bbox_size',\n",
       " 'link_bounding_boxes',\n",
       " 'links',\n",
       " 'object_parts',\n",
       " 'openable_both_sides',\n",
       " 'openable_joint_ids',\n",
       " 'orientations'}"
      ]
     },
     "execution_count": 28,
     "metadata": {},
     "output_type": "execute_result"
    }
   ],
   "source": [
    "# Take a look at the unique base-level keys\n",
    "{key for om in obj_metadatas for key in om.keys()}"
   ]
  },
  {
   "cell_type": "code",
   "execution_count": 47,
   "id": "9a181b57",
   "metadata": {},
   "outputs": [
    {
     "name": "stdout",
     "output_type": "stream",
     "text": [
      "6\n"
     ]
    }
   ],
   "source": [
    "interesting = [(f, x) for f, x in zip(obj_metadata_files, obj_metadatas) if \"links\" in x and \"slicer\" in x[\"links\"]]\n",
    "print(len(interesting))"
   ]
  },
  {
   "cell_type": "code",
   "execution_count": 48,
   "id": "27b484a4",
   "metadata": {},
   "outputs": [
    {
     "data": {
      "text/plain": [
       "('C:\\\\Users\\\\Cem\\\\research\\\\iGibson-dev\\\\igibson\\\\data/ig_dataset\\\\objects\\\\carving_knife\\\\14_1\\\\misc\\\\metadata.json',\n",
       " {'base_link_offset': [-0.0007170001044869423,\n",
       "   -0.03149750083684921,\n",
       "   0.0003304993733763695],\n",
       "  'bbox_size': [0.02722799964249134, 0.29401300847530365, 0.03829699940979481],\n",
       "  'orientations': [{'prob': 1.0,\n",
       "    'variation': 1.0,\n",
       "    'rotation': [-0.605094126820106,\n",
       "     -0.32325616815491365,\n",
       "     0.6288922401729903,\n",
       "     -0.36587032906183214],\n",
       "    'size': [0.27571264292399983, 0.19364438024025218, 0.043796447850974335]}],\n",
       "  'links': {'slicer': {'geometry': 'box',\n",
       "    'size': [0.18, 0.002, 0.00035],\n",
       "    'xyz': [0.0, -0.09, -0.02],\n",
       "    'rpy': [0.0, -0.0, 1.5707963267948963]}},\n",
       "  'link_bounding_boxes': {'base_link': {'collision': {'axis_aligned': {'extent': [0.027228000000000002,\n",
       "       0.29401299999999997,\n",
       "       0.038297],\n",
       "      'transform': [[1.0, 0.0, 0.0, -0.0007169999999999998],\n",
       "       [0.0, 1.0, 0.0, -0.0314975],\n",
       "       [0.0, 0.0, 1.0, 0.0003304999999999992],\n",
       "       [0.0, 0.0, 0.0, 1.0]]},\n",
       "     'oriented': {'extent': [0.0272551355435091,\n",
       "       0.03699835438894609,\n",
       "       0.2939268553173452],\n",
       "      'transform': [[0.9999546114719006,\n",
       "        0.009506523909878047,\n",
       "        -0.0006332450008318182,\n",
       "        -0.0008348340972080673],\n",
       "       [-0.000542828279682324,\n",
       "        -0.009510587395199612,\n",
       "        -0.9999546260030288,\n",
       "        -0.03149915109819715],\n",
       "       [-0.009512115092813937,\n",
       "        0.9999095832776826,\n",
       "        -0.009504995313616624,\n",
       "        5.845354408516927e-05],\n",
       "       [0.0, 0.0, 0.0, 1.0]]}},\n",
       "    'visual': {'axis_aligned': {'extent': [0.026625, 0.294036, 0.037882],\n",
       "      'transform': [[1.0, 0.0, 0.0, -0.0008085000000000002],\n",
       "       [0.0, 1.0, 0.0, -0.031710999999999996],\n",
       "       [0.0, 0.0, 1.0, 0.0003359999999999995],\n",
       "       [0.0, 0.0, 0.0, 1.0]]},\n",
       "     'oriented': {'extent': [0.026281603942301085,\n",
       "       0.03715195096136414,\n",
       "       0.29392904251156937],\n",
       "      'transform': [[-0.9944853713371116,\n",
       "        -0.10351421295047022,\n",
       "        0.016842028195312195,\n",
       "        -0.002538972187846141],\n",
       "       [0.01776761407484155,\n",
       "        -0.008026001784941474,\n",
       "        0.9998099295293259,\n",
       "        -0.03165671454296656],\n",
       "       [-0.10335936380693568,\n",
       "        0.994595591691715,\n",
       "        0.009820941952414763,\n",
       "        -0.00026717482922349603],\n",
       "       [0.0, 0.0, 0.0, 1.0]]}}}}})"
      ]
     },
     "execution_count": 48,
     "metadata": {},
     "output_type": "execute_result"
    }
   ],
   "source": [
    "interesting[0]"
   ]
  },
  {
   "cell_type": "code",
   "execution_count": 34,
   "id": "240e0b6d",
   "metadata": {},
   "outputs": [
    {
     "name": "stdout",
     "output_type": "stream",
     "text": [
      "{'water_source', 'heat_source', 'cleaning_tool_area', 'slicer', 'toggle_button'}\n"
     ]
    }
   ],
   "source": [
    "link_ids = set(key for _, x in interesting for key in x[\"links\"].keys())\n",
    "print(link_ids)"
   ]
  },
  {
   "cell_type": "code",
   "execution_count": 36,
   "id": "309bee5a",
   "metadata": {},
   "outputs": [
    {
     "name": "stdout",
     "output_type": "stream",
     "text": [
      "water_source : {'xyz', 'size', 'rpy', 'geometry'}\n",
      "heat_source : {'xyz', 'size', 'rpy', 'geometry'}\n",
      "cleaning_tool_area : {'xyz', 'size', 'rpy', 'geometry'}\n",
      "slicer : {'xyz', 'size', 'rpy', 'geometry'}\n",
      "toggle_button : {'xyz', 'size', 'rpy', 'geometry'}\n"
     ]
    }
   ],
   "source": [
    "for link_id in link_ids:\n",
    "    id_interesting = [(f, x) for f, x in zip(obj_metadata_files, obj_metadatas) if \"links\" in x and link_id in x[\"links\"]]\n",
    "    link_features = set(key for _, x in id_interesting for key in x[\"links\"][link_id].keys())\n",
    "    print(link_id, \":\", link_features)"
   ]
  },
  {
   "cell_type": "code",
   "execution_count": 45,
   "id": "81869406",
   "metadata": {},
   "outputs": [
    {
     "name": "stdout",
     "output_type": "stream",
     "text": [
      "{'slicer', 'cleaning_tool_area'}\n",
      "{'box'}\n",
      "{'cleaning_tool_area': {'geometry': 'box', 'size': [15.547669797390698, 41.33866354227065, 8.505709015205484], 'xyz': [-9.580486297607422, 0.66823810338974, 4.875622749328613], 'rpy': [2.7894475381535686e-09, 0.26179938375919576, -0.26179935794962716]}}\n"
     ]
    }
   ],
   "source": [
    "# Which ones have non-none Geometry?\n",
    "geo_interesting = [(f, x) for f, x in zip(obj_metadata_files, obj_metadatas) if \"links\" in x and any(linkdata[\"geometry\"] is not None for linkdata in x[\"links\"].values())]\n",
    "geo_interesting_link_ids = set(key for _, x in geo_interesting for key in x[\"links\"].keys())\n",
    "geo_types = set(link[\"geometry\"] for _, x in geo_interesting for link in x[\"links\"].values())\n",
    "\n",
    "print(geo_interesting_link_ids)\n",
    "print(geo_types)\n",
    "print(geo_interesting[0][1][\"links\"])"
   ]
  },
  {
   "cell_type": "code",
   "execution_count": null,
   "id": "dd7bcad2",
   "metadata": {},
   "outputs": [],
   "source": []
  }
 ],
 "metadata": {
  "kernelspec": {
   "display_name": "Python 3 (ipykernel)",
   "language": "python",
   "name": "python3"
  },
  "language_info": {
   "codemirror_mode": {
    "name": "ipython",
    "version": 3
   },
   "file_extension": ".py",
   "mimetype": "text/x-python",
   "name": "python",
   "nbconvert_exporter": "python",
   "pygments_lexer": "ipython3",
   "version": "3.8.0"
  }
 },
 "nbformat": 4,
 "nbformat_minor": 5
}
