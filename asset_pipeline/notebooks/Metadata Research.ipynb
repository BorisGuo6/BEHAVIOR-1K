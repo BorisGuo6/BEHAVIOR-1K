{
 "cells": [
  {
   "cell_type": "code",
   "execution_count": 6,
   "id": "6b492cf5",
   "metadata": {},
   "outputs": [],
   "source": [
    "import os, glob\n",
    "import igibson\n",
    "import json"
   ]
  },
  {
   "cell_type": "code",
   "execution_count": 4,
   "id": "2d76ef47",
   "metadata": {},
   "outputs": [],
   "source": [
    "obj_metadata_files = list(glob.glob(os.path.join(igibson.ig_dataset_path, \"objects\", \"*\", \"*\", \"misc\", \"metadata.json\")))"
   ]
  },
  {
   "cell_type": "code",
   "execution_count": 5,
   "id": "4bfe9144",
   "metadata": {},
   "outputs": [
    {
     "data": {
      "text/plain": [
       "1419"
      ]
     },
     "execution_count": 5,
     "metadata": {},
     "output_type": "execute_result"
    }
   ],
   "source": [
    "len(obj_metadata_files)"
   ]
  },
  {
   "cell_type": "code",
   "execution_count": 7,
   "id": "8c2518ee",
   "metadata": {},
   "outputs": [],
   "source": [
    "obj_metadatas = []\n",
    "for x in obj_metadata_files:\n",
    "    with open(x, \"r\") as f:\n",
    "        obj_metadatas.append(json.load(f))"
   ]
  },
  {
   "cell_type": "code",
   "execution_count": 8,
   "id": "ed019d5b",
   "metadata": {},
   "outputs": [
    {
     "data": {
      "text/plain": [
       "1419"
      ]
     },
     "execution_count": 8,
     "metadata": {},
     "output_type": "execute_result"
    }
   ],
   "source": [
    "len(obj_metadatas)"
   ]
  },
  {
   "cell_type": "code",
   "execution_count": 10,
   "id": "513243d3",
   "metadata": {},
   "outputs": [
    {
     "data": {
      "text/plain": [
       "{'base_link_offset',\n",
       " 'bbox_size',\n",
       " 'link_bounding_boxes',\n",
       " 'links',\n",
       " 'meta_links',\n",
       " 'object_parts',\n",
       " 'openable_both_sides',\n",
       " 'openable_joint_ids',\n",
       " 'orientations'}"
      ]
     },
     "execution_count": 10,
     "metadata": {},
     "output_type": "execute_result"
    }
   ],
   "source": [
    "# Take a look at the unique base-level keys\n",
    "{key for om in obj_metadatas for key in om.keys()}"
   ]
  },
  {
   "cell_type": "code",
   "execution_count": 13,
   "id": "9a181b57",
   "metadata": {},
   "outputs": [
    {
     "data": {
      "text/plain": [
       "{'base_link_offset': [0.007789492607116699,\n",
       "  -0.012110501527786255,\n",
       "  0.011582016944885254],\n",
       " 'bbox_size': [1.6777009963989258, 0.4642089903354645, 1.048359990119934],\n",
       " 'openable_joint_ids': [[0, 'joint_0']],\n",
       " 'link_bounding_boxes': {'link_0': {'collision': {'axis_aligned': {'extent': [1.608527,\n",
       "      0.046460999999999975,\n",
       "      0.5592279999999998],\n",
       "     'transform': [[1.0, 0.0, 0.0, 0.8089452895918481],\n",
       "      [0.0, 1.0, 0.0, -0.020090711864626437],\n",
       "      [0.0, 0.0, 1.0, -0.7246619789352416],\n",
       "      [0.0, 0.0, 0.0, 1.0]]},\n",
       "    'oriented': {'extent': [0.046460999999999975,\n",
       "      0.559375218021504,\n",
       "      1.6085296590753397],\n",
       "     'transform': [[2.449293591973615e-16,\n",
       "       -0.00010160278263374189,\n",
       "       0.9999999948384373,\n",
       "       0.808926248255241],\n",
       "      [1.0,\n",
       "       1.2442752253687629e-20,\n",
       "       -2.449293591973615e-16,\n",
       "       -0.020090711864626243],\n",
       "      [1.2442752253687626e-20,\n",
       "       0.9999999948384373,\n",
       "       0.00010160278263374189,\n",
       "       -0.7246618823151947],\n",
       "      [0.0, 0.0, 0.0, 1.0]]}},\n",
       "   'visual': {'axis_aligned': {'extent': [1.6080769999999998,\n",
       "      0.04624900000000001,\n",
       "      0.558674],\n",
       "     'transform': [[1.0, 0.0, 0.0, 0.8089202895918479],\n",
       "      [0.0, 1.0, 0.0, -0.02005371186462644],\n",
       "      [0.0, 0.0, 1.0, -0.7245299789352417],\n",
       "      [0.0, 0.0, 0.0, 1.0]]},\n",
       "    'oriented': {'extent': [0.04624900000000001, 0.558674, 1.6080769999999998],\n",
       "     'transform': [[0.0, 0.0, 1.0, 0.8089202895918478],\n",
       "      [1.0, 0.0, 0.0, -0.02005371186462644],\n",
       "      [0.0, 1.0, 0.0, -0.7245299789352417],\n",
       "      [0.0, 0.0, 0.0, 1.0]]}}},\n",
       "  'base_link': {'collision': {'axis_aligned': {'extent': [1.6777009999999999,\n",
       "      0.42071000000000003,\n",
       "      1.04836],\n",
       "     'transform': [[1.0, 0.0, 0.0, 0.007789499999999949],\n",
       "      [0.0, 1.0, 0.0, 0.009638999999999995],\n",
       "      [0.0, 0.0, 1.0, 0.011581999999999981],\n",
       "      [0.0, 0.0, 0.0, 1.0]]},\n",
       "    'oriented': {'extent': [0.4207099999999999, 1.04836, 1.6777009999999999],\n",
       "     'transform': [[0.0, 0.0, 1.0, 0.007789499999999894],\n",
       "      [1.0, 0.0, 0.0, 0.009639000000000009],\n",
       "      [0.0, 1.0, 0.0, 0.011581999999999981],\n",
       "      [0.0, 0.0, 0.0, 1.0]]}},\n",
       "   'visual': {'axis_aligned': {'extent': [1.676021, 0.419006, 1.047513],\n",
       "     'transform': [[1.0, 0.0, 0.0, 0.007789500000000005],\n",
       "      [0.0, 1.0, 0.0, 0.009494000000000002],\n",
       "      [0.0, 0.0, 1.0, 0.011835499999999999],\n",
       "      [0.0, 0.0, 0.0, 1.0]]},\n",
       "    'oriented': {'extent': [0.419006, 1.047513, 1.676021],\n",
       "     'transform': [[0.0, 0.0, 1.0, 0.007789500000000005],\n",
       "      [1.0, 0.0, 0.0, 0.009494000000000002],\n",
       "      [0.0, 1.0, 0.0, 0.011835499999999999],\n",
       "      [0.0, 0.0, 0.0, 1.0]]}}}}}"
      ]
     },
     "execution_count": 13,
     "metadata": {},
     "output_type": "execute_result"
    }
   ],
   "source": [
    "next(x for x in obj_metadatas if \"openable_joint_ids\" in x)"
   ]
  },
  {
   "cell_type": "code",
   "execution_count": null,
   "id": "240e0b6d",
   "metadata": {},
   "outputs": [],
   "source": []
  }
 ],
 "metadata": {
  "kernelspec": {
   "display_name": "Python 3",
   "language": "python",
   "name": "python3"
  },
  "language_info": {
   "codemirror_mode": {
    "name": "ipython",
    "version": 3
   },
   "file_extension": ".py",
   "mimetype": "text/x-python",
   "name": "python",
   "nbconvert_exporter": "python",
   "pygments_lexer": "ipython3",
   "version": "3.7.10"
  }
 },
 "nbformat": 4,
 "nbformat_minor": 5
}
