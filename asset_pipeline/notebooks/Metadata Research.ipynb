{
 "cells": [
  {
   "cell_type": "code",
   "execution_count": 17,
   "id": "6b492cf5",
   "metadata": {},
   "outputs": [],
   "source": [
    "import os, glob, pathlib\n",
    "import igibson\n",
    "import json"
   ]
  },
  {
   "cell_type": "code",
   "execution_count": 2,
   "id": "2d76ef47",
   "metadata": {},
   "outputs": [],
   "source": [
    "obj_metadata_files = list(glob.glob(os.path.join(igibson.ig_dataset_path, \"objects\", \"*\", \"*\", \"misc\", \"metadata.json\")))"
   ]
  },
  {
   "cell_type": "code",
   "execution_count": 3,
   "id": "4bfe9144",
   "metadata": {},
   "outputs": [
    {
     "data": {
      "text/plain": [
       "1216"
      ]
     },
     "execution_count": 3,
     "metadata": {},
     "output_type": "execute_result"
    }
   ],
   "source": [
    "len(obj_metadata_files)"
   ]
  },
  {
   "cell_type": "code",
   "execution_count": 4,
   "id": "8c2518ee",
   "metadata": {},
   "outputs": [],
   "source": [
    "obj_metadatas = []\n",
    "for x in obj_metadata_files:\n",
    "    with open(x, \"r\") as f:\n",
    "        obj_metadatas.append(json.load(f))"
   ]
  },
  {
   "cell_type": "code",
   "execution_count": 5,
   "id": "ed019d5b",
   "metadata": {},
   "outputs": [
    {
     "data": {
      "text/plain": [
       "1216"
      ]
     },
     "execution_count": 5,
     "metadata": {},
     "output_type": "execute_result"
    }
   ],
   "source": [
    "len(obj_metadatas)"
   ]
  },
  {
   "cell_type": "code",
   "execution_count": 6,
   "id": "513243d3",
   "metadata": {},
   "outputs": [
    {
     "data": {
      "text/plain": [
       "{'base_link_offset',\n",
       " 'bbox_size',\n",
       " 'link_bounding_boxes',\n",
       " 'links',\n",
       " 'object_parts',\n",
       " 'openable_both_sides',\n",
       " 'openable_joint_ids',\n",
       " 'orientations'}"
      ]
     },
     "execution_count": 6,
     "metadata": {},
     "output_type": "execute_result"
    }
   ],
   "source": [
    "# Take a look at the unique base-level keys\n",
    "{key for om in obj_metadatas for key in om.keys()}"
   ]
  },
  {
   "cell_type": "code",
   "execution_count": 15,
   "id": "3de2b0b7",
   "metadata": {},
   "outputs": [],
   "source": [
    "import yaml\n",
    "IN_DATASET_ROOT = r\"C:\\Users\\Cem\\research\\iGibson-dev\\igibson\\data\\ig_dataset\"\n",
    "TRANSLATION_PATH = os.path.join(IN_DATASET_ROOT, \"metadata\", \"model_rename.yaml\")\n",
    "with open(TRANSLATION_PATH, \"r\") as f:\n",
    "    TRANSLATION_DICT = yaml.load(f, Loader=yaml.SafeLoader)"
   ]
  },
  {
   "cell_type": "code",
   "execution_count": 27,
   "id": "03749460",
   "metadata": {},
   "outputs": [
    {
     "name": "stdout",
     "output_type": "stream",
     "text": [
      "dvc add cad/objects/legacy_apple-agveuv/processed.max cad/objects/legacy_apple-agveuv/textures cad/objects/legacy_apple-omzprq/processed.max cad/objects/legacy_apple-omzprq/textures cad/objects/legacy_apricot-qmwmwm/processed.max cad/objects/legacy_apricot-qmwmwm/textures cad/objects/legacy_chestnut-fmomat/processed.max cad/objects/legacy_chestnut-fmomat/textures cad/objects/legacy_coconut-qwriih/processed.max cad/objects/legacy_coconut-qwriih/textures cad/objects/legacy_kiwi-khupqq/processed.max cad/objects/legacy_kiwi-khupqq/textures cad/objects/legacy_lemon-vuwehu/processed.max cad/objects/legacy_lemon-vuwehu/textures cad/objects/legacy_mushroom-zlukhz/processed.max cad/objects/legacy_mushroom-zlukhz/textures cad/objects/legacy_orange-ucstpm/processed.max cad/objects/legacy_orange-ucstpm/textures cad/objects/legacy_peach-wrutgk/processed.max cad/objects/legacy_peach-wrutgk/textures cad/objects/legacy_pear-ngtwvy/processed.max cad/objects/legacy_pear-ngtwvy/textures cad/objects/legacy_pineapple-wfaybl/processed.max cad/objects/legacy_pineapple-wfaybl/textures cad/objects/legacy_plum-rhaemq/processed.max cad/objects/legacy_plum-rhaemq/textures cad/objects/legacy_pomegranate-tldskr/processed.max cad/objects/legacy_pomegranate-tldskr/textures cad/objects/legacy_pomelo-ezckjt/processed.max cad/objects/legacy_pomelo-ezckjt/textures cad/objects/legacy_strawberry-xcnzxh/processed.max cad/objects/legacy_strawberry-xcnzxh/textures cad/objects/legacy_tomato-altlfz/processed.max cad/objects/legacy_tomato-altlfz/textures cad/objects/legacy_vidalia_onion-ldeuli/processed.max cad/objects/legacy_vidalia_onion-ldeuli/textures cad/objects/legacy_vidalia_onion-buyxll/processed.max cad/objects/legacy_vidalia_onion-buyxll/textures\n"
     ]
    }
   ],
   "source": [
    "def find_sliceable():\n",
    "    old_interesting = [(pathlib.Path(f).parts[-4], pathlib.Path(f).parts[-3]) for f, x in zip(obj_metadata_files, obj_metadatas) if \"object_parts\" in x]\n",
    "    old_names = [TRANSLATION_DICT[old_category_name + \"/\" + old_model_name].split(\"/\") for old_category_name, old_model_name in old_interesting]\n",
    "    print(\"dvc add\", \" \".join([f\"cad/objects/legacy_{cat}-{mod}/processed.max cad/objects/legacy_{cat}-{mod}/textures\" for cat, mod in old_names]))\n",
    "    \n",
    "find_sliceable()"
   ]
  },
  {
   "cell_type": "code",
   "execution_count": 8,
   "id": "27b484a4",
   "metadata": {},
   "outputs": [
    {
     "data": {
      "text/plain": [
       "('C:\\\\Users\\\\Cem\\\\research\\\\iGibson-dev\\\\igibson\\\\data/ig_dataset\\\\objects\\\\apple\\\\00_0\\\\misc\\\\metadata.json',\n",
       " {'base_link_offset': [0.0002865009009838104,\n",
       "   -0.00014150142669677734,\n",
       "   0.0011289995163679123],\n",
       "  'bbox_size': [0.06453900039196014, 0.06561899930238724, 0.07745200023055077],\n",
       "  'orientations': [],\n",
       "  'object_parts': [{'category': 'apple',\n",
       "    'model': '00_1',\n",
       "    'pos': [0.005, 0.0, 0.0],\n",
       "    'orn': [0.0, 0.0, 0.0, 1.0]},\n",
       "   {'category': 'apple',\n",
       "    'model': '00_1',\n",
       "    'pos': [-0.005, 0.0, 0.0],\n",
       "    'orn': [0.0, 0.0, 1.0, 0.0]}],\n",
       "  'link_bounding_boxes': {'base_link': {'collision': {'axis_aligned': {'extent': [0.064539,\n",
       "       0.06561900000000001,\n",
       "       0.077452],\n",
       "      'transform': [[1.0, 0.0, 0.0, 0.00028650000000000203],\n",
       "       [0.0, 1.0, 0.0, -0.00014149999999999927],\n",
       "       [0.0, 0.0, 1.0, 0.0011290000000000015],\n",
       "       [0.0, 0.0, 0.0, 1.0]]},\n",
       "     'oriented': {'extent': [0.06414657394238396,\n",
       "       0.06600148273623291,\n",
       "       0.06830139396790418],\n",
       "      'transform': [[-0.796252236955895,\n",
       "        -0.5987303564398111,\n",
       "        -0.0866275673223599,\n",
       "        -0.00029420508930861955],\n",
       "       [-0.5352682827362027,\n",
       "        0.630531161578391,\n",
       "        0.5620661169072918,\n",
       "        0.0012507698399980898],\n",
       "       [-0.28190466587016527,\n",
       "        0.493915392102799,\n",
       "        -0.8225432175907653,\n",
       "        -0.00048214457336693823],\n",
       "       [0.0, 0.0, 0.0, 1.0]]}},\n",
       "    'visual': {'axis_aligned': {'extent': [0.065248,\n",
       "       0.065248,\n",
       "       0.07691400000000001],\n",
       "      'transform': [[1.0, 0.0, 0.0, -0.00017],\n",
       "       [0.0, 1.0, 0.0, -5.8000000000002494e-05],\n",
       "       [0.0, 0.0, 1.0, 0.0011290000000000015],\n",
       "       [0.0, 0.0, 0.0, 1.0]]},\n",
       "     'oriented': {'extent': [0.06500040081753446,\n",
       "       0.06681960840542281,\n",
       "       0.06907502298457867],\n",
       "      'transform': [[0.8191293022868474,\n",
       "        -0.4907046719328185,\n",
       "        0.2970456380396244,\n",
       "        0.0005955745106309848],\n",
       "       [-0.5736089133726169,\n",
       "        -0.7007625060691589,\n",
       "        0.4241517706990714,\n",
       "        0.001036299139502186],\n",
       "       [2.519023894778342e-05,\n",
       "        -0.5178231696544456,\n",
       "        -0.8554876763194633,\n",
       "        -0.00046943091445960505],\n",
       "       [0.0, 0.0, 0.0, 1.0]]}}}}})"
      ]
     },
     "execution_count": 8,
     "metadata": {},
     "output_type": "execute_result"
    }
   ],
   "source": [
    "interesting[0]"
   ]
  },
  {
   "cell_type": "code",
   "execution_count": 34,
   "id": "240e0b6d",
   "metadata": {},
   "outputs": [
    {
     "name": "stdout",
     "output_type": "stream",
     "text": [
      "{'water_source', 'heat_source', 'cleaning_tool_area', 'slicer', 'toggle_button'}\n"
     ]
    }
   ],
   "source": [
    "link_ids = set(key for _, x in interesting for key in x[\"links\"].keys())\n",
    "print(link_ids)"
   ]
  },
  {
   "cell_type": "code",
   "execution_count": 36,
   "id": "309bee5a",
   "metadata": {},
   "outputs": [
    {
     "name": "stdout",
     "output_type": "stream",
     "text": [
      "water_source : {'xyz', 'size', 'rpy', 'geometry'}\n",
      "heat_source : {'xyz', 'size', 'rpy', 'geometry'}\n",
      "cleaning_tool_area : {'xyz', 'size', 'rpy', 'geometry'}\n",
      "slicer : {'xyz', 'size', 'rpy', 'geometry'}\n",
      "toggle_button : {'xyz', 'size', 'rpy', 'geometry'}\n"
     ]
    }
   ],
   "source": [
    "for link_id in link_ids:\n",
    "    id_interesting = [(f, x) for f, x in zip(obj_metadata_files, obj_metadatas) if \"links\" in x and link_id in x[\"links\"]]\n",
    "    link_features = set(key for _, x in id_interesting for key in x[\"links\"][link_id].keys())\n",
    "    print(link_id, \":\", link_features)"
   ]
  },
  {
   "cell_type": "code",
   "execution_count": 45,
   "id": "81869406",
   "metadata": {},
   "outputs": [
    {
     "name": "stdout",
     "output_type": "stream",
     "text": [
      "{'slicer', 'cleaning_tool_area'}\n",
      "{'box'}\n",
      "{'cleaning_tool_area': {'geometry': 'box', 'size': [15.547669797390698, 41.33866354227065, 8.505709015205484], 'xyz': [-9.580486297607422, 0.66823810338974, 4.875622749328613], 'rpy': [2.7894475381535686e-09, 0.26179938375919576, -0.26179935794962716]}}\n"
     ]
    }
   ],
   "source": [
    "# Which ones have non-none Geometry?\n",
    "geo_interesting = [(f, x) for f, x in zip(obj_metadata_files, obj_metadatas) if \"links\" in x and any(linkdata[\"geometry\"] is not None for linkdata in x[\"links\"].values())]\n",
    "geo_interesting_link_ids = set(key for _, x in geo_interesting for key in x[\"links\"].keys())\n",
    "geo_types = set(link[\"geometry\"] for _, x in geo_interesting for link in x[\"links\"].values())\n",
    "\n",
    "print(geo_interesting_link_ids)\n",
    "print(geo_types)\n",
    "print(geo_interesting[0][1][\"links\"])"
   ]
  },
  {
   "cell_type": "code",
   "execution_count": null,
   "id": "dd7bcad2",
   "metadata": {},
   "outputs": [],
   "source": []
  }
 ],
 "metadata": {
  "kernelspec": {
   "display_name": "Python 3 (ipykernel)",
   "language": "python",
   "name": "python3"
  },
  "language_info": {
   "codemirror_mode": {
    "name": "ipython",
    "version": 3
   },
   "file_extension": ".py",
   "mimetype": "text/x-python",
   "name": "python",
   "nbconvert_exporter": "python",
   "pygments_lexer": "ipython3",
   "version": "3.8.0"
  }
 },
 "nbformat": 4,
 "nbformat_minor": 5
}
