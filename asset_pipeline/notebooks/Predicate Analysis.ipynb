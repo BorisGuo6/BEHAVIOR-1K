{
 "cells": [
  {
   "cell_type": "code",
   "execution_count": 3,
   "id": "4705b00e",
   "metadata": {},
   "outputs": [],
   "source": [
    "import glob, pathlib\n",
    "from bddl.activity import Conditions"
   ]
  },
  {
   "cell_type": "code",
   "execution_count": 4,
   "id": "7f0a10d3",
   "metadata": {},
   "outputs": [],
   "source": [
    "# Get the activity filename map\n",
    "act_to_fn = {}\n",
    "\n",
    "from_b1k = glob.glob(r\"D:\\ObjectPropertyAnnotation\\init_goal_cond_annotations\\problem_files_verified_b1k\\*\")\n",
    "from_b100 = glob.glob(r\"D:\\bddl-dev\\bddl\\activity_definitions\\*\")\n",
    "for x in from_b1k + from_b100:\n",
    "    p = pathlib.Path(x)\n",
    "    if not p.is_dir():\n",
    "        continue\n",
    "    act_name = p.name.replace(\" \", \"_\").replace(\"-\", \"_\").replace(\"'\", \"_\")\n",
    "    if act_name in act_to_fn:\n",
    "        print(f\"Found duplicate for {act_name}\")\n",
    "    act_to_fn[act_name] = p"
   ]
  },
  {
   "cell_type": "code",
   "execution_count": 15,
   "id": "b2d644fc",
   "metadata": {},
   "outputs": [
    {
     "data": {
      "text/plain": [
       "1063"
      ]
     },
     "execution_count": 15,
     "metadata": {},
     "output_type": "execute_result"
    }
   ],
   "source": [
    "len(act_to_fn)"
   ]
  },
  {
   "cell_type": "code",
   "execution_count": 13,
   "id": "e3883256",
   "metadata": {},
   "outputs": [],
   "source": [
    "def evaluate_task(task_name):\n",
    "    task_file = act_to_fn[task_name] / \"problem0.bddl\"\n",
    "    assert task_file.exists(), f\"{task_name} file missing\"\n",
    "    with open(task_file, \"r\") as f:\n",
    "        predefined_problem = \"\".join(f.readlines())\n",
    "    dom = \"omnigibson\" if \"ObjectPropertyAnnotation\" in str(task_file) else \"igibson\"\n",
    "    conds = Conditions(task_name, \"potato\", dom, predefined_problem=predefined_problem)\n",
    "    return list(conds.parsed_goal_conditions)"
   ]
  },
  {
   "cell_type": "code",
   "execution_count": 20,
   "id": "8f27414a",
   "metadata": {},
   "outputs": [
    {
     "name": "stdout",
     "output_type": "stream",
     "text": [
      "f is not recognized in problem\n"
     ]
    }
   ],
   "source": [
    "pred_counts = sorted([(x, len(evaluate_task(x))) for x in act_to_fn], key=lambda x: -x[1])"
   ]
  },
  {
   "cell_type": "code",
   "execution_count": 21,
   "id": "d7c77e53",
   "metadata": {},
   "outputs": [
    {
     "data": {
      "image/png": "[encoded data removed]",
      "text/plain": [
       "<Figure size 432x288 with 1 Axes>"
      ]
     },
     "metadata": {
      "needs_background": "light"
     },
     "output_type": "display_data"
    }
   ],
   "source": [
    "import matplotlib.pyplot as plt\n",
    "plt.hist([x[1] for x in pred_counts], bins=\"auto\")\n",
    "plt.show()"
   ]
  },
  {
   "cell_type": "code",
   "execution_count": 24,
   "id": "02b5282f",
   "metadata": {},
   "outputs": [
    {
     "data": {
      "text/plain": [
       "[(1, 363),\n",
       " (2, 270),\n",
       " (3, 143),\n",
       " (4, 96),\n",
       " (5, 51),\n",
       " (6, 34),\n",
       " (7, 33),\n",
       " (8, 18),\n",
       " (9, 14),\n",
       " (10, 10),\n",
       " (18, 6),\n",
       " (12, 6),\n",
       " (14, 4),\n",
       " (16, 3),\n",
       " (11, 3),\n",
       " (13, 2),\n",
       " (60, 1),\n",
       " (37, 1),\n",
       " (32, 1),\n",
       " (25, 1),\n",
       " (24, 1),\n",
       " (19, 1),\n",
       " (17, 1)]"
      ]
     },
     "execution_count": 24,
     "metadata": {},
     "output_type": "execute_result"
    }
   ],
   "source": [
    "import collections\n",
    "collections.Counter([x[1] for x in pred_counts]).most_common()"
   ]
  },
  {
   "cell_type": "code",
   "execution_count": 31,
   "id": "3f48cfd2",
   "metadata": {},
   "outputs": [],
   "source": [
    "import random, csv\n",
    "sample_tasks = random.sample(list(act_to_fn.keys()), k=50)\n",
    "entries = [{\"name\": x, \"goals\": \"\\n\".join([str(y) for y in evaluate_task(x)])} for x in sample_tasks]\n",
    "with open(r\"C:\\Users\\Cem\\Downloads\\task_sample.csv\", \"w\") as f:\n",
    "    writer = csv.DictWriter(f, [\"name\", \"goals\"])\n",
    "    writer.writeheader()\n",
    "    for row in entries:\n",
    "        writer.writerow(row)"
   ]
  },
  {
   "cell_type": "code",
   "execution_count": 32,
   "id": "c27dd316",
   "metadata": {},
   "outputs": [],
   "source": [
    "b20 = [\n",
    "    \"attach a camera to a tripod\",\n",
    "    \"boil water\",\n",
    "    \"chop an onion\",\n",
    "    \"clean up broken glass\",\n",
    "    \"cleaning bathtub\",\n",
    "    \"fill a bucket in a small sink\",\n",
    "    \"folding piece of cloth\",\n",
    "    \"freeze pies\",\n",
    "    \"hanging up bedsheets\",\n",
    "    \"make a steak\",\n",
    "    \"make a strawberry slushie\",\n",
    "    \"melt white chocolate\",\n",
    "    \"mixing drinks\",\n",
    "    \"mowing the lawn\",\n",
    "    \"putting away Halloween decorations\",\n",
    "    \"putting away toys\",\n",
    "    \"putting up shelves\",\n",
    "    \"setting the fire\",\n",
    "    \"spraying for bugs\",\n",
    "    \"thawing frozen food\",\n",
    "]"
   ]
  },
  {
   "cell_type": "code",
   "execution_count": 41,
   "id": "70d27284",
   "metadata": {},
   "outputs": [],
   "source": [
    "def evaluate_task2(task_name):\n",
    "    task_name = task_name.replace(\" \", \"_\")\n",
    "    task_file = act_to_fn[task_name] / \"problem0.bddl\"\n",
    "    assert task_file.exists(), f\"{task_name} file missing\"\n",
    "    with open(task_file, \"r\") as f:\n",
    "        predefined_problem = \"\".join(f.readlines())\n",
    "    dom = \"omnigibson\" if \"ObjectPropertyAnnotation\" in str(task_file) else \"igibson\"\n",
    "    conds = Conditions(task_name, \"potato\", dom, predefined_problem=predefined_problem)\n",
    "    return {\n",
    "        \"name\": task_name,\n",
    "        \"init\": \"\\n\".join([str(y) for y in conds.parsed_initial_conditions]),\n",
    "        \"goal\": \"\\n\".join([str(y) for y in conds.parsed_goal_conditions])\n",
    "    }"
   ]
  },
  {
   "cell_type": "code",
   "execution_count": 42,
   "id": "e69722bb",
   "metadata": {},
   "outputs": [],
   "source": [
    "entries = [evaluate_task2(x) for x in b20]\n",
    "with open(r\"C:\\Users\\Cem\\Downloads\\task_b20.csv\", \"w\") as f:\n",
    "    writer = csv.DictWriter(f, [\"name\", \"init\", \"goal\"])\n",
    "    writer.writeheader()\n",
    "    for row in entries:\n",
    "        writer.writerow(row)"
   ]
  },
  {
   "cell_type": "code",
   "execution_count": 43,
   "id": "cbc81010",
   "metadata": {},
   "outputs": [
    {
     "data": {
      "text/plain": [
       "['attach_a_camera_to_a_tripod']"
      ]
     },
     "execution_count": 43,
     "metadata": {},
     "output_type": "execute_result"
    }
   ],
   "source": [
    "[x for x in act_to_fn if \"attach\" in x]"
   ]
  },
  {
   "cell_type": "code",
   "execution_count": null,
   "id": "8739feb6",
   "metadata": {},
   "outputs": [],
   "source": []
  }
 ],
 "metadata": {
  "kernelspec": {
   "display_name": "Python 3 (ipykernel)",
   "language": "python",
   "name": "python3"
  },
  "language_info": {
   "codemirror_mode": {
    "name": "ipython",
    "version": 3
   },
   "file_extension": ".py",
   "mimetype": "text/x-python",
   "name": "python",
   "nbconvert_exporter": "python",
   "pygments_lexer": "ipython3",
   "version": "3.8.0"
  }
 },
 "nbformat": 4,
 "nbformat_minor": 5
}
