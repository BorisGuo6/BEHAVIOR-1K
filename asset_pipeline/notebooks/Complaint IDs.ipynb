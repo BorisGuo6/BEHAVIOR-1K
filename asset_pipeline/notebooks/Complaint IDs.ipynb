{
 "cells": [
  {
   "cell_type": "code",
   "execution_count": 1,
   "id": "02338c0f",
   "metadata": {},
   "outputs": [],
   "source": [
    "import pathlib, json\n",
    "\n",
    "i = 0\n",
    "for fn in sorted(pathlib.Path(\"/scr/ig_pipeline\").glob(\"cad/*/*/complaints.json\")):\n",
    "    with open(fn, \"r\") as f:\n",
    "        complaints = json.load(f)\n",
    "    for complaint in complaints:\n",
    "        complaint[\"id\"] = i\n",
    "        i += 1\n",
    "    with open(fn, \"w\") as f:\n",
    "        json.dump(complaints, f, indent=2)"
   ]
  }
 ],
 "metadata": {
  "kernelspec": {
   "display_name": "pipeline",
   "language": "python",
   "name": "python3"
  },
  "language_info": {
   "codemirror_mode": {
    "name": "ipython",
    "version": 3
   },
   "file_extension": ".py",
   "mimetype": "text/x-python",
   "name": "python",
   "nbconvert_exporter": "python",
   "pygments_lexer": "ipython3",
   "version": "3.8.0"
  }
 },
 "nbformat": 4,
 "nbformat_minor": 5
}
