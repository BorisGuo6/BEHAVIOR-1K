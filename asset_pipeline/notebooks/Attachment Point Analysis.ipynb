{
 "cells": [
  {
   "cell_type": "code",
   "execution_count": 1,
   "metadata": {},
   "outputs": [],
   "source": [
    "import glob, json\n",
    "\n",
    "import sys\n",
    "sys.path.append(\"/scr/ig_pipeline\")\n",
    "\n",
    "from b1k_pipeline.utils import get_targets, parse_name"
   ]
  },
  {
   "cell_type": "code",
   "execution_count": 2,
   "metadata": {},
   "outputs": [],
   "source": [
    "import pathlib\n",
    "\n",
    "object_lists = {}\n",
    "for target in get_targets(\"combined_unfiltered\"):\n",
    "    data = json.loads((pathlib.Path(\"/scr/ig_pipeline\") / \"cad\" / target / \"artifacts/object_list.json\").read_text())\n",
    "    object_lists[target] = data"
   ]
  },
  {
   "cell_type": "code",
   "execution_count": 3,
   "metadata": {},
   "outputs": [
    {
     "name": "stderr",
     "output_type": "stream",
     "text": [
      "Loading BDDL knowledge base... This may take a few seconds.\n",
      "[nltk_data] Downloading package wordnet to /home/cgokmen/nltk_data...\n",
      "[nltk_data]   Package wordnet is already up-to-date!\n"
     ]
    }
   ],
   "source": [
    "from bddl.knowledge_base import *\n",
    "\n",
    "objs_by_id = {obj.name.split(\"-\")[-1]: obj for obj in Object.all_objects()}"
   ]
  },
  {
   "cell_type": "code",
   "execution_count": 5,
   "metadata": {},
   "outputs": [],
   "source": [
    "import collections\n",
    "\n",
    "attachment_group_fixes = {\n",
    "  \"cameratripod\": \"cameratripodF\"\n",
    "}\n",
    "\n",
    "male_attachments = collections.defaultdict(set)\n",
    "female_attachments = collections.defaultdict(set)\n",
    "for target, target_info in object_lists.items():\n",
    "  for item_name, _, parent in target_info[\"max_tree\"]:\n",
    "    pn = parse_name(item_name)\n",
    "    if pn is None:\n",
    "      continue\n",
    "    if pn.group(\"meta_type\") != \"attachment\":\n",
    "      continue\n",
    "    attachment_type = pn.group(\"meta_id\")\n",
    "    # Correct known issues\n",
    "    if attachment_type in attachment_group_fixes:\n",
    "      attachment_type = attachment_group_fixes[attachment_type]\n",
    "\n",
    "    # Validate and parse\n",
    "    if len(attachment_type) == 0:\n",
    "      print(f\"Missing attachment type on object {parent} in target {target}\")\n",
    "      continue\n",
    "    if attachment_type[-1] not in \"MF\":\n",
    "      print(f\"Invalid attachment type {attachment_type} on object {parent} in target {target}\")\n",
    "      continue\n",
    "    is_attachment_female = attachment_type[-1] == \"F\"\n",
    "    attachment_type = attachment_type[:-1]\n",
    "    if len(attachment_type) == 0:\n",
    "      print(f\"Missing attachment type on object {parent} in target {target}\")\n",
    "      continue\n",
    "\n",
    "    parent_id = parse_name(parent).group(\"model_id\")\n",
    "    obj = parent_id  # objs_by_id[parent_id]\n",
    "    if is_attachment_female:\n",
    "      female_attachments[attachment_type].add(obj)\n",
    "    else:\n",
    "      male_attachments[attachment_type].add(obj)"
   ]
  },
  {
   "cell_type": "code",
   "execution_count": 6,
   "metadata": {},
   "outputs": [
    {
     "name": "stdout",
     "output_type": "stream",
     "text": [
      "Missing female end: set()\n",
      "Missing male end: set()\n"
     ]
    }
   ],
   "source": [
    "# Check that every attachment has a male and a female end\n",
    "print(\"Missing female end:\", set(male_attachments) - set(female_attachments))\n",
    "print(\"Missing male end:\", set(female_attachments) - set(male_attachments))"
   ]
  },
  {
   "cell_type": "code",
   "execution_count": null,
   "metadata": {},
   "outputs": [],
   "source": []
  }
 ],
 "metadata": {
  "kernelspec": {
   "display_name": "pipeline",
   "language": "python",
   "name": "python3"
  },
  "language_info": {
   "codemirror_mode": {
    "name": "ipython",
    "version": 3
   },
   "file_extension": ".py",
   "mimetype": "text/x-python",
   "name": "python",
   "nbconvert_exporter": "python",
   "pygments_lexer": "ipython3",
   "version": "3.10.13"
  },
  "orig_nbformat": 4
 },
 "nbformat": 4,
 "nbformat_minor": 2
}
