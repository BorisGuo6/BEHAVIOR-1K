{
 "cells": [
  {
   "cell_type": "code",
   "execution_count": 2,
   "metadata": {},
   "outputs": [],
   "source": [
    "import json, pathlib"
   ]
  },
  {
   "cell_type": "code",
   "execution_count": 3,
   "metadata": {},
   "outputs": [],
   "source": [
    "by_target = {}\n",
    "for p in pathlib.Path(r\"D:\\ig_pipeline\").rglob(\"cad/*/house_*/artifacts/check_collisions.json\"):\n",
    "    with p.open() as f:\n",
    "        target = \"/\".join(p.parts[-4:-2])\n",
    "        by_target[target] = json.load(f)"
   ]
  },
  {
   "cell_type": "code",
   "execution_count": 3,
   "metadata": {},
   "outputs": [
    {
     "name": "stderr",
     "output_type": "stream",
     "text": [
      "Loading BDDL knowledge base... This may take a few seconds.\n",
      "[nltk_data] Downloading package wordnet to\n",
      "[nltk_data]     C:\\Users\\Cem\\AppData\\Roaming\\nltk_data...\n",
      "[nltk_data]   Package wordnet is already up-to-date!\n",
      "Complained object azqqwx does not exist in the database. Skipping.\n",
      "Complained object ntmrkt does not exist in the database. Skipping.\n",
      "Complained object aginyz does not exist in the database. Skipping.\n",
      "Complained object bjyvil does not exist in the database. Skipping.\n",
      "Complained object yzplpe does not exist in the database. Skipping.\n",
      "Complained object asjalm does not exist in the database. Skipping.\n"
     ]
    }
   ],
   "source": [
    "from bddl.knowledge_base import *"
   ]
  },
  {
   "cell_type": "code",
   "execution_count": 9,
   "metadata": {},
   "outputs": [
    {
     "name": "stdout",
     "output_type": "stream",
     "text": [
      "Collision between khjmrr (0) and tfdrhh (0): 31.28mm\n",
      "Collision between tfdrhh (0) and uftgek (0): 31.28mm\n",
      "Collision between fancyy (0) and fglkmr (0): 1449.41mm\n",
      "Collision between crtrpa (0) and hajmoj (0): 161.47mm\n",
      "Collision between hajmoj (0) and lligdl (0): 13.16mm\n",
      "Collision between bskyog (0) and sirgua (0): 12.83mm\n"
     ]
    }
   ],
   "source": [
    "for (from_mdl, from_inst), (to_mdl, to_inst), dist in by_target[\"scenes/house_single_floor\"][\"collisions\"]:\n",
    "    # Is either model a door? Skip if so\n",
    "    # if Object.get(from_mdl).category.name == \"door\" or Object.get(to_mdl).category.name == \"door\":\n",
    "    #     continue\n",
    "    print(f\"Collision between {from_mdl} ({from_inst}) and {to_mdl} ({to_inst}): {dist:.2f}mm\")"
   ]
  },
  {
   "cell_type": "code",
   "execution_count": 5,
   "metadata": {},
   "outputs": [],
   "source": [
    "# Find out the errors\n",
    "for target, data in by_target.items():\n",
    "    err = data[\"error\"]\n",
    "    if not err:\n",
    "        continue\n",
    "    print(target, err)"
   ]
  },
  {
   "cell_type": "code",
   "execution_count": 6,
   "metadata": {},
   "outputs": [
    {
     "name": "stdout",
     "output_type": "stream",
     "text": [
      "('scenes/house_double_floor_upper', 12)\n",
      "('scenes/house_single_floor', 6)\n",
      "('scenes/house_double_floor_lower', 3)\n",
      "Total 21\n"
     ]
    }
   ],
   "source": [
    "# Check the number of collisions per file and total\n",
    "collisions = {t: len(data[\"collisions\"]) for t, data in by_target.items()}\n",
    "print(*sorted(collisions.items(), key=lambda x: x[1], reverse=True), sep=\"\\n\")\n",
    "print(\"Total\", sum(collisions.values()))"
   ]
  },
  {
   "cell_type": "code",
   "execution_count": null,
   "metadata": {},
   "outputs": [],
   "source": []
  }
 ],
 "metadata": {
  "kernelspec": {
   "display_name": "Python 3",
   "language": "python",
   "name": "python3"
  },
  "language_info": {
   "codemirror_mode": {
    "name": "ipython",
    "version": 3
   },
   "file_extension": ".py",
   "mimetype": "text/x-python",
   "name": "python",
   "nbconvert_exporter": "python",
   "pygments_lexer": "ipython3",
   "version": "3.10.0"
  }
 },
 "nbformat": 4,
 "nbformat_minor": 2
}
