{
 "cells": [
  {
   "cell_type": "code",
   "execution_count": 1,
   "metadata": {},
   "outputs": [],
   "source": [
    "import json, pathlib"
   ]
  },
  {
   "cell_type": "code",
   "execution_count": 13,
   "metadata": {},
   "outputs": [],
   "source": [
    "by_target = {}\n",
    "for p in pathlib.Path(r\"D:\\ig_pipeline\").rglob(\"cad/*/*/artifacts/check_collisions.json\"):\n",
    "    with p.open() as f:\n",
    "        target = \"/\".join(p.parts[-4:-2])\n",
    "        by_target[target] = json.load(f)"
   ]
  },
  {
   "cell_type": "code",
   "execution_count": 14,
   "metadata": {},
   "outputs": [
    {
     "data": {
      "text/plain": [
       "{'success': True, 'collisions': [], 'error': None}"
      ]
     },
     "execution_count": 14,
     "metadata": {},
     "output_type": "execute_result"
    }
   ],
   "source": [
    "by_target[\"scenes/Benevolence_2_int\"]"
   ]
  },
  {
   "cell_type": "code",
   "execution_count": 11,
   "metadata": {},
   "outputs": [
    {
     "name": "stdout",
     "output_type": "stream",
     "text": [
      "scenes/commercial_kitchen_fire_extinguisher Traceback (most recent call last):\n",
      "  File \"D:\\ig_pipeline\\b1k_pipeline\\max\\check_collisions.py\", line 352, in main\n",
      "    scene = prepare_scene(use_clutter=use_clutter)\n",
      "  File \"D:\\ig_pipeline\\b1k_pipeline\\max\\check_collisions.py\", line 227, in prepare_scene\n",
      "    obj, base_link_frames[model_id]\n",
      "  File \"D:\\ig_pipeline\\b1k_pipeline\\max\\check_collisions.py\", line 51, in get_collision_meshes_relative_to_base\n",
      "    assert len(elems) <= 32, f\"{obj.name} should not have more than 32 elements.\"\n",
      "AssertionError: C-electric_mixer-ceaeqf-0-base_link-Mcollision should not have more than 32 elements.\n",
      "\n"
     ]
    }
   ],
   "source": [
    "# Find out the errors\n",
    "for target, data in by_target.items():\n",
    "    err = data[\"error\"]\n",
    "    if not err:\n",
    "        continue\n",
    "    print(target, err)"
   ]
  },
  {
   "cell_type": "code",
   "execution_count": 15,
   "metadata": {},
   "outputs": [
    {
     "name": "stdout",
     "output_type": "stream",
     "text": [
      "('scenes/house_double_floor_upper', 42)\n",
      "('scenes/Beechwood_0_garden', 26)\n",
      "('scenes/school_gym', 24)\n",
      "('scenes/restaurant_hotel', 23)\n",
      "('scenes/restaurant_asian', 22)\n",
      "('scenes/office_cubicles_right', 21)\n",
      "('scenes/Rs_garden', 21)\n",
      "('scenes/Wainscott_0_garden', 21)\n",
      "('scenes/office_vendor_machine', 19)\n",
      "('scenes/hotel_gym_spa', 17)\n",
      "('scenes/house_double_floor_lower', 16)\n",
      "('scenes/house_single_floor', 16)\n",
      "('scenes/hall_conference_large', 13)\n",
      "('scenes/restaurant_urban', 13)\n",
      "('scenes/grocery_store_convenience', 12)\n",
      "('scenes/restaurant_brunch', 11)\n",
      "('scenes/restaurant_cafeteria', 11)\n",
      "('scenes/restaurant_diner', 9)\n",
      "('scenes/school_computer_lab_and_infirmary', 9)\n",
      "('scenes/Pomaria_0_garden', 7)\n",
      "('scenes/hotel_suite_large', 6)\n",
      "('scenes/school_chemistry', 6)\n",
      "('scenes/public_restroom_white', 5)\n",
      "('scenes/school_biology', 5)\n",
      "('scenes/office_bike', 4)\n",
      "('scenes/Merom_0_garden', 3)\n",
      "('scenes/school_geography', 3)\n",
      "('scenes/gates_bedroom', 2)\n",
      "('scenes/grocery_store_asian', 2)\n",
      "('scenes/office_cubicles_left', 2)\n",
      "('scenes/office_large', 2)\n",
      "('scenes/commercial_kitchen_pans', 1)\n",
      "('scenes/grocery_store_cafe', 1)\n",
      "('scenes/grocery_store_half_stocked', 1)\n",
      "('scenes/hotel_suite_small', 1)\n",
      "('scenes/Beechwood_0_int', 0)\n",
      "('scenes/Beechwood_1_int', 0)\n",
      "('scenes/Benevolence_0_int', 0)\n",
      "('scenes/Benevolence_1_int', 0)\n",
      "('scenes/Benevolence_2_int', 0)\n",
      "('scenes/commercial_kitchen_fire_extinguisher', 0)\n",
      "('scenes/hall_arch_wood', 0)\n",
      "('scenes/hall_glass_ceiling', 0)\n",
      "('scenes/hall_train_station', 0)\n",
      "('scenes/Ihlen_0_int', 0)\n",
      "('scenes/Ihlen_1_int', 0)\n",
      "('scenes/Merom_0_int', 0)\n",
      "('scenes/Merom_1_int', 0)\n",
      "('scenes/Pomaria_0_int', 0)\n",
      "('scenes/Pomaria_1_int', 0)\n",
      "('scenes/Pomaria_2_int', 0)\n",
      "('scenes/public_restroom_blue', 0)\n",
      "('scenes/public_restroom_brown', 0)\n",
      "('scenes/public_restroom_futuristic', 0)\n",
      "('scenes/public_restroom_marble', 0)\n",
      "('scenes/Rs_int', 0)\n",
      "('scenes/Wainscott_0_int', 0)\n",
      "('scenes/Wainscott_1_int', 0)\n",
      "Total 397\n"
     ]
    }
   ],
   "source": [
    "# Check the number of collisions per file and total\n",
    "collisions = {t: len(data[\"collisions\"]) for t, data in by_target.items()}\n",
    "print(*sorted(collisions.items(), key=lambda x: x[1], reverse=True), sep=\"\\n\")\n",
    "print(\"Total\", sum(collisions.values()))"
   ]
  },
  {
   "cell_type": "code",
   "execution_count": null,
   "metadata": {},
   "outputs": [],
   "source": []
  }
 ],
 "metadata": {
  "kernelspec": {
   "display_name": "Python 3",
   "language": "python",
   "name": "python3"
  },
  "language_info": {
   "codemirror_mode": {
    "name": "ipython",
    "version": 3
   },
   "file_extension": ".py",
   "mimetype": "text/x-python",
   "name": "python",
   "nbconvert_exporter": "python",
   "pygments_lexer": "ipython3",
   "version": "3.8.0"
  }
 },
 "nbformat": 4,
 "nbformat_minor": 2
}
