{
 "cells": [
  {
   "cell_type": "code",
   "execution_count": 1,
   "id": "10e1959c",
   "metadata": {},
   "outputs": [],
   "source": [
    "from fs.zipfs import ZipFS\n",
    "\n",
    "scenes_fs = ZipFS(\"/scr/BEHAVIOR-1K/asset_pipeline/artifacts/parallels/scenes_json.zip\")"
   ]
  },
  {
   "cell_type": "code",
   "execution_count": 2,
   "id": "19126651",
   "metadata": {},
   "outputs": [],
   "source": [
    "import json\n",
    "import fs.path\n",
    "scenes = {fs.path.split(k.path)[-1].replace(\"_best.json\", \"\"): json.loads(scenes_fs.readtext(k.path)) for k in scenes_fs.glob(\"scenes/*/json/*.json\")}"
   ]
  },
  {
   "cell_type": "code",
   "execution_count": 3,
   "id": "f7cd2f64",
   "metadata": {},
   "outputs": [
    {
     "name": "stdout",
     "output_type": "stream",
     "text": [
      "\n",
      "\n",
      "Scene: house_single_floor\n",
      "\n",
      "\n",
      "Scene: house_double_floor_lower\n",
      "\n",
      "\n",
      "Scene: house_double_floor_upper\n"
     ]
    }
   ],
   "source": [
    "import numpy as np\n",
    "VEL_THRESHOLD = 1\n",
    "JOINT_VEL_THRESHOLD = 0.01\n",
    "\n",
    "np.set_printoptions(precision=4, suppress=True)\n",
    "\n",
    "scene_names = [\"house_single_floor\", \"house_double_floor_lower\", \"house_double_floor_upper\"]\n",
    "for scene in scene_names:\n",
    "    print(f\"\\n\\nScene: {scene}\")\n",
    "    scene_data = scenes[scene]\n",
    "    for obj_name, obj_state in scene_data[\"state\"][\"registry\"][\"object_registry\"].items():\n",
    "        root_lin_vel = np.array(obj_state[\"root_link\"][\"lin_vel\"])\n",
    "        if np.any(np.abs(root_lin_vel) > VEL_THRESHOLD):\n",
    "            print(f\"    Object {obj_name} has a linear velocity of {root_lin_vel}\")\n",
    "\n",
    "        root_ang_vel = np.array(obj_state[\"root_link\"][\"ang_vel\"])\n",
    "        if np.any(np.abs(root_ang_vel) > VEL_THRESHOLD):\n",
    "            print(f\"    Object {obj_name} has an angular velocity of {root_ang_vel}\")\n",
    "\n",
    "        if \"joint_vel\" in obj_state:\n",
    "            joint_vel = np.array(obj_state[\"joint_vel\"])\n",
    "            if np.any(np.abs(joint_vel) > VEL_THRESHOLD):\n",
    "                print(f\"    Object {obj_name} has a joint velocity of {joint_vel}\")"
   ]
  },
  {
   "cell_type": "code",
   "execution_count": null,
   "id": "4c3f4d7f",
   "metadata": {},
   "outputs": [],
   "source": []
  }
 ],
 "metadata": {
  "kernelspec": {
   "display_name": "omnigibson45",
   "language": "python",
   "name": "python3"
  },
  "language_info": {
   "codemirror_mode": {
    "name": "ipython",
    "version": 3
   },
   "file_extension": ".py",
   "mimetype": "text/x-python",
   "name": "python",
   "nbconvert_exporter": "python",
   "pygments_lexer": "ipython3",
   "version": "3.10.0"
  }
 },
 "nbformat": 4,
 "nbformat_minor": 5
}
