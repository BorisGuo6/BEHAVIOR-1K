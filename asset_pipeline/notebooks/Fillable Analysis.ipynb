{
 "cells": [
  {
   "cell_type": "code",
   "execution_count": 17,
   "metadata": {},
   "outputs": [],
   "source": [
    "import json\n",
    "\n",
    "with open(\"/scr/ig_pipeline/metadata/fillable_assignments.json\") as f:\n",
    "    data = json.load(f)"
   ]
  },
  {
   "cell_type": "code",
   "execution_count": 2,
   "metadata": {},
   "outputs": [
    {
     "name": "stdout",
     "output_type": "stream",
     "text": [
      "[('combined', 268), ('ray', 156), ('fix', 64), ('manual', 61), ('dip', 30), ('changecollision', 10), ('notfillable', 9), ('fixorn', 2)]\n"
     ]
    }
   ],
   "source": [
    "import collections\n",
    "\n",
    "ctr = collections.Counter(data.values())\n",
    "print(ctr.most_common())\n",
    "\n",
    "has_assignment = {k for k, v in data.items() if v in {\"combined\", \"ray\", \"dip\"}}"
   ]
  },
  {
   "cell_type": "code",
   "execution_count": 3,
   "metadata": {},
   "outputs": [
    {
     "name": "stderr",
     "output_type": "stream",
     "text": [
      "Loading BDDL knowledge base... This may take a few seconds.\n",
      "[nltk_data] Downloading package wordnet to /home/cgokmen/nltk_data...\n",
      "[nltk_data]   Package wordnet is already up-to-date!\n"
     ]
    }
   ],
   "source": [
    "from bddl.knowledge_base import *"
   ]
  },
  {
   "cell_type": "code",
   "execution_count": 4,
   "metadata": {},
   "outputs": [],
   "source": [
    "objects = Object.all_objects()"
   ]
  },
  {
   "cell_type": "code",
   "execution_count": 5,
   "metadata": {},
   "outputs": [],
   "source": [
    "# Get all the objects that have a fillable synset\n",
    "fillable_needing = {o.name.split(\"-\")[-1] for o in objects if any(p.name == \"fillable\" for p in o.category.synset.properties)}"
   ]
  },
  {
   "cell_type": "code",
   "execution_count": 6,
   "metadata": {},
   "outputs": [],
   "source": [
    "# Get all teh objects that ahve a fillable volume\n",
    "fillable_annotated = {o.name.split(\"-\")[-1] for o in objects if any(m.name == \"fillable\" for m in o.meta_links)}"
   ]
  },
  {
   "cell_type": "code",
   "execution_count": 7,
   "metadata": {},
   "outputs": [],
   "source": [
    "fillable_missing = fillable_needing - fillable_annotated - has_assignment"
   ]
  },
  {
   "cell_type": "code",
   "execution_count": 8,
   "metadata": {},
   "outputs": [
    {
     "name": "stdout",
     "output_type": "stream",
     "text": [
      "Fillable needing:  591\n",
      "Fillable annotated:  458\n",
      "Fillable assigned: 454\n",
      "Fillable missing: 57\n",
      "Fillable missing assignment only: 137\n"
     ]
    }
   ],
   "source": [
    "print(\"Fillable needing: \", len(fillable_needing))\n",
    "print(\"Fillable annotated: \", len(fillable_annotated))\n",
    "print(\"Fillable assigned:\", len(has_assignment))\n",
    "print(\"Fillable missing:\", len(fillable_missing))\n",
    "print(\"Fillable missing assignment only:\", len(fillable_needing - has_assignment))"
   ]
  },
  {
   "cell_type": "code",
   "execution_count": 9,
   "metadata": {},
   "outputs": [
    {
     "name": "stdout",
     "output_type": "stream",
     "text": [
      "{'trash_can-jlawet', 'soda_cup-fsfsas'}\n"
     ]
    }
   ],
   "source": [
    "# Are there any fillables that did not get processed?\n",
    "print({o.name for o in objects if any(p.name == \"fillable\" for p in o.category.synset.properties) and o.name.split(\"-\")[-1] not in data})"
   ]
  },
  {
   "cell_type": "code",
   "execution_count": 11,
   "metadata": {},
   "outputs": [],
   "source": [
    "# Export a copy removing everything with no mesh selection\n",
    "selected_only = {k: v for k, v in data.items() if v in {\"combined\", \"ray\", \"dip\"}}\n",
    "with open(\"/scr/ig_pipeline/metadata/fillable_assignments_selected.json\", \"w\") as f:\n",
    "    json.dump(selected_only, f, indent=4)"
   ]
  },
  {
   "cell_type": "code",
   "execution_count": 12,
   "metadata": {},
   "outputs": [
    {
     "name": "stdout",
     "output_type": "stream",
     "text": [
      "\n",
      "objects/batch-11:\n",
      "  - bird_feeder-hvlkjx\n",
      "  - tray-glwebh\n",
      "\n",
      "scenes/house_double_floor_lower:\n",
      "  - blender-xnjqix\n",
      "  - vase-jpwsrp\n",
      "  - washer-ziomqg\n",
      "\n",
      "scenes/restaurant_brunch:\n",
      "  - canteen-ouhqnw\n",
      "  - jar-waousd\n",
      "  - jar-zdeyzf\n",
      "  - oil_bottle-gcixra\n",
      "  - rum_bottle-ueagnt\n",
      "\n",
      "objects/batch-09:\n",
      "  - canteen-ttxunv\n",
      "\n",
      "objects/legacy_batch-10:\n",
      "  - carafe-ocjcgp\n",
      "  - coffee_maker-pyttso\n",
      "  - pitcher-ompiss\n",
      "\n",
      "scenes/school_computer_lab_and_infirmary:\n",
      "  - carton-cdmmwy\n",
      "\n",
      "scenes/school_biology:\n",
      "  - carton-hhlmbi\n",
      "  - round_bottom_flask-tqyiso\n",
      "\n",
      "scenes/school_chemistry:\n",
      "  - carton-libote\n",
      "  - petri_dish-vbiqcq\n",
      "  - reagent_bottle-trtrsl\n",
      "  - reagent_bottle-ukayce\n",
      "  - reagent_bottle-xstykf\n",
      "  - round_bottom_flask-fjytro\n",
      "  - round_bottom_flask-injdmj\n",
      "\n",
      "objects/legacy_batch-09:\n",
      "  - carton-sxlklf\n",
      "\n",
      "scenes/grocery_store_convenience:\n",
      "  - carton-ylrxhe\n",
      "  - paper_cup-guobeq\n",
      "\n",
      "scenes/house_single_floor:\n",
      "  - chalice-sfkezf\n",
      "  - clothes_dryer-jasnzj\n",
      "  - jar-jdwvyt\n",
      "  - jar-ociqav\n",
      "  - jar-pjaljg\n",
      "  - jar-vxqpnm\n",
      "  - washer-ynwamu\n",
      "\n",
      "objects/legacy_batch-06:\n",
      "  - clothes_dryer-fhtvuq\n",
      "  - clothes_dryer-smcyys\n",
      "  - clothes_dryer-wivnic\n",
      "  - clothes_dryer-xsuyua\n",
      "  - clothes_dryer-zlmnfg\n",
      "\n",
      "scenes/grocery_store_cafe:\n",
      "  - coffee_maker-fwlabx\n",
      "\n",
      "objects/batch-10:\n",
      "  - compost_bin-fvkdos\n",
      "\n",
      "objects/procedural-aa:\n",
      "  - cooking_oil_bottle-cfdond\n",
      "  - lemon_juice_bottle-qsdqik\n",
      "  - lime_juice_bottle-bnekjp\n",
      "  - oil_bottle-yoxfyu\n",
      "  - olive_oil_bottle-zfvhus\n",
      "  - sesame_oil_bottle-bupgpj\n",
      "  - vinegar_bottle-ykysuc\n",
      "\n",
      "objects/batch-05:\n",
      "  - fuel_can-bfaqfe\n",
      "  - punching_bag-svkdji\n",
      "\n",
      "scenes/house_double_floor_upper:\n",
      "  - mug-lgxhsc\n",
      "\n",
      "scenes/hotel_suite_large:\n",
      "  - plate-qyuyjr\n",
      "\n",
      "objects/batch-12:\n",
      "  - plate-wqgndf\n",
      "\n",
      "objects/batch-00:\n",
      "  - round_bottom_flask-hmzafz\n",
      "\n",
      "scenes/restaurant_diner:\n",
      "  - soda_cup-vicaqs\n",
      "\n",
      "objects/batch-04:\n",
      "  - stockpot-oshwps\n",
      "\n",
      "objects/batch-13:\n",
      "  - tank-bsdexp\n",
      "\n",
      "scenes/commercial_kitchen_pans:\n",
      "  - teapot-mvrhya\n",
      "\n",
      "scenes/Pomaria_0_garden:\n",
      "  - vase-eqhgiy\n",
      "\n",
      "objects/batch-07:\n",
      "  - vase-jdddsr\n",
      "\n",
      "objects/legacy_batch-07:\n",
      "  - washer-mrgspe\n",
      "\n",
      "objects/batch-01:\n",
      "  - water_bottle-ackxiy\n"
     ]
    }
   ],
   "source": [
    "# Group all the to-be-fixed objects by provider\n",
    "grouped = collections.defaultdict(set)\n",
    "fix_needing = {k for k, v in data.items() if v == \"fix\"}\n",
    "for obj in Object.all_objects():\n",
    "    model = obj.name.split(\"-\")[-1]\n",
    "    if model not in fix_needing:\n",
    "        continue\n",
    "    grouped[obj.provider].add(obj.name)\n",
    "\n",
    "for provider, objs in grouped.items():\n",
    "    print(f\"\\n{provider}:\")\n",
    "    for obj in sorted(objs):\n",
    "        print(f\"  - {obj}\")"
   ]
  },
  {
   "cell_type": "code",
   "execution_count": 13,
   "metadata": {},
   "outputs": [
    {
     "name": "stdout",
     "output_type": "stream",
     "text": [
      "\n"
     ]
    }
   ],
   "source": [
    "not_fillable = {k for k, v in data.items() if v in {\"notfillable\"}}\n",
    "synset_fillable_marked_notfillable = fillable_needing & not_fillable\n",
    "print(\"\\n\".join(sorted([x.name for x in Object.all_objects() if x.name.split(\"-\")[-1] in synset_fillable_marked_notfillable])))"
   ]
  },
  {
   "cell_type": "code",
   "execution_count": 14,
   "metadata": {},
   "outputs": [
    {
     "name": "stdout",
     "output_type": "stream",
     "text": [
      "bowl-fedafr\n",
      "saucepot-pkfydm\n"
     ]
    }
   ],
   "source": [
    "fixorn = {k for k, v in data.items() if v in {\"fixorn\"}}\n",
    "synset_fillable_marked_fixorn = fillable_needing & fixorn\n",
    "print(\"\\n\".join(sorted([x.name for x in Object.all_objects() if x.name.split(\"-\")[-1] in synset_fillable_marked_fixorn])))"
   ]
  },
  {
   "cell_type": "code",
   "execution_count": null,
   "metadata": {},
   "outputs": [],
   "source": [
    "# Remove the collision assignments of everything in the fix and changecollision piles\n",
    "import glob\n",
    "\n",
    "if False:\n",
    "    for file in glob.glob(\"/scr/ig_pipeline/cad/*/*/artifacts/collision_selection.json\"):\n",
    "        # Open each target's collision selection file\n",
    "        with open(file, \"r\") as f:\n",
    "            collision_selections = json.load(f)\n",
    "\n",
    "        # Find which models are in the fix and changecollision piles\n",
    "        keys_to_remove = []\n",
    "        for k, v in collision_selections.items():\n",
    "            model_id = k.split(\"-\")[1]\n",
    "            if model_id in data and data[model_id] in {\"fix\", \"changecollision\"}:\n",
    "                keys_to_remove.append(k)\n",
    "\n",
    "        # Actually remove the collision assignments\n",
    "        for k in keys_to_remove:\n",
    "            del collision_selections[k]\n",
    "\n",
    "        # Write the new collision selection file\n",
    "        with open(file, \"w\") as f:\n",
    "            json.dump(collision_selections, f, indent=4)"
   ]
  },
  {
   "cell_type": "code",
   "execution_count": 16,
   "metadata": {},
   "outputs": [],
   "source": [
    "# Remove any non-fillable objects from the fillable assignment list\n",
    "import shutil, glob\n",
    "if False:\n",
    "    for obj in objects:\n",
    "        cat, mdl = obj.name.split(\"-\")\n",
    "        if mdl not in fillable_needing:\n",
    "            if mdl in data:\n",
    "                del data[mdl]\n",
    "            volume_dirs = glob.glob(f\"/scr/ig_pipeline/artifacts/parallels/fillable_volumes/objects/*/{mdl}\")\n",
    "            for vd in volume_dirs:\n",
    "                shutil.rmtree(vd)\n",
    "\n",
    "    with open(\"/scr/ig_pipeline/metadata/fillable_assignments.json\", \"w\") as f:\n",
    "        json.dump(data, f, indent=4)"
   ]
  },
  {
   "cell_type": "code",
   "execution_count": 18,
   "metadata": {},
   "outputs": [],
   "source": [
    "# Remove generated meshes for the \"fix\", \"manual\", \"fixorn\" and \"changecollision\" objects and try again.\n",
    "import shutil, glob\n",
    "if False:\n",
    "    for obj in objects:\n",
    "        cat, mdl = obj.name.split(\"-\")\n",
    "        if mdl in data and data[mdl] in {\"fix\", \"manual\", \"fixorn\", \"changecollision\"}:\n",
    "            del data[mdl]\n",
    "            volume_dirs = glob.glob(f\"/scr/ig_pipeline/artifacts/parallels/fillable_volumes/objects/*/{mdl}\")\n",
    "            for vd in volume_dirs:\n",
    "                shutil.rmtree(vd)\n",
    "\n",
    "    with open(\"/scr/ig_pipeline/metadata/fillable_assignments.json\", \"w\") as f:\n",
    "        json.dump(data, f, indent=4)"
   ]
  },
  {
   "cell_type": "code",
   "execution_count": null,
   "metadata": {},
   "outputs": [],
   "source": []
  }
 ],
 "metadata": {
  "kernelspec": {
   "display_name": "pipeline",
   "language": "python",
   "name": "python3"
  },
  "language_info": {
   "codemirror_mode": {
    "name": "ipython",
    "version": 3
   },
   "file_extension": ".py",
   "mimetype": "text/x-python",
   "name": "python",
   "nbconvert_exporter": "python",
   "pygments_lexer": "ipython3",
   "version": "3.10.13"
  },
  "orig_nbformat": 4
 },
 "nbformat": 4,
 "nbformat_minor": 2
}
