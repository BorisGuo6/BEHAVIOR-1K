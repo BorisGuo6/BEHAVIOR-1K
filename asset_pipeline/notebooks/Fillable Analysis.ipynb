{
 "cells": [
  {
   "cell_type": "code",
   "execution_count": 1,
   "metadata": {},
   "outputs": [],
   "source": [
    "import json\n",
    "\n",
    "with open(\"D:/ig_pipeline/metadata/fillable_assignments.json\") as f:\n",
    "    data = json.load(f)"
   ]
  },
  {
   "cell_type": "code",
   "execution_count": 2,
   "metadata": {},
   "outputs": [],
   "source": [
    "import collections\n",
    "\n",
    "ctr = collections.Counter(data.values())\n",
    "ctr.most_common()\n",
    "\n",
    "has_assignment = {k for k, v in data.items() if v in {\"combined\", \"ray\", \"dip\"}}"
   ]
  },
  {
   "cell_type": "code",
   "execution_count": 3,
   "metadata": {},
   "outputs": [
    {
     "name": "stderr",
     "output_type": "stream",
     "text": [
      "Loading BDDL knowledge base... This may take a few seconds.\n",
      "[nltk_data] Downloading package wordnet to\n",
      "[nltk_data]     C:\\Users\\cgokmen\\AppData\\Roaming\\nltk_data...\n",
      "[nltk_data]   Package wordnet is already up-to-date!\n"
     ]
    }
   ],
   "source": [
    "from bddl.knowledge_base import *"
   ]
  },
  {
   "cell_type": "code",
   "execution_count": 4,
   "metadata": {},
   "outputs": [],
   "source": [
    "objects = Object.all_objects()"
   ]
  },
  {
   "cell_type": "code",
   "execution_count": 5,
   "metadata": {},
   "outputs": [],
   "source": [
    "# Get all the objects that have a fillable synset\n",
    "fillable_needing = {o.name.split(\"-\")[-1] for o in objects if any(p.name == \"fillable\" for p in o.category.synset.properties)}"
   ]
  },
  {
   "cell_type": "code",
   "execution_count": 6,
   "metadata": {},
   "outputs": [],
   "source": [
    "# Get all teh objects that ahve a fillable volume\n",
    "fillable_annotated = {o.name.split(\"-\")[-1] for o in objects if any(m.name == \"fillable\" for m in o.meta_links)}"
   ]
  },
  {
   "cell_type": "code",
   "execution_count": 7,
   "metadata": {},
   "outputs": [],
   "source": [
    "fillable_missing = fillable_needing - fillable_annotated - has_assignment"
   ]
  },
  {
   "cell_type": "code",
   "execution_count": 8,
   "metadata": {},
   "outputs": [
    {
     "name": "stdout",
     "output_type": "stream",
     "text": [
      "Fillable needing:  637\n",
      "Fillable annotated:  463\n",
      "Fillable assigned: 454\n",
      "Fillable missing: 81\n",
      "Fillable missing assignment only: 183\n"
     ]
    }
   ],
   "source": [
    "print(\"Fillable needing: \", len(fillable_needing))\n",
    "print(\"Fillable annotated: \", len(fillable_annotated))\n",
    "print(\"Fillable assigned:\", len(has_assignment))\n",
    "print(\"Fillable missing:\", len(fillable_missing))\n",
    "print(\"Fillable missing assignment only:\", len(fillable_needing - has_assignment))"
   ]
  },
  {
   "cell_type": "code",
   "execution_count": 9,
   "metadata": {},
   "outputs": [],
   "source": [
    "# Export a copy removing everything with no mesh selection\n",
    "selected_only = {k: v for k, v in data.items() if v in {\"combined\", \"ray\", \"dip\"}}\n",
    "with open(\"D:/ig_pipeline/metadata/fillable_assignments_selected.json\", \"w\") as f:\n",
    "    json.dump(selected_only, f, indent=4)"
   ]
  },
  {
   "cell_type": "code",
   "execution_count": 13,
   "metadata": {},
   "outputs": [
    {
     "name": "stdout",
     "output_type": "stream",
     "text": [
      "\n",
      "objects/batch-11:\n",
      "  - bird_feeder-hvlkjx\n",
      "  - tray-glwebh\n",
      "\n",
      "scenes/house_double_floor_lower:\n",
      "  - blender-xnjqix\n",
      "  - vase-jpwsrp\n",
      "  - washer-ziomqg\n",
      "\n",
      "scenes/restaurant_brunch:\n",
      "  - canteen-ouhqnw\n",
      "  - jar-bnrvcs\n",
      "  - jar-busiti\n",
      "  - jar-hjrnct\n",
      "  - jar-mlnuza\n",
      "  - jar-sjwgfn\n",
      "  - jar-waousd\n",
      "  - jar-zdeyzf\n",
      "  - oil_bottle-gcixra\n",
      "  - rum_bottle-ueagnt\n",
      "\n",
      "objects/batch-09:\n",
      "  - canteen-ttxunv\n",
      "\n",
      "objects/legacy_batch-10:\n",
      "  - carafe-ocjcgp\n",
      "  - coffee_maker-pyttso\n",
      "  - pitcher-ompiss\n",
      "\n",
      "scenes/school_computer_lab_and_infirmary:\n",
      "  - carton-cdmmwy\n",
      "\n",
      "scenes/school_biology:\n",
      "  - carton-hhlmbi\n",
      "  - round_bottom_flask-tqyiso\n",
      "\n",
      "scenes/school_chemistry:\n",
      "  - carton-libote\n",
      "  - petri_dish-vbiqcq\n",
      "  - reagent_bottle-trtrsl\n",
      "  - reagent_bottle-ukayce\n",
      "  - reagent_bottle-xstykf\n",
      "  - round_bottom_flask-fjytro\n",
      "  - round_bottom_flask-injdmj\n",
      "\n",
      "objects/legacy_batch-09:\n",
      "  - carton-sxlklf\n",
      "\n",
      "scenes/grocery_store_convenience:\n",
      "  - carton-ylrxhe\n",
      "  - paper_cup-guobeq\n",
      "\n",
      "scenes/house_single_floor:\n",
      "  - chalice-sfkezf\n",
      "  - clothes_dryer-jasnzj\n",
      "  - jar-jdwvyt\n",
      "  - jar-ociqav\n",
      "  - jar-pjaljg\n",
      "  - jar-vxqpnm\n",
      "  - washer-ynwamu\n",
      "\n",
      "objects/batch-12:\n",
      "  - cleansing_bottle-nsxhvs\n",
      "  - plate-wqgndf\n",
      "\n",
      "objects/legacy_batch-06:\n",
      "  - clothes_dryer-fhtvuq\n",
      "  - clothes_dryer-smcyys\n",
      "  - clothes_dryer-wivnic\n",
      "  - clothes_dryer-xsuyua\n",
      "  - clothes_dryer-zlmnfg\n",
      "\n",
      "scenes/grocery_store_cafe:\n",
      "  - coffee_maker-fwlabx\n",
      "\n",
      "objects/batch-10:\n",
      "  - compost_bin-fvkdos\n",
      "\n",
      "objects/procedural-aa:\n",
      "  - cooking_oil_bottle-cfdond\n",
      "  - lemon_juice_bottle-qsdqik\n",
      "  - lime_juice_bottle-bnekjp\n",
      "  - oil_bottle-yoxfyu\n",
      "  - olive_oil_bottle-zfvhus\n",
      "  - sesame_oil_bottle-bupgpj\n",
      "  - vinegar_bottle-ykysuc\n",
      "\n",
      "objects/batch-05:\n",
      "  - fuel_can-bfaqfe\n",
      "  - punching_bag-svkdji\n",
      "\n",
      "scenes/commercial_kitchen_fire_extinguisher:\n",
      "  - jar-acsllv\n",
      "  - jar-bpxhso\n",
      "  - jar-dlvall\n",
      "  - jar-gkakwk\n",
      "  - jar-iuydyz\n",
      "  - jar-kfzxah\n",
      "  - jar-miivhi\n",
      "  - jar-mxhrcl\n",
      "  - jar-vyfehw\n",
      "\n",
      "scenes/house_double_floor_upper:\n",
      "  - mug-lgxhsc\n",
      "\n",
      "scenes/hotel_suite_large:\n",
      "  - plate-qyuyjr\n",
      "\n",
      "objects/batch-00:\n",
      "  - round_bottom_flask-hmzafz\n",
      "\n",
      "scenes/restaurant_diner:\n",
      "  - soda_cup-vicaqs\n",
      "\n",
      "objects/batch-04:\n",
      "  - stockpot-oshwps\n",
      "\n",
      "objects/batch-13:\n",
      "  - tank-bsdexp\n",
      "\n",
      "scenes/commercial_kitchen_pans:\n",
      "  - teapot-mvrhya\n",
      "\n",
      "scenes/Pomaria_0_garden:\n",
      "  - vase-eqhgiy\n",
      "\n",
      "objects/batch-07:\n",
      "  - vase-jdddsr\n",
      "\n",
      "objects/legacy_batch-11:\n",
      "  - wading_pool-xixlzr\n",
      "\n",
      "objects/legacy_batch-07:\n",
      "  - washer-mrgspe\n",
      "\n",
      "objects/batch-01:\n",
      "  - water_bottle-ackxiy\n"
     ]
    }
   ],
   "source": [
    "# Group all the to-be-fixed objects by provider\n",
    "grouped = collections.defaultdict(set)\n",
    "fix_needing = {k for k, v in data.items() if v == \"fix\"}\n",
    "for obj in Object.all_objects():\n",
    "    model = obj.name.split(\"-\")[-1]\n",
    "    if model not in fix_needing:\n",
    "        continue\n",
    "    grouped[obj.provider].add(obj.name)\n",
    "\n",
    "for provider, objs in grouped.items():\n",
    "    print(f\"\\n{provider}:\")\n",
    "    for obj in sorted(objs):\n",
    "        print(f\"  - {obj}\")"
   ]
  },
  {
   "cell_type": "code",
   "execution_count": null,
   "metadata": {},
   "outputs": [],
   "source": []
  }
 ],
 "metadata": {
  "kernelspec": {
   "display_name": "pipeline",
   "language": "python",
   "name": "python3"
  },
  "language_info": {
   "codemirror_mode": {
    "name": "ipython",
    "version": 3
   },
   "file_extension": ".py",
   "mimetype": "text/x-python",
   "name": "python",
   "nbconvert_exporter": "python",
   "pygments_lexer": "ipython3",
   "version": "3.10.13"
  },
  "orig_nbformat": 4
 },
 "nbformat": 4,
 "nbformat_minor": 2
}
