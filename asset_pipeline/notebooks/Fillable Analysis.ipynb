{
 "cells": [
  {
   "cell_type": "code",
   "execution_count": 1,
   "metadata": {},
   "outputs": [],
   "source": [
    "import json\n",
    "\n",
    "with open(\"D:/ig_pipeline/metadata/fillable_assignments.json\") as f:\n",
    "    data = json.load(f)"
   ]
  },
  {
   "cell_type": "code",
   "execution_count": 2,
   "metadata": {},
   "outputs": [],
   "source": [
    "import collections\n",
    "\n",
    "ctr = collections.Counter(data.values())\n",
    "ctr.most_common()\n",
    "\n",
    "has_assignment = {k for k, v in data.items() if v in {\"combined\", \"ray\", \"dip\"}}"
   ]
  },
  {
   "cell_type": "code",
   "execution_count": 3,
   "metadata": {},
   "outputs": [
    {
     "name": "stderr",
     "output_type": "stream",
     "text": [
      "Loading BDDL knowledge base... This may take a few seconds.\n",
      "[nltk_data] Downloading package wordnet to\n",
      "[nltk_data]     C:\\Users\\cgokmen\\AppData\\Roaming\\nltk_data...\n",
      "[nltk_data]   Package wordnet is already up-to-date!\n"
     ]
    }
   ],
   "source": [
    "from bddl.knowledge_base import *"
   ]
  },
  {
   "cell_type": "code",
   "execution_count": 4,
   "metadata": {},
   "outputs": [],
   "source": [
    "objects = Object.all_objects()"
   ]
  },
  {
   "cell_type": "code",
   "execution_count": 5,
   "metadata": {},
   "outputs": [],
   "source": [
    "# Get all the objects that have a fillable synset\n",
    "fillable_needing = {o.name.split(\"-\")[-1] for o in objects if any(p.name == \"fillable\" for p in o.category.synset.properties)}"
   ]
  },
  {
   "cell_type": "code",
   "execution_count": 6,
   "metadata": {},
   "outputs": [],
   "source": [
    "# Get all teh objects that ahve a fillable volume\n",
    "fillable_annotated = {o.name.split(\"-\")[-1] for o in objects if any(m.name == \"fillable\" for m in o.meta_links)}"
   ]
  },
  {
   "cell_type": "code",
   "execution_count": 7,
   "metadata": {},
   "outputs": [],
   "source": [
    "fillable_missing = fillable_needing - fillable_annotated - has_assignment"
   ]
  },
  {
   "cell_type": "code",
   "execution_count": 8,
   "metadata": {},
   "outputs": [
    {
     "name": "stdout",
     "output_type": "stream",
     "text": [
      "Fillable needing:  637\n",
      "Fillable annotated:  463\n",
      "Fillable assigned: 449\n",
      "Fillable missing: 83\n",
      "Fillable missing assignment only: 188\n"
     ]
    }
   ],
   "source": [
    "print(\"Fillable needing: \", len(fillable_needing))\n",
    "print(\"Fillable annotated: \", len(fillable_annotated))\n",
    "print(\"Fillable assigned:\", len(has_assignment))\n",
    "print(\"Fillable missing:\", len(fillable_missing))\n",
    "print(\"Fillable missing assignment only:\", len(fillable_needing - has_assignment))"
   ]
  },
  {
   "cell_type": "code",
   "execution_count": 9,
   "metadata": {},
   "outputs": [],
   "source": [
    "# Export a copy removing everything with no mesh selection\n",
    "selected_only = {k: v for k, v in data.items() if v in {\"combined\", \"ray\", \"dip\"}}\n",
    "with open(\"D:/ig_pipeline/metadata/fillable_assignments_selected.json\", \"w\") as f:\n",
    "    json.dump(selected_only, f, indent=4)"
   ]
  }
 ],
 "metadata": {
  "kernelspec": {
   "display_name": "pipeline",
   "language": "python",
   "name": "python3"
  },
  "language_info": {
   "codemirror_mode": {
    "name": "ipython",
    "version": 3
   },
   "file_extension": ".py",
   "mimetype": "text/x-python",
   "name": "python",
   "nbconvert_exporter": "python",
   "pygments_lexer": "ipython3",
   "version": "3.10.13"
  },
  "orig_nbformat": 4
 },
 "nbformat": 4,
 "nbformat_minor": 2
}
