{
 "cells": [
  {
   "cell_type": "code",
   "execution_count": 1,
   "metadata": {},
   "outputs": [],
   "source": [
    "import json\n",
    "\n",
    "with open(\"/scr/ig_pipeline/metadata/fillable_assignments.json\") as f:\n",
    "    data = json.load(f)"
   ]
  },
  {
   "cell_type": "code",
   "execution_count": 2,
   "metadata": {},
   "outputs": [],
   "source": [
    "import collections\n",
    "\n",
    "ctr = collections.Counter(data.values())\n",
    "ctr.most_common()\n",
    "\n",
    "has_assignment = {k for k, v in data.items() if v in {\"combined\", \"ray\", \"dip\"}}"
   ]
  },
  {
   "cell_type": "code",
   "execution_count": 3,
   "metadata": {},
   "outputs": [
    {
     "name": "stderr",
     "output_type": "stream",
     "text": [
      "Loading BDDL knowledge base... This may take a few seconds.\n",
      "[nltk_data] Downloading package wordnet to /home/cgokmen/nltk_data...\n",
      "[nltk_data]   Package wordnet is already up-to-date!\n"
     ]
    },
    {
     "ename": "TypeError",
     "evalue": "string indices must be integers",
     "output_type": "error",
     "traceback": [
      "\u001b[0;31m---------------------------------------------------------------------------\u001b[0m",
      "\u001b[0;31mTypeError\u001b[0m                                 Traceback (most recent call last)",
      "Cell \u001b[0;32mIn[3], line 1\u001b[0m\n\u001b[0;32m----> 1\u001b[0m \u001b[39mfrom\u001b[39;00m \u001b[39mbddl\u001b[39;00m\u001b[39m.\u001b[39;00m\u001b[39mknowledge_base\u001b[39;00m \u001b[39mimport\u001b[39;00m \u001b[39m*\u001b[39m\n",
      "File \u001b[0;32m~/miniconda3/envs/omnigibson/lib/python3.10/site-packages/bddl/knowledge_base/__init__.py:25\u001b[0m\n\u001b[1;32m     22\u001b[0m \u001b[39mfrom\u001b[39;00m \u001b[39mbddl\u001b[39;00m\u001b[39m.\u001b[39;00m\u001b[39mknowledge_base\u001b[39;00m\u001b[39m.\u001b[39;00m\u001b[39mprocessing\u001b[39;00m \u001b[39mimport\u001b[39;00m KnowledgeBaseProcessor\n\u001b[1;32m     24\u001b[0m \u001b[39m# Load the knowledge base\u001b[39;00m\n\u001b[0;32m---> 25\u001b[0m KnowledgeBaseProcessor(verbose\u001b[39m=\u001b[39;49m\u001b[39mFalse\u001b[39;49;00m)\u001b[39m.\u001b[39;49mrun()\n",
      "File \u001b[0;32m~/miniconda3/envs/omnigibson/lib/python3.10/site-packages/bddl/knowledge_base/processing.py:44\u001b[0m, in \u001b[0;36mKnowledgeBaseProcessor.run\u001b[0;34m(self)\u001b[0m\n\u001b[1;32m     42\u001b[0m \u001b[39mself\u001b[39m\u001b[39m.\u001b[39mcreate_scenes()\n\u001b[1;32m     43\u001b[0m \u001b[39mself\u001b[39m\u001b[39m.\u001b[39mcreate_tasks()\n\u001b[0;32m---> 44\u001b[0m \u001b[39mself\u001b[39;49m\u001b[39m.\u001b[39;49mcreate_transitions()\n\u001b[1;32m     45\u001b[0m \u001b[39mself\u001b[39m\u001b[39m.\u001b[39mpost_complete_operation()\n",
      "File \u001b[0;32m~/miniconda3/envs/omnigibson/lib/python3.10/site-packages/bddl/knowledge_base/processing.py:319\u001b[0m, in \u001b[0;36mKnowledgeBaseProcessor.create_transitions\u001b[0;34m(self)\u001b[0m\n\u001b[1;32m    317\u001b[0m \u001b[39m# Create the transition objects\u001b[39;00m\n\u001b[1;32m    318\u001b[0m \u001b[39mfor\u001b[39;00m transition_data \u001b[39min\u001b[39;00m \u001b[39mself\u001b[39m\u001b[39m.\u001b[39mtqdm(transitions):\n\u001b[0;32m--> 319\u001b[0m     rule_name \u001b[39m=\u001b[39m transition_data[\u001b[39m\"\u001b[39;49m\u001b[39mrule_name\u001b[39;49m\u001b[39m\"\u001b[39;49m]\n\u001b[1;32m    320\u001b[0m     transition \u001b[39m=\u001b[39m TransitionRule\u001b[39m.\u001b[39mcreate(name\u001b[39m=\u001b[39mrule_name)\n\u001b[1;32m    321\u001b[0m     inputs \u001b[39m=\u001b[39m \u001b[39mset\u001b[39m(transition_data[\u001b[39m\"\u001b[39m\u001b[39minput_synsets\u001b[39m\u001b[39m\"\u001b[39m]\u001b[39m.\u001b[39mkeys())\n",
      "\u001b[0;31mTypeError\u001b[0m: string indices must be integers"
     ]
    }
   ],
   "source": [
    "from bddl.knowledge_base import *"
   ]
  },
  {
   "cell_type": "code",
   "execution_count": null,
   "metadata": {},
   "outputs": [],
   "source": []
  }
 ],
 "metadata": {
  "kernelspec": {
   "display_name": "pipeline",
   "language": "python",
   "name": "python3"
  },
  "language_info": {
   "codemirror_mode": {
    "name": "ipython",
    "version": 3
   },
   "file_extension": ".py",
   "mimetype": "text/x-python",
   "name": "python",
   "nbconvert_exporter": "python",
   "pygments_lexer": "ipython3",
   "version": "3.10.13"
  },
  "orig_nbformat": 4
 },
 "nbformat": 4,
 "nbformat_minor": 2
}
