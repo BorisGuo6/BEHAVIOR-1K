{
 "cells": [
  {
   "cell_type": "code",
   "execution_count": 4,
   "id": "480d75f7",
   "metadata": {},
   "outputs": [],
   "source": [
    "import glob, pathlib, json, sys\n",
    "sys.path.append(r\"D:\\ig_pipeline\")\n",
    "import b1k_pipeline.utils"
   ]
  },
  {
   "cell_type": "code",
   "execution_count": 6,
   "id": "82223283",
   "metadata": {},
   "outputs": [
    {
     "name": "stdout",
     "output_type": "stream",
     "text": [
      "objects/legacy_juice-bbewjo provides no objects\n",
      "objects/legacy_sheet-czdhwu provides no objects\n"
     ]
    }
   ],
   "source": [
    "for target in b1k_pipeline.utils.get_targets(\"objects\"):\n",
    "    if not target.startswith(\"objects/legacy\"):\n",
    "        continue\n",
    "        \n",
    "    j_path = b1k_pipeline.utils.PIPELINE_ROOT / \"cad\" / target / \"artifacts/object_list.json\"\n",
    "    with open(j_path, \"r\") as f:\n",
    "        object_list = json.load(f)\n",
    "        \n",
    "    if len(object_list[\"provided_objects\"]) == 0:\n",
    "        print(f\"{target} provides no objects\")"
   ]
  },
  {
   "cell_type": "code",
   "execution_count": null,
   "id": "be088953",
   "metadata": {},
   "outputs": [],
   "source": []
  }
 ],
 "metadata": {
  "kernelspec": {
   "display_name": "Python 3 (ipykernel)",
   "language": "python",
   "name": "python3"
  },
  "language_info": {
   "codemirror_mode": {
    "name": "ipython",
    "version": 3
   },
   "file_extension": ".py",
   "mimetype": "text/x-python",
   "name": "python",
   "nbconvert_exporter": "python",
   "pygments_lexer": "ipython3",
   "version": "3.8.0"
  }
 },
 "nbformat": 4,
 "nbformat_minor": 5
}
