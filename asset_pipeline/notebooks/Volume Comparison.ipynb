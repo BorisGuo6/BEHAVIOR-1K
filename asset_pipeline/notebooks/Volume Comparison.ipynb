{
 "cells": [
  {
   "cell_type": "code",
   "execution_count": 1,
   "id": "91bd1580",
   "metadata": {},
   "outputs": [],
   "source": [
    "import sys\n",
    "sys.path.append(r\"D:\\ig_pipeline\")\n",
    "\n",
    "import glob\n",
    "import os\n",
    "from b1k_pipeline.urdfpy import URDF\n",
    "import trimesh\n",
    "import numpy as np\n",
    "from tqdm.notebook import tqdm\n",
    "import json"
   ]
  },
  {
   "cell_type": "code",
   "execution_count": 2,
   "id": "687acd27",
   "metadata": {},
   "outputs": [
    {
     "name": "stdout",
     "output_type": "stream",
     "text": [
      "765\n"
     ]
    }
   ],
   "source": [
    "obj_dirs = glob.glob(r\"D:\\ig_pipeline\\artifacts\\aggregate\\objects\\*\\*\")\n",
    "print(len(obj_dirs))"
   ]
  },
  {
   "cell_type": "code",
   "execution_count": 3,
   "id": "cbc7ff4e",
   "metadata": {},
   "outputs": [],
   "source": [
    "with open(r\"D:\\ig_pipeline\\artifacts\\pipeline\\object_inventory.json\", \"r\") as f:\n",
    "    providers = json.load(f)[\"providers\"]"
   ]
  },
  {
   "cell_type": "code",
   "execution_count": 4,
   "id": "32791b31",
   "metadata": {},
   "outputs": [],
   "source": [
    "def get_dimensions(obj_dir):\n",
    "    obj_urdf, = glob.glob(os.path.join(obj_dir, \"*.urdf\"))\n",
    "    obj = URDF.load(obj_urdf)\n",
    "\n",
    "    fk = obj.collision_trimesh_fk()\n",
    "    links = []\n",
    "    for link, transform in fk.items():\n",
    "        link = link.copy()\n",
    "        link.apply_transform(transform)\n",
    "        links.append(link)\n",
    "    obj_mesh = trimesh.util.concatenate(links)\n",
    "    bbox = obj_mesh.bounding_box.extents\n",
    "    return bbox"
   ]
  },
  {
   "cell_type": "code",
   "execution_count": 5,
   "id": "17204098",
   "metadata": {},
   "outputs": [
    {
     "data": {
      "application/vnd.jupyter.widget-view+json": {
       "model_id": "4fba809fa17049a884eab960483855bd",
       "version_major": 2,
       "version_minor": 0
      },
      "text/plain": [
       "  0%|          | 0/765 [00:00<?, ?it/s]"
      ]
     },
     "metadata": {},
     "output_type": "display_data"
    }
   ],
   "source": [
    "boxes = {obj_dir: get_dimensions(obj_dir) for obj_dir in tqdm(obj_dirs)}"
   ]
  },
  {
   "cell_type": "code",
   "execution_count": 8,
   "id": "db2b4b80",
   "metadata": {},
   "outputs": [
    {
     "data": {
      "image/png": "[encoded data removed]",
      "text/plain": [
       "<Figure size 432x288 with 1 Axes>"
      ]
     },
     "metadata": {
      "needs_background": "light"
     },
     "output_type": "display_data"
    },
    {
     "data": {
      "image/png": "[encoded data removed]",
      "text/plain": [
       "<Figure size 432x288 with 1 Axes>"
      ]
     },
     "metadata": {
      "needs_background": "light"
     },
     "output_type": "display_data"
    },
    {
     "data": {
      "image/png": "[encoded data removed]",
      "text/plain": [
       "<Figure size 432x288 with 1 Axes>"
      ]
     },
     "metadata": {
      "needs_background": "light"
     },
     "output_type": "display_data"
    }
   ],
   "source": [
    "import matplotlib.pyplot as plt\n",
    "\n",
    "def vol():\n",
    "    basename_to_dims = {os.path.basename(os.path.dirname(k)) + \"-\" + os.path.basename(k): np.prod(v) for k, v in boxes.items()}\n",
    "    legacy_dims = np.asarray([np.log(dim) / np.log(10) for k, dim in basename_to_dims.items() if \"legacy_\" in providers[k]])\n",
    "    nonlegacy_dims = np.asarray([np.log(dim) / np.log(10) for k, dim in basename_to_dims.items() if \"legacy_\" not in providers[k]])\n",
    "\n",
    "    _ = plt.hist([legacy_dims, nonlegacy_dims], bins='auto', label=[\"legacy\", \"nonlegacy\"], stacked=True)\n",
    "    plt.title(\"Volume, 10^x m3\")\n",
    "    plt.legend()\n",
    "    plt.show()\n",
    "    \n",
    "def maxdim():\n",
    "    basename_to_dims = {os.path.basename(os.path.dirname(k)) + \"-\" + os.path.basename(k): np.max(v) for k, v in boxes.items()}\n",
    "    legacy_dims = np.asarray([np.log(dim) / np.log(10) for k, dim in basename_to_dims.items() if \"legacy_\" in providers[k]])\n",
    "    nonlegacy_dims = np.asarray([np.log(dim) / np.log(10) for k, dim in basename_to_dims.items() if \"legacy_\" not in providers[k]])\n",
    "\n",
    "    _ = plt.hist([legacy_dims, nonlegacy_dims], bins='auto', label=[\"legacy\", \"nonlegacy\"], stacked=True)\n",
    "    plt.title(\"Max Dimension, 10^x m\")\n",
    "    plt.legend()\n",
    "    plt.show()\n",
    "    \n",
    "def mediandim():\n",
    "    basename_to_dims = {os.path.basename(os.path.dirname(k)) + \"-\" + os.path.basename(k): np.median(v) for k, v in boxes.items()}\n",
    "    legacy_dims = np.asarray([np.log(dim) / np.log(10) for k, dim in basename_to_dims.items() if \"legacy_\" in providers[k]])\n",
    "    nonlegacy_dims = np.asarray([np.log(dim) / np.log(10) for k, dim in basename_to_dims.items() if \"legacy_\" not in providers[k]])\n",
    "\n",
    "    _ = plt.hist([legacy_dims, nonlegacy_dims], bins='auto', label=[\"legacy\", \"nonlegacy\"], stacked=True)\n",
    "    plt.title(\"Median Dimension, 10^x m\")\n",
    "    plt.legend()\n",
    "    plt.show()\n",
    "    \n",
    "vol()\n",
    "maxdim()\n",
    "mediandim()"
   ]
  },
  {
   "cell_type": "code",
   "execution_count": null,
   "id": "ce87337f",
   "metadata": {},
   "outputs": [],
   "source": [
    "objects_to_include = sorted({providers[os.path.basename(os.path.dirname(k)) + \"-\" + os.path.basename(k)].replace(\"objects/\", \"\") for k in obj_dirs})"
   ]
  },
  {
   "cell_type": "code",
   "execution_count": null,
   "id": "4aa72887",
   "metadata": {},
   "outputs": [],
   "source": [
    "print(\"\\n\".join(f'\"{x}\",' for x in objects_to_include))"
   ]
  },
  {
   "cell_type": "code",
   "execution_count": null,
   "id": "56a7aa5a",
   "metadata": {},
   "outputs": [],
   "source": []
  }
 ],
 "metadata": {
  "kernelspec": {
   "display_name": "Python 3 (ipykernel)",
   "language": "python",
   "name": "python3"
  },
  "language_info": {
   "codemirror_mode": {
    "name": "ipython",
    "version": 3
   },
   "file_extension": ".py",
   "mimetype": "text/x-python",
   "name": "python",
   "nbconvert_exporter": "python",
   "pygments_lexer": "ipython3",
   "version": "3.8.0"
  }
 },
 "nbformat": 4,
 "nbformat_minor": 5
}
