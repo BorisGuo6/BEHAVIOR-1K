{
 "cells": [
  {
   "cell_type": "code",
   "execution_count": 1,
   "id": "f3c44580",
   "metadata": {},
   "outputs": [],
   "source": [
    "import glob, os"
   ]
  },
  {
   "cell_type": "code",
   "execution_count": 2,
   "id": "c6a6289e",
   "metadata": {},
   "outputs": [],
   "source": [
    "bddls = {}\n",
    "for fn in glob.glob(r\"/scr/bddl/bddl/activity_definitions/*/*.bddl\"):\n",
    "    bn = os.path.basename(os.path.dirname(fn))\n",
    "    with open(fn, \"r\") as f:\n",
    "        lines = f.read()\n",
    "        bddls[bn] = lines"
   ]
  },
  {
   "cell_type": "code",
   "execution_count": 3,
   "id": "bc80273a",
   "metadata": {},
   "outputs": [
    {
     "data": {
      "text/plain": [
       "1022"
      ]
     },
     "execution_count": 3,
     "metadata": {},
     "output_type": "execute_result"
    }
   ],
   "source": [
    "len(bddls)"
   ]
  },
  {
   "cell_type": "code",
   "execution_count": 4,
   "id": "a4a938f2",
   "metadata": {},
   "outputs": [],
   "source": [
    "# Contains one of the problematic states?\n",
    "problematic_states = {\"attached\", \"assembled\"}\n",
    "problematic_bddls = {k: v for k, v in bddls.items() if any(x in v for x in problematic_states)}"
   ]
  },
  {
   "cell_type": "code",
   "execution_count": 5,
   "id": "04f4e715",
   "metadata": {},
   "outputs": [
    {
     "data": {
      "text/plain": [
       "79"
      ]
     },
     "execution_count": 5,
     "metadata": {},
     "output_type": "execute_result"
    }
   ],
   "source": [
    "len(problematic_bddls)"
   ]
  },
  {
   "cell_type": "code",
   "execution_count": 6,
   "id": "1cc9ebd3",
   "metadata": {},
   "outputs": [],
   "source": [
    "problematic_bddls_details = []\n",
    "for name, bddl in problematic_bddls.items():\n",
    "    problematic_lines = \"\\n\".join([l for l in bddl.split(\"\\n\") if any(x in l for x in problematic_states)])\n",
    "    problematic_bddls_details.append({\"name\": name, \"all_lines\": bddl, \"attach_lines\": problematic_lines, \"todo\": \"\", \"type\": \"\", \"notes\": \"\"})"
   ]
  },
  {
   "cell_type": "code",
   "execution_count": 7,
   "id": "8f602feb",
   "metadata": {},
   "outputs": [
    {
     "name": "stdout",
     "output_type": "stream",
     "text": [
      "                                        name  \\\n",
      "0                              hanging_flags   \n",
      "1                         putting_up_posters   \n",
      "2                              make_biscuits   \n",
      "3   putting_up_Christmas_decorations_outside   \n",
      "4                         putting_up_shelves   \n",
      "..                                       ...   \n",
      "74                installing_a_trailer_hitch   \n",
      "75                       putting_on_tags_car   \n",
      "76                         set_a_fancy_table   \n",
      "77                       hang_paper_lanterns   \n",
      "78                remove_a_broken_light_bulb   \n",
      "\n",
      "                                            all_lines  \\\n",
      "0   (define (problem hanging_flags-0)\\n    (:domai...   \n",
      "1   (define (problem putting_up_posters-0)\\n    (:...   \n",
      "2   (define (problem make_biscuits-0)\\n    (:domai...   \n",
      "3   (define (problem putting_up_Christmas_decorati...   \n",
      "4   (define (problem putting_up_shelves-0)\\n    (:...   \n",
      "..                                                ...   \n",
      "74  (define (problem installing_a_trailer_hitch-0)...   \n",
      "75  (define (problem putting_on_tags_car-0)\\n    (...   \n",
      "76  (define (problem set_a_fancy_table-0)\\n    (:d...   \n",
      "77  (define (problem hang_paper_lanterns-0)\\n    (...   \n",
      "78  (define (problem remove_a_broken_light_bulb-0)...   \n",
      "\n",
      "                                         attach_lines todo type notes  \n",
      "0             (attached flagpole.n.02_1 wall.n.01_1)                   \n",
      "1               (attached poster.n.01_1 wall.n.01_...                  \n",
      "2           (attached mixing_bowl.n.01_1 electric_...                  \n",
      "3               (attached wreath.n.01_1 wall.n.01_...                  \n",
      "4               (assembled shelf.n.01_1)\\n        ...                  \n",
      "..                                                ...  ...  ...   ...  \n",
      "74              (attached hook.n.05_1 trailer_truc...                  \n",
      "75              (attached gummed_label.n.01_1 lice...                  \n",
      "76              (attached dip.n.07_1 candlestick.n...                  \n",
      "77              (attached lantern.n.01_1 wall.n.01...                  \n",
      "78          (attached broken__light_bulb.n.01_1 ta...                  \n",
      "\n",
      "[79 rows x 6 columns]\n"
     ]
    }
   ],
   "source": [
    "import pandas as pd\n",
    "df = pd.DataFrame.from_records(problematic_bddls_details)\n",
    "print(df)"
   ]
  },
  {
   "cell_type": "code",
   "execution_count": 8,
   "id": "2d4e0752",
   "metadata": {},
   "outputs": [],
   "source": [
    "dest = r\"/home/cgokmen/Downloads/attachment.csv\"\n",
    "df.to_csv(dest)"
   ]
  },
  {
   "cell_type": "code",
   "execution_count": null,
   "id": "5fd81683",
   "metadata": {},
   "outputs": [],
   "source": []
  }
 ],
 "metadata": {
  "kernelspec": {
   "display_name": "Python 3 (ipykernel)",
   "language": "python",
   "name": "python3"
  },
  "language_info": {
   "codemirror_mode": {
    "name": "ipython",
    "version": 3
   },
   "file_extension": ".py",
   "mimetype": "text/x-python",
   "name": "python",
   "nbconvert_exporter": "python",
   "pygments_lexer": "ipython3",
   "version": "3.8.0"
  }
 },
 "nbformat": 4,
 "nbformat_minor": 5
}
