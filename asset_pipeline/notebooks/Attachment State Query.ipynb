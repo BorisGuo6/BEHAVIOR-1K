{
 "cells": [
  {
   "cell_type": "code",
   "execution_count": 1,
   "id": "f3c44580",
   "metadata": {},
   "outputs": [],
   "source": [
    "import glob, os"
   ]
  },
  {
   "cell_type": "code",
   "execution_count": 2,
   "id": "c6a6289e",
   "metadata": {},
   "outputs": [],
   "source": [
    "bddls = {}\n",
    "for fn in glob.glob(r\"D:\\ObjectPropertyAnnotation\\init_goal_cond_annotations\\problem_files_verified_b1k\\*\\*.bddl\"):\n",
    "    bn = os.path.basename(os.path.dirname(fn))\n",
    "    with open(fn, \"r\") as f:\n",
    "        lines = f.read()\n",
    "        bddls[bn] = lines"
   ]
  },
  {
   "cell_type": "code",
   "execution_count": 3,
   "id": "bc80273a",
   "metadata": {},
   "outputs": [
    {
     "data": {
      "text/plain": [
       "998"
      ]
     },
     "execution_count": 3,
     "metadata": {},
     "output_type": "execute_result"
    }
   ],
   "source": [
    "len(bddls)"
   ]
  },
  {
   "cell_type": "code",
   "execution_count": 4,
   "id": "a4a938f2",
   "metadata": {},
   "outputs": [],
   "source": [
    "# Contains one of the problematic states?\n",
    "problematic_states = {\"hung\", \"connected\", \"assembled\"}\n",
    "problematic_bddls = {k: v for k, v in bddls.items() if any(x in v for x in problematic_states)}"
   ]
  },
  {
   "cell_type": "code",
   "execution_count": 5,
   "id": "04f4e715",
   "metadata": {},
   "outputs": [
    {
     "data": {
      "text/plain": [
       "195"
      ]
     },
     "execution_count": 5,
     "metadata": {},
     "output_type": "execute_result"
    }
   ],
   "source": [
    "len(problematic_bddls)"
   ]
  },
  {
   "cell_type": "code",
   "execution_count": 6,
   "id": "1cc9ebd3",
   "metadata": {},
   "outputs": [],
   "source": [
    "problematic_bddls_details = []\n",
    "for name, bddl in problematic_bddls.items():\n",
    "    problematic_lines = \"\\n\".join([l for l in bddl.split(\"\\n\") if any(x in l for x in problematic_states)])\n",
    "    problematic_bddls_details.append({\"name\": name, \"all_lines\": bddl, \"attach_lines\": problematic_lines, \"todo\": \"\", \"type\": \"\", \"notes\": \"\"})"
   ]
  },
  {
   "cell_type": "code",
   "execution_count": 7,
   "id": "8f602feb",
   "metadata": {},
   "outputs": [
    {
     "name": "stdout",
     "output_type": "stream",
     "text": [
      "                            name  \\\n",
      "0            applying-pesticides   \n",
      "1           assembling-furniture   \n",
      "2    attach-a-camera-to-a-tripod   \n",
      "3                  bottling-wine   \n",
      "4         buy-basic-garden-tools   \n",
      "..                           ...   \n",
      "190                washing-walls   \n",
      "191      watering-indoor-flowers   \n",
      "192     watering-outdoor-flowers   \n",
      "193      watering-outdoor-plants   \n",
      "194              wrap-silverware   \n",
      "\n",
      "                                             all_lines  \\\n",
      "0    (define (problem applying-pesticides_1)\\n    (...   \n",
      "1    (define (problem assembling-furniture_0)\\n    ...   \n",
      "2    (define (problem attach-a-camera-to-a-tripod_0...   \n",
      "3    (define (problem bottling-wine_0)\\n    (:domai...   \n",
      "4    (define (problem buy-basic-garden-tools_0)\\n  ...   \n",
      "..                                                 ...   \n",
      "190  (define (problem washing-wallss_0)\\n    (:doma...   \n",
      "191  (define (problem watering-indoor-flowers_0)\\n ...   \n",
      "192  (define (problem watering-outdoor-flowers_0)\\n...   \n",
      "193  (define (problem watering-outdoor-plants_0)\\n ...   \n",
      "194  (define (problem wrap-silverware_0)\\n    (:dom...   \n",
      "\n",
      "                                          attach_lines todo type notes  \n",
      "0            (connected weed.n.01_1 soil.n.02_1) \\n...                  \n",
      "1                (assembled desk.n.01_1)\\n         ...                  \n",
      "2                (connected ?camera.n.01_1 ?tripod....                  \n",
      "3                    (connected ?cork.n.01 ?wine_bo...                  \n",
      "4              (connected money.n.01_1 shovel.n.01_1)                   \n",
      "..                                                 ...  ...  ...   ...  \n",
      "190                  (connected ?brush.n.02_1 ?wall...                  \n",
      "191          (connected watering_can.n.01_1 sink.n....                  \n",
      "192          (connected nozzle.n.01_1 hose.n.03_1) ...                  \n",
      "193          (connected fence.n.01_1 tree.n.01_1) \\...                  \n",
      "194              (connected ?knife.n.01_1 ?napkin.n...                  \n",
      "\n",
      "[195 rows x 6 columns]\n"
     ]
    }
   ],
   "source": [
    "import pandas as pd\n",
    "df = pd.DataFrame.from_records(problematic_bddls_details)\n",
    "print(df)"
   ]
  },
  {
   "cell_type": "code",
   "execution_count": 8,
   "id": "2d4e0752",
   "metadata": {},
   "outputs": [],
   "source": [
    "dest = r\"C:\\Users\\Cem\\Downloads\\attachment.csv\"\n",
    "df.to_csv(dest)"
   ]
  },
  {
   "cell_type": "code",
   "execution_count": null,
   "id": "5fd81683",
   "metadata": {},
   "outputs": [],
   "source": []
  }
 ],
 "metadata": {
  "kernelspec": {
   "display_name": "Python 3 (ipykernel)",
   "language": "python",
   "name": "python3"
  },
  "language_info": {
   "codemirror_mode": {
    "name": "ipython",
    "version": 3
   },
   "file_extension": ".py",
   "mimetype": "text/x-python",
   "name": "python",
   "nbconvert_exporter": "python",
   "pygments_lexer": "ipython3",
   "version": "3.8.0"
  }
 },
 "nbformat": 4,
 "nbformat_minor": 5
}
