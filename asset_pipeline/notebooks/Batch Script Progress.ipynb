{
 "cells": [
  {
   "cell_type": "code",
   "execution_count": 29,
   "metadata": {},
   "outputs": [],
   "source": [
    "import pathlib"
   ]
  },
  {
   "cell_type": "code",
   "execution_count": 30,
   "metadata": {},
   "outputs": [],
   "source": [
    "# Check the modified time of CAD files. Convert to datetime\n",
    "import datetime\n",
    "cad_files = {\n",
    "    p.parts[-3]: datetime.datetime.fromtimestamp(p.stat().st_mtime)\n",
    "    for p in pathlib.Path(r\"D:\\ig_pipeline\").glob(\"cad/*/*/artifacts/meshes.zip\")\n",
    "}"
   ]
  },
  {
   "cell_type": "code",
   "execution_count": 31,
   "metadata": {},
   "outputs": [
    {
     "name": "stdout",
     "output_type": "stream",
     "text": [
      "office_bike Sun Feb  2 01:40:46 2025\n",
      "restaurant_hotel Sun Feb  2 01:59:07 2025\n",
      "Pomaria_0_int Sun Feb  2 02:38:48 2025\n",
      "school_biology Sun Feb  2 02:59:49 2025\n",
      "Rs_int Sun Feb  2 03:38:05 2025\n",
      "house_single_floor Sun Feb  2 04:33:20 2025\n",
      "legacy_batch-00 Sun Feb  2 04:40:17 2025\n",
      "school_gym Sun Feb  2 04:47:32 2025\n",
      "Beechwood_0_int Sun Feb  2 06:40:32 2025\n",
      "Wainscott_0_int Sun Feb  2 06:45:03 2025\n",
      "substances-01 Sun Feb  2 07:13:46 2025\n",
      "Benevolence_0_int Sun Feb  2 07:28:05 2025\n",
      "Benevolence_2_int Sun Feb  2 08:42:08 2025\n",
      "hall_train_station Sun Feb  2 08:44:06 2025\n",
      "hall_arch_wood Sun Feb  2 09:16:05 2025\n",
      "procedural-aa Sun Feb  2 09:37:48 2025\n",
      "Pomaria_0_garden Sun Feb  2 09:44:33 2025\n",
      "public_restroom_marble Sun Feb  2 09:46:02 2025\n",
      "Pomaria_2_int Sun Feb  2 10:38:49 2025\n",
      "house_double_floor_upper Sun Feb  2 11:02:39 2025\n",
      "legacy_batch-02 Sun Feb  2 11:46:40 2025\n",
      "legacy_batch-04 Sun Feb  2 12:25:10 2025\n",
      "restaurant_cafeteria Mon Apr  7 03:27:44 2025\n",
      "legacy_batch-07 Mon Apr  7 03:33:45 2025\n",
      "grocery_store_cafe Mon Apr  7 05:09:08 2025\n",
      "legacy_batch-08 Mon Apr  7 05:14:25 2025\n",
      "batch-03 Mon Apr  7 05:18:15 2025\n",
      "Beechwood_1_int Mon Apr  7 05:23:31 2025\n",
      "batch-05 Mon Apr  7 05:28:41 2025\n",
      "batch-08 Mon Apr  7 05:34:34 2025\n",
      "school_geography Mon Apr  7 05:45:47 2025\n",
      "office_large Mon Apr  7 06:09:37 2025\n",
      "batch-01 Mon Apr  7 06:15:47 2025\n",
      "school_chemistry Mon Apr  7 06:33:23 2025\n",
      "legacy_batch-01 Mon Apr  7 06:42:01 2025\n",
      "school_objects-aa Mon Apr  7 06:46:15 2025\n",
      "legacy_batch-05 Mon Apr  7 06:53:30 2025\n",
      "public_restroom_brown Mon Apr  7 06:55:24 2025\n",
      "Beechwood_0_garden Mon Apr  7 07:04:29 2025\n",
      "legacy_batch-03 Mon Apr  7 07:11:52 2025\n",
      "Pomaria_1_int Mon Apr  7 07:15:33 2025\n",
      "commercial_kitchen_pans Mon Apr  7 07:27:53 2025\n",
      "gates_bedroom Mon Apr  7 07:29:39 2025\n",
      "grocery_store_asian Mon Apr  7 08:22:27 2025\n",
      "batch-09 Mon Apr  7 08:27:02 2025\n",
      "school_computer_lab_and_infirmary Mon Apr  7 08:42:51 2025\n",
      "office_vendor_machine Mon Apr  7 08:48:57 2025\n",
      "legacy_batch-11 Mon Apr  7 08:52:56 2025\n",
      "Ihlen_1_int Mon Apr  7 08:57:46 2025\n",
      "restaurant_urban Mon Apr  7 09:15:14 2025\n",
      "Rs_garden Mon Apr  7 09:19:43 2025\n",
      "commercial_kitchen_fire_extinguisher Mon Apr  7 09:31:03 2025\n",
      "house_double_floor_lower Mon Apr  7 09:43:18 2025\n",
      "batch-11 Mon Apr  7 09:47:35 2025\n",
      "office_cubicles_right Mon Apr  7 09:55:57 2025\n",
      "public_restroom_white Mon Apr  7 09:58:23 2025\n",
      "legacy_batch-12 Mon Apr  7 09:59:34 2025\n",
      "hotel_suite_large Mon Apr  7 10:06:14 2025\n",
      "legacy_batch-06 Mon Apr  7 10:12:43 2025\n",
      "custom-aa Mon Apr  7 10:13:56 2025\n",
      "restaurant_asian Mon Apr  7 10:24:18 2025\n",
      "Merom_0_garden Mon Apr  7 10:29:55 2025\n",
      "hotel_suite_small Mon Apr  7 10:31:55 2025\n",
      "Merom_1_int Mon Apr  7 10:36:21 2025\n",
      "grocery_store_half_stocked Mon Apr  7 11:14:25 2025\n",
      "batch-04 Mon Apr  7 11:20:02 2025\n",
      "hall_conference_large Mon Apr  7 11:59:06 2025\n",
      "Benevolence_1_int Mon Apr  7 12:02:00 2025\n",
      "Wainscott_0_garden Mon Apr  7 12:14:20 2025\n",
      "Wainscott_1_int Mon Apr  7 12:19:44 2025\n",
      "batch-07 Mon Apr  7 12:24:41 2025\n",
      "office_cubicles_left Mon Apr  7 12:39:58 2025\n",
      "Ihlen_0_int Mon Apr  7 12:42:57 2025\n",
      "hall_glass_ceiling Mon Apr  7 12:44:32 2025\n",
      "task_relevant-xy Mon Apr  7 12:52:36 2025\n",
      "batch-12 Mon Apr  7 12:57:40 2025\n",
      "hotel_gym_spa Mon Apr  7 13:07:00 2025\n",
      "legacy_batch-09 Mon Apr  7 13:11:01 2025\n",
      "batch-13 Mon Apr  7 13:13:54 2025\n",
      "Merom_0_int Mon Apr  7 13:16:47 2025\n",
      "grocery_store_convenience Mon Apr  7 13:35:50 2025\n",
      "task_relavant-ab Mon Apr  7 13:42:24 2025\n",
      "legacy_batch-10 Mon Apr  7 13:47:25 2025\n",
      "batch-10 Mon Apr  7 13:51:57 2025\n",
      "batch-02 Mon Apr  7 13:58:44 2025\n",
      "batch-00 Mon Apr  7 14:03:45 2025\n",
      "public_restroom_blue Mon Apr  7 14:05:33 2025\n",
      "restaurant_diner Mon Apr  7 14:10:19 2025\n",
      "public_restroom_futuristic Mon Apr  7 14:12:27 2025\n",
      "restaurant_brunch Mon Apr  7 14:22:47 2025\n",
      "batch-06 Mon Apr  7 14:27:01 2025\n"
     ]
    }
   ],
   "source": [
    "for k, v in sorted(cad_files.items(), key=lambda x: x[-1]):\n",
    "  print(k, v.strftime(\"%c\"))"
   ]
  },
  {
   "cell_type": "code",
   "execution_count": 32,
   "metadata": {},
   "outputs": [
    {
     "name": "stdout",
     "output_type": "stream",
     "text": [
      "Done percentage: 0.7582417582417582\n",
      "Not done yet: ['legacy_batch-00', 'legacy_batch-02', 'legacy_batch-04', 'procedural-aa', 'substances-01', 'Beechwood_0_int', 'Benevolence_0_int', 'Benevolence_2_int', 'hall_arch_wood', 'hall_train_station', 'house_double_floor_upper', 'house_single_floor', 'office_bike', 'Pomaria_0_garden', 'Pomaria_0_int', 'Pomaria_2_int', 'public_restroom_marble', 'restaurant_hotel', 'Rs_int', 'school_biology', 'school_gym', 'Wainscott_0_int']\n"
     ]
    }
   ],
   "source": [
    "start_time = datetime.datetime(2025, 4, 6) # .strptime(\"Mon Aug 26 16:55:00 2024\", \"%c\")\n",
    "is_done = {k: v > start_time for k, v in cad_files.items()}\n",
    "print(\"Done percentage:\", sum(is_done.values()) / len(is_done))\n",
    "print(\"Not done yet:\", [k for k, v in is_done.items() if not v])"
   ]
  },
  {
   "cell_type": "code",
   "execution_count": null,
   "metadata": {},
   "outputs": [],
   "source": []
  }
 ],
 "metadata": {
  "kernelspec": {
   "display_name": "Python 3",
   "language": "python",
   "name": "python3"
  },
  "language_info": {
   "codemirror_mode": {
    "name": "ipython",
    "version": 3
   },
   "file_extension": ".py",
   "mimetype": "text/x-python",
   "name": "python",
   "nbconvert_exporter": "python",
   "pygments_lexer": "ipython3",
   "version": "3.8.0"
  }
 },
 "nbformat": 4,
 "nbformat_minor": 2
}
