{
 "cells": [
  {
   "cell_type": "code",
   "execution_count": 29,
   "metadata": {},
   "outputs": [],
   "source": [
    "import pathlib"
   ]
  },
  {
   "cell_type": "code",
   "execution_count": 30,
   "metadata": {},
   "outputs": [],
   "source": [
    "# Check the modified time of CAD files. Convert to datetime\n",
    "import datetime\n",
    "cad_files = {\n",
    "    p.parts[-2]: datetime.datetime.fromtimestamp(p.stat().st_mtime)\n",
    "    for p in pathlib.Path(r\"D:\\ig_pipeline\").rglob(\"cad/*/*/processed.max\")\n",
    "}"
   ]
  },
  {
   "cell_type": "code",
   "execution_count": 31,
   "metadata": {},
   "outputs": [
    {
     "name": "stdout",
     "output_type": "stream",
     "text": [
      "batch-00 Mon Aug 26 16:57:18 2024\n",
      "batch-01 Mon Aug 26 16:57:46 2024\n",
      "batch-02 Mon Aug 26 16:58:03 2024\n",
      "batch-03 Mon Aug 26 16:58:17 2024\n",
      "batch-04 Mon Aug 26 16:58:29 2024\n",
      "batch-05 Mon Aug 26 16:58:42 2024\n",
      "batch-06 Mon Aug 26 16:58:55 2024\n",
      "batch-07 Mon Aug 26 16:59:10 2024\n",
      "batch-08 Mon Aug 26 17:00:03 2024\n",
      "batch-09 Mon Aug 26 17:00:15 2024\n",
      "batch-10 Mon Aug 26 17:00:41 2024\n",
      "batch-11 Mon Aug 26 17:01:06 2024\n",
      "batch-12 Mon Aug 26 17:01:17 2024\n",
      "batch-13 Mon Aug 26 17:01:36 2024\n",
      "custom-aa Mon Aug 26 17:01:41 2024\n",
      "legacy_batch-00 Mon Aug 26 17:02:24 2024\n",
      "legacy_batch-01 Mon Aug 26 17:04:07 2024\n",
      "legacy_batch-02 Mon Aug 26 17:04:43 2024\n",
      "legacy_batch-03 Mon Aug 26 17:05:42 2024\n",
      "legacy_batch-04 Mon Aug 26 17:06:28 2024\n",
      "legacy_batch-05 Mon Aug 26 17:07:11 2024\n",
      "legacy_batch-06 Mon Aug 26 17:08:03 2024\n",
      "legacy_batch-07 Mon Aug 26 17:08:37 2024\n",
      "legacy_batch-08 Mon Aug 26 17:09:10 2024\n",
      "legacy_batch-09 Mon Aug 26 17:09:22 2024\n",
      "legacy_batch-10 Mon Aug 26 17:09:42 2024\n",
      "legacy_batch-11 Mon Aug 26 17:10:04 2024\n",
      "legacy_batch-12 Mon Aug 26 17:10:12 2024\n",
      "procedural-aa Mon Aug 26 17:10:44 2024\n",
      "substances-01 Mon Aug 26 17:11:00 2024\n",
      "substances-02 Mon Aug 26 17:11:17 2024\n",
      "task_relavant-ab Mon Aug 26 17:11:31 2024\n",
      "task_relevant-xy Mon Aug 26 17:12:01 2024\n",
      "Beechwood_0_garden Tue Aug 27 11:50:41 2024\n",
      "Beechwood_0_int Tue Aug 27 11:50:54 2024\n",
      "Beechwood_1_int Tue Aug 27 11:51:03 2024\n",
      "Benevolence_0_int Tue Aug 27 11:51:07 2024\n",
      "Benevolence_1_int Tue Aug 27 11:51:11 2024\n",
      "Benevolence_2_int Tue Aug 27 11:51:17 2024\n",
      "commercial_kitchen_fire_extinguisher Tue Aug 27 11:51:28 2024\n",
      "commercial_kitchen_pans Tue Aug 27 11:51:53 2024\n",
      "gates_bedroom Tue Aug 27 11:51:57 2024\n",
      "grocery_store_asian Tue Aug 27 11:53:43 2024\n",
      "grocery_store_cafe Tue Aug 27 11:56:02 2024\n",
      "grocery_store_convenience Tue Aug 27 11:56:10 2024\n",
      "grocery_store_half_stocked Tue Aug 27 11:56:18 2024\n",
      "hall_arch_wood Tue Aug 27 11:56:22 2024\n",
      "hall_conference_large Tue Aug 27 11:57:57 2024\n",
      "hall_glass_ceiling Tue Aug 27 11:58:03 2024\n",
      "hall_train_station Tue Aug 27 11:58:10 2024\n",
      "hotel_gym_spa Tue Aug 27 11:58:32 2024\n",
      "hotel_suite_large Tue Aug 27 11:58:48 2024\n",
      "hotel_suite_small Tue Aug 27 11:58:55 2024\n",
      "house_double_floor_lower Tue Aug 27 11:59:39 2024\n",
      "house_double_floor_upper Tue Aug 27 12:00:09 2024\n",
      "house_single_floor Tue Aug 27 12:01:15 2024\n",
      "Ihlen_0_int Tue Aug 27 12:01:28 2024\n",
      "Ihlen_1_int Tue Aug 27 12:01:38 2024\n",
      "Merom_0_garden Tue Aug 27 12:01:52 2024\n",
      "Merom_0_int Tue Aug 27 12:02:00 2024\n",
      "Merom_1_int Tue Aug 27 12:02:09 2024\n",
      "office_bike Tue Aug 27 12:02:51 2024\n",
      "office_cubicles_left Tue Aug 27 12:03:59 2024\n",
      "office_cubicles_right Tue Aug 27 12:04:28 2024\n",
      "office_large Tue Aug 27 12:05:24 2024\n",
      "office_vendor_machine Tue Aug 27 12:05:49 2024\n",
      "Pomaria_0_garden Tue Aug 27 12:06:08 2024\n",
      "Pomaria_0_int Tue Aug 27 12:06:15 2024\n",
      "Pomaria_1_int Tue Aug 27 12:06:22 2024\n",
      "Pomaria_2_int Tue Aug 27 12:06:27 2024\n",
      "public_restroom_blue Tue Aug 27 12:06:31 2024\n",
      "public_restroom_brown Tue Aug 27 12:06:35 2024\n",
      "public_restroom_futuristic Tue Aug 27 12:06:41 2024\n",
      "public_restroom_marble Tue Aug 27 12:06:47 2024\n",
      "public_restroom_white Tue Aug 27 12:06:56 2024\n",
      "restaurant_asian Tue Aug 27 12:07:19 2024\n",
      "restaurant_brunch Tue Aug 27 12:07:48 2024\n",
      "restaurant_cafeteria Tue Aug 27 12:08:09 2024\n",
      "restaurant_diner Tue Aug 27 12:08:17 2024\n",
      "restaurant_hotel Tue Aug 27 12:08:56 2024\n",
      "restaurant_urban Tue Aug 27 12:10:49 2024\n",
      "Rs_garden Tue Aug 27 12:11:06 2024\n",
      "Rs_int Tue Aug 27 12:11:13 2024\n",
      "school_biology Tue Aug 27 12:11:49 2024\n",
      "school_chemistry Tue Aug 27 12:12:35 2024\n",
      "school_computer_lab_and_infirmary Tue Aug 27 12:13:23 2024\n",
      "school_geography Tue Aug 27 12:14:09 2024\n",
      "school_gym Tue Aug 27 12:14:54 2024\n",
      "Wainscott_0_garden Tue Aug 27 12:15:35 2024\n",
      "Wainscott_0_int Tue Aug 27 12:15:49 2024\n",
      "Wainscott_1_int Tue Aug 27 12:15:59 2024\n"
     ]
    }
   ],
   "source": [
    "for k, v in cad_files.items():\n",
    "  print(k, v.strftime(\"%c\"))"
   ]
  },
  {
   "cell_type": "code",
   "execution_count": 32,
   "metadata": {},
   "outputs": [
    {
     "name": "stdout",
     "output_type": "stream",
     "text": [
      "Done percentage: 1.0\n",
      "Not done yet: []\n"
     ]
    }
   ],
   "source": [
    "start_time = datetime.datetime.strptime(\"Mon Aug 26 16:55:00 2024\", \"%c\")\n",
    "is_done = {k: v > start_time for k, v in cad_files.items()}\n",
    "print(\"Done percentage:\", sum(is_done.values()) / len(is_done))\n",
    "print(\"Not done yet:\", [k for k, v in is_done.items() if not v])"
   ]
  },
  {
   "cell_type": "code",
   "execution_count": null,
   "metadata": {},
   "outputs": [],
   "source": []
  }
 ],
 "metadata": {
  "kernelspec": {
   "display_name": "pipeline",
   "language": "python",
   "name": "python3"
  },
  "language_info": {
   "codemirror_mode": {
    "name": "ipython",
    "version": 3
   },
   "file_extension": ".py",
   "mimetype": "text/x-python",
   "name": "python",
   "nbconvert_exporter": "python",
   "pygments_lexer": "ipython3",
   "version": "3.8.0"
  }
 },
 "nbformat": 4,
 "nbformat_minor": 2
}
