{
 "cells": [
  {
   "cell_type": "code",
   "execution_count": 1,
   "metadata": {},
   "outputs": [
    {
     "name": "stderr",
     "output_type": "stream",
     "text": [
      "Loading BDDL knowledge base... This may take a few seconds.\n",
      "[nltk_data] Downloading package wordnet to\n",
      "[nltk_data]     C:\\Users\\cgokmen\\AppData\\Roaming\\nltk_data...\n",
      "[nltk_data]   Package wordnet is already up-to-date!\n",
      "Complained object azqqwx does not exist in the database. Skipping.\n",
      "Complained object ntmrkt does not exist in the database. Skipping.\n"
     ]
    }
   ],
   "source": [
    "from bddl.knowledge_base import *"
   ]
  },
  {
   "cell_type": "code",
   "execution_count": 11,
   "metadata": {},
   "outputs": [],
   "source": [
    "objs = [obj for obj in Object.all_objects() if any(ml.name == \"togglebutton\" for ml in obj.meta_links)]"
   ]
  },
  {
   "cell_type": "code",
   "execution_count": 21,
   "metadata": {},
   "outputs": [
    {
     "data": {
      "text/plain": [
       "[Object(name='abzvij', provider='objects/legacy_batch-06', ready=True, planned=True, original_category_name='microwave'),\n",
       " Object(name='amblrk', provider='scenes/commercial_kitchen_pans', ready=True, planned=True, original_category_name='oven'),\n",
       " Object(name='awvzkn', provider='scenes/house_single_floor', ready=True, planned=True, original_category_name='drop_in_sink'),\n",
       " Object(name='bfbeeb', provider='objects/legacy_batch-06', ready=True, planned=True, original_category_name='microwave'),\n",
       " Object(name='bnpjjy', provider='objects/legacy_batch-06', ready=True, planned=True, original_category_name='furniture_sink'),\n",
       " Object(name='buifoi', provider='scenes/hotel_gym_spa', ready=True, planned=True, original_category_name='wall_mounted_sink'),\n",
       " Object(name='cgtaer', provider='scenes/commercial_kitchen_fire_extinguisher', ready=True, planned=True, original_category_name='oven'),\n",
       " Object(name='czyfhq', provider='objects/legacy_batch-06', ready=True, planned=True, original_category_name='furniture_sink'),\n",
       " Object(name='dusebh', provider='objects/legacy_batch-06', ready=True, planned=True, original_category_name='stove'),\n",
       " Object(name='dwhqap', provider='objects/legacy_batch-06', ready=True, planned=True, original_category_name='stove'),\n",
       " Object(name='egwapq', provider='scenes/house_double_floor_lower', ready=True, planned=True, original_category_name='furniture_sink'),\n",
       " Object(name='ejooms', provider='objects/legacy_batch-06', ready=True, planned=True, original_category_name='multi_station_furniture_sink'),\n",
       " Object(name='ekkwsy', provider='scenes/public_restroom_futuristic', ready=True, planned=True, original_category_name='multi_station_tabletop_sink'),\n",
       " Object(name='fexqbj', provider='objects/legacy_batch-05', ready=True, planned=True, original_category_name='oven'),\n",
       " Object(name='ffitak', provider='scenes/house_single_floor', ready=True, planned=True, original_category_name='oven'),\n",
       " Object(name='hecjnt', provider='scenes/house_double_floor_lower', ready=True, planned=True, original_category_name='drop_in_sink'),\n",
       " Object(name='hjjxmi', provider='objects/legacy_batch-06', ready=True, planned=True, original_category_name='microwave'),\n",
       " Object(name='hxorzh', provider='objects/legacy_batch-05', ready=True, planned=True, original_category_name='oven'),\n",
       " Object(name='igwqpj', provider='objects/legacy_batch-06', ready=True, planned=True, original_category_name='stove'),\n",
       " Object(name='ihxrvr', provider='scenes/grocery_store_convenience', ready=True, planned=True, original_category_name='microwave'),\n",
       " Object(name='jbborl', provider='scenes/hotel_suite_large', ready=True, planned=True, original_category_name='wall_mounted_sink'),\n",
       " Object(name='jqvfyl', provider='scenes/grocery_store_asian', ready=True, planned=True, original_category_name='furniture_sink'),\n",
       " Object(name='kenajw', provider='objects/legacy_batch-05', ready=True, planned=True, original_category_name='oven'),\n",
       " Object(name='kfftgk', provider='objects/legacy_batch-05', ready=True, planned=True, original_category_name='oven'),\n",
       " Object(name='kfhkqp', provider='objects/legacy_batch-06', ready=True, planned=True, original_category_name='stove'),\n",
       " Object(name='kqnonf', provider='scenes/public_restroom_brown', ready=True, planned=True, original_category_name='tabletop_sink'),\n",
       " Object(name='ksecxq', provider='objects/legacy_batch-06', ready=True, planned=True, original_category_name='pedestal_sink'),\n",
       " Object(name='kyxynl', provider='scenes/public_restroom_marble', ready=True, planned=True, original_category_name='furniture_sink'),\n",
       " Object(name='leqtlc', provider='objects/legacy_batch-05', ready=True, planned=True, original_category_name='oven'),\n",
       " Object(name='lfyqat', provider='objects/legacy_batch-08', ready=True, planned=True, original_category_name='burner'),\n",
       " Object(name='mdanhg', provider='scenes/house_double_floor_lower', ready=True, planned=True, original_category_name='burner'),\n",
       " Object(name='mjvqii', provider='scenes/house_single_floor', ready=True, planned=True, original_category_name='burner'),\n",
       " Object(name='nkxhvf', provider='objects/legacy_batch-05', ready=True, planned=True, original_category_name='oven'),\n",
       " Object(name='nmxgbm', provider='scenes/commercial_kitchen_fire_extinguisher', ready=True, planned=True, original_category_name='commercial_kitchen_sink'),\n",
       " Object(name='nvqqkv', provider='objects/legacy_batch-05', ready=True, planned=True, original_category_name='oven'),\n",
       " Object(name='ojjqku', provider='scenes/house_double_floor_upper', ready=True, planned=True, original_category_name='furniture_sink'),\n",
       " Object(name='ollneo', provider='scenes/commercial_kitchen_fire_extinguisher', ready=True, planned=True, original_category_name='commercial_kitchen_sink'),\n",
       " Object(name='pbmwrv', provider='scenes/hotel_gym_spa', ready=True, planned=True, original_category_name='multi_station_wall_mounted_sink'),\n",
       " Object(name='pmntxh', provider='objects/legacy_batch-08', ready=True, planned=True, original_category_name='burner'),\n",
       " Object(name='qbjiva', provider='objects/legacy_batch-06', ready=True, planned=True, original_category_name='stove'),\n",
       " Object(name='qnequy', provider='scenes/house_single_floor', ready=True, planned=True, original_category_name='wall_mounted_sink'),\n",
       " Object(name='qriitd', provider='objects/legacy_batch-05', ready=True, planned=True, original_category_name='oven'),\n",
       " Object(name='qygclv', provider='objects/legacy_batch-05', ready=True, planned=True, original_category_name='oven'),\n",
       " Object(name='rgpphy', provider='objects/legacy_batch-06', ready=True, planned=True, original_category_name='stove'),\n",
       " Object(name='rtfebu', provider='objects/legacy_batch-06', ready=True, planned=True, original_category_name='microwave'),\n",
       " Object(name='rwuazb', provider='objects/legacy_batch-05', ready=True, planned=True, original_category_name='oven'),\n",
       " Object(name='snsqrt', provider='objects/legacy_batch-06', ready=True, planned=True, original_category_name='microwave'),\n",
       " Object(name='tllnvs', provider='objects/legacy_batch-05', ready=True, planned=True, original_category_name='oven'),\n",
       " Object(name='upwldu', provider='scenes/house_single_floor', ready=True, planned=True, original_category_name='multi_station_furniture_sink'),\n",
       " Object(name='urgtyy', provider='scenes/restaurant_cafeteria', ready=True, planned=True, original_category_name='stove'),\n",
       " Object(name='vbquye', provider='objects/legacy_batch-06', ready=True, planned=True, original_category_name='wall_mounted_sink'),\n",
       " Object(name='vduyjh', provider='scenes/grocery_store_convenience', ready=True, planned=True, original_category_name='oven'),\n",
       " Object(name='vekaaf', provider='scenes/house_single_floor', ready=True, planned=True, original_category_name='tabletop_sink'),\n",
       " Object(name='vuezel', provider='objects/legacy_batch-06', ready=True, planned=True, original_category_name='microwave'),\n",
       " Object(name='wavlkt', provider='scenes/public_restroom_blue', ready=True, planned=True, original_category_name='multi_station_furniture_sink'),\n",
       " Object(name='wqjwbx', provider='scenes/public_restroom_white', ready=True, planned=True, original_category_name='drop_in_sink'),\n",
       " Object(name='wuinhm', provider='objects/legacy_batch-05', ready=True, planned=True, original_category_name='oven'),\n",
       " Object(name='wxoxxg', provider='scenes/hotel_suite_small', ready=True, planned=True, original_category_name='wall_mounted_sink'),\n",
       " Object(name='wzpabm', provider='objects/legacy_batch-06', ready=True, planned=True, original_category_name='drop_in_sink'),\n",
       " Object(name='xecfyh', provider='scenes/commercial_kitchen_pans', ready=True, planned=True, original_category_name='commercial_kitchen_sink'),\n",
       " Object(name='xiybkb', provider='objects/legacy_batch-06', ready=True, planned=True, original_category_name='furniture_sink'),\n",
       " Object(name='xspxzg', provider='scenes/commercial_kitchen_fire_extinguisher', ready=True, planned=True, original_category_name='stove'),\n",
       " Object(name='yfaufu', provider='objects/legacy_batch-06', ready=True, planned=True, original_category_name='multi_station_furniture_sink'),\n",
       " Object(name='yhjzwg', provider='objects/legacy_batch-06', ready=True, planned=True, original_category_name='stove'),\n",
       " Object(name='ykretu', provider='scenes/commercial_kitchen_pans', ready=True, planned=True, original_category_name='stove'),\n",
       " Object(name='yyntym', provider='scenes/office_large', ready=True, planned=True, original_category_name='multi_station_furniture_sink'),\n",
       " Object(name='zexzrc', provider='objects/legacy_batch-06', ready=True, planned=True, original_category_name='furniture_sink')]"
      ]
     },
     "execution_count": 21,
     "metadata": {},
     "output_type": "execute_result"
    }
   ],
   "source": [
    "interesting_synset_names = [\"sink.n.01\", \"stove.n.01\", \"burner.n.02\", \"microwave.n.02\", \"oven.n.01\"]  # [\"appliance.n.02\", \"fixture.n.01\"]\n",
    "interesting_synsets = [Synset.get(name) for name in interesting_synset_names]\n",
    "assert all(interesting_synsets)\n",
    "interesting_synset_objects = [obj for obj in objs if any(obj.category.synset == interesting_synset or interesting_synset in obj.category.synset.ancestors for interesting_synset in interesting_synsets)]\n",
    "interesting_synset_objects"
   ]
  },
  {
   "cell_type": "code",
   "execution_count": 24,
   "metadata": {},
   "outputs": [],
   "source": [
    "import json\n",
    "interesting_objects = [(obj.category.name, obj.name) for obj in interesting_synset_objects]\n",
    "with open(\"fsaf_objects.json\", \"w\") as f:\n",
    "    json.dump(sorted(interesting_objects), f, indent=2)"
   ]
  },
  {
   "cell_type": "code",
   "execution_count": null,
   "metadata": {},
   "outputs": [],
   "source": []
  }
 ],
 "metadata": {
  "language_info": {
   "name": "python"
  }
 },
 "nbformat": 4,
 "nbformat_minor": 2
}
