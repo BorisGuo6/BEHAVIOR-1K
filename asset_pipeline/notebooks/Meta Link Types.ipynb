{
 "cells": [
  {
   "cell_type": "code",
   "execution_count": 1,
   "metadata": {},
   "outputs": [],
   "source": [
    "import json, glob\n",
    "\n",
    "object_list_files = glob.glob(\"/scr/ig_pipeline/cad/*/*/artifacts/object_list.json\")\n",
    "object_lists = []\n",
    "for fn in object_list_files:\n",
    "    with open(fn) as f:\n",
    "        object_lists.append(json.load(f))"
   ]
  },
  {
   "cell_type": "code",
   "execution_count": 2,
   "metadata": {},
   "outputs": [],
   "source": [
    "import collections\n",
    "\n",
    "import sys\n",
    "sys.path.append(\"/scr/ig_pipeline\")\n",
    "import b1k_pipeline.utils\n",
    "\n",
    "meta_link_types = collections.defaultdict(set)\n",
    "\n",
    "for object_list in object_lists:\n",
    "    for name, obj_type, _ in object_list[\"max_tree\"]:\n",
    "        parsed_name = b1k_pipeline.utils.parse_name(name)\n",
    "        if not parsed_name or not parsed_name.group(\"meta_type\"):\n",
    "            continue\n",
    "        meta_link_types[parsed_name.group(\"meta_type\")].add(obj_type)"
   ]
  },
  {
   "cell_type": "code",
   "execution_count": 3,
   "metadata": {},
   "outputs": [
    {
     "data": {
      "text/plain": [
       "defaultdict(set,\n",
       "            {'collision': {'Editable_Poly'},\n",
       "             'fillable': {'Box', 'Cone', 'Cylinder', 'Sphere'},\n",
       "             'heatsource': {'Point'},\n",
       "             'togglebutton': {'Cylinder', 'Sphere'},\n",
       "             'fluidsink': {'Box', 'Cylinder', 'Sphere'},\n",
       "             'fluidsource': {'Point'},\n",
       "             'particleapplier': {'Cone', 'Cylinder'},\n",
       "             'attachment': {'Point'},\n",
       "             'particleremover': {'Box', 'Cone'},\n",
       "             'slicer': {'Box'}})"
      ]
     },
     "execution_count": 3,
     "metadata": {},
     "output_type": "execute_result"
    }
   ],
   "source": [
    "meta_link_types"
   ]
  },
  {
   "cell_type": "code",
   "execution_count": null,
   "metadata": {},
   "outputs": [],
   "source": []
  }
 ],
 "metadata": {
  "kernelspec": {
   "display_name": "pipeline",
   "language": "python",
   "name": "python3"
  },
  "language_info": {
   "codemirror_mode": {
    "name": "ipython",
    "version": 3
   },
   "file_extension": ".py",
   "mimetype": "text/x-python",
   "name": "python",
   "nbconvert_exporter": "python",
   "pygments_lexer": "ipython3",
   "version": "3.8.0"
  },
  "orig_nbformat": 4
 },
 "nbformat": 4,
 "nbformat_minor": 2
}
