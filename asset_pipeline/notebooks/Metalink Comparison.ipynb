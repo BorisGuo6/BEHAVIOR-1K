{
 "cells": [
  {
   "cell_type": "code",
   "execution_count": 2,
   "id": "7dd9defa",
   "metadata": {},
   "outputs": [],
   "source": [
    "import glob, json, pathlib\n",
    "objs = glob.glob(r\"D:\\ig_pipeline\\cad\\objects\\*\\artifacts\\objects\\*\\*\\misc\\metadata.json\")\n",
    "jsons = {}\n",
    "for fn in objs:\n",
    "    if pathlib.Path(fn).parts[-7].startswith(\"legacy_\"):\n",
    "        with open(fn, \"r\") as f:\n",
    "            jsons[fn] = json.load(f)"
   ]
  },
  {
   "cell_type": "code",
   "execution_count": 3,
   "id": "d3211fed",
   "metadata": {},
   "outputs": [
    {
     "data": {
      "text/plain": [
       "1245"
      ]
     },
     "execution_count": 3,
     "metadata": {},
     "output_type": "execute_result"
    }
   ],
   "source": [
    "len(jsons)"
   ]
  },
  {
   "cell_type": "code",
   "execution_count": 4,
   "id": "bd20d6e0",
   "metadata": {},
   "outputs": [],
   "source": [
    "ignore = set()"
   ]
  },
  {
   "cell_type": "code",
   "execution_count": 5,
   "id": "440b6b80",
   "metadata": {},
   "outputs": [
    {
     "name": "stdout",
     "output_type": "stream",
     "text": [
      "{'orientations', 'link_bounding_boxes', 'bbox_size', 'link_tags', 'meta_links', 'base_link_offset'}\n"
     ]
    }
   ],
   "source": [
    "# Get the metadata keys\n",
    "meta_keys_by_obj = {obj: set(metadict.keys()) for obj, metadict in jsons.items()}\n",
    "all_meta_keys = {k for keys in meta_keys_by_obj.values() for k in keys}\n",
    "print(all_meta_keys)"
   ]
  },
  {
   "cell_type": "code",
   "execution_count": 6,
   "id": "3b439162",
   "metadata": {},
   "outputs": [
    {
     "data": {
      "text/plain": [
       "[]"
      ]
     },
     "execution_count": 6,
     "metadata": {},
     "output_type": "execute_result"
    }
   ],
   "source": [
    "[f for f, v in jsons.items() if \"link_tags\" not in v]"
   ]
  },
  {
   "cell_type": "code",
   "execution_count": 7,
   "id": "85e58ba0",
   "metadata": {},
   "outputs": [
    {
     "data": {
      "text/plain": [
       "0"
      ]
     },
     "execution_count": 7,
     "metadata": {},
     "output_type": "execute_result"
    }
   ],
   "source": [
    "len([f for f, v in meta_keys_by_obj.items() if \"orientations\" not in v])"
   ]
  },
  {
   "cell_type": "code",
   "execution_count": 8,
   "id": "51eb7cce",
   "metadata": {},
   "outputs": [
    {
     "name": "stdout",
     "output_type": "stream",
     "text": [
      "{'particleremover', 'watersource', 'heatsource', 'cleaningtoolarea', 'slicer', 'togglebutton'}\n"
     ]
    }
   ],
   "source": [
    "meta_links_by_obj = {k: {m for link_keys in v[\"meta_links\"].values() for m in link_keys.keys()} for k, v in jsons.items()}\n",
    "all_meta_links = {m for links in meta_links_by_obj.values() for m in links}\n",
    "print(all_meta_links)"
   ]
  },
  {
   "cell_type": "code",
   "execution_count": 38,
   "id": "049750a0",
   "metadata": {},
   "outputs": [],
   "source": [
    "# Get meta links from originals\n",
    "import yaml, pathlib\n",
    "TRANSLATION_PATH = r\"C:\\Users\\Cem\\research\\iGibson-dev\\igibson\\data\\ig_dataset\\metadata\\model_rename.yaml\"\n",
    "with open(TRANSLATION_PATH, \"r\") as f:\n",
    "    TRANSLATION_DICT = yaml.load(f, Loader=yaml.SafeLoader)\n",
    "    \n",
    "orig_jsons = {}\n",
    "for fn in objs:\n",
    "    p = pathlib.Path(fn)\n",
    "    key = p.parts[-4] + \"/\" + p.parts[-3]\n",
    "    possible = [k for k, v in TRANSLATION_DICT.items() if v == key]\n",
    "    if not possible:\n",
    "        continue\n",
    "    old_fn, = possible\n",
    "    path = pathlib.Path(r\"C:\\Users\\Cem\\research\\iGibson-dev\\igibson\\data\\ig_dataset\\objects\") / old_fn / \"misc/metadata.json\"\n",
    "    with open(path, \"r\") as f:\n",
    "        orig_jsons[fn] = json.load(f)"
   ]
  },
  {
   "cell_type": "code",
   "execution_count": 41,
   "id": "0efdc536",
   "metadata": {},
   "outputs": [
    {
     "name": "stdout",
     "output_type": "stream",
     "text": [
      "{'orientations', 'link_bounding_boxes', 'bbox_size', 'object_parts', 'openable_both_sides', 'base_link_offset', 'links', 'openable_joint_ids'}\n"
     ]
    }
   ],
   "source": [
    "orig_meta_keys_by_obj = {obj: set(metadict.keys()) - ignore for obj, metadict in orig_jsons.items()}\n",
    "orig_all_meta_keys = {k for keys in orig_meta_keys_by_obj.values() for k in keys}\n",
    "print(orig_all_meta_keys)"
   ]
  },
  {
   "cell_type": "code",
   "execution_count": 82,
   "id": "94dc76f4",
   "metadata": {},
   "outputs": [
    {
     "data": {
      "text/plain": [
       "['D:\\\\ig_pipeline\\\\cad\\\\objects\\\\legacy_window-bhwwja\\\\artifacts\\\\objects\\\\window\\\\bhwwja\\\\misc\\\\metadata.json',\n",
       " 'D:\\\\ig_pipeline\\\\cad\\\\objects\\\\legacy_window-bxydsr\\\\artifacts\\\\objects\\\\window\\\\bxydsr\\\\misc\\\\metadata.json',\n",
       " 'D:\\\\ig_pipeline\\\\cad\\\\objects\\\\legacy_window-fufios\\\\artifacts\\\\objects\\\\window\\\\fufios\\\\misc\\\\metadata.json',\n",
       " 'D:\\\\ig_pipeline\\\\cad\\\\objects\\\\legacy_window-ithrgo\\\\artifacts\\\\objects\\\\window\\\\ithrgo\\\\misc\\\\metadata.json',\n",
       " 'D:\\\\ig_pipeline\\\\cad\\\\objects\\\\legacy_window-iwcqsz\\\\artifacts\\\\objects\\\\window\\\\iwcqsz\\\\misc\\\\metadata.json',\n",
       " 'D:\\\\ig_pipeline\\\\cad\\\\objects\\\\legacy_window-jzxtbv\\\\artifacts\\\\objects\\\\window\\\\jzxtbv\\\\misc\\\\metadata.json',\n",
       " 'D:\\\\ig_pipeline\\\\cad\\\\objects\\\\legacy_window-mjssrd\\\\artifacts\\\\objects\\\\window\\\\mjssrd\\\\misc\\\\metadata.json',\n",
       " 'D:\\\\ig_pipeline\\\\cad\\\\objects\\\\legacy_window-qdkcdn\\\\artifacts\\\\objects\\\\window\\\\qdkcdn\\\\misc\\\\metadata.json',\n",
       " 'D:\\\\ig_pipeline\\\\cad\\\\objects\\\\legacy_window-subxdn\\\\artifacts\\\\objects\\\\window\\\\subxdn\\\\misc\\\\metadata.json',\n",
       " 'D:\\\\ig_pipeline\\\\cad\\\\objects\\\\legacy_window-tflzbx\\\\artifacts\\\\objects\\\\window\\\\tflzbx\\\\misc\\\\metadata.json',\n",
       " 'D:\\\\ig_pipeline\\\\cad\\\\objects\\\\legacy_window-tuztdv\\\\artifacts\\\\objects\\\\window\\\\tuztdv\\\\misc\\\\metadata.json',\n",
       " 'D:\\\\ig_pipeline\\\\cad\\\\objects\\\\legacy_window-ulnafj\\\\artifacts\\\\objects\\\\window\\\\ulnafj\\\\misc\\\\metadata.json']"
      ]
     },
     "execution_count": 82,
     "metadata": {},
     "output_type": "execute_result"
    }
   ],
   "source": [
    "[f for f, v in orig_meta_keys_by_obj.items() if \"openable_both_sides\" in v]"
   ]
  },
  {
   "cell_type": "code",
   "execution_count": 9,
   "id": "147624d0",
   "metadata": {},
   "outputs": [
    {
     "ename": "NameError",
     "evalue": "name 'orig_jsons' is not defined",
     "output_type": "error",
     "traceback": [
      "\u001b[1;31m---------------------------------------------------------------------------\u001b[0m",
      "\u001b[1;31mNameError\u001b[0m                                 Traceback (most recent call last)",
      "Input \u001b[1;32mIn [9]\u001b[0m, in \u001b[0;36m<cell line: 1>\u001b[1;34m()\u001b[0m\n\u001b[1;32m----> 1\u001b[0m orig_meta_links_by_obj \u001b[38;5;241m=\u001b[39m {k: (\u001b[38;5;28mset\u001b[39m(k\u001b[38;5;241m.\u001b[39mreplace(\u001b[38;5;124m\"\u001b[39m\u001b[38;5;124m_\u001b[39m\u001b[38;5;124m\"\u001b[39m, \u001b[38;5;124m\"\u001b[39m\u001b[38;5;124m\"\u001b[39m) \u001b[38;5;28;01mfor\u001b[39;00m k \u001b[38;5;129;01min\u001b[39;00m v[\u001b[38;5;124m\"\u001b[39m\u001b[38;5;124mlinks\u001b[39m\u001b[38;5;124m\"\u001b[39m]\u001b[38;5;241m.\u001b[39mkeys()) \u001b[38;5;28;01mif\u001b[39;00m \u001b[38;5;124m\"\u001b[39m\u001b[38;5;124mlinks\u001b[39m\u001b[38;5;124m\"\u001b[39m \u001b[38;5;129;01min\u001b[39;00m v \u001b[38;5;28;01melse\u001b[39;00m \u001b[38;5;28mset\u001b[39m()) \u001b[38;5;28;01mfor\u001b[39;00m k, v \u001b[38;5;129;01min\u001b[39;00m \u001b[43morig_jsons\u001b[49m\u001b[38;5;241m.\u001b[39mitems()}\n\u001b[0;32m      2\u001b[0m orig_all_meta_links \u001b[38;5;241m=\u001b[39m {m \u001b[38;5;28;01mfor\u001b[39;00m links \u001b[38;5;129;01min\u001b[39;00m orig_meta_links_by_obj\u001b[38;5;241m.\u001b[39mvalues() \u001b[38;5;28;01mfor\u001b[39;00m m \u001b[38;5;129;01min\u001b[39;00m links}\n\u001b[0;32m      3\u001b[0m \u001b[38;5;28mprint\u001b[39m(orig_all_meta_links)\n",
      "\u001b[1;31mNameError\u001b[0m: name 'orig_jsons' is not defined"
     ]
    }
   ],
   "source": [
    "orig_meta_links_by_obj = {k: (set(k.replace(\"_\", \"\") for k in v[\"links\"].keys()) if \"links\" in v else set()) for k, v in orig_jsons.items()}\n",
    "orig_all_meta_links = {m for links in orig_meta_links_by_obj.values() for m in links}\n",
    "print(orig_all_meta_links)"
   ]
  },
  {
   "cell_type": "code",
   "execution_count": 88,
   "id": "566fb0a4",
   "metadata": {},
   "outputs": [
    {
     "data": {
      "text/plain": [
       "['D:\\\\ig_pipeline\\\\artifacts\\\\aggregate\\\\objects\\\\sink\\\\czyfhq\\\\misc\\\\metadata.json',\n",
       " 'D:\\\\ig_pipeline\\\\artifacts\\\\aggregate\\\\objects\\\\sink\\\\ejooms\\\\misc\\\\metadata.json',\n",
       " 'D:\\\\ig_pipeline\\\\artifacts\\\\aggregate\\\\objects\\\\sink\\\\ksecxq\\\\misc\\\\metadata.json',\n",
       " 'D:\\\\ig_pipeline\\\\artifacts\\\\aggregate\\\\objects\\\\sink\\\\xiybkb\\\\misc\\\\metadata.json',\n",
       " 'D:\\\\ig_pipeline\\\\artifacts\\\\aggregate\\\\objects\\\\sink\\\\zexzrc\\\\misc\\\\metadata.json']"
      ]
     },
     "execution_count": 88,
     "metadata": {},
     "output_type": "execute_result"
    }
   ],
   "source": [
    "[f for f, v in orig_meta_links_by_obj.items() if \"watersource\" in v and \"waterdrain\" not in v]"
   ]
  },
  {
   "cell_type": "code",
   "execution_count": 87,
   "id": "2c1db06b",
   "metadata": {},
   "outputs": [
    {
     "data": {
      "text/plain": [
       "['D:\\\\ig_pipeline\\\\cad\\\\objects\\\\legacy_broom-tpyvbt\\\\artifacts\\\\objects\\\\broom\\\\tpyvbt\\\\misc\\\\metadata.json',\n",
       " 'D:\\\\ig_pipeline\\\\cad\\\\objects\\\\legacy_carpet_sweeper-xboreo\\\\artifacts\\\\objects\\\\carpet_sweeper\\\\xboreo\\\\misc\\\\metadata.json',\n",
       " 'D:\\\\ig_pipeline\\\\cad\\\\objects\\\\legacy_carving_knife-alekva\\\\artifacts\\\\objects\\\\carving_knife\\\\alekva\\\\misc\\\\metadata.json',\n",
       " 'D:\\\\ig_pipeline\\\\cad\\\\objects\\\\legacy_carving_knife-awvoox\\\\artifacts\\\\objects\\\\carving_knife\\\\awvoox\\\\misc\\\\metadata.json',\n",
       " 'D:\\\\ig_pipeline\\\\cad\\\\objects\\\\legacy_carving_knife-mzhpkm\\\\artifacts\\\\objects\\\\carving_knife\\\\mzhpkm\\\\misc\\\\metadata.json',\n",
       " 'D:\\\\ig_pipeline\\\\cad\\\\objects\\\\legacy_pocketknife-ngtgdn\\\\artifacts\\\\objects\\\\pocketknife\\\\ngtgdn\\\\misc\\\\metadata.json',\n",
       " 'D:\\\\ig_pipeline\\\\cad\\\\objects\\\\legacy_scraper-icqmje\\\\artifacts\\\\objects\\\\scraper\\\\icqmje\\\\misc\\\\metadata.json',\n",
       " 'D:\\\\ig_pipeline\\\\cad\\\\objects\\\\legacy_scrub_brush-hsejyi\\\\artifacts\\\\objects\\\\scrub_brush\\\\hsejyi\\\\misc\\\\metadata.json',\n",
       " 'D:\\\\ig_pipeline\\\\cad\\\\objects\\\\legacy_table_knife-lrdmpf\\\\artifacts\\\\objects\\\\table_knife\\\\lrdmpf\\\\misc\\\\metadata.json',\n",
       " 'D:\\\\ig_pipeline\\\\cad\\\\objects\\\\legacy_table_knife-nmkend\\\\artifacts\\\\objects\\\\table_knife\\\\nmkend\\\\misc\\\\metadata.json',\n",
       " 'D:\\\\ig_pipeline\\\\cad\\\\objects\\\\legacy_toothbrush-qbkrzg\\\\artifacts\\\\objects\\\\toothbrush\\\\qbkrzg\\\\misc\\\\metadata.json',\n",
       " 'D:\\\\ig_pipeline\\\\cad\\\\objects\\\\legacy_toothbrush-vkrjps\\\\artifacts\\\\objects\\\\toothbrush\\\\vkrjps\\\\misc\\\\metadata.json',\n",
       " 'D:\\\\ig_pipeline\\\\cad\\\\objects\\\\legacy_vacuum-amnmmq\\\\artifacts\\\\objects\\\\vacuum\\\\amnmmq\\\\misc\\\\metadata.json',\n",
       " 'D:\\\\ig_pipeline\\\\cad\\\\objects\\\\legacy_vacuum-bdmsbr\\\\artifacts\\\\objects\\\\vacuum\\\\bdmsbr\\\\misc\\\\metadata.json',\n",
       " 'D:\\\\ig_pipeline\\\\cad\\\\objects\\\\legacy_vacuum-wikhik\\\\artifacts\\\\objects\\\\vacuum\\\\wikhik\\\\misc\\\\metadata.json']"
      ]
     },
     "execution_count": 87,
     "metadata": {},
     "output_type": "execute_result"
    }
   ],
   "source": [
    "[f for f, v in orig_jsons.items() if \"links\" in v and any(ml[\"geometry\"] for ml in v[\"links\"].values())]"
   ]
  },
  {
   "cell_type": "code",
   "execution_count": null,
   "id": "caa65d4f",
   "metadata": {},
   "outputs": [],
   "source": [
    "# Check each object\n",
    "problematic = 0\n",
    "for fn in objs:\n",
    "    # Check meta links\n",
    "    is_problematic = False\n",
    "    if fn in orig_meta_links_by_obj:\n",
    "        orig_meta_links = orig_meta_links_by_obj[fn]\n",
    "        new_meta_links = meta_links_by_obj[fn]\n",
    "        missing_meta_links = orig_meta_links - new_meta_links\n",
    "        if missing_meta_links:\n",
    "            print(fn, \"missing meta links:\", missing_meta_links)\n",
    "            is_problematic = True\n",
    "    if fn in orig_meta_keys_by_obj:\n",
    "        orig_meta_keys = {(translation[x] if x in translation else x) for x in orig_meta_keys_by_obj[fn]}\n",
    "        new_meta_keys = meta_keys_by_obj[fn]\n",
    "        missing_meta_keys = orig_meta_keys - new_meta_keys\n",
    "        if missing_meta_keys:\n",
    "            print(fn, \"missing meta keys:\", missing_meta_keys)\n",
    "            is_problematic = True\n",
    "            \n",
    "    if is_problematic:\n",
    "        problematic += 1\n",
    "        \n",
    "print(\"Total problematic files:\", problematic)\n",
    "        "
   ]
  },
  {
   "cell_type": "code",
   "execution_count": null,
   "id": "472a55bb",
   "metadata": {},
   "outputs": [],
   "source": [
    "orig_jsons[r\"D:\\ig_pipeline\\artifacts\\aggregate\\objects\\apple\\agveuv\\misc\\metadata.json\"]"
   ]
  },
  {
   "cell_type": "code",
   "execution_count": null,
   "id": "da251838",
   "metadata": {},
   "outputs": [],
   "source": []
  }
 ],
 "metadata": {
  "kernelspec": {
   "display_name": "Python 3 (ipykernel)",
   "language": "python",
   "name": "python3"
  },
  "language_info": {
   "codemirror_mode": {
    "name": "ipython",
    "version": 3
   },
   "file_extension": ".py",
   "mimetype": "text/x-python",
   "name": "python",
   "nbconvert_exporter": "python",
   "pygments_lexer": "ipython3",
   "version": "3.8.0"
  }
 },
 "nbformat": 4,
 "nbformat_minor": 5
}
