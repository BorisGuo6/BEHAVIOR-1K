{
 "cells": [
  {
   "cell_type": "code",
   "execution_count": 105,
   "id": "851a700c",
   "metadata": {},
   "outputs": [],
   "source": [
    "objs_list = set(\"\"\"legacy_carton-causya\n",
    "legacy_microwave-rtfebu\n",
    "legacy_package-msfzpz\n",
    "legacy_washer-jgyzhv\n",
    "legacy_bottom_cabinet-bamfsz\n",
    "legacy_bottom_cabinet-bycegi\n",
    "legacy_bottom_cabinet-cjcyed\n",
    "legacy_bottom_cabinet-dajebq\n",
    "legacy_bottom_cabinet-dsbcxl\n",
    "legacy_bottom_cabinet-eupgpt\n",
    "legacy_bottom_cabinet-gcrjan\n",
    "legacy_bottom_cabinet-getjzo\n",
    "legacy_bottom_cabinet-glefdh\n",
    "legacy_bottom_cabinet-gvtucm\n",
    "legacy_bottom_cabinet-hnxyev\n",
    "legacy_bottom_cabinet-hrdeys\n",
    "legacy_bottom_cabinet-ilofmb\n",
    "legacy_bottom_cabinet-immwzb\n",
    "legacy_bottom_cabinet-imyaje\n",
    "legacy_bottom_cabinet-jhymlr\n",
    "legacy_bottom_cabinet-jrhgeu\n",
    "legacy_bottom_cabinet-kdbgpm\n",
    "legacy_bottom_cabinet-kenkcw\n",
    "legacy_bottom_cabinet-kubcdk\n",
    "legacy_bottom_cabinet-kxushk\n",
    "legacy_bottom_cabinet-leizjb\n",
    "legacy_bottom_cabinet-lhucjo\n",
    "legacy_bottom_cabinet-lwjdmj\n",
    "legacy_bottom_cabinet-mbmbpa\n",
    "legacy_bottom_cabinet-mwgceh\n",
    "legacy_bottom_cabinet-mxrzpj\n",
    "legacy_bottom_cabinet-ncbfwr\n",
    "legacy_bottom_cabinet-nddvba\n",
    "legacy_bottom_cabinet-nnvyol\n",
    "legacy_bottom_cabinet-nrlayx\n",
    "legacy_bottom_cabinet-nyfebf\n",
    "legacy_bottom_cabinet-ojceew\n",
    "legacy_bottom_cabinet-olgoza\n",
    "legacy_bottom_cabinet-phoesw\n",
    "legacy_bottom_cabinet-pkdnbu\n",
    "legacy_bottom_cabinet-plccav\n",
    "legacy_bottom_cabinet-pllcur\n",
    "legacy_bottom_cabinet-pzjecb\n",
    "legacy_bottom_cabinet-qacthv\n",
    "legacy_bottom_cabinet-qkgfln\n",
    "legacy_bottom_cabinet-rntwkg\n",
    "legacy_bottom_cabinet-rvpunw\n",
    "legacy_bottom_cabinet-rvunhj\n",
    "legacy_bottom_cabinet-ryznya\n",
    "legacy_bottom_cabinet-slgzfc\n",
    "legacy_bottom_cabinet-smujam\n",
    "legacy_bottom_cabinet-sxppcj\n",
    "legacy_bottom_cabinet-tolupn\n",
    "legacy_bottom_cabinet-ttmejh\n",
    "legacy_bottom_cabinet-twhums\n",
    "legacy_bottom_cabinet-ujniob\n",
    "legacy_bottom_cabinet-vceupd\n",
    "legacy_bottom_cabinet-vespxk\n",
    "legacy_bottom_cabinet-wesxdp\n",
    "legacy_bottom_cabinet-xiurwn\n",
    "legacy_bottom_cabinet-xpdbgf\n",
    "legacy_bottom_cabinet-ybntlp\n",
    "legacy_bottom_cabinet-yohygj\n",
    "legacy_bottom_cabinet-yxfueo\n",
    "legacy_bottom_cabinet-zuwvdo\n",
    "legacy_bottom_cabinet_no_top-apjbrw\n",
    "legacy_bottom_cabinet_no_top-bmsclc\n",
    "legacy_bottom_cabinet_no_top-exgntg\n",
    "legacy_bottom_cabinet_no_top-fmelap\n",
    "legacy_bottom_cabinet_no_top-motill\n",
    "legacy_bottom_cabinet_no_top-ozzcvs\n",
    "legacy_bottom_cabinet_no_top-pluwfl\n",
    "legacy_bottom_cabinet_no_top-qohxjq\n",
    "legacy_bottom_cabinet_no_top-qudfwe\n",
    "legacy_bottom_cabinet_no_top-spojpj\n",
    "legacy_bottom_cabinet_no_top-ufhpbn\n",
    "legacy_bottom_cabinet_no_top-vdedzt\n",
    "legacy_bottom_cabinet_no_top-vzzafs\n",
    "legacy_bottom_cabinet_no_top-wamrju\n",
    "legacy_bottom_cabinet_no_top-wtnrwl\n",
    "legacy_briefcase-fdpjtj\n",
    "legacy_briefcase-ohelib\n",
    "legacy_briefcase-rxvbea\n",
    "legacy_carton-causya\n",
    "legacy_chest-fwstpx\n",
    "legacy_chest-gbdzls\n",
    "legacy_dishwasher-cgugie\n",
    "legacy_dishwasher-dngvvi\n",
    "legacy_dishwasher-dugpby\n",
    "legacy_dishwasher-tnlzww\n",
    "legacy_dishwasher-xlmier\n",
    "legacy_dishwasher-ynrhuk\n",
    "legacy_dishwasher-znfvmj\n",
    "legacy_door-cbgtjl\n",
    "legacy_door-ceddpg\n",
    "legacy_door-chonxi\n",
    "legacy_door-gmytjz\n",
    "legacy_door-ktydvs\n",
    "legacy_door-lctyaf\n",
    "legacy_door-lhxdte\n",
    "legacy_door-lvgliq\n",
    "legacy_door-mgmayh\n",
    "legacy_door-nfrbch\n",
    "legacy_door-ohagsq\n",
    "legacy_door-rhcnln\n",
    "legacy_door-rrsovh\n",
    "legacy_dryer-fhtvuq\n",
    "legacy_dryer-smcyys\n",
    "legacy_dryer-tpqzai\n",
    "legacy_dryer-wivnic\n",
    "legacy_dryer-xsuyua\n",
    "legacy_dryer-zlmnfg\n",
    "legacy_folder-poqpux\n",
    "legacy_fridge-dszchb\n",
    "legacy_fridge-hivvdf\n",
    "legacy_fridge-hzgqdn\n",
    "legacy_fridge-jtqazu\n",
    "legacy_fridge-juwaoh\n",
    "legacy_fridge-xyejdx\n",
    "legacy_jar-vzwhbg\n",
    "legacy_laptop-nvulcs\n",
    "legacy_microwave-abzvij\n",
    "legacy_microwave-bfbeeb\n",
    "legacy_microwave-hjjxmi\n",
    "legacy_microwave-rtfebu\n",
    "legacy_microwave-snsqrt\n",
    "legacy_microwave-vuezel\n",
    "legacy_oven-fexqbj\n",
    "legacy_oven-hxorzh\n",
    "legacy_oven-kenajw\n",
    "legacy_oven-kfftgk\n",
    "legacy_oven-leqtlc\n",
    "legacy_oven-nkxhvf\n",
    "legacy_oven-nvqqkv\n",
    "legacy_oven-qriitd\n",
    "legacy_oven-qygclv\n",
    "legacy_oven-rwuazb\n",
    "legacy_oven-tllnvs\n",
    "legacy_oven-wuinhm\n",
    "legacy_package-msfzpz\n",
    "legacy_stove-dusebh\n",
    "legacy_stove-dwhqap\n",
    "legacy_stove-igwqpj\n",
    "legacy_stove-jhyhag\n",
    "legacy_stove-kfhkqp\n",
    "legacy_stove-qbjiva\n",
    "legacy_stove-rgpphy\n",
    "legacy_stove-yhjzwg\n",
    "legacy_toilet-aapttl\n",
    "legacy_toilet-chuack\n",
    "legacy_toilet-jkwccu\n",
    "legacy_toilet-kfmkbm\n",
    "legacy_toilet-mzocsn\n",
    "legacy_toilet-nqwekw\n",
    "legacy_toilet-rqxqtd\n",
    "legacy_toilet-sjjweo\n",
    "legacy_toilet-vcgvfe\n",
    "legacy_toilet-vdbmon\n",
    "legacy_toilet-vtqdev\n",
    "legacy_toilet-wkltpj\n",
    "legacy_toilet-wusctd\n",
    "legacy_toilet-yxbgey\n",
    "legacy_top_cabinet-dhguym\n",
    "legacy_top_cabinet-dmwxyl\n",
    "legacy_top_cabinet-eobsmt\n",
    "legacy_top_cabinet-fqhdne\n",
    "legacy_top_cabinet-fqitbw\n",
    "legacy_top_cabinet-jvdbxh\n",
    "legacy_top_cabinet-lsyzkh\n",
    "legacy_top_cabinet-nkrgez\n",
    "legacy_top_cabinet-oztrra\n",
    "legacy_top_cabinet-qiausz\n",
    "legacy_top_cabinet-tactqn\n",
    "legacy_top_cabinet-twjqua\n",
    "legacy_top_cabinet-yegcau\n",
    "legacy_top_cabinet-zjtaus\n",
    "legacy_washer-dobgmu\n",
    "legacy_washer-jgyzhv\n",
    "legacy_washer-mrgspe\n",
    "legacy_washer-omeuop\n",
    "legacy_washer-xusefg\n",
    "legacy_washer-zgzvcv\n",
    "legacy_window-bhwwja\n",
    "legacy_window-bxydsr\n",
    "legacy_window-fufios\n",
    "legacy_window-ithrgo\n",
    "legacy_window-iwcqsz\n",
    "legacy_window-jzxtbv\n",
    "legacy_window-mjssrd\n",
    "legacy_window-qdkcdn\n",
    "legacy_window-subxdn\n",
    "legacy_window-tflzbx\n",
    "legacy_window-tuztdv\n",
    "legacy_window-ulnafj\n",
    "blender-temp\n",
    "legacy_broom-tpyvbt\n",
    "legacy_carpet_sweeper-xboreo\n",
    "legacy_carving_knife-alekva\n",
    "legacy_carving_knife-awvoox\n",
    "legacy_carving_knife-mzhpkm\n",
    "legacy_pocketknife-ngtgdn\n",
    "legacy_scraper-icqmje\n",
    "legacy_scrub_brush-hsejyi\n",
    "legacy_table_knife-lrdmpf\n",
    "legacy_table_knife-nmkend\n",
    "legacy_toothbrush-qbkrzg\n",
    "legacy_toothbrush-vkrjps\n",
    "legacy_vacuum-amnmmq\n",
    "legacy_vacuum-bdmsbr\n",
    "legacy_vacuum-wikhik\"\"\".split(\"\\n\"))"
   ]
  },
  {
   "cell_type": "code",
   "execution_count": 107,
   "id": "7dd9defa",
   "metadata": {},
   "outputs": [],
   "source": [
    "import glob, json, pathlib\n",
    "objs = glob.glob(r\"D:\\ig_pipeline\\cad\\objects\\*\\artifacts\\objects\\*\\*\\misc\\metadata.json\")\n",
    "jsons = {}\n",
    "for fn in objs:\n",
    "    if pathlib.Path(fn).parts[-7] in objs_list:\n",
    "        with open(fn, \"r\") as f:\n",
    "            jsons[fn] = json.load(f)"
   ]
  },
  {
   "cell_type": "code",
   "execution_count": 108,
   "id": "d3211fed",
   "metadata": {},
   "outputs": [
    {
     "data": {
      "text/plain": [
       "205"
      ]
     },
     "execution_count": 108,
     "metadata": {},
     "output_type": "execute_result"
    }
   ],
   "source": [
    "len(jsons)"
   ]
  },
  {
   "cell_type": "code",
   "execution_count": 96,
   "id": "bd20d6e0",
   "metadata": {},
   "outputs": [],
   "source": [
    "ignore = set()"
   ]
  },
  {
   "cell_type": "code",
   "execution_count": 109,
   "id": "440b6b80",
   "metadata": {},
   "outputs": [
    {
     "name": "stdout",
     "output_type": "stream",
     "text": [
      "{'meta_links', 'orientations', 'link_tags', 'link_bounding_boxes', 'bbox_size', 'base_link_offset'}\n"
     ]
    }
   ],
   "source": [
    "# Get the metadata keys\n",
    "meta_keys_by_obj = {obj: set(metadict.keys()) for obj, metadict in jsons.items()}\n",
    "all_meta_keys = {k for keys in meta_keys_by_obj.values() for k in keys}\n",
    "print(all_meta_keys)"
   ]
  },
  {
   "cell_type": "code",
   "execution_count": 111,
   "id": "3b439162",
   "metadata": {},
   "outputs": [
    {
     "data": {
      "text/plain": [
       "['D:\\\\ig_pipeline\\\\cad\\\\objects\\\\legacy_bottom_cabinet-dsbcxl\\\\artifacts\\\\objects\\\\bottom_cabinet\\\\dsbcxl\\\\misc\\\\metadata.json',\n",
       " 'D:\\\\ig_pipeline\\\\cad\\\\objects\\\\legacy_bottom_cabinet-pzjecb\\\\artifacts\\\\objects\\\\bottom_cabinet\\\\pzjecb\\\\misc\\\\metadata.json',\n",
       " 'D:\\\\ig_pipeline\\\\cad\\\\objects\\\\legacy_bottom_cabinet-sxppcj\\\\artifacts\\\\objects\\\\bottom_cabinet\\\\sxppcj\\\\misc\\\\metadata.json',\n",
       " 'D:\\\\ig_pipeline\\\\cad\\\\objects\\\\legacy_fridge-hzgqdn\\\\artifacts\\\\objects\\\\fridge\\\\hzgqdn\\\\misc\\\\metadata.json']"
      ]
     },
     "execution_count": 111,
     "metadata": {},
     "output_type": "execute_result"
    }
   ],
   "source": [
    "[f for f, v in jsons.items() if \"link_tags\" not in v]"
   ]
  },
  {
   "cell_type": "code",
   "execution_count": 66,
   "id": "85e58ba0",
   "metadata": {},
   "outputs": [
    {
     "data": {
      "text/plain": [
       "0"
      ]
     },
     "execution_count": 66,
     "metadata": {},
     "output_type": "execute_result"
    }
   ],
   "source": [
    "len([f for f, v in meta_keys_by_obj.items() if \"orientations\" not in v])"
   ]
  },
  {
   "cell_type": "code",
   "execution_count": 67,
   "id": "51eb7cce",
   "metadata": {},
   "outputs": [
    {
     "name": "stdout",
     "output_type": "stream",
     "text": [
      "{'cleaningtoolarea', 'lights', 'heatsource', 'slicer', 'togglebutton', 'watersource'}\n"
     ]
    }
   ],
   "source": [
    "meta_links_by_obj = {k: {m for link_keys in v[\"meta_links\"].values() for m in link_keys.keys()} for k, v in jsons.items()}\n",
    "all_meta_links = {m for links in meta_links_by_obj.values() for m in links}\n",
    "print(all_meta_links)"
   ]
  },
  {
   "cell_type": "code",
   "execution_count": 38,
   "id": "049750a0",
   "metadata": {},
   "outputs": [],
   "source": [
    "# Get meta links from originals\n",
    "import yaml, pathlib\n",
    "TRANSLATION_PATH = r\"C:\\Users\\Cem\\research\\iGibson-dev\\igibson\\data\\ig_dataset\\metadata\\model_rename.yaml\"\n",
    "with open(TRANSLATION_PATH, \"r\") as f:\n",
    "    TRANSLATION_DICT = yaml.load(f, Loader=yaml.SafeLoader)\n",
    "    \n",
    "orig_jsons = {}\n",
    "for fn in objs:\n",
    "    p = pathlib.Path(fn)\n",
    "    key = p.parts[-4] + \"/\" + p.parts[-3]\n",
    "    possible = [k for k, v in TRANSLATION_DICT.items() if v == key]\n",
    "    if not possible:\n",
    "        continue\n",
    "    old_fn, = possible\n",
    "    path = pathlib.Path(r\"C:\\Users\\Cem\\research\\iGibson-dev\\igibson\\data\\ig_dataset\\objects\") / old_fn / \"misc/metadata.json\"\n",
    "    with open(path, \"r\") as f:\n",
    "        orig_jsons[fn] = json.load(f)"
   ]
  },
  {
   "cell_type": "code",
   "execution_count": 41,
   "id": "0efdc536",
   "metadata": {},
   "outputs": [
    {
     "name": "stdout",
     "output_type": "stream",
     "text": [
      "{'orientations', 'link_bounding_boxes', 'bbox_size', 'object_parts', 'openable_both_sides', 'base_link_offset', 'links', 'openable_joint_ids'}\n"
     ]
    }
   ],
   "source": [
    "orig_meta_keys_by_obj = {obj: set(metadict.keys()) - ignore for obj, metadict in orig_jsons.items()}\n",
    "orig_all_meta_keys = {k for keys in orig_meta_keys_by_obj.values() for k in keys}\n",
    "print(orig_all_meta_keys)"
   ]
  },
  {
   "cell_type": "code",
   "execution_count": 82,
   "id": "94dc76f4",
   "metadata": {},
   "outputs": [
    {
     "data": {
      "text/plain": [
       "['D:\\\\ig_pipeline\\\\cad\\\\objects\\\\legacy_window-bhwwja\\\\artifacts\\\\objects\\\\window\\\\bhwwja\\\\misc\\\\metadata.json',\n",
       " 'D:\\\\ig_pipeline\\\\cad\\\\objects\\\\legacy_window-bxydsr\\\\artifacts\\\\objects\\\\window\\\\bxydsr\\\\misc\\\\metadata.json',\n",
       " 'D:\\\\ig_pipeline\\\\cad\\\\objects\\\\legacy_window-fufios\\\\artifacts\\\\objects\\\\window\\\\fufios\\\\misc\\\\metadata.json',\n",
       " 'D:\\\\ig_pipeline\\\\cad\\\\objects\\\\legacy_window-ithrgo\\\\artifacts\\\\objects\\\\window\\\\ithrgo\\\\misc\\\\metadata.json',\n",
       " 'D:\\\\ig_pipeline\\\\cad\\\\objects\\\\legacy_window-iwcqsz\\\\artifacts\\\\objects\\\\window\\\\iwcqsz\\\\misc\\\\metadata.json',\n",
       " 'D:\\\\ig_pipeline\\\\cad\\\\objects\\\\legacy_window-jzxtbv\\\\artifacts\\\\objects\\\\window\\\\jzxtbv\\\\misc\\\\metadata.json',\n",
       " 'D:\\\\ig_pipeline\\\\cad\\\\objects\\\\legacy_window-mjssrd\\\\artifacts\\\\objects\\\\window\\\\mjssrd\\\\misc\\\\metadata.json',\n",
       " 'D:\\\\ig_pipeline\\\\cad\\\\objects\\\\legacy_window-qdkcdn\\\\artifacts\\\\objects\\\\window\\\\qdkcdn\\\\misc\\\\metadata.json',\n",
       " 'D:\\\\ig_pipeline\\\\cad\\\\objects\\\\legacy_window-subxdn\\\\artifacts\\\\objects\\\\window\\\\subxdn\\\\misc\\\\metadata.json',\n",
       " 'D:\\\\ig_pipeline\\\\cad\\\\objects\\\\legacy_window-tflzbx\\\\artifacts\\\\objects\\\\window\\\\tflzbx\\\\misc\\\\metadata.json',\n",
       " 'D:\\\\ig_pipeline\\\\cad\\\\objects\\\\legacy_window-tuztdv\\\\artifacts\\\\objects\\\\window\\\\tuztdv\\\\misc\\\\metadata.json',\n",
       " 'D:\\\\ig_pipeline\\\\cad\\\\objects\\\\legacy_window-ulnafj\\\\artifacts\\\\objects\\\\window\\\\ulnafj\\\\misc\\\\metadata.json']"
      ]
     },
     "execution_count": 82,
     "metadata": {},
     "output_type": "execute_result"
    }
   ],
   "source": [
    "[f for f, v in orig_meta_keys_by_obj.items() if \"openable_both_sides\" in v]"
   ]
  },
  {
   "cell_type": "code",
   "execution_count": 14,
   "id": "147624d0",
   "metadata": {},
   "outputs": [
    {
     "name": "stdout",
     "output_type": "stream",
     "text": [
      "{'cleaningtoolarea', 'heatsource', 'slicer', 'togglebutton', 'watersource'}\n"
     ]
    }
   ],
   "source": [
    "orig_meta_links_by_obj = {k: (set(k.replace(\"_\", \"\") for k in v[\"links\"].keys()) if \"links\" in v else set()) for k, v in orig_jsons.items()}\n",
    "orig_all_meta_links = {m for links in orig_meta_links_by_obj.values() for m in links}\n",
    "print(orig_all_meta_links)"
   ]
  },
  {
   "cell_type": "code",
   "execution_count": 88,
   "id": "566fb0a4",
   "metadata": {},
   "outputs": [
    {
     "data": {
      "text/plain": [
       "['D:\\\\ig_pipeline\\\\artifacts\\\\aggregate\\\\objects\\\\sink\\\\czyfhq\\\\misc\\\\metadata.json',\n",
       " 'D:\\\\ig_pipeline\\\\artifacts\\\\aggregate\\\\objects\\\\sink\\\\ejooms\\\\misc\\\\metadata.json',\n",
       " 'D:\\\\ig_pipeline\\\\artifacts\\\\aggregate\\\\objects\\\\sink\\\\ksecxq\\\\misc\\\\metadata.json',\n",
       " 'D:\\\\ig_pipeline\\\\artifacts\\\\aggregate\\\\objects\\\\sink\\\\xiybkb\\\\misc\\\\metadata.json',\n",
       " 'D:\\\\ig_pipeline\\\\artifacts\\\\aggregate\\\\objects\\\\sink\\\\zexzrc\\\\misc\\\\metadata.json']"
      ]
     },
     "execution_count": 88,
     "metadata": {},
     "output_type": "execute_result"
    }
   ],
   "source": [
    "[f for f, v in orig_meta_links_by_obj.items() if \"watersource\" in v and \"waterdrain\" not in v]"
   ]
  },
  {
   "cell_type": "code",
   "execution_count": 87,
   "id": "2c1db06b",
   "metadata": {},
   "outputs": [
    {
     "data": {
      "text/plain": [
       "['D:\\\\ig_pipeline\\\\cad\\\\objects\\\\legacy_broom-tpyvbt\\\\artifacts\\\\objects\\\\broom\\\\tpyvbt\\\\misc\\\\metadata.json',\n",
       " 'D:\\\\ig_pipeline\\\\cad\\\\objects\\\\legacy_carpet_sweeper-xboreo\\\\artifacts\\\\objects\\\\carpet_sweeper\\\\xboreo\\\\misc\\\\metadata.json',\n",
       " 'D:\\\\ig_pipeline\\\\cad\\\\objects\\\\legacy_carving_knife-alekva\\\\artifacts\\\\objects\\\\carving_knife\\\\alekva\\\\misc\\\\metadata.json',\n",
       " 'D:\\\\ig_pipeline\\\\cad\\\\objects\\\\legacy_carving_knife-awvoox\\\\artifacts\\\\objects\\\\carving_knife\\\\awvoox\\\\misc\\\\metadata.json',\n",
       " 'D:\\\\ig_pipeline\\\\cad\\\\objects\\\\legacy_carving_knife-mzhpkm\\\\artifacts\\\\objects\\\\carving_knife\\\\mzhpkm\\\\misc\\\\metadata.json',\n",
       " 'D:\\\\ig_pipeline\\\\cad\\\\objects\\\\legacy_pocketknife-ngtgdn\\\\artifacts\\\\objects\\\\pocketknife\\\\ngtgdn\\\\misc\\\\metadata.json',\n",
       " 'D:\\\\ig_pipeline\\\\cad\\\\objects\\\\legacy_scraper-icqmje\\\\artifacts\\\\objects\\\\scraper\\\\icqmje\\\\misc\\\\metadata.json',\n",
       " 'D:\\\\ig_pipeline\\\\cad\\\\objects\\\\legacy_scrub_brush-hsejyi\\\\artifacts\\\\objects\\\\scrub_brush\\\\hsejyi\\\\misc\\\\metadata.json',\n",
       " 'D:\\\\ig_pipeline\\\\cad\\\\objects\\\\legacy_table_knife-lrdmpf\\\\artifacts\\\\objects\\\\table_knife\\\\lrdmpf\\\\misc\\\\metadata.json',\n",
       " 'D:\\\\ig_pipeline\\\\cad\\\\objects\\\\legacy_table_knife-nmkend\\\\artifacts\\\\objects\\\\table_knife\\\\nmkend\\\\misc\\\\metadata.json',\n",
       " 'D:\\\\ig_pipeline\\\\cad\\\\objects\\\\legacy_toothbrush-qbkrzg\\\\artifacts\\\\objects\\\\toothbrush\\\\qbkrzg\\\\misc\\\\metadata.json',\n",
       " 'D:\\\\ig_pipeline\\\\cad\\\\objects\\\\legacy_toothbrush-vkrjps\\\\artifacts\\\\objects\\\\toothbrush\\\\vkrjps\\\\misc\\\\metadata.json',\n",
       " 'D:\\\\ig_pipeline\\\\cad\\\\objects\\\\legacy_vacuum-amnmmq\\\\artifacts\\\\objects\\\\vacuum\\\\amnmmq\\\\misc\\\\metadata.json',\n",
       " 'D:\\\\ig_pipeline\\\\cad\\\\objects\\\\legacy_vacuum-bdmsbr\\\\artifacts\\\\objects\\\\vacuum\\\\bdmsbr\\\\misc\\\\metadata.json',\n",
       " 'D:\\\\ig_pipeline\\\\cad\\\\objects\\\\legacy_vacuum-wikhik\\\\artifacts\\\\objects\\\\vacuum\\\\wikhik\\\\misc\\\\metadata.json']"
      ]
     },
     "execution_count": 87,
     "metadata": {},
     "output_type": "execute_result"
    }
   ],
   "source": [
    "[f for f, v in orig_jsons.items() if \"links\" in v and any(ml[\"geometry\"] for ml in v[\"links\"].values())]"
   ]
  },
  {
   "cell_type": "code",
   "execution_count": null,
   "id": "caa65d4f",
   "metadata": {},
   "outputs": [],
   "source": [
    "# Check each object\n",
    "problematic = 0\n",
    "for fn in objs:\n",
    "    # Check meta links\n",
    "    is_problematic = False\n",
    "    if fn in orig_meta_links_by_obj:\n",
    "        orig_meta_links = orig_meta_links_by_obj[fn]\n",
    "        new_meta_links = meta_links_by_obj[fn]\n",
    "        missing_meta_links = orig_meta_links - new_meta_links\n",
    "        if missing_meta_links:\n",
    "            print(fn, \"missing meta links:\", missing_meta_links)\n",
    "            is_problematic = True\n",
    "    if fn in orig_meta_keys_by_obj:\n",
    "        orig_meta_keys = {(translation[x] if x in translation else x) for x in orig_meta_keys_by_obj[fn]}\n",
    "        new_meta_keys = meta_keys_by_obj[fn]\n",
    "        missing_meta_keys = orig_meta_keys - new_meta_keys\n",
    "        if missing_meta_keys:\n",
    "            print(fn, \"missing meta keys:\", missing_meta_keys)\n",
    "            is_problematic = True\n",
    "            \n",
    "    if is_problematic:\n",
    "        problematic += 1\n",
    "        \n",
    "print(\"Total problematic files:\", problematic)\n",
    "        "
   ]
  },
  {
   "cell_type": "code",
   "execution_count": null,
   "id": "472a55bb",
   "metadata": {},
   "outputs": [],
   "source": [
    "orig_jsons[r\"D:\\ig_pipeline\\artifacts\\aggregate\\objects\\apple\\agveuv\\misc\\metadata.json\"]"
   ]
  },
  {
   "cell_type": "code",
   "execution_count": null,
   "id": "da251838",
   "metadata": {},
   "outputs": [],
   "source": []
  }
 ],
 "metadata": {
  "kernelspec": {
   "display_name": "Python 3 (ipykernel)",
   "language": "python",
   "name": "python3"
  },
  "language_info": {
   "codemirror_mode": {
    "name": "ipython",
    "version": 3
   },
   "file_extension": ".py",
   "mimetype": "text/x-python",
   "name": "python",
   "nbconvert_exporter": "python",
   "pygments_lexer": "ipython3",
   "version": "3.8.0"
  }
 },
 "nbformat": 4,
 "nbformat_minor": 5
}
