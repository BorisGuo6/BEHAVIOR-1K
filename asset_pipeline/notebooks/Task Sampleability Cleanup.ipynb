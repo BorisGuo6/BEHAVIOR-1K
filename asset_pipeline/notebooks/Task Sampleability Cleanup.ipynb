{
 "cells": [
  {
   "cell_type": "code",
   "execution_count": 1,
   "metadata": {},
   "outputs": [
    {
     "name": "stderr",
     "output_type": "stream",
     "text": [
      "Loading BDDL knowledge base... This may take a few seconds.\n",
      "[nltk_data] Downloading package wordnet to /home/cgokmen/nltk_data...\n",
      "[nltk_data]   Package wordnet is already up-to-date!\n"
     ]
    }
   ],
   "source": [
    "from bddl.knowledge_base import *"
   ]
  },
  {
   "cell_type": "code",
   "execution_count": 2,
   "metadata": {},
   "outputs": [
    {
     "data": {
      "text/plain": [
       "[]"
      ]
     },
     "execution_count": 2,
     "metadata": {},
     "output_type": "execute_result"
    }
   ],
   "source": [
    "missing_task_rel_syn = set()\n",
    "\n",
    "for task in Task.all_objects():\n",
    "  for synset in task.synsets:\n",
    "    if synset.state == STATE_UNMATCHED:\n",
    "      missing_task_rel_syn.add(synset)\n",
    "\n",
    "sorted(missing_task_rel_syn)\n"
   ]
  },
  {
   "cell_type": "code",
   "execution_count": 3,
   "metadata": {},
   "outputs": [
    {
     "data": {
      "text/plain": [
       "[Task(name='make_the_workplace_exciting-0', definition='(define (problem make_the_workplace_exciting-0)\\n    (:domain omnigibson)\\n\\n    (:objects\\n        poster.n.01_1 - poster.n.01\\n        wall_nail.n.01_1 - wall_nail.n.01\\n        board_game.n.01_1 - board_game.n.01\\n        floor.n.01_1 - floor.n.01\\n        coffee_maker.n.01_1 - coffee_maker.n.01\\n        carton.n.02_1 carton.n.02_2 - carton.n.02\\n        conference_table.n.01_1 - conference_table.n.01\\n        agent.n.01_1 - agent.n.01\\n    )\\n    \\n    (:init \\n        (ontop poster.n.01_1 conference_table.n.01_1) \\n        (not \\n            (attached poster.n.01_1 wall_nail.n.01_1)\\n        )\\n        (inside board_game.n.01_1 carton.n.02_2) \\n        (inside coffee_maker.n.01_1 carton.n.02_1)\\n        (ontop carton.n.02_1 floor.n.01_1) \\n        (ontop carton.n.02_2 floor.n.01_1) \\n        (inroom wall_nail.n.01_1 meeting_room) \\n        (inroom conference_table.n.01_1 meeting_room) \\n        (inroom floor.n.01_1 meeting_room) \\n        (ontop agent.n.01_1 floor.n.01_1)\\n    )\\n    \\n    (:goal \\n        (and \\n            (ontop ?board_game.n.01_1 ?conference_table.n.01_1)\\n            (ontop ?board_game.n.01_1 ?conference_table.n.01_1)\\n            (ontop ?coffee_maker.n.01_1 ?conference_table.n.01_1)\\n            (attached ?poster.n.01_1 ?wall_nail.n.01_1)\\n        )\\n    )\\n)'),\n",
       " Task(name='putting_up_posters-0', definition='(define (problem putting_up_posters-0)\\n    (:domain omnigibson)\\n\\n    (:objects\\n        floor.n.01_1 - floor.n.01\\n        poster.n.01_1 poster.n.01_2 - poster.n.01\\n        wall_nail.n.01_1 wall_nail.n.01_2 - wall_nail.n.01\\n        desk.n.01_1 - desk.n.01\\n        agent.n.01_1 - agent.n.01\\n    )\\n    \\n    (:init \\n        (ontop poster.n.01_1 desk.n.01_1) \\n        (ontop poster.n.01_2 poster.n.01_1) \\n        (inroom wall_nail.n.01_1 bedroom) \\n        (inroom wall_nail.n.01_2 bedroom) \\n        (inroom floor.n.01_1 bedroom) \\n        (inroom desk.n.01_1 bedroom)\\n        (ontop agent.n.01_1 floor.n.01_1)\\n    )\\n    \\n    (:goal \\n        (and \\n            (forpairs \\n                (?poster.n.01 - poster.n.01)\\n                (?wall_nail.n.01 - wall_nail.n.01)\\n                (attached ?poster.n.01 ?wall_nail.n.01)\\n            )\\n        )\\n    )\\n)'),\n",
       " Task(name='store_christmas_lights-0', definition='(define (problem store_christmas_lights-0)\\n    (:domain omnigibson)\\n\\n    (:objects\\n        icicle_lights.n.01_1 icicle_lights.n.01_2 - icicle_lights.n.01\\n        wall_nail.n.01_1 wall_nail.n.01_2 - wall_nail.n.01\\n        packing_box.n.02_1 - packing_box.n.02\\n        floor.n.01_1 - floor.n.01\\n        agent.n.01_1 - agent.n.01\\n    )\\n    \\n    (:init \\n        (attached icicle_lights.n.01_1 wall_nail.n.01_1) \\n        (attached icicle_lights.n.01_2 wall_nail.n.01_2) \\n        (ontop packing_box.n.02_1 floor.n.01_1) \\n        (inroom floor.n.01_1 garage) \\n        (inroom wall_nail.n.01_1 garage) \\n        (inroom wall_nail.n.01_2 garage) \\n        (ontop agent.n.01_1 floor.n.01_1)\\n    )\\n    \\n    (:goal \\n        (and \\n            (forall \\n                (?icicle_lights.n.01 - icicle_lights.n.01) \\n                (inside ?icicle_lights.n.01 ?packing_box.n.02_1)\\n            ) \\n        )\\n    )\\n)')]"
      ]
     },
     "execution_count": 3,
     "metadata": {},
     "output_type": "execute_result"
    }
   ],
   "source": [
    "scene_unmatched_tasks = [x for x in Task.all_objects() if x.scene_state == STATE_UNMATCHED]\n",
    "scene_unmatched_tasks"
   ]
  },
  {
   "cell_type": "code",
   "execution_count": null,
   "metadata": {},
   "outputs": [],
   "source": []
  }
 ],
 "metadata": {
  "kernelspec": {
   "display_name": "omnigibson",
   "language": "python",
   "name": "python3"
  },
  "language_info": {
   "codemirror_mode": {
    "name": "ipython",
    "version": 3
   },
   "file_extension": ".py",
   "mimetype": "text/x-python",
   "name": "python",
   "nbconvert_exporter": "python",
   "pygments_lexer": "ipython3",
   "version": "3.10.13"
  }
 },
 "nbformat": 4,
 "nbformat_minor": 2
}
