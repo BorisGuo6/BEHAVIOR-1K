{
 "cells": [
  {
   "cell_type": "code",
   "execution_count": 1,
   "metadata": {},
   "outputs": [
    {
     "name": "stderr",
     "output_type": "stream",
     "text": [
      "Loading BDDL knowledge base... This may take a few seconds.\n",
      "[nltk_data] Downloading package wordnet to /home/cgokmen/nltk_data...\n",
      "[nltk_data]   Package wordnet is already up-to-date!\n"
     ]
    }
   ],
   "source": [
    "from bddl.knowledge_base import *"
   ]
  },
  {
   "cell_type": "code",
   "execution_count": 4,
   "metadata": {},
   "outputs": [
    {
     "data": {
      "text/plain": [
       "[Synset(name='bath_towel.n.01')]"
      ]
     },
     "execution_count": 4,
     "metadata": {},
     "output_type": "execute_result"
    }
   ],
   "source": [
    "missing_task_rel_syn = set()\n",
    "\n",
    "for task in Task.all_objects():\n",
    "  for synset in task.synsets:\n",
    "    if synset.state == STATE_UNMATCHED:\n",
    "      missing_task_rel_syn.add(synset)\n",
    "\n",
    "sorted(missing_task_rel_syn)\n"
   ]
  },
  {
   "cell_type": "code",
   "execution_count": 5,
   "metadata": {},
   "outputs": [
    {
     "data": {
      "text/plain": [
       "[Task(name='buying_fast_food-0', definition='(define (problem buying_fast_food-0)\\n    (:domain omnigibson)\\n\\n    (:objects\\n        cash_register.n.01_1 - cash_register.n.01\\n        checkout.n.03_1 - checkout.n.03\\n        menu.n.01_1 - menu.n.01\\n        wall_nail.n.01_1 - wall_nail.n.01\\n        credit_card.n.01_1 - credit_card.n.01\\n        hamburger.n.01_1 hamburger.n.01_2 - hamburger.n.01\\n        shelf.n.01_1 shelf.n.01_2 shelf.n.01_3 - shelf.n.01\\n        french_fries.n.02_1 french_fries.n.02_2 - french_fries.n.02\\n        can__of__soda.n.01_1 can__of__soda.n.01_2 - can__of__soda.n.01\\n        shopping_basket.n.01_1 - shopping_basket.n.01\\n        floor.n.01_1 - floor.n.01\\n        agent.n.01_1 - agent.n.01\\n    )\\n    \\n    (:init \\n        (ontop cash_register.n.01_1 checkout.n.03_1) \\n        (attached menu.n.01_1 wall_nail.n.01_1) \\n        (ontop credit_card.n.01_1 checkout.n.03_1) \\n        (inside hamburger.n.01_1 shelf.n.01_1) \\n        (inside hamburger.n.01_2 shelf.n.01_1) \\n        (inside french_fries.n.02_1 shelf.n.01_2)\\n        (inside french_fries.n.02_2 shelf.n.01_2)\\n        (inside can__of__soda.n.01_1 shelf.n.01_3) \\n        (inside can__of__soda.n.01_2 shelf.n.01_3) \\n        (inside shopping_basket.n.01_1 checkout.n.03_1) \\n        (inroom floor.n.01_1 grocery_store) \\n        (inroom checkout.n.03_1 grocery_store) \\n        (inroom shelf.n.01_1 grocery_store) \\n        (inroom shelf.n.01_2 grocery_store) \\n        (inroom shelf.n.01_3 grocery_store) \\n        (inroom wall_nail.n.01_1 grocery_store) \\n        (ontop agent.n.01_1 floor.n.01_1)\\n    )\\n    \\n    (:goal \\n        (and \\n            (nextto ?credit_card.n.01_1 ?cash_register.n.01_1) \\n            (forall \\n                (?hamburger.n.01 - hamburger.n.01)\\n                (inside ?hamburger.n.01 ?shopping_basket.n.01_1)\\n            )\\n            (forall \\n                (?can__of__soda.n.01 - can__of__soda.n.01)\\n                (ontop ?can__of__soda.n.01 ?checkout.n.03_1)\\n            )\\n            (inside ?french_fries.n.02_1 ?shopping_basket.n.01_1)\\n            (ontop ?shopping_basket.n.01_1 ?checkout.n.03_1)\\n        )\\n    )\\n)'),\n",
       " Task(name='decorating_for_religious_ceremony-0', definition='(define (problem decorating_for_religious_ceremony-0)\\n    (:domain omnigibson)\\n\\n    (:objects\\n        dip.n.07_1 - dip.n.07\\n        cabinet.n.01_1 - cabinet.n.01\\n        wreath.n.01_1 - wreath.n.01\\n        floor.n.01_1 - floor.n.01\\n        candlestick.n.01_1 - candlestick.n.01\\n        wall_nail.n.01_1 - wall_nail.n.01\\n        shelf.n.01_1 - shelf.n.01\\n        agent.n.01_1 - agent.n.01\\n    )\\n    \\n    (:init \\n        (inside dip.n.07_1 cabinet.n.01_1) \\n        (inside wreath.n.01_1 cabinet.n.01_1) \\n        (ontop candlestick.n.01_1 cabinet.n.01_1) \\n        (not \\n            (attached dip.n.07_1 candlestick.n.01_1)\\n        )\\n        (not \\n            (attached wreath.n.01_1 wall_nail.n.01_1)\\n        )\\n        (inroom floor.n.01_1 living_room)\\n        (inroom wall_nail.n.01_1 living_room)\\n        (inroom cabinet.n.01_1 living_room)\\n        (inroom shelf.n.01_1 living_room)\\n        (ontop agent.n.01_1 floor.n.01_1)\\n    )\\n    \\n    (:goal \\n        (and \\n            (attached ?dip.n.07_1 ?candlestick.n.01_1) \\n            (ontop ?candlestick.n.01_1 ?shelf.n.01_1) \\n            (attached ?wreath.n.01_1 ?wall_nail.n.01_1)\\n        )\\n    )\\n)'),\n",
       " Task(name='decorating_outside_for_holidays-0', definition='(define (problem decorating_outside_for_holidays-0)\\n    (:domain omnigibson)\\n\\n    (:objects\\n        snow.n.01_1 - snow.n.01\\n        floor.n.01_1 floor.n.01_2 - floor.n.01\\n        wreath.n.01_1 - wreath.n.01\\n        holly.n.03_1 - holly.n.03\\n        bow.n.08_1 - bow.n.08\\n        tree.n.01_1 - tree.n.01\\n        wall_nail.n.01_1 wall_nail.n.01_2 wall_nail.n.01_3 - wall_nail.n.01\\n        coffee_table.n.01_1 - coffee_table.n.01\\n        agent.n.01_1 - agent.n.01\\n    )\\n    \\n    (:init \\n        (covered floor.n.01_1 snow.n.01_1) \\n        (ontop wreath.n.01_1 coffee_table.n.01_1) \\n        (ontop holly.n.03_1 coffee_table.n.01_1)\\n        (ontop bow.n.08_1 coffee_table.n.01_1) \\n        (inroom tree.n.01_1 garden) \\n        (inroom floor.n.01_1 garden) \\n        (inroom wall_nail.n.01_1 garden) \\n        (inroom wall_nail.n.01_2 garden) \\n        (inroom wall_nail.n.01_3 garden) \\n        (inroom coffee_table.n.01_1 living_room) \\n        (inroom floor.n.01_2 living_room)\\n        (ontop agent.n.01_1 floor.n.01_1)\\n    )\\n    \\n    (:goal \\n        (and \\n            (exists \\n                (?wall_nail.n.01 - wall_nail.n.01)\\n                (attached ?wreath.n.01_1 ?wall_nail.n.01)\\n            )\\n            (exists \\n                (?wall_nail.n.01 - wall_nail.n.01)\\n                (attached ?bow.n.08_1 ?wall_nail.n.01)\\n            )\\n            (exists \\n                (?wall_nail.n.01 - wall_nail.n.01)\\n                (attached ?holly.n.03_1 ?wall_nail.n.01)\\n            )\\n        )\\n    )\\n)'),\n",
       " Task(name='make_the_workplace_exciting-0', definition='(define (problem make_the_workplace_exciting-0)\\n    (:domain omnigibson)\\n\\n    (:objects\\n        poster.n.01_1 - poster.n.01\\n        wall_nail.n.01_1 - wall_nail.n.01\\n        board_game.n.01_1 - board_game.n.01\\n        floor.n.01_1 - floor.n.01\\n        coffee_maker.n.01_1 - coffee_maker.n.01\\n        carton.n.02_1 carton.n.02_2 - carton.n.02\\n        conference_table.n.01_1 - conference_table.n.01\\n        agent.n.01_1 - agent.n.01\\n    )\\n    \\n    (:init \\n        (ontop poster.n.01_1 conference_table.n.01_1) \\n        (not \\n            (attached poster.n.01_1 wall_nail.n.01_1)\\n        )\\n        (inside board_game.n.01_1 carton.n.02_2) \\n        (inside coffee_maker.n.01_1 carton.n.02_1)\\n        (ontop carton.n.02_1 floor.n.01_1) \\n        (ontop carton.n.02_2 floor.n.01_1) \\n        (inroom wall_nail.n.01_1 meeting_room) \\n        (inroom conference_table.n.01_1 meeting_room) \\n        (inroom floor.n.01_1 meeting_room) \\n        (ontop agent.n.01_1 floor.n.01_1)\\n    )\\n    \\n    (:goal \\n        (and \\n            (ontop ?board_game.n.01_1 ?conference_table.n.01_1)\\n            (ontop ?board_game.n.01_1 ?conference_table.n.01_1)\\n            (ontop ?coffee_maker.n.01_1 ?conference_table.n.01_1)\\n            (attached ?poster.n.01_1 ?wall_nail.n.01_1)\\n        )\\n    )\\n)'),\n",
       " Task(name='putting_up_Christmas_decorations_outside-0', definition='(define (problem putting_up_Christmas_decorations_outside-0)\\n    (:domain omnigibson)\\n\\n    (:objects\\n        lawn.n.01_1 - lawn.n.01\\n        wall_nail.n.01_1 - wall_nail.n.01\\n        icicle_lights.n.01_1 - icicle_lights.n.01\\n        wreath.n.01_1 - wreath.n.01\\n        glass_lantern.n.01_1 glass_lantern.n.01_2 - glass_lantern.n.01\\n        poinsettia.n.01_1 poinsettia.n.01_2 - poinsettia.n.01\\n        floor.n.01_1 - floor.n.01\\n        agent.n.01_1 - agent.n.01\\n    )\\n    \\n    (:init \\n        (ontop icicle_lights.n.01_1 floor.n.01_1) \\n        (ontop wreath.n.01_1 floor.n.01_1) \\n        (ontop glass_lantern.n.01_1 floor.n.01_1) \\n        (ontop glass_lantern.n.01_2 floor.n.01_1) \\n        (ontop poinsettia.n.01_1 floor.n.01_1) \\n        (ontop poinsettia.n.01_2 floor.n.01_1)\\n        (inroom lawn.n.01_1 garden) \\n        (inroom floor.n.01_1 garage) \\n        (inroom wall_nail.n.01_1 garden) \\n        (ontop agent.n.01_1 floor.n.01_1)\\n    )\\n    \\n    (:goal \\n        (and \\n            (exists \\n                (?wall_nail.n.01 - wall_nail.n.01)\\n                (attached ?icicle_lights.n.01_1 ?wall_nail.n.01)\\n            )\\n            (exists \\n                (?wall_nail.n.01 - wall_nail.n.01)\\n                (attached ?wreath.n.01_1 ?wall_nail.n.01)\\n            )\\n            (forall\\n                (?glass_lantern.n.01 - glass_lantern.n.01)\\n                (ontop ?glass_lantern.n.01 ?lawn.n.01_1)           \\n            )\\n            (forall\\n                (?poinsettia.n.01 - poinsettia.n.01)\\n                (ontop ?poinsettia.n.01 ?lawn.n.01_1)           \\n            )\\n        )\\n    )\\n)\\n'),\n",
       " Task(name='putting_up_outdoor_holiday_decorations-0', definition='(define (problem putting_up_outdoor_holiday_decorations-0)\\n    (:domain omnigibson)\\n\\n    (:objects\\n        rail_fence.n.01_1 - rail_fence.n.01\\n        floor.n.01_1 floor.n.01_2 - floor.n.01\\n        pot_plant.n.01_1 - pot_plant.n.01\\n        carton.n.02_1 - carton.n.02\\n        wreath.n.01_1 - wreath.n.01\\n        icicle_lights.n.01_1 - icicle_lights.n.01\\n        lawn.n.01_1 - lawn.n.01\\n        wall_nail.n.01_1 - wall_nail.n.01\\n        rose.n.01_1 - rose.n.01\\n        agent.n.01_1 - agent.n.01\\n    )\\n    \\n    (:init \\n        (ontop pot_plant.n.01_1 floor.n.01_1) \\n        (ontop carton.n.02_1 floor.n.01_2) \\n        (inside wreath.n.01_1 carton.n.02_1) \\n        (not\\n            (attached wreath.n.01_1 wall_nail.n.01_1)\\n        )\\n        (inside icicle_lights.n.01_1 carton.n.02_1) \\n        (inside rose.n.01_1 carton.n.02_1) \\n        (not \\n            (toggled_on icicle_lights.n.01_1)\\n        ) \\n        (inroom floor.n.01_1 garden) \\n        (inroom lawn.n.01_1 garden) \\n        (inroom wall_nail.n.01_1 garden) \\n        (inroom floor.n.01_2 living_room) \\n        (inroom rail_fence.n.01_1 garden) \\n        (ontop agent.n.01_1 floor.n.01_2)\\n    )\\n    \\n    (:goal \\n        (and \\n            (attached ?wreath.n.01_1 ?wall_nail.n.01_1)\\n            (ontop ?icicle_lights.n.01_1 ?pot_plant.n.01_1)\\n            (toggled_on ?icicle_lights.n.01_1) \\n            (ontop ?rose.n.01_1 ?lawn.n.01_1)\\n            (ontop ?pot_plant.n.01_1 ?lawn.n.01_1)\\n        )\\n    )\\n)\\n'),\n",
       " Task(name='putting_up_posters-0', definition='(define (problem putting_up_posters-0)\\n    (:domain omnigibson)\\n\\n    (:objects\\n        floor.n.01_1 - floor.n.01\\n        poster.n.01_1 poster.n.01_2 - poster.n.01\\n        wall_nail.n.01_1 wall_nail.n.01_2 - wall_nail.n.01\\n        desk.n.01_1 - desk.n.01\\n        agent.n.01_1 - agent.n.01\\n    )\\n    \\n    (:init \\n        (ontop poster.n.01_1 desk.n.01_1) \\n        (ontop poster.n.01_2 poster.n.01_1) \\n        (inroom wall_nail.n.01_1 bedroom) \\n        (inroom wall_nail.n.01_2 bedroom) \\n        (inroom floor.n.01_1 bedroom) \\n        (inroom desk.n.01_1 bedroom)\\n        (ontop agent.n.01_1 floor.n.01_1)\\n    )\\n    \\n    (:goal \\n        (and \\n            (forpairs \\n                (?poster.n.01 - poster.n.01)\\n                (?wall_nail.n.01 - wall_nail.n.01)\\n                (attached ?poster.n.01 ?wall_nail.n.01)\\n            )\\n        )\\n    )\\n)'),\n",
       " Task(name='store_christmas_lights-0', definition='(define (problem store_christmas_lights-0)\\n    (:domain omnigibson)\\n\\n    (:objects\\n        icicle_lights.n.01_1 icicle_lights.n.01_2 - icicle_lights.n.01\\n        wall_nail.n.01_1 wall_nail.n.01_2 - wall_nail.n.01\\n        packing_box.n.02_1 - packing_box.n.02\\n        floor.n.01_1 - floor.n.01\\n        agent.n.01_1 - agent.n.01\\n    )\\n    \\n    (:init \\n        (attached icicle_lights.n.01_1 wall_nail.n.01_1) \\n        (attached icicle_lights.n.01_2 wall_nail.n.01_2) \\n        (ontop packing_box.n.02_1 floor.n.01_1) \\n        (inroom floor.n.01_1 garage) \\n        (inroom wall_nail.n.01_1 garage) \\n        (inroom wall_nail.n.01_2 garage) \\n        (ontop agent.n.01_1 floor.n.01_1)\\n    )\\n    \\n    (:goal \\n        (and \\n            (forall \\n                (?icicle_lights.n.01 - icicle_lights.n.01) \\n                (inside ?icicle_lights.n.01 ?packing_box.n.02_1)\\n            ) \\n        )\\n    )\\n)')]"
      ]
     },
     "execution_count": 5,
     "metadata": {},
     "output_type": "execute_result"
    }
   ],
   "source": [
    "scene_unmatched_tasks = [x for x in Task.all_objects() if x.scene_state == STATE_UNMATCHED]\n",
    "scene_unmatched_tasks"
   ]
  },
  {
   "cell_type": "code",
   "execution_count": null,
   "metadata": {},
   "outputs": [],
   "source": []
  }
 ],
 "metadata": {
  "kernelspec": {
   "display_name": "omnigibson",
   "language": "python",
   "name": "python3"
  },
  "language_info": {
   "codemirror_mode": {
    "name": "ipython",
    "version": 3
   },
   "file_extension": ".py",
   "mimetype": "text/x-python",
   "name": "python",
   "nbconvert_exporter": "python",
   "pygments_lexer": "ipython3",
   "version": "3.10.13"
  }
 },
 "nbformat": 4,
 "nbformat_minor": 2
}
