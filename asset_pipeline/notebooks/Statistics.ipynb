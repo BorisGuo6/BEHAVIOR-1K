{
 "cells": [
  {
   "cell_type": "code",
   "execution_count": 1,
   "metadata": {},
   "outputs": [
    {
     "name": "stderr",
     "output_type": "stream",
     "text": [
      "Loading BDDL knowledge base... This may take a few seconds.\n",
      "[nltk_data] Downloading package wordnet to /home/cgokmen/nltk_data...\n",
      "[nltk_data]   Package wordnet is already up-to-date!\n"
     ]
    }
   ],
   "source": [
    "from bddl.knowledge_base import *"
   ]
  },
  {
   "cell_type": "code",
   "execution_count": 3,
   "metadata": {},
   "outputs": [
    {
     "name": "stdout",
     "output_type": "stream",
     "text": [
      "Categories:  1949\n",
      "Objects:  9318\n"
     ]
    }
   ],
   "source": [
    "categories = [c for c in Category.all_objects() if c.objects]\n",
    "objects = sorted({o for c in categories for o in c.objects})\n",
    "print(\"Categories: \", len(categories))\n",
    "print(\"Objects: \", len(objects))"
   ]
  },
  {
   "cell_type": "code",
   "execution_count": 4,
   "metadata": {},
   "outputs": [
    {
     "name": "stdout",
     "output_type": "stream",
     "text": [
      "Non-structural categories:  1942\n",
      "Non-structural objects:  7007\n"
     ]
    }
   ],
   "source": [
    "from omnigibson.utils.constants import STRUCTURE_CATEGORIES\n",
    "nonstructural_categories = [c for c in categories if c.name not in STRUCTURE_CATEGORIES]\n",
    "nonstructural_objects = sorted({o for c in nonstructural_categories for o in c.objects})\n",
    "print(\"Non-structural categories: \", len(nonstructural_categories))\n",
    "print(\"Non-structural objects: \", len(nonstructural_objects))"
   ]
  },
  {
   "cell_type": "code",
   "execution_count": 6,
   "metadata": {},
   "outputs": [
    {
     "name": "stdout",
     "output_type": "stream",
     "text": [
      "Non-structural non-substance categories:  1799\n",
      "Non-structural non-substance objects:  6600\n"
     ]
    }
   ],
   "source": [
    "nonstructural_nonsubstance_categories = [c for c in nonstructural_categories if c.synset.state != STATE_SUBSTANCE]\n",
    "nonstructural_nonsubstance_objects = sorted({o for c in nonstructural_nonsubstance_categories for o in c.objects})\n",
    "print(\"Non-structural non-substance categories: \", len(nonstructural_nonsubstance_categories))\n",
    "print(\"Non-structural non-substance objects: \", len(nonstructural_nonsubstance_objects))"
   ]
  },
  {
   "cell_type": "code",
   "execution_count": null,
   "metadata": {},
   "outputs": [],
   "source": []
  }
 ],
 "metadata": {
  "kernelspec": {
   "display_name": "omnigibson",
   "language": "python",
   "name": "python3"
  },
  "language_info": {
   "codemirror_mode": {
    "name": "ipython",
    "version": 3
   },
   "file_extension": ".py",
   "mimetype": "text/x-python",
   "name": "python",
   "nbconvert_exporter": "python",
   "pygments_lexer": "ipython3",
   "version": "3.10.13"
  }
 },
 "nbformat": 4,
 "nbformat_minor": 2
}
