{
 "cells": [
  {
   "cell_type": "code",
   "execution_count": 6,
   "id": "fb71c4cd",
   "metadata": {},
   "outputs": [],
   "source": [
    "# Get all the complaints\n",
    "import pathlib, json\n",
    "\n",
    "complaints = []\n",
    "for fn in sorted(pathlib.Path(\"/scr/ig_pipeline\").glob(\"cad/*/*/complaints.json\")):\n",
    "    with open(fn, \"r\") as f:\n",
    "        complaints.extend(json.load(f))\n",
    "\n",
    "# Get the maximum set of keys\n",
    "keys = {k for complaint in complaints for k in complaint.keys()}\n"
   ]
  },
  {
   "cell_type": "code",
   "execution_count": 7,
   "id": "02ee66ed",
   "metadata": {},
   "outputs": [],
   "source": [
    "# Write the complaints into a CSV using a DictWriter\n",
    "import csv\n",
    "with open(\"/scr/ig_pipeline/metadata/combined_complaints.csv\", \"w\") as f:\n",
    "    writer = csv.DictWriter(f, fieldnames=keys)\n",
    "    writer.writeheader()\n",
    "    writer.writerows(complaints)"
   ]
  },
  {
   "cell_type": "code",
   "execution_count": null,
   "id": "cdf3a0a9",
   "metadata": {},
   "outputs": [],
   "source": []
  }
 ],
 "metadata": {
  "kernelspec": {
   "display_name": "pipeline",
   "language": "python",
   "name": "python3"
  },
  "language_info": {
   "codemirror_mode": {
    "name": "ipython",
    "version": 3
   },
   "file_extension": ".py",
   "mimetype": "text/x-python",
   "name": "python",
   "nbconvert_exporter": "python",
   "pygments_lexer": "ipython3",
   "version": "3.8.0"
  }
 },
 "nbformat": 4,
 "nbformat_minor": 5
}
