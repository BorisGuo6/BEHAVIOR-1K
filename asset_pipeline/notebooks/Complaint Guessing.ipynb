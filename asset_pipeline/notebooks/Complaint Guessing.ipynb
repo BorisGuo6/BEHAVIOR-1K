{
 "cells": [
  {
   "cell_type": "code",
   "execution_count": 1,
   "metadata": {},
   "outputs": [
    {
     "name": "stderr",
     "output_type": "stream",
     "text": [
      "Loading BDDL knowledge base... This may take a few seconds.\n",
      "[nltk_data] Downloading package wordnet to\n",
      "[nltk_data]     C:\\Users\\Cem\\AppData\\Roaming\\nltk_data...\n",
      "[nltk_data]   Package wordnet is already up-to-date!\n",
      "Complained object azqqwx does not exist in the database. Skipping.\n",
      "Complained object ntmrkt does not exist in the database. Skipping.\n"
     ]
    }
   ],
   "source": [
    "from bddl.knowledge_base import *"
   ]
  },
  {
   "cell_type": "code",
   "execution_count": 29,
   "metadata": {},
   "outputs": [],
   "source": [
    "# Load the existing complaints\n",
    "import glob, pathlib, json\n",
    "def load_complaints():\n",
    "    jsons = {}\n",
    "    complaint_glob = r\"D:/ig_pipeline/cad/*/*/complaints.json\"\n",
    "    for fn in glob.glob(complaint_glob):\n",
    "        fn = pathlib.Path(fn)\n",
    "        with open(fn, \"r\") as f:\n",
    "            jsons[\"/\".join(fn.parts[-3:-1])] = json.load(f)\n",
    "    return jsons\n",
    "\n",
    "def add_complaint(provider, obj, typ, complaint, additional_info):\n",
    "    complaints = load_complaints()\n",
    "    max_id = max(c[\"id\"] for cs in complaints.values() for c in cs)\n",
    "    new_complaint = {\n",
    "        \"id\": max_id + 1,\n",
    "        \"object\": obj,\n",
    "        \"type\": typ,\n",
    "        \"complaint\": complaint,\n",
    "        \"additional_info\": additional_info,\n",
    "        \"new\": True,\n",
    "        \"processed\": False,\n",
    "    }\n",
    "    complaints[provider].append(new_complaint)\n",
    "    complaint_path = pathlib.Path(f\"D:/ig_pipeline/cad/{provider}/complaints.json\")\n",
    "    complaint_path.parent.mkdir(parents=True, exist_ok=True)\n",
    "    with open(complaint_path, \"w\") as f:\n",
    "        json.dump(complaints[provider], f, indent=2)"
   ]
  },
  {
   "cell_type": "code",
   "execution_count": 6,
   "metadata": {},
   "outputs": [],
   "source": [
    "# Load object lists also\n",
    "object_lists = {}\n",
    "object_list_glob = r\"D:/ig_pipeline/cad/*/*/artifacts/object_list.json\"\n",
    "for fn in glob.glob(object_list_glob):\n",
    "    fn = pathlib.Path(fn)\n",
    "    with open(fn, \"r\") as f:\n",
    "        object_lists[\"/\".join(fn.parts[-3:-1])] = json.load(f)"
   ]
  },
  {
   "cell_type": "code",
   "execution_count": 9,
   "metadata": {},
   "outputs": [],
   "source": [
    "# Find objects that have glass parts\n",
    "import sys\n",
    "sys.path.append(r\"D:\\ig_pipeline\")\n",
    "from b1k_pipeline.utils import parse_name\n",
    "glass_part_objects = set()\n",
    "for objlist in object_lists.values():\n",
    "    for part in objlist[\"meshes\"]:\n",
    "        if \"Tglass\" not in part:\n",
    "            continue\n",
    "        pn = parse_name(part)\n",
    "        glass_part_objects.add(pn.group(\"model_id\"))"
   ]
  },
  {
   "cell_type": "code",
   "execution_count": 30,
   "metadata": {},
   "outputs": [],
   "source": [
    "windows = set(o.name for o in Synset.get(\"window.n.01\").matching_objects)\n",
    "windows_without_glass = windows - glass_part_objects\n",
    "for obj_id in windows_without_glass:\n",
    "    o = Object.get(obj_id)\n",
    "    provider = o.provider\n",
    "    add_complaint(provider, str(o), \"appearance\", \"Automatic complaint: window object has no glass part. Investigate & fix if necessary.\", \"Some legacy glass objects don't have a glass pane at all which needs to be added manually so that stuff can't go through the window. Other windows like in the gates bedroom are actually not glass in which case this complaint can be removed.\")"
   ]
  },
  {
   "cell_type": "code",
   "execution_count": 31,
   "metadata": {},
   "outputs": [
    {
     "name": "stdout",
     "output_type": "stream",
     "text": [
      "15 pictures with glass\n"
     ]
    }
   ],
   "source": [
    "pictures = set(o.name for o in Category.get(\"picture\").objects)\n",
    "pictures_with_glass = pictures & glass_part_objects\n",
    "print(len(pictures_with_glass), \"pictures with glass\")\n",
    "for obj_id in pictures_with_glass:\n",
    "    o = Object.get(obj_id)\n",
    "    provider = o.provider\n",
    "    add_complaint(provider, str(o), \"appearance\", \"Automatic complaint: picture object has glass part. It's not necessary semantically and causes performance issues. Remove it.\", \"The glass in a picture object does not serve any practical purpose in simulation, it just adds some glare to the picture at the cost of compute. We want to avoid this.\")"
   ]
  },
  {
   "cell_type": "code",
   "execution_count": null,
   "metadata": {},
   "outputs": [],
   "source": []
  }
 ],
 "metadata": {
  "kernelspec": {
   "display_name": "Python 3",
   "language": "python",
   "name": "python3"
  },
  "language_info": {
   "codemirror_mode": {
    "name": "ipython",
    "version": 3
   },
   "file_extension": ".py",
   "mimetype": "text/x-python",
   "name": "python",
   "nbconvert_exporter": "python",
   "pygments_lexer": "ipython3",
   "version": "3.10.0"
  }
 },
 "nbformat": 4,
 "nbformat_minor": 2
}
