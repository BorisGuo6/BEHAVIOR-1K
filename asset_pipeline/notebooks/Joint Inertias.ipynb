{
 "cells": [
  {
   "cell_type": "code",
   "execution_count": 1,
   "metadata": {},
   "outputs": [],
   "source": [
    "import matplotlib.pyplot as plt"
   ]
  },
  {
   "cell_type": "code",
   "execution_count": 2,
   "metadata": {},
   "outputs": [],
   "source": [
    "import json\n",
    "with open(\"/scr/og-docker-data/datasets/og_dataset/joint_inertias.json\") as f:\n",
    "  data = json.load(f)"
   ]
  },
  {
   "cell_type": "code",
   "execution_count": 7,
   "metadata": {},
   "outputs": [],
   "source": [
    "import numpy as np\n",
    "inertia_by_joint = {\n",
    "  (obj, joint): inertia\n",
    "  for obj, joints in data.items()\n",
    "  for joint, inertia in joints.items()\n",
    "}\n",
    "keys = list(inertia_by_joint.keys())\n",
    "values = np.array(list(inertia_by_joint.values()))"
   ]
  },
  {
   "cell_type": "code",
   "execution_count": 10,
   "metadata": {},
   "outputs": [
    {
     "data": {
      "image/png": "[encoded data removed]",
      "text/plain": [
       "<Figure size 640x480 with 1 Axes>"
      ]
     },
     "metadata": {},
     "output_type": "display_data"
    }
   ],
   "source": [
    "plt.hist(values, bins=10, range=(0, 50))\n",
    "plt.show()"
   ]
  },
  {
   "cell_type": "code",
   "execution_count": 13,
   "metadata": {},
   "outputs": [
    {
     "name": "stdout",
     "output_type": "stream",
     "text": [
      "(('bsdexp', '/bsdexp/base_link/j_lid'), 6178.49560546875)\n",
      "(('lrvyvc', '/lrvyvc/base_link/j_movingpart'), 90.29892420768738)\n",
      "(('izmteu', '/izmteu/base_link/j_leaf1'), 80.16746520996094)\n",
      "(('izmteu', '/izmteu/base_link/j_leaf2'), 78.399658203125)\n",
      "(('fnvpyu', '/fnvpyu/base_link/j_leaf'), 62.96385407447815)\n",
      "(('hgcxno', '/hgcxno/base_link/j_left_leaf'), 47.78474569320679)\n",
      "(('nvempw', '/nvempw/base_link/j_door'), 47.37662887573242)\n",
      "(('hgcxno', '/hgcxno/base_link/j_right_leaf'), 46.999125957489014)\n",
      "(('doiucd', '/doiucd/base_link/j_door5'), 43.27926880121231)\n",
      "(('prdjyt', '/prdjyt/base_link/j_left_door'), 43.04524230957031)\n",
      "(('prdjyt', '/prdjyt/base_link/j_right_door'), 43.045204162597656)\n",
      "(('crtrpa', '/crtrpa/base_link/j_leaf'), 41.98383450508118)\n",
      "(('doiucd', '/doiucd/base_link/j_door3'), 41.30566555261612)\n",
      "(('ozlhfk', '/ozlhfk/base_link/j_left'), 38.34318161010742)\n",
      "(('ozlhfk', '/ozlhfk/base_link/j_right'), 38.27806091308594)\n",
      "(('rhdbzv', '/rhdbzv/base_link/j_right_drawer'), 37.87258584599476)\n",
      "(('vqjuvg', '/vqjuvg/base_link/j_leaf2'), 37.011962890625)\n",
      "(('vqjuvg', '/vqjuvg/base_link/j_leaf1'), 36.755123138427734)\n",
      "(('jnzgyw', '/jnzgyw/base_link/j_leaf'), 35.26388931274414)\n",
      "(('doiucd', '/doiucd/base_link/j_door2'), 34.63518315553665)\n",
      "(('ohagsq', '/ohagsq/base_link/j_link_4'), 33.94875489734113)\n",
      "(('ohagsq', '/ohagsq/base_link/j_link_3'), 33.94687497802079)\n",
      "(('jpftow', '/jpftow/base_link/j_left_wing'), 33.871543884277344)\n",
      "(('doiucd', '/doiucd/base_link/j_door4'), 33.633171021938324)\n",
      "(('eduavq', '/eduavq/base_link/j_leaf'), 33.606544494628906)\n",
      "(('wvbxij', '/wvbxij/base_link/j_leaf'), 32.97208023071289)\n",
      "(('xdcuws', '/xdcuws/base_link/j_door_link'), 30.919318675994873)\n",
      "(('doiucd', '/doiucd/base_link/j_door1'), 29.572063446044922)\n",
      "(('rhdbzv', '/rhdbzv/base_link/j_left_drawer'), 29.170599533128552)\n",
      "(('zniqtp', '/zniqtp/base_link/j_left_wing'), 28.739877700805664)\n",
      "(('doiucd', '/doiucd/base_link/j_door0'), 27.897819340229034)\n",
      "(('rwmofs', '/rwmofs/base_link/j_leaf'), 27.845989227294922)\n",
      "(('mrdthd', '/mrdthd/base_link/j_right_leaf'), 27.83193589761504)\n",
      "(('kwbnhy', '/kwbnhy/base_link/j_leaf'), 27.300877153873444)\n",
      "(('rhnrfc', '/rhnrfc/base_link/j_leaf'), 27.208280563354492)\n",
      "(('rhcnln', '/rhcnln/base_link/j_link_1'), 26.999586012214422)\n",
      "(('lvncak', '/lvncak/base_link/j_door_link'), 26.64482605457306)\n",
      "(('taqzxq', '/taqzxq/base_link/j_door'), 25.882999420166016)\n",
      "(('blyapt', '/blyapt/base_link/j_link_0'), 25.80852508544922)\n",
      "(('gjlztf', '/gjlztf/base_link/j_link_2'), 25.165611267089844)\n",
      "(('tajnkx', '/tajnkx/base_link/j_leaf'), 24.15225601196289)\n",
      "(('flveay', '/flveay/base_link/j_leaf0'), 23.24258041381836)\n",
      "(('ggcyib', '/ggcyib/base_link/j_leaf'), 22.09452247619629)\n",
      "(('dxwbae', '/dxwbae/base_link/j_right_leaf'), 22.07410430908203)\n",
      "(('zniqtp', '/zniqtp/base_link/j_right_wing'), 21.428442001342773)\n",
      "(('cgtaer', '/cgtaer/base_link/j_door'), 21.372589929196693)\n",
      "(('vshrva', '/vshrva/base_link/j_door'), 21.263620376586914)\n",
      "(('jpftow', '/jpftow/base_link/j_right_wing'), 20.99382972717285)\n",
      "(('ofgpit', '/ofgpit/base_link/j_leaf'), 20.792692184448242)\n",
      "(('fwstpx', '/fwstpx/base_link/j_up'), 20.372196197509766)\n",
      "(('dxwbae', '/dxwbae/base_link/j_left_leaf'), 20.177897453308105)\n",
      "(('gzaggw', '/gzaggw/base_link/j_leaf'), 20.143423080444336)\n",
      "(('pwoerr', '/pwoerr/base_link/j_leaf'), 20.04014778137207)\n",
      "(('xqxiyb', '/xqxiyb/base_link/j_leaf'), 19.967792510986328)\n",
      "(('pzgdls', '/pzgdls/base_link/j_leaf'), 19.841650009155273)\n",
      "(('mfocvp', '/mfocvp/base_link/j_leaf0'), 19.79395294189453)\n",
      "(('lkpsai', '/lkpsai/base_link/j_link_0'), 19.6735897064209)\n",
      "(('ewqpfv', '/ewqpfv/base_link/j_left_door'), 19.56173598766327)\n",
      "(('myihfn', '/myihfn/base_link/j_left_wing'), 19.476593017578125)\n",
      "(('poafwh', '/poafwh/base_link/j_leaf0'), 19.23979377746582)\n",
      "(('inmymj', '/inmymj/base_link/j_left_wing'), 19.19386100769043)\n",
      "(('booxjn', '/booxjn/base_link/j_leaf'), 19.187915802001953)\n",
      "(('mdglvs', '/mdglvs/base_link/j_leaf'), 19.074668884277344)\n",
      "(('fancyy', '/fancyy/base_link/j_door2'), 19.070344924926758)\n",
      "(('cbudyv', '/cbudyv/base_link/j_leaf0'), 18.973482847213745)\n",
      "(('cvvumy', '/cvvumy/base_link/j_right_leaf'), 18.446359634399414)\n",
      "(('petcxr', '/petcxr/base_link/j_left_door'), 18.043447222895338)\n",
      "(('hzfirv', '/hzfirv/base_link/j_leaf'), 17.989524841308594)\n",
      "(('stvajh', '/stvajh/base_link/j_leaf1'), 17.407487869262695)\n",
      "(('agrzdb', '/agrzdb/base_link/j_leaf'), 17.31363582611084)\n",
      "(('ceddpg', '/ceddpg/base_link/j_link_1'), 17.115284223109484)\n",
      "(('ofpyax', '/ofpyax/base_link/j_fabric'), 16.982585906982422)\n",
      "(('bzotkq', '/bzotkq/base_link/j_leaf'), 16.936111450195312)\n",
      "(('myihfn', '/myihfn/base_link/j_right_wing'), 16.84563636779785)\n",
      "(('nywsku', '/nywsku/base_link/j_leaf'), 16.786855697631836)\n",
      "(('cvvumy', '/cvvumy/base_link/j_left_leaf'), 16.040891654789448)\n",
      "(('tfdrhh', '/tfdrhh/base_link/j_leaf'), 16.024301528930664)\n",
      "(('rhvubh', '/rhvubh/base_link/j_door'), 15.672147750854492)\n",
      "(('uatmde', '/uatmde/base_link/j_door2'), 15.6548490524292)\n",
      "(('ccfetu', '/ccfetu/base_link/j_leaf'), 15.645976066589355)\n",
      "(('rmmvcd', '/rmmvcd/base_link/j_door2'), 15.61316442489624)\n",
      "(('tonlzz', '/tonlzz/base_link/j_leaf'), 15.310511589050293)\n",
      "(('rsypfh', '/rsypfh/base_link/j_leaf'), 15.273004531860352)\n",
      "(('gfrgkk', '/gfrgkk/base_link/j_leaf'), 15.268270492553711)\n",
      "(('iuuykr', '/iuuykr/base_link/j_right_leaf'), 15.191719055175781)\n",
      "(('uptpdr', '/uptpdr/base_link/j_leaf'), 15.14967155456543)\n",
      "(('adejun', '/adejun/base_link/j_right_leaf'), 15.107832375610087)\n",
      "(('wwhydr', '/wwhydr/base_link/j_right_wing'), 14.802398681640625)\n",
      "(('rqextk', '/rqextk/base_link/j_leaf1'), 14.764381408691406)\n",
      "(('aknswb', '/aknswb/base_link/j_left_door'), 14.506029725074768)\n",
      "(('lctyaf', '/lctyaf/base_link/j_leaf'), 14.476388975977898)\n",
      "(('iuuykr', '/iuuykr/base_link/j_left_leaf'), 14.421682357788086)\n",
      "(('uzrfpq', '/uzrfpq/base_link/j_door1'), 14.349324226379395)\n",
      "(('jsoewn', '/jsoewn/base_link/j_leaf'), 14.208551406860352)\n",
      "(('uzrfpq', '/uzrfpq/base_link/j_door2'), 14.193317413330078)\n",
      "(('bkyguk', '/bkyguk/base_link/j_link_0'), 13.915385246276855)\n",
      "(('ynrhuk', '/ynrhuk/base_link/j_link_1'), 13.824344230699353)\n",
      "(('xxipyh', '/xxipyh/base_link/j_reddoor1'), 13.771720051765442)\n",
      "(('izyvmu', '/izyvmu/base_link/j_left'), 13.766097784042358)\n",
      "(('xxipyh', '/xxipyh/base_link/j_reddoor2'), 13.749808758497238)\n"
     ]
    }
   ],
   "source": [
    "# What are the heaviest joints?\n",
    "heaviest = sorted(inertia_by_joint.items(), key=lambda x: -x[1])\n",
    "for x in heaviest[:100]:\n",
    "  print(x)"
   ]
  },
  {
   "cell_type": "code",
   "execution_count": null,
   "metadata": {},
   "outputs": [],
   "source": []
  }
 ],
 "metadata": {
  "kernelspec": {
   "display_name": "pipeline",
   "language": "python",
   "name": "python3"
  },
  "language_info": {
   "codemirror_mode": {
    "name": "ipython",
    "version": 3
   },
   "file_extension": ".py",
   "mimetype": "text/x-python",
   "name": "python",
   "nbconvert_exporter": "python",
   "pygments_lexer": "ipython3",
   "version": "3.8.0"
  }
 },
 "nbformat": 4,
 "nbformat_minor": 2
}
