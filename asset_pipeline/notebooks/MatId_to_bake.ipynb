{
 "cells": [
  {
   "cell_type": "code",
   "execution_count": 1,
   "id": "f292ab94",
   "metadata": {},
   "outputs": [
    {
     "name": "stdout",
     "output_type": "stream",
     "text": [
      "(2048, 2048, 4)\n",
      "[  0   3   7  11  15  19  23  27  31  35  39  43  47  51  55  59  63  67\n",
      "  71  75  79  82  83  87  91  95  99 103 107 111 115 119 123 127 131 135\n",
      " 139 143 147 151 155 159 163 167 171 173 175 179 183 187 191 195 199 203\n",
      " 207 211 215 219 223 227 231 235 239 243 247 251 255]\n"
     ]
    }
   ],
   "source": [
    "from PIL import Image\n",
    "import numpy as np\n",
    "\n",
    "img = Image.open(r\"D:\\usd-test\\Materials\\arbekb__base_link__matid.png\")\n",
    "arr = np.array(img)\n",
    "print(arr.shape)\n",
    "print(np.unique(arr))"
   ]
  },
  {
   "cell_type": "code",
   "execution_count": 20,
   "id": "cd170258",
   "metadata": {},
   "outputs": [
    {
     "name": "stdout",
     "output_type": "stream",
     "text": [
      "(255, 0, 0, 255) 1616914\n",
      "(0, 255, 0, 255) 696032\n",
      "(0, 0, 255, 255) 364417\n"
     ]
    }
   ],
   "source": [
    "ior_image = np.zeros((arr.shape[0], arr.shape[1]), dtype=np.float32)\n",
    "ior_maps = {\n",
    "  (255, 0, 0, 255): 20.,\n",
    "  (0, 255, 0, 255): 1.6,\n",
    "  (0, 0, 255, 255): 20.,\n",
    "}\n",
    "ior_multiplier = 30.  # 1 in the image == 30\n",
    "for clr, ior in ior_maps.items():\n",
    "    mask = np.all(arr == clr, axis=-1)\n",
    "    print(clr, np.sum(mask.astype(int)))\n",
    "    ior_image[mask] = ior / ior_multiplier\n",
    "ior_img = Image.fromarray((ior_image * 255).astype(np.uint8), mode=\"L\")\n",
    "ior_img.save(r\"D:\\usd-test\\Materials\\arbekb__base_link__ior2.png\")\n",
    "ior_img.show()"
   ]
  },
  {
   "cell_type": "code",
   "execution_count": null,
   "id": "0adb3619",
   "metadata": {},
   "outputs": [],
   "source": []
  }
 ],
 "metadata": {
  "kernelspec": {
   "display_name": "pipeline",
   "language": "python",
   "name": "python3"
  },
  "language_info": {
   "codemirror_mode": {
    "name": "ipython",
    "version": 3
   },
   "file_extension": ".py",
   "mimetype": "text/x-python",
   "name": "python",
   "nbconvert_exporter": "python",
   "pygments_lexer": "ipython3",
   "version": "3.10.0"
  }
 },
 "nbformat": 4,
 "nbformat_minor": 5
}
