{
 "cells": [
  {
   "cell_type": "code",
   "execution_count": 1,
   "id": "6297fb84",
   "metadata": {},
   "outputs": [],
   "source": [
    "import csv\n",
    "task_to_scenes = {}\n",
    "with open(r\"C:\\Users\\cgokmen\\Downloads\\b1k-tasks.csv\", \"r\") as f:\n",
    "    for row in csv.DictReader(f):\n",
    "        scene_list_str = row[\"Matched Planned Scenes\"].replace(\" \", \"\").replace(\"\\n\", \"\").strip()\n",
    "        task_scenes = scene_list_str.split(\",\")\n",
    "        task_to_scenes[row[\"Task Name\"]] = {x for x in task_scenes if x}"
   ]
  },
  {
   "cell_type": "code",
   "execution_count": 2,
   "id": "317a177e",
   "metadata": {},
   "outputs": [
    {
     "data": {
      "text/plain": [
       "1034"
      ]
     },
     "execution_count": 2,
     "metadata": {},
     "output_type": "execute_result"
    }
   ],
   "source": [
    "len(task_to_scenes)"
   ]
  },
  {
   "cell_type": "code",
   "execution_count": 3,
   "id": "b407cccf",
   "metadata": {},
   "outputs": [
    {
     "name": "stdout",
     "output_type": "stream",
     "text": [
      "{'Rs_garden', 'hotel_suite_large', 'office_vendor_machine', 'restaurant_cafeteria', 'Benevolence_2_int', 'school_gym', 'Benevolence_0_int', 'office_bike', 'restaurant_hotel', 'office_cubicles_right', 'Beechwood_0_int', 'grocery_store_cafe', 'restaurant_brunch', 'house_double_floor_upper', 'restaurant_diner', 'house_double_floor_lower', 'house_single_floor', 'hotel_gym_spa', 'Merom_0_garden', 'school_geography', 'Benevolence_1_int', 'Wainscott_0_garden', 'hotel_suite_small', 'Pomaria_0_garden', 'Pomaria_2_int', 'hall_train_station', 'Pomaria_0_int', 'Pomaria_1_int', 'office_cubicles_left', 'Beechwood_0_garden', 'hall_conference_large', 'school_chemistry', 'Beechwood_1_int', 'hall_arch_wood', 'grocery_store_half_stocked', 'gates_bedroom', 'Wainscott_1_int', 'Merom_1_int', 'office_large', 'restaurant_asian', 'Merom_0_int', 'Ihlen_0_int', 'hall_glass_ceiling', 'school_computer_lab_and_infirmary', 'Rs_int', 'school_biology', 'Wainscott_0_int', 'Ihlen_1_int', 'restaurant_urban', 'grocery_store_convenience', 'grocery_store_asian'}\n"
     ]
    }
   ],
   "source": [
    "scenes = {scene for task_scenes in task_to_scenes.values() for scene in task_scenes}\n",
    "print(scenes)"
   ]
  },
  {
   "cell_type": "code",
   "execution_count": 4,
   "id": "d5ec10a6",
   "metadata": {},
   "outputs": [],
   "source": [
    "# Starting pick\n",
    "ig_scenes = {x for x in scenes if x.endswith(\"_int\")}\n",
    "starting_set = ig_scenes | {\n",
    "    \"house_single_floor\",\n",
    "    \"house_double_floor_lower\",\n",
    "    \"house_double_floor_upper\",\n",
    "}"
   ]
  },
  {
   "cell_type": "code",
   "execution_count": 5,
   "id": "efe10514",
   "metadata": {},
   "outputs": [
    {
     "data": {
      "text/plain": [
       "868"
      ]
     },
     "execution_count": 5,
     "metadata": {},
     "output_type": "execute_result"
    }
   ],
   "source": [
    "# What activities do these scenes cover?\n",
    "def cover(scene_set):\n",
    "    return [task for task, task_scenes in task_to_scenes.items() if task_scenes & scene_set]\n",
    "\n",
    "len(cover(starting_set))"
   ]
  },
  {
   "cell_type": "code",
   "execution_count": 6,
   "id": "42a1c0e9",
   "metadata": {},
   "outputs": [
    {
     "data": {
      "text/plain": [
       "('grocery_store_cafe', 41)"
      ]
     },
     "execution_count": 6,
     "metadata": {},
     "output_type": "execute_result"
    }
   ],
   "source": [
    "# Greedy algorithm step\n",
    "def next_pick(scene_set):\n",
    "    candidates = scenes - scene_set\n",
    "    current_cover = len(cover(scene_set))\n",
    "    advantages = {x: len(cover(scene_set | {x})) - current_cover for x in candidates}\n",
    "    # print(sorted(advantages.items(), key=lambda x: x[1]))\n",
    "    return max(advantages.items(), key=lambda x: x[1])\n",
    "next_pick(starting_set)"
   ]
  },
  {
   "cell_type": "code",
   "execution_count": 7,
   "id": "b1d31901",
   "metadata": {},
   "outputs": [
    {
     "name": "stdout",
     "output_type": "stream",
     "text": [
      "Adding ('grocery_store_cafe', 41)\n",
      "Adding ('Rs_garden', 21)\n",
      "Adding ('restaurant_brunch', 17)\n",
      "Adding ('office_large', 7)\n",
      "Adding ('hotel_gym_spa', 4)\n",
      "Adding ('school_geography', 4)\n",
      "Adding ('Pomaria_0_garden', 3)\n",
      "Adding ('hotel_suite_large', 1)\n",
      "Adding ('grocery_store_half_stocked', 1)\n",
      "Adding ('school_computer_lab_and_infirmary', 1)\n",
      "Final set: ['Beechwood_0_int', 'Beechwood_1_int', 'Benevolence_0_int', 'Benevolence_1_int', 'Benevolence_2_int', 'Ihlen_0_int', 'Ihlen_1_int', 'Merom_0_int', 'Merom_1_int', 'Pomaria_0_garden', 'Pomaria_0_int', 'Pomaria_1_int', 'Pomaria_2_int', 'Rs_garden', 'Rs_int', 'Wainscott_0_int', 'Wainscott_1_int', 'grocery_store_cafe', 'grocery_store_half_stocked', 'hotel_gym_spa', 'hotel_suite_large', 'house_double_floor_lower', 'house_double_floor_upper', 'house_single_floor', 'office_large', 'restaurant_brunch', 'school_computer_lab_and_infirmary', 'school_geography']\n",
      "28\n"
     ]
    }
   ],
   "source": [
    "# Run the greedy algorithm\n",
    "max_cover = len(cover(scenes))\n",
    "greedy_selection = set(starting_set)\n",
    "while len(cover(greedy_selection)) < max_cover:\n",
    "    pick = next_pick(greedy_selection)\n",
    "    print(\"Adding\", pick)\n",
    "    greedy_selection.add(pick[0])\n",
    "print(\"Final set:\", sorted(greedy_selection))\n",
    "print(len(greedy_selection))"
   ]
  },
  {
   "cell_type": "code",
   "execution_count": 8,
   "id": "6dd96477",
   "metadata": {},
   "outputs": [
    {
     "name": "stdout",
     "output_type": "stream",
     "text": [
      "Max possible cover: 968\n",
      "We will process up to 10 extra scenes\n",
      "We have 33 candidates\n",
      "Processing 1 element combinations\n"
     ]
    },
    {
     "name": "stderr",
     "output_type": "stream",
     "text": [
      "33it [00:00, 2869.95it/s]\n"
     ]
    },
    {
     "name": "stdout",
     "output_type": "stream",
     "text": [
      "Best total with 1 elements: 909. Scenes: ['grocery_store_cafe']\n",
      "Processing 2 element combinations\n"
     ]
    },
    {
     "name": "stderr",
     "output_type": "stream",
     "text": [
      "528it [00:00, 2659.99it/s]\n"
     ]
    },
    {
     "name": "stdout",
     "output_type": "stream",
     "text": [
      "Best total with 2 elements: 930. Scenes: ['Rs_garden', 'grocery_store_cafe']\n",
      "Processing 3 element combinations\n"
     ]
    },
    {
     "name": "stderr",
     "output_type": "stream",
     "text": [
      "5456it [00:02, 2671.24it/s]\n"
     ]
    },
    {
     "name": "stdout",
     "output_type": "stream",
     "text": [
      "Best total with 3 elements: 947. Scenes: ['Rs_garden', 'grocery_store_cafe', 'restaurant_brunch']\n",
      "Processing 4 element combinations\n"
     ]
    },
    {
     "name": "stderr",
     "output_type": "stream",
     "text": [
      "3324it [00:01, 2528.72it/s]\n"
     ]
    },
    {
     "ename": "KeyboardInterrupt",
     "evalue": "",
     "output_type": "error",
     "traceback": [
      "\u001b[1;31m---------------------------------------------------------------------------\u001b[0m",
      "\u001b[1;31mKeyboardInterrupt\u001b[0m                         Traceback (most recent call last)",
      "Cell \u001b[1;32mIn[8], line 38\u001b[0m\n\u001b[0;32m     35\u001b[0m             \u001b[38;5;28mprint\u001b[39m(\u001b[38;5;124m\"\u001b[39m\u001b[38;5;124mFinal set.\u001b[39m\u001b[38;5;124m\"\u001b[39m)\n\u001b[0;32m     36\u001b[0m             \u001b[38;5;28;01mreturn\u001b[39;00m\n\u001b[1;32m---> 38\u001b[0m \u001b[43mcombinatorial_search\u001b[49m\u001b[43m(\u001b[49m\u001b[43m)\u001b[49m\n",
      "Cell \u001b[1;32mIn[8], line 31\u001b[0m, in \u001b[0;36mcombinatorial_search\u001b[1;34m()\u001b[0m\n\u001b[0;32m     28\u001b[0m     \u001b[38;5;28;01mreturn\u001b[39;00m best_cover_set, best_cover\n\u001b[0;32m     30\u001b[0m \u001b[38;5;28;01mfor\u001b[39;00m extra_to_use \u001b[38;5;129;01min\u001b[39;00m \u001b[38;5;28mrange\u001b[39m(\u001b[38;5;241m1\u001b[39m, max_extra_scenes_needed \u001b[38;5;241m+\u001b[39m \u001b[38;5;241m1\u001b[39m):\n\u001b[1;32m---> 31\u001b[0m     combination, combination_cover \u001b[38;5;241m=\u001b[39m \u001b[43mcombinatorial_search_n\u001b[49m\u001b[43m(\u001b[49m\u001b[43mextra_to_use\u001b[49m\u001b[43m)\u001b[49m\n\u001b[0;32m     32\u001b[0m     \u001b[38;5;28mprint\u001b[39m(\u001b[38;5;124mf\u001b[39m\u001b[38;5;124m\"\u001b[39m\u001b[38;5;124mBest total with \u001b[39m\u001b[38;5;132;01m{\u001b[39;00mextra_to_use\u001b[38;5;132;01m}\u001b[39;00m\u001b[38;5;124m elements: \u001b[39m\u001b[38;5;132;01m{\u001b[39;00mcombination_cover\u001b[38;5;132;01m}\u001b[39;00m\u001b[38;5;124m. Scenes: \u001b[39m\u001b[38;5;132;01m{\u001b[39;00m\u001b[38;5;28msorted\u001b[39m(combination\u001b[38;5;250m \u001b[39m\u001b[38;5;241m-\u001b[39m\u001b[38;5;250m \u001b[39mstarting_set)\u001b[38;5;132;01m}\u001b[39;00m\u001b[38;5;124m\"\u001b[39m)\n\u001b[0;32m     34\u001b[0m     \u001b[38;5;28;01mif\u001b[39;00m combination_cover \u001b[38;5;241m==\u001b[39m max_cover:\n",
      "Cell \u001b[1;32mIn[8], line 19\u001b[0m, in \u001b[0;36mcombinatorial_search.<locals>.combinatorial_search_n\u001b[1;34m(extra_to_use)\u001b[0m\n\u001b[0;32m     17\u001b[0m \u001b[38;5;28;01mfor\u001b[39;00m combination_extra \u001b[38;5;129;01min\u001b[39;00m tqdm\u001b[38;5;241m.\u001b[39mtqdm(itertools\u001b[38;5;241m.\u001b[39mcombinations(extra_scene_candidates, extra_to_use)):\n\u001b[0;32m     18\u001b[0m     combination \u001b[38;5;241m=\u001b[39m starting_set \u001b[38;5;241m|\u001b[39m \u001b[38;5;28mset\u001b[39m(combination_extra)\n\u001b[1;32m---> 19\u001b[0m     combination_cover \u001b[38;5;241m=\u001b[39m \u001b[38;5;28mlen\u001b[39m(\u001b[43mcover\u001b[49m\u001b[43m(\u001b[49m\u001b[43mcombination\u001b[49m\u001b[43m)\u001b[49m)\n\u001b[0;32m     21\u001b[0m     \u001b[38;5;28;01mif\u001b[39;00m combination_cover \u001b[38;5;241m>\u001b[39m\u001b[38;5;241m=\u001b[39m best_cover:\n\u001b[0;32m     22\u001b[0m         best_cover \u001b[38;5;241m=\u001b[39m combination_cover\n",
      "Cell \u001b[1;32mIn[5], line 3\u001b[0m, in \u001b[0;36mcover\u001b[1;34m(scene_set)\u001b[0m\n\u001b[0;32m      2\u001b[0m \u001b[38;5;28;01mdef\u001b[39;00m \u001b[38;5;21mcover\u001b[39m(scene_set):\n\u001b[1;32m----> 3\u001b[0m     \u001b[38;5;28;01mreturn\u001b[39;00m [task \u001b[38;5;28;01mfor\u001b[39;00m task, task_scenes \u001b[38;5;129;01min\u001b[39;00m task_to_scenes\u001b[38;5;241m.\u001b[39mitems() \u001b[38;5;28;01mif\u001b[39;00m task_scenes \u001b[38;5;241m&\u001b[39m scene_set]\n",
      "Cell \u001b[1;32mIn[5], line 3\u001b[0m, in \u001b[0;36m<listcomp>\u001b[1;34m(.0)\u001b[0m\n\u001b[0;32m      2\u001b[0m \u001b[38;5;28;01mdef\u001b[39;00m \u001b[38;5;21mcover\u001b[39m(scene_set):\n\u001b[1;32m----> 3\u001b[0m     \u001b[38;5;28;01mreturn\u001b[39;00m [task \u001b[38;5;28;01mfor\u001b[39;00m task, task_scenes \u001b[38;5;129;01min\u001b[39;00m task_to_scenes\u001b[38;5;241m.\u001b[39mitems() \u001b[38;5;28;01mif\u001b[39;00m task_scenes \u001b[38;5;241m&\u001b[39m scene_set]\n",
      "\u001b[1;31mKeyboardInterrupt\u001b[0m: "
     ]
    }
   ],
   "source": [
    "import itertools, tqdm\n",
    "\n",
    "print(\"Max possible cover:\", max_cover)\n",
    "\n",
    "# Run a non-greedy version\n",
    "def combinatorial_search():\n",
    "    max_extra_scenes_needed = len(greedy_selection) - len(starting_set)\n",
    "    print(\"We will process up to\", max_extra_scenes_needed, \"extra scenes\")\n",
    "    extra_scene_candidates = scenes - starting_set\n",
    "    print(\"We have\", len(extra_scene_candidates), \"candidates\")\n",
    "    \n",
    "    def combinatorial_search_n(extra_to_use):\n",
    "        best_cover = 0\n",
    "        best_cover_set = set()\n",
    "        \n",
    "        print(\"Processing\", extra_to_use, \"element combinations\")\n",
    "        for combination_extra in tqdm.tqdm(itertools.combinations(extra_scene_candidates, extra_to_use)):\n",
    "            combination = starting_set | set(combination_extra)\n",
    "            combination_cover = len(cover(combination))\n",
    "\n",
    "            if combination_cover >= best_cover:\n",
    "                best_cover = combination_cover\n",
    "                best_cover_set = combination\n",
    "            \n",
    "            if combination_cover == max_cover:\n",
    "                break\n",
    "                \n",
    "        return best_cover_set, best_cover\n",
    "    \n",
    "    for extra_to_use in range(1, max_extra_scenes_needed + 1):\n",
    "        combination, combination_cover = combinatorial_search_n(extra_to_use)\n",
    "        print(f\"Best total with {extra_to_use} elements: {combination_cover}. Scenes: {sorted(combination - starting_set)}\")\n",
    "        \n",
    "        if combination_cover == max_cover:\n",
    "            print(\"Final set.\")\n",
    "            return\n",
    "            \n",
    "combinatorial_search()"
   ]
  },
  {
   "cell_type": "code",
   "execution_count": null,
   "id": "6c867d79",
   "metadata": {},
   "outputs": [],
   "source": [
    "# Pomaria-advantage\n",
    "print(len(cover(starting_set | {\"Pomaria_0_garden\"})) - len(cover(starting_set)))"
   ]
  },
  {
   "cell_type": "code",
   "execution_count": 9,
   "id": "d5bd3591",
   "metadata": {},
   "outputs": [
    {
     "data": {
      "text/plain": [
       "952"
      ]
     },
     "execution_count": 9,
     "metadata": {},
     "output_type": "execute_result"
    }
   ],
   "source": [
    "final_set = starting_set | {'Pomaria_0_garden', 'grocery_store_cafe', 'office_large', 'restaurant_brunch'}\n",
    "len(cover(final_set))"
   ]
  },
  {
   "cell_type": "code",
   "execution_count": null,
   "id": "f9b711f6",
   "metadata": {},
   "outputs": [],
   "source": [
    "print(final_set - ig_scenes)"
   ]
  },
  {
   "cell_type": "code",
   "execution_count": null,
   "id": "69d95c70",
   "metadata": {},
   "outputs": [],
   "source": []
  }
 ],
 "metadata": {
  "kernelspec": {
   "display_name": "Python 3 (ipykernel)",
   "language": "python",
   "name": "python3"
  },
  "language_info": {
   "codemirror_mode": {
    "name": "ipython",
    "version": 3
   },
   "file_extension": ".py",
   "mimetype": "text/x-python",
   "name": "python",
   "nbconvert_exporter": "python",
   "pygments_lexer": "ipython3",
   "version": "3.10.0"
  }
 },
 "nbformat": 4,
 "nbformat_minor": 5
}
