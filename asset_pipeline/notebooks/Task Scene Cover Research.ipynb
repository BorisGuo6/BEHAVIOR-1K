{
 "cells": [
  {
   "cell_type": "code",
   "execution_count": 1,
   "id": "317a177e",
   "metadata": {},
   "outputs": [
    {
     "name": "stderr",
     "output_type": "stream",
     "text": [
      "Loading BDDL knowledge base... This may take a few seconds.\n",
      "[nltk_data] Downloading package wordnet to\n",
      "[nltk_data]     C:\\Users\\cgokmen\\AppData\\Roaming\\nltk_data...\n",
      "[nltk_data]   Package wordnet is already up-to-date!\n",
      "Complained object azqqwx does not exist in the database. Skipping.\n",
      "Complained object ntmrkt does not exist in the database. Skipping.\n",
      "Complained object aginyz does not exist in the database. Skipping.\n",
      "Complained object bjyvil does not exist in the database. Skipping.\n",
      "Complained object yzplpe does not exist in the database. Skipping.\n",
      "Complained object asjalm does not exist in the database. Skipping.\n"
     ]
    }
   ],
   "source": [
    "from bddl.knowledge_base import *"
   ]
  },
  {
   "cell_type": "code",
   "execution_count": 2,
   "id": "b407cccf",
   "metadata": {},
   "outputs": [
    {
     "name": "stdout",
     "output_type": "stream",
     "text": [
      "setting_the_fire-0\n",
      "wash_dog_toys-0 uses cloth {Synset(name='rag.n.01')}\n",
      "wash_goalkeeper_gloves-0 uses cloth {Synset(name='hand_towel.n.01')}\n",
      "104 tasks\n"
     ]
    }
   ],
   "source": [
    "tasks = Task.view_challenge()\n",
    "for task in tasks:\n",
    "    # print(task.name, [s.name for s in task.matched_scenes])\n",
    "    if not task.matched_scenes:\n",
    "        print(task.name)\n",
    "    if task.uses_cloth:\n",
    "        print(task.name, \"uses cloth\", {x for x in task.synsets if \"cloth\" in x.property_names})\n",
    "print(len(tasks), \"tasks\")"
   ]
  },
  {
   "cell_type": "code",
   "execution_count": 3,
   "id": "d5ec10a6",
   "metadata": {},
   "outputs": [],
   "source": [
    "# Starting pick\n",
    "ig_scenes = {x for x in Scene.all_objects() if x.name.endswith(\"_int\")}\n",
    "starting_set = {Scene.get(x) for x in {   # ig_scenes | {\n",
    "    \"house_single_floor\",\n",
    "    \"house_double_floor_lower\",\n",
    "    \"Beechwood_0_garden\",\n",
    "    \"Rs_garden\",\n",
    "}}"
   ]
  },
  {
   "cell_type": "code",
   "execution_count": 10,
   "id": "237feb50",
   "metadata": {},
   "outputs": [],
   "source": [
    "import random\n",
    "\n",
    "OFFSETS = {Scene.get(k): v for k, v in {\n",
    "    \"house_single_floor\": -30,  # encourage hsf\n",
    "    \"house_double_floor_upper\": -100,  # encourage upper\n",
    "    \"Beechwood_0_garden\": 5,  # discourage beechwood\n",
    "    \"Rs_garden\": 5,  # discourage beechwood\n",
    "}.items()}\n",
    "def assign_activities_balanced(scene_set, dont_assign=None):\n",
    "    # 2. Initialize assignment and location loads\n",
    "    assignment = {}\n",
    "    location_load = {scene: 0 for scene in scene_set}\n",
    "    location_load[None] = 0  # For unassigned tasks\n",
    "\n",
    "    # Add a negative count to house single floor to increase its count\n",
    "    for sc, offset in OFFSETS.items():\n",
    "        if sc not in location_load:\n",
    "            continue\n",
    "        location_load[sc] += offset\n",
    "\n",
    "    # 3. Shuffle activities to avoid bias from input order (optional but recommended)\n",
    "    task_set = list(tasks)\n",
    "    random.shuffle(task_set)\n",
    "\n",
    "    # 4. Greedy assignment process\n",
    "    for task in task_set:\n",
    "        possible_locations = set(task.matched_scenes) & scene_set\n",
    "\n",
    "        if dont_assign and task in dont_assign:\n",
    "            possible_locations = possible_locations - {dont_assign[task]}\n",
    "        \n",
    "        possible_locations = list(possible_locations)\n",
    "\n",
    "        if not possible_locations:\n",
    "            assignment[task] = None\n",
    "            location_load[None] += 1\n",
    "            continue\n",
    "\n",
    "        # Find minimum load and randomly choose among ties\n",
    "        min_load = min(location_load[loc] for loc in possible_locations)\n",
    "        best_options = [loc for loc in possible_locations if location_load[loc] == min_load]\n",
    "        chosen_location = random.choice(best_options)\n",
    "\n",
    "        # Assign and update load\n",
    "        assignment[task] = chosen_location\n",
    "        location_load[chosen_location] += 1\n",
    "\n",
    "    for sc, offset in OFFSETS.items():\n",
    "        if sc not in location_load:\n",
    "            continue\n",
    "        location_load[sc] -= offset\n",
    "\n",
    "    total_load = sum(location_load.values())\n",
    "    assert total_load == len(tasks), \"Total load mismatch: expected {}, got {}\".format(len(tasks), total_load)\n",
    "    return assignment, location_load"
   ]
  },
  {
   "cell_type": "code",
   "execution_count": 11,
   "id": "efe10514",
   "metadata": {},
   "outputs": [
    {
     "name": "stdout",
     "output_type": "stream",
     "text": [
      "95\n",
      "{Scene(name='Rs_garden'): 14, Scene(name='house_single_floor'): 49, Scene(name='house_double_floor_lower'): 18, Scene(name='Beechwood_0_garden'): 14, None: 9}\n"
     ]
    }
   ],
   "source": [
    "# What activities do these scenes cover?\n",
    "def cover(scene_set):\n",
    "    return {task for task in tasks if set(task.matched_scenes) & scene_set}\n",
    "\n",
    "print(len(cover(starting_set)))\n",
    "assignment, counts = assign_activities_balanced(starting_set)\n",
    "print(counts)"
   ]
  },
  {
   "cell_type": "code",
   "execution_count": 14,
   "id": "cb3b9408",
   "metadata": {},
   "outputs": [
    {
     "name": "stdout",
     "output_type": "stream",
     "text": [
      "https://behavior.stanford.edu/knowledgebase/tasks/taking_fish_out_of_freezer-0/index.html\n",
      "https://behavior.stanford.edu/knowledgebase/tasks/carrying_in_groceries-0/index.html\n",
      "https://behavior.stanford.edu/knowledgebase/tasks/turning_off_the_hot_tub-0/index.html\n",
      "https://behavior.stanford.edu/knowledgebase/tasks/buying_fast_food-0/index.html\n",
      "https://behavior.stanford.edu/knowledgebase/tasks/bag_groceries-0/index.html\n",
      "https://behavior.stanford.edu/knowledgebase/tasks/watering_outdoor_flowers-0/index.html\n",
      "https://behavior.stanford.edu/knowledgebase/tasks/hanging_pictures-0/index.html\n",
      "https://behavior.stanford.edu/knowledgebase/tasks/setting_the_fire-0/index.html\n",
      "https://behavior.stanford.edu/knowledgebase/tasks/turn_off_a_normal_school_calculator-0/index.html\n"
     ]
    }
   ],
   "source": [
    "for t, s in assignment.items():\n",
    "    if s is not None:\n",
    "        continue\n",
    "    print(f\"https://behavior.stanford.edu/knowledgebase/tasks/{t}/index.html\")"
   ]
  },
  {
   "cell_type": "code",
   "execution_count": 13,
   "id": "4363f9c1",
   "metadata": {},
   "outputs": [
    {
     "name": "stdout",
     "output_type": "stream",
     "text": [
      "{Scene(name='Rs_garden'): 14, Scene(name='house_single_floor'): 34, Scene(name='house_double_floor_lower'): 18, Scene(name='Beechwood_0_garden'): 18, None: 20}\n"
     ]
    }
   ],
   "source": [
    "# Do a second round to assign a second scene to each task. Don't use the first scene assigned to each task.\n",
    "assignment2, counts2 = assign_activities_balanced(starting_set, dont_assign=assignment)\n",
    "print(counts2)"
   ]
  },
  {
   "cell_type": "code",
   "execution_count": null,
   "id": "42a1c0e9",
   "metadata": {},
   "outputs": [],
   "source": [
    "# Greedy algorithm step\n",
    "def next_pick(scene_set):\n",
    "    candidates = set(Scene.all_objects()) - scene_set\n",
    "    current_cover = cover(scene_set)\n",
    "    advantages = {x: cover(scene_set | {x}) - current_cover for x in candidates}\n",
    "    return dict(sorted(advantages.items(), key=lambda x: -len(x[1])))\n",
    "{k: len(v) for k, v in next_pick(starting_set).items()}"
   ]
  },
  {
   "cell_type": "code",
   "execution_count": null,
   "id": "b1d31901",
   "metadata": {},
   "outputs": [],
   "source": [
    "# Run the greedy algorithm\n",
    "max_cover = len(cover(scenes))\n",
    "greedy_selection = set(starting_set)\n",
    "while len(cover(greedy_selection)) < max_cover:\n",
    "    pick = next_pick(greedy_selection)\n",
    "    print(\"Adding\", pick)\n",
    "    greedy_selection.add(pick[0])\n",
    "print(\"Final set:\", sorted(greedy_selection))\n",
    "print(len(greedy_selection))"
   ]
  },
  {
   "cell_type": "code",
   "execution_count": null,
   "id": "6dd96477",
   "metadata": {},
   "outputs": [],
   "source": [
    "import itertools, tqdm\n",
    "\n",
    "print(\"Max possible cover:\", max_cover)\n",
    "\n",
    "# Run a non-greedy version\n",
    "def combinatorial_search():\n",
    "    max_extra_scenes_needed = len(greedy_selection) - len(starting_set)\n",
    "    print(\"We will process up to\", max_extra_scenes_needed, \"extra scenes\")\n",
    "    extra_scene_candidates = scenes - starting_set\n",
    "    print(\"We have\", len(extra_scene_candidates), \"candidates\")\n",
    "    \n",
    "    def combinatorial_search_n(extra_to_use):\n",
    "        best_cover = 0\n",
    "        best_cover_set = set()\n",
    "        \n",
    "        print(\"Processing\", extra_to_use, \"element combinations\")\n",
    "        for combination_extra in tqdm.tqdm(itertools.combinations(extra_scene_candidates, extra_to_use)):\n",
    "            combination = starting_set | set(combination_extra)\n",
    "            combination_cover = len(cover(combination))\n",
    "\n",
    "            if combination_cover >= best_cover:\n",
    "                best_cover = combination_cover\n",
    "                best_cover_set = combination\n",
    "            \n",
    "            if combination_cover == max_cover:\n",
    "                break\n",
    "                \n",
    "        return best_cover_set, best_cover\n",
    "    \n",
    "    for extra_to_use in range(1, max_extra_scenes_needed + 1):\n",
    "        combination, combination_cover = combinatorial_search_n(extra_to_use)\n",
    "        print(f\"Best total with {extra_to_use} elements: {combination_cover}. Scenes: {sorted(combination - starting_set)}\")\n",
    "        \n",
    "        if combination_cover == max_cover:\n",
    "            print(\"Final set.\")\n",
    "            return\n",
    "            \n",
    "combinatorial_search()"
   ]
  },
  {
   "cell_type": "code",
   "execution_count": null,
   "id": "6c867d79",
   "metadata": {},
   "outputs": [],
   "source": [
    "# Pomaria-advantage\n",
    "print(len(cover(starting_set | {\"Pomaria_0_garden\"})) - len(cover(starting_set)))"
   ]
  },
  {
   "cell_type": "code",
   "execution_count": null,
   "id": "d5bd3591",
   "metadata": {},
   "outputs": [],
   "source": [
    "final_set = starting_set | {'Pomaria_0_garden', 'grocery_store_cafe', 'office_large', 'restaurant_brunch'}\n",
    "len(cover(final_set))"
   ]
  },
  {
   "cell_type": "code",
   "execution_count": null,
   "id": "f9b711f6",
   "metadata": {},
   "outputs": [],
   "source": [
    "print(final_set - ig_scenes)"
   ]
  },
  {
   "cell_type": "code",
   "execution_count": null,
   "id": "69d95c70",
   "metadata": {},
   "outputs": [],
   "source": []
  }
 ],
 "metadata": {
  "kernelspec": {
   "display_name": "pipeline",
   "language": "python",
   "name": "python3"
  },
  "language_info": {
   "codemirror_mode": {
    "name": "ipython",
    "version": 3
   },
   "file_extension": ".py",
   "mimetype": "text/x-python",
   "name": "python",
   "nbconvert_exporter": "python",
   "pygments_lexer": "ipython3",
   "version": "3.10.0"
  }
 },
 "nbformat": 4,
 "nbformat_minor": 5
}
