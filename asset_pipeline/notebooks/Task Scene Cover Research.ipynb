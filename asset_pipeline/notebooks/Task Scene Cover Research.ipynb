{
 "cells": [
  {
   "cell_type": "code",
   "execution_count": 1,
   "id": "6297fb84",
   "metadata": {},
   "outputs": [],
   "source": [
    "import csv\n",
    "task_to_scenes = {}\n",
    "with open(r\"C:\\Users\\Cem\\Downloads\\b1k-tasks.csv\", \"r\") as f:\n",
    "    for row in csv.DictReader(f):\n",
    "        scene_list_str = row[\"Matched Planned Scenes\"].replace(\" \", \"\").replace(\"\\n\", \"\").strip()\n",
    "        task_scenes = scene_list_str.split(\",\")\n",
    "        task_to_scenes[row[\"Task Name\"]] = {x for x in task_scenes if x}"
   ]
  },
  {
   "cell_type": "code",
   "execution_count": 2,
   "id": "317a177e",
   "metadata": {},
   "outputs": [
    {
     "data": {
      "text/plain": [
       "1025"
      ]
     },
     "execution_count": 2,
     "metadata": {},
     "output_type": "execute_result"
    }
   ],
   "source": [
    "len(task_to_scenes)"
   ]
  },
  {
   "cell_type": "code",
   "execution_count": 3,
   "id": "b407cccf",
   "metadata": {},
   "outputs": [
    {
     "name": "stdout",
     "output_type": "stream",
     "text": [
      "{'gates_bedroom', 'Beechwood_0_garden', 'grocery_store_cafe', 'Pomaria_0_garden', 'restaurant_asian', 'grocery_store_asian', 'office_bike', 'house_double_floor_lower', 'office_vendor_machine', 'hall_arch_wood', 'school_chemistry', 'hotel_suite_small', 'office_cubicles_left', 'house_double_floor_upper', 'Merom_0_int', 'Wainscott_1_int', 'Merom_0_garden', 'hotel_gym_spa', 'house_single_floor', 'restaurant_brunch', 'Ihlen_1_int', 'Wainscott_0_garden', 'grocery_store_convenience', 'hall_conference_large', 'hotel_suite_large', 'Merom_1_int', 'Wainscott_0_int', 'Rs_int', 'restaurant_diner', 'office_large', 'restaurant_cafeteria', 'restaurant_urban', 'Rs_garden', 'hall_glass_ceiling', 'Benevolence_0_int', 'Beechwood_1_int', 'Benevolence_1_int', 'Ihlen_0_int', 'hall_train_station', 'office_cubicles_right', 'Pomaria_0_int', 'Pomaria_2_int', 'grocery_store_half_stocked', 'school_biology', 'school_computer_lab_and_infirmary', 'restaurant_hotel', 'school_geography', 'Beechwood_0_int', 'Benevolence_2_int', 'Pomaria_1_int', 'school_gym'}\n"
     ]
    }
   ],
   "source": [
    "scenes = {scene for task_scenes in task_to_scenes.values() for scene in task_scenes}\n",
    "print(scenes)"
   ]
  },
  {
   "cell_type": "code",
   "execution_count": 4,
   "id": "d5ec10a6",
   "metadata": {},
   "outputs": [],
   "source": [
    "# Starting pick\n",
    "ig_scenes = {x for x in scenes if x.endswith(\"_int\")}\n",
    "starting_set = ig_scenes | {\n",
    "    \"house_single_floor\",\n",
    "    \"house_double_floor_lower\",\n",
    "    \"house_double_floor_upper\",\n",
    "}"
   ]
  },
  {
   "cell_type": "code",
   "execution_count": 5,
   "id": "efe10514",
   "metadata": {},
   "outputs": [
    {
     "data": {
      "text/plain": [
       "918"
      ]
     },
     "execution_count": 5,
     "metadata": {},
     "output_type": "execute_result"
    }
   ],
   "source": [
    "# What activities do these scenes cover?\n",
    "def cover(scene_set):\n",
    "    return [task for task, task_scenes in task_to_scenes.items() if task_scenes & scene_set]\n",
    "\n",
    "len(cover(starting_set))"
   ]
  },
  {
   "cell_type": "code",
   "execution_count": 6,
   "id": "42a1c0e9",
   "metadata": {},
   "outputs": [
    {
     "data": {
      "text/plain": [
       "('grocery_store_cafe', 41)"
      ]
     },
     "execution_count": 6,
     "metadata": {},
     "output_type": "execute_result"
    }
   ],
   "source": [
    "# Greedy algorithm step\n",
    "def next_pick(scene_set):\n",
    "    candidates = scenes - scene_set\n",
    "    current_cover = len(cover(scene_set))\n",
    "    advantages = {x: len(cover(scene_set | {x})) - current_cover for x in candidates}\n",
    "    # print(sorted(advantages.items(), key=lambda x: x[1]))\n",
    "    return max(advantages.items(), key=lambda x: x[1])\n",
    "next_pick(starting_set)"
   ]
  },
  {
   "cell_type": "code",
   "execution_count": 7,
   "id": "b1d31901",
   "metadata": {},
   "outputs": [
    {
     "name": "stdout",
     "output_type": "stream",
     "text": [
      "Adding ('grocery_store_cafe', 41)\n",
      "Adding ('restaurant_brunch', 10)\n",
      "Adding ('office_large', 9)\n",
      "Adding ('Pomaria_0_garden', 6)\n",
      "Adding ('school_geography', 4)\n",
      "Adding ('hotel_gym_spa', 3)\n",
      "Adding ('grocery_store_asian', 1)\n",
      "Adding ('Wainscott_0_garden', 1)\n",
      "Adding ('school_computer_lab_and_infirmary', 1)\n",
      "Final set: ['Beechwood_0_int', 'Beechwood_1_int', 'Benevolence_0_int', 'Benevolence_1_int', 'Benevolence_2_int', 'Ihlen_0_int', 'Ihlen_1_int', 'Merom_0_int', 'Merom_1_int', 'Pomaria_0_garden', 'Pomaria_0_int', 'Pomaria_1_int', 'Pomaria_2_int', 'Rs_int', 'Wainscott_0_garden', 'Wainscott_0_int', 'Wainscott_1_int', 'grocery_store_asian', 'grocery_store_cafe', 'hotel_gym_spa', 'house_double_floor_lower', 'house_double_floor_upper', 'house_single_floor', 'office_large', 'restaurant_brunch', 'school_computer_lab_and_infirmary', 'school_geography']\n",
      "27\n"
     ]
    }
   ],
   "source": [
    "# Run the greedy algorithm\n",
    "max_cover = len(cover(scenes))\n",
    "greedy_selection = set(starting_set)\n",
    "while len(cover(greedy_selection)) < max_cover:\n",
    "    pick = next_pick(greedy_selection)\n",
    "    print(\"Adding\", pick)\n",
    "    greedy_selection.add(pick[0])\n",
    "print(\"Final set:\", sorted(greedy_selection))\n",
    "print(len(greedy_selection))"
   ]
  },
  {
   "cell_type": "code",
   "execution_count": 8,
   "id": "6dd96477",
   "metadata": {},
   "outputs": [
    {
     "name": "stdout",
     "output_type": "stream",
     "text": [
      "Max possible cover: 994\n",
      "We will process up to 9 extra scenes\n",
      "We have 33 candidates\n",
      "Processing 1 element combinations\n"
     ]
    },
    {
     "name": "stderr",
     "output_type": "stream",
     "text": [
      "33it [00:00, 1834.71it/s]\n"
     ]
    },
    {
     "name": "stdout",
     "output_type": "stream",
     "text": [
      "Best total with 1 elements: 959. Scenes: ['grocery_store_cafe']\n",
      "Processing 2 element combinations\n"
     ]
    },
    {
     "name": "stderr",
     "output_type": "stream",
     "text": [
      "528it [00:00, 2535.24it/s]\n"
     ]
    },
    {
     "name": "stdout",
     "output_type": "stream",
     "text": [
      "Best total with 2 elements: 969. Scenes: ['grocery_store_cafe', 'restaurant_brunch']\n",
      "Processing 3 element combinations\n"
     ]
    },
    {
     "name": "stderr",
     "output_type": "stream",
     "text": [
      "5456it [00:02, 2474.34it/s]\n"
     ]
    },
    {
     "name": "stdout",
     "output_type": "stream",
     "text": [
      "Best total with 3 elements: 978. Scenes: ['grocery_store_cafe', 'office_large', 'restaurant_brunch']\n",
      "Processing 4 element combinations\n"
     ]
    },
    {
     "name": "stderr",
     "output_type": "stream",
     "text": [
      "40920it [00:15, 2570.84it/s]\n"
     ]
    },
    {
     "name": "stdout",
     "output_type": "stream",
     "text": [
      "Best total with 4 elements: 984. Scenes: ['Pomaria_0_garden', 'grocery_store_cafe', 'office_large', 'restaurant_brunch']\n",
      "Processing 5 element combinations\n"
     ]
    },
    {
     "name": "stderr",
     "output_type": "stream",
     "text": [
      "237336it [01:32, 2577.99it/s]\n"
     ]
    },
    {
     "name": "stdout",
     "output_type": "stream",
     "text": [
      "Best total with 5 elements: 988. Scenes: ['Pomaria_0_garden', 'grocery_store_cafe', 'office_large', 'restaurant_brunch', 'school_geography']\n",
      "Processing 6 element combinations\n"
     ]
    },
    {
     "name": "stderr",
     "output_type": "stream",
     "text": [
      "1000752it [06:31, 2553.48it/s]\n"
     ]
    },
    {
     "ename": "KeyboardInterrupt",
     "evalue": "",
     "output_type": "error",
     "traceback": [
      "\u001b[1;31m---------------------------------------------------------------------------\u001b[0m",
      "\u001b[1;31mKeyboardInterrupt\u001b[0m                         Traceback (most recent call last)",
      "Input \u001b[1;32mIn [8]\u001b[0m, in \u001b[0;36m<cell line: 38>\u001b[1;34m()\u001b[0m\n\u001b[0;32m     35\u001b[0m             \u001b[38;5;28mprint\u001b[39m(\u001b[38;5;124m\"\u001b[39m\u001b[38;5;124mFinal set.\u001b[39m\u001b[38;5;124m\"\u001b[39m)\n\u001b[0;32m     36\u001b[0m             \u001b[38;5;28;01mreturn\u001b[39;00m\n\u001b[1;32m---> 38\u001b[0m \u001b[43mcombinatorial_search\u001b[49m\u001b[43m(\u001b[49m\u001b[43m)\u001b[49m\n",
      "Input \u001b[1;32mIn [8]\u001b[0m, in \u001b[0;36mcombinatorial_search\u001b[1;34m()\u001b[0m\n\u001b[0;32m     28\u001b[0m     \u001b[38;5;28;01mreturn\u001b[39;00m best_cover_set, best_cover\n\u001b[0;32m     30\u001b[0m \u001b[38;5;28;01mfor\u001b[39;00m extra_to_use \u001b[38;5;129;01min\u001b[39;00m \u001b[38;5;28mrange\u001b[39m(\u001b[38;5;241m1\u001b[39m, max_extra_scenes_needed \u001b[38;5;241m+\u001b[39m \u001b[38;5;241m1\u001b[39m):\n\u001b[1;32m---> 31\u001b[0m     combination, combination_cover \u001b[38;5;241m=\u001b[39m \u001b[43mcombinatorial_search_n\u001b[49m\u001b[43m(\u001b[49m\u001b[43mextra_to_use\u001b[49m\u001b[43m)\u001b[49m\n\u001b[0;32m     32\u001b[0m     \u001b[38;5;28mprint\u001b[39m(\u001b[38;5;124mf\u001b[39m\u001b[38;5;124m\"\u001b[39m\u001b[38;5;124mBest total with \u001b[39m\u001b[38;5;132;01m{\u001b[39;00mextra_to_use\u001b[38;5;132;01m}\u001b[39;00m\u001b[38;5;124m elements: \u001b[39m\u001b[38;5;132;01m{\u001b[39;00mcombination_cover\u001b[38;5;132;01m}\u001b[39;00m\u001b[38;5;124m. Scenes: \u001b[39m\u001b[38;5;132;01m{\u001b[39;00m\u001b[38;5;28msorted\u001b[39m(combination \u001b[38;5;241m-\u001b[39m starting_set)\u001b[38;5;132;01m}\u001b[39;00m\u001b[38;5;124m\"\u001b[39m)\n\u001b[0;32m     34\u001b[0m     \u001b[38;5;28;01mif\u001b[39;00m combination_cover \u001b[38;5;241m==\u001b[39m max_cover:\n",
      "Input \u001b[1;32mIn [8]\u001b[0m, in \u001b[0;36mcombinatorial_search.<locals>.combinatorial_search_n\u001b[1;34m(extra_to_use)\u001b[0m\n\u001b[0;32m     17\u001b[0m \u001b[38;5;28;01mfor\u001b[39;00m combination_extra \u001b[38;5;129;01min\u001b[39;00m tqdm\u001b[38;5;241m.\u001b[39mtqdm(itertools\u001b[38;5;241m.\u001b[39mcombinations(extra_scene_candidates, extra_to_use)):\n\u001b[0;32m     18\u001b[0m     combination \u001b[38;5;241m=\u001b[39m starting_set \u001b[38;5;241m|\u001b[39m \u001b[38;5;28mset\u001b[39m(combination_extra)\n\u001b[1;32m---> 19\u001b[0m     combination_cover \u001b[38;5;241m=\u001b[39m \u001b[38;5;28mlen\u001b[39m(\u001b[43mcover\u001b[49m\u001b[43m(\u001b[49m\u001b[43mcombination\u001b[49m\u001b[43m)\u001b[49m)\n\u001b[0;32m     21\u001b[0m     \u001b[38;5;28;01mif\u001b[39;00m combination_cover \u001b[38;5;241m>\u001b[39m\u001b[38;5;241m=\u001b[39m best_cover:\n\u001b[0;32m     22\u001b[0m         best_cover \u001b[38;5;241m=\u001b[39m combination_cover\n",
      "Input \u001b[1;32mIn [5]\u001b[0m, in \u001b[0;36mcover\u001b[1;34m(scene_set)\u001b[0m\n\u001b[0;32m      2\u001b[0m \u001b[38;5;28;01mdef\u001b[39;00m \u001b[38;5;21mcover\u001b[39m(scene_set):\n\u001b[1;32m----> 3\u001b[0m     \u001b[38;5;28;01mreturn\u001b[39;00m [task \u001b[38;5;28;01mfor\u001b[39;00m task, task_scenes \u001b[38;5;129;01min\u001b[39;00m task_to_scenes\u001b[38;5;241m.\u001b[39mitems() \u001b[38;5;28;01mif\u001b[39;00m task_scenes \u001b[38;5;241m&\u001b[39m scene_set]\n",
      "Input \u001b[1;32mIn [5]\u001b[0m, in \u001b[0;36m<listcomp>\u001b[1;34m(.0)\u001b[0m\n\u001b[0;32m      2\u001b[0m \u001b[38;5;28;01mdef\u001b[39;00m \u001b[38;5;21mcover\u001b[39m(scene_set):\n\u001b[1;32m----> 3\u001b[0m     \u001b[38;5;28;01mreturn\u001b[39;00m [task \u001b[38;5;28;01mfor\u001b[39;00m task, task_scenes \u001b[38;5;129;01min\u001b[39;00m task_to_scenes\u001b[38;5;241m.\u001b[39mitems() \u001b[38;5;28;01mif\u001b[39;00m task_scenes \u001b[38;5;241m&\u001b[39m scene_set]\n",
      "\u001b[1;31mKeyboardInterrupt\u001b[0m: "
     ]
    }
   ],
   "source": [
    "import itertools, tqdm\n",
    "\n",
    "print(\"Max possible cover:\", max_cover)\n",
    "\n",
    "# Run a non-greedy version\n",
    "def combinatorial_search():\n",
    "    max_extra_scenes_needed = len(greedy_selection) - len(starting_set)\n",
    "    print(\"We will process up to\", max_extra_scenes_needed, \"extra scenes\")\n",
    "    extra_scene_candidates = scenes - starting_set\n",
    "    print(\"We have\", len(extra_scene_candidates), \"candidates\")\n",
    "    \n",
    "    def combinatorial_search_n(extra_to_use):\n",
    "        best_cover = 0\n",
    "        best_cover_set = set()\n",
    "        \n",
    "        print(\"Processing\", extra_to_use, \"element combinations\")\n",
    "        for combination_extra in tqdm.tqdm(itertools.combinations(extra_scene_candidates, extra_to_use)):\n",
    "            combination = starting_set | set(combination_extra)\n",
    "            combination_cover = len(cover(combination))\n",
    "\n",
    "            if combination_cover >= best_cover:\n",
    "                best_cover = combination_cover\n",
    "                best_cover_set = combination\n",
    "            \n",
    "            if combination_cover == max_cover:\n",
    "                break\n",
    "                \n",
    "        return best_cover_set, best_cover\n",
    "    \n",
    "    for extra_to_use in range(1, max_extra_scenes_needed + 1):\n",
    "        combination, combination_cover = combinatorial_search_n(extra_to_use)\n",
    "        print(f\"Best total with {extra_to_use} elements: {combination_cover}. Scenes: {sorted(combination - starting_set)}\")\n",
    "        \n",
    "        if combination_cover == max_cover:\n",
    "            print(\"Final set.\")\n",
    "            return\n",
    "            \n",
    "combinatorial_search()"
   ]
  },
  {
   "cell_type": "code",
   "execution_count": 10,
   "id": "6c867d79",
   "metadata": {},
   "outputs": [
    {
     "name": "stdout",
     "output_type": "stream",
     "text": [
      "6\n"
     ]
    }
   ],
   "source": [
    "# Pomaria-advantage\n",
    "print(len(cover(starting_set | {\"Pomaria_0_garden\"})) - len(cover(starting_set)))"
   ]
  },
  {
   "cell_type": "code",
   "execution_count": 11,
   "id": "d5bd3591",
   "metadata": {},
   "outputs": [
    {
     "data": {
      "text/plain": [
       "984"
      ]
     },
     "execution_count": 11,
     "metadata": {},
     "output_type": "execute_result"
    }
   ],
   "source": [
    "final_set = starting_set | {'Pomaria_0_garden', 'grocery_store_cafe', 'office_large', 'restaurant_brunch'}\n",
    "len(cover(final_set))"
   ]
  },
  {
   "cell_type": "code",
   "execution_count": 12,
   "id": "f9b711f6",
   "metadata": {},
   "outputs": [
    {
     "name": "stdout",
     "output_type": "stream",
     "text": [
      "{'house_single_floor', 'restaurant_brunch', 'house_double_floor_upper', 'grocery_store_cafe', 'Pomaria_0_garden', 'house_double_floor_lower', 'office_large'}\n"
     ]
    }
   ],
   "source": [
    "print(final_set - ig_scenes)"
   ]
  },
  {
   "cell_type": "code",
   "execution_count": null,
   "id": "69d95c70",
   "metadata": {},
   "outputs": [],
   "source": []
  }
 ],
 "metadata": {
  "kernelspec": {
   "display_name": "Python 3 (ipykernel)",
   "language": "python",
   "name": "python3"
  },
  "language_info": {
   "codemirror_mode": {
    "name": "ipython",
    "version": 3
   },
   "file_extension": ".py",
   "mimetype": "text/x-python",
   "name": "python",
   "nbconvert_exporter": "python",
   "pygments_lexer": "ipython3",
   "version": "3.8.0"
  }
 },
 "nbformat": 4,
 "nbformat_minor": 5
}
