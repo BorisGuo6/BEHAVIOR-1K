{
 "cells": [
  {
   "cell_type": "code",
   "execution_count": 1,
   "metadata": {},
   "outputs": [
    {
     "name": "stdout",
     "output_type": "stream",
     "text": [
      "Error processing D:\\ig_pipeline\\qa-2025\\qa-2025-hang\\shelf\\kxvbui.json\n"
     ]
    }
   ],
   "source": [
    "import json, pathlib\n",
    "from collections import defaultdict\n",
    "\n",
    "NEW_COMPLAINT_TYPES = {\n",
    "    \"category\",\n",
    "    \"appearance\",\n",
    "    \"handle\",\n",
    "    \"collision\",\n",
    "    \"joint\",\n",
    "    \"metalink\",\n",
    "    \"unknown\",\n",
    "}\n",
    "\n",
    "complaints_by_model = defaultdict(list)\n",
    "complaints_by_type = defaultdict(list)\n",
    "for path in pathlib.Path(r\"D:\\ig_pipeline\").glob(\"qa-2025/*/*/*.json\"):\n",
    "    try:\n",
    "        batch = path.parts[-3]\n",
    "        mdl = path.stem\n",
    "        complaints = json.loads(path.read_text())[\"complaints\"]\n",
    "\n",
    "        # Update all of the QC: complaints to match the author's batch\n",
    "        for c in complaints:\n",
    "            c_question = c[\"message\"]\n",
    "            if c_question.startswith(\"QC: \"):\n",
    "                c[\"complaint\"] = f\"quick complaint added during qa-2025 batch {batch}\"\n",
    "\n",
    "        unresolved_complaints = [x for x in complaints if not x[\"processed\"]]\n",
    "        complaints_by_model[mdl].extend(unresolved_complaints)\n",
    "\n",
    "        for c in unresolved_complaints:\n",
    "            c_question = c[\"message\"]\n",
    "            if c_question.startswith(\"QC: \"):\n",
    "                c_type = c_question[4:]\n",
    "                assert c_type in NEW_COMPLAINT_TYPES\n",
    "            else:\n",
    "                c_type = \"legacy\"\n",
    "            complaints_by_type[c_type].append(c)\n",
    "    except:\n",
    "        print(f\"Error processing {path}\")"
   ]
  },
  {
   "cell_type": "code",
   "execution_count": 12,
   "metadata": {},
   "outputs": [
    {
     "name": "stdout",
     "output_type": "stream",
     "text": [
      "2055\n"
     ]
    }
   ],
   "source": [
    "complained_objects = [x for x in complaints_by_model if len(complaints_by_model[x]) > 0]\n",
    "print(len(complained_objects))"
   ]
  },
  {
   "cell_type": "code",
   "execution_count": 13,
   "metadata": {},
   "outputs": [
    {
     "name": "stdout",
     "output_type": "stream",
     "text": [
      "{'appearance': 773, 'metalink': 222, 'collision': 753, 'joint': 42, 'legacy': 346, 'category': 260, 'unknown': 77, 'handle': 63}\n"
     ]
    }
   ],
   "source": [
    "print({k: len(v) for k, v in complaints_by_type.items()})"
   ]
  },
  {
   "cell_type": "code",
   "execution_count": null,
   "metadata": {},
   "outputs": [],
   "source": []
  }
 ],
 "metadata": {
  "language_info": {
   "name": "python"
  }
 },
 "nbformat": 4,
 "nbformat_minor": 2
}
