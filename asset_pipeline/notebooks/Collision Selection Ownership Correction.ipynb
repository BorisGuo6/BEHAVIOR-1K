{
 "cells": [
  {
   "cell_type": "code",
   "execution_count": 13,
   "id": "87447626",
   "metadata": {},
   "outputs": [],
   "source": [
    "import json, glob, sys\n",
    "\n",
    "sys.path.append(r\"D:\\ig_pipeline\")\n",
    "\n",
    "from b1k_pipeline.utils import get_targets, PIPELINE_ROOT, parse_name"
   ]
  },
  {
   "cell_type": "code",
   "execution_count": null,
   "id": "31d76a41",
   "metadata": {},
   "outputs": [],
   "source": [
    "lists = {}\n",
    "selections = {}\n",
    "\n",
    "for target in get_targets(\"combined\"):\n",
    "    lists[target] = json.loads((PIPELINE_ROOT / \"cad\" / target / \"artifacts\" / \"object_list.json\").read_text())[\"provided_objects\"]\n",
    "    path = PIPELINE_ROOT / \"cad\" / target / \"artifacts\" / \"collision_selection.json\"\n",
    "    if path.exists():\n",
    "        selections[target] = json.loads(path.read_text())\n",
    "    else:\n",
    "        selections[target] = {}"
   ]
  },
  {
   "cell_type": "code",
   "execution_count": 15,
   "id": "9477bae5",
   "metadata": {},
   "outputs": [],
   "source": [
    "# Now move everything over\n",
    "for tgt, objl in lists.items():\n",
    "    for obj in objl:\n",
    "        for tgt2, sels in selections.items():\n",
    "            if tgt == tgt2:\n",
    "                continue\n",
    "                \n",
    "            del_sel = []\n",
    "            for obj2, sel in sels.items():\n",
    "                if not parse_name(obj2).group(\"model_id\") == obj.split(\"-\")[-1]:\n",
    "                    continue\n",
    "                del_sel.append(obj2)\n",
    "                selections[tgt][obj2] = sel\n",
    "                \n",
    "            for x in del_sel:\n",
    "                del selections[tgt2][x]"
   ]
  },
  {
   "cell_type": "code",
   "execution_count": null,
   "id": "a0bdbf4a",
   "metadata": {},
   "outputs": [],
   "source": [
    "for target in get_targets(\"combined\"):\n",
    "    path = PIPELINE_ROOT / \"cad\" / target / \"artifacts\" / \"collision_selection.json\"\n",
    "    path.write_text(json.dumps(selections[target], indent=4))"
   ]
  },
  {
   "cell_type": "code",
   "execution_count": null,
   "id": "2d856ce3",
   "metadata": {},
   "outputs": [],
   "source": []
  }
 ],
 "metadata": {
  "kernelspec": {
   "display_name": "Python 3 (ipykernel)",
   "language": "python",
   "name": "python3"
  },
  "language_info": {
   "codemirror_mode": {
    "name": "ipython",
    "version": 3
   },
   "file_extension": ".py",
   "mimetype": "text/x-python",
   "name": "python",
   "nbconvert_exporter": "python",
   "pygments_lexer": "ipython3",
   "version": "3.8.0"
  }
 },
 "nbformat": 4,
 "nbformat_minor": 5
}
