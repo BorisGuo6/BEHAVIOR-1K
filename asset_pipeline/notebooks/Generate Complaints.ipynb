{
 "cells": [
  {
   "cell_type": "code",
   "execution_count": 1,
   "metadata": {},
   "outputs": [],
   "source": [
    "import json\n",
    "\n",
    "with open(r\"D:\\ig_pipeline\\artifacts\\pipeline\\object_inventory.json\", \"r\") as f:\n",
    "    provider_map = json.load(f)[\"providers\"]\n",
    "    providers = {x.split(\"-\")[1]: y for x, y in provider_map.items()}\n",
    "    categories = {x.split(\"-\")[1]: x.split(\"-\")[0] for x, y in provider_map.items()}"
   ]
  },
  {
   "cell_type": "code",
   "execution_count": 2,
   "metadata": {},
   "outputs": [],
   "source": [
    "import csv\n",
    "\n",
    "# Load the rename file\n",
    "RENAMES = {}\n",
    "with open(\"D:/ig_pipeline/metadata/object_renames.csv\") as f:\n",
    "    for row in csv.DictReader(f):\n",
    "        key = (row[\"ID (auto)\"])\n",
    "        RENAMES[key] = row[\"New Category\"]\n",
    "\n",
    "# Load the deletion file\n",
    "DELETION_QUEUE = set()\n",
    "with open(\"D:/ig_pipeline/metadata/deletion_queue.csv\", \"r\") as f:\n",
    "    for row in csv.DictReader(f):\n",
    "        DELETION_QUEUE.add(row[\"Object\"].strip().split(\"-\")[1])\n",
    "\n",
    "\n",
    "def maybe_rename_category(cat, model):\n",
    "    if model in RENAMES:\n",
    "        return RENAMES[model]\n",
    "    return cat\n",
    "\n",
    "for x, cat in list(categories.items()):\n",
    "    categories[x] = maybe_rename_category(cat, x)\n",
    "\n",
    "for x in DELETION_QUEUE:\n",
    "    if x in categories:\n",
    "        del categories[x]"
   ]
  },
  {
   "cell_type": "code",
   "execution_count": 3,
   "metadata": {},
   "outputs": [],
   "source": [
    "# For each file in the TODOs, get the list of relevant objects \n",
    "def get_objects_from_todo_file(file_stem):\n",
    "    with open(f\"D:/ig_pipeline/{file_stem}.txt\", \"r\") as f:\n",
    "        objects = {x.strip() for x in f.readlines()}\n",
    "        assert all(len(o) == 6 for o in objects), f\"Some object IDs in {file_stem} are not 6 characters long\"\n",
    "        return set(objects)\n",
    "    \n",
    "links_to_complaints = [\n",
    "    (get_objects_from_todo_file(\"todo-appearance\"), \"STRUCTURE-APPEARANCE: Something is wrong with how this object looks in simulation.\"),\n",
    "    (get_objects_from_todo_file(\"todo-category\"), \"STRUCTURE-SYNSET: This object is assigned to a wall/floor category but it may need to either be attached to a structure object or moved into another category.\"),\n",
    "    (get_objects_from_todo_file(\"todo-synset\"), \"STRUCTURE-SYNSET: This object is assigned to a wall/floor category but it may need to either be attached to a structure object or moved into another category.\"),\n",
    "    (get_objects_from_todo_file(\"todo-glassness\"), \"STRUCTURE-GLASSNESS: This object looks like it might be glass in 3ds Max but is not annotated as glass.\"),\n",
    "    (get_objects_from_todo_file(\"todo-multiple-pieces\"), \"STRUCTURE-MULTIPLE-PIECES: This object is made up of multiple pieces - it should be broken apart. Please consult w/ Cem on how to do this for things like pavers - we want those to be together, but we want large, disjoint flat pieces of floor to be separate objects.\"),\n",
    "    (get_objects_from_todo_file(\"todo-thickness\"), \"STRUCTURE-THICKNESS: This object is a paper-thin floor or wall that should have some thickness.\"),\n",
    "    (get_objects_from_todo_file(\"todo-triangulation\"), \"STRUCTURE-TRIANGULATION: This object seems to suffer from triangulation issues. Verify that this is fixed with new triangulator.\", True),\n",
    "    (get_objects_from_todo_file(\"todo-unclosed\"), \"STRUCTURE-UNCLOSED: This object is not a closed mesh: at least one of its sides is open when it should be a solid volume.\"),\n",
    "]"
   ]
  },
  {
   "cell_type": "code",
   "execution_count": 4,
   "metadata": {},
   "outputs": [],
   "source": [
    "# Add tippy lamps\n",
    "def get_objects_by_category(cat):\n",
    "  return [model for model, category in categories.items() if category == cat]\n",
    "\n",
    "links_to_complaints.append(\n",
    "  (get_objects_by_category(\"table_lamp\") + get_objects_by_category(\"floor_lamp\"), \"CENTEROFMASS: This object is a lamp object. Those objects might have a tendency to tip over because the automatically generated center of mass does not represent the heavy base. Consider annotating a center of mass.\")\n",
    ")"
   ]
  },
  {
   "cell_type": "code",
   "execution_count": 5,
   "metadata": {},
   "outputs": [],
   "source": [
    "# Add fillable object issues\n",
    "fillable_objects = [\n",
    "    (\"bfaqfe\", \"fuel can cap is stuck\"),\n",
    "    (\"gcixra\", \"oil bottle with no top opening\"),\n",
    "    (\"ueagnt\", \"no proepr opening\"),\n",
    "    (\"vlplhs\", \"specimen bottle cap stuck\"),\n",
    "    (\"wklill\", \"bad joint\"),\n",
    "    (\"yjmnej\", \"add sides so that fluids stay in\"),\n",
    "    (\"ceaeqf\", \"put the bowl back together, add prismatic joint\"),\n",
    "    (\"qornxa\", \"add prismatic joint, figure out how to make moving fillable\"),\n",
    "    (\"svkdji\", \"hole keeps getting closed. add manual cmesh\"),\n",
    "    (\"ignowl\", \"something wrong with the link here. does it have any meshes at all?\"),\n",
    "    (\"adxzhe\", \"create two fillable volumes, use as test case\"),\n",
    "    (\"nedrsh\", \"objects penetrate through the cmesh\"),\n",
    "]\n",
    "for fillable_object in fillable_objects:\n",
    "    links_to_complaints.append(\n",
    "        ([fillable_object[0]], f\"FILLABLE: {fillable_object[1]}\")\n",
    "    )"
   ]
  },
  {
   "cell_type": "code",
   "execution_count": 6,
   "metadata": {},
   "outputs": [],
   "source": [
    "# Add other visual complaints\n",
    "links_to_complaints.extend([\n",
    "  ([x for x in providers.keys() if \"todo\" in x], \"TODO: Object has the word TODO in its name, meaning it might have something wrong with it. Either fix it or replace it with another object.\"),\n",
    "  ([\"acooui\"], \"APPEARANCE: This object has multiple almonds. Keep just one.\")\n",
    "])"
   ]
  },
  {
   "cell_type": "code",
   "execution_count": 7,
   "metadata": {},
   "outputs": [],
   "source": [
    "# Assert that everything is in the providers list\n",
    "for x in links_to_complaints:\n",
    "    missing_providers = set(x[0]) - set(providers.keys())\n",
    "    assert not missing_providers, f\"Missing providers: {missing_providers}\""
   ]
  },
  {
   "cell_type": "code",
   "execution_count": 8,
   "metadata": {},
   "outputs": [],
   "source": [
    "# Toss all the complaints in the files\n",
    "def add_complaint(model, complaint_msg, processed=False):\n",
    "    model_target = providers[model]\n",
    "\n",
    "    # Open the complaints file for the target\n",
    "    complaints_file = f\"D:/ig_pipeline/cad\" + model_target + \"/complaints.json\"\n",
    "    with open(complaints_file, \"r\") as f:\n",
    "        complaints = json.load(f)\n",
    "\n",
    "    complaint = {\n",
    "        \"object\": categories[model] + \"-\" + model,\n",
    "        \"message\": complaint_msg,\n",
    "        \"processed\": processed,\n",
    "        \"new\": True,\n",
    "    }\n",
    "\n",
    "    # Add the complaint\n",
    "    complaints.append(complaint)\n",
    "\n",
    "    # Write the complaints back\n",
    "    with open(complaints_file, \"w\") as f:\n",
    "        json.dump(complaints, f, indent=4)"
   ]
  },
  {
   "cell_type": "code",
   "execution_count": 14,
   "metadata": {},
   "outputs": [],
   "source": [
    "from tqdm.notebook import tqdm\n",
    "\n",
    "for data in tqdm(links_to_complaints):\n",
    "    for model in data[0]:\n",
    "        add_complaint(model, *data[1:])"
   ]
  },
  {
   "cell_type": "code",
   "execution_count": null,
   "metadata": {},
   "outputs": [],
   "source": []
  }
 ],
 "metadata": {
  "kernelspec": {
   "display_name": "pipeline",
   "language": "python",
   "name": "python3"
  },
  "language_info": {
   "codemirror_mode": {
    "name": "ipython",
    "version": 3
   },
   "file_extension": ".py",
   "mimetype": "text/x-python",
   "name": "python",
   "nbconvert_exporter": "python",
   "pygments_lexer": "ipython3",
   "version": "3.10.0"
  }
 },
 "nbformat": 4,
 "nbformat_minor": 2
}
