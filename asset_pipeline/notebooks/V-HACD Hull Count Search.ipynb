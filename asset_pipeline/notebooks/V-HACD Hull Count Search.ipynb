{
 "cells": [
  {
   "cell_type": "code",
   "execution_count": 1,
   "id": "2ffef97f",
   "metadata": {},
   "outputs": [],
   "source": [
    "import trimesh, glob, pathlib, random, traceback"
   ]
  },
  {
   "cell_type": "code",
   "execution_count": 2,
   "id": "2653a85a",
   "metadata": {},
   "outputs": [],
   "source": [
    "# Get all collision obj files\n",
    "all_files = set(pathlib.Path(x) for x in glob.glob(r\"D:\\ig_pipeline\\artifacts\\aggregate\\objects\\*\\*\\shape\\visual\\*.obj\"))"
   ]
  },
  {
   "cell_type": "code",
   "execution_count": 3,
   "id": "4a07094c",
   "metadata": {},
   "outputs": [],
   "source": [
    "import logging\n",
    "logger = logging.getLogger(\"trimesh\")\n",
    "logger.setLevel(logging.ERROR)"
   ]
  },
  {
   "cell_type": "code",
   "execution_count": 4,
   "id": "4c43e341",
   "metadata": {},
   "outputs": [],
   "source": [
    "import tempfile, shutil, subprocess, os\n",
    "VHACD_EXECUTABLE = \"/svl/u/gabrael/v-hacd/app/build/TestVHACD\"\n",
    "\n",
    "def get_vhacd_mesh(file_bytes, hull_count):\n",
    "    with tempfile.TemporaryDirectory() as td:\n",
    "        in_path = os.path.join(td, \"in.obj\")\n",
    "        out_path = os.path.join(td, \"decomp.obj\")  # This is the path that VHACD outputs to.\n",
    "        with open(in_path, 'wb') as f:\n",
    "            f.write(file_bytes)\n",
    "        vhacd_cmd = [str(VHACD_EXECUTABLE), in_path, \"-r\", \"1000000\", \"-d\", \"20\", \"-v\", \"60\", \"-h\", str(hull_count)]\n",
    "        try:\n",
    "            proc = subprocess.run(vhacd_cmd, shell=False, stdout=subprocess.PIPE, stderr=subprocess.STDOUT, cwd=td, check=True)\n",
    "            return trimesh.load(out_path, file_type=\"obj\", force=\"mesh\", skip_textures=True)\n",
    "        except subprocess.CalledProcessError as e:\n",
    "            raise ValueError(f\"VHACD failed with exit code {e.returncode}. Output:\\n{e.output}\")\n"
   ]
  },
  {
   "cell_type": "code",
   "execution_count": 5,
   "id": "9264642f",
   "metadata": {},
   "outputs": [],
   "source": [
    "def binary_search(x, f, low, high):\n",
    "    mid = 0\n",
    " \n",
    "    while low <= high:\n",
    "        mid = (high + low) // 2\n",
    "        val = f(mid)\n",
    "        if val < x:\n",
    "            low = mid + 1\n",
    "        elif val > x:\n",
    "            high = mid - 1\n",
    "        else:\n",
    "            return mid\n",
    "    return low"
   ]
  },
  {
   "cell_type": "code",
   "execution_count": 6,
   "id": "cd0ac3cb",
   "metadata": {
    "scrolled": true
   },
   "outputs": [],
   "source": [
    "import numpy as np\n",
    "import trimesh.voxel.creation\n",
    "import io\n",
    "\n",
    "def voxelize(m):\n",
    "    pitch = 0.01\n",
    "    return trimesh.voxel.creation.local_voxelize(\n",
    "        m, pitch=pitch, point=np.array([0, 0, 0]),\n",
    "        radius=int(np.ceil(0.5/pitch))\n",
    "    ).matrix\n",
    "\n",
    "def analyze_object(visual_content):\n",
    "    # First, run VHACD on the full thing with 128 hulls as an upper bound\n",
    "    max_mesh = get_vhacd_mesh(visual_content, 128)\n",
    "    translation = -np.mean(max_mesh.bounds, axis=0)\n",
    "    scale = np.min(1 / max_mesh.extents)\n",
    "    matrix_1 = trimesh.transformations.scale_matrix(scale)\n",
    "    matrix_2 = trimesh.transformations.translation_matrix(translation)\n",
    "    matrix = matrix_1 @ matrix_2\n",
    "    max_mesh.apply_transform(matrix)  \n",
    "    v_max_mesh = voxelize(max_mesh)\n",
    "\n",
    "    # Define a binary-searchable function to find the best entry\n",
    "    with tempfile.TemporaryDirectory() as td:\n",
    "        memory = {}\n",
    "        def compute_iou(hull_count):\n",
    "            hull_count_mesh = get_vhacd_mesh(visual_content, hull_count)\n",
    "            out_fn = pathlib.Path(td) / f\"{hull_count}.obj\"\n",
    "            hull_count_mesh.export(str(link_obj_path), file_type=\"obj\")\n",
    "            hull_count_mesh.apply_transform(matrix)\n",
    "            v_hull_count_mesh = voxelize(hull_count_mesh)\n",
    "\n",
    "            # Compute their intersection volume\n",
    "            intersection = v_max_mesh & v_hull_count_mesh\n",
    "            intersection_cnt = np.count_nonzero(intersection)\n",
    "            union = v_max_mesh | v_hull_count_mesh\n",
    "            union_cnt = np.count_nonzero(union)\n",
    "            iou = intersection_cnt / union_cnt\n",
    "\n",
    "            memory[hull_count] = (out_fn, iou)\n",
    "\n",
    "            return iou\n",
    "        \n",
    "        # Then, start binary search on the hull count to find the lowest entry above 0.85\n",
    "        lowest_acceptable_hull_count = binary_search(0.85, compute_iou, 1, 64)\n",
    "        \n",
    "        # Return the contents of the lowest acceptable hull count file\n",
    "        lowest_acceptable_hull_file = memory[lowest_acceptable_hull_count]\n",
    "        with open(lowest_acceptable_hull_file, \"rb\") as f:\n",
    "            return f.read()\n",
    "\n",
    "def load_analyze_object(client, visual_fn):\n",
    "    # Load the visual mesh\n",
    "    assert visual_fn.exists(), str(visual_fn)\n",
    "    with open(visual_fn, \"rb\") as f:\n",
    "        visual_content = f.read()\n",
    "           \n",
    "    # Now call analyze object\n",
    "    return client.submit(analyze_object, visual_content, key=str(visual_fn)).result()"
   ]
  },
  {
   "cell_type": "code",
   "execution_count": 7,
   "id": "37752804",
   "metadata": {},
   "outputs": [
    {
     "name": "stderr",
     "output_type": "stream",
     "text": [
      "C:\\Users\\Cem\\.conda\\envs\\pipeline\\lib\\site-packages\\distributed\\client.py:1361: VersionMismatchWarning: Mismatched versions found\n",
      "\n",
      "+-------------+--------+-----------+---------+\n",
      "| Package     | Client | Scheduler | Workers |\n",
      "+-------------+--------+-----------+---------+\n",
      "| cloudpickle | 2.1.0  | 2.2.1     | 2.2.1   |\n",
      "| lz4         | 4.3.2  | None      | None    |\n",
      "| numpy       | 1.22.3 | 1.24.2    | 1.24.2  |\n",
      "| pandas      | 1.4.3  | None      | None    |\n",
      "| tornado     | 6.1    | 6.2       | 6.2     |\n",
      "+-------------+--------+-----------+---------+\n",
      "  warnings.warn(version_module.VersionMismatchWarning(msg[0][\"warning\"]))\n"
     ]
    }
   ],
   "source": [
    "from dask.distributed import Client\n",
    "\n",
    "dask_client = Client('sc.stanford.edu:35423', direct_to_workers=True)"
   ]
  },
  {
   "cell_type": "code",
   "execution_count": 8,
   "id": "6dc56cc2",
   "metadata": {},
   "outputs": [
    {
     "name": "stderr",
     "output_type": "stream",
     "text": [
      "100%|███████████████████████████████████████████████████████████████████████████| 1000/1000 [00:00<00:00, 11579.02it/s]\n"
     ]
    }
   ],
   "source": [
    "from concurrent import futures\n",
    "import tqdm\n",
    "\n",
    "all_futures = {}\n",
    "results = {}\n",
    "randomized_root_files = list(all_files)\n",
    "random.shuffle(randomized_root_files)\n",
    "executor = futures.ThreadPoolExecutor(max_workers=100)\n",
    "for rfn in tqdm.tqdm(randomized_root_files[:1000]):\n",
    "    all_futures[executor.submit(load_analyze_object, dask_client, rfn)] = rfn"
   ]
  },
  {
   "cell_type": "code",
   "execution_count": 21,
   "id": "f293a925",
   "metadata": {},
   "outputs": [
    {
     "name": "stdout",
     "output_type": "stream",
     "text": [
      "304 / 1000\n",
      "0 / 1000\n"
     ]
    }
   ],
   "source": [
    "print(sum(1 for f in all_futures.keys() if f.done()), \"/\", len(all_futures))\n",
    "print(sum(1 for f in all_futures.keys() if f.done() and f.exception()), \"/\", len(all_futures))"
   ]
  },
  {
   "cell_type": "code",
   "execution_count": 22,
   "id": "0a1e00f9",
   "metadata": {},
   "outputs": [
    {
     "data": {
      "image/png": "[encoded data removed]",
      "text/plain": [
       "<Figure size 432x288 with 1 Axes>"
      ]
     },
     "metadata": {
      "needs_background": "light"
     },
     "output_type": "display_data"
    },
    {
     "name": "stdout",
     "output_type": "stream",
     "text": [
      "10.5 20.72222222222222 21.85808273116934\n"
     ]
    },
    {
     "name": "stderr",
     "output_type": "stream",
     "text": [
      "2023-02-26 23:56:41,572 - distributed.client - ERROR - Failed to reconnect to scheduler after 30.00 seconds, closing client\n"
     ]
    }
   ],
   "source": [
    "import matplotlib.pyplot as plt\n",
    "results = {rfn: f.result() for f, rfn in all_futures.items() if f.done() and not f.exception()}\n",
    "vals = np.array(list(results.values()))\n",
    "plt.hist(vals, bins=\"auto\") # [1, 2, 4, 8, 16, 32, 64, 128, 256])  # arguments are passed to np.histogram\n",
    "# plt.xscale(\"log\", base=2)\n",
    "plt.title(f\"Thresholding at IOU >= 0.85\")\n",
    "plt.show()\n",
    "print(np.median(vals), np.mean(vals), np.std(vals))"
   ]
  },
  {
   "cell_type": "code",
   "execution_count": null,
   "id": "3dce747f",
   "metadata": {},
   "outputs": [],
   "source": [
    "vals"
   ]
  },
  {
   "cell_type": "code",
   "execution_count": null,
   "id": "54005a74",
   "metadata": {},
   "outputs": [
    {
     "name": "stderr",
     "output_type": "stream",
     "text": [
      "C:\\Users\\Cem\\.conda\\envs\\pipeline\\lib\\site-packages\\distributed\\worker.py:2990: UserWarning: Large object of size 4.67 MiB detected in task graph: \n",
      "  (b'# https://github.com/mikedh/trimesh\\r\\nmtllib s ... /40591/40591',)\n",
      "Consider scattering large objects ahead of time\n",
      "with client.scatter to reduce scheduler burden and \n",
      "keep data on workers\n",
      "\n",
      "    future = client.submit(func, big_data)    # bad\n",
      "\n",
      "    big_future = client.scatter(big_data)     # good\n",
      "    future = client.submit(func, big_future)  # good\n",
      "  warnings.warn(\n"
     ]
    }
   ],
   "source": [
    "if False:\n",
    "    for future in all_futures.keys():\n",
    "        try:\n",
    "            result = future.result(timeout=0)\n",
    "            rfn = all_futures[future]\n",
    "            results[rfn] = result\n",
    "        except:\n",
    "            print(\"\\n\", all_futures[future], \" ran into an error:\")\n",
    "            print(traceback.format_exc())"
   ]
  },
  {
   "cell_type": "code",
   "execution_count": null,
   "id": "3e9e7cc0",
   "metadata": {},
   "outputs": [],
   "source": []
  }
 ],
 "metadata": {
  "kernelspec": {
   "display_name": "Python 3 (ipykernel)",
   "language": "python",
   "name": "python3"
  },
  "language_info": {
   "codemirror_mode": {
    "name": "ipython",
    "version": 3
   },
   "file_extension": ".py",
   "mimetype": "text/x-python",
   "name": "python",
   "nbconvert_exporter": "python",
   "pygments_lexer": "ipython3",
   "version": "3.8.0"
  }
 },
 "nbformat": 4,
 "nbformat_minor": 5
}
