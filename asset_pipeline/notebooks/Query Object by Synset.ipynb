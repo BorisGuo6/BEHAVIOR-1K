{
 "cells": [
  {
   "cell_type": "markdown",
   "id": "5c1298ee",
   "metadata": {},
   "source": [
    "# Synset / object mapping validation"
   ]
  },
  {
   "cell_type": "markdown",
   "id": "a127805a",
   "metadata": {},
   "source": [
    "## Loading data"
   ]
  },
  {
   "cell_type": "markdown",
   "id": "3f6b5829",
   "metadata": {},
   "source": [
    "### Load synset tree"
   ]
  },
  {
   "cell_type": "code",
   "execution_count": 1,
   "id": "84234892",
   "metadata": {},
   "outputs": [],
   "source": [
    "import json, csv\n",
    "from nltk.corpus import wordnet as wn\n",
    "import networkx as nx\n",
    "\n",
    "# Build the legit-synset graph\n",
    "G = nx.DiGraph()\n",
    "G.add_nodes_from(x.name() for x in wn.all_synsets())\n",
    "for parent in wn.all_synsets():\n",
    "    for child in parent.hyponyms():\n",
    "        G.add_edge(parent.name(), child.name())\n",
    "        \n",
    "# Add the illegit-synset graph\n",
    "with open(r\"D:\\ig_pipeline\\metadata\\custom_synsets.csv\") as f:\n",
    "    reader = csv.DictReader(f)\n",
    "    for row in reader:\n",
    "        child = row[\"custom_synset\"].strip()\n",
    "        parent = wn.synset(row[\"hypernyms\"].strip()).name()\n",
    "        assert parent in G.nodes, \"Could not find \" + parent\n",
    "        G.add_edge(parent, child)\n",
    "        \n",
    "legit_synsets = set(G.nodes)"
   ]
  },
  {
   "cell_type": "code",
   "execution_count": 2,
   "id": "bea37b45",
   "metadata": {},
   "outputs": [],
   "source": [
    "def is_leaf_synset(x):\n",
    "    return G.out_degree[x] == 0"
   ]
  },
  {
   "cell_type": "code",
   "execution_count": 3,
   "id": "0ad261b2",
   "metadata": {},
   "outputs": [],
   "source": [
    "def canonicalize(s):\n",
    "    try:\n",
    "        return wn.synset(s).name()\n",
    "    except:\n",
    "        return s"
   ]
  },
  {
   "cell_type": "markdown",
   "id": "569159dc",
   "metadata": {},
   "source": [
    "### Load list of categories matching each synset"
   ]
  },
  {
   "cell_type": "code",
   "execution_count": 4,
   "id": "734f0adc",
   "metadata": {},
   "outputs": [
    {
     "name": "stdout",
     "output_type": "stream",
     "text": [
      "Non-canonical synset smoke_alarm.n.01 in category mapping replaced with canonical synset fire_alarm.n.02\n",
      "Non-canonical synset skeletal_frame.n.01 in category mapping replaced with canonical synset skeleton.n.04\n",
      "Non-canonical synset ottoman.n.04 in category mapping replaced with canonical synset footstool.n.01\n",
      "Non-canonical synset popsicle.n.01 in category mapping replaced with canonical synset ice_lolly.n.01\n",
      "Non-canonical synset freezer.n.01 in category mapping replaced with canonical synset deep-freeze.n.01\n",
      "Non-canonical synset creamer.n.01 in category mapping replaced with canonical synset cream_pitcher.n.01\n",
      "Non-canonical synset soymilk.n.01 in category mapping replaced with canonical synset soya_milk.n.01\n",
      "Non-canonical synset free_weight.n.01 in category mapping replaced with canonical synset weight.n.02\n",
      "Non-canonical synset checkout_counter.n.01 in category mapping replaced with canonical synset checkout.n.03\n",
      "Non-canonical synset stem.n.02 in category mapping replaced with canonical synset stalk.n.02\n",
      "Non-canonical synset buret.n.01 in category mapping replaced with canonical synset burette.n.01\n",
      "Non-canonical synset cubicle.n.02 in category mapping replaced with canonical synset carrel.n.02\n",
      "Non-canonical synset hosepipe.n.01 in category mapping replaced with canonical synset hose.n.03\n",
      "Non-canonical synset screen.n.08 in category mapping replaced with canonical synset screen_door.n.01\n",
      "Non-canonical synset gym_mat.n.01 in category mapping replaced with canonical synset mat.n.03\n",
      "Non-canonical synset basketball_hoop.n.01 in category mapping replaced with canonical synset basket.n.03\n",
      "Non-canonical synset exhaust_hood.n.01 in category mapping replaced with canonical synset hood.n.06\n",
      "Non-canonical synset skeletal_frame.n.01 in category mapping replaced with canonical synset skeleton.n.04\n",
      "Non-canonical synset grating.n.01 in category mapping replaced with canonical synset grate.n.03\n",
      "Non-canonical synset coal.n.02 in category mapping replaced with canonical synset ember.n.01\n",
      "Non-canonical synset rockery.n.01 in category mapping replaced with canonical synset rock_garden.n.01\n",
      "Non-canonical synset pergola.n.01 in category mapping replaced with canonical synset arbor.n.03\n",
      "Non-canonical synset soymilk.n.01 in category mapping replaced with canonical synset soya_milk.n.01\n",
      "Non-canonical synset robe.n.02 in category mapping replaced with canonical synset gown.n.05\n",
      "Non-canonical synset suitcase.n.01 in category mapping replaced with canonical synset bag.n.06\n",
      "Non-canonical synset pant.n.02 in category mapping replaced with canonical synset trouser.n.01\n",
      "Non-canonical synset peppercorn.n.01 in category mapping replaced with canonical synset pepper.n.03\n",
      "Non-canonical synset seasoning.n.01 in category mapping replaced with canonical synset flavorer.n.01\n",
      "Non-canonical synset tea_leaf.n.01 in category mapping replaced with canonical synset tea.n.05\n",
      "Non-canonical synset chili_pepper.n.02 in category mapping replaced with canonical synset chili.n.02\n",
      "Non-canonical synset flower_petal.n.01 in category mapping replaced with canonical synset petal.n.01\n",
      "Non-canonical synset deicer.n.01 in category mapping replaced with canonical synset defroster.n.01\n",
      "Non-canonical synset decanter.n.01 in category mapping replaced with canonical synset carafe.n.01\n",
      "Non-canonical synset dice.n.01 in category mapping replaced with canonical synset die.n.01\n",
      "Non-canonical synset dish_towel.n.01 in category mapping replaced with canonical synset dishtowel.n.01\n",
      "Non-canonical synset kiosk.n.01 in category mapping replaced with canonical synset booth.n.02\n",
      "Non-canonical synset Dutch_oven.n.02 in category mapping replaced with canonical synset dutch_oven.n.02\n",
      "Non-canonical synset duvet.n.01 in category mapping replaced with canonical synset eiderdown.n.01\n",
      "Non-canonical synset DVD.n.01 in category mapping replaced with canonical synset videodisk.n.01\n",
      "Non-canonical synset Easter_egg.n.01 in category mapping replaced with canonical synset easter_egg.n.01\n",
      "Non-canonical synset pine_tree.n.01 in category mapping replaced with canonical synset pine.n.01\n",
      "Non-canonical synset food_coloring.n.01 in category mapping replaced with canonical synset coloring.n.01\n",
      "Non-canonical synset framing.n.02 in category mapping replaced with canonical synset frame.n.10\n",
      "Non-canonical synset paper_bag.n.01 in category mapping replaced with canonical synset sack.n.01\n",
      "Non-canonical synset lemon_tree.n.01 in category mapping replaced with canonical synset lemon.n.03\n",
      "Non-canonical synset glove.n.01 in category mapping replaced with canonical synset baseball_glove.n.01\n",
      "Non-canonical synset garlic_clove.n.01 in category mapping replaced with canonical synset clove.n.03\n",
      "Non-canonical synset beer_keg.n.01 in category mapping replaced with canonical synset beer_barrel.n.01\n",
      "Non-canonical synset coffee_grinder.n.01 in category mapping replaced with canonical synset coffee_mill.n.01\n",
      "Non-canonical synset desert_boot.n.01 in category mapping replaced with canonical synset buskin.n.01\n",
      "Non-canonical synset juicer.n.02 in category mapping replaced with canonical synset reamer.n.01\n",
      "Non-canonical synset roast_beef.n.01 in category mapping replaced with canonical synset beef_roast.n.01\n",
      "Non-canonical synset adhesive.n.01 in category mapping replaced with canonical synset adhesive_material.n.01\n",
      "Non-canonical synset arugula.n.01 in category mapping replaced with canonical synset rocket.n.03\n",
      "Non-canonical synset baking_tray.n.01 in category mapping replaced with canonical synset cookie_sheet.n.01\n",
      "Non-canonical synset insect_repellent.n.01 in category mapping replaced with canonical synset insectifuge.n.01\n",
      "Non-canonical synset champagne_flute.n.01 in category mapping replaced with canonical synset flute.n.02\n",
      "Non-canonical synset chicken_breast.n.01 in category mapping replaced with canonical synset pigeon_breast.n.01\n",
      "Non-canonical synset chili_pepper.n.02 in category mapping replaced with canonical synset chili.n.02\n",
      "Non-canonical synset tape_measure.n.01 in category mapping replaced with canonical synset tape.n.04\n",
      "Non-canonical synset jumpsuit.n.01 in category mapping replaced with canonical synset jump_suit.n.01\n",
      "Non-canonical synset liner.n.02 in category mapping replaced with canonical synset lining.n.01\n",
      "Non-canonical synset pillowcase.n.01 in category mapping replaced with canonical synset case.n.19\n",
      "Non-canonical synset flowerpot.n.01 in category mapping replaced with canonical synset pot.n.04\n",
      "Non-canonical synset outlet.n.02 in category mapping replaced with canonical synset wall_socket.n.01\n",
      "Non-canonical synset purse.n.01 in category mapping replaced with canonical synset bag.n.04\n",
      "Non-canonical synset roast_beef.n.01 in category mapping replaced with canonical synset beef_roast.n.01\n",
      "Non-canonical synset shorts.n.01 in category mapping replaced with canonical synset short_pants.n.01\n",
      "Non-canonical synset sticker.n.02 in category mapping replaced with canonical synset gummed_label.n.01\n",
      "Non-canonical synset stroller.n.02 in category mapping replaced with canonical synset baby_buggy.n.01\n",
      "Non-canonical synset tackle.n.03 in category mapping replaced with canonical synset fishing_gear.n.01\n",
      "Non-canonical synset tea_leaf.n.01 in category mapping replaced with canonical synset tea.n.05\n",
      "Non-canonical synset tote_bag.n.01 in category mapping replaced with canonical synset carryall.n.01\n",
      "Non-canonical synset snack.n.01 in category mapping replaced with canonical synset bite.n.04\n",
      "Non-canonical synset zipper.n.01 in category mapping replaced with canonical synset slide_fastener.n.01\n"
     ]
    }
   ],
   "source": [
    "import csv\n",
    "from collections import defaultdict\n",
    "# Get the category - synset mapping\n",
    "pairs = {}\n",
    "synset_to_cat = defaultdict(list)\n",
    "with open(r\"D:\\ig_pipeline\\metadata\\category_mapping.csv\", newline='') as csvfile:\n",
    "    reader = csv.DictReader(csvfile)\n",
    "    for row in reader:\n",
    "        category = row[\"category\"].strip()\n",
    "        synset = row[\"synset\"].strip()\n",
    "        if not synset or not category:\n",
    "            print(f\"Skipping problematic row: {row}\")\n",
    "            continue\n",
    "        canonical_synset = canonicalize(synset)\n",
    "        if canonical_synset != synset:\n",
    "            print(f\"Non-canonical synset {synset} in category mapping replaced with canonical synset {canonical_synset}\")\n",
    "        synset = canonical_synset\n",
    "        pairs[category] = synset\n",
    "        synset_to_cat[synset].append(category)\n",
    "found_synsets = set(pairs.values())\n",
    "found_categories = set(pairs.keys())"
   ]
  },
  {
   "cell_type": "code",
   "execution_count": 6,
   "id": "8452c789",
   "metadata": {},
   "outputs": [],
   "source": [
    "def get_synset_categories(s):\n",
    "    child_synsets = [s] + list(nx.descendants(G, s))\n",
    "    for cs in child_synsets:\n",
    "        if cs in found_synsets:\n",
    "            yield from synset_to_cat[cs]"
   ]
  },
  {
   "cell_type": "markdown",
   "id": "956ac17a",
   "metadata": {},
   "source": [
    "### Load providers too"
   ]
  },
  {
   "cell_type": "code",
   "execution_count": 12,
   "id": "305d6e51",
   "metadata": {},
   "outputs": [],
   "source": [
    "# Are there any categories that are missing from the table?\n",
    "import pathlib, glob, json, os\n",
    "from collections import defaultdict\n",
    "providers = {}\n",
    "objects_by_category = defaultdict(list)\n",
    "object_lists = glob.glob(r\"D:\\ig_pipeline\\cad\\*\\*\\artifacts\\object_list.json\")\n",
    "for olf in object_lists:\n",
    "    dirname = pathlib.Path(olf).parts[-4] + \"/\" + pathlib.Path(olf).parts[-3]\n",
    "    with open(olf, \"r\") as f:\n",
    "        ol = json.load(f)\n",
    "    for obj in ol[\"provided_objects\"]:\n",
    "        providers[obj] = dirname\n",
    "        objects_by_category[obj.split(\"-\")[0]].append(obj)"
   ]
  },
  {
   "cell_type": "code",
   "execution_count": 14,
   "id": "07d08545",
   "metadata": {},
   "outputs": [],
   "source": [
    "def query_synset(s):\n",
    "    print(f\"\\nFor synset {s}:\")\n",
    "    for cat in get_synset_categories(s):\n",
    "        print(f\"  Matched category: {cat}\")\n",
    "        for obj in objects_by_category[cat]:\n",
    "            print(f\"  Matched object: {obj}, provided by {providers[obj]}\")"
   ]
  },
  {
   "cell_type": "markdown",
   "id": "4cc89197",
   "metadata": {},
   "source": [
    "## Now you can query"
   ]
  },
  {
   "cell_type": "code",
   "execution_count": 15,
   "id": "55b190f7",
   "metadata": {},
   "outputs": [
    {
     "name": "stdout",
     "output_type": "stream",
     "text": [
      "\n",
      "For synset mailbox.n.01:\n",
      "  Matched category: mailbox\n",
      "  Matched object: mailbox-bktljr, provided by objects/mail-rt\n"
     ]
    }
   ],
   "source": [
    "query_synset(\"mailbox.n.01\")"
   ]
  },
  {
   "cell_type": "code",
   "execution_count": 16,
   "id": "37ef0446",
   "metadata": {},
   "outputs": [
    {
     "name": "stdout",
     "output_type": "stream",
     "text": [
      "\n",
      "For synset package.n.02:\n",
      "  Matched category: package\n",
      "  Matched object: package-msfzpz, provided by objects/legacy_package-msfzpz\n",
      "  Matched object: package-sxlklf, provided by objects/legacy_package-sxlklf\n"
     ]
    }
   ],
   "source": [
    "query_synset(\"package.n.02\")"
   ]
  },
  {
   "cell_type": "code",
   "execution_count": null,
   "id": "c248798b",
   "metadata": {},
   "outputs": [],
   "source": []
  }
 ],
 "metadata": {
  "kernelspec": {
   "display_name": "Python 3 (ipykernel)",
   "language": "python",
   "name": "python3"
  },
  "language_info": {
   "codemirror_mode": {
    "name": "ipython",
    "version": 3
   },
   "file_extension": ".py",
   "mimetype": "text/x-python",
   "name": "python",
   "nbconvert_exporter": "python",
   "pygments_lexer": "ipython3",
   "version": "3.8.0"
  }
 },
 "nbformat": 4,
 "nbformat_minor": 5
}
