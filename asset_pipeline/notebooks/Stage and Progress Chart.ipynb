{
 "cells": [
  {
   "cell_type": "code",
   "execution_count": 1,
   "id": "91c76f82",
   "metadata": {},
   "outputs": [],
   "source": [
    "from dvc.repo import Repo as DVCRepo\n",
    "r = DVCRepo(r\"D:\\ig_pipeline\")"
   ]
  },
  {
   "cell_type": "code",
   "execution_count": 2,
   "id": "40a239a4",
   "metadata": {},
   "outputs": [],
   "source": [
    "stages = r.stages"
   ]
  },
  {
   "cell_type": "code",
   "execution_count": 23,
   "id": "7097055c",
   "metadata": {},
   "outputs": [],
   "source": [
    "r.lock.lock()"
   ]
  },
  {
   "cell_type": "code",
   "execution_count": 24,
   "id": "f40945e9",
   "metadata": {},
   "outputs": [
    {
     "data": {
      "text/plain": [
       "False"
      ]
     },
     "execution_count": 24,
     "metadata": {},
     "output_type": "execute_result"
    }
   ],
   "source": [
    "stages[0].changed()"
   ]
  },
  {
   "cell_type": "code",
   "execution_count": 4,
   "id": "5cf37cf5",
   "metadata": {},
   "outputs": [
    {
     "data": {
      "text/plain": [
       "['PARAM_ALWAYS_CHANGED',\n",
       " 'PARAM_CMD',\n",
       " 'PARAM_DEPS',\n",
       " 'PARAM_DESC',\n",
       " 'PARAM_FROZEN',\n",
       " 'PARAM_LIVE',\n",
       " 'PARAM_LOCKED',\n",
       " 'PARAM_MD5',\n",
       " 'PARAM_META',\n",
       " 'PARAM_METRICS',\n",
       " 'PARAM_OUTS',\n",
       " 'PARAM_PARAMS',\n",
       " 'PARAM_PLOTS',\n",
       " 'PARAM_WDIR',\n",
       " '__class__',\n",
       " '__delattr__',\n",
       " '__dict__',\n",
       " '__dir__',\n",
       " '__doc__',\n",
       " '__eq__',\n",
       " '__format__',\n",
       " '__ge__',\n",
       " '__getattribute__',\n",
       " '__gt__',\n",
       " '__hash__',\n",
       " '__init__',\n",
       " '__init_subclass__',\n",
       " '__le__',\n",
       " '__lt__',\n",
       " '__module__',\n",
       " '__ne__',\n",
       " '__new__',\n",
       " '__reduce__',\n",
       " '__reduce_ex__',\n",
       " '__repr__',\n",
       " '__setattr__',\n",
       " '__sizeof__',\n",
       " '__str__',\n",
       " '__subclasshook__',\n",
       " '__weakref__',\n",
       " '_changed_deps',\n",
       " '_changed_entries',\n",
       " '_changed_stage_entry',\n",
       " '_check_can_merge',\n",
       " '_check_missing_outputs',\n",
       " '_checkout',\n",
       " '_dvcfile',\n",
       " '_path',\n",
       " '_read_env',\n",
       " '_run_stage',\n",
       " '_stage_text',\n",
       " '_status',\n",
       " '_status_always_changed',\n",
       " '_status_deps',\n",
       " '_status_outs',\n",
       " '_status_stage',\n",
       " '_sync_import',\n",
       " 'addressing',\n",
       " 'already_cached',\n",
       " 'always_changed',\n",
       " 'changed',\n",
       " 'changed_deps',\n",
       " 'changed_entries',\n",
       " 'changed_outs',\n",
       " 'changed_stage',\n",
       " 'checkout',\n",
       " 'cmd',\n",
       " 'cmd_changed',\n",
       " 'commit',\n",
       " 'compute_md5',\n",
       " 'deps',\n",
       " 'deps_cached',\n",
       " 'desc',\n",
       " 'dump',\n",
       " 'dumpd',\n",
       " 'dvcfile',\n",
       " 'env',\n",
       " 'filter_outs',\n",
       " 'frozen',\n",
       " 'get_all_files_number',\n",
       " 'get_used_objs',\n",
       " 'ignore_outs',\n",
       " 'ignore_remove_outs',\n",
       " 'is_callback',\n",
       " 'is_checkpoint',\n",
       " 'is_data_source',\n",
       " 'is_import',\n",
       " 'is_repo_import',\n",
       " 'md5',\n",
       " 'merge',\n",
       " 'meta',\n",
       " 'name',\n",
       " 'outs',\n",
       " 'outs_cached',\n",
       " 'path',\n",
       " 'path_in_repo',\n",
       " 'raw_data',\n",
       " 'reload',\n",
       " 'relpath',\n",
       " 'remove',\n",
       " 'remove_outs',\n",
       " 'repo',\n",
       " 'reproduce',\n",
       " 'run',\n",
       " 'save',\n",
       " 'save_deps',\n",
       " 'save_outs',\n",
       " 'short_description',\n",
       " 'status',\n",
       " 'tracked_vars',\n",
       " 'transfer',\n",
       " 'unprotect_outs',\n",
       " 'update',\n",
       " 'wdir']"
      ]
     },
     "execution_count": 4,
     "metadata": {},
     "output_type": "execute_result"
    }
   ],
   "source": [
    "dir(stages[0])"
   ]
  },
  {
   "cell_type": "code",
   "execution_count": 25,
   "id": "dd65b015",
   "metadata": {},
   "outputs": [],
   "source": [
    "s_to_deps = {s: [d.fs_path for d in s.deps] for s in stages}\n",
    "out_to_s = {o.fs_path: s for s in stages for o in s.outs}"
   ]
  },
  {
   "cell_type": "code",
   "execution_count": 32,
   "id": "0e678ed2",
   "metadata": {},
   "outputs": [],
   "source": [
    "import networkx as nx"
   ]
  },
  {
   "cell_type": "code",
   "execution_count": 39,
   "id": "91fc5468",
   "metadata": {},
   "outputs": [],
   "source": [
    "G = nx.DiGraph()"
   ]
  },
  {
   "cell_type": "code",
   "execution_count": 40,
   "id": "75e9fc1e",
   "metadata": {},
   "outputs": [],
   "source": [
    "def canonicalize(s):\n",
    "    return s.name.split(\"@\")[0] if not s.is_data_source else \"data source\""
   ]
  },
  {
   "cell_type": "code",
   "execution_count": 42,
   "id": "3e120cf5",
   "metadata": {},
   "outputs": [],
   "source": [
    "# Process nodes\n",
    "for s in s_to_deps.keys():\n",
    "    this_node = canonicalize(s)\n",
    "    if this_node not in G.nodes:\n",
    "        G.add_node(this_node, total=0, changed=0)\n",
    "        \n",
    "    G.nodes[this_node][\"total\"] += 1\n",
    "    if s.changed():\n",
    "        G.nodes[this_node][\"changed\"] += 1\n",
    "    \n",
    "# Add dependencies\n",
    "for s in s_to_deps.keys():\n",
    "    this_node = canonicalize(s)\n",
    "    for dep in s_to_deps[s]:\n",
    "        if dep in out_to_s:\n",
    "            from_node = canonicalize(out_to_s[dep])\n",
    "            G.add_edge(from_node, this_node)"
   ]
  },
  {
   "cell_type": "code",
   "execution_count": 46,
   "id": "02132d1a",
   "metadata": {},
   "outputs": [
    {
     "name": "stdout",
     "output_type": "stream",
     "text": [
      "    aggregate_metadata --> pack_dataset\n",
      "    aggregate_objs --> aggregate_metadata\n",
      "    aggregate_objs --> export_scene\n",
      "    aggregate_objs --> pack_dataset\n",
      "    aggregate_scenes --> aggregate_metadata\n",
      "    aggregate_scenes --> pack_dataset\n",
      "    export_meshes --> export_meshes_success\n",
      "    export_meshes --> export_objs\n",
      "    export_meshes --> export_scene\n",
      "    export_meshes_success --> export_objs\n",
      "    export_meshes_success --> export_scene\n",
      "    export_objs --> aggregate_objs\n",
      "    export_objs --> export_objs_success\n",
      "    export_objs_success --> aggregate_objs\n",
      "    export_scene --> aggregate_scenes\n",
      "    export_scene --> validate_scene\n",
      "    object_inventory --> aggregate_objs\n",
      "    object_list --> export_meshes\n",
      "    object_list --> export_objs\n",
      "    object_list --> object_inventory\n",
      "    object_list --> object_list_success\n",
      "    object_list_success --> export_objs\n",
      "    room_object_list --> combined_room_object_list\n",
      "    sanitycheck --> sanitycheck_success\n",
      "    data source --> export_meshes\n",
      "    data source --> object_list\n",
      "    data source --> room_object_list\n",
      "    data source --> sanitycheck\n"
     ]
    }
   ],
   "source": [
    "for f, t in G.edges:\n",
    "    print(f\"    {f} --> {t}\")"
   ]
  },
  {
   "cell_type": "code",
   "execution_count": 45,
   "id": "803c0569",
   "metadata": {},
   "outputs": [
    {
     "data": {
      "image/png": "[encoded data removed]",
      "text/plain": [
       "<Figure size 432x288 with 1 Axes>"
      ]
     },
     "metadata": {},
     "output_type": "display_data"
    }
   ],
   "source": [
    "import matplotlib.pyplot as plt\n",
    "from networkx.drawing.nx_pydot import graphviz_layout\n",
    "pos = graphviz_layout(G, prog=\"dot\")\n",
    "nx.draw(G, pos)\n",
    "plt.show()"
   ]
  },
  {
   "cell_type": "code",
   "execution_count": 50,
   "id": "9432556d",
   "metadata": {},
   "outputs": [
    {
     "name": "stdout",
     "output_type": "stream",
     "text": [
      "Completion ratios:\n",
      "data source: 99%\n",
      "object_list: 67%\n",
      "room_object_list: 100%\n",
      "sanitycheck: 11%\n",
      "export_meshes: 100%\n",
      "object_inventory: 100%\n",
      "object_list_success: 100%\n",
      "combined_room_object_list: 0%\n",
      "sanitycheck_success: 6%\n",
      "export_meshes_success: 100%\n",
      "export_objs: 100%\n",
      "export_objs_success: 100%\n",
      "aggregate_objs: 100%\n",
      "export_scene: 100%\n",
      "aggregate_scenes: 100%\n",
      "validate_scene: 0%\n",
      "aggregate_metadata: 100%\n",
      "pack_dataset: 100%\n"
     ]
    }
   ],
   "source": [
    "print(\"Completion ratios:\")\n",
    "for x in nx.topological_sort(G):\n",
    "    completion_ratio = 1 - (G.nodes[x][\"changed\"] / G.nodes[x][\"total\"])\n",
    "    completion_percentage = int(completion_ratio * 100)\n",
    "    print(f\"{x}: {completion_percentage}%\")"
   ]
  },
  {
   "cell_type": "code",
   "execution_count": null,
   "id": "6d69356b",
   "metadata": {},
   "outputs": [],
   "source": []
  }
 ],
 "metadata": {
  "kernelspec": {
   "display_name": "Python 3 (ipykernel)",
   "language": "python",
   "name": "python3"
  },
  "language_info": {
   "codemirror_mode": {
    "name": "ipython",
    "version": 3
   },
   "file_extension": ".py",
   "mimetype": "text/x-python",
   "name": "python",
   "nbconvert_exporter": "python",
   "pygments_lexer": "ipython3",
   "version": "3.8.0"
  }
 },
 "nbformat": 4,
 "nbformat_minor": 5
}
