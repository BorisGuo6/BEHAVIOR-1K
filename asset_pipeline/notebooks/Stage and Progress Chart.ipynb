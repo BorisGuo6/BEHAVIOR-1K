{
 "cells": [
  {
   "cell_type": "code",
   "execution_count": 1,
   "id": "94d2ef44",
   "metadata": {},
   "outputs": [],
   "source": [
    "from dvc.repo import Repo as DVCRepo\n",
    "import pathlib\n",
    "r = DVCRepo(r\"D:\\ig_pipeline\")"
   ]
  },
  {
   "cell_type": "code",
   "execution_count": 2,
   "id": "4a530e81",
   "metadata": {},
   "outputs": [],
   "source": [
    "# Boolean flag determining whether or not stages will be checked for status\n",
    "CHECK_PROCESSED = True"
   ]
  },
  {
   "cell_type": "code",
   "execution_count": 3,
   "id": "6e002a60",
   "metadata": {},
   "outputs": [],
   "source": [
    "stages = r.stages"
   ]
  },
  {
   "cell_type": "code",
   "execution_count": 4,
   "id": "cd3959d4",
   "metadata": {},
   "outputs": [
    {
     "name": "stdout",
     "output_type": "stream",
     "text": [
      "processed.max\n"
     ]
    }
   ],
   "source": [
    "dir(next(s for s in stages if s.is_data_source))\n",
    "print(pathlib.Path(next(s for s in stages if s.is_data_source).outs[0].fs_path).name)"
   ]
  },
  {
   "cell_type": "code",
   "execution_count": 5,
   "id": "83c1f82d",
   "metadata": {},
   "outputs": [],
   "source": [
    "s_to_deps = {s: [d.fs_path for d in s.deps] for s in stages}\n",
    "out_to_s = {o.fs_path: s for s in stages for o in s.outs}"
   ]
  },
  {
   "cell_type": "code",
   "execution_count": 6,
   "id": "25ff0bb5",
   "metadata": {},
   "outputs": [],
   "source": [
    "import collections\n",
    "out_to_s_dup = collections.defaultdict(list)\n",
    "for s in stages:\n",
    "    for o in s.outs:\n",
    "        out_to_s_dup[o.fs_path].append(s)"
   ]
  },
  {
   "cell_type": "code",
   "execution_count": 7,
   "id": "01d1e450",
   "metadata": {},
   "outputs": [
    {
     "data": {
      "text/plain": [
       "[]"
      ]
     },
     "execution_count": 7,
     "metadata": {},
     "output_type": "execute_result"
    }
   ],
   "source": [
    "[x for x, v in out_to_s_dup.items() if len(v) > 1]"
   ]
  },
  {
   "cell_type": "code",
   "execution_count": 8,
   "id": "a8467d2a",
   "metadata": {},
   "outputs": [],
   "source": [
    "import networkx as nx"
   ]
  },
  {
   "cell_type": "code",
   "execution_count": 9,
   "id": "c892beaf",
   "metadata": {},
   "outputs": [],
   "source": [
    "G = nx.DiGraph()"
   ]
  },
  {
   "cell_type": "code",
   "execution_count": 10,
   "id": "111a773e",
   "metadata": {},
   "outputs": [],
   "source": [
    "def canonicalize(s):\n",
    "    if s.is_data_source:\n",
    "        return pathlib.Path(s.outs[0].fs_path).name\n",
    "        \n",
    "    return s.name.split(\"@\")[0] if not s.is_data_source else \"data_source\""
   ]
  },
  {
   "cell_type": "code",
   "execution_count": 11,
   "id": "ac5755ac",
   "metadata": {},
   "outputs": [],
   "source": [
    "if CHECK_PROCESSED:\n",
    "    r.lock.lock()\n",
    "\n",
    "# Process nodes\n",
    "for s in s_to_deps.keys():\n",
    "    this_node = canonicalize(s)\n",
    "    if this_node not in G.nodes:\n",
    "        G.add_node(this_node, total=0, changed=0)\n",
    "        \n",
    "    if CHECK_PROCESSED:\n",
    "        G.nodes[this_node][\"total\"] += 1\n",
    "        if s.changed():\n",
    "            G.nodes[this_node][\"changed\"] += 1\n",
    "    \n",
    "# Add dependencies\n",
    "for s in s_to_deps.keys():\n",
    "    this_node = canonicalize(s)\n",
    "    for dep in s_to_deps[s]:\n",
    "        if dep in out_to_s:\n",
    "            from_node = canonicalize(out_to_s[dep])\n",
    "            G.add_edge(from_node, this_node)\n",
    "            \n",
    "if CHECK_PROCESSED:\n",
    "    r.lock.unlock()"
   ]
  },
  {
   "cell_type": "code",
   "execution_count": 12,
   "id": "5210dca6",
   "metadata": {},
   "outputs": [
    {
     "name": "stdout",
     "output_type": "stream",
     "text": [
      "processed.max\n",
      "raw.max\n",
      "textures\n",
      "bathroom.max\n",
      "living.max\n",
      "proxy\n",
      "object_list\n",
      "sanitycheck\n",
      "object_list_success\n",
      "sanitycheck_success\n",
      "object_inventory\n",
      "export_meshes\n",
      "export_meshes_success\n",
      "export_objs_global\n",
      "export_objs_global_success\n",
      "export_scene\n",
      "aggregate_scenes\n",
      "export_scene_success\n",
      "validate_scene\n",
      "aggregate_metadata\n",
      "validate_scene_success\n",
      "aggregate_metadata_success\n",
      "pack_dataset\n"
     ]
    }
   ],
   "source": [
    "for x in nx.topological_sort(G):\n",
    "    print(x)"
   ]
  },
  {
   "cell_type": "code",
   "execution_count": 13,
   "id": "70083648",
   "metadata": {},
   "outputs": [
    {
     "name": "stdout",
     "output_type": "stream",
     "text": [
      "    aggregate_metadata --> aggregate_metadata_success\n",
      "    aggregate_metadata --> pack_dataset\n",
      "    aggregate_metadata_success --> pack_dataset\n",
      "    aggregate_scenes --> aggregate_metadata\n",
      "    aggregate_scenes --> pack_dataset\n",
      "    export_meshes --> export_meshes_success\n",
      "    export_meshes --> export_objs_global\n",
      "    export_meshes --> export_scene\n",
      "    export_meshes_success --> export_objs_global\n",
      "    export_meshes_success --> export_scene\n",
      "    export_objs_global --> aggregate_metadata\n",
      "    export_objs_global --> export_objs_global_success\n",
      "    export_objs_global --> export_scene\n",
      "    export_objs_global --> pack_dataset\n",
      "    export_objs_global_success --> pack_dataset\n",
      "    export_scene --> aggregate_scenes\n",
      "    export_scene --> export_scene_success\n",
      "    export_scene --> validate_scene\n",
      "    object_inventory --> export_objs_global\n",
      "    object_list --> export_meshes\n",
      "    object_list --> export_objs_global\n",
      "    object_list --> object_inventory\n",
      "    object_list --> object_list_success\n",
      "    object_list_success --> export_objs_global\n",
      "    object_list_success --> object_inventory\n",
      "    sanitycheck --> sanitycheck_success\n",
      "    sanitycheck_success --> export_meshes\n",
      "    sanitycheck_success --> export_objs_global\n",
      "    validate_scene --> validate_scene_success\n",
      "    processed.max --> export_meshes\n",
      "    processed.max --> object_list\n",
      "    processed.max --> sanitycheck\n"
     ]
    }
   ],
   "source": [
    "# In mermaid format for pasting into README\n",
    "for f, t in G.edges:\n",
    "    print(f\"    {f} --> {t}\")"
   ]
  },
  {
   "cell_type": "code",
   "execution_count": 14,
   "id": "a10039ae",
   "metadata": {},
   "outputs": [
    {
     "data": {
      "image/png": "[encoded data removed]",
      "text/plain": [
       "<Figure size 432x288 with 1 Axes>"
      ]
     },
     "metadata": {},
     "output_type": "display_data"
    }
   ],
   "source": [
    "import matplotlib.pyplot as plt\n",
    "from networkx.drawing.nx_pydot import graphviz_layout\n",
    "pos = graphviz_layout(G, prog=\"dot\")\n",
    "nx.draw(G, pos)\n",
    "plt.show()"
   ]
  },
  {
   "cell_type": "code",
   "execution_count": 15,
   "id": "23cb55fe",
   "metadata": {},
   "outputs": [
    {
     "name": "stdout",
     "output_type": "stream",
     "text": [
      "Completion ratios:\n",
      "processed.max: 100%\n",
      "raw.max: 100%\n",
      "textures: 100%\n",
      "bathroom.max: 100%\n",
      "living.max: 100%\n",
      "proxy: 100%\n",
      "object_list: 97%\n",
      "sanitycheck: 97%\n",
      "object_list_success: 100%\n",
      "sanitycheck_success: 100%\n",
      "object_inventory: 100%\n",
      "export_meshes: 55%\n",
      "export_meshes_success: 0%\n",
      "export_objs_global: 0%\n",
      "export_objs_global_success: 0%\n",
      "export_scene: 0%\n",
      "aggregate_scenes: 0%\n",
      "export_scene_success: 0%\n",
      "validate_scene: 0%\n",
      "aggregate_metadata: 0%\n",
      "validate_scene_success: 0%\n",
      "aggregate_metadata_success: 0%\n",
      "pack_dataset: 0%\n"
     ]
    }
   ],
   "source": [
    "if CHECK_PROCESSED:\n",
    "    print(\"Completion ratios:\")\n",
    "    for x in nx.topological_sort(G):\n",
    "        completion_ratio = 1 - (G.nodes[x][\"changed\"] / G.nodes[x][\"total\"])\n",
    "        completion_percentage = int(completion_ratio * 100)\n",
    "        print(f\"{x}: {completion_percentage}%\")"
   ]
  },
  {
   "cell_type": "code",
   "execution_count": null,
   "id": "adb6c047",
   "metadata": {},
   "outputs": [],
   "source": []
  }
 ],
 "metadata": {
  "kernelspec": {
   "display_name": "Python 3 (ipykernel)",
   "language": "python",
   "name": "python3"
  },
  "language_info": {
   "codemirror_mode": {
    "name": "ipython",
    "version": 3
   },
   "file_extension": ".py",
   "mimetype": "text/x-python",
   "name": "python",
   "nbconvert_exporter": "python",
   "pygments_lexer": "ipython3",
   "version": "3.8.0"
  }
 },
 "nbformat": 4,
 "nbformat_minor": 5
}
