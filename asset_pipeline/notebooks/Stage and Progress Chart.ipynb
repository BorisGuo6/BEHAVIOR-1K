{
 "cells": [
  {
   "cell_type": "code",
   "execution_count": 1,
   "id": "94d2ef44",
   "metadata": {},
   "outputs": [],
   "source": [
    "from dvc.repo import Repo as DVCRepo\n",
    "import pathlib\n",
    "r = DVCRepo(r\"D:\\ig_pipeline\")"
   ]
  },
  {
   "cell_type": "code",
   "execution_count": 2,
   "id": "4a530e81",
   "metadata": {},
   "outputs": [],
   "source": [
    "# Boolean flag determining whether or not stages will be checked for status\n",
    "CHECK_PROCESSED = True"
   ]
  },
  {
   "cell_type": "code",
   "execution_count": 3,
   "id": "6e002a60",
   "metadata": {},
   "outputs": [],
   "source": [
    "stages = r.stages"
   ]
  },
  {
   "cell_type": "code",
   "execution_count": 4,
   "id": "cd3959d4",
   "metadata": {},
   "outputs": [
    {
     "name": "stdout",
     "output_type": "stream",
     "text": [
      "processed.max\n"
     ]
    }
   ],
   "source": [
    "dir(next(s for s in stages if s.is_data_source))\n",
    "print(pathlib.Path(next(s for s in stages if s.is_data_source).outs[0].fs_path).name)"
   ]
  },
  {
   "cell_type": "code",
   "execution_count": 5,
   "id": "83c1f82d",
   "metadata": {},
   "outputs": [],
   "source": [
    "s_to_deps = {s: [d.fs_path for d in s.deps] for s in stages}\n",
    "out_to_s = {o.fs_path: s for s in stages for o in s.outs}"
   ]
  },
  {
   "cell_type": "code",
   "execution_count": 6,
   "id": "25ff0bb5",
   "metadata": {},
   "outputs": [],
   "source": [
    "import collections\n",
    "out_to_s_dup = collections.defaultdict(list)\n",
    "for s in stages:\n",
    "    for o in s.outs:\n",
    "        out_to_s_dup[o.fs_path].append(s)"
   ]
  },
  {
   "cell_type": "code",
   "execution_count": 7,
   "id": "01d1e450",
   "metadata": {},
   "outputs": [
    {
     "data": {
      "text/plain": [
       "[]"
      ]
     },
     "execution_count": 7,
     "metadata": {},
     "output_type": "execute_result"
    }
   ],
   "source": [
    "[x for x, v in out_to_s_dup.items() if len(v) > 1]"
   ]
  },
  {
   "cell_type": "code",
   "execution_count": 8,
   "id": "a8467d2a",
   "metadata": {},
   "outputs": [],
   "source": [
    "import networkx as nx"
   ]
  },
  {
   "cell_type": "code",
   "execution_count": 9,
   "id": "c892beaf",
   "metadata": {},
   "outputs": [],
   "source": [
    "G = nx.DiGraph()"
   ]
  },
  {
   "cell_type": "code",
   "execution_count": 10,
   "id": "74e645ae",
   "metadata": {},
   "outputs": [],
   "source": [
    "def name(s):\n",
    "    if s.is_data_source:\n",
    "        return pathlib.Path(s.outs[0].fs_path).name\n",
    "    return s.name"
   ]
  },
  {
   "cell_type": "code",
   "execution_count": 11,
   "id": "111a773e",
   "metadata": {},
   "outputs": [],
   "source": [
    "def canonicalize(s):\n",
    "    if s.is_data_source:\n",
    "        return pathlib.Path(s.outs[0].fs_path).name\n",
    "        \n",
    "    return s.name.split(\"@\")[0] if not s.is_data_source else \"data_source\""
   ]
  },
  {
   "cell_type": "code",
   "execution_count": 12,
   "id": "ac5755ac",
   "metadata": {},
   "outputs": [],
   "source": [
    "if CHECK_PROCESSED:\n",
    "    r.lock.lock()\n",
    "\n",
    "# Process nodes\n",
    "for s in s_to_deps.keys():\n",
    "    this_node = canonicalize(s)\n",
    "    if this_node not in G.nodes:\n",
    "        G.add_node(this_node, total=0, changed=0, total_set=set(), changed_set=set())\n",
    "        \n",
    "    if CHECK_PROCESSED:\n",
    "        G.nodes[this_node][\"total\"] += 1\n",
    "        G.nodes[this_node][\"total_set\"].add(name(s))\n",
    "        if s.changed():\n",
    "            G.nodes[this_node][\"changed\"] += 1\n",
    "            G.nodes[this_node][\"changed_set\"].add(name(s))\n",
    "    \n",
    "# Add dependencies\n",
    "for s in s_to_deps.keys():\n",
    "    this_node = canonicalize(s)\n",
    "    for dep in s_to_deps[s]:\n",
    "        if dep in out_to_s:\n",
    "            from_node = canonicalize(out_to_s[dep])\n",
    "            G.add_edge(from_node, this_node)\n",
    "            \n",
    "if CHECK_PROCESSED:\n",
    "    r.lock.unlock()"
   ]
  },
  {
   "cell_type": "code",
   "execution_count": 13,
   "id": "5210dca6",
   "metadata": {},
   "outputs": [
    {
     "name": "stdout",
     "output_type": "stream",
     "text": [
      "aggregate_scenes\n",
      "combined_room_object_list\n",
      "processed.max\n",
      "raw.max\n",
      "textures\n",
      "collision_meshes.zip\n",
      "bathroom.max\n",
      "living.max\n",
      "proxy\n",
      "object_list\n",
      "room_object_list\n",
      "sanitycheck\n",
      "object_list_success\n",
      "combined_room_object_list_future\n",
      "sanitycheck_success\n",
      "object_inventory\n",
      "object_inventory_future\n",
      "export_meshes\n",
      "aggregate_metadata\n",
      "object_inventory_success\n",
      "export_meshes_success\n",
      "aggregate_metadata_success\n",
      "export_objs_global\n",
      "export_objs_global_success\n",
      "make_maps\n",
      "usdify_objects\n",
      "pack_dataset\n",
      "generate_object_images\n",
      "usdify_dataset\n"
     ]
    }
   ],
   "source": [
    "for x in nx.topological_sort(G):\n",
    "    print(x)"
   ]
  },
  {
   "cell_type": "code",
   "execution_count": 14,
   "id": "70083648",
   "metadata": {},
   "outputs": [
    {
     "name": "stdout",
     "output_type": "stream",
     "text": [
      "    aggregate_metadata --> aggregate_metadata_success\n",
      "    aggregate_metadata --> make_maps\n",
      "    aggregate_metadata --> pack_dataset\n",
      "    aggregate_metadata --> usdify_objects\n",
      "    aggregate_metadata_success --> pack_dataset\n",
      "    aggregate_metadata_success --> usdify_objects\n",
      "    aggregate_scenes --> make_maps\n",
      "    aggregate_scenes --> pack_dataset\n",
      "    export_meshes --> export_meshes_success\n",
      "    export_meshes --> export_objs_global\n",
      "    export_meshes_success --> export_objs_global\n",
      "    export_objs_global --> export_objs_global_success\n",
      "    export_objs_global --> make_maps\n",
      "    export_objs_global --> pack_dataset\n",
      "    export_objs_global --> usdify_objects\n",
      "    export_objs_global_success --> pack_dataset\n",
      "    object_inventory --> aggregate_metadata\n",
      "    object_inventory --> object_inventory_success\n",
      "    object_list --> export_meshes\n",
      "    object_list --> export_objs_global\n",
      "    object_list --> object_inventory\n",
      "    object_list --> object_inventory_future\n",
      "    object_list --> object_list_success\n",
      "    object_list_success --> export_objs_global\n",
      "    object_list_success --> object_inventory\n",
      "    object_list_success --> object_inventory_future\n",
      "    pack_dataset --> usdify_dataset\n",
      "    room_object_list --> combined_room_object_list_future\n",
      "    sanitycheck --> sanitycheck_success\n",
      "    sanitycheck_success --> export_meshes\n",
      "    sanitycheck_success --> export_objs_global\n",
      "    usdify_objects --> generate_object_images\n",
      "    processed.max --> export_meshes\n",
      "    processed.max --> object_list\n",
      "    processed.max --> room_object_list\n",
      "    processed.max --> sanitycheck\n"
     ]
    }
   ],
   "source": [
    "# In mermaid format for pasting into README\n",
    "for f, t in G.edges:\n",
    "    print(f\"    {f} --> {t}\")"
   ]
  },
  {
   "cell_type": "code",
   "execution_count": 15,
   "id": "a10039ae",
   "metadata": {},
   "outputs": [
    {
     "name": "stdout",
     "output_type": "stream",
     "text": [
      "\"dot\" with args ['-Tdot', 'C:\\\\Users\\\\Cem\\\\AppData\\\\Local\\\\Temp\\\\tmpo4ws8r18'] returned code: 1\n",
      "\n",
      "stdout, stderr:\n",
      " b''\n",
      "b'Warning: Could not load \"C:\\\\Users\\\\Cem\\\\.conda\\\\envs\\\\pipeline\\\\Library\\\\bin\\\\gvplugin_pango.dll\" - It was found, so perhaps one of its dependents was not.  Try ldd.\\r\\nError: C:\\\\Users\\\\Cem\\\\AppData\\\\Local\\\\Temp\\\\tmpo4ws8r18: syntax error in line 7 scanning a quoted string (missing endquote? longer than 16384?)\\r\\nString starting:\"{\\'export_meshes@objects/legacy_picture-qjkajj\\', \\'export_meshes@objects/legacy_eg\\r\\n'\n",
      "\n"
     ]
    },
    {
     "ename": "AssertionError",
     "evalue": "\"dot\" with args ['-Tdot', 'C:\\\\Users\\\\Cem\\\\AppData\\\\Local\\\\Temp\\\\tmpo4ws8r18'] returned code: 1",
     "output_type": "error",
     "traceback": [
      "\u001b[1;31m---------------------------------------------------------------------------\u001b[0m",
      "\u001b[1;31mAssertionError\u001b[0m                            Traceback (most recent call last)",
      "Input \u001b[1;32mIn [15]\u001b[0m, in \u001b[0;36m<cell line: 3>\u001b[1;34m()\u001b[0m\n\u001b[0;32m      1\u001b[0m \u001b[38;5;28;01mimport\u001b[39;00m \u001b[38;5;21;01mmatplotlib\u001b[39;00m\u001b[38;5;21;01m.\u001b[39;00m\u001b[38;5;21;01mpyplot\u001b[39;00m \u001b[38;5;28;01mas\u001b[39;00m \u001b[38;5;21;01mplt\u001b[39;00m\n\u001b[0;32m      2\u001b[0m \u001b[38;5;28;01mfrom\u001b[39;00m \u001b[38;5;21;01mnetworkx\u001b[39;00m\u001b[38;5;21;01m.\u001b[39;00m\u001b[38;5;21;01mdrawing\u001b[39;00m\u001b[38;5;21;01m.\u001b[39;00m\u001b[38;5;21;01mnx_pydot\u001b[39;00m \u001b[38;5;28;01mimport\u001b[39;00m graphviz_layout\n\u001b[1;32m----> 3\u001b[0m pos \u001b[38;5;241m=\u001b[39m \u001b[43mgraphviz_layout\u001b[49m\u001b[43m(\u001b[49m\u001b[43mG\u001b[49m\u001b[43m,\u001b[49m\u001b[43m \u001b[49m\u001b[43mprog\u001b[49m\u001b[38;5;241;43m=\u001b[39;49m\u001b[38;5;124;43m\"\u001b[39;49m\u001b[38;5;124;43mdot\u001b[39;49m\u001b[38;5;124;43m\"\u001b[39;49m\u001b[43m)\u001b[49m\n\u001b[0;32m      4\u001b[0m nx\u001b[38;5;241m.\u001b[39mdraw(G, pos)\n\u001b[0;32m      5\u001b[0m plt\u001b[38;5;241m.\u001b[39mshow()\n",
      "File \u001b[1;32m~\\.conda\\envs\\pipeline\\lib\\site-packages\\networkx\\drawing\\nx_pydot.py:357\u001b[0m, in \u001b[0;36mgraphviz_layout\u001b[1;34m(G, prog, root)\u001b[0m\n\u001b[0;32m    349\u001b[0m msg \u001b[38;5;241m=\u001b[39m (\n\u001b[0;32m    350\u001b[0m     \u001b[38;5;124m\"\u001b[39m\u001b[38;5;124mnx.nx_pydot.graphviz_layout depends on the pydot package, which has\u001b[39m\u001b[38;5;124m\"\u001b[39m\n\u001b[0;32m    351\u001b[0m     \u001b[38;5;124m\"\u001b[39m\u001b[38;5;124mknown issues and is not actively maintained. Consider using\u001b[39m\u001b[38;5;124m\"\u001b[39m\n\u001b[0;32m    352\u001b[0m     \u001b[38;5;124m\"\u001b[39m\u001b[38;5;124mnx.nx_agraph.graphviz_layout instead.\u001b[39m\u001b[38;5;130;01m\\n\u001b[39;00m\u001b[38;5;130;01m\\n\u001b[39;00m\u001b[38;5;124m\"\u001b[39m\n\u001b[0;32m    353\u001b[0m     \u001b[38;5;124m\"\u001b[39m\u001b[38;5;124mSee https://github.com/networkx/networkx/issues/5723\u001b[39m\u001b[38;5;124m\"\u001b[39m\n\u001b[0;32m    354\u001b[0m )\n\u001b[0;32m    355\u001b[0m warnings\u001b[38;5;241m.\u001b[39mwarn(msg, \u001b[38;5;167;01mPendingDeprecationWarning\u001b[39;00m, stacklevel\u001b[38;5;241m=\u001b[39m\u001b[38;5;241m2\u001b[39m)\n\u001b[1;32m--> 357\u001b[0m \u001b[38;5;28;01mreturn\u001b[39;00m \u001b[43mpydot_layout\u001b[49m\u001b[43m(\u001b[49m\u001b[43mG\u001b[49m\u001b[38;5;241;43m=\u001b[39;49m\u001b[43mG\u001b[49m\u001b[43m,\u001b[49m\u001b[43m \u001b[49m\u001b[43mprog\u001b[49m\u001b[38;5;241;43m=\u001b[39;49m\u001b[43mprog\u001b[49m\u001b[43m,\u001b[49m\u001b[43m \u001b[49m\u001b[43mroot\u001b[49m\u001b[38;5;241;43m=\u001b[39;49m\u001b[43mroot\u001b[49m\u001b[43m)\u001b[49m\n",
      "File \u001b[1;32m~\\.conda\\envs\\pipeline\\lib\\site-packages\\networkx\\drawing\\nx_pydot.py:412\u001b[0m, in \u001b[0;36mpydot_layout\u001b[1;34m(G, prog, root)\u001b[0m\n\u001b[0;32m    408\u001b[0m     P\u001b[38;5;241m.\u001b[39mset(\u001b[38;5;124m\"\u001b[39m\u001b[38;5;124mroot\u001b[39m\u001b[38;5;124m\"\u001b[39m, \u001b[38;5;28mstr\u001b[39m(root))\n\u001b[0;32m    410\u001b[0m \u001b[38;5;66;03m# List of low-level bytes comprising a string in the dot language converted\u001b[39;00m\n\u001b[0;32m    411\u001b[0m \u001b[38;5;66;03m# from the passed graph with the passed external GraphViz command.\u001b[39;00m\n\u001b[1;32m--> 412\u001b[0m D_bytes \u001b[38;5;241m=\u001b[39m \u001b[43mP\u001b[49m\u001b[38;5;241;43m.\u001b[39;49m\u001b[43mcreate_dot\u001b[49m\u001b[43m(\u001b[49m\u001b[43mprog\u001b[49m\u001b[38;5;241;43m=\u001b[39;49m\u001b[43mprog\u001b[49m\u001b[43m)\u001b[49m\n\u001b[0;32m    414\u001b[0m \u001b[38;5;66;03m# Unique string decoded from these bytes with the preferred locale encoding\u001b[39;00m\n\u001b[0;32m    415\u001b[0m D \u001b[38;5;241m=\u001b[39m \u001b[38;5;28mstr\u001b[39m(D_bytes, encoding\u001b[38;5;241m=\u001b[39mgetpreferredencoding())\n",
      "File \u001b[1;32m~\\.conda\\envs\\pipeline\\lib\\site-packages\\pydot.py:1733\u001b[0m, in \u001b[0;36mDot.__init__.<locals>.new_method\u001b[1;34m(f, prog, encoding)\u001b[0m\n\u001b[0;32m   1729\u001b[0m \u001b[38;5;28;01mdef\u001b[39;00m \u001b[38;5;21mnew_method\u001b[39m(\n\u001b[0;32m   1730\u001b[0m         f\u001b[38;5;241m=\u001b[39mfrmt, prog\u001b[38;5;241m=\u001b[39m\u001b[38;5;28mself\u001b[39m\u001b[38;5;241m.\u001b[39mprog,\n\u001b[0;32m   1731\u001b[0m         encoding\u001b[38;5;241m=\u001b[39m\u001b[38;5;28;01mNone\u001b[39;00m):\n\u001b[0;32m   1732\u001b[0m     \u001b[38;5;124;03m\"\"\"Refer to docstring of method `create`.\"\"\"\u001b[39;00m\n\u001b[1;32m-> 1733\u001b[0m     \u001b[38;5;28;01mreturn\u001b[39;00m \u001b[38;5;28;43mself\u001b[39;49m\u001b[38;5;241;43m.\u001b[39;49m\u001b[43mcreate\u001b[49m\u001b[43m(\u001b[49m\n\u001b[0;32m   1734\u001b[0m \u001b[43m        \u001b[49m\u001b[38;5;28;43mformat\u001b[39;49m\u001b[38;5;241;43m=\u001b[39;49m\u001b[43mf\u001b[49m\u001b[43m,\u001b[49m\u001b[43m \u001b[49m\u001b[43mprog\u001b[49m\u001b[38;5;241;43m=\u001b[39;49m\u001b[43mprog\u001b[49m\u001b[43m,\u001b[49m\u001b[43m \u001b[49m\u001b[43mencoding\u001b[49m\u001b[38;5;241;43m=\u001b[39;49m\u001b[43mencoding\u001b[49m\u001b[43m)\u001b[49m\n",
      "File \u001b[1;32m~\\.conda\\envs\\pipeline\\lib\\site-packages\\pydot.py:1956\u001b[0m, in \u001b[0;36mDot.create\u001b[1;34m(self, prog, format, encoding)\u001b[0m\n\u001b[0;32m   1944\u001b[0m     message \u001b[38;5;241m=\u001b[39m (\n\u001b[0;32m   1945\u001b[0m         \u001b[38;5;124m'\u001b[39m\u001b[38;5;124m\"\u001b[39m\u001b[38;5;132;01m{prog}\u001b[39;00m\u001b[38;5;124m\"\u001b[39m\u001b[38;5;124m with args \u001b[39m\u001b[38;5;132;01m{arguments}\u001b[39;00m\u001b[38;5;124m returned code: \u001b[39m\u001b[38;5;132;01m{code}\u001b[39;00m\u001b[38;5;130;01m\\n\u001b[39;00m\u001b[38;5;130;01m\\n\u001b[39;00m\u001b[38;5;124m'\u001b[39m\n\u001b[0;32m   1946\u001b[0m         \u001b[38;5;124m'\u001b[39m\u001b[38;5;124mstdout, stderr:\u001b[39m\u001b[38;5;130;01m\\n\u001b[39;00m\u001b[38;5;124m \u001b[39m\u001b[38;5;132;01m{out}\u001b[39;00m\u001b[38;5;130;01m\\n\u001b[39;00m\u001b[38;5;132;01m{err}\u001b[39;00m\u001b[38;5;130;01m\\n\u001b[39;00m\u001b[38;5;124m'\u001b[39m\n\u001b[1;32m   (...)\u001b[0m\n\u001b[0;32m   1952\u001b[0m         err\u001b[38;5;241m=\u001b[39mstderr_data,\n\u001b[0;32m   1953\u001b[0m     )\n\u001b[0;32m   1954\u001b[0m     \u001b[38;5;28mprint\u001b[39m(message)\n\u001b[1;32m-> 1956\u001b[0m \u001b[38;5;28;01massert\u001b[39;00m process\u001b[38;5;241m.\u001b[39mreturncode \u001b[38;5;241m==\u001b[39m \u001b[38;5;241m0\u001b[39m, (\n\u001b[0;32m   1957\u001b[0m         \u001b[38;5;124m'\u001b[39m\u001b[38;5;124m\"\u001b[39m\u001b[38;5;132;01m{prog}\u001b[39;00m\u001b[38;5;124m\"\u001b[39m\u001b[38;5;124m with args \u001b[39m\u001b[38;5;132;01m{arguments}\u001b[39;00m\u001b[38;5;124m returned code: \u001b[39m\u001b[38;5;132;01m{code}\u001b[39;00m\u001b[38;5;124m'\u001b[39m\u001b[38;5;241m.\u001b[39mformat(\n\u001b[0;32m   1958\u001b[0m             prog\u001b[38;5;241m=\u001b[39mprog,\n\u001b[0;32m   1959\u001b[0m             arguments\u001b[38;5;241m=\u001b[39marguments,\n\u001b[0;32m   1960\u001b[0m             code\u001b[38;5;241m=\u001b[39mprocess\u001b[38;5;241m.\u001b[39mreturncode,\n\u001b[0;32m   1961\u001b[0m         )\n\u001b[0;32m   1962\u001b[0m     )\n\u001b[0;32m   1964\u001b[0m \u001b[38;5;28;01mreturn\u001b[39;00m stdout_data\n",
      "\u001b[1;31mAssertionError\u001b[0m: \"dot\" with args ['-Tdot', 'C:\\\\Users\\\\Cem\\\\AppData\\\\Local\\\\Temp\\\\tmpo4ws8r18'] returned code: 1"
     ]
    }
   ],
   "source": [
    "import matplotlib.pyplot as plt\n",
    "from networkx.drawing.nx_pydot import graphviz_layout\n",
    "pos = graphviz_layout(G, prog=\"dot\")\n",
    "nx.draw(G, pos)\n",
    "plt.show()"
   ]
  },
  {
   "cell_type": "code",
   "execution_count": null,
   "id": "23cb55fe",
   "metadata": {},
   "outputs": [],
   "source": [
    "if CHECK_PROCESSED:\n",
    "    print(\"Completion ratios:\")\n",
    "    for x in nx.topological_sort(G):\n",
    "        completion_ratio = 1 - (G.nodes[x][\"changed\"] / G.nodes[x][\"total\"])\n",
    "        completion_percentage = int(completion_ratio * 100)\n",
    "        print(f\"{x}: {completion_percentage}%\")"
   ]
  },
  {
   "cell_type": "code",
   "execution_count": null,
   "id": "adb6c047",
   "metadata": {},
   "outputs": [],
   "source": [
    "completed_meshes = G.nodes[\"export_meshes\"][\"total_set\"] - G.nodes[\"export_meshes\"][\"changed_set\"]\n",
    "for e in sorted(completed_meshes):\n",
    "    obj = e.split(\"/\")[-1]\n",
    "    print(f'    \"{obj}\",')\n"
   ]
  },
  {
   "cell_type": "code",
   "execution_count": 22,
   "id": "b34792c6",
   "metadata": {},
   "outputs": [],
   "source": [
    "# Clear out the stuff that failed\n",
    "import ruamel.yaml\n",
    "import glob, json\n",
    "\n",
    "with open(r\"D:\\ig_pipeline\\dvc.lock\") as f:\n",
    "    yaml = ruamel.yaml.YAML(typ=\"rt\")\n",
    "    lock = yaml.load(f)\n",
    "\n",
    "stages = list(lock[\"stages\"].keys())\n",
    "for stage in stages:\n",
    "    if \"legacy_\" in stage and \"legacy_batch\" not in stage:\n",
    "        del lock[\"stages\"][stage]\n",
    "    \n",
    "with open(r\"D:\\ig_pipeline\\dvc.lock\", \"w\") as f:\n",
    "    yaml = ruamel.yaml.YAML()\n",
    "    yaml.default_flow_style = False\n",
    "    yaml.dump(lock, f)"
   ]
  },
  {
   "cell_type": "code",
   "execution_count": null,
   "id": "cbd49087",
   "metadata": {},
   "outputs": [],
   "source": []
  }
 ],
 "metadata": {
  "kernelspec": {
   "display_name": "Python 3 (ipykernel)",
   "language": "python",
   "name": "python3"
  },
  "language_info": {
   "codemirror_mode": {
    "name": "ipython",
    "version": 3
   },
   "file_extension": ".py",
   "mimetype": "text/x-python",
   "name": "python",
   "nbconvert_exporter": "python",
   "pygments_lexer": "ipython3",
   "version": "3.8.0"
  }
 },
 "nbformat": 4,
 "nbformat_minor": 5
}
