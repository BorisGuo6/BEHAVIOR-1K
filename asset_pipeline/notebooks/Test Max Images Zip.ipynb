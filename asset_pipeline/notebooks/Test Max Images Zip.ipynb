{
 "cells": [
  {
   "cell_type": "code",
   "execution_count": 2,
   "metadata": {},
   "outputs": [],
   "source": [
    "import pathlib\n",
    "import os\n",
    "from PIL import Image\n",
    "from fs.zipfs import ZipFS\n",
    "\n",
    "pipeline_root = r\"D:\\ig_pipeline\"\n",
    "name = \"affyzw\"\n",
    "background_path = pathlib.Path(r\"D:\\ig_pipeline\\b1k_pipeline\\tools\") / \"background.jpg\"\n",
    "background = Image.open(background_path).resize((800, 800))"
   ]
  },
  {
   "cell_type": "code",
   "execution_count": 3,
   "metadata": {},
   "outputs": [
    {
     "name": "stdout",
     "output_type": "stream",
     "text": [
      "18444\n"
     ]
    }
   ],
   "source": [
    "# Open the zip file\n",
    "zip_path = os.path.join(pipeline_root, \"artifacts\", \"pipeline\", \"max_object_images.zip\")\n",
    "with ZipFS(zip_path) as zip_fs:\n",
    "    print(len(zip_fs.listdir(\"/\")))\n",
    "    # Find and show photos of this object.\n",
    "    image_paths = sorted([x for x in zip_fs.listdir(\"/\") if name.replace(\"obj_\", \"\") in x])\n",
    "    for image_path in image_paths:\n",
    "        with zip_fs.open(image_path, \"rb\") as f:\n",
    "            image = background.copy()\n",
    "            max_image = Image.open(f)\n",
    "            image.paste(max_image, (0, 0),mask=max_image) \n",
    "            image.show()"
   ]
  },
  {
   "cell_type": "code",
   "execution_count": null,
   "metadata": {},
   "outputs": [],
   "source": []
  }
 ],
 "metadata": {
  "kernelspec": {
   "display_name": "omnigibson",
   "language": "python",
   "name": "python3"
  },
  "language_info": {
   "codemirror_mode": {
    "name": "ipython",
    "version": 3
   },
   "file_extension": ".py",
   "mimetype": "text/x-python",
   "name": "python",
   "nbconvert_exporter": "python",
   "pygments_lexer": "ipython3",
   "version": "3.10.0"
  }
 },
 "nbformat": 4,
 "nbformat_minor": 2
}
