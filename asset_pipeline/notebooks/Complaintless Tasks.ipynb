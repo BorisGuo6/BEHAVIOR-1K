{
 "cells": [
  {
   "cell_type": "code",
   "execution_count": 1,
   "id": "0eedb8af",
   "metadata": {},
   "outputs": [
    {
     "name": "stderr",
     "output_type": "stream",
     "text": [
      "Loading BDDL knowledge base... This may take a few seconds.\n",
      "[nltk_data] Downloading package wordnet to /home/cgokmen/nltk_data...\n",
      "[nltk_data]   Package wordnet is already up-to-date!\n",
      "Complained object azqqwx does not exist in the database. Skipping.\n",
      "Complained object ntmrkt does not exist in the database. Skipping.\n",
      "Complained object aginyz does not exist in the database. Skipping.\n",
      "Complained object bjyvil does not exist in the database. Skipping.\n",
      "Complained object yzplpe does not exist in the database. Skipping.\n",
      "Complained object asjalm does not exist in the database. Skipping.\n"
     ]
    }
   ],
   "source": [
    "from bddl.knowledge_base import *"
   ]
  },
  {
   "cell_type": "code",
   "execution_count": 2,
   "id": "eadd88c3",
   "metadata": {},
   "outputs": [],
   "source": [
    "tasks = [\n",
    "    \"putting_away_toys-0\",\n",
    "    \"putting_away_Halloween_decorations-0\",\n",
    "    \"clean_up_broken_glass-0\",\n",
    "    \"cleaning_out_drawers-0\",\n",
    "    \"sorting_mail-0\",\n",
    "    \"putting_up_Christmas_decorations_inside-0\",\n",
    "    \"opening_windows-0\",\n",
    "    \"treating_clothes-0\",\n",
    "    \"fill_a_bucket_in_a_small_sink-0\",\n",
    "    \"filling_salt-0\",\n",
    "    \"spraying_for_bugs-0\",\n",
    "    \"cleaning_bathtub-0\",\n",
    "    \"changing_light_bulbs-0\",\n",
    "    \"cook_hot_dogs-0\",\n",
    "    \"setting_the_fire-0\",\n",
    "    \"freeze_pies-0\",\n",
    "    \"thawing_frozen_food-0\",\n",
    "    \"turning_on_radio-0\",\n",
    "    \"turning_out_all_lights_before_sleep-0\",\n",
    "    \"hanging_up_bedsheets-0\",\n",
    "    \"making_the_bed-0\",\n",
    "    \"folding_piece_of_cloth-0\",\n",
    "    \"laying_clothes_out-0\",\n",
    "    \"chop_an_onion-0\",\n",
    "    \"melt_white_chocolate-0\",\n",
    "    \"boil_water-0\",\n",
    "    \"make_a_strawberry_slushie-0\",\n",
    "    \"make_cake_mix-0\",\n",
    "    \"make_biscuits-0\",\n",
    "    \"clean_sheets-0\",\n",
    "]"
   ]
  },
  {
   "cell_type": "code",
   "execution_count": 28,
   "id": "a900c149",
   "metadata": {},
   "outputs": [],
   "source": [
    "# Pick an example task\n",
    "import re\n",
    "\n",
    "def check_task_readyness(t):\n",
    "    synsets = set(t.synsets)\n",
    "    scene_synsets = {Synset.get(x) for x in re.findall(r\"\\(inroom (.*)_.* .*\\)\", t.definition)}\n",
    "    nonscene_synsets = synsets - scene_synsets\n",
    "    bad_synsets = set()\n",
    "    for synset in nonscene_synsets:\n",
    "        if synset.state == SynsetState.SUBSTANCE:\n",
    "            continue\n",
    "        good_objects = {\n",
    "            obj\n",
    "            for obj in synset.matching_objects\n",
    "            if len(list(obj.complaints)) == 0 and obj.fully_supports_synset(synset)\n",
    "        }\n",
    "        if not good_objects:\n",
    "            bad_synsets.add(synset)\n",
    "    # print(f\"\\nTask: {t.name} bad_synsets: {bad_synsets}\")\n",
    "    print(\", \".join(s.name for s in bad_synsets))"
   ]
  },
  {
   "cell_type": "code",
   "execution_count": 29,
   "id": "257af309",
   "metadata": {},
   "outputs": [
    {
     "name": "stdout",
     "output_type": "stream",
     "text": [
      "carton.n.02\n",
      "\n",
      "\n",
      "dinner_napkin.n.01\n",
      "\n",
      "carton.n.02\n",
      "\n",
      "long_trousers.n.01, iron.n.04\n",
      "\n",
      "\n",
      "\n",
      "\n",
      "table_lamp.n.01\n",
      "\n",
      "cigar_lighter.n.01\n",
      "\n",
      "olive.n.04\n",
      "\n",
      "\n",
      "sheet.n.03\n",
      "blanket.n.01\n",
      "\n",
      "trouser.n.01, shirt.n.01\n",
      "carving_knife.n.01\n",
      "\n",
      "\n",
      "lemon_juice__bottle.n.01, strawberry.n.01\n",
      "sodium_carbonate__jar.n.01, baking_powder__jar.n.01\n",
      "milk__carton.n.01, baking_powder__jar.n.01\n",
      "case.n.19, sheet.n.03\n"
     ]
    }
   ],
   "source": [
    "for task in tasks:\n",
    "    task = Task.get(task)\n",
    "    if task is None:\n",
    "        print(f\"Task {task} not found\")\n",
    "        continue\n",
    "    check_task_readyness(task)"
   ]
  },
  {
   "cell_type": "code",
   "execution_count": null,
   "id": "0f718648",
   "metadata": {},
   "outputs": [],
   "source": []
  }
 ],
 "metadata": {
  "kernelspec": {
   "display_name": "omnigibson45",
   "language": "python",
   "name": "python3"
  },
  "language_info": {
   "codemirror_mode": {
    "name": "ipython",
    "version": 3
   },
   "file_extension": ".py",
   "mimetype": "text/x-python",
   "name": "python",
   "nbconvert_exporter": "python",
   "pygments_lexer": "ipython3",
   "version": "3.10.0"
  }
 },
 "nbformat": 4,
 "nbformat_minor": 5
}
