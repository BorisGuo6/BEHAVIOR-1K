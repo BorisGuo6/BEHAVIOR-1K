{
 "cells": [
  {
   "cell_type": "code",
   "execution_count": 1,
   "metadata": {},
   "outputs": [],
   "source": [
    "import json\n",
    "import pathlib\n",
    "\n",
    "d = json.loads(pathlib.Path(\"/scr/ig_pipeline/artifacts/pipeline/validate_scenes.json\").read_text())"
   ]
  },
  {
   "cell_type": "code",
   "execution_count": 2,
   "metadata": {},
   "outputs": [],
   "source": [
    "import re\n",
    "import collections\n",
    "\n",
    "results = {}\n",
    "issue_object_ids = collections.defaultdict(set)\n",
    "issues_by_scene = collections.defaultdict(set)\n",
    "\n",
    "issue_re = re.compile(r\"^(.*) (position|orientation)\")\n",
    "\n",
    "for scene_name, result in d[\"scenes\"].items():\n",
    "  if result[\"success\"]:\n",
    "    results[scene_name] = \"success\"\n",
    "  elif result[\"issues\"]:\n",
    "    results[scene_name] = \"issues\"\n",
    "    for issue in result[\"issues\"]:\n",
    "      obj_name = re.match(issue_re, issue).group(1).split(\"-\", 1)[0]\n",
    "      obj_id = obj_name.rsplit(\"_\", 2)[1]\n",
    "      assert len(obj_id) == 6, obj_id\n",
    "      issue_object_ids[obj_id].add(scene_name)\n",
    "      issues_by_scene[scene_name].add(obj_name)\n",
    "  else:\n",
    "    results[scene_name] = \"failure\""
   ]
  },
  {
   "cell_type": "code",
   "execution_count": 3,
   "metadata": {},
   "outputs": [
    {
     "data": {
      "text/plain": [
       "Counter({'issues': 35, 'success': 21, 'failure': 1})"
      ]
     },
     "execution_count": 3,
     "metadata": {},
     "output_type": "execute_result"
    }
   ],
   "source": [
    "collections.Counter(results.values())"
   ]
  },
  {
   "cell_type": "code",
   "execution_count": 4,
   "metadata": {},
   "outputs": [
    {
     "name": "stderr",
     "output_type": "stream",
     "text": [
      "Loading BDDL knowledge base... This may take a few seconds.\n",
      "[nltk_data] Downloading package wordnet to /home/cgokmen/nltk_data...\n",
      "[nltk_data]   Package wordnet is already up-to-date!\n"
     ]
    }
   ],
   "source": [
    "from bddl.knowledge_base import *"
   ]
  },
  {
   "cell_type": "code",
   "execution_count": 5,
   "metadata": {},
   "outputs": [
    {
     "data": {
      "text/plain": [
       "119"
      ]
     },
     "execution_count": 5,
     "metadata": {},
     "output_type": "execute_result"
    }
   ],
   "source": [
    "# How many problematic objects are there?\n",
    "len(issue_object_ids)"
   ]
  },
  {
   "cell_type": "code",
   "execution_count": 6,
   "metadata": {},
   "outputs": [],
   "source": [
    "objs_by_id = {obj.name.split(\"-\")[-1]: obj for obj in Object.all_objects()}\n",
    "issue_objects = {objs_by_id[k]: v for k, v in issue_object_ids.items()}"
   ]
  },
  {
   "cell_type": "code",
   "execution_count": 7,
   "metadata": {},
   "outputs": [
    {
     "data": {
      "text/plain": [
       "{Object(name='bottom_cabinet-jhymlr', original_name='bottom_cabinet-jhymlr', provider='objects/legacy_batch-00', ready=True, planned=True): {'Beechwood_1_int',\n",
       "  'Merom_1_int'},\n",
       " Object(name='table_lamp-xbfgjc', original_name='table_lamp-xbfgjc', provider='objects/legacy_batch-02', ready=True, planned=True): {'Beechwood_1_int',\n",
       "  'Ihlen_1_int',\n",
       "  'Merom_1_int',\n",
       "  'Rs_garden',\n",
       "  'Rs_int',\n",
       "  'Wainscott_0_garden',\n",
       "  'Wainscott_0_int',\n",
       "  'Wainscott_1_int'},\n",
       " Object(name='bottom_cabinet-immwzb', original_name='bottom_cabinet-immwzb', provider='objects/legacy_batch-00', ready=True, planned=True): {'office_cubicles_left'},\n",
       " Object(name='bottom_cabinet-rvunhj', original_name='bottom_cabinet-rvunhj', provider='objects/legacy_batch-00', ready=True, planned=True): {'office_cubicles_left',\n",
       "  'office_cubicles_right',\n",
       "  'office_large'},\n",
       " Object(name='eames_chair-hpwusn', original_name='eames_chair-hpwusn', provider='scenes/office_cubicles_left', ready=True, planned=True): {'office_cubicles_left'},\n",
       " Object(name='swivel_chair-ryznxk', original_name='swivel_chair-ryznxk', provider='scenes/office_cubicles_left', ready=True, planned=True): {'office_cubicles_left'},\n",
       " Object(name='pot_plant-ttijye', original_name='pot_plant-ttijye', provider='scenes/public_restroom_brown', ready=True, planned=True): {'grocery_store_asian',\n",
       "  'hall_glass_ceiling',\n",
       "  'office_cubicles_left',\n",
       "  'office_cubicles_right',\n",
       "  'office_vendor_machine',\n",
       "  'public_restroom_brown',\n",
       "  'restaurant_urban'},\n",
       " Object(name='breakfast_table-skczfi', original_name='breakfast_table-skczfi', provider='objects/legacy_batch-02', ready=True, planned=True): {'Beechwood_0_garden',\n",
       "  'Rs_garden',\n",
       "  'Rs_int',\n",
       "  'Wainscott_0_garden'},\n",
       " Object(name='shelf-owvfik', original_name='shelf-owvfik', provider='objects/legacy_batch-05', ready=True, planned=True): {'Merom_0_garden',\n",
       "  'Rs_garden',\n",
       "  'Rs_int'},\n",
       " Object(name='pot_plant-irffta', original_name='pot_plant-irffta', provider='scenes/Rs_garden', ready=True, planned=True): {'Rs_garden'},\n",
       " Object(name='pot_plant-qwtwrx', original_name='pot_plant-qwtwrx', provider='scenes/Rs_garden', ready=True, planned=True): {'Rs_garden'},\n",
       " Object(name='bottom_cabinet-bamfsz', original_name='bottom_cabinet-bamfsz', provider='objects/legacy_batch-00', ready=True, planned=True): {'office_large',\n",
       "  'office_vendor_machine'},\n",
       " Object(name='fridge-juwaoh', original_name='fridge-juwaoh', provider='objects/legacy_batch-06', ready=True, planned=True): {'office_large'},\n",
       " Object(name='trash_can-glzckq', original_name='trash_can-glzckq', provider='objects/legacy_batch-04', ready=True, planned=True): {'office_large'},\n",
       " Object(name='armchair-wkmkvd', original_name='armchair-wkmkvd', provider='scenes/office_large', ready=True, planned=True): {'office_large'},\n",
       " Object(name='bottom_cabinet-todoa3', original_name='bottom_cabinet-todoa3', provider='scenes/office_large', ready=True, planned=True): {'office_large'},\n",
       " Object(name='bottom_cabinet-todoa4', original_name='bottom_cabinet-todoa4', provider='scenes/office_large', ready=True, planned=True): {'office_large'},\n",
       " Object(name='conference_table-qzmjrj', original_name='conference_table-qzmjrj', provider='scenes/office_large', ready=True, planned=True): {'office_large'},\n",
       " Object(name='desk-puapey', original_name='desk-puapey', provider='scenes/office_large', ready=True, planned=True): {'office_large'},\n",
       " Object(name='swivel_chair-srucpc', original_name='swivel_chair-srucpc', provider='scenes/office_large', ready=True, planned=True): {'office_large'},\n",
       " Object(name='swivel_chair-wksozf', original_name='swivel_chair-wksozf', provider='scenes/office_large', ready=True, planned=True): {'office_large'},\n",
       " Object(name='table_lamp-uzrovn', original_name='table_lamp-uzrovn', provider='scenes/hotel_suite_large', ready=True, planned=True): {'hotel_suite_large'},\n",
       " Object(name='commercial_kitchen_table-bwlfnu', original_name='console_table-bwlfnu', provider='scenes/commercial_kitchen_fire_extinguisher', ready=True, planned=True): {'commercial_kitchen_fire_extinguisher',\n",
       "  'restaurant_urban'},\n",
       " Object(name='flower-mylblj', original_name='flower-mylblj', provider='scenes/Pomaria_0_garden', ready=True, planned=True): {'Pomaria_0_garden'},\n",
       " Object(name='bed-siuxgz', original_name='bed-siuxgz', provider='scenes/house_double_floor_upper', ready=True, planned=True): {'house_double_floor_upper'},\n",
       " Object(name='ottoman-qsnawv', original_name='ottoman-qsnawv', provider='scenes/house_double_floor_upper', ready=True, planned=True): {'house_double_floor_upper'},\n",
       " Object(name='table_lamp-htmtsr', original_name='table_lamp-htmtsr', provider='scenes/house_double_floor_upper', ready=True, planned=True): {'house_double_floor_upper'},\n",
       " Object(name='gym_mat-ocxiiu', original_name='gym_mat-ocxiiu', provider='scenes/school_gym', ready=True, planned=True): {'school_gym'},\n",
       " Object(name='cash_register-ykfcaz', original_name='cash_register-ykfcaz', provider='scenes/grocery_store_convenience', ready=True, planned=True): {'grocery_store_convenience'},\n",
       " Object(name='armchair-ukuwuu', original_name='armchair-ukuwuu', provider='scenes/restaurant_brunch', ready=True, planned=True): {'restaurant_brunch'},\n",
       " Object(name='breakfast_table-hmzwxn', original_name='breakfast_table-hmzwxn', provider='scenes/restaurant_brunch', ready=True, planned=True): {'restaurant_brunch'},\n",
       " Object(name='bottom_cabinet-ccjinv', original_name='bottom_cabinet-ccjinv', provider='scenes/school_computer_lab_and_infirmary', ready=True, planned=True): {'school_computer_lab_and_infirmary'},\n",
       " Object(name='straight_chair-dzrlfn', original_name='straight_chair-dzrlfn', provider='scenes/restaurant_cafeteria', ready=True, planned=True): {'restaurant_cafeteria'},\n",
       " Object(name='straight_chair-qkyfxr', original_name='straight_chair-qkyfxr', provider='scenes/restaurant_cafeteria', ready=True, planned=True): {'restaurant_cafeteria'},\n",
       " Object(name='conference_table-hdomxc', original_name='conference_table-hdomxc', provider='scenes/office_vendor_machine', ready=True, planned=True): {'office_vendor_machine'},\n",
       " Object(name='grill-sxfjac', original_name='grill-sxfjac', provider='scenes/house_double_floor_lower', ready=True, planned=True): {'house_double_floor_lower'},\n",
       " Object(name='swivel_chair-ucawqa', original_name='swivel_chair-ucawqa', provider='scenes/office_cubicles_left', ready=True, planned=True): {'office_cubicles_right'},\n",
       " Object(name='bed-zrumze', original_name='bed-zrumze', provider='objects/legacy_batch-03', ready=True, planned=True): {'Merom_0_garden',\n",
       "  'Merom_1_int'},\n",
       " Object(name='pot_plant-udqjui', original_name='pot_plant-udqjui', provider='objects/legacy_batch-03', ready=True, planned=True): {'Merom_0_garden',\n",
       "  'Merom_1_int',\n",
       "  'Wainscott_0_garden'},\n",
       " Object(name='console_table-emeeke', original_name='console_table-emeeke', provider='objects/legacy_batch-07', ready=True, planned=True): {'Wainscott_0_int'},\n",
       " Object(name='armchair-vzfhpv', original_name='armchair-vzfhpv', provider='scenes/restaurant_asian', ready=True, planned=True): {'restaurant_asian'},\n",
       " Object(name='breakfast_table-iaritq', original_name='breakfast_table-iaritq', provider='scenes/restaurant_asian', ready=True, planned=True): {'restaurant_asian'},\n",
       " Object(name='breakfast_table-yaanqr', original_name='breakfast_table-yaanqr', provider='scenes/restaurant_asian', ready=True, planned=True): {'restaurant_asian'},\n",
       " Object(name='shelf-jpdtvg', original_name='shelf-jpdtvg', provider='scenes/commercial_kitchen_pans', ready=True, planned=True): {'restaurant_asian',\n",
       "  'restaurant_diner'},\n",
       " Object(name='coffee_table-gpkbiw', original_name='coffee_table-gpkbiw', provider='objects/legacy_batch-04', ready=True, planned=True): {'Wainscott_0_garden'},\n",
       " Object(name='armchair-ouqlrc', original_name='armchair-ouqlrc', provider='scenes/Wainscott_0_garden', ready=True, planned=True): {'Wainscott_0_garden'},\n",
       " Object(name='garden_umbrella-bkfuvq', original_name='garden_umbrella-bkfuvq', provider='scenes/Wainscott_0_garden', ready=True, planned=True): {'Wainscott_0_garden'},\n",
       " Object(name='pedestal_table-ifmhpn', original_name='pedestal_table-ifmhpn', provider='scenes/Wainscott_0_garden', ready=True, planned=True): {'Wainscott_0_garden'},\n",
       " Object(name='pot_plant-eixiaq', original_name='pot_plant-eixiaq', provider='scenes/Wainscott_0_garden', ready=True, planned=True): {'Wainscott_0_garden'},\n",
       " Object(name='sofa-uonbcs', original_name='sofa-uonbcs', provider='scenes/restaurant_urban', ready=True, planned=True): {'restaurant_urban'},\n",
       " Object(name='sofa-yiniqe', original_name='sofa-yiniqe', provider='scenes/restaurant_urban', ready=True, planned=True): {'restaurant_urban'},\n",
       " Object(name='armchair-irzlby', original_name='armchair-irzlby', provider='scenes/restaurant_urban', ready=True, planned=True): {'restaurant_urban'},\n",
       " Object(name='breakfast_table-wdbwhc', original_name='breakfast_table-wdbwhc', provider='scenes/restaurant_urban', ready=True, planned=True): {'restaurant_urban'},\n",
       " Object(name='armchair-bslhmj', original_name='armchair-bslhmj', provider='objects/legacy_batch-02', ready=True, planned=True): {'Merom_0_garden'},\n",
       " Object(name='armchair-vzhxuf', original_name='armchair-vzhxuf', provider='objects/legacy_batch-02', ready=True, planned=True): {'Merom_0_garden'},\n",
       " Object(name='bottom_cabinet-nyfebf', original_name='bottom_cabinet-nyfebf', provider='objects/legacy_batch-00', ready=True, planned=True): {'Merom_0_garden'},\n",
       " Object(name='cedar_chest-fwstpx', original_name='cedar_chest-fwstpx', provider='objects/legacy_batch-08', ready=True, planned=True): {'Merom_0_garden'},\n",
       " Object(name='piano-bnxcvw', original_name='piano-bnxcvw', provider='objects/legacy_batch-08', ready=True, planned=True): {'Merom_0_garden'},\n",
       " Object(name='loudspeaker-snbvop', original_name='loudspeaker-snbvop', provider='objects/legacy_batch-08', ready=True, planned=True): {'Merom_0_garden'},\n",
       " Object(name='standing_tv-udotid', original_name='standing_tv-udotid', provider='objects/legacy_batch-06', ready=True, planned=True): {'Merom_0_garden'},\n",
       " Object(name='straight_chair-amgwaw', original_name='straight_chair-amgwaw', provider='objects/legacy_batch-01', ready=True, planned=True): {'Merom_0_garden'},\n",
       " Object(name='trash_can-wklill', original_name='trash_can-wklill', provider='objects/legacy_batch-04', ready=True, planned=True): {'Merom_0_garden'},\n",
       " Object(name='trash_can-zotrbg', original_name='trash_can-zotrbg', provider='objects/legacy_batch-04', ready=True, planned=True): {'Merom_0_garden'},\n",
       " Object(name='armchair-thfelc', original_name='armchair-thfelc', provider='scenes/Merom_0_garden', ready=True, planned=True): {'Merom_0_garden'},\n",
       " Object(name='floor_lamp-smfygn', original_name='floor_lamp-smfygn', provider='scenes/Merom_0_garden', ready=True, planned=True): {'Merom_0_garden'},\n",
       " Object(name='garden_coffee_table-skxdpc', original_name='garden_coffee_table-skxdpc', provider='scenes/Merom_0_garden', ready=True, planned=True): {'Merom_0_garden'},\n",
       " Object(name='pot_plant-irdjit', original_name='pot_plant-irdjit', provider='scenes/Merom_0_garden', ready=True, planned=True): {'Merom_0_garden'},\n",
       " Object(name='bottom_cabinet-jrhgeu', original_name='bottom_cabinet-jrhgeu', provider='objects/legacy_batch-00', ready=True, planned=True): {'Ihlen_1_int'},\n",
       " Object(name='armchair-qhcrgb', original_name='armchair-qhcrgb', provider='scenes/house_single_floor', ready=True, planned=True): {'house_single_floor'},\n",
       " Object(name='breakfast_table-rhjoby', original_name='breakfast_table-rhjoby', provider='scenes/house_single_floor', ready=True, planned=True): {'house_single_floor'},\n",
       " Object(name='coffee_table-wgtaip', original_name='coffee_table-wgtaip', provider='scenes/house_single_floor', ready=True, planned=True): {'house_single_floor'},\n",
       " Object(name='floor_lamp-disyzd', original_name='floor_lamp-disyzd', provider='scenes/house_single_floor', ready=True, planned=True): {'house_single_floor'},\n",
       " Object(name='water_glass-ggpnlr', original_name='glass-ggpnlr', provider='scenes/house_single_floor', ready=True, planned=True): {'house_single_floor'},\n",
       " Object(name='pot_plant-bcirge', original_name='pot_plant-bcirge', provider='scenes/house_single_floor', ready=True, planned=True): {'house_single_floor'},\n",
       " Object(name='pot_plant-bjwskl', original_name='pot_plant-bjwskl', provider='scenes/house_single_floor', ready=True, planned=True): {'house_single_floor'},\n",
       " Object(name='pot_plant-lligdl', original_name='pot_plant-lligdl', provider='scenes/house_single_floor', ready=True, planned=True): {'house_single_floor'},\n",
       " Object(name='pot_plant-nwfojy', original_name='pot_plant-nwfojy', provider='scenes/house_single_floor', ready=True, planned=True): {'house_single_floor'},\n",
       " Object(name='pot_plant-rkqvba', original_name='pot_plant-rkqvba', provider='scenes/house_single_floor', ready=True, planned=True): {'house_single_floor'},\n",
       " Object(name='pot_plant-xcybvc', original_name='pot_plant-xcybvc', provider='scenes/house_single_floor', ready=True, planned=True): {'house_single_floor'},\n",
       " Object(name='pot_plant-yfqgfd', original_name='pot_plant-yfqgfd', provider='scenes/house_single_floor', ready=True, planned=True): {'house_single_floor'},\n",
       " Object(name='sofa-hiphpn', original_name='sofa-hiphpn', provider='scenes/house_single_floor', ready=True, planned=True): {'house_single_floor'},\n",
       " Object(name='taboret-ivtoxu', original_name='stool-ivtoxu', provider='scenes/house_single_floor', ready=True, planned=True): {'house_single_floor'},\n",
       " Object(name='straight_chair-gktknj', original_name='straight_chair-gktknj', provider='scenes/house_single_floor', ready=True, planned=True): {'house_single_floor'},\n",
       " Object(name='straight_chair-jgoolz', original_name='straight_chair-jgoolz', provider='scenes/house_single_floor', ready=True, planned=True): {'house_single_floor'},\n",
       " Object(name='straight_chair-rljebp', original_name='straight_chair-rljebp', provider='scenes/house_single_floor', ready=True, planned=True): {'house_single_floor'},\n",
       " Object(name='swivel_chair-tbzfgf', original_name='swivel_chair-tbzfgf', provider='scenes/house_single_floor', ready=True, planned=True): {'house_single_floor'},\n",
       " Object(name='table_lamp-btdcou', original_name='table_lamp-btdcou', provider='scenes/house_single_floor', ready=True, planned=True): {'house_single_floor'},\n",
       " Object(name='table_lamp-qgdwbh', original_name='table_lamp-qgdwbh', provider='scenes/house_single_floor', ready=True, planned=True): {'house_single_floor'},\n",
       " Object(name='floor_lamp-vdxlda', original_name='floor_lamp-vdxlda', provider='objects/legacy_batch-06', ready=True, planned=True): {'Beechwood_0_garden'},\n",
       " Object(name='straight_chair-vkgbbl', original_name='straight_chair-vkgbbl', provider='objects/legacy_batch-01', ready=True, planned=True): {'Beechwood_0_garden'},\n",
       " Object(name='door-ohagsq', original_name='door-ohagsq', provider='objects/legacy_batch-05', ready=True, planned=True): {'Beechwood_0_garden'},\n",
       " Object(name='armchair-nibzys', original_name='armchair-nibzys', provider='scenes/Beechwood_0_garden', ready=True, planned=True): {'Beechwood_0_garden'},\n",
       " Object(name='coffee_table-hbgcej', original_name='coffee_table-hbgcej', provider='scenes/Beechwood_0_garden', ready=True, planned=True): {'Beechwood_0_garden'},\n",
       " Object(name='coffee_table-lpwbgm', original_name='coffee_table-lpwbgm', provider='scenes/Beechwood_0_garden', ready=True, planned=True): {'Beechwood_0_garden'},\n",
       " Object(name='coffee_table-mjyitq', original_name='coffee_table-mjyitq', provider='scenes/Beechwood_0_garden', ready=True, planned=True): {'Beechwood_0_garden'},\n",
       " Object(name='coffee_table-qplrhv', original_name='coffee_table-qplrhv', provider='scenes/Beechwood_0_garden', ready=True, planned=True): {'Beechwood_0_garden'},\n",
       " Object(name='coffee_table-rkdwxe', original_name='coffee_table-rkdwxe', provider='scenes/Beechwood_0_garden', ready=True, planned=True): {'Beechwood_0_garden'},\n",
       " Object(name='coffee_table-wwgaym', original_name='coffee_table-wwgaym', provider='scenes/Beechwood_0_garden', ready=True, planned=True): {'Beechwood_0_garden'},\n",
       " Object(name='pot_plant-ibvdwh', original_name='pot_plant-ibvdwh', provider='scenes/Beechwood_0_garden', ready=True, planned=True): {'Beechwood_0_garden'},\n",
       " Object(name='pot_plant-liqyem', original_name='pot_plant-liqyem', provider='scenes/Beechwood_0_garden', ready=True, planned=True): {'Beechwood_0_garden'},\n",
       " Object(name='sofa-ahgkci', original_name='sofa-ahgkci', provider='scenes/Beechwood_0_garden', ready=True, planned=True): {'Beechwood_0_garden'},\n",
       " Object(name='sofa-tlsxpc', original_name='sofa-tlsxpc', provider='scenes/Beechwood_0_garden', ready=True, planned=True): {'Beechwood_0_garden'},\n",
       " Object(name='bottom_cabinet-olgoza', original_name='bottom_cabinet-olgoza', provider='objects/legacy_batch-00', ready=True, planned=True): {'restaurant_diner'},\n",
       " Object(name='pedestal_table-nlfgwe', original_name='pedestal_table-nlfgwe', provider='scenes/restaurant_diner', ready=True, planned=True): {'restaurant_diner'},\n",
       " Object(name='popcorn_machine-ignowl', original_name='popcorn_machine-ignowl', provider='scenes/restaurant_diner', ready=True, planned=True): {'restaurant_diner'},\n",
       " Object(name='taboret-ysrhuw', original_name='stool-ysrhuw', provider='scenes/restaurant_diner', ready=True, planned=True): {'restaurant_diner'},\n",
       " Object(name='straight_chair-nntxvr', original_name='straight_chair-nntxvr', provider='scenes/restaurant_diner', ready=True, planned=True): {'restaurant_diner'},\n",
       " Object(name='bottom_cabinet-kctcuj', original_name='bottom_cabinet-kctcuj', provider='scenes/school_biology', ready=True, planned=True): {'school_biology'},\n",
       " Object(name='bottom_cabinet-qbdweu', original_name='bottom_cabinet-qbdweu', provider='scenes/school_biology', ready=True, planned=True): {'school_biology'},\n",
       " Object(name='desk-ctaxkd', original_name='desk-ctaxkd', provider='scenes/school_biology', ready=True, planned=True): {'school_biology'},\n",
       " Object(name='taboret-wjrpwg', original_name='stool-wjrpwg', provider='scenes/school_biology', ready=True, planned=True): {'school_biology'},\n",
       " Object(name='breakfast_table-dcdtsr', original_name='breakfast_table-dcdtsr', provider='scenes/hall_conference_large', ready=True, planned=True): {'hall_conference_large'},\n",
       " Object(name='straight_chair-hxuygm', original_name='straight_chair-hxuygm', provider='scenes/hall_conference_large', ready=True, planned=True): {'hall_conference_large'},\n",
       " Object(name='bottom_cabinet-rmmvcd', original_name='bottom_cabinet-rmmvcd', provider='scenes/school_chemistry', ready=True, planned=True): {'school_chemistry'},\n",
       " Object(name='shelf-gsksby', original_name='shelf-gsksby', provider='scenes/school_chemistry', ready=True, planned=True): {'school_chemistry'},\n",
       " Object(name='desk-slgrxc', original_name='desk-slgrxc', provider='scenes/school_chemistry', ready=True, planned=True): {'school_chemistry'},\n",
       " Object(name='swivel_chair-wcitvd', original_name='swivel_chair-wcitvd', provider='scenes/school_chemistry', ready=True, planned=True): {'school_chemistry'},\n",
       " Object(name='free_weight_rack-fatvwt', original_name='free_weight_rack-fatvwt', provider='scenes/hotel_gym_spa', ready=True, planned=True): {'hotel_gym_spa'},\n",
       " Object(name='bench_press_machine-pxlgue', original_name='bench_press_machine-pxlgue', provider='scenes/hotel_gym_spa', ready=True, planned=True): {'hotel_gym_spa'}}"
      ]
     },
     "execution_count": 7,
     "metadata": {},
     "output_type": "execute_result"
    }
   ],
   "source": [
    "issue_objects"
   ]
  },
  {
   "cell_type": "code",
   "execution_count": 4,
   "metadata": {},
   "outputs": [
    {
     "data": {
      "text/plain": [
       "['armchair_qhcrgb_1',\n",
       " 'armchair_qhcrgb_2',\n",
       " 'armchair_qhcrgb_3',\n",
       " 'armchair_qhcrgb_4',\n",
       " 'armchair_qhcrgb_7',\n",
       " 'armchair_qhcrgb_8',\n",
       " 'breakfast_table_rhjoby_0',\n",
       " 'coffee_table_wgtaip_0',\n",
       " 'floor_lamp_disyzd_0',\n",
       " 'pot_plant_bcirge_0',\n",
       " 'pot_plant_bjwskl_0',\n",
       " 'pot_plant_bjwskl_1',\n",
       " 'pot_plant_lligdl_0',\n",
       " 'pot_plant_lligdl_1',\n",
       " 'pot_plant_lligdl_2',\n",
       " 'pot_plant_nwfojy_0',\n",
       " 'pot_plant_rkqvba_0',\n",
       " 'pot_plant_xcybvc_0',\n",
       " 'pot_plant_xcybvc_1',\n",
       " 'pot_plant_xcybvc_2',\n",
       " 'pot_plant_xcybvc_3',\n",
       " 'pot_plant_xcybvc_4',\n",
       " 'pot_plant_xcybvc_5',\n",
       " 'pot_plant_xcybvc_6',\n",
       " 'pot_plant_xcybvc_7',\n",
       " 'pot_plant_xcybvc_8',\n",
       " 'pot_plant_yfqgfd_0',\n",
       " 'sofa_hiphpn_0',\n",
       " 'straight_chair_gktknj_0',\n",
       " 'straight_chair_jgoolz_0',\n",
       " 'straight_chair_jgoolz_1',\n",
       " 'straight_chair_jgoolz_3',\n",
       " 'straight_chair_jgoolz_5',\n",
       " 'straight_chair_rljebp_0',\n",
       " 'swivel_chair_tbzfgf_0',\n",
       " 'table_lamp_btdcou_0',\n",
       " 'table_lamp_qgdwbh_0',\n",
       " 'table_lamp_qgdwbh_1',\n",
       " 'taboret_ivtoxu_0',\n",
       " 'taboret_ivtoxu_1',\n",
       " 'taboret_ivtoxu_2',\n",
       " 'taboret_ivtoxu_3',\n",
       " 'water_glass_ggpnlr_0',\n",
       " 'water_glass_ggpnlr_1',\n",
       " 'water_glass_ggpnlr_2',\n",
       " 'water_glass_ggpnlr_3']"
      ]
     },
     "execution_count": 4,
     "metadata": {},
     "output_type": "execute_result"
    }
   ],
   "source": [
    "sorted(issues_by_scene[\"house_single_floor\"])"
   ]
  },
  {
   "cell_type": "code",
   "execution_count": null,
   "metadata": {},
   "outputs": [],
   "source": []
  }
 ],
 "metadata": {
  "kernelspec": {
   "display_name": "omnigibson",
   "language": "python",
   "name": "python3"
  },
  "language_info": {
   "codemirror_mode": {
    "name": "ipython",
    "version": 3
   },
   "file_extension": ".py",
   "mimetype": "text/x-python",
   "name": "python",
   "nbconvert_exporter": "python",
   "pygments_lexer": "ipython3",
   "version": "3.10.13"
  },
  "orig_nbformat": 4
 },
 "nbformat": 4,
 "nbformat_minor": 2
}
