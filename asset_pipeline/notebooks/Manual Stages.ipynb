{
 "cells": [
  {
   "cell_type": "code",
   "execution_count": 5,
   "id": "7682c860",
   "metadata": {},
   "outputs": [],
   "source": [
    "import glob, pathlib, json"
   ]
  },
  {
   "cell_type": "code",
   "execution_count": 10,
   "id": "9cb2b178",
   "metadata": {},
   "outputs": [],
   "source": [
    "fns = glob.glob(r\"D:\\ig_pipeline\\cad\\*\\*\")\n",
    "has_tree = []\n",
    "empty = []\n",
    "for fn in fns:\n",
    "    p = pathlib.Path(fn) / \"artifacts\" / \"object_list.json\"\n",
    "    if not p.exists():\n",
    "        continue\n",
    "    with open(p, \"r\") as f:\n",
    "        d = json.load(f)\n",
    "        if len(d[\"needed_objects\"]) == 0:\n",
    "            empty.append(fn)\n",
    "        if \"meta_links\" not in d:\n",
    "            continue\n",
    "        if any(\"collision\" in v for v in d[\"meta_links\"].values()):\n",
    "            has_tree.append(fn)"
   ]
  },
  {
   "cell_type": "code",
   "execution_count": 12,
   "id": "c5ebb1fd",
   "metadata": {},
   "outputs": [
    {
     "name": "stdout",
     "output_type": "stream",
     "text": [
      "dvc unprotect cad\\objects\\acid-ub cad\\objects\\applesauce-dt cad\\objects\\bay_leaves-xu cad\\objects\\black_beans-jm cad\\objects\\blankets-bx cad\\objects\\blueberry_mousse-ax cad\\objects\\buttermilk-ca cad\\objects\\caraway_seeds-sh cad\\objects\\casserole-zd cad\\objects\\cat_food-eg cad\\objects\\cellophane-ul cad\\objects\\chocolate_spread-aj cad\\objects\\chowder-pu cad\\objects\\cioppino-md cad\\objects\\clip-vb cad\\objects\\cocktail-uw cad\\objects\\compost-pf cad\\objects\\cymbal-kq cad\\objects\\diamond_ring-pq cad\\objects\\duster-rm cad\\objects\\frappuccino-if cad\\objects\\gazpacho-er cad\\objects\\hummus-ht cad\\objects\\jewelry-wd cad\\objects\\legacy_armchair-tnryza cad\\objects\\legacy_bath_towel-feojdm cad\\objects\\legacy_bath_towel-iviyls cad\\objects\\legacy_bath_towel-lyqgnf cad\\objects\\legacy_bean-cdinsu cad\\objects\\legacy_container_cranberry-fbcpsl cad\\objects\\legacy_cord-aqikou cad\\objects\\legacy_cord-ydrhwh cad\\objects\\legacy_dishtowel-qvzbjx cad\\objects\\legacy_dishtowel-yobhae cad\\objects\\legacy_dryer-tpqzai cad\\objects\\legacy_guacamole-ajnjvv cad\\objects\\legacy_hand_towel-jaubic cad\\objects\\legacy_jar-sktwfj cad\\objects\\legacy_paper_towel-aclaus cad\\objects\\legacy_pea-iblyep cad\\objects\\legacy_pot_plant-qcpges cad\\objects\\legacy_pot_plant-xlylfy cad\\objects\\legacy_rag-dgzewy cad\\objects\\legacy_sheet-czdhwu cad\\objects\\manure-bf cad\\objects\\meatloaf-55 cad\\objects\\miso-un cad\\objects\\mulch-4v cad\\objects\\necktie-is cad\\objects\\parchment_paper-ox cad\\objects\\patina-77 cad\\objects\\pet_food-nf cad\\objects\\pizza_dough-ti cad\\objects\\plastic_wrap-de cad\\objects\\popcorn-xz cad\\objects\\snow_pants-ic cad\\objects\\soda-oe cad\\objects\\toolbox-ng cad\\objects\\towels-ib cad\\objects\\trash-ok cad\\objects\\tube-kg cad\\objects\\wallpaper-ll\n"
     ]
    }
   ],
   "source": [
    "print(\"dvc unprotect\", \" \".join(str(pathlib.Path(x).relative_to(pathlib.Path(r\"D:\\ig_pipeline\"))) for x in empty))"
   ]
  },
  {
   "cell_type": "code",
   "execution_count": 13,
   "id": "8e505239",
   "metadata": {},
   "outputs": [
    {
     "name": "stdout",
     "output_type": "stream",
     "text": [
      "rm -Recurse cad\\objects\\acid-ub\n",
      "rm -Recurse cad\\objects\\applesauce-dt\n",
      "rm -Recurse cad\\objects\\bay_leaves-xu\n",
      "rm -Recurse cad\\objects\\black_beans-jm\n",
      "rm -Recurse cad\\objects\\blankets-bx\n",
      "rm -Recurse cad\\objects\\blueberry_mousse-ax\n",
      "rm -Recurse cad\\objects\\buttermilk-ca\n",
      "rm -Recurse cad\\objects\\caraway_seeds-sh\n",
      "rm -Recurse cad\\objects\\casserole-zd\n",
      "rm -Recurse cad\\objects\\cat_food-eg\n",
      "rm -Recurse cad\\objects\\cellophane-ul\n",
      "rm -Recurse cad\\objects\\chocolate_spread-aj\n",
      "rm -Recurse cad\\objects\\chowder-pu\n",
      "rm -Recurse cad\\objects\\cioppino-md\n",
      "rm -Recurse cad\\objects\\clip-vb\n",
      "rm -Recurse cad\\objects\\cocktail-uw\n",
      "rm -Recurse cad\\objects\\compost-pf\n",
      "rm -Recurse cad\\objects\\cymbal-kq\n",
      "rm -Recurse cad\\objects\\diamond_ring-pq\n",
      "rm -Recurse cad\\objects\\duster-rm\n",
      "rm -Recurse cad\\objects\\frappuccino-if\n",
      "rm -Recurse cad\\objects\\gazpacho-er\n",
      "rm -Recurse cad\\objects\\hummus-ht\n",
      "rm -Recurse cad\\objects\\jewelry-wd\n",
      "rm -Recurse cad\\objects\\legacy_armchair-tnryza\n",
      "rm -Recurse cad\\objects\\legacy_bath_towel-feojdm\n",
      "rm -Recurse cad\\objects\\legacy_bath_towel-iviyls\n",
      "rm -Recurse cad\\objects\\legacy_bath_towel-lyqgnf\n",
      "rm -Recurse cad\\objects\\legacy_bean-cdinsu\n",
      "rm -Recurse cad\\objects\\legacy_container_cranberry-fbcpsl\n",
      "rm -Recurse cad\\objects\\legacy_cord-aqikou\n",
      "rm -Recurse cad\\objects\\legacy_cord-ydrhwh\n",
      "rm -Recurse cad\\objects\\legacy_dishtowel-qvzbjx\n",
      "rm -Recurse cad\\objects\\legacy_dishtowel-yobhae\n",
      "rm -Recurse cad\\objects\\legacy_dryer-tpqzai\n",
      "rm -Recurse cad\\objects\\legacy_guacamole-ajnjvv\n",
      "rm -Recurse cad\\objects\\legacy_hand_towel-jaubic\n",
      "rm -Recurse cad\\objects\\legacy_jar-sktwfj\n",
      "rm -Recurse cad\\objects\\legacy_paper_towel-aclaus\n",
      "rm -Recurse cad\\objects\\legacy_pea-iblyep\n",
      "rm -Recurse cad\\objects\\legacy_pot_plant-qcpges\n",
      "rm -Recurse cad\\objects\\legacy_pot_plant-xlylfy\n",
      "rm -Recurse cad\\objects\\legacy_rag-dgzewy\n",
      "rm -Recurse cad\\objects\\legacy_sheet-czdhwu\n",
      "rm -Recurse cad\\objects\\manure-bf\n",
      "rm -Recurse cad\\objects\\meatloaf-55\n",
      "rm -Recurse cad\\objects\\miso-un\n",
      "rm -Recurse cad\\objects\\mulch-4v\n",
      "rm -Recurse cad\\objects\\necktie-is\n",
      "rm -Recurse cad\\objects\\parchment_paper-ox\n",
      "rm -Recurse cad\\objects\\patina-77\n",
      "rm -Recurse cad\\objects\\pet_food-nf\n",
      "rm -Recurse cad\\objects\\pizza_dough-ti\n",
      "rm -Recurse cad\\objects\\plastic_wrap-de\n",
      "rm -Recurse cad\\objects\\popcorn-xz\n",
      "rm -Recurse cad\\objects\\snow_pants-ic\n",
      "rm -Recurse cad\\objects\\soda-oe\n",
      "rm -Recurse cad\\objects\\toolbox-ng\n",
      "rm -Recurse cad\\objects\\towels-ib\n",
      "rm -Recurse cad\\objects\\trash-ok\n",
      "rm -Recurse cad\\objects\\tube-kg\n",
      "rm -Recurse cad\\objects\\wallpaper-ll\n"
     ]
    }
   ],
   "source": [
    "print(\"\\n\".join(\"rm -Recurse \" + str(pathlib.Path(x).relative_to(pathlib.Path(r\"D:\\ig_pipeline\"))) for x in empty))"
   ]
  },
  {
   "cell_type": "code",
   "execution_count": 8,
   "id": "ed44daca",
   "metadata": {},
   "outputs": [
    {
     "data": {
      "text/plain": [
       "46"
      ]
     },
     "execution_count": 8,
     "metadata": {},
     "output_type": "execute_result"
    }
   ],
   "source": [
    "len(has_tree)"
   ]
  },
  {
   "cell_type": "code",
   "execution_count": 9,
   "id": "20402ca6",
   "metadata": {},
   "outputs": [
    {
     "data": {
      "text/plain": [
       "'D:\\\\ig_pipeline\\\\cad\\\\objects\\\\aluminium_foil-xr'"
      ]
     },
     "execution_count": 9,
     "metadata": {},
     "output_type": "execute_result"
    }
   ],
   "source": [
    "has_tree[0]"
   ]
  },
  {
   "cell_type": "code",
   "execution_count": 5,
   "id": "0c231bf5",
   "metadata": {},
   "outputs": [],
   "source": [
    "missing = set(fns) - set(has_tree)"
   ]
  },
  {
   "cell_type": "code",
   "execution_count": 6,
   "id": "a72d3c65",
   "metadata": {},
   "outputs": [
    {
     "data": {
      "text/plain": [
       "2"
      ]
     },
     "execution_count": 6,
     "metadata": {},
     "output_type": "execute_result"
    }
   ],
   "source": [
    "len(missing)"
   ]
  },
  {
   "cell_type": "code",
   "execution_count": 8,
   "id": "0d2296f6",
   "metadata": {},
   "outputs": [
    {
     "name": "stdout",
     "output_type": "stream",
     "text": [
      "dvc unprotect \n"
     ]
    }
   ],
   "source": [
    "target_fns = []\n",
    "for m in sorted(missing)[:100]:\n",
    "    fn = pathlib.Path(m) / \"artifacts/object_list.json\"\n",
    "    if not fn.exists():\n",
    "        continue\n",
    "    relative_fn = fn.relative_to(pathlib.Path(r\"D:\\ig_pipeline\"))\n",
    "    target_fns.append(str(relative_fn))\n",
    "\n",
    "print(\"dvc unprotect\", \" \".join(target_fns))"
   ]
  },
  {
   "cell_type": "code",
   "execution_count": 9,
   "id": "b1a390ce",
   "metadata": {
    "scrolled": true
   },
   "outputs": [
    {
     "name": "stdout",
     "output_type": "stream",
     "text": [
      "python b1k_pipeline/batch_3dsmax.py cad\\objects\\tong-temp\\processed.max b1k_pipeline/max/object_list.py\n",
      "python b1k_pipeline/batch_3dsmax.py cad\\objects\\vase-temp\\processed.max b1k_pipeline/max/object_list.py\n"
     ]
    }
   ],
   "source": [
    "for m in sorted(missing)[:100]:\n",
    "    fn = pathlib.Path(m) / \"processed.max\"\n",
    "    relative_fn = fn.relative_to(pathlib.Path(r\"D:\\ig_pipeline\"))\n",
    "    print(f\"python b1k_pipeline/batch_3dsmax.py {relative_fn} b1k_pipeline/max/object_list.py\")"
   ]
  },
  {
   "cell_type": "code",
   "execution_count": null,
   "id": "7fea544e",
   "metadata": {},
   "outputs": [],
   "source": [
    "to_commit = []\n",
    "for fn in fns:\n",
    "    p = pathlib.Path(fn) / \"artifacts\" / \"object_list.json\"\n",
    "    if p.exists() and not p.is_symlink():\n",
    "        relative_fn = p.relative_to(pathlib.Path(r\"D:\\ig_pipeline\"))\n",
    "        to_commit.append(str(relative_fn).replace(\"\\\\\", \"/\"))\n",
    "print(\"dvc commit\", \" \".join(to_commit[:50]))"
   ]
  },
  {
   "cell_type": "code",
   "execution_count": 1,
   "id": "f99e891e",
   "metadata": {},
   "outputs": [],
   "source": [
    "# Get all the object targets, split into two, and run a bunch of them\n",
    "import sys\n",
    "sys.path.append(r\"D:\\ig_pipeline\")\n",
    "from b1k_pipeline.utils import get_targets\n",
    "t = get_targets(\"objects\")\n",
    "\n",
    "import random\n",
    "random.shuffle(t)"
   ]
  },
  {
   "cell_type": "code",
   "execution_count": 2,
   "id": "19bcc436",
   "metadata": {},
   "outputs": [
    {
     "name": "stdout",
     "output_type": "stream",
     "text": [
      "dvc repro export_meshes@objects/legacy_dishtowel-dtfspn export_meshes@objects/legacy_desk-uffjvo export_meshes@objects/legacy_vacuum-bdmsbr export_meshes@objects/legacy_sink-czyfhq export_meshes@objects/legacy_bathtub-oobbwn export_meshes@objects/legacy_top_cabinet-yegcau export_meshes@objects/racket-fw export_meshes@objects/tights-rh export_meshes@objects/legacy_lid-fnqhbz export_meshes@objects/rice_cooker-av export_meshes@objects/legacy_cracker_box-cmdigf export_meshes@objects/baseball_cap-ul export_meshes@objects/legacy_bottom_cabinet-qacthv export_meshes@objects/legacy_bell_pepper-ggurxn export_meshes@objects/legacy_armchair-vzhxuf export_meshes@objects/legacy_dishwasher-xlmier export_meshes@objects/legacy_soup-wbqjbt export_meshes@objects/legacy_kitchen_analog_scale-lpjpez export_meshes@objects/legacy_bed-rhanfx export_meshes@objects/legacy_package-sxlklf export_meshes@objects/legacy_grape-snjrhg export_meshes@objects/rose-mz export_meshes@objects/kayak-dr export_meshes@objects/creme_brulee-eu export_meshes@objects/legacy_oven-nkxhvf export_meshes@objects/legacy_bottom_cabinet-rntwkg export_meshes@objects/legacy_alarm-dkwmmf export_meshes@objects/legacy_board_game-ibzhzu export_meshes@objects/legacy_highchair-eteuuf export_meshes@objects/white_chocolate-nj export_meshes@objects/legacy_cream-ompiss export_meshes@objects/pizza_dough-ti export_meshes@objects/legacy_pop-drqbiy export_meshes@objects/pastry_brush-h1 export_meshes@objects/legacy_basket-xjftlf export_meshes@objects/notepad-mg export_meshes@objects/legacy_door-lhxdte export_meshes@objects/legacy_pop_case-zxguap export_meshes@objects/legacy_digital_scale-ccphiu export_meshes@objects/sunflower-ph export_meshes@objects/baby_monitor-fu export_meshes@objects/legacy_powder_bottle-vfabau export_meshes@objects/legacy_door-ohagsq export_meshes@objects/can-yd export_meshes@objects/onesie-v1 export_meshes@objects/lacquer-u2 export_meshes@objects/ashtray-gr export_meshes@objects/lawnmower-rh export_meshes@objects/paint_remover-rb export_meshes@objects/legacy_picture-zsirgc export_meshes@objects/legacy_bowl-fwdfeg export_meshes@objects/legacy_bulletin_board-ayaoal export_meshes@objects/legacy_door-lctyaf export_meshes@objects/legacy_bottom_cabinet_no_top-vzzafs export_meshes@objects/legacy_straight_chair-mdnhjm export_meshes@objects/whistle-gk export_meshes@objects/legacy_bottom_cabinet-gvtucm export_meshes@objects/legacy_towel_rack-kqrmrh export_meshes@objects/legacy_tape-fetnry export_meshes@objects/ground_coffee-pa export_meshes@objects/espresso_maker-af export_meshes@objects/legacy_glove-crbvcg export_meshes@objects/fuel-pj export_meshes@objects/legacy_tomato-wjreyv export_meshes@objects/legacy_pop-dlqmit export_meshes@objects/pants-fq export_meshes@objects/legacy_loudspeaker-avtlcj export_meshes@objects/quilt-hh export_meshes@objects/succulent-kg export_meshes@objects/zipper-hx export_meshes@objects/legacy_pot_plant-qbnaph export_meshes@objects/legacy_bottom_cabinet-gcrjan export_meshes@objects/legacy_notebook-svisnb export_meshes@objects/legacy_pop-sevoto export_meshes@objects/legacy_bell_pepper-uqcenz export_meshes@objects/legacy_canned_food-foetdd export_meshes@objects/legacy_wall_mounted_tv-ggfznh export_meshes@objects/legacy_bottom_cabinet-leizjb export_meshes@objects/legacy_grandfather_clock-veyqcp export_meshes@objects/legacy_swivel_chair-zswgck export_meshes@objects/body_wash-fd export_meshes@objects/mallet-i1 export_meshes@objects/fabric_softener-od export_meshes@objects/legacy_baguette-xydhpd export_meshes@objects/legacy_pot_plant-azfbnd export_meshes@objects/legacy_floor_lamp-jcbvfi export_meshes@objects/degreaser-la export_meshes@objects/cranberry_juice-sm export_meshes@objects/spices-sr export_meshes@objects/cauliflower-oy export_meshes@objects/legacy_olive_oil-cqycjk export_meshes@objects/legacy_chestnut-fmomat export_meshes@objects/legacy_pineapple-jizmyh export_meshes@objects/bay_leaves-xu export_meshes@objects/legacy_platter-iadlti export_meshes@objects/lily-yz export_meshes@objects/pump-m2 export_meshes@objects/legacy_breakfast_table-lwtcfh export_meshes@objects/coconut_oil-xw export_meshes@objects/legacy_board_game-fzyuip\n",
      "dvc repro export_meshes@objects/legacy_chopstick-ahmhza export_meshes@objects/dehumidifier-rw export_meshes@objects/legacy_board_game-iqfvfl export_meshes@objects/sandwich-uw export_meshes@objects/legacy_floor_lamp-vdxlda export_meshes@objects/legacy_oven-kfftgk export_meshes@objects/legacy_stove-rgpphy export_meshes@objects/legacy_shelf-pkgbcp export_meshes@objects/legacy_detergent-qjkmhq export_meshes@objects/buttermilk-ca export_meshes@objects/legacy_pillow-pjqqmb export_meshes@objects/fennel-lg export_meshes@objects/legacy_beef-vdfkby export_meshes@objects/legacy_lid-qhlsdq export_meshes@objects/lime_soda-f5 export_meshes@objects/cranberries-ll export_meshes@objects/legacy_shelf-owvfik export_meshes@objects/legacy_sink-vbquye export_meshes@objects/legacy_razor-jocsgp export_meshes@objects/legacy_basket-pqzyxx export_meshes@objects/legacy_ink_cartridge-oinelo export_meshes@objects/legacy_basket-wdsnjy export_meshes@objects/legacy_toilet-vtqdev export_meshes@objects/legacy_teapot-foaehs export_meshes@objects/legacy_eraser-cungod export_meshes@objects/pickle-kk export_meshes@objects/legacy_clout_nail-gvfevt export_meshes@objects/legacy_bench-zfpjkj export_meshes@objects/legacy_armchair-xqovyv export_meshes@objects/mac_and_cheese-ql export_meshes@objects/legacy_swivel_chair-ffvxwn export_meshes@objects/french_press-hq export_meshes@objects/meringue-sm export_meshes@objects/legacy_celery-rqvtqi export_meshes@objects/axe-yy export_meshes@objects/red_beans-mu export_meshes@objects/legacy_gym_shoe-kmcbym export_meshes@objects/lighter-no export_meshes@objects/legacy_spaghetti_sauce-zahyds export_meshes@objects/legacy_top_cabinet-lsyzkh export_meshes@objects/legacy_coffee_table-zzqwse export_meshes@objects/legacy_basket-pgwdlg export_meshes@objects/legacy_steak-ppykkp export_meshes@objects/legacy_straight_chair-enuago export_meshes@objects/glass_cleaner-wq export_meshes@objects/lingerie-gx export_meshes@objects/legacy_canned_food-acgdtc export_meshes@objects/tortilla-bq export_meshes@objects/risotto-uj export_meshes@objects/legacy_pop_case-rzhvvk export_meshes@objects/legacy_bottom_cabinet_no_top-bmsclc export_meshes@objects/legacy_lid-qkogll export_meshes@objects/legacy_coffee_table-ytlgdt export_meshes@objects/legacy_breakfast_table-skczfi export_meshes@objects/legacy_dress-gtghon export_meshes@objects/legacy_shelf-eyidvz export_meshes@objects/fridge-pe export_meshes@objects/balsamic_vinegar-cm export_meshes@objects/legacy_frying_pan-sfbdjn export_meshes@objects/legacy_bottom_cabinet-nnvyol export_meshes@objects/legacy_armchair-tcxiue export_meshes@objects/crawfish-bo export_meshes@objects/legacy_table_lamp-kwkqot export_meshes@objects/whitewall_tire-hw export_meshes@objects/legacy_perfume-ipurzb export_meshes@objects/legacy_drumstick-lkvzmj export_meshes@objects/goalkeeper_gloves-rk export_meshes@objects/legacy_lid-muczdt export_meshes@objects/legacy_ring-oolbrj export_meshes@objects/jade_roller-fc export_meshes@objects/water_dispenser-ht export_meshes@objects/legacy_dryer-smcyys export_meshes@objects/twine-ih export_meshes@objects/denture-hi export_meshes@objects/legacy_calculator-kwmmty export_meshes@objects/legacy_christmas_tree-eadukw export_meshes@objects/chocolate_spread-aj export_meshes@objects/legacy_pedestal_table-poukwl export_meshes@objects/legacy_picture-rciuob export_meshes@objects/wrapping_paper-jc export_meshes@objects/garden_glove-ld export_meshes@objects/feather-we export_meshes@objects/legacy_egg-mimzbz export_meshes@objects/bar_cart-gz export_meshes@objects/legacy_swivel_chair-yiphfr export_meshes@objects/kale-sl export_meshes@objects/legacy_rag-zmmbpz export_meshes@objects/icicle_lights-uh export_meshes@objects/sticker-sb export_meshes@objects/legacy_top_cabinet-nkrgez export_meshes@objects/legacy_toy-lfxygp export_meshes@objects/legacy_butter-ovirmc export_meshes@objects/baking_pan-re export_meshes@objects/legacy_pen-zmimhb export_meshes@objects/legacy_oatmeal-zkggxm export_meshes@objects/legacy_baseboard-prytbo export_meshes@objects/legacy_swivel_chair-nqojos export_meshes@objects/legacy_ink_cartridge-oepuip export_meshes@objects/legacy_board_game-vbamua export_meshes@objects/lip_balm-ma\n",
      "dvc repro export_meshes@objects/polo_shirt-te export_meshes@objects/legacy_chest-fwstpx export_meshes@objects/legacy_prosciutto-udjqae export_meshes@objects/legacy_pomegranate-vqybii export_meshes@objects/quiche-pc export_meshes@objects/legacy_bell_pepper-ukkycp export_meshes@objects/thread-zl export_meshes@objects/baking_soda-ni export_meshes@objects/legacy_banana-vvyyyv export_meshes@objects/legacy_bucket-bdhvnt export_meshes@objects/legacy_trash_can-aefcem export_meshes@objects/legacy_bottom_cabinet_no_top-vdedzt export_meshes@objects/legacy_top_cabinet-twjqua export_meshes@objects/chocolate_cake-yw export_meshes@objects/legacy_bed-zrumze export_meshes@objects/caraway_seeds-sh export_meshes@objects/rainboots-lf export_meshes@objects/legacy_pomegranate-tbwsgm export_meshes@objects/legacy_toy-fnueyn export_meshes@objects/legacy_table_lamp-jiuwwn export_meshes@objects/legacy_watermelon-slucoe export_meshes@objects/chopping_block-zd export_meshes@objects/stake-ie export_meshes@objects/legacy_pop-mdznsn export_meshes@objects/legacy_pedestal_table-ktevfe export_meshes@objects/legacy_pot_plant-qcpges export_meshes@objects/tackle_box-vu export_meshes@objects/mustard_greens-zy export_meshes@objects/pencil_case-ne export_meshes@objects/legacy_hose-gavrvw export_meshes@objects/marigold-i7 export_meshes@objects/eyeglasses-op export_meshes@objects/legacy_door-rhcnln export_meshes@objects/bobby_pins-pi export_meshes@objects/legacy_fish-qofuoa export_meshes@objects/antlers-mq export_meshes@objects/legacy_conditioner-njqnuo export_meshes@objects/legacy_shampoo-tzghev export_meshes@objects/legacy_gym_shoe-pblxfp export_meshes@objects/legacy_video_game-ppnzqm export_meshes@objects/towels-ib export_meshes@objects/legacy_ribbon-puwdwq export_meshes@objects/wheelbarrow-rh export_meshes@objects/legacy_protein_powder-rikjwx export_meshes@objects/legacy_highchair-pahqnp export_meshes@objects/legacy_stool-mysfnz export_meshes@objects/legacy_pop-vszbvb export_meshes@objects/legacy_pop_case-dufbnv export_meshes@objects/cheese_danish-jm export_meshes@objects/legacy_pineapple-wfaybl export_meshes@objects/sealant-oq export_meshes@objects/leotard-yz export_meshes@objects/legacy_swivel_chair-iageoq export_meshes@objects/nickel-qu export_meshes@objects/powdered_sugar-id export_meshes@objects/legacy_heater-wntwxx export_meshes@objects/legacy_coffee_cup-skamgp export_meshes@objects/legacy_pumpkin-apitmi export_meshes@objects/legacy_bathtub-azdgtl export_meshes@objects/legacy_bath_towel-lyqgnf export_meshes@objects/legacy_window-iwcqsz export_meshes@objects/legacy_christmas_tree_decorated-wakmhn export_meshes@objects/dried_herb-sl export_meshes@objects/legacy_straight_chair-xfhcep export_meshes@objects/legacy_bottom_cabinet-smujam export_meshes@objects/legacy_jar-lnxzuy export_meshes@objects/tassel-ie export_meshes@objects/legacy_swivel_chair-lizuow export_meshes@objects/legacy_dryer-zlmnfg export_meshes@objects/pea_pods-hg export_meshes@objects/legacy_breakfast_table-lnwggc export_meshes@objects/legacy_video_game-rzaxlj export_meshes@objects/legacy_foot_rule-vmnaih export_meshes@objects/legacy_duffel_bag-ozykxk export_meshes@objects/cd-ui export_meshes@objects/legacy_rib-nzbnqp export_meshes@objects/legacy_console_table-emeeke export_meshes@objects/legacy_swivel_chair-danzuv export_meshes@objects/legacy_top_cabinet-dmwxyl export_meshes@objects/legacy_pop-ghxeqz export_meshes@objects/legacy_notebook-xhigou export_meshes@objects/mask-s8 export_meshes@objects/legacy_honing_steel-ugerym export_meshes@objects/sparkling_water-ry export_meshes@objects/legacy_scarf-xdcrfh export_meshes@objects/leggings-d5 export_meshes@objects/legacy_board_game-phwwnx export_meshes@objects/legacy_pot_plant-nscddw export_meshes@objects/legacy_bottom_cabinet-glefdh export_meshes@objects/legacy_vacuum-amnmmq export_meshes@objects/legacy_armchair-jmunen export_meshes@objects/legacy_bucket-lsmlzi export_meshes@objects/legacy_bottom_cabinet_no_top-ufhpbn export_meshes@objects/legacy_lid-aybgkm export_meshes@objects/legacy_breakfast_table-hggsao export_meshes@objects/baseball_glove-cs export_meshes@objects/legacy_mat-mayaur export_meshes@objects/legacy_table_lamp-wslomg export_meshes@objects/whetstone-vh export_meshes@objects/mesh_bag-hz\n",
      "dvc repro export_meshes@objects/legacy_bed-sunfhf export_meshes@objects/legacy_roller-nbwihe export_meshes@objects/legacy_notebook-ffdjzp export_meshes@objects/legacy_range_hood-ylsdmp export_meshes@objects/gunpowder-zm export_meshes@objects/legacy_carpet-ctclvd export_meshes@objects/legacy_walker-glrsok export_meshes@objects/broccolini-cj export_meshes@objects/spray_paint-om export_meshes@objects/teacup-mj export_meshes@objects/legacy_crumb-irhmll export_meshes@objects/legacy_jar-gtnmis export_meshes@objects/legacy_swivel_chair-barmrv export_meshes@objects/legacy_board_game-ovttum export_meshes@objects/legacy_coffee_table-stocuk export_meshes@objects/tire-ks export_meshes@objects/legacy_bottom_cabinet-cjcyed export_meshes@objects/doll-hu export_meshes@objects/legacy_toy-txgpxx export_meshes@objects/legacy_cereal-dkhgxn export_meshes@objects/legacy_armchair-pmrcex export_meshes@objects/legacy_shelf-vgzdul export_meshes@objects/legacy_tape-yyekns export_meshes@objects/legacy_armchair-qplklw export_meshes@objects/lighter_fluid-2z export_meshes@objects/legacy_rocking_chair-drpbxj export_meshes@objects/legacy_board_game-twkglv export_meshes@objects/pet_poop-qg export_meshes@objects/legacy_swivel_chair-gbknnw export_meshes@objects/air_conditioner-ep export_meshes@objects/pine_cones-ui export_meshes@objects/aluminium_foil-xr export_meshes@objects/legacy_coffee_table-gpkbiw export_meshes@objects/legacy_tablefork-pqrtkc export_meshes@objects/bratwurst-lt export_meshes@objects/legacy_pencil_box-acikzo export_meshes@objects/legacy_bottom_cabinet-ncbfwr export_meshes@objects/legacy_bottom_cabinet-lhucjo export_meshes@objects/legacy_mirror-pevdqu export_meshes@objects/breadcrumbs-wm export_meshes@objects/legacy_oven-qygclv export_meshes@objects/frosting-oo export_meshes@objects/granola-oq export_meshes@objects/clothesline-pq export_meshes@objects/legacy_basket-haewxp export_meshes@objects/legacy_armchair-xkacfd export_meshes@objects/jelly_jars-jo export_meshes@objects/legacy_router-dsgtpk export_meshes@objects/legacy_standing_tv-bkyguk export_meshes@objects/legacy_pop-vfjhav export_meshes@objects/legacy_envelope-urcigc export_meshes@objects/legacy_apricot-inxcvi export_meshes@objects/legacy_video_game-lfdpse export_meshes@objects/legacy_coffee_table-elhvfw export_meshes@objects/legacy_bowl-kthvrl export_meshes@objects/legacy_bottom_cabinet-phoesw export_meshes@objects/legacy_bottom_cabinet-kxushk export_meshes@objects/sauna_suit-rw export_meshes@objects/geode-qw export_meshes@objects/batting_gloves-nd export_meshes@objects/legacy_folderal-ttldpx export_meshes@objects/legacy_parsley-kkgkkd export_meshes@objects/legacy_breakfast_table-kpwegp export_meshes@objects/turtleneck-yh export_meshes@objects/legacy_glove-rlzvry export_meshes@objects/leather_boots-pt export_meshes@objects/glue-as export_meshes@objects/hand_mixer-gz export_meshes@objects/bait-ec export_meshes@objects/matcha-rv export_meshes@objects/cigarette-te export_meshes@objects/legacy_spoon-nxddfp export_meshes@objects/legacy_basket-clziqw export_meshes@objects/legacy_bench-nokayw export_meshes@objects/legacy_swivel_chair-fqbnuk export_meshes@objects/watering_can-ek export_meshes@objects/legacy_pedestal_table-pyybeq export_meshes@objects/gravel-wq export_meshes@objects/legacy_stand-ljtrka export_meshes@objects/ice_skates-oq export_meshes@objects/legacy_carton-causya export_meshes@objects/gin-ie export_meshes@objects/legacy_glass-nfoydb export_meshes@objects/parchment_paper-ox export_meshes@objects/juicer-gs export_meshes@objects/legacy_washer-dobgmu export_meshes@objects/boat-qb export_meshes@objects/legacy_sofa-itbkff export_meshes@objects/legacy_toy-orunry export_meshes@objects/legacy_bowl-fiarri export_meshes@objects/legacy_armchair-fsrprw export_meshes@objects/legacy_pencil-lrwosa export_meshes@objects/chisel-ls export_meshes@objects/legacy_package-msfzpz export_meshes@objects/birdcage-xo export_meshes@objects/legacy_tart-borxmv export_meshes@objects/legacy_piano-bnxcvw export_meshes@objects/clip-vb export_meshes@objects/legacy_armchair-xpcheg export_meshes@objects/legacy_stove-yhjzwg\n",
      "dvc repro export_meshes@objects/legacy_bottom_cabinet-rvpunw export_meshes@objects/softball-jr export_meshes@objects/legacy_sofa-xhxdqf export_meshes@objects/legacy_tea_bag-kmvcrb export_meshes@objects/legacy_desk-ntezkg export_meshes@objects/legacy_video_game-qsyyql export_meshes@objects/lobster-pw export_meshes@objects/legacy_glass-slscza export_meshes@objects/legacy_hard_drive-ijibkm export_meshes@objects/legacy_protein_powder-tpcsve export_meshes@objects/easter_egg-kx export_meshes@objects/balloon-km export_meshes@objects/legacy_bottom_cabinet-mwgceh export_meshes@objects/legacy_table_lamp-htinka export_meshes@objects/legacy_sink-ejooms export_meshes@objects/ice_cubes export_meshes@objects/legacy_bowl-rlwpcd export_meshes@objects/shoe_box-gw export_meshes@objects/legacy_coat-kiiium export_meshes@objects/legacy_bottom_cabinet-xpdbgf export_meshes@objects/legacy_jam-vxjbjf export_meshes@objects/postage_stamps-fn export_meshes@objects/legacy_olive_oil-lvsfgc export_meshes@objects/legacy_top_cabinet-oztrra export_meshes@objects/coffee-li export_meshes@objects/burlap-sm export_meshes@objects/shutter-vl export_meshes@objects/legacy_scrub_brush-hsejyi export_meshes@objects/legacy_platter-kiiamx export_meshes@objects/legacy_mayonnaise-ktmjvg export_meshes@objects/dowel-ty export_meshes@objects/legacy_jar-qzwijs export_meshes@objects/legacy_stand-geeldi export_meshes@objects/credit_card-nl export_meshes@objects/legacy_bed-wfxgbb export_meshes@objects/gazpacho-er export_meshes@objects/legacy_folding_chair-vngcqu export_meshes@objects/deicer-sh export_meshes@objects/legacy_toy-acymin export_meshes@objects/legacy_scissors-iizidc export_meshes@objects/legacy_bed-wbjidf export_meshes@objects/legacy_sofa-mnfbbh export_meshes@objects/legacy_potato-ljfitc export_meshes@objects/legacy_bottom_cabinet-ybntlp export_meshes@objects/fertilizer_bag-oa export_meshes@objects/legacy_desk-kmmlna export_meshes@objects/legacy_armchair-umbrpd export_meshes@objects/legacy_hat-avvknr export_meshes@objects/legacy_bottom_cabinet-bamfsz export_meshes@objects/legacy_bottom_cabinet_no_top-spojpj export_meshes@objects/legacy_desk-cnewsu export_meshes@objects/lemon_juice_bottle-fa export_meshes@objects/brownie-xv export_meshes@objects/air_filter-ls export_meshes@objects/legacy_bottom_cabinet-wesxdp export_meshes@objects/legacy_platter-ekjpdj export_meshes@objects/legacy_medicine-egondf export_meshes@objects/goggles-pw export_meshes@objects/legacy_t_shirt-kvidcx export_meshes@objects/legacy_pea-iblyep export_meshes@objects/legacy_straight_chair-vkgbbl export_meshes@objects/legacy_board_game-gcfkqa export_meshes@objects/legacy_pot_plant-kjnypo export_meshes@objects/legacy_desk-clenrz export_meshes@objects/quail_leg-1u export_meshes@objects/legacy_pop-bqretx export_meshes@objects/legacy_pocketknife-ngtgdn export_meshes@objects/soy_sauce-jh export_meshes@objects/legacy_coffee_table-aoojzy export_meshes@objects/legacy_dryer-wivnic export_meshes@objects/legacy_chopping_board-ktxcvz export_meshes@objects/red_wine-kt export_meshes@objects/tennis_ball-zc export_meshes@objects/legacy_swivel_chair-dqllma export_meshes@objects/retainer-zj export_meshes@objects/garlic-lh export_meshes@objects/legacy_toilet-rqxqtd export_meshes@objects/stripping_solution-mx export_meshes@objects/tuna-wh export_meshes@objects/legacy_gym_shoe-wfmrpw export_meshes@objects/hot_chocolate-ni export_meshes@objects/legacy_countertop-tpuwys export_meshes@objects/legacy_cologne-lyipur export_meshes@objects/legacy_tablefork-flexrc export_meshes@objects/legacy_protein_powder-ysgesq export_meshes@objects/necktie-is export_meshes@objects/legacy_trash_can-eahqyq export_meshes@objects/ground_beef export_meshes@objects/legacy_spoon-prbhag export_meshes@objects/dumpling-uy export_meshes@objects/hazelnut-jw export_meshes@objects/legacy_rosehip-xembcb export_meshes@objects/legacy_sink-ksecxq export_meshes@objects/legacy_chaise_longue-ajjxcd export_meshes@objects/suv-in export_meshes@objects/mixing_bowl-fp export_meshes@objects/herb-co export_meshes@objects/legacy_tile-vowkci export_meshes@objects/branch-bg export_meshes@objects/alcohol-ff\n",
      "dvc repro export_meshes@objects/shrimp-oq export_meshes@objects/biscuit-vh export_meshes@objects/legacy_fillet-fqhuey export_meshes@objects/legacy_colander-ambnzk export_meshes@objects/legacy_walker-ykjauh export_meshes@objects/legacy_hamburger-fyswch export_meshes@objects/legacy_caliper-sngjmj export_meshes@objects/allen_wrench-bd export_meshes@objects/legacy_picture-gwricv export_meshes@objects/tablet-re export_meshes@objects/legacy_bottom_cabinet_no_top-ozzcvs export_meshes@objects/legacy_grape-venbog export_meshes@objects/mail-rt export_meshes@objects/leek-f0 export_meshes@objects/pesticide-ik export_meshes@objects/legacy_stool-ycfbsd export_meshes@objects/legacy_swivel_chair-imhixv export_meshes@objects/legacy_casserole-mmbavt export_meshes@objects/legacy_lid-itwwle export_meshes@objects/legacy_speaker_system-suzqfe export_meshes@objects/soccer_ball-uj export_meshes@objects/legacy_candy_cane-qfomjj export_meshes@objects/legacy_coconut-txtabm export_meshes@objects/salsa-vb export_meshes@objects/legacy_desk-vpwmkm export_meshes@objects/ruler-es export_meshes@objects/frappuccino-if export_meshes@objects/ramen-va export_meshes@objects/legacy_swivel_chair-llckbs export_meshes@objects/legacy_mushroom-zlukhz export_meshes@objects/crystal-ms export_meshes@objects/legacy_notebook-ksxknp export_meshes@objects/charcoal-vc export_meshes@objects/legacy_bed-xhegju export_meshes@objects/hoodie-ev export_meshes@objects/legacy_spoon-qdepdj export_meshes@objects/legacy_chip-qstxpj export_meshes@objects/tablecloth-hb export_meshes@objects/legacy_sink-bnpjjy export_meshes@objects/violin_case-rv export_meshes@objects/legacy_swivel_chair-lxupys export_meshes@objects/worker_helmet-ot export_meshes@objects/legacy_paper_bag-bzsxgw export_meshes@objects/legacy_oven-hxorzh export_meshes@objects/legacy_kitchen_analog_scale-zpmpoq export_meshes@objects/legacy_top_cabinet-tactqn export_meshes@objects/kabobs-nc export_meshes@objects/legacy_saw-laysom export_meshes@objects/olives-25 export_meshes@objects/legacy_bean-dyjvwv export_meshes@objects/cat_food-eg export_meshes@objects/hiking_boots-gf export_meshes@objects/brisket-fi export_meshes@objects/beer_keg-rn export_meshes@objects/sunglasses-wo export_meshes@objects/legacy_pop-uwmchl export_meshes@objects/lettuce-ak export_meshes@objects/legacy_toy-vcmcoi export_meshes@objects/legacy_lasagna-eovigz export_meshes@objects/legacy_shampoo-hlkpwd export_meshes@objects/legacy_medicine-kasbsy export_meshes@objects/legacy_sausage-qijvmi export_meshes@objects/legacy_straw-qcqvjt export_meshes@objects/legacy_comb-lqnwhb export_meshes@objects/legacy_lid-uwzqlf export_meshes@objects/legacy_armchair-viphen export_meshes@objects/pancake-7b export_meshes@objects/legacy_swivel_chair-spwzyt export_meshes@objects/legacy_armchair-cyvmhv export_meshes@objects/toolbox-ng export_meshes@objects/jersey-of export_meshes@objects/pet_bed-yw export_meshes@objects/legacy_bottom_cabinet-rvunhj export_meshes@objects/utility_knife-ba export_meshes@objects/clamp-ok export_meshes@objects/legacy_toilet-aapttl export_meshes@objects/legacy_headset-oytuam export_meshes@objects/table_lamp-pq export_meshes@objects/tank_top-nd export_meshes@objects/squash-fa export_meshes@objects/baseball-db export_meshes@objects/legacy_window-bxydsr export_meshes@objects/noodle-21 export_meshes@objects/cymbal-kq export_meshes@objects/power_strip-le export_meshes@objects/dreidel-fe export_meshes@objects/skillet-be export_meshes@objects/legacy_bottom_cabinet-mbmbpa export_meshes@objects/trumpet-gh export_meshes@objects/legacy_straight_chair-myxhad export_meshes@objects/legacy_picture-fanvpf export_meshes@objects/legacy_watch-ghobzn export_meshes@objects/food_processor-ht export_meshes@objects/legacy_tape-gchdhk export_meshes@objects/peanuts-7y export_meshes@objects/legacy_lid-utfcdx export_meshes@objects/legacy_gym_shoe-picdro export_meshes@objects/bath_salt-mo export_meshes@objects/legacy_swivel_chair-elwzdc export_meshes@objects/sneakers-cr\n",
      "dvc repro export_meshes@objects/legacy_pencil-vakowb export_meshes@objects/legacy_bottom_cabinet-dajebq export_meshes@objects/bread_slice-zj export_meshes@objects/legacy_guacamole-ajnjvv export_meshes@objects/legacy_cup-rypdvd export_meshes@objects/switch-ou export_meshes@objects/arugula-lx export_meshes@objects/legacy_toy-nncqfn export_meshes@objects/measuring_cup-7l export_meshes@objects/compost-pf export_meshes@objects/legacy_hairbrush-bdylnb export_meshes@objects/saxophone-ig export_meshes@objects/legacy_bed-gcgodj export_meshes@objects/legacy_pot_plant-vcwwrd export_meshes@objects/mashed_potatoes-zw export_meshes@objects/legacy_coffee_pouch-zmadza export_meshes@objects/legacy_range_hood-iqbpie export_meshes@objects/legacy_swivel_chair-qtqitn export_meshes@objects/legacy_chest-gbdzls export_meshes@objects/legacy_pillow-tepkbl export_meshes@objects/legacy_armchair-qjwuus export_meshes@objects/legacy_juice-bbewjo export_meshes@objects/bedsheet-pj export_meshes@objects/legacy_swivel_chair-odoklx export_meshes@objects/mortar-v2 export_meshes@objects/stapler-tr export_meshes@objects/adhesive_strip-vv export_meshes@objects/legacy_dish_rack-kxuutl export_meshes@objects/legacy_oven-wuinhm export_meshes@objects/legacy_swivel_chair-njxooh export_meshes@objects/legacy_jar-vzwhbg export_meshes@objects/legacy_desk-zjbhgq export_meshes@objects/legacy_wall_mounted_tv-ylvjhb export_meshes@objects/legacy_straight_chair-laxufh export_meshes@objects/deodorant-ls export_meshes@objects/legacy_orange-yloghd export_meshes@objects/tissues-qu export_meshes@objects/legacy_swivel_chair-dmedmy export_meshes@objects/clam-yf export_meshes@objects/legacy_tray-xzcnjq export_meshes@objects/legacy_cereal-hcwbzw export_meshes@objects/legacy_sofa-jhfkdc export_meshes@objects/sangria-tc export_meshes@objects/maple_syrup-is export_meshes@objects/legacy_cereal-surzft export_meshes@objects/legacy_chives-yifjct export_meshes@objects/inhaler-rv export_meshes@objects/baking_powder-ll export_meshes@objects/legacy_basket-wqxrbf export_meshes@objects/legacy_spoon-huudhe export_meshes@objects/letter-fe export_meshes@objects/legacy_pot_plant-kxmvco export_meshes@objects/legacy_armchair-nckeqb export_meshes@objects/projector-bb export_meshes@objects/bun-ae export_meshes@objects/swimsuit-hr export_meshes@objects/power_tool-uj export_meshes@objects/asparagus-ew export_meshes@objects/legacy_washer-jgyzhv export_meshes@objects/legacy_watermelon-zgmaqe export_meshes@objects/ceramic_tile-yb export_meshes@objects/legacy_dishtowel-qvzbjx export_meshes@objects/socks-bz export_meshes@objects/duster-rm export_meshes@objects/diamond-jh export_meshes@objects/legacy_lid-jvqtqi export_meshes@objects/chowder-pu export_meshes@objects/funnel-oh export_meshes@objects/fire_wood-mr export_meshes@objects/legacy_wine_bottle-fzuiwy export_meshes@objects/legacy_medicine-qqsukh export_meshes@objects/legacy_vinegar-snzyfk export_meshes@objects/legacy_cherry-lkltpa export_meshes@objects/legacy_sofa-rxtscm export_meshes@objects/legacy_jar-ykrdzg export_meshes@objects/legacy_dinner_napkin-rpccls export_meshes@objects/copper_wire-rh export_meshes@objects/legacy_kettle-vjbldp export_meshes@objects/lavender_oil-g8 export_meshes@objects/legacy_potato-ngjeog export_meshes@objects/legacy_keyboard-nddmmy export_meshes@objects/legacy_glove-hsaxtc export_meshes@objects/textbook-ag export_meshes@objects/legacy_fridge-hivvdf export_meshes@objects/starch-jd export_meshes@objects/rum-ve export_meshes@objects/legacy_mouse-oydobn export_meshes@objects/legacy_pop-jnoksl export_meshes@objects/puzzle-xg export_meshes@objects/legacy_washer-omeuop export_meshes@objects/legacy_jar-fyfahz export_meshes@objects/legacy_sushi-akpnxn export_meshes@objects/legacy_straight_chair-isirjh export_meshes@objects/trees-hv export_meshes@objects/dvd-yq export_meshes@objects/custome-jn export_meshes@objects/snow_globe-aw export_meshes@objects/legacy_tinsel-ndmqqw export_meshes@objects/cellophane-ul export_meshes@objects/legacy_soup_ladle-xocqxg\n",
      "dvc repro export_meshes@objects/legacy_toilet-yxbgey export_meshes@objects/legacy_straw-ovckrp export_meshes@objects/legacy_pumpkin-mrntpd export_meshes@objects/shorts-mo export_meshes@objects/weed-dj export_meshes@objects/hand_sanitizer-ad export_meshes@objects/legacy_cord-tzurlz export_meshes@objects/legacy_trash_can-zotrbg export_meshes@objects/coconut_milk-oq export_meshes@objects/dutch_oven-wa export_meshes@objects/legacy_bracelet-thqqmo export_meshes@objects/legacy_picture-cltbty export_meshes@objects/legacy_walker-scbatq export_meshes@objects/legacy_breakfast_table-bmnubh export_meshes@objects/legacy_bottom_cabinet-vespxk export_meshes@objects/legacy_sandal-zafskl export_meshes@objects/legacy_bench-wtkahs export_meshes@objects/legacy_cruet-njqmqv export_meshes@objects/take-out_boxes-xh export_meshes@objects/legacy_oven-tllnvs export_meshes@objects/cookie_cutter-sr export_meshes@objects/legacy_trash_can-gsgutn export_meshes@objects/legacy_standing_tv-wbkvxr export_meshes@objects/molasses-x9 export_meshes@objects/legacy_pen-nqxveo export_meshes@objects/brown_rice-yb export_meshes@objects/legacy_mushroom-xeodai export_meshes@objects/bandage-at export_meshes@objects/legacy_bottom_cabinet-imyaje export_meshes@objects/legacy_toy-aihmqy export_meshes@objects/jacket-ql export_meshes@objects/legacy_shower-invgma export_meshes@objects/legacy_dart-hzvuwy export_meshes@objects/legacy_guitar-wjohag export_meshes@objects/legacy_jar-piemou export_meshes@objects/dish_soap-vr export_meshes@objects/legacy_bottom_cabinet-zuwvdo export_meshes@objects/legacy_trash_can-nuoypc export_meshes@objects/legacy_bowl-dalyim export_meshes@objects/legacy_dishwasher-znfvmj export_meshes@objects/legacy_swivel_chair-bukrxm export_meshes@objects/legacy_water-emquat export_meshes@objects/legacy_breakfast_table-kwmfdg export_meshes@objects/legacy_shelf-vehhll export_meshes@objects/hoe-lg export_meshes@objects/legacy_grill-ddlqye export_meshes@objects/legacy_bottom_cabinet-ryznya export_meshes@objects/legacy_bell-oshurh export_meshes@objects/legacy_sandal-shdahi export_meshes@objects/hand_rake-af export_meshes@objects/daiper-re export_meshes@objects/tank-ck export_meshes@objects/legacy_floor_lamp-lqdmym export_meshes@objects/legacy_cauldron-zndohl export_meshes@objects/legacy_burner-lfyqat export_meshes@objects/legacy_lettuce-yxemcs export_meshes@objects/legacy_swivel_chair-mhsjfu export_meshes@objects/legacy_green_onion-wzqhsg export_meshes@objects/manure-bf export_meshes@objects/legacy_umbrella-cqfbku export_meshes@objects/legacy_radish-vztgpr export_meshes@objects/cherry_tomato-wq export_meshes@objects/legacy_pot_plant-udqjui export_meshes@objects/evergreen_tree-is export_meshes@objects/legacy_muffin-pxrntz export_meshes@objects/legacy_plate-iawoof export_meshes@objects/legacy_bathtub-enpxbn export_meshes@objects/legacy_green_onion_chopped-akrkjr export_meshes@objects/mattress-rn export_meshes@objects/legacy_bed-pqptex export_meshes@objects/legacy_window-qdkcdn export_meshes@objects/legacy_paper_towel_holder-rntefx export_meshes@objects/legacy_ink_cartridge-ltblou export_meshes@objects/legacy_pear-mqvgcg export_meshes@objects/legacy_folder-poqpux export_meshes@objects/legacy_briefcase-ohelib export_meshes@objects/brandy-xw export_meshes@objects/wallpaper-ll export_meshes@objects/legacy_standing_tv-ghxsoy export_meshes@objects/legacy_bottom_cabinet-twhums export_meshes@objects/legacy_lid-niarsj export_meshes@objects/legacy_pop-hjrwqb export_meshes@objects/candy-mb export_meshes@objects/legacy_briefcase-rxvbea export_meshes@objects/sparkler-wk export_meshes@objects/legacy_candle-bhaqam export_meshes@objects/legacy_apple-sguztn export_meshes@objects/okra-yk export_meshes@objects/legacy_cupcake-pfwrlq export_meshes@objects/legacy_sock-rhgweu export_meshes@objects/legacy_pot_plant-vyswzs export_meshes@objects/legacy_bed-wyxtqf export_meshes@objects/legacy_trash_can-leazin export_meshes@objects/legacy_grandfather_clock-icznug export_meshes@objects/air_freshner-yc export_meshes@objects/camera-us export_meshes@objects/legacy_cord-aqikou export_meshes@objects/legacy_jar-xrirkq export_meshes@objects/legacy_folder-piezyg export_meshes@objects/butternut_squash-ev\n",
      "dvc repro export_meshes@objects/legacy_trash_can-ifzxzj export_meshes@objects/shovel-xa export_meshes@objects/bacon-zi export_meshes@objects/thermometer-av export_meshes@objects/legacy_video_game-veodkq export_meshes@objects/legacy_monitor-rbqanz export_meshes@objects/legacy_highlighter-tcsmqv export_meshes@objects/legacy_bed-hkmwyc export_meshes@objects/legacy_straight_chair-lxmgbs export_meshes@objects/legacy_pop-uzbpnw export_meshes@objects/legacy_medicine-fmfwng export_meshes@objects/legacy_olive_oil-luikop export_meshes@objects/legacy_jewel-syneus export_meshes@objects/legacy_vidalia_onion-yxwjgn export_meshes@objects/legacy_dishtowel-ltydgg export_meshes@objects/legacy_toilet-wkltpj export_meshes@objects/legacy_walker-dgewyj export_meshes@objects/legacy_swivel_chair-aqobyj export_meshes@objects/rutabaga-wq export_meshes@objects/bird_feeder-zm export_meshes@objects/essential_oils-or export_meshes@objects/legacy_container_cranberry-fbcpsl export_meshes@objects/french_fries-jh export_meshes@objects/legacy_video_game-quzjuo export_meshes@objects/legacy_sink-zexzrc export_meshes@objects/pole-lx export_meshes@objects/legacy_desk-cjhriz export_meshes@objects/legacy_foot_rule-swlgkg export_meshes@objects/legacy_pegboard-jafivf export_meshes@objects/wood_chips-oh export_meshes@objects/shoe-mn export_meshes@objects/legacy_desk-uxgyui export_meshes@objects/legacy_chaise_longue-xmjcle export_meshes@objects/legacy_straight_chair-osvmes export_meshes@objects/flashlight-wq export_meshes@objects/legacy_straight_chair-pmpwwi export_meshes@objects/legacy_sweater-ekcjci export_meshes@objects/legacy_platter-csanbr export_meshes@objects/chips-gq export_meshes@objects/legacy_board_game-nfewft export_meshes@objects/whiskey_stones-ke export_meshes@objects/legacy_foot_rule-rutqab export_meshes@objects/legacy_standing_tv-sbxgwj export_meshes@objects/legacy_rake-jjetot export_meshes@objects/legacy_peach-wrutgk export_meshes@objects/legacy_pork-ihekpm export_meshes@objects/legacy_cup-ykuftq export_meshes@objects/legacy_broom-tpyvbt export_meshes@objects/legacy_trash_can-pdmzhv export_meshes@objects/legacy_toy-jddrck export_meshes@objects/apple_pie-bk export_meshes@objects/legacy_shelf-njwsoa export_meshes@objects/tulip-ce export_meshes@objects/legacy_pot_plant-yvuagy export_meshes@objects/tea_leaves-zk export_meshes@objects/champagne-cs export_meshes@objects/legacy_door-lvgliq export_meshes@objects/legacy_console_table-xqlxni export_meshes@objects/legacy_armchair-bslhmj export_meshes@objects/goblet-zz export_meshes@objects/nectarine-id export_meshes@objects/keys-lx export_meshes@objects/legacy_monitor-huvcgu export_meshes@objects/legacy_chocolate_box-bdvkbh export_meshes@objects/slotted_spoon-bu export_meshes@objects/leaves-ab export_meshes@objects/parmesan_cheese-iz export_meshes@objects/knife_block-ce export_meshes@objects/legacy_hand_towel-jaubic export_meshes@objects/hotdog_sandwitch-as export_meshes@objects/legacy_broccoli-wsxavx export_meshes@objects/meat_thermometer-nt export_meshes@objects/legacy_bowl-jfvjep export_meshes@objects/legacy_bean-lvbjws export_meshes@objects/legacy_bottom_cabinet-ojceew export_meshes@objects/legacy_window-mjssrd export_meshes@objects/poinsettia-i9 export_meshes@objects/chicken_thigh-bq export_meshes@objects/legacy_wreath-rkrxno export_meshes@objects/chard-zo export_meshes@objects/legacy_swivel_chair-ywqhzu export_meshes@objects/legacy_console_table-fihyuz export_meshes@objects/legacy_pot_plant-xlylfy export_meshes@objects/scoop-ak export_meshes@objects/legacy_bell_pepper-ihctxa export_meshes@objects/legacy_head_cabbage-tqohvs export_meshes@objects/legacy_bottom_cabinet-yohygj export_meshes@objects/log-da export_meshes@objects/legacy_microwave-hjjxmi export_meshes@objects/leaf_blower-7t export_meshes@objects/legacy_washer-zgzvcv export_meshes@objects/legacy_peach-orowgl export_meshes@objects/storage_cart-gk export_meshes@objects/legacy_toilet-sjjweo export_meshes@objects/legacy_bean-cdinsu export_meshes@objects/trail_mix-hr export_meshes@objects/legacy_lid-dkncbi export_meshes@objects/legacy_straight_chair-hwpixe export_meshes@objects/pork_rib-l3 export_meshes@objects/ink-pa\n",
      "dvc repro export_meshes@objects/sweatshirt-kd export_meshes@objects/legacy_breakfast_table-skseyx export_meshes@objects/cleaner-ed export_meshes@objects/legacy_tongs-rcpjld export_meshes@objects/legacy_board_game-rgvkmy export_meshes@objects/legacy_cantaloup-pqcnoc export_meshes@objects/instant_pot-gj export_meshes@objects/legacy_lemon-vuwehu export_meshes@objects/legacy_bottom_cabinet-pllcur export_meshes@objects/legacy_bottom_cabinet-kdbgpm export_meshes@objects/legacy_straight_chair-rosdkm export_meshes@objects/legacy_pepper_grinder-tfoogy export_meshes@objects/legacy_pot_plant-jatssq export_meshes@objects/legacy_bowl-adciys export_meshes@objects/onion_powder-a9 export_meshes@objects/duvet_set-pa export_meshes@objects/bleach-wc export_meshes@objects/legacy_toothbrush-qbkrzg export_meshes@objects/legacy_newspaper-ukamcl export_meshes@objects/legacy_floor_lamp-fanocp export_meshes@objects/legacy_table_lamp-bhdxug export_meshes@objects/legacy_rocking_chair-wkduul export_meshes@objects/legacy_thumbtack-qfrphh export_meshes@objects/lint_roller-u6 export_meshes@objects/legacy_chives-gboofh export_meshes@objects/legacy_bench-svnyht export_meshes@objects/purse-go export_meshes@objects/wind_chimes-kj export_meshes@objects/legacy_toy-gnofgv export_meshes@objects/linseed_oil-by export_meshes@objects/legacy_medicine-zfbnjh export_meshes@objects/legacy_toy-gyrsew export_meshes@objects/legacy_apple-qusmpx export_meshes@objects/acid-ub export_meshes@objects/almond-ab export_meshes@objects/pin-gl export_meshes@objects/birdseed-bd export_meshes@objects/legacy_window-bhwwja export_meshes@objects/pepperoni-ca export_meshes@objects/legacy_range_hood-lejkwg export_meshes@objects/caulk-hi export_meshes@objects/legacy_piano-ygmqqa export_meshes@objects/champagne_flute-pb export_meshes@objects/legacy_desk-sfstso export_meshes@objects/legacy_lotion-ixfuxm export_meshes@objects/organizer-te export_meshes@objects/legacy_desk-tdhgko export_meshes@objects/bath_mat-he export_meshes@objects/chicken_wing-ye export_meshes@objects/legacy_board_game-lzslbu export_meshes@objects/legacy_table_lamp-xbfgjc export_meshes@objects/legacy_board_game-frgdqh export_meshes@objects/legacy_bucket-wlilma export_meshes@objects/legacy_cpu_board-xlqvil export_meshes@objects/legacy_stool-xcmniq export_meshes@objects/blinds-cs export_meshes@objects/legacy_ginger-wqcasl export_meshes@objects/chicken_breast-zh export_meshes@objects/legacy_lime-iwjcjp export_meshes@objects/legacy_straight_chair-axmhdk export_meshes@objects/legacy_bottom_cabinet-yxfueo export_meshes@objects/apron-iu export_meshes@objects/legacy_picture-jpfyrq export_meshes@objects/legacy_gingerbread-hxkcxs\n"
     ]
    }
   ],
   "source": [
    "i = 0\n",
    "side = t[i::2]\n",
    "for start in range(0, len(side), 100):\n",
    "    batch = side[start:start+100]\n",
    "    print(\"dvc repro\", \" \".join(f\"export_meshes@{x}\" for x in batch))\n",
    "print(\"\")"
   ]
  },
  {
   "cell_type": "code",
   "execution_count": null,
   "id": "28ce4d48",
   "metadata": {},
   "outputs": [],
   "source": []
  }
 ],
 "metadata": {
  "kernelspec": {
   "display_name": "Python 3 (ipykernel)",
   "language": "python",
   "name": "python3"
  },
  "language_info": {
   "codemirror_mode": {
    "name": "ipython",
    "version": 3
   },
   "file_extension": ".py",
   "mimetype": "text/x-python",
   "name": "python",
   "nbconvert_exporter": "python",
   "pygments_lexer": "ipython3",
   "version": "3.8.0"
  }
 },
 "nbformat": 4,
 "nbformat_minor": 5
}
