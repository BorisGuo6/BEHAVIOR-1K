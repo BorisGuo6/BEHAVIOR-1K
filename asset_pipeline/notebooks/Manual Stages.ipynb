{
 "cells": [
  {
   "cell_type": "code",
   "execution_count": 1,
   "id": "78f4882c",
   "metadata": {},
   "outputs": [],
   "source": [
    "import glob, pathlib, json"
   ]
  },
  {
   "cell_type": "code",
   "execution_count": 2,
   "id": "22a228a2",
   "metadata": {},
   "outputs": [],
   "source": [
    "fns = glob.glob(r\"D:\\ig_pipeline\\cad\\*\\*\")\n",
    "has_tree = []\n",
    "for fn in fns:\n",
    "    p = pathlib.Path(fn) / \"artifacts\" / \"object_list.json\"\n",
    "    if not p.exists():\n",
    "        continue\n",
    "    with open(p, \"r\") as f:\n",
    "        if \"max_tree\" in json.load(f):\n",
    "            has_tree.append(fn)"
   ]
  },
  {
   "cell_type": "code",
   "execution_count": 3,
   "id": "af10a2e3",
   "metadata": {},
   "outputs": [
    {
     "data": {
      "text/plain": [
       "1988"
      ]
     },
     "execution_count": 3,
     "metadata": {},
     "output_type": "execute_result"
    }
   ],
   "source": [
    "len(has_tree)"
   ]
  },
  {
   "cell_type": "code",
   "execution_count": 4,
   "id": "93a2b6a2",
   "metadata": {},
   "outputs": [],
   "source": [
    "missing = set(fns) - set(has_tree)"
   ]
  },
  {
   "cell_type": "code",
   "execution_count": 5,
   "id": "f2f46082",
   "metadata": {},
   "outputs": [
    {
     "data": {
      "text/plain": [
       "2"
      ]
     },
     "execution_count": 5,
     "metadata": {},
     "output_type": "execute_result"
    }
   ],
   "source": [
    "len(missing)"
   ]
  },
  {
   "cell_type": "code",
   "execution_count": 14,
   "id": "9fa29300",
   "metadata": {},
   "outputs": [],
   "source": [
    "if False:\n",
    "    import yaml\n",
    "    with open(r\"D:\\ig_pipeline\\dvc.lock\", \"r\") as f:\n",
    "        d = yaml.safe_load(f)\n",
    "    with open(r\"D:\\ig_pipeline\\dvc.jsonlock\", \"w\") as f:\n",
    "        json.dump(d, f, indent=2, sort_keys=True)"
   ]
  },
  {
   "cell_type": "code",
   "execution_count": 6,
   "id": "5652c5f0",
   "metadata": {},
   "outputs": [
    {
     "name": "stdout",
     "output_type": "stream",
     "text": [
      "dvc unprotect \n"
     ]
    }
   ],
   "source": [
    "target_fns = []\n",
    "for m in sorted(missing)[:100]:\n",
    "    fn = pathlib.Path(m) / \"artifacts/object_list.json\"\n",
    "    if not fn.exists():\n",
    "        continue\n",
    "    relative_fn = fn.relative_to(pathlib.Path(r\"D:\\ig_pipeline\"))\n",
    "    target_fns.append(str(relative_fn))\n",
    "\n",
    "print(\"dvc unprotect\", \" \".join(target_fns))"
   ]
  },
  {
   "cell_type": "code",
   "execution_count": 7,
   "id": "cafb1a4b",
   "metadata": {
    "scrolled": true
   },
   "outputs": [
    {
     "name": "stdout",
     "output_type": "stream",
     "text": [
      "python b1k_pipeline/batch_3dsmax.py cad\\objects\\tong-temp\\processed.max b1k_pipeline/max/object_list.py\n",
      "python b1k_pipeline/batch_3dsmax.py cad\\objects\\vase-temp\\processed.max b1k_pipeline/max/object_list.py\n"
     ]
    }
   ],
   "source": [
    "for m in sorted(missing)[:100]:\n",
    "    fn = pathlib.Path(m) / \"processed.max\"\n",
    "    relative_fn = fn.relative_to(pathlib.Path(r\"D:\\ig_pipeline\"))\n",
    "    print(f\"python b1k_pipeline/batch_3dsmax.py {relative_fn} b1k_pipeline/max/object_list.py\")"
   ]
  },
  {
   "cell_type": "code",
   "execution_count": 20,
   "id": "420cda69",
   "metadata": {},
   "outputs": [
    {
     "name": "stdout",
     "output_type": "stream",
     "text": [
      "dvc commit cad/objects/shirt-pe/artifacts/object_list.json cad/objects/shoe-mn/artifacts/object_list.json cad/objects/shoe_box-gw/artifacts/object_list.json cad/objects/shopping_cart-wo/artifacts/object_list.json cad/objects/shortening-vz/artifacts/object_list.json cad/objects/shorts-mo/artifacts/object_list.json cad/objects/shovel-xa/artifacts/object_list.json cad/objects/shrimp-oq/artifacts/object_list.json cad/objects/shrub-ur/artifacts/object_list.json cad/objects/shutter-vl/artifacts/object_list.json cad/objects/sieve-ab/artifacts/object_list.json cad/objects/ski-gm/artifacts/object_list.json cad/objects/skillet-be/artifacts/object_list.json cad/objects/skirt-yq/artifacts/object_list.json cad/objects/slotted_spoon-bu/artifacts/object_list.json cad/objects/slow_cooker-ic/artifacts/object_list.json cad/objects/smoker-nr/artifacts/object_list.json cad/objects/smoothie-ee/artifacts/object_list.json cad/objects/sneakers-cr/artifacts/object_list.json cad/objects/snow_globe-aw/artifacts/object_list.json cad/objects/snow_pants-ic/artifacts/object_list.json cad/objects/soccer_ball-uj/artifacts/object_list.json cad/objects/socks-bz/artifacts/object_list.json cad/objects/sod-cj/artifacts/object_list.json cad/objects/soda-oe/artifacts/object_list.json cad/objects/softball-jr/artifacts/object_list.json cad/objects/sour_cream-kx/artifacts/object_list.json cad/objects/soy_sauce-jh/artifacts/object_list.json cad/objects/spaghetti-nm/artifacts/object_list.json cad/objects/sparkler-wk/artifacts/object_list.json cad/objects/sparkling_water-ry/artifacts/object_list.json cad/objects/speaker-dn/artifacts/object_list.json cad/objects/spices-pa/artifacts/object_list.json cad/objects/spices-sr/artifacts/object_list.json cad/objects/sponge-le/artifacts/object_list.json cad/objects/spray_bottle-ea/artifacts/object_list.json cad/objects/spray_paint-om/artifacts/object_list.json cad/objects/sprinkler-nx/artifacts/object_list.json cad/objects/squash-fa/artifacts/object_list.json cad/objects/squeegee-jf/artifacts/object_list.json cad/objects/squeeze_bottle-ap/artifacts/object_list.json cad/objects/sriracha-bb/artifacts/object_list.json cad/objects/stake-ie/artifacts/object_list.json cad/objects/stapler-tr/artifacts/object_list.json cad/objects/staples-lv/artifacts/object_list.json cad/objects/starch-jd/artifacts/object_list.json cad/objects/star_anise-gs/artifacts/object_list.json cad/objects/steamer_basket-xk/artifacts/object_list.json cad/objects/steel_wool/artifacts/object_list.json cad/objects/sticker-sb/artifacts/object_list.json\n"
     ]
    }
   ],
   "source": [
    "to_commit = []\n",
    "for fn in fns:\n",
    "    p = pathlib.Path(fn) / \"artifacts\" / \"object_list.json\"\n",
    "    if p.exists() and not p.is_symlink():\n",
    "        relative_fn = p.relative_to(pathlib.Path(r\"D:\\ig_pipeline\"))\n",
    "        to_commit.append(str(relative_fn).replace(\"\\\\\", \"/\"))\n",
    "print(\"dvc commit\", \" \".join(to_commit[:50]))"
   ]
  },
  {
   "cell_type": "code",
   "execution_count": null,
   "id": "b91a177e",
   "metadata": {},
   "outputs": [],
   "source": []
  }
 ],
 "metadata": {
  "kernelspec": {
   "display_name": "Python 3 (ipykernel)",
   "language": "python",
   "name": "python3"
  },
  "language_info": {
   "codemirror_mode": {
    "name": "ipython",
    "version": 3
   },
   "file_extension": ".py",
   "mimetype": "text/x-python",
   "name": "python",
   "nbconvert_exporter": "python",
   "pygments_lexer": "ipython3",
   "version": "3.8.0"
  }
 },
 "nbformat": 4,
 "nbformat_minor": 5
}
