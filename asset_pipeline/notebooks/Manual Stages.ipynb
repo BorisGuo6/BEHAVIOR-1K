{
 "cells": [
  {
   "cell_type": "code",
   "execution_count": 5,
   "id": "7682c860",
   "metadata": {},
   "outputs": [],
   "source": [
    "import glob, pathlib, json"
   ]
  },
  {
   "cell_type": "code",
   "execution_count": null,
   "id": "9cb2b178",
   "metadata": {},
   "outputs": [],
   "source": [
    "fns = glob.glob(r\"D:\\ig_pipeline\\cad\\*\\*\")\n",
    "has_tree = []\n",
    "empty = []\n",
    "for fn in fns:\n",
    "    p = pathlib.Path(fn) / \"artifacts\" / \"object_list.json\"\n",
    "    if not p.exists():\n",
    "        continue\n",
    "    with open(p, \"r\") as f:\n",
    "        d = json.load(f)\n",
    "        if len(d[\"needed_objects\"]) == 0:\n",
    "            empty.append(fn)\n",
    "        if \"meta_links\" not in d:\n",
    "            continue\n",
    "        if any(\"collision\" in v for v in d[\"meta_links\"].values()):\n",
    "            has_tree.append(fn)"
   ]
  },
  {
   "cell_type": "code",
   "execution_count": null,
   "id": "a81c5567",
   "metadata": {},
   "outputs": [],
   "source": [
    "print(\"dvc unprotect\", \" \".join(str(pathlib.Path(x).relative_to(pathlib.Path(r\"D:\\ig_pipeline\"))) for x in empty))"
   ]
  },
  {
   "cell_type": "code",
   "execution_count": null,
   "id": "8029da74",
   "metadata": {},
   "outputs": [],
   "source": [
    "print(\"\\n\".join(\"rm -Recurse \" + str(pathlib.Path(x).relative_to(pathlib.Path(r\"D:\\ig_pipeline\"))) for x in empty))"
   ]
  },
  {
   "cell_type": "code",
   "execution_count": null,
   "id": "ed44daca",
   "metadata": {},
   "outputs": [],
   "source": [
    "len(has_tree)"
   ]
  },
  {
   "cell_type": "code",
   "execution_count": null,
   "id": "aa4e88b3",
   "metadata": {},
   "outputs": [],
   "source": [
    "has_tree[0]"
   ]
  },
  {
   "cell_type": "code",
   "execution_count": null,
   "id": "0c231bf5",
   "metadata": {},
   "outputs": [],
   "source": [
    "missing = set(fns) - set(has_tree)"
   ]
  },
  {
   "cell_type": "code",
   "execution_count": null,
   "id": "a72d3c65",
   "metadata": {},
   "outputs": [],
   "source": [
    "len(missing)"
   ]
  },
  {
   "cell_type": "code",
   "execution_count": null,
   "id": "0d2296f6",
   "metadata": {},
   "outputs": [],
   "source": [
    "target_fns = []\n",
    "for m in sorted(missing)[:100]:\n",
    "    fn = pathlib.Path(m) / \"artifacts/object_list.json\"\n",
    "    if not fn.exists():\n",
    "        continue\n",
    "    relative_fn = fn.relative_to(pathlib.Path(r\"D:\\ig_pipeline\"))\n",
    "    target_fns.append(str(relative_fn))\n",
    "\n",
    "print(\"dvc unprotect\", \" \".join(target_fns))"
   ]
  },
  {
   "cell_type": "code",
   "execution_count": null,
   "id": "b1a390ce",
   "metadata": {
    "scrolled": true
   },
   "outputs": [],
   "source": [
    "for m in sorted(missing)[:100]:\n",
    "    fn = pathlib.Path(m) / \"processed.max\"\n",
    "    relative_fn = fn.relative_to(pathlib.Path(r\"D:\\ig_pipeline\"))\n",
    "    print(f\"python b1k_pipeline/batch_3dsmax.py {relative_fn} b1k_pipeline/max/object_list.py\")"
   ]
  },
  {
   "cell_type": "code",
   "execution_count": null,
   "id": "7fea544e",
   "metadata": {},
   "outputs": [],
   "source": [
    "to_commit = []\n",
    "for fn in fns:\n",
    "    p = pathlib.Path(fn) / \"artifacts\" / \"object_list.json\"\n",
    "    if p.exists() and not p.is_symlink():\n",
    "        relative_fn = p.relative_to(pathlib.Path(r\"D:\\ig_pipeline\"))\n",
    "        to_commit.append(str(relative_fn).replace(\"\\\\\", \"/\"))\n",
    "print(\"dvc commit\", \" \".join(to_commit[:50]))"
   ]
  },
  {
   "cell_type": "code",
   "execution_count": 15,
   "id": "f99e891e",
   "metadata": {},
   "outputs": [],
   "source": [
    "# Get all the object targets, split into two, and run a bunch of them\n",
    "import sys\n",
    "sys.path.append(r\"D:\\ig_pipeline\")\n",
    "from b1k_pipeline.utils import get_targets\n",
    "t = get_targets(\"objects\")\n",
    "\n",
    "import random\n",
    "random.seed(1234)\n",
    "random.shuffle(t)\n",
    "assert \"objects/compost-pf\" not in t"
   ]
  },
  {
   "cell_type": "code",
   "execution_count": 3,
   "id": "25044601",
   "metadata": {},
   "outputs": [
    {
     "name": "stdout",
     "output_type": "stream",
     "text": [
      "dvc repro export_meshes@objects/legacy_folder-poqpux export_meshes@objects/legacy_armchair-fsrprw export_meshes@objects/legacy_almond-acooui export_meshes@objects/oyster-xp export_meshes@objects/legacy_perfume-ipurzb export_meshes@objects/beer_keg-rn export_meshes@objects/pizza_box-vm export_meshes@objects/legacy_washer-zgzvcv export_meshes@objects/allspice-vw export_meshes@objects/clamp-ok export_meshes@objects/deicer-sh export_meshes@objects/legacy_bucket-bdhvnt export_meshes@objects/caulk-hi export_meshes@objects/legacy_pencil-vakowb export_meshes@objects/legacy_toilet-chuack export_meshes@objects/aspirin-sr export_meshes@objects/legacy_bottom_cabinet-mxrzpj export_meshes@objects/legacy_pot_plant-ftbsdt export_meshes@objects/legacy_lemon-vuwehu export_meshes@objects/coffee_grinder-ag export_meshes@objects/ammonia-sd export_meshes@objects/cd-ui export_meshes@objects/legacy_folding_chair-dqhazh export_meshes@objects/legacy_caliper-sngjmj export_meshes@objects/baseball_glove-cs export_meshes@objects/legacy_swivel_chair-yiphfr export_meshes@objects/hot_chocolate-ni export_meshes@objects/eyeshadow-ca export_meshes@objects/legacy_folding_chair-vngcqu export_meshes@objects/legacy_sofa-uixwiv export_meshes@objects/chalk-ic export_meshes@objects/frosting-oo export_meshes@objects/legacy_salad-dhdhul export_meshes@objects/legacy_bed-nwzbyk export_meshes@objects/legacy_toy-vcmcoi export_meshes@objects/legacy_jar-vzwhbg export_meshes@objects/legacy_christmas_tree-eadukw export_meshes@objects/legacy_bottom_cabinet_no_top-ufhpbn export_meshes@objects/legacy_stand-geeldi export_meshes@objects/shoe_box-gw export_meshes@objects/legacy_video_game-apjpos export_meshes@objects/legacy_pop-uzbpnw export_meshes@objects/bratwurst-lt export_meshes@objects/canner-fk export_meshes@objects/legacy_swivel_chair-mhsjfu export_meshes@objects/brown_rice-yb export_meshes@objects/legacy_pen-zmimhb export_meshes@objects/legacy_pot_plant-kjnypo export_meshes@objects/smoothie-ee export_meshes@objects/legacy_powder_bottle-vfabau export_meshes@objects/lemon_juice_bottle-fa export_meshes@objects/legacy_dryer-smcyys export_meshes@objects/legacy_kettle-vjbldp export_meshes@objects/legacy_jar-pluujx export_meshes@objects/legacy_ribbon-puwdwq export_meshes@objects/legacy_top_cabinet-fqitbw export_meshes@objects/allen_wrench-bd export_meshes@objects/legacy_top_cabinet-dmwxyl export_meshes@objects/legacy_highchair-pahqnp export_meshes@objects/legacy_pineapple-zympwt export_meshes@objects/goggles-pw export_meshes@objects/geode-qw export_meshes@objects/legacy_rail_fence-iduxiv export_meshes@objects/legacy_oven-rwuazb export_meshes@objects/legacy_notebook-ffdjzp export_meshes@objects/olives-25 export_meshes@objects/vans-pk export_meshes@objects/legacy_lid-exiqxa export_meshes@objects/aluminium_foil-xr export_meshes@objects/quartz-l8 export_meshes@objects/tire-ks export_meshes@objects/legacy_straight_chair-hetymd export_meshes@objects/baseball_cap-ul export_meshes@objects/legacy_razor-jocsgp export_meshes@objects/legacy_swivel_chair-lafeot export_meshes@objects/legacy_breakfast_table-kpwegp export_meshes@objects/adhesive_strip-vv export_meshes@objects/bottle-wu export_meshes@objects/legacy_potato-ljfitc export_meshes@objects/legacy_door-rhcnln export_meshes@objects/legacy_rag-zmmbpz export_meshes@objects/legacy_sandal-shdahi export_meshes@objects/legacy_bed-wbjidf export_meshes@objects/toast-tt export_meshes@objects/legacy_chives-gboofh export_meshes@objects/legacy_egg-mimzbz export_meshes@objects/legacy_pop_case-sqiatv export_meshes@objects/legacy_bed-xhegju export_meshes@objects/legacy_shelf-wnvxme export_meshes@objects/legacy_bottom_cabinet-yxfueo export_meshes@objects/legacy_bottom_cabinet-zuwvdo export_meshes@objects/french_toast-uh export_meshes@objects/legacy_coat-kiiium export_meshes@objects/stripping_solution-mx export_meshes@objects/money-1c export_meshes@objects/legacy_sink-ejooms export_meshes@objects/legacy_pop-vszbvb export_meshes@objects/legacy_desk-cjhriz export_meshes@objects/legacy_shelf-eyidvz export_meshes@objects/legacy_oven-nvqqkv\n",
      "dvc repro export_meshes@objects/heat_gun-ty export_meshes@objects/legacy_bottom_cabinet_no_top-qudfwe export_meshes@objects/legacy_pencil-tqrrbk export_meshes@objects/raspberries-re export_meshes@objects/shrimp-oq export_meshes@objects/zipper-hx export_meshes@objects/legacy_swivel_chair-aqobyj export_meshes@objects/garden_glove-ld export_meshes@objects/bath_mat-he export_meshes@objects/putty_knife-oj export_meshes@objects/pitcher-xk export_meshes@objects/legacy_wall_mounted_tv-gffrzl export_meshes@objects/legacy_straight_chair-tfdjag export_meshes@objects/legacy_bottom_cabinet-imyaje export_meshes@objects/daiper-re export_meshes@objects/legacy_stool-mysfnz export_meshes@objects/funnel-oh export_meshes@objects/legacy_swivel_chair-dqkces export_meshes@objects/bug_repellent-sw export_meshes@objects/bird_feeder-zm export_meshes@objects/bacon-zi export_meshes@objects/legacy_microwave-hjjxmi export_meshes@objects/legacy_baguette-xydhpd export_meshes@objects/legacy_shelf-pkgbcp export_meshes@objects/legacy_bottom_cabinet-wesxdp export_meshes@objects/nectarine-id export_meshes@objects/shaker-nl export_meshes@objects/flask-fu export_meshes@objects/parmesan_cheese-iz export_meshes@objects/legacy_pop-chwjfu export_meshes@objects/papaya-xc export_meshes@objects/calendar-xa export_meshes@objects/glass_cleaner-wq export_meshes@objects/chorizo-su export_meshes@objects/legacy_door-nfrbch export_meshes@objects/legacy_pajamas-rcgdde export_meshes@objects/legacy_coffee_table-zzqwse export_meshes@objects/turkey-df export_meshes@objects/legacy_grill-ddlqye export_meshes@objects/legacy_piano-ygmqqa export_meshes@objects/legacy_dustpan-espzwv export_meshes@objects/legacy_swivel_chair-qtqitn export_meshes@objects/legacy_milk-xbvdpc export_meshes@objects/legacy_mug-ppzttc export_meshes@objects/tassel-ie export_meshes@objects/legacy_shelf-lbbims export_meshes@objects/legacy_olive-rstwkd export_meshes@objects/legacy_coffee_table-qlmqyy export_meshes@objects/shorts-mo export_meshes@objects/ice_tray-im export_meshes@objects/legacy_bottom_cabinet-ncbfwr export_meshes@objects/assembleable_shelf-fm export_meshes@objects/rainboots-lf export_meshes@objects/schnitzel-ia export_meshes@objects/crawfish-bo export_meshes@objects/yeast-kr export_meshes@objects/legacy_dishtowel-dtfspn export_meshes@objects/legacy_foot_rule-swlgkg export_meshes@objects/legacy_straight_chair-hwpixe export_meshes@objects/legacy_bottom_cabinet-ryznya export_meshes@objects/legacy_straight_chair-lxmgbs export_meshes@objects/legacy_tape-sklkyc export_meshes@objects/lacquer-u2 export_meshes@objects/legacy_zucchini-udvfaz export_meshes@objects/legacy_envelope-urcigc export_meshes@objects/legacy_board_game-fzyuip export_meshes@objects/cocoa_powder-vg export_meshes@objects/legacy_swivel_chair-xppcsn export_meshes@objects/legacy_lid-itwwle export_meshes@objects/legacy_dishwasher-dngvvi export_meshes@objects/trophy-af export_meshes@objects/legacy_kettle-bzisss export_meshes@objects/keys-lx export_meshes@objects/legacy_straight_chair-fffhmn export_meshes@objects/retainer-zj export_meshes@objects/skillet-be export_meshes@objects/legacy_basket-haewxp export_meshes@objects/starch-jd export_meshes@objects/legacy_wine_bottle-hnkiog export_meshes@objects/legacy_mushroom-xeodai export_meshes@objects/legacy_piano-ojoiqt export_meshes@objects/stake-ie export_meshes@objects/legacy_swivel_chair-bukrxm export_meshes@objects/legacy_lid-jvqtqi export_meshes@objects/puzzle-xg export_meshes@objects/legacy_straight_chair-mgzcic export_meshes@objects/legacy_wrapped_gift-wpmksn export_meshes@objects/legacy_glass-nfoydb export_meshes@objects/legacy_top_cabinet-eobsmt export_meshes@objects/legacy_christmas_tree_decorated-wakmhn export_meshes@objects/legacy_sandal-zafskl export_meshes@objects/teacup-mj export_meshes@objects/legacy_jar-gtnmis export_meshes@objects/rutabaga-wq export_meshes@objects/legacy_iron-fzbvce export_meshes@objects/clothesline-pq export_meshes@objects/legacy_bowl-dalyim export_meshes@objects/legacy_light_bulb-kfmkwd export_meshes@objects/legacy_rosehip-xembcb export_meshes@objects/legacy_swivel_chair-spwzyt\n",
      "dvc repro export_meshes@objects/legacy_window-fufios export_meshes@objects/match-zl export_meshes@objects/legacy_lid-kuibhu export_meshes@objects/legacy_speaker_system-suzqfe export_meshes@objects/legacy_straight_chair-mdnhjm export_meshes@objects/legacy_floor_lamp-vdxlda export_meshes@objects/legacy_hat-ldxyyc export_meshes@objects/legacy_standing_tv-gjlztf export_meshes@objects/legacy_swivel_chair-alvjtk export_meshes@objects/saxophone-ig export_meshes@objects/cardstock-wi export_meshes@objects/leaves-ab export_meshes@objects/legacy_watermelon-slucoe export_meshes@objects/legacy_breakfast_table-mwsyqb export_meshes@objects/legacy_gym_shoe-lqzooz export_meshes@objects/pickle-kk export_meshes@objects/bulb-jv export_meshes@objects/legacy_sandal-spcddb export_meshes@objects/legacy_magazine-ehdwsd export_meshes@objects/legacy_straight_chair-enuago export_meshes@objects/legacy_platter-iadlti export_meshes@objects/body_srub-vm export_meshes@objects/evergreen_tree-is export_meshes@objects/legacy_pop-pyrics export_meshes@objects/legacy_sausage-qijvmi export_meshes@objects/legacy_straight_chair-pmpwwi export_meshes@objects/legacy_paint-ycnaho export_meshes@objects/legacy_medicine-fmfwng export_meshes@objects/squash-fa export_meshes@objects/legacy_necklace-wzmleo export_meshes@objects/cardigan-xm export_meshes@objects/legacy_stove-dusebh export_meshes@objects/legacy_pop_case-oarbks export_meshes@objects/legacy_floor_lamp-fanocp export_meshes@objects/legacy_raspberry-spkers export_meshes@objects/body_wash-fd export_meshes@objects/mattress-rn export_meshes@objects/legacy_jar-xebmcy export_meshes@objects/projector-bb export_meshes@objects/legacy_table_lamp-lyjkje export_meshes@objects/legacy_mushroom-zlukhz export_meshes@objects/legacy_table_lamp-bhdxug export_meshes@objects/legacy_toothpick-deysav export_meshes@objects/legacy_crib-oimydv export_meshes@objects/wire_cutter-rv export_meshes@objects/legacy_bench-pcymmc export_meshes@objects/legacy_breakfast_table-bmnubh export_meshes@objects/legacy_swivel_chair-elwzdc export_meshes@objects/plier-8w export_meshes@objects/legacy_bottom_cabinet-rntwkg export_meshes@objects/legacy_breakfast_table-zypvuv export_meshes@objects/legacy_toy-fnueyn export_meshes@objects/legacy_stove-yhjzwg export_meshes@objects/legacy_bottom_cabinet-plccav export_meshes@objects/legacy_bottom_cabinet-pzjecb export_meshes@objects/legacy_shampoo-jccyom export_meshes@objects/legacy_chili-pbbkpz export_meshes@objects/kielbasa-ks export_meshes@objects/legacy_chives-yifjct export_meshes@objects/bowling_ball-vx export_meshes@objects/legacy_video_game-coiafo export_meshes@objects/legacy_straight_chair-zhojwx export_meshes@objects/ceramic_tile-yb export_meshes@objects/ski-gm export_meshes@objects/legacy_fillet-fqhuey export_meshes@objects/brandy-xw export_meshes@objects/wood_chips-oh export_meshes@objects/legacy_parsley-kkgkkd export_meshes@objects/legacy_bottom_cabinet-cjcyed export_meshes@objects/legacy_table_knife-lrdmpf export_meshes@objects/legacy_strawberry-xcnzxh export_meshes@objects/dish_soap-vr export_meshes@objects/lens-2z export_meshes@objects/legacy_bottom_cabinet-qkgfln export_meshes@objects/legacy_dishwasher-xlmier export_meshes@objects/legacy_window-ulnafj export_meshes@objects/legacy_dishwasher-znfvmj export_meshes@objects/legacy_pedestal_table-poukwl export_meshes@objects/legacy_jam-vxjbjf export_meshes@objects/notepad-mg export_meshes@objects/legacy_steak-ppykkp export_meshes@objects/legacy_hairbrush-bdylnb export_meshes@objects/legacy_washer-omeuop export_meshes@objects/sieve-ab export_meshes@objects/trailer-mc export_meshes@objects/sandals-gx export_meshes@objects/tupperware-un export_meshes@objects/bath_salt-mo export_meshes@objects/lighter_fluid-2z export_meshes@objects/hanging_basket-it export_meshes@objects/legacy_table_lamp-dkfwyb export_meshes@objects/legacy_paintbrush-gngyrk export_meshes@objects/legacy_sweet_corn-dacgvr export_meshes@objects/legacy_folding_chair-dxergu export_meshes@objects/legacy_guitar-wjohag export_meshes@objects/legacy_toilet-aapttl export_meshes@objects/legacy_sweater-ekcjci export_meshes@objects/legacy_t_shirt-kvidcx export_meshes@objects/legacy_pop-haoywb export_meshes@objects/legacy_carton-causya\n",
      "dvc repro export_meshes@objects/legacy_straight_chair-haaiau export_meshes@objects/legacy_basket-xhdtjn export_meshes@objects/legacy_grape-uprbwp export_meshes@objects/legacy_bottom_cabinet-kenkcw export_meshes@objects/legacy_bottom_cabinet-kdbgpm export_meshes@objects/legacy_bucket-wlilma export_meshes@objects/legacy_lid-jqvurl export_meshes@objects/legacy_armchair-qplklw export_meshes@objects/legacy_floor_lamp-pfuqec export_meshes@objects/legacy_bell_pepper-ggurxn export_meshes@objects/dreidel-fe export_meshes@objects/legacy_bottom_cabinet-mwgceh export_meshes@objects/trees-hv export_meshes@objects/legacy_zucchini-ifvmal export_meshes@objects/legacy_thumbtack-qfrphh export_meshes@objects/legacy_scrub_brush-hsejyi export_meshes@objects/avocado-hz export_meshes@objects/legacy_video_game-veodkq export_meshes@objects/legacy_standing_tv-blyapt export_meshes@objects/thermostat-ob export_meshes@objects/legacy_mat-mayaur export_meshes@objects/tent-md export_meshes@objects/frame-ow export_meshes@objects/legacy_window-iwcqsz export_meshes@objects/legacy_board_game-qdkyzl export_meshes@objects/legacy_oven-qygclv export_meshes@objects/plug-jv export_meshes@objects/wrench-ac export_meshes@objects/microphone-st export_meshes@objects/legacy_toothbrush-qbkrzg export_meshes@objects/legacy_crab-tjkiva export_meshes@objects/legacy_hose-gavrvw export_meshes@objects/legacy_microwave-rtfebu export_meshes@objects/duct_tape-ls export_meshes@objects/legacy_apple-sguztn export_meshes@objects/legacy_board_game-ibzhzu export_meshes@objects/spray_paint-om export_meshes@objects/trumpet-gh export_meshes@objects/plastic_cup-dh export_meshes@objects/legacy_heater-dwmloz export_meshes@objects/legacy_table_lamp-zpqejt export_meshes@objects/legacy_pop-xoldze export_meshes@objects/jelly_beans-in export_meshes@objects/food_coloring-jw export_meshes@objects/legacy_bowl-fiarri export_meshes@objects/legacy_peach-orowgl export_meshes@objects/pipe-ns export_meshes@objects/legacy_desk-yezrwt export_meshes@objects/legacy_coffee_table-gpkbiw export_meshes@objects/speaker-dn export_meshes@objects/legacy_toy-gyrsew export_meshes@objects/legacy_screwdriver-irtslw export_meshes@objects/legacy_basket-xjftlf export_meshes@objects/legacy_lid-qkogll export_meshes@objects/legacy_cherry-lkltpa export_meshes@objects/legacy_lid-dkncbi export_meshes@objects/legacy_breakfast_table-rjgmmy export_meshes@objects/legacy_shoulder_bag-mcualj export_meshes@objects/legacy_window-bhwwja export_meshes@objects/pumpkin_pie_spice-et export_meshes@objects/tortilla_chips-ub export_meshes@objects/legacy_bottom_cabinet-xpdbgf export_meshes@objects/legacy_towel_rack-pqhsry export_meshes@objects/legacy_apple-omzprq export_meshes@objects/cash_box-wk export_meshes@objects/legacy_window-ithrgo export_meshes@objects/take-out_boxes-xh export_meshes@objects/steamer_basket-xk export_meshes@objects/charger-fj export_meshes@objects/legacy_stand-kanola export_meshes@objects/legacy_video_game-muwcnf export_meshes@objects/legacy_armchair-vzhxuf export_meshes@objects/legacy_guitar-gysapt export_meshes@objects/leaf_blower-7t export_meshes@objects/console_game-cm export_meshes@objects/suitcase-sd export_meshes@objects/maple_syrup-is export_meshes@objects/legacy_breakfast_table-lwtcfh export_meshes@objects/legacy_bed-fnzxxr export_meshes@objects/legacy_table_lamp-kwkqot export_meshes@objects/legacy_straight_chair-htssho export_meshes@objects/legacy_door-gmytjz export_meshes@objects/legacy_stove-jhyhag export_meshes@objects/blueberries-dg export_meshes@objects/legacy_bottom_cabinet-lhucjo export_meshes@objects/rice-ja export_meshes@objects/legacy_dishwasher-tnlzww export_meshes@objects/legacy_folderal-ttldpx export_meshes@objects/granola_bar-le export_meshes@objects/legacy_keyboard-nddmmy export_meshes@objects/ticket-et export_meshes@objects/legacy_swivel_chair-moimne export_meshes@objects/legacy_trash_can-aefcem export_meshes@objects/legacy_bottom_cabinet-slgzfc export_meshes@objects/legacy_pistachio-bhirar export_meshes@objects/candied_yam-jx export_meshes@objects/pipe2-rw export_meshes@objects/legacy_picture-ytxhyl export_meshes@objects/legacy_bed-yghbxh export_meshes@objects/legacy_guitar-hpqjrq\n",
      "dvc repro export_meshes@objects/mac_and_cheese-ql export_meshes@objects/legacy_standing_tv-bkyguk export_meshes@objects/legacy_gym_shoe-qxecbh export_meshes@objects/sanitizer-pt export_meshes@objects/wrapping_paper-jc export_meshes@objects/legacy_bean-lvbjws export_meshes@objects/legacy_vacuum-amnmmq export_meshes@objects/legacy_toilet-vcgvfe export_meshes@objects/legacy_picture-wfdvzv export_meshes@objects/legacy_shampoo-tzghev export_meshes@objects/duvet_set-pa export_meshes@objects/jewelry_cleaner-bh export_meshes@objects/quilt-hh export_meshes@objects/legacy_pool-xixlzr export_meshes@objects/legacy_wine_bottle-fzuiwy export_meshes@objects/legacy_washer-xusefg export_meshes@objects/butternut_squash-ev export_meshes@objects/legacy_paper_towel_holder-rntefx export_meshes@objects/green_bean-yr export_meshes@objects/legacy_bench-nzsfrw export_meshes@objects/legacy_pop-wrgmdt export_meshes@objects/pickup_truck-c5 export_meshes@objects/litter_box-gr export_meshes@objects/sealant-oq export_meshes@objects/legacy_pumpkin-mrntpd export_meshes@objects/mojito-0l export_meshes@objects/legacy_canned_food-acgdtc export_meshes@objects/legacy_sandal-uhzfis export_meshes@objects/pecans-5k export_meshes@objects/mortar-v2 export_meshes@objects/legacy_bed-gcgodj export_meshes@objects/legacy_tablefork-pqrtkc export_meshes@objects/legacy_kitchen_analog_scale-zpmpoq export_meshes@objects/legacy_toasting_fork-vokznh export_meshes@objects/legacy_spoon-prbhag export_meshes@objects/legacy_pillow-fxxpwf export_meshes@objects/legacy_dishwasher-ynrhuk export_meshes@objects/legacy_pop_case-unmexe export_meshes@objects/legacy_straw-qcqvjt export_meshes@objects/legacy_zucchini-dybtwb export_meshes@objects/legacy_toy-gqspnb export_meshes@objects/honey_jar-ia export_meshes@objects/legacy_bench-zfpjkj export_meshes@objects/lime_soda-f5 export_meshes@objects/legacy_bottom_cabinet-bamfsz export_meshes@objects/legacy_top_cabinet-nkrgez export_meshes@objects/legacy_bench-jvygiq export_meshes@objects/legacy_piano-bnxcvw export_meshes@objects/dice-wq export_meshes@objects/taco-os export_meshes@objects/legacy_table_lamp-wslomg export_meshes@objects/legacy_video_game-lfdpse export_meshes@objects/legacy_cup-dkxddg export_meshes@objects/haystack-ud export_meshes@objects/legacy_bed-smmmaf export_meshes@objects/legacy_straight_chair-gxzrim export_meshes@objects/legacy_ink_cartridge-oepuip export_meshes@objects/legacy_detergent-qjkmhq export_meshes@objects/legacy_potato-bpwohr export_meshes@objects/legacy_pot_plant-kxmvco export_meshes@objects/legacy_swivel_chair-nqojos export_meshes@objects/power_washer-7s export_meshes@objects/dog_food-df export_meshes@objects/legacy_bowl-fwdfeg export_meshes@objects/legacy_olive-rzktwr export_meshes@objects/legacy_hanger-ffecvd export_meshes@objects/legacy_cookie-ggpang export_meshes@objects/legacy_notebook-xhigou export_meshes@objects/legacy_lipstick-petufo export_meshes@objects/legacy_board_game-nfewft export_meshes@objects/blazer-fa export_meshes@objects/legacy_fridge-hzgqdn export_meshes@objects/legacy_swivel_chair-dqllma export_meshes@objects/cloves-kp export_meshes@objects/legacy_toy-nncqfn export_meshes@objects/knife_block-ce export_meshes@objects/green_tea-na export_meshes@objects/legacy_toilet-rqxqtd export_meshes@objects/legacy_walker-ndexvs export_meshes@objects/table_lamp-pq export_meshes@objects/gravel-wq export_meshes@objects/legacy_casserole-mmbavt export_meshes@objects/legacy_bed-sunfhf export_meshes@objects/legacy_facsimile-mcqqhy export_meshes@objects/legacy_desk-phavlj export_meshes@objects/legacy_bed-lslyyi export_meshes@objects/legacy_top_cabinet-qiausz export_meshes@objects/legacy_door-ohagsq export_meshes@objects/legacy_tomato-altlfz export_meshes@objects/legacy_board_game-qgvsnb export_meshes@objects/vegetable_peeler-nb export_meshes@objects/legacy_lid-qfqccp export_meshes@objects/legacy_wall_socket-eaxxbm export_meshes@objects/denture-hi export_meshes@objects/measuring_cup-7l export_meshes@objects/legacy_sunglass-nxfifs export_meshes@objects/legacy_basket-pqzyxx export_meshes@objects/legacy_bottom_cabinet-glefdh export_meshes@objects/matcha-rv export_meshes@objects/legacy_bowl-ajzltc\n",
      "dvc repro export_meshes@objects/legacy_chopping_board-ktxcvz export_meshes@objects/legacy_coffee_pouch-fovxcx export_meshes@objects/legacy_armchair-tcxiue export_meshes@objects/wax-al export_meshes@objects/legacy_carving_knife-mzhpkm export_meshes@objects/wheelbarrow-rh export_meshes@objects/cherry_tomato-wq export_meshes@objects/quiche-pc export_meshes@objects/legacy_bottom_cabinet-mbmbpa export_meshes@objects/turtleneck-yh export_meshes@objects/rose-mz export_meshes@objects/legacy_watermelon-zgmaqe export_meshes@objects/legacy_pop_case-qwtbon export_meshes@objects/legacy_door-lhxdte export_meshes@objects/squeegee-jf export_meshes@objects/legacy_olive_oil-cqycjk export_meshes@objects/legacy_pot_plant-quaxmw export_meshes@objects/scoop-ak export_meshes@objects/mask-s8 export_meshes@objects/legacy_video_game-rzaxlj export_meshes@objects/legacy_chopping_board-mwmzzv export_meshes@objects/legacy_bottom_cabinet_no_top-bmsclc export_meshes@objects/legacy_board_game-twkglv export_meshes@objects/legacy_detergent-gkpmii export_meshes@objects/legacy_coffee_table-hmwkkt export_meshes@objects/legacy_plywood-fkmkqa export_meshes@objects/sprinkler-nx export_meshes@objects/legacy_monitor-huvcgu export_meshes@objects/legacy_bottom_cabinet-eupgpt export_meshes@objects/legacy_dryer-fhtvuq export_meshes@objects/legacy_newspaper-ukamcl export_meshes@objects/tablet-re export_meshes@objects/legacy_pepper_grinder-tfoogy export_meshes@objects/swimsuit-hr export_meshes@objects/microfiber_cloth-ji export_meshes@objects/credit_card-nl export_meshes@objects/dowel-ty export_meshes@objects/legacy_bed-mpgavt export_meshes@objects/legacy_wall_clock-przkmo export_meshes@objects/easter_egg-kx export_meshes@objects/violin_case-rv export_meshes@objects/punching_bag-8b export_meshes@objects/rolling_pin-fl export_meshes@objects/water_filter-kl export_meshes@objects/coffee_beans-aa export_meshes@objects/legacy_cereal-dkhgxn export_meshes@objects/legacy_loudspeaker-avtlcj export_meshes@objects/legacy_lid-haxrqc export_meshes@objects/power_tool-uj export_meshes@objects/boat-qb export_meshes@objects/quail_breast-ia export_meshes@objects/legacy_walker-ykjauh export_meshes@objects/tripod-ti export_meshes@objects/legacy_kiwi-khupqq export_meshes@objects/legacy_breakfast_table-metubv export_meshes@objects/legacy_oven-hxorzh export_meshes@objects/legacy_video_game-pujfzk export_meshes@objects/cheese_danish-jm export_meshes@objects/legacy_bottom_cabinet-pkdnbu export_meshes@objects/legacy_top_cabinet-dhguym export_meshes@objects/legacy_table_lamp-wdqvjl export_meshes@objects/pencil_case-ne export_meshes@objects/legacy_pop-ribekf export_meshes@objects/charcoal-vc export_meshes@objects/legacy_document-qkrlsi export_meshes@objects/legacy_table_lamp-pmekkr export_meshes@objects/legacy_table_lamp-jiuwwn export_meshes@objects/legacy_green_onion-wzqhsg export_meshes@objects/legacy_trash_can-zotrbg export_meshes@objects/legacy_armchair-viphen export_meshes@objects/lighter-no export_meshes@objects/legacy_basket-clziqw export_meshes@objects/fennel-lg export_meshes@objects/legacy_lid-uwzqlf export_meshes@objects/legacy_board_game-lzslbu export_meshes@objects/rug-qp export_meshes@objects/legacy_notebook-ksxknp export_meshes@objects/legacy_chest-gbdzls export_meshes@objects/baking_sheet-gz export_meshes@objects/rhubarb-np export_meshes@objects/legacy_scissors-iizidc export_meshes@objects/legacy_shower-aktzdp export_meshes@objects/legacy_lid-aybgkm export_meshes@objects/pebbles-js export_meshes@objects/ashtray-gr export_meshes@objects/legacy_medicine-qqsukh export_meshes@objects/squeeze_bottle-ap export_meshes@objects/legacy_rocking_chair-drpbxj export_meshes@objects/legacy_bed-pqptex export_meshes@objects/legacy_table_lamp-wvysoe export_meshes@objects/legacy_juice-bbewjo export_meshes@objects/legacy_toy-acymin export_meshes@objects/legacy_swivel_chair-vhlzdb export_meshes@objects/legacy_bench-jaklov export_meshes@objects/legacy_head_cabbage-tqohvs export_meshes@objects/paint_remover-rb export_meshes@objects/legacy_straight_chair-xfhcep export_meshes@objects/chicken_wire-ns export_meshes@objects/legacy_microwave-bfbeeb export_meshes@objects/legacy_medicine-kasbsy\n",
      "dvc repro export_meshes@objects/legacy_armchair-qgcjtr export_meshes@objects/legacy_canned_food-foetdd export_meshes@objects/legacy_lid-utfcdx export_meshes@objects/hammock-ht export_meshes@objects/legacy_pretzel-rmutwn export_meshes@objects/decanter-ij export_meshes@objects/legacy_window-tflzbx export_meshes@objects/legacy_baseboard-prytbo export_meshes@objects/smoker-nr export_meshes@objects/hutch-cr export_meshes@objects/legacy_plum-dsybez export_meshes@objects/legacy_coat-brebdk export_meshes@objects/legacy_notebook-jxabmj export_meshes@objects/slow_cooker-ic export_meshes@objects/legacy_pop-mrrozu export_meshes@objects/legacy_bottom_cabinet-ttmejh export_meshes@objects/legacy_washer-mrgspe export_meshes@objects/legacy_bottom_cabinet_no_top-exgntg export_meshes@objects/tote-se export_meshes@objects/legacy_jar-jbhdeu export_meshes@objects/batting_gloves-nd export_meshes@objects/legacy_lid-qhlsdq export_meshes@objects/tequilla-jo export_meshes@objects/legacy_puree-raagvm export_meshes@objects/okra-yk export_meshes@objects/lavender_oil-g8 export_meshes@objects/syringe-pb export_meshes@objects/rope-ms export_meshes@objects/legacy_comb-lqnwhb export_meshes@objects/legacy_shelf-vgzdul export_meshes@objects/legacy_hardback-nubbfj export_meshes@objects/legacy_briefcase-lwbctq export_meshes@objects/legacy_desk-vpwmkm export_meshes@objects/legacy_kiwi-ukwism export_meshes@objects/legacy_stove-kfhkqp export_meshes@objects/thermometer-av export_meshes@objects/label-ox export_meshes@objects/legacy_straight_chair-dmcixv export_meshes@objects/legacy_carving_knife-awvoox export_meshes@objects/legacy_stand-ljtrka export_meshes@objects/apple_pie-bk export_meshes@objects/legacy_glove-rlzvry export_meshes@objects/legacy_shower-invgma export_meshes@objects/legacy_spoon-huudhe export_meshes@objects/legacy_toy-orunry export_meshes@objects/legacy_lid-fnqhbz export_meshes@objects/centerpiece-nc export_meshes@objects/dough-qd export_meshes@objects/legacy_console_table-emeeke export_meshes@objects/bleach-wc export_meshes@objects/legacy_bell_pepper-ukkycp export_meshes@objects/legacy_grandfather_clock-veyqcp export_meshes@objects/legacy_desk-uxgyui export_meshes@objects/legacy_ball-nofzds export_meshes@objects/clock-wy export_meshes@objects/legacy_oven-tllnvs export_meshes@objects/espresso_maker-af export_meshes@objects/legacy_microwave-abzvij export_meshes@objects/legacy_paint-mxyrzd export_meshes@objects/legacy_stove-igwqpj export_meshes@objects/legacy_wine_bottle-vecadn export_meshes@objects/whistle-gk export_meshes@objects/lingerie-ov export_meshes@objects/legacy_desk-uffjvo export_meshes@objects/legacy_tape-yyekns export_meshes@objects/ground_coffee-pa export_meshes@objects/poinsettia-i9 export_meshes@objects/legacy_picture-qavxsz export_meshes@objects/dvd-yq export_meshes@objects/legacy_washer-jgyzhv export_meshes@objects/legacy_pop_case-zfyatg export_meshes@objects/legacy_straight_chair-myxhad export_meshes@objects/legacy_mirror-pevdqu export_meshes@objects/name_tag-so export_meshes@objects/legacy_sofa-xhxdqf export_meshes@objects/legacy_toy-lfxygp export_meshes@objects/legacy_jar-wvgsqk export_meshes@objects/legacy_dryer-wivnic export_meshes@objects/legacy_bulletin_board-ayaoal export_meshes@objects/scrambled_eggs-la export_meshes@objects/legacy_treadmill-ackppx export_meshes@objects/alcohol-ff export_meshes@objects/legacy_olive_oil-lvsfgc export_meshes@objects/legacy_swivel_chair-mrjlps export_meshes@objects/legacy_flour-ylezpk export_meshes@objects/legacy_cream_pitcher-wmkwhg export_meshes@objects/pencil_holder-la export_meshes@objects/legacy_spoon-nxddfp export_meshes@objects/life_jacket-ov export_meshes@objects/boot-ml export_meshes@objects/legacy_pumpkin-apitmi export_meshes@objects/legacy_breakfast_table-skczfi export_meshes@objects/legacy_coffee_table-xshzms export_meshes@objects/legacy_catsup-hvxkso export_meshes@objects/legacy_foot_rule-ujizkx export_meshes@objects/sesame_oil-oi export_meshes@objects/legacy_vidalia_onion-tnmqrt export_meshes@objects/legacy_floor_lamp-lqdmym export_meshes@objects/legacy_standing_tv-udotid export_meshes@objects/legacy_table_lamp-awfehr\n",
      "dvc repro export_meshes@objects/legacy_toilet-vdbmon export_meshes@objects/legacy_plum-rhaemq export_meshes@objects/legacy_rail_fence-qmsnld export_meshes@objects/legacy_stove-dwhqap export_meshes@objects/legacy_board_game-rgvkmy export_meshes@objects/legacy_swivel_chair-lizuow export_meshes@objects/legacy_atomizer-tehmzy export_meshes@objects/legacy_fridge-xyejdx export_meshes@objects/legacy_eggplant-jniuxf export_meshes@objects/wipes-bf export_meshes@objects/legacy_table_knife-nmkend export_meshes@objects/legacy_picture-gwricv export_meshes@objects/legacy_dish_rack-kxuutl export_meshes@objects/legacy_chestnut-jvnilh export_meshes@objects/legacy_muffin-pxrntz export_meshes@objects/vegetable_oil-oa export_meshes@objects/legacy_spatula-ktkigm export_meshes@objects/legacy_toy-cobfpg export_meshes@objects/watering_can-ek export_meshes@objects/water_dispenser-ht export_meshes@objects/legacy_colander-ambnzk export_meshes@objects/legacy_straight_chair-fgoezn export_meshes@objects/burlap-sm export_meshes@objects/legacy_toilet-yxbgey export_meshes@objects/tulip-ce export_meshes@objects/brisket-fi export_meshes@objects/legacy_standing_tv-sbxgwj export_meshes@objects/legacy_pot_plant-qenqqv export_meshes@objects/legacy_scanner-juzkjp export_meshes@objects/grass-fg export_meshes@objects/legacy_hat-wkrzep export_meshes@objects/legacy_pomelo-qecwzm export_meshes@objects/legacy_armchair-axudcx export_meshes@objects/legacy_bottom_cabinet_no_top-apjbrw export_meshes@objects/icicle_lights-uh export_meshes@objects/legacy_straight_chair-psoizi export_meshes@objects/salmon-vg export_meshes@objects/legacy_toilet-wusctd export_meshes@objects/legacy_platter-ekjpdj export_meshes@objects/legacy_apple-qusmpx export_meshes@objects/legacy_scraper-icqmje export_meshes@objects/red_beans-mu export_meshes@objects/balsamic_vinegar-cm export_meshes@objects/conch_shell-un export_meshes@objects/legacy_door-lctyaf export_meshes@objects/legacy_sink-wzpabm export_meshes@objects/legacy_toy-wvpqbf export_meshes@objects/legacy_coconut-qwriih export_meshes@objects/legacy_pop-oghrnk export_meshes@objects/tissues-qu export_meshes@objects/legacy_coffee_table-ytlgdt export_meshes@objects/legacy_tile-kuombe export_meshes@objects/bun-ae export_meshes@objects/boxing_gloves-zv export_meshes@objects/blackberries-xx export_meshes@objects/legacy_frying_pan-sfbdjn export_meshes@objects/legacy_bottom_cabinet_no_top-motill export_meshes@objects/legacy_rail_fence-vwpqly export_meshes@objects/legacy_spaghetti_sauce-zahyds export_meshes@objects/cooler-ac export_meshes@objects/legacy_oven-fexqbj export_meshes@objects/legacy_desk-tdhgko export_meshes@objects/legacy_dipper-hqqjfo export_meshes@objects/legacy_stool-miftfy export_meshes@objects/legacy_pot_plant-nscddw export_meshes@objects/legacy_canned_food-mzoaia export_meshes@objects/socks-bz export_meshes@objects/legacy_chestnut-tfawre export_meshes@objects/legacy_desk-cnewsu export_meshes@objects/legacy_top_cabinet-zjtaus export_meshes@objects/nachos-pj export_meshes@objects/log-da export_meshes@objects/legacy_door-lvgliq export_meshes@objects/legacy_soup_ladle-hgvzdm export_meshes@objects/chicken_tender-td export_meshes@objects/legacy_foot_rule-ckywbx export_meshes@objects/duck-dg export_meshes@objects/spaghetti-nm export_meshes@objects/biscuit-vh export_meshes@objects/legacy_pedestal_table-oqclwq export_meshes@objects/legacy_orange-ucstpm export_meshes@objects/legacy_pop-ubazru export_meshes@objects/legacy_board_game-frgdqh export_meshes@objects/legacy_standing_tv-wbkvxr export_meshes@objects/legacy_fridge-hivvdf export_meshes@objects/legacy_carpet-ctclvd export_meshes@objects/legacy_pencil-faudjj export_meshes@objects/legacy_ink_cartridge-ltblou export_meshes@objects/legacy_pencil-xuanpj export_meshes@objects/legacy_lid-qferch export_meshes@objects/legacy_headset-oytuam export_meshes@objects/cinnamon_stick-jl export_meshes@objects/legacy_coffee_table-aoojzy export_meshes@objects/rope-hn export_meshes@objects/legacy_bottom_cabinet-qacthv export_meshes@objects/spices-sr export_meshes@objects/legacy_hinge-qroify export_meshes@objects/legacy_video_game-ppnzqm export_meshes@objects/rosemary-bc export_meshes@objects/legacy_glove-hsaxtc\n",
      "dvc repro export_meshes@objects/firework-dg export_meshes@objects/stockpot-oa export_meshes@objects/legacy_ice_cube-iiimgo export_meshes@objects/legacy_canned_food-cbmndg export_meshes@objects/sponge-le export_meshes@objects/legacy_pot_plant-jaunqh export_meshes@objects/legacy_sink-czyfhq export_meshes@objects/legacy_cord-tzurlz export_meshes@objects/legacy_coconut-nnankv export_meshes@objects/legacy_pot_plant-vyswzs export_meshes@objects/legacy_griddle-ryvqep export_meshes@objects/legacy_board_game-gcfkqa export_meshes@objects/legacy_window-qdkcdn export_meshes@objects/legacy_lime-iwjcjp export_meshes@objects/legacy_bottom_cabinet-getjzo export_meshes@objects/pepperoni-ca export_meshes@objects/trail_mix-hr export_meshes@objects/chard-zo export_meshes@objects/legacy_toaster-kjwqav export_meshes@objects/legacy_armchair-vtsoat export_meshes@objects/vest-mq export_meshes@objects/legacy_radish-vztgpr export_meshes@objects/legacy_armchair-cyvmhv export_meshes@objects/can-yd export_meshes@objects/hiking_boots-gf export_meshes@objects/legacy_pear-mqvgcg export_meshes@objects/nativity-tl export_meshes@objects/kayak-dr export_meshes@objects/legacy_drumstick-lkvzmj export_meshes@objects/legacy_clout_nail-gvfevt export_meshes@objects/legacy_sofa-ocydlq export_meshes@objects/legacy_lettuce-yxemcs export_meshes@objects/trombone-sg export_meshes@objects/legacy_floor_lamp-jqsuky export_meshes@objects/legacy_bottom_cabinet-smujam export_meshes@objects/legacy_oven-kfftgk export_meshes@objects/legacy_bed-wyxtqf export_meshes@objects/dried_apricot-fd export_meshes@objects/legacy_lid-jvzjzp export_meshes@objects/cilantro-lx export_meshes@objects/legacy_sofa-otxxor export_meshes@objects/legacy_oven-nkxhvf export_meshes@objects/legacy_console_table-tvhett export_meshes@objects/pesticide-ik export_meshes@objects/legacy_pop-bqretx export_meshes@objects/branch-bg export_meshes@objects/legacy_celery-rqvtqi export_meshes@objects/legacy_bottom_cabinet-bycegi export_meshes@objects/coconut_milk-oq export_meshes@objects/legacy_walker-dgewyj export_meshes@objects/paver-bp export_meshes@objects/legacy_crumb-irhmll export_meshes@objects/knife-rg export_meshes@objects/legacy_sink-xiybkb export_meshes@objects/pruner-2n export_meshes@objects/legacy_trash_can-nuoypc export_meshes@objects/legacy_door-cbgtjl export_meshes@objects/legacy_swivel_chair-lxupys export_meshes@objects/legacy_table_lamp-pxdhzm export_meshes@objects/radiator-vu export_meshes@objects/legacy_picture-fanvpf export_meshes@objects/rum-ve export_meshes@objects/twine-ih export_meshes@objects/mop-6j export_meshes@objects/storage_cart-gk export_meshes@objects/onesie-v1 export_meshes@objects/legacy_butter-ovirmc export_meshes@objects/legacy_medicine-egondf export_meshes@objects/legacy_pop-uwmchl export_meshes@objects/legacy_window-bxydsr export_meshes@objects/legacy_armchair-umbrpd export_meshes@objects/racket-fw export_meshes@objects/paper-fp export_meshes@objects/legacy_pegboard-jafivf export_meshes@objects/rack-cg export_meshes@objects/legacy_dishwasher-cgugie export_meshes@objects/legacy_door-mgmayh export_meshes@objects/legacy_gym_shoe-mjyyda export_meshes@objects/broccolini-cj export_meshes@objects/sauce_set-dg export_meshes@objects/staples-lv export_meshes@objects/legacy_chopstick-ahmhza export_meshes@objects/legacy_bucket-lsmlzi export_meshes@objects/breadcrumbs-wm export_meshes@objects/legacy_tape-fetnry export_meshes@objects/legacy_kitchen_analog_scale-lpjpez export_meshes@objects/legacy_oatmeal-zkggxm export_meshes@objects/legacy_toilet-jkwccu export_meshes@objects/legacy_pop_case-zxguap export_meshes@objects/mousepad-dz export_meshes@objects/birdcage-xo export_meshes@objects/legacy_bottom_cabinet-dajebq export_meshes@objects/cleaner-ed export_meshes@objects/legacy_pineapple-jizmyh export_meshes@objects/clothesline-jc export_meshes@objects/legacy_armchair-pmrcex export_meshes@objects/legacy_table_lamp-tnbwvj export_meshes@objects/legacy_vacuum-bdmsbr export_meshes@objects/legacy_desk-sfstso export_meshes@objects/chocolate_chip-qm\n",
      "dvc repro export_meshes@objects/bandana-ko export_meshes@objects/legacy_pork-ihekpm export_meshes@objects/legacy_notebook-umxsmd export_meshes@objects/legacy_table_lamp-ncgcgo export_meshes@objects/legacy_breakfast_table-skseyx export_meshes@objects/snow_globe-aw export_meshes@objects/legacy_clove-thigpl export_meshes@objects/chicken_bouillon-ay export_meshes@objects/roasted_meat-lw export_meshes@objects/cactus-gb export_meshes@objects/legacy_pop-oeipjl export_meshes@objects/legacy_toilet-wkltpj export_meshes@objects/chisel-ls export_meshes@objects/legacy_printer-oyqbtq export_meshes@objects/chicken_leg-kc export_meshes@objects/textbook-ag export_meshes@objects/legacy_pomegranate-tbwsgm export_meshes@objects/shutter-vl export_meshes@objects/legacy_video_game-ceaxsd export_meshes@objects/curtain-fh export_meshes@objects/legacy_oven-wuinhm export_meshes@objects/legacy_picture-cltbty export_meshes@objects/legacy_swivel_chair-ywqhzu export_meshes@objects/baking_pan-re export_meshes@objects/blouse-rc export_meshes@objects/legacy_bottom_cabinet-sxppcj export_meshes@objects/milkshake-zb export_meshes@objects/cookie_cutter-sr export_meshes@objects/legacy_toilet-mzocsn export_meshes@objects/legacy_sock-rhgweu export_meshes@objects/crystal-ms export_meshes@objects/fountain-az export_meshes@objects/onion-xr\n",
      "\n"
     ]
    }
   ],
   "source": [
    "i = 1\n",
    "side = t[i::2]\n",
    "for start in range(0, len(side), 100):\n",
    "    batch = side[start:start+100]\n",
    "    print(\"dvc repro\", \" \".join(f\"export_meshes@{x}\" for x in batch))\n",
    "print(\"\")"
   ]
  },
  {
   "cell_type": "code",
   "execution_count": 14,
   "id": "f1c1e0b2",
   "metadata": {},
   "outputs": [
    {
     "data": {
      "text/plain": [
       "742"
      ]
     },
     "execution_count": 14,
     "metadata": {},
     "output_type": "execute_result"
    }
   ],
   "source": [
    "len(glob.glob(r\"D:\\ig_pipeline\\cad\\objects\\*\\artifacts\\meshes.zip\"))"
   ]
  },
  {
   "cell_type": "code",
   "execution_count": 19,
   "id": "354b3eba",
   "metadata": {},
   "outputs": [
    {
     "data": {
      "text/plain": [
       "743"
      ]
     },
     "execution_count": 19,
     "metadata": {},
     "output_type": "execute_result"
    }
   ],
   "source": [
    "sum(1 for x in t if (pathlib.Path(r\"D:\\ig_pipeline\\cad\") / x / \"artifacts/meshes.zip\").exists())"
   ]
  },
  {
   "cell_type": "code",
   "execution_count": null,
   "id": "720f25a3",
   "metadata": {},
   "outputs": [],
   "source": []
  }
 ],
 "metadata": {
  "kernelspec": {
   "display_name": "Python 3 (ipykernel)",
   "language": "python",
   "name": "python3"
  },
  "language_info": {
   "codemirror_mode": {
    "name": "ipython",
    "version": 3
   },
   "file_extension": ".py",
   "mimetype": "text/x-python",
   "name": "python",
   "nbconvert_exporter": "python",
   "pygments_lexer": "ipython3",
   "version": "3.8.0"
  }
 },
 "nbformat": 4,
 "nbformat_minor": 5
}
