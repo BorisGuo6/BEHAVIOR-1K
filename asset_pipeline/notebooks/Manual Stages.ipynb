{
 "cells": [
  {
   "cell_type": "code",
   "execution_count": 2,
   "id": "7682c860",
   "metadata": {},
   "outputs": [],
   "source": [
    "import glob, pathlib, json"
   ]
  },
  {
   "cell_type": "code",
   "execution_count": 3,
   "id": "9cb2b178",
   "metadata": {},
   "outputs": [],
   "source": [
    "fns = glob.glob(r\"D:\\ig_pipeline\\cad\\*\\*\")\n",
    "has_tree = []\n",
    "for fn in fns:\n",
    "    p = pathlib.Path(fn) / \"artifacts\" / \"object_list.json\"\n",
    "    if not p.exists():\n",
    "        continue\n",
    "    with open(p, \"r\") as f:\n",
    "        if \"max_tree\" in json.load(f):\n",
    "            has_tree.append(fn)"
   ]
  },
  {
   "cell_type": "code",
   "execution_count": 4,
   "id": "ed44daca",
   "metadata": {},
   "outputs": [
    {
     "data": {
      "text/plain": [
       "1988"
      ]
     },
     "execution_count": 4,
     "metadata": {},
     "output_type": "execute_result"
    }
   ],
   "source": [
    "len(has_tree)"
   ]
  },
  {
   "cell_type": "code",
   "execution_count": 5,
   "id": "0c231bf5",
   "metadata": {},
   "outputs": [],
   "source": [
    "missing = set(fns) - set(has_tree)"
   ]
  },
  {
   "cell_type": "code",
   "execution_count": 6,
   "id": "a72d3c65",
   "metadata": {},
   "outputs": [
    {
     "data": {
      "text/plain": [
       "2"
      ]
     },
     "execution_count": 6,
     "metadata": {},
     "output_type": "execute_result"
    }
   ],
   "source": [
    "len(missing)"
   ]
  },
  {
   "cell_type": "code",
   "execution_count": 8,
   "id": "0d2296f6",
   "metadata": {},
   "outputs": [
    {
     "name": "stdout",
     "output_type": "stream",
     "text": [
      "dvc unprotect \n"
     ]
    }
   ],
   "source": [
    "target_fns = []\n",
    "for m in sorted(missing)[:100]:\n",
    "    fn = pathlib.Path(m) / \"artifacts/object_list.json\"\n",
    "    if not fn.exists():\n",
    "        continue\n",
    "    relative_fn = fn.relative_to(pathlib.Path(r\"D:\\ig_pipeline\"))\n",
    "    target_fns.append(str(relative_fn))\n",
    "\n",
    "print(\"dvc unprotect\", \" \".join(target_fns))"
   ]
  },
  {
   "cell_type": "code",
   "execution_count": 9,
   "id": "b1a390ce",
   "metadata": {
    "scrolled": true
   },
   "outputs": [
    {
     "name": "stdout",
     "output_type": "stream",
     "text": [
      "python b1k_pipeline/batch_3dsmax.py cad\\objects\\tong-temp\\processed.max b1k_pipeline/max/object_list.py\n",
      "python b1k_pipeline/batch_3dsmax.py cad\\objects\\vase-temp\\processed.max b1k_pipeline/max/object_list.py\n"
     ]
    }
   ],
   "source": [
    "for m in sorted(missing)[:100]:\n",
    "    fn = pathlib.Path(m) / \"processed.max\"\n",
    "    relative_fn = fn.relative_to(pathlib.Path(r\"D:\\ig_pipeline\"))\n",
    "    print(f\"python b1k_pipeline/batch_3dsmax.py {relative_fn} b1k_pipeline/max/object_list.py\")"
   ]
  },
  {
   "cell_type": "code",
   "execution_count": null,
   "id": "7fea544e",
   "metadata": {},
   "outputs": [],
   "source": [
    "to_commit = []\n",
    "for fn in fns:\n",
    "    p = pathlib.Path(fn) / \"artifacts\" / \"object_list.json\"\n",
    "    if p.exists() and not p.is_symlink():\n",
    "        relative_fn = p.relative_to(pathlib.Path(r\"D:\\ig_pipeline\"))\n",
    "        to_commit.append(str(relative_fn).replace(\"\\\\\", \"/\"))\n",
    "print(\"dvc commit\", \" \".join(to_commit[:50]))"
   ]
  },
  {
   "cell_type": "code",
   "execution_count": null,
   "id": "f99e891e",
   "metadata": {},
   "outputs": [],
   "source": []
  }
 ],
 "metadata": {
  "kernelspec": {
   "display_name": "Python 3 (ipykernel)",
   "language": "python",
   "name": "python3"
  },
  "language_info": {
   "codemirror_mode": {
    "name": "ipython",
    "version": 3
   },
   "file_extension": ".py",
   "mimetype": "text/x-python",
   "name": "python",
   "nbconvert_exporter": "python",
   "pygments_lexer": "ipython3",
   "version": "3.8.0"
  }
 },
 "nbformat": 4,
 "nbformat_minor": 5
}
