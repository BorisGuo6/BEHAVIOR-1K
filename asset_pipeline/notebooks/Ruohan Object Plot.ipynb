{
 "cells": [
  {
   "cell_type": "code",
   "execution_count": 8,
   "metadata": {},
   "outputs": [
    {
     "name": "stdout",
     "output_type": "stream",
     "text": [
      "0\n"
     ]
    }
   ],
   "source": [
    "from omnigibson.macros import gm\n",
    "import json\n",
    "import pathlib\n",
    "\n",
    "DATASET_ROOT = pathlib.Path(gm.DATASET_PATH)\n",
    "jsons = [json.loads(p.read_text()) for p in DATASET_ROOT.glob(\"scenes/*/json/*_0_0.json\")]\n",
    "print(len(jsons))"
   ]
  },
  {
   "cell_type": "code",
   "execution_count": 4,
   "metadata": {},
   "outputs": [
    {
     "data": {
      "text/plain": [
       "['Dict',\n",
       " 'MacroDict',\n",
       " '__builtins__',\n",
       " '__cached__',\n",
       " '__doc__',\n",
       " '__file__',\n",
       " '__loader__',\n",
       " '__name__',\n",
       " '__package__',\n",
       " '__spec__',\n",
       " 'create_module_macros',\n",
       " 'determine_gm_path',\n",
       " 'gm',\n",
       " 'macros',\n",
       " 'os',\n",
       " 'pathlib']"
      ]
     },
     "execution_count": 4,
     "metadata": {},
     "output_type": "execute_result"
    }
   ],
   "source": [
    "dir(gm)"
   ]
  },
  {
   "cell_type": "code",
   "execution_count": null,
   "metadata": {},
   "outputs": [],
   "source": []
  }
 ],
 "metadata": {
  "language_info": {
   "name": "python"
  }
 },
 "nbformat": 4,
 "nbformat_minor": 2
}
