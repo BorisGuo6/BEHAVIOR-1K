{
 "cells": [
  {
   "cell_type": "code",
   "execution_count": 1,
   "metadata": {},
   "outputs": [],
   "source": [
    "import glob, json, sys\n",
    "sys.path.append(\"/scr/ig_pipeline\")\n",
    "import b1k_pipeline.utils as utils"
   ]
  },
  {
   "cell_type": "code",
   "execution_count": 2,
   "metadata": {},
   "outputs": [],
   "source": [
    "object_has_joint = {}\n",
    "pipeline_fs = utils.PipelineFS()\n",
    "for target in utils.get_targets(\"combined\"):\n",
    "    object_list = json.loads(pipeline_fs.target_output(target).readtext(\"object_list.json\"))\n",
    "\n",
    "    for m in object_list[\"meshes\"]:\n",
    "\n",
    "        pn = utils.parse_name(m)\n",
    "        if not pn:\n",
    "            continue\n",
    "\n",
    "        if pn.group(\"bad\") or int(pn.group(\"instance_id\")) != 0:\n",
    "            continue\n",
    "\n",
    "        model_id = pn.group(\"model_id\")\n",
    "        has_joint = pn.group(\"joint_type\") in (\"R\", \"P\")\n",
    "        if has_joint:\n",
    "            object_has_joint[model_id] = has_joint"
   ]
  },
  {
   "cell_type": "code",
   "execution_count": 4,
   "metadata": {},
   "outputs": [
    {
     "name": "stderr",
     "output_type": "stream",
     "text": [
      "Loading BDDL knowledge base... This may take a few seconds.\n",
      "[nltk_data] Downloading package wordnet to /home/cgokmen/nltk_data...\n",
      "[nltk_data]   Package wordnet is already up-to-date!\n"
     ]
    }
   ],
   "source": [
    "from bddl.knowledge_base import *"
   ]
  },
  {
   "cell_type": "code",
   "execution_count": 5,
   "metadata": {},
   "outputs": [],
   "source": [
    "openable_synsets = [s for s in Synset.all_objects() if any(p.name == \"openable\" for p in s.properties) and len(s.children) == 0]"
   ]
  },
  {
   "cell_type": "code",
   "execution_count": 6,
   "metadata": {},
   "outputs": [],
   "source": [
    "openable_synsets_with_no_openable_object = [s for s in openable_synsets if not any(object_has_joint.get(o.name.split(\"-\")[1], False) for o in s.matching_objects)]"
   ]
  },
  {
   "cell_type": "code",
   "execution_count": 7,
   "metadata": {},
   "outputs": [
    {
     "data": {
      "text/plain": [
       "6"
      ]
     },
     "execution_count": 7,
     "metadata": {},
     "output_type": "execute_result"
    }
   ],
   "source": [
    "len(openable_synsets_with_no_openable_object)"
   ]
  },
  {
   "cell_type": "code",
   "execution_count": 8,
   "metadata": {},
   "outputs": [
    {
     "data": {
      "text/plain": [
       "[Synset(name='cabinet.n.04'),\n",
       " Synset(name='case.n.20'),\n",
       " Synset(name='elevator_door.n.01'),\n",
       " Synset(name='pressure_cooker.n.01'),\n",
       " Synset(name='trailer.n.03'),\n",
       " Synset(name='van.n.05')]"
      ]
     },
     "execution_count": 8,
     "metadata": {},
     "output_type": "execute_result"
    }
   ],
   "source": [
    "openable_synsets_with_no_openable_object"
   ]
  },
  {
   "cell_type": "code",
   "execution_count": 9,
   "metadata": {},
   "outputs": [],
   "source": [
    "openable_synsets_with_no_openable_object_used_as_openable = [s for s in openable_synsets_with_no_openable_object if any(p.name in (\"open\", \"closed\") for p in s.used_in_predicates)]"
   ]
  },
  {
   "cell_type": "code",
   "execution_count": 10,
   "metadata": {},
   "outputs": [
    {
     "data": {
      "text/plain": [
       "[]"
      ]
     },
     "execution_count": 10,
     "metadata": {},
     "output_type": "execute_result"
    }
   ],
   "source": [
    "openable_synsets_with_no_openable_object_used_as_openable"
   ]
  },
  {
   "cell_type": "code",
   "execution_count": 11,
   "metadata": {},
   "outputs": [
    {
     "name": "stdout",
     "output_type": "stream",
     "text": [
      "0\n"
     ]
    },
    {
     "data": {
      "text/plain": [
       "[]"
      ]
     },
     "execution_count": 11,
     "metadata": {},
     "output_type": "execute_result"
    },
    {
     "ename": "",
     "evalue": "",
     "output_type": "error",
     "traceback": [
      "\u001b[1;31mThe Kernel crashed while executing code in the the current cell or a previous cell. Please review the code in the cell(s) to identify a possible cause of the failure. Click <a href='https://aka.ms/vscodeJupyterKernelCrash'>here</a> for more info. View Jupyter <a href='command:jupyter.viewOutput'>log</a> for further details."
     ]
    }
   ],
   "source": [
    "openable_synsets_with_no_openable_object_used_in_task = [s for s in openable_synsets_with_no_openable_object if len(s.tasks) > 0]\n",
    "print(len(openable_synsets_with_no_openable_object_used_in_task))\n",
    "openable_synsets_with_no_openable_object_used_in_task"
   ]
  },
  {
   "cell_type": "code",
   "execution_count": null,
   "metadata": {},
   "outputs": [],
   "source": []
  }
 ],
 "metadata": {
  "kernelspec": {
   "display_name": "omnigibson",
   "language": "python",
   "name": "python3"
  },
  "language_info": {
   "codemirror_mode": {
    "name": "ipython",
    "version": 3
   },
   "file_extension": ".py",
   "mimetype": "text/x-python",
   "name": "python",
   "nbconvert_exporter": "python",
   "pygments_lexer": "ipython3",
   "version": "3.10.13"
  },
  "orig_nbformat": 4
 },
 "nbformat": 4,
 "nbformat_minor": 2
}
