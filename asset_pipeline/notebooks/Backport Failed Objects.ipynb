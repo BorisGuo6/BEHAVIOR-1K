{
 "cells": [
  {
   "cell_type": "code",
   "execution_count": 1,
   "id": "24b60bc1",
   "metadata": {},
   "outputs": [],
   "source": [
    "import glob\n",
    "import fs.zipfs\n",
    "import fs.osfs"
   ]
  },
  {
   "cell_type": "code",
   "execution_count": 2,
   "id": "d8cbf7fb",
   "metadata": {},
   "outputs": [],
   "source": [
    "curr = fs.osfs.OSFS(r\"D:\\BEHAVIOR-1K\\asset_pipeline\\artifacts\\aggregate\\objects3\")\n",
    "old = fs.zipfs.ZipFS(r\"D:\\BEHAVIOR-1K\\asset_pipeline\\artifacts\\og_dataset.zip\")"
   ]
  },
  {
   "cell_type": "code",
   "execution_count": 3,
   "id": "d5f4593a",
   "metadata": {},
   "outputs": [],
   "source": [
    "old_objs = old.opendir(\"/objects\")"
   ]
  },
  {
   "cell_type": "code",
   "execution_count": 4,
   "id": "8f0f6d3a",
   "metadata": {},
   "outputs": [
    {
     "name": "stdout",
     "output_type": "stream",
     "text": [
      "1868\n",
      "1868\n"
     ]
    }
   ],
   "source": [
    "old_obj_list = [x.path for x in old_objs.glob(\"*/*/\")]\n",
    "old_urdf_list = [x.path for x in old_objs.glob(\"*/*/*.urdf\")]\n",
    "print(len(old_obj_list))\n",
    "print(len(old_urdf_list))"
   ]
  },
  {
   "cell_type": "code",
   "execution_count": 13,
   "id": "93142718",
   "metadata": {},
   "outputs": [
    {
     "name": "stdout",
     "output_type": "stream",
     "text": [
      "1868\n",
      "1868\n"
     ]
    }
   ],
   "source": [
    "new_obj_list = [x.path for x in curr.glob(\"*/*/\")]\n",
    "new_urdf_list = [x.path for x in curr.glob(\"*/*/*.urdf\")]\n",
    "print(len(new_obj_list))\n",
    "print(len(new_urdf_list))"
   ]
  },
  {
   "cell_type": "code",
   "execution_count": 14,
   "id": "6fc9f612",
   "metadata": {},
   "outputs": [
    {
     "name": "stdout",
     "output_type": "stream",
     "text": [
      "0\n"
     ]
    }
   ],
   "source": [
    "import fs.path\n",
    "missing_dirs = [fs.path.dirname(x) for x in set(old_urdf_list) - set(new_urdf_list)]\n",
    "print(len(missing_dirs))"
   ]
  },
  {
   "cell_type": "code",
   "execution_count": 8,
   "id": "8fb6dddf",
   "metadata": {},
   "outputs": [
    {
     "name": "stdout",
     "output_type": "stream",
     "text": [
      "['/lettuce/yxemcs', '/bottom_cabinet_no_top/gjrero', '/almond/acooui', '/pineapple/zympwt']\n"
     ]
    }
   ],
   "source": [
    "print(missing_dirs)"
   ]
  },
  {
   "cell_type": "code",
   "execution_count": 9,
   "id": "2366bef0",
   "metadata": {
    "scrolled": true
   },
   "outputs": [
    {
     "name": "stdout",
     "output_type": "stream",
     "text": [
      "rm -Recurse -Force artifacts/aggregate/objects3/lettuce/yxemcs\n",
      "rm -Recurse -Force artifacts/aggregate/objects3/bottom_cabinet_no_top/gjrero\n",
      "rm -Recurse -Force artifacts/aggregate/objects3/almond/acooui\n",
      "rm -Recurse -Force artifacts/aggregate/objects3/pineapple/zympwt\n"
     ]
    }
   ],
   "source": [
    "import fs.copy\n",
    "import os\n",
    "for d in missing_dirs:\n",
    "    print(\"rm -Recurse -Force\", os.path.join(\"artifacts/aggregate/objects3\", d[1:]).replace(\"\\\\\", \"/\"))"
   ]
  },
  {
   "cell_type": "code",
   "execution_count": null,
   "id": "94e6230b",
   "metadata": {},
   "outputs": [],
   "source": [
    "new = fs.osfs.OSFS(r\"D:\\BEHAVIOR-1K\\asset_pipeline\\artifacts\\aggregate\\objects2\")"
   ]
  },
  {
   "cell_type": "code",
   "execution_count": null,
   "id": "c8c5afb5",
   "metadata": {},
   "outputs": [],
   "source": [
    "# Copy everything that has a urdf\n",
    "urdfed_dirs = [fs.path.dirname(x) for x in new_urdf_list]\n",
    "from tqdm.notebook import tqdm\n",
    "\n",
    "for d in tqdm(urdfed_dirs):\n",
    "    fs.copy.copy_dir(curr, d, new, d)"
   ]
  },
  {
   "cell_type": "code",
   "execution_count": null,
   "id": "a1ea501e",
   "metadata": {},
   "outputs": [],
   "source": [
    "for d in missing_dirs:\n",
    "    print(\"Adding\", d)\n",
    "    fs.copy.copy_dir(old_objs, d, new, d)"
   ]
  },
  {
   "cell_type": "code",
   "execution_count": null,
   "id": "22321574",
   "metadata": {},
   "outputs": [],
   "source": [
    "new.close()\n",
    "old.close()\n",
    "curr.close()"
   ]
  },
  {
   "cell_type": "code",
   "execution_count": null,
   "id": "419ee08f",
   "metadata": {},
   "outputs": [],
   "source": []
  }
 ],
 "metadata": {
  "kernelspec": {
   "display_name": "Python 3 (ipykernel)",
   "language": "python",
   "name": "python3"
  },
  "language_info": {
   "codemirror_mode": {
    "name": "ipython",
    "version": 3
   },
   "file_extension": ".py",
   "mimetype": "text/x-python",
   "name": "python",
   "nbconvert_exporter": "python",
   "pygments_lexer": "ipython3",
   "version": "3.8.0"
  }
 },
 "nbformat": 4,
 "nbformat_minor": 5
}
