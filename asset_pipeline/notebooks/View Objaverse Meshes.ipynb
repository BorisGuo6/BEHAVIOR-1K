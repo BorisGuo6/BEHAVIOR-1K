{
 "cells": [
  {
   "cell_type": "code",
   "execution_count": 1,
   "metadata": {
    "metadata": {}
   },
   "outputs": [],
   "source": [
    "import trimesh"
   ]
  },
  {
   "cell_type": "code",
   "execution_count": 2,
   "metadata": {
    "metadata": {}
   },
   "outputs": [
    {
     "name": "stdout",
     "output_type": "stream",
     "text": [
      "[PosixPath('/scr/collision-classification-test/02b44f5e36294e2aa28e70414de4f554.glb'), PosixPath('/scr/collision-classification-test/016921ce9ac04d09adf5ae1cffddc9df.glb'), PosixPath('/scr/collision-classification-test/01773b6dbc3c45f5b7d047f27f43c7c6.glb'), PosixPath('/scr/collision-classification-test/02126986b04e4c4fb2a463f2f679cbaa.glb'), PosixPath('/scr/collision-classification-test/010ec37574344060aceaf6d8efbd2a63.glb'), PosixPath('/scr/collision-classification-test/00a8bb1a9369437797545132faaea93c.glb'), PosixPath('/scr/collision-classification-test/01fc07edacc746dfbd91c612a678f0f7.glb'), PosixPath('/scr/collision-classification-test/00817f77d34846dcab3806bcecdf01b6.glb'), PosixPath('/scr/collision-classification-test/00f7c6d95b7d4c359681cc3b93f8a077.glb'), PosixPath('/scr/collision-classification-test/00a3fd32ff5a4f8582a30f5a2b7897e2.glb'), PosixPath('/scr/collision-classification-test/01eacef475874c0cbda0aa8f2e7db785.glb'), PosixPath('/scr/collision-classification-test/01d2ca3ac7f740fc925232f718752018.glb'), PosixPath('/scr/collision-classification-test/0023717f4f564cc99f4ded70db04f590.glb'), PosixPath('/scr/collision-classification-test/04605c481d5d4fdcb23236ef3d9de845.glb'), PosixPath('/scr/collision-classification-test/043c0026959348aa9fbc1205e93d478c.glb'), PosixPath('/scr/collision-classification-test/00b9dc02fe5a44d4a0ea7c16445e833b.glb'), PosixPath('/scr/collision-classification-test/04a0003c245a4dab9ff7afc7fbe10892.glb'), PosixPath('/scr/collision-classification-test/03a1bfe848dd4bbd89cc948e1869b549.glb'), PosixPath('/scr/collision-classification-test/01b2236e8e674c268879961f044d2692.glb'), PosixPath('/scr/collision-classification-test/03cfb7cd0b4f4798ba10ddd70f4f48cc.glb'), PosixPath('/scr/collision-classification-test/00519862679c42ceb76157fb50aa1e3c.glb'), PosixPath('/scr/collision-classification-test/01e53befa6674c8e8d2fbd52c73f1f16.glb'), PosixPath('/scr/collision-classification-test/0235e7ce3a584b12a9a5f3a98aa76597.glb'), PosixPath('/scr/collision-classification-test/000234d39e684deb80b7b8d028681dc1.glb'), PosixPath('/scr/collision-classification-test/01916fdbbd8d4123b2dbbfd293239032.glb'), PosixPath('/scr/collision-classification-test/01e5b5acad9843818529d15663df5b9e.glb'), PosixPath('/scr/collision-classification-test/041be7cbd0e243098b46446c23d741f5.glb'), PosixPath('/scr/collision-classification-test/02d05bc162014eab8b2abc075948a645.glb'), PosixPath('/scr/collision-classification-test/03550a3529c24611a12aa158747374e0.glb'), PosixPath('/scr/collision-classification-test/00983ed04ef14cdc8559aea115b49174.glb'), PosixPath('/scr/collision-classification-test/01a5f9003a9e4e29b03d139197d3b909.glb'), PosixPath('/scr/collision-classification-test/02816d5569bf436ab894857c309506b0.glb'), PosixPath('/scr/collision-classification-test/002f9bf02cdf4ff695ebbf61190ed89f.glb'), PosixPath('/scr/collision-classification-test/0492b604adf0402ea375fced9e658f91.glb'), PosixPath('/scr/collision-classification-test/0023b3edbc114be188ca9d8f729dfaaf.glb'), PosixPath('/scr/collision-classification-test/00b17c06bbd442ed8e97b9a17168884a.glb'), PosixPath('/scr/collision-classification-test/01dcffbc03554d6b9de9ca51952f81fe.glb'), PosixPath('/scr/collision-classification-test/03cccf59108447f0a6dc77389648cfcb.glb'), PosixPath('/scr/collision-classification-test/023b84bd68344740b63345de15e7302e.glb'), PosixPath('/scr/collision-classification-test/03dcf530026741e19eb363c703d4af43.glb'), PosixPath('/scr/collision-classification-test/000074a334c541878360457c672b6c2e.glb'), PosixPath('/scr/collision-classification-test/02bef739c5e24cabbb0d4e887867a3af.glb'), PosixPath('/scr/collision-classification-test/03eea1bcaf3745f5bc11ccfb3533a1ea.glb'), PosixPath('/scr/collision-classification-test/0258b95798b041bdbb0f15f4bb4f05ac.glb'), PosixPath('/scr/collision-classification-test/01d2d2e3bf404229b90599625c3ab3f8.glb'), PosixPath('/scr/collision-classification-test/0132d725c159456988772f61f5dbc88c.glb'), PosixPath('/scr/collision-classification-test/0051396fdc9e4dfdbe734c0dc46c10e4.glb'), PosixPath('/scr/collision-classification-test/049e3a83b8274225b06b0d5b054c0101.glb'), PosixPath('/scr/collision-classification-test/00124bcf3ca3463fbe05f28218cc0f5c.glb'), PosixPath('/scr/collision-classification-test/024a9ecad77f4ed1b9583625bd3e6752.glb'), PosixPath('/scr/collision-classification-test/013176cfbc8145a0b10c3191ac265e8b.glb')]\n"
     ]
    }
   ],
   "source": [
    "import pathlib\n",
    "files = list(pathlib.Path(\"/scr/collision-classification-test\").glob(\"*.glb\"))\n",
    "print(files)"
   ]
  },
  {
   "cell_type": "code",
   "execution_count": 3,
   "metadata": {
    "metadata": {}
   },
   "outputs": [
    {
     "data": {
      "application/vnd.jupyter.widget-view+json": {
       "model_id": "d79658b17b62463b881b2b21377bc9ae",
       "version_major": 2,
       "version_minor": 0
      },
      "text/plain": [
       "  0%|          | 0/51 [00:00<?, ?it/s]"
      ]
     },
     "metadata": {},
     "output_type": "display_data"
    }
   ],
   "source": [
    "from tqdm.notebook import tqdm\n",
    "import random\n",
    "import string\n",
    "\n",
    "ids = [\"\".join(random.sample(string.ascii_lowercase, 6)) for _ in range(len(files))]\n",
    "\n",
    "for file, new_id in zip(tqdm(files), ids):\n",
    "    m = trimesh.load(file)\n",
    "    obj_name = f\"objaverse-{new_id}-0\"\n",
    "    output_dir = pathlib.Path(\"/scr/BEHAVIOR-1K/asset_pipeline/obj\") / obj_name\n",
    "    output_dir.mkdir(exist_ok=True)\n",
    "    m.export(output_dir / f\"{obj_name}.obj\", file_type=\"obj\")"
   ]
  },
  {
   "cell_type": "code",
   "execution_count": null,
   "metadata": {},
   "outputs": [],
   "source": []
  }
 ],
 "metadata": {
  "kernelspec": {
   "display_name": "pipeline",
   "language": "python",
   "name": "python3"
  },
  "language_info": {
   "codemirror_mode": {
    "name": "ipython",
    "version": 3
   },
   "file_extension": ".py",
   "mimetype": "text/x-python",
   "name": "python",
   "nbconvert_exporter": "python",
   "pygments_lexer": "ipython3",
   "version": "3.8.0"
  }
 },
 "nbformat": 4,
 "nbformat_minor": 2
}
