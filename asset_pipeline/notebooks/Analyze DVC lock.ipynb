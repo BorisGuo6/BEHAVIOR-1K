{
 "cells": [
  {
   "cell_type": "code",
   "execution_count": 1,
   "id": "feb28a3a",
   "metadata": {},
   "outputs": [],
   "source": [
    "import yaml"
   ]
  },
  {
   "cell_type": "code",
   "execution_count": 2,
   "id": "63db5455",
   "metadata": {},
   "outputs": [],
   "source": [
    "lockfile = r\"/scr/ig_pipeline/dvc.lock\"\n",
    "with open(lockfile, \"r\") as f:\n",
    "    lock = yaml.load(f, Loader=yaml.SafeLoader)"
   ]
  },
  {
   "cell_type": "code",
   "execution_count": 3,
   "id": "312f5832",
   "metadata": {},
   "outputs": [],
   "source": [
    "unsplit = [x.split(\"@\")[0] for x in lock[\"stages\"].keys()]"
   ]
  },
  {
   "cell_type": "code",
   "execution_count": 4,
   "id": "d2878d5e",
   "metadata": {},
   "outputs": [
    {
     "data": {
      "text/plain": [
       "[('object_list', 90),\n",
       " ('sanitycheck', 90),\n",
       " ('export_meshes', 90),\n",
       " ('room_object_list', 58),\n",
       " ('export_scene', 58),\n",
       " ('object_list_success', 1),\n",
       " ('object_inventory', 1),\n",
       " ('object_inventory_future', 1),\n",
       " ('combined_room_object_list', 1),\n",
       " ('combined_room_object_list_future', 1),\n",
       " ('sanitycheck_success', 1),\n",
       " ('export_meshes_success', 1),\n",
       " ('export_objs_global', 1),\n",
       " ('aggregate_metadata', 1),\n",
       " ('aggregate_metadata_success', 1),\n",
       " ('usdify_objects', 1),\n",
       " ('aggregate_scenes', 1),\n",
       " ('export_objs_global_success', 1),\n",
       " ('pack_dataset', 1),\n",
       " ('usdify_scenes', 1),\n",
       " ('make_maps', 1),\n",
       " ('collision_selection_validation', 1),\n",
       " ('collision_selection_validation_success', 1),\n",
       " ('collision_average_volumes', 1),\n",
       " ('collision_average_volumes_success', 1),\n",
       " ('validate_scenes', 1),\n",
       " ('validate_meta_links', 1),\n",
       " ('object_inventory_success', 1),\n",
       " ('usdify_objects_success', 1),\n",
       " ('generate_systems', 1),\n",
       " ('generate_systems_success', 1),\n",
       " ('generate_fillable_volumes', 1),\n",
       " ('aggregate_fillable_volumes', 1),\n",
       " ('room_object_list_success', 1),\n",
       " ('room_object_list_future_success', 1),\n",
       " ('export_scenes_global', 1),\n",
       " ('export_scenes_global_success', 1),\n",
       " ('generate_object_images', 1)]"
      ]
     },
     "execution_count": 4,
     "metadata": {},
     "output_type": "execute_result"
    }
   ],
   "source": [
    "from collections import Counter\n",
    "Counter(unsplit).most_common()"
   ]
  },
  {
   "cell_type": "code",
   "execution_count": 5,
   "id": "5e90613f",
   "metadata": {},
   "outputs": [],
   "source": [
    "to_remove = [\n",
    " # ('object_list', 90),\n",
    " # ('sanitycheck', 90),\n",
    " # ('export_meshes', 90),\n",
    " # ('room_object_list', 58),\n",
    " ('export_scene', 58),\n",
    " # ('object_list_success', 1),\n",
    " # ('object_inventory', 1),\n",
    " # ('object_inventory_future', 1),\n",
    " # ('combined_room_object_list', 1),\n",
    " # ('combined_room_object_list_future', 1),\n",
    " # ('sanitycheck_success', 1),\n",
    " # ('export_meshes_success', 1),\n",
    " # ('export_objs_global', 1),\n",
    " # ('aggregate_metadata', 1),\n",
    " # ('aggregate_metadata_success', 1),\n",
    " # ('usdify_objects', 1),\n",
    " ('aggregate_scenes', 1),\n",
    " ('export_objs_global_success', 1),\n",
    " ('pack_dataset', 1),\n",
    " ('usdify_scenes', 1),\n",
    " # ('make_maps', 1),\n",
    " ('collision_selection_validation', 1),\n",
    " ('collision_selection_validation_success', 1),\n",
    " ('collision_average_volumes', 1),\n",
    " ('collision_average_volumes_success', 1),\n",
    " ('validate_scenes', 1),\n",
    " ('validate_meta_links', 1),\n",
    " ('object_inventory_success', 1),\n",
    " ('usdify_objects_success', 1),\n",
    " ('generate_systems', 1),\n",
    " ('generate_systems_success', 1),\n",
    " # ('generate_fillable_volumes', 1),\n",
    " ('aggregate_fillable_volumes', 1),\n",
    " ('room_object_list_success', 1),\n",
    " ('room_object_list_future_success', 1),\n",
    " ('export_scenes_global', 1),\n",
    " ('export_scenes_global_success', 1),\n",
    " ('generate_object_images', 1)\n",
    "]\n",
    "to_remove = {x[0] for x in to_remove}"
   ]
  },
  {
   "cell_type": "code",
   "execution_count": 6,
   "id": "65bccd15",
   "metadata": {},
   "outputs": [],
   "source": [
    "all_lock_keys = list(lock[\"stages\"].keys())\n",
    "to_remove_keys = [x for x in all_lock_keys if x.split(\"@\")[0] in to_remove]"
   ]
  },
  {
   "cell_type": "code",
   "execution_count": 7,
   "id": "23d260ec",
   "metadata": {},
   "outputs": [],
   "source": [
    "import ruamel.yaml\n",
    "import glob, json\n",
    "\n",
    "with open(lockfile) as f:\n",
    "    yaml2 = ruamel.yaml.YAML(typ=\"rt\")\n",
    "    yaml2.default_flow_style = False\n",
    "    lock = yaml2.load(f)\n",
    "\n",
    "stages = list(lock[\"stages\"].keys())\n",
    "for stage in to_remove_keys:\n",
    "    del lock[\"stages\"][stage]\n",
    "    \n",
    "with open(lockfile, \"w\") as f:\n",
    "    yaml2.dump(lock, f)"
   ]
  },
  {
   "cell_type": "code",
   "execution_count": null,
   "id": "f2d15365",
   "metadata": {},
   "outputs": [],
   "source": [
    "for k, v in lock[\"stages\"].items():\n",
    "    if \"export_meshes\" not in k:\n",
    "        continue\n",
    "    if not any(\"meshes.zip\" in out[\"path\"] for out in v[\"outs\"]):\n",
    "        print(k)"
   ]
  },
  {
   "cell_type": "code",
   "execution_count": null,
   "id": "4990d25b",
   "metadata": {},
   "outputs": [],
   "source": []
  }
 ],
 "metadata": {
  "kernelspec": {
   "display_name": "Python 3 (ipykernel)",
   "language": "python",
   "name": "python3"
  },
  "language_info": {
   "codemirror_mode": {
    "name": "ipython",
    "version": 3
   },
   "file_extension": ".py",
   "mimetype": "text/x-python",
   "name": "python",
   "nbconvert_exporter": "python",
   "pygments_lexer": "ipython3",
   "version": "3.8.0"
  }
 },
 "nbformat": 4,
 "nbformat_minor": 5
}
