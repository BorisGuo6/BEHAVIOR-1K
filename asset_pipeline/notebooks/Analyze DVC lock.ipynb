{
 "cells": [
  {
   "cell_type": "code",
   "execution_count": 7,
   "id": "feb28a3a",
   "metadata": {},
   "outputs": [],
   "source": [
    "import yaml"
   ]
  },
  {
   "cell_type": "code",
   "execution_count": 8,
   "id": "63db5455",
   "metadata": {},
   "outputs": [],
   "source": [
    "lockfile = r\"/scr/ig_pipeline/dvc.lock\"\n",
    "with open(lockfile, \"r\") as f:\n",
    "    lock = yaml.load(f, Loader=yaml.SafeLoader)"
   ]
  },
  {
   "cell_type": "code",
   "execution_count": 9,
   "id": "312f5832",
   "metadata": {},
   "outputs": [],
   "source": [
    "unsplit = [x.split(\"@\")[0] for x in lock[\"stages\"].keys()]"
   ]
  },
  {
   "cell_type": "code",
   "execution_count": 10,
   "id": "d2878d5e",
   "metadata": {},
   "outputs": [
    {
     "data": {
      "text/plain": [
       "[('object_list', 90),\n",
       " ('sanitycheck', 90),\n",
       " ('export_meshes', 90),\n",
       " ('room_object_list', 58),\n",
       " ('export_scene', 58),\n",
       " ('object_list_success', 1),\n",
       " ('object_inventory', 1),\n",
       " ('object_inventory_future', 1),\n",
       " ('combined_room_object_list', 1),\n",
       " ('combined_room_object_list_future', 1),\n",
       " ('sanitycheck_success', 1),\n",
       " ('export_meshes_success', 1),\n",
       " ('export_objs_global', 1),\n",
       " ('aggregate_metadata', 1),\n",
       " ('aggregate_metadata_success', 1),\n",
       " ('usdify_objects', 1),\n",
       " ('aggregate_scenes', 1),\n",
       " ('export_objs_global_success', 1),\n",
       " ('pack_dataset', 1),\n",
       " ('usdify_scenes', 1),\n",
       " ('make_maps', 1),\n",
       " ('collision_selection_validation', 1),\n",
       " ('collision_selection_validation_success', 1),\n",
       " ('collision_average_volumes', 1),\n",
       " ('collision_average_volumes_success', 1),\n",
       " ('validate_scenes', 1),\n",
       " ('validate_meta_links', 1),\n",
       " ('object_inventory_success', 1),\n",
       " ('usdify_objects_success', 1),\n",
       " ('generate_systems', 1),\n",
       " ('generate_systems_success', 1),\n",
       " ('generate_fillable_volumes', 1),\n",
       " ('aggregate_fillable_volumes', 1),\n",
       " ('room_object_list_success', 1),\n",
       " ('room_object_list_future_success', 1),\n",
       " ('export_scenes_global', 1),\n",
       " ('export_scenes_global_success', 1),\n",
       " ('generate_object_images', 1)]"
      ]
     },
     "execution_count": 10,
     "metadata": {},
     "output_type": "execute_result"
    }
   ],
   "source": [
    "from collections import Counter\n",
    "Counter(unsplit).most_common()"
   ]
  },
  {
   "cell_type": "code",
   "execution_count": 11,
   "id": "5e90613f",
   "metadata": {},
   "outputs": [],
   "source": [
    "to_remove = [\n",
    " # ('object_list', 90),\n",
    " # ('sanitycheck', 90),\n",
    " # ('export_meshes', 90),\n",
    " # ('room_object_list', 58),\n",
    " ('export_scene', 58),\n",
    " # ('object_list_success', 1),\n",
    " # ('object_inventory', 1),\n",
    " # ('object_inventory_future', 1),\n",
    " # ('combined_room_object_list', 1),\n",
    " # ('combined_room_object_list_future', 1),\n",
    " # ('sanitycheck_success', 1),\n",
    " # ('export_meshes_success', 1),\n",
    " # ('export_objs_global', 1),\n",
    " # ('aggregate_metadata', 1),\n",
    " # ('aggregate_metadata_success', 1),\n",
    " # ('usdify_objects', 1),\n",
    " ('aggregate_scenes', 1),\n",
    " ('export_objs_global_success', 1),\n",
    " ('pack_dataset', 1),\n",
    " ('usdify_scenes', 1),\n",
    " # ('make_maps', 1),\n",
    " ('collision_selection_validation', 1),\n",
    " ('collision_selection_validation_success', 1),\n",
    " ('collision_average_volumes', 1),\n",
    " ('collision_average_volumes_success', 1),\n",
    " ('validate_scenes', 1),\n",
    " ('validate_meta_links', 1),\n",
    " ('object_inventory_success', 1),\n",
    " ('usdify_objects_success', 1),\n",
    " ('generate_systems', 1),\n",
    " ('generate_systems_success', 1),\n",
    " # ('generate_fillable_volumes', 1),\n",
    " ('aggregate_fillable_volumes', 1),\n",
    " ('room_object_list_success', 1),\n",
    " ('room_object_list_future_success', 1),\n",
    " ('export_scenes_global', 1),\n",
    " ('export_scenes_global_success', 1),\n",
    " ('generate_object_images', 1)\n",
    "]\n",
    "to_remove = {x[0] for x in to_remove}"
   ]
  },
  {
   "cell_type": "code",
   "execution_count": 12,
   "id": "65bccd15",
   "metadata": {},
   "outputs": [],
   "source": [
    "all_lock_keys = list(lock[\"stages\"].keys())\n",
    "to_remove_keys = [x for x in all_lock_keys if x.split(\"@\")[0] in to_remove]"
   ]
  },
  {
   "cell_type": "code",
   "execution_count": 13,
   "id": "23d260ec",
   "metadata": {},
   "outputs": [
    {
     "ename": "FileNotFoundError",
     "evalue": "[Errno 2] No such file or directory: 'D:\\\\ig_pipeline\\\\dvc.lock'",
     "output_type": "error",
     "traceback": [
      "\u001b[0;31m---------------------------------------------------------------------------\u001b[0m",
      "\u001b[0;31mFileNotFoundError\u001b[0m                         Traceback (most recent call last)",
      "Cell \u001b[0;32mIn[13], line 4\u001b[0m\n\u001b[1;32m      1\u001b[0m \u001b[38;5;28;01mimport\u001b[39;00m \u001b[38;5;21;01mruamel\u001b[39;00m\u001b[38;5;21;01m.\u001b[39;00m\u001b[38;5;21;01myaml\u001b[39;00m\n\u001b[1;32m      2\u001b[0m \u001b[38;5;28;01mimport\u001b[39;00m \u001b[38;5;21;01mglob\u001b[39;00m\u001b[38;5;241m,\u001b[39m \u001b[38;5;21;01mjson\u001b[39;00m\n\u001b[0;32m----> 4\u001b[0m \u001b[38;5;28;01mwith\u001b[39;00m \u001b[38;5;28;43mopen\u001b[39;49m\u001b[43m(\u001b[49m\u001b[38;5;124;43mr\u001b[39;49m\u001b[38;5;124;43m\"\u001b[39;49m\u001b[38;5;124;43mD:\u001b[39;49m\u001b[38;5;124;43m\\\u001b[39;49m\u001b[38;5;124;43mig_pipeline\u001b[39;49m\u001b[38;5;124;43m\\\u001b[39;49m\u001b[38;5;124;43mdvc.lock\u001b[39;49m\u001b[38;5;124;43m\"\u001b[39;49m\u001b[43m)\u001b[49m \u001b[38;5;28;01mas\u001b[39;00m f:\n\u001b[1;32m      5\u001b[0m     yaml2 \u001b[38;5;241m=\u001b[39m ruamel\u001b[38;5;241m.\u001b[39myaml\u001b[38;5;241m.\u001b[39mYAML(typ\u001b[38;5;241m=\u001b[39m\u001b[38;5;124m\"\u001b[39m\u001b[38;5;124mrt\u001b[39m\u001b[38;5;124m\"\u001b[39m)\n\u001b[1;32m      6\u001b[0m     yaml2\u001b[38;5;241m.\u001b[39mdefault_flow_style \u001b[38;5;241m=\u001b[39m \u001b[38;5;28;01mFalse\u001b[39;00m\n",
      "File \u001b[0;32m~/miniconda3/envs/pipeline/lib/python3.8/site-packages/IPython/core/interactiveshell.py:284\u001b[0m, in \u001b[0;36m_modified_open\u001b[0;34m(file, *args, **kwargs)\u001b[0m\n\u001b[1;32m    277\u001b[0m \u001b[38;5;28;01mif\u001b[39;00m file \u001b[38;5;129;01min\u001b[39;00m {\u001b[38;5;241m0\u001b[39m, \u001b[38;5;241m1\u001b[39m, \u001b[38;5;241m2\u001b[39m}:\n\u001b[1;32m    278\u001b[0m     \u001b[38;5;28;01mraise\u001b[39;00m \u001b[38;5;167;01mValueError\u001b[39;00m(\n\u001b[1;32m    279\u001b[0m         \u001b[38;5;124mf\u001b[39m\u001b[38;5;124m\"\u001b[39m\u001b[38;5;124mIPython won\u001b[39m\u001b[38;5;124m'\u001b[39m\u001b[38;5;124mt let you open fd=\u001b[39m\u001b[38;5;132;01m{\u001b[39;00mfile\u001b[38;5;132;01m}\u001b[39;00m\u001b[38;5;124m by default \u001b[39m\u001b[38;5;124m\"\u001b[39m\n\u001b[1;32m    280\u001b[0m         \u001b[38;5;124m\"\u001b[39m\u001b[38;5;124mas it is likely to crash IPython. If you know what you are doing, \u001b[39m\u001b[38;5;124m\"\u001b[39m\n\u001b[1;32m    281\u001b[0m         \u001b[38;5;124m\"\u001b[39m\u001b[38;5;124myou can use builtins\u001b[39m\u001b[38;5;124m'\u001b[39m\u001b[38;5;124m open.\u001b[39m\u001b[38;5;124m\"\u001b[39m\n\u001b[1;32m    282\u001b[0m     )\n\u001b[0;32m--> 284\u001b[0m \u001b[38;5;28;01mreturn\u001b[39;00m \u001b[43mio_open\u001b[49m\u001b[43m(\u001b[49m\u001b[43mfile\u001b[49m\u001b[43m,\u001b[49m\u001b[43m \u001b[49m\u001b[38;5;241;43m*\u001b[39;49m\u001b[43margs\u001b[49m\u001b[43m,\u001b[49m\u001b[43m \u001b[49m\u001b[38;5;241;43m*\u001b[39;49m\u001b[38;5;241;43m*\u001b[39;49m\u001b[43mkwargs\u001b[49m\u001b[43m)\u001b[49m\n",
      "\u001b[0;31mFileNotFoundError\u001b[0m: [Errno 2] No such file or directory: 'D:\\\\ig_pipeline\\\\dvc.lock'"
     ]
    }
   ],
   "source": [
    "import ruamel.yaml\n",
    "import glob, json\n",
    "\n",
    "with open(lockfile) as f:\n",
    "    yaml2 = ruamel.yaml.YAML(typ=\"rt\")\n",
    "    yaml2.default_flow_style = False\n",
    "    lock = yaml2.load(f)\n",
    "\n",
    "stages = list(lock[\"stages\"].keys())\n",
    "for stage in to_remove_keys:\n",
    "    del lock[\"stages\"][stage]\n",
    "    \n",
    "with open(lockfile, \"w\") as f:\n",
    "    yaml2.dump(lock, f)"
   ]
  },
  {
   "cell_type": "code",
   "execution_count": null,
   "id": "f2d15365",
   "metadata": {},
   "outputs": [],
   "source": [
    "for k, v in lock[\"stages\"].items():\n",
    "    if \"export_meshes\" not in k:\n",
    "        continue\n",
    "    if not any(\"meshes.zip\" in out[\"path\"] for out in v[\"outs\"]):\n",
    "        print(k)"
   ]
  },
  {
   "cell_type": "code",
   "execution_count": null,
   "id": "4990d25b",
   "metadata": {},
   "outputs": [],
   "source": []
  }
 ],
 "metadata": {
  "kernelspec": {
   "display_name": "Python 3 (ipykernel)",
   "language": "python",
   "name": "python3"
  },
  "language_info": {
   "codemirror_mode": {
    "name": "ipython",
    "version": 3
   },
   "file_extension": ".py",
   "mimetype": "text/x-python",
   "name": "python",
   "nbconvert_exporter": "python",
   "pygments_lexer": "ipython3",
   "version": "3.8.0"
  }
 },
 "nbformat": 4,
 "nbformat_minor": 5
}
