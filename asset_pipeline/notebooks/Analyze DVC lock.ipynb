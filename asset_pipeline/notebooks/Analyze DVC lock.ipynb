{
 "cells": [
  {
   "cell_type": "code",
   "execution_count": 19,
   "id": "feb28a3a",
   "metadata": {},
   "outputs": [],
   "source": [
    "import yaml"
   ]
  },
  {
   "cell_type": "code",
   "execution_count": null,
   "id": "63db5455",
   "metadata": {},
   "outputs": [],
   "source": [
    "with open(r\"D:\\ig_pipeline\\dvc.lock\", \"r\") as f:\n",
    "    lock = yaml.load(f, Loader=yaml.SafeLoader)"
   ]
  },
  {
   "cell_type": "code",
   "execution_count": null,
   "id": "312f5832",
   "metadata": {},
   "outputs": [],
   "source": [
    "unsplit = [x.split(\"@\")[0] for x in lock[\"stages\"].keys()]"
   ]
  },
  {
   "cell_type": "code",
   "execution_count": null,
   "id": "d2878d5e",
   "metadata": {},
   "outputs": [],
   "source": [
    "from collections import Counter\n",
    "Counter(unsplit).most_common()"
   ]
  },
  {
   "cell_type": "code",
   "execution_count": null,
   "id": "5e90613f",
   "metadata": {},
   "outputs": [],
   "source": [
    "to_remove = [\n",
    " # ('object_list', 1991),\n",
    " # ('sanitycheck', 1991),\n",
    " # ('export_meshes', 1888),\n",
    " ('object_list_success', 1248),\n",
    " ('export_meshes_success', 1248),\n",
    " ('export_objs', 1246),\n",
    " ('export_objs_success', 1245),\n",
    " ('sanitycheck_success', 886),\n",
    " # ('room_object_list', 58),\n",
    " ('export_scene', 19),\n",
    " ('validate_scene', 16),\n",
    " ('aggregate_objs', 1),\n",
    " ('aggregate_metadata', 1),\n",
    " ('aggregate_scenes', 1),\n",
    " ('pack_dataset', 1),\n",
    " ('object_inventory', 1),\n",
    " ('export_objs_global', 1),\n",
    " ('aggregate_metadata_success', 1),\n",
    " ('export_objs_global_success', 1),\n",
    " ('usdify_dataset', 1),\n",
    " ('make_maps', 1),\n",
    " ('vertex_reduction', 1),\n",
    " ('combined_room_object_list', 1),\n",
    " ('object_inventory_future', 1),\n",
    " ('combined_room_object_list_future', 1)\n",
    "]\n",
    "to_remove = {x[0] for x in to_remove}"
   ]
  },
  {
   "cell_type": "code",
   "execution_count": null,
   "id": "65bccd15",
   "metadata": {},
   "outputs": [],
   "source": [
    "all_lock_keys = list(lock[\"stages\"].keys())\n",
    "to_remove_keys = [x for x in all_lock_keys if x.split(\"@\")[0] in to_remove]"
   ]
  },
  {
   "cell_type": "code",
   "execution_count": 12,
   "id": "c8857776",
   "metadata": {},
   "outputs": [],
   "source": [
    "for key in to_remove_keys:\n",
    "    del lock[\"stages\"][key]"
   ]
  },
  {
   "cell_type": "code",
   "execution_count": 13,
   "id": "5bee813d",
   "metadata": {},
   "outputs": [
    {
     "data": {
      "text/plain": [
       "dict_keys(['schema', 'stages'])"
      ]
     },
     "execution_count": 13,
     "metadata": {},
     "output_type": "execute_result"
    }
   ],
   "source": [
    "lock.keys()"
   ]
  },
  {
   "cell_type": "code",
   "execution_count": 16,
   "id": "23d260ec",
   "metadata": {},
   "outputs": [],
   "source": [
    "with open(r\"D:\\ig_pipeline\\dvc.lock\", \"w\") as f:\n",
    "    yaml.dump(lock, f)"
   ]
  },
  {
   "cell_type": "code",
   "execution_count": 18,
   "id": "f2d15365",
   "metadata": {},
   "outputs": [
    {
     "ename": "TypeError",
     "evalue": "'NoneType' object is not subscriptable",
     "output_type": "error",
     "traceback": [
      "\u001b[1;31m---------------------------------------------------------------------------\u001b[0m",
      "\u001b[1;31mTypeError\u001b[0m                                 Traceback (most recent call last)",
      "Input \u001b[1;32mIn [18]\u001b[0m, in \u001b[0;36m<cell line: 1>\u001b[1;34m()\u001b[0m\n\u001b[1;32m----> 1\u001b[0m \u001b[38;5;28;01mfor\u001b[39;00m k, v \u001b[38;5;129;01min\u001b[39;00m \u001b[43mlock\u001b[49m\u001b[43m[\u001b[49m\u001b[38;5;124;43m\"\u001b[39;49m\u001b[38;5;124;43mstages\u001b[39;49m\u001b[38;5;124;43m\"\u001b[39;49m\u001b[43m]\u001b[49m\u001b[38;5;241m.\u001b[39mitems():\n\u001b[0;32m      2\u001b[0m     \u001b[38;5;28;01mif\u001b[39;00m \u001b[38;5;124m\"\u001b[39m\u001b[38;5;124mexport_meshes\u001b[39m\u001b[38;5;124m\"\u001b[39m \u001b[38;5;129;01mnot\u001b[39;00m \u001b[38;5;129;01min\u001b[39;00m k:\n\u001b[0;32m      3\u001b[0m         \u001b[38;5;28;01mcontinue\u001b[39;00m\n",
      "\u001b[1;31mTypeError\u001b[0m: 'NoneType' object is not subscriptable"
     ]
    }
   ],
   "source": [
    "for k, v in lock[\"stages\"].items():\n",
    "    if \"export_meshes\" not in k:\n",
    "        continue\n",
    "    if not any(\"meshes.zip\" in out[\"path\"] for out in v[\"outs\"]):\n",
    "        print(k)"
   ]
  },
  {
   "cell_type": "code",
   "execution_count": null,
   "id": "4990d25b",
   "metadata": {},
   "outputs": [],
   "source": []
  }
 ],
 "metadata": {
  "kernelspec": {
   "display_name": "Python 3 (ipykernel)",
   "language": "python",
   "name": "python3"
  },
  "language_info": {
   "codemirror_mode": {
    "name": "ipython",
    "version": 3
   },
   "file_extension": ".py",
   "mimetype": "text/x-python",
   "name": "python",
   "nbconvert_exporter": "python",
   "pygments_lexer": "ipython3",
   "version": "3.8.0"
  }
 },
 "nbformat": 4,
 "nbformat_minor": 5
}
