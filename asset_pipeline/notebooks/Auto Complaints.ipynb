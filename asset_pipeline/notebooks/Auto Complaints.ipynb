{
 "cells": [
  {
   "cell_type": "code",
   "execution_count": 1,
   "metadata": {},
   "outputs": [
    {
     "name": "stderr",
     "output_type": "stream",
     "text": [
      "Loading BDDL knowledge base... This may take a few seconds.\n",
      "[nltk_data] Downloading package wordnet to\n",
      "[nltk_data]     C:\\Users\\Cem\\AppData\\Roaming\\nltk_data...\n",
      "[nltk_data]   Package wordnet is already up-to-date!\n",
      "Complained object azqqwx does not exist in the database. Skipping.\n",
      "Complained object ntmrkt does not exist in the database. Skipping.\n"
     ]
    }
   ],
   "source": [
    "from bddl.knowledge_base import *"
   ]
  },
  {
   "cell_type": "code",
   "execution_count": 3,
   "metadata": {},
   "outputs": [],
   "source": [
    "import json\n",
    "with open(r\"D:\\BEHAVIOR-1K\\asset_pipeline\\artifacts\\pipeline\\object_inventory.json\", \"r\") as f:\n",
    "    providers = {x.split(\"-\")[1]: y for x, y in json.load(f)[\"providers\"].items()}"
   ]
  },
  {
   "cell_type": "code",
   "execution_count": 4,
   "metadata": {},
   "outputs": [],
   "source": [
    "import pathlib\n",
    "all_meshes = []\n",
    "for object_list_fn in pathlib.Path(r\"D:\\BEHAVIOR-1K\\asset_pipeline\").glob(\"cad/*/*/artifacts/object_list.json\"):\n",
    "    with open(object_list_fn, \"r\") as f:\n",
    "        all_meshes.extend(json.load(f)[\"meshes\"])"
   ]
  },
  {
   "cell_type": "code",
   "execution_count": 6,
   "metadata": {},
   "outputs": [],
   "source": [
    "import sys\n",
    "sys.path.append(r\"D:\\BEHAVIOR-1K\\asset_pipeline\")\n",
    "from b1k_pipeline.utils import parse_name\n",
    "\n",
    "# Automatically generate complaints for glassless windows\n",
    "has_glass = set()\n",
    "for mesh_name in all_meshes:\n",
    "    if \"Tglass\" not in mesh_name:\n",
    "        continue\n",
    "    parsed_name = parse_name(mesh_name)\n",
    "    assert parsed_name, mesh_name\n",
    "    has_glass.add(parsed_name.group(\"model_id\"))"
   ]
  },
  {
   "cell_type": "code",
   "execution_count": 10,
   "metadata": {},
   "outputs": [],
   "source": [
    "for obj in Object.all_objects():\n",
    "    complaints = []\n",
    "    if obj.category.name in (\"pot_plant\", \"floor_lamp\", \"table_lamp\", \"swivel_chair\", \"monitor\", \"standing_tv\"):\n",
    "        complaints.append({\n",
    "            \"object\": str(obj),\n",
    "            \"message\": \"CENTEROFMASS: This object belongs to a category that frequently has stability issues. Please check the object's center of mass.\",\n",
    "            \"complaint\": \"Auto-generated 2025\",\n",
    "            \"processed\": False,\n",
    "        })\n",
    "    \n",
    "    if obj.category.name in (\"fixed_window\", \"openable_window\", \"microwave\", \"oven\"):\n",
    "        # Does the window have a mesh that has a Tglass tag?\n",
    "        if obj.name not in has_glass:\n",
    "            complaints.append({\n",
    "                \"object\": str(obj),\n",
    "                \"message\": \"GLASS: This window object does not have a glass-tagged mesh associated with it. Please check the object's meshes.\",\n",
    "                \"complaint\": \"Auto-generated 2025\",\n",
    "                \"processed\": False,\n",
    "            })\n",
    "\n",
    "    if obj.category.synset.name == (\"mirror.n.01\"):\n",
    "        complaints.append({\n",
    "            \"object\": str(obj),\n",
    "            \"message\": \"MIRROR: This object is a mirror. Please ensure that the object is reflective.\",\n",
    "            \"complaint\": \"Auto-generated 2025\",\n",
    "            \"processed\": False,\n",
    "        })\n",
    "\n",
    "    if any(meta_link.name == \"slicer\" for meta_link in obj.meta_links):\n",
    "        complaints.append({\n",
    "            \"object\": str(obj),\n",
    "            \"message\": \"SLICER: This object has a slicer meta link. Many objects of this type have issues with their positioning. Check it.\",\n",
    "            \"complaint\": \"Auto-generated 2025\",\n",
    "            \"processed\": False,\n",
    "        })\n",
    "\n",
    "    if not complaints:\n",
    "        continue\n",
    "\n",
    "    obj_dir = pathlib.Path(r\"D:\\BEHAVIOR-1K\\asset_pipeline\\qa-2025\\qa-autogen\") / obj.category.name\n",
    "    obj_dir.mkdir(parents=True, exist_ok=True)\n",
    "    obj_file = obj_dir / f\"{obj.name}.json\"\n",
    "    obj_data = {\"orientation\": [0., 0., 0., 1.], \"scale\": [1., 1., 1.], \"complaints\": complaints}\n",
    "    obj_file.write_text(json.dumps(obj_data, indent=4))"
   ]
  },
  {
   "cell_type": "code",
   "execution_count": null,
   "metadata": {},
   "outputs": [],
   "source": []
  }
 ],
 "metadata": {
  "kernelspec": {
   "display_name": "Python 3",
   "language": "python",
   "name": "python3"
  },
  "language_info": {
   "codemirror_mode": {
    "name": "ipython",
    "version": 3
   },
   "file_extension": ".py",
   "mimetype": "text/x-python",
   "name": "python",
   "nbconvert_exporter": "python",
   "pygments_lexer": "ipython3",
   "version": "3.10.0"
  }
 },
 "nbformat": 4,
 "nbformat_minor": 2
}
