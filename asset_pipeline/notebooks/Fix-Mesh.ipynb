{
 "cells": [
  {
   "cell_type": "code",
   "execution_count": 22,
   "id": "86eb933a",
   "metadata": {},
   "outputs": [],
   "source": [
    "import trimesh\n",
    "import glob\n",
    "import os\n",
    "import yaml\n",
    "import pathlib\n",
    "import json"
   ]
  },
  {
   "cell_type": "code",
   "execution_count": 23,
   "id": "5da0d6f5",
   "metadata": {},
   "outputs": [],
   "source": [
    "IN_DATASET_ROOT = r\"C:\\Users\\Cem\\research\\iGibson-dev\\igibson\\data\\ig_dataset\"\n",
    "TRANSLATION_PATH = os.path.join(IN_DATASET_ROOT, \"metadata\", \"model_rename.yaml\")\n",
    "with open(TRANSLATION_PATH, \"r\") as f:\n",
    "    TRANSLATION_DICT = yaml.load(f, Loader=yaml.SafeLoader)\n",
    "    REVERSE_TRANSLATION_DICT = {v: k for k, v in TRANSLATION_DICT.items()}"
   ]
  },
  {
   "cell_type": "code",
   "execution_count": 24,
   "id": "84d7b0b8",
   "metadata": {},
   "outputs": [],
   "source": [
    "targets_raw = ['legacy_basil-bebpnf', 'legacy_basket-xhdtjn', 'legacy_bench-pcymmc', 'legacy_bench-zfpjkj', 'legacy_bowl-adciys', 'legacy_briefcase-rxvbea', 'legacy_broccoli-wsxavx', 'legacy_christmas_tree_decorated-wakmhn', 'legacy_coconut-nnankv', 'legacy_coconut-qwriih', 'legacy_coconut-txtabm', 'legacy_container_cranberry-fbcpsl', 'legacy_desk-cjhriz', 'legacy_kiwi-khupqq', 'legacy_kiwi-ukwism', 'legacy_lid-kuibhu', 'legacy_notebook-svisnb', 'legacy_rocking_chair-wkduul', 'legacy_roller-nbwihe', 'legacy_shelf-njwsoa', 'legacy_shelf-vgzdul', 'legacy_straight_chair-eospnr', 'legacy_straight_chair-htssho', 'legacy_straight_chair-hwpixe', 'legacy_straight_chair-isirjh', 'legacy_wreath-rkrxno']\n",
    "targets = [REVERSE_TRANSLATION_DICT[x.replace(\"legacy_\", \"\").replace(\"-\", \"/\")] for x in targets_raw]"
   ]
  },
  {
   "cell_type": "code",
   "execution_count": 25,
   "id": "92a60291",
   "metadata": {},
   "outputs": [
    {
     "name": "stdout",
     "output_type": "stream",
     "text": [
      "['christmas_tree_decorated-wakmhn', 'kiwi-khupqq', 'notebook-svisnb', 'shelf-njwsoa', 'shelf-vgzdul', 'straight_chair-eospnr', 'wreath-rkrxno']\n"
     ]
    }
   ],
   "source": [
    "provided = []\n",
    "object_lists = [os.path.join(r\"D:\\ig_pipeline\\cad\\objects\", target, r\"artifacts\\object_list.json\") for target in targets_raw]\n",
    "for olf in object_lists:\n",
    "    if not pathlib.Path(olf).exists():\n",
    "        continue\n",
    "    with open(olf, \"r\") as f:\n",
    "        ol = json.load(f)\n",
    "    for obj in ol[\"provided_objects\"]:\n",
    "        provided.append(obj)\n",
    "print(sorted(provided))"
   ]
  },
  {
   "cell_type": "code",
   "execution_count": 11,
   "id": "c3770aca",
   "metadata": {},
   "outputs": [
    {
     "name": "stdout",
     "output_type": "stream",
     "text": [
      "Processing C:\\Users\\Cem\\research\\iGibson-dev\\igibson\\data\\ig_dataset\\objects\\basil/basil_000\\shape\\visual\\AM130_037_001.obj for basil/basil_000\n",
      "Processing C:\\Users\\Cem\\research\\iGibson-dev\\igibson\\data\\ig_dataset\\objects\\basket/9e2a1751b9129b1132fd0b3f17b0d6c\\shape\\visual\\9e2a1751b9129b1132fd0b3f17b0d6c_m1_vm.obj for basket/9e2a1751b9129b1132fd0b3f17b0d6c\n",
      "Processing C:\\Users\\Cem\\research\\iGibson-dev\\igibson\\data\\ig_dataset\\objects\\bench/65f6f33358b798892056b4bd5d870b47\\shape\\visual\\65f6f33358b798892056b4bd5d870b47_m1_vm.obj for bench/65f6f33358b798892056b4bd5d870b47\n",
      "Processing C:\\Users\\Cem\\research\\iGibson-dev\\igibson\\data\\ig_dataset\\objects\\bench/c2c788ec4dc9f467d85a7a4d55e9b869\\shape\\visual\\c2c788ec4dc9f467d85a7a4d55e9b869_m1_vm.obj for bench/c2c788ec4dc9f467d85a7a4d55e9b869\n",
      "Processing C:\\Users\\Cem\\research\\iGibson-dev\\igibson\\data\\ig_dataset\\objects\\bowl/56803af65db53307467ca2ad6571afff\\shape\\visual\\model_normalized.obj for bowl/56803af65db53307467ca2ad6571afff\n",
      "Processing C:\\Users\\Cem\\research\\iGibson-dev\\igibson\\data\\ig_dataset\\objects\\briefcase/articulated_101668\\shape\\visual\\original-1.obj for briefcase/articulated_101668\n",
      "Processing C:\\Users\\Cem\\research\\iGibson-dev\\igibson\\data\\ig_dataset\\objects\\briefcase/articulated_101668\\shape\\visual\\original-10.obj for briefcase/articulated_101668\n",
      "Processing C:\\Users\\Cem\\research\\iGibson-dev\\igibson\\data\\ig_dataset\\objects\\briefcase/articulated_101668\\shape\\visual\\original-11.obj for briefcase/articulated_101668\n",
      "Processing C:\\Users\\Cem\\research\\iGibson-dev\\igibson\\data\\ig_dataset\\objects\\briefcase/articulated_101668\\shape\\visual\\original-12.obj for briefcase/articulated_101668\n",
      "Processing C:\\Users\\Cem\\research\\iGibson-dev\\igibson\\data\\ig_dataset\\objects\\briefcase/articulated_101668\\shape\\visual\\original-13.obj for briefcase/articulated_101668\n",
      "Processing C:\\Users\\Cem\\research\\iGibson-dev\\igibson\\data\\ig_dataset\\objects\\briefcase/articulated_101668\\shape\\visual\\original-14.obj for briefcase/articulated_101668\n",
      "Processing C:\\Users\\Cem\\research\\iGibson-dev\\igibson\\data\\ig_dataset\\objects\\briefcase/articulated_101668\\shape\\visual\\original-15.obj for briefcase/articulated_101668\n",
      "Processing C:\\Users\\Cem\\research\\iGibson-dev\\igibson\\data\\ig_dataset\\objects\\briefcase/articulated_101668\\shape\\visual\\original-16.obj for briefcase/articulated_101668\n",
      "Processing C:\\Users\\Cem\\research\\iGibson-dev\\igibson\\data\\ig_dataset\\objects\\briefcase/articulated_101668\\shape\\visual\\original-17.obj for briefcase/articulated_101668\n",
      "Processing C:\\Users\\Cem\\research\\iGibson-dev\\igibson\\data\\ig_dataset\\objects\\briefcase/articulated_101668\\shape\\visual\\original-18.obj for briefcase/articulated_101668\n",
      "Processing C:\\Users\\Cem\\research\\iGibson-dev\\igibson\\data\\ig_dataset\\objects\\briefcase/articulated_101668\\shape\\visual\\original-19.obj for briefcase/articulated_101668\n",
      "Processing C:\\Users\\Cem\\research\\iGibson-dev\\igibson\\data\\ig_dataset\\objects\\briefcase/articulated_101668\\shape\\visual\\original-2.obj for briefcase/articulated_101668\n",
      "Processing C:\\Users\\Cem\\research\\iGibson-dev\\igibson\\data\\ig_dataset\\objects\\briefcase/articulated_101668\\shape\\visual\\original-20.obj for briefcase/articulated_101668\n",
      "Processing C:\\Users\\Cem\\research\\iGibson-dev\\igibson\\data\\ig_dataset\\objects\\briefcase/articulated_101668\\shape\\visual\\original-21.obj for briefcase/articulated_101668\n",
      "Processing C:\\Users\\Cem\\research\\iGibson-dev\\igibson\\data\\ig_dataset\\objects\\briefcase/articulated_101668\\shape\\visual\\original-22.obj for briefcase/articulated_101668\n",
      "Processing C:\\Users\\Cem\\research\\iGibson-dev\\igibson\\data\\ig_dataset\\objects\\briefcase/articulated_101668\\shape\\visual\\original-23.obj for briefcase/articulated_101668\n",
      "Processing C:\\Users\\Cem\\research\\iGibson-dev\\igibson\\data\\ig_dataset\\objects\\briefcase/articulated_101668\\shape\\visual\\original-24.obj for briefcase/articulated_101668\n",
      "Processing C:\\Users\\Cem\\research\\iGibson-dev\\igibson\\data\\ig_dataset\\objects\\briefcase/articulated_101668\\shape\\visual\\original-25.obj for briefcase/articulated_101668\n",
      "Processing C:\\Users\\Cem\\research\\iGibson-dev\\igibson\\data\\ig_dataset\\objects\\briefcase/articulated_101668\\shape\\visual\\original-26.obj for briefcase/articulated_101668\n",
      "Processing C:\\Users\\Cem\\research\\iGibson-dev\\igibson\\data\\ig_dataset\\objects\\briefcase/articulated_101668\\shape\\visual\\original-27.obj for briefcase/articulated_101668\n",
      "Processing C:\\Users\\Cem\\research\\iGibson-dev\\igibson\\data\\ig_dataset\\objects\\briefcase/articulated_101668\\shape\\visual\\original-28.obj for briefcase/articulated_101668\n",
      "Processing C:\\Users\\Cem\\research\\iGibson-dev\\igibson\\data\\ig_dataset\\objects\\briefcase/articulated_101668\\shape\\visual\\original-29.obj for briefcase/articulated_101668\n",
      "Processing C:\\Users\\Cem\\research\\iGibson-dev\\igibson\\data\\ig_dataset\\objects\\briefcase/articulated_101668\\shape\\visual\\original-3.obj for briefcase/articulated_101668\n",
      "Processing C:\\Users\\Cem\\research\\iGibson-dev\\igibson\\data\\ig_dataset\\objects\\briefcase/articulated_101668\\shape\\visual\\original-30.obj for briefcase/articulated_101668\n",
      "Processing C:\\Users\\Cem\\research\\iGibson-dev\\igibson\\data\\ig_dataset\\objects\\briefcase/articulated_101668\\shape\\visual\\original-31.obj for briefcase/articulated_101668\n",
      "Processing C:\\Users\\Cem\\research\\iGibson-dev\\igibson\\data\\ig_dataset\\objects\\briefcase/articulated_101668\\shape\\visual\\original-32.obj for briefcase/articulated_101668\n",
      "Processing C:\\Users\\Cem\\research\\iGibson-dev\\igibson\\data\\ig_dataset\\objects\\briefcase/articulated_101668\\shape\\visual\\original-33.obj for briefcase/articulated_101668\n",
      "Processing C:\\Users\\Cem\\research\\iGibson-dev\\igibson\\data\\ig_dataset\\objects\\briefcase/articulated_101668\\shape\\visual\\original-34.obj for briefcase/articulated_101668\n",
      "Processing C:\\Users\\Cem\\research\\iGibson-dev\\igibson\\data\\ig_dataset\\objects\\briefcase/articulated_101668\\shape\\visual\\original-35.obj for briefcase/articulated_101668\n",
      "Processing C:\\Users\\Cem\\research\\iGibson-dev\\igibson\\data\\ig_dataset\\objects\\briefcase/articulated_101668\\shape\\visual\\original-36.obj for briefcase/articulated_101668\n",
      "Processing C:\\Users\\Cem\\research\\iGibson-dev\\igibson\\data\\ig_dataset\\objects\\briefcase/articulated_101668\\shape\\visual\\original-37.obj for briefcase/articulated_101668\n",
      "Processing C:\\Users\\Cem\\research\\iGibson-dev\\igibson\\data\\ig_dataset\\objects\\briefcase/articulated_101668\\shape\\visual\\original-38.obj for briefcase/articulated_101668\n",
      "Processing C:\\Users\\Cem\\research\\iGibson-dev\\igibson\\data\\ig_dataset\\objects\\briefcase/articulated_101668\\shape\\visual\\original-39.obj for briefcase/articulated_101668\n",
      "Processing C:\\Users\\Cem\\research\\iGibson-dev\\igibson\\data\\ig_dataset\\objects\\briefcase/articulated_101668\\shape\\visual\\original-4.obj for briefcase/articulated_101668\n",
      "Processing C:\\Users\\Cem\\research\\iGibson-dev\\igibson\\data\\ig_dataset\\objects\\briefcase/articulated_101668\\shape\\visual\\original-5.obj for briefcase/articulated_101668\n",
      "Processing C:\\Users\\Cem\\research\\iGibson-dev\\igibson\\data\\ig_dataset\\objects\\briefcase/articulated_101668\\shape\\visual\\original-6.obj for briefcase/articulated_101668\n",
      "Processing C:\\Users\\Cem\\research\\iGibson-dev\\igibson\\data\\ig_dataset\\objects\\briefcase/articulated_101668\\shape\\visual\\original-7.obj for briefcase/articulated_101668\n",
      "Processing C:\\Users\\Cem\\research\\iGibson-dev\\igibson\\data\\ig_dataset\\objects\\briefcase/articulated_101668\\shape\\visual\\original-8.obj for briefcase/articulated_101668\n",
      "Processing C:\\Users\\Cem\\research\\iGibson-dev\\igibson\\data\\ig_dataset\\objects\\briefcase/articulated_101668\\shape\\visual\\original-9.obj for briefcase/articulated_101668\n",
      "Processing C:\\Users\\Cem\\research\\iGibson-dev\\igibson\\data\\ig_dataset\\objects\\broccoli/28_0\\shape\\visual\\nmodel_03_28_broccoli.obj for broccoli/28_0\n",
      "Processing C:\\Users\\Cem\\research\\iGibson-dev\\igibson\\data\\ig_dataset\\objects\\christmas_tree_decorated/christmas_tree_decorated_000\\shape\\visual\\archmodels88_001_004.obj for christmas_tree_decorated/christmas_tree_decorated_000\n",
      "Processing C:\\Users\\Cem\\research\\iGibson-dev\\igibson\\data\\ig_dataset\\objects\\coconut/11_2\\shape\\visual\\nmodel_03_11_coconut_broken_top.obj for coconut/11_2\n",
      "Processing C:\\Users\\Cem\\research\\iGibson-dev\\igibson\\data\\ig_dataset\\objects\\coconut/11_0\\shape\\visual\\nmodel_03_11_coconut.obj for coconut/11_0\n"
     ]
    },
    {
     "name": "stdout",
     "output_type": "stream",
     "text": [
      "Processing C:\\Users\\Cem\\research\\iGibson-dev\\igibson\\data\\ig_dataset\\objects\\coconut/11_1\\shape\\visual\\nmodel_03_11_coconut_broken_bottom.obj for coconut/11_1\n",
      "Processing C:\\Users\\Cem\\research\\iGibson-dev\\igibson\\data\\ig_dataset\\objects\\container_cranberry/container_cranberry_000\\shape\\visual\\archmodels76_048_03.obj for container_cranberry/container_cranberry_000\n",
      "Processing C:\\Users\\Cem\\research\\iGibson-dev\\igibson\\data\\ig_dataset\\objects\\desk/1f64fc95a612c646ecb720bdac052a97\\shape\\visual\\1f64fc95a612c646ecb720bdac052a97_m1_vm.obj for desk/1f64fc95a612c646ecb720bdac052a97\n",
      "Processing C:\\Users\\Cem\\research\\iGibson-dev\\igibson\\data\\ig_dataset\\objects\\kiwi/10_0\\shape\\visual\\nmodel_03_10_kiwi.obj for kiwi/10_0\n",
      "Processing C:\\Users\\Cem\\research\\iGibson-dev\\igibson\\data\\ig_dataset\\objects\\kiwi/10_1\\shape\\visual\\nmodel_03_10_kiwi_half.obj for kiwi/10_1\n",
      "Processing C:\\Users\\Cem\\research\\iGibson-dev\\igibson\\data\\ig_dataset\\objects\\lid/51_0\\shape\\visual\\AM118_051.obj for lid/51_0\n",
      "Processing C:\\Users\\Cem\\research\\iGibson-dev\\igibson\\data\\ig_dataset\\objects\\notebook/12_0\\shape\\visual\\Cover.003.obj for notebook/12_0\n",
      "Processing C:\\Users\\Cem\\research\\iGibson-dev\\igibson\\data\\ig_dataset\\objects\\rocking_chair/4ce5a0d60fc942f2e595afbdc333be49\\shape\\visual\\4ce5a0d60fc942f2e595afbdc333be49_m1_vm.obj for rocking_chair/4ce5a0d60fc942f2e595afbdc333be49\n",
      "Processing C:\\Users\\Cem\\research\\iGibson-dev\\igibson\\data\\ig_dataset\\objects\\roller/roller_001\\shape\\visual\\AM222_set07_obj_51.obj for roller/roller_001\n",
      "Processing C:\\Users\\Cem\\research\\iGibson-dev\\igibson\\data\\ig_dataset\\objects\\shelf/de3b28f255111570bc6a557844fbbce9\\shape\\visual\\de3b28f255111570bc6a557844fbbce9_m1_vm.obj for shelf/de3b28f255111570bc6a557844fbbce9\n",
      "Processing C:\\Users\\Cem\\research\\iGibson-dev\\igibson\\data\\ig_dataset\\objects\\shelf/3bff6c7c4ab1e47e2a9a1691b6f98331\\shape\\visual\\3bff6c7c4ab1e47e2a9a1691b6f98331_m1_vm.obj for shelf/3bff6c7c4ab1e47e2a9a1691b6f98331\n",
      "Processing C:\\Users\\Cem\\research\\iGibson-dev\\igibson\\data\\ig_dataset\\objects\\straight_chair/28a0b2a5afc96922ba63bc389be1ed5a\\shape\\visual\\28a0b2a5afc96922ba63bc389be1ed5a_m1_vm.obj for straight_chair/28a0b2a5afc96922ba63bc389be1ed5a\n",
      "Processing C:\\Users\\Cem\\research\\iGibson-dev\\igibson\\data\\ig_dataset\\objects\\straight_chair/2f42261a7f658407d12a1bc232f6622c\\shape\\visual\\2f42261a7f658407d12a1bc232f6622c_m1_vm.obj for straight_chair/2f42261a7f658407d12a1bc232f6622c\n",
      "Processing C:\\Users\\Cem\\research\\iGibson-dev\\igibson\\data\\ig_dataset\\objects\\straight_chair/239c363cbe7a650c8b1ad2cf16678177\\shape\\visual\\239c363cbe7a650c8b1ad2cf16678177_m1_vm.obj for straight_chair/239c363cbe7a650c8b1ad2cf16678177\n",
      "Processing C:\\Users\\Cem\\research\\iGibson-dev\\igibson\\data\\ig_dataset\\objects\\straight_chair/640f61579181aef13ad3591a780fa12b\\shape\\visual\\640f61579181aef13ad3591a780fa12b_m1_vm.obj for straight_chair/640f61579181aef13ad3591a780fa12b\n",
      "Processing C:\\Users\\Cem\\research\\iGibson-dev\\igibson\\data\\ig_dataset\\objects\\straight_chair/640f61579181aef13ad3591a780fa12b\\shape\\visual\\640f61579181aef13ad3591a780fa12b_m2_vm.obj for straight_chair/640f61579181aef13ad3591a780fa12b\n",
      "Processing C:\\Users\\Cem\\research\\iGibson-dev\\igibson\\data\\ig_dataset\\objects\\wreath/wreath_000\\shape\\visual\\archmodels88_010_001.obj for wreath/wreath_000\n"
     ]
    }
   ],
   "source": [
    "# files = glob.glob(r\"C:\\Users\\Cem\\research\\iGibson-dev\\igibson\\data\\ig_dataset\\objects\\armchair\\d72f27e4240bd7d0283b00891f680579\\shape\\visual\\*.obj\")\n",
    "for t in targets:\n",
    "    files = glob.glob(os.path.join(r\"C:\\Users\\Cem\\research\\iGibson-dev\\igibson\\data\\ig_dataset\\objects\", t, r\"shape\\visual\\*.obj\"))\n",
    "    for f in files:\n",
    "        print(\"Processing\", f, \"for\", t)\n",
    "        m = trimesh.load(f, process=False, force=\"mesh\")\n",
    "        os.rename(f, f + \".bak\")\n",
    "        m.export(f, file_type=\"obj\")\n",
    "\n",
    "        with open(f, \"r\") as fil:\n",
    "            lines = fil.readlines()\n",
    "\n",
    "        for i, line in enumerate(lines):\n",
    "            lines[i] = line.replace(\"material_0\", \"default\")\n",
    "\n",
    "        with open(f, \"w\") as fil:\n",
    "            fil.writelines(lines)"
   ]
  },
  {
   "cell_type": "code",
   "execution_count": null,
   "id": "1a2a2aae",
   "metadata": {},
   "outputs": [],
   "source": [
    "meshes"
   ]
  },
  {
   "cell_type": "code",
   "execution_count": null,
   "id": "e606a533",
   "metadata": {},
   "outputs": [],
   "source": []
  }
 ],
 "metadata": {
  "kernelspec": {
   "display_name": "Python 3 (ipykernel)",
   "language": "python",
   "name": "python3"
  },
  "language_info": {
   "codemirror_mode": {
    "name": "ipython",
    "version": 3
   },
   "file_extension": ".py",
   "mimetype": "text/x-python",
   "name": "python",
   "nbconvert_exporter": "python",
   "pygments_lexer": "ipython3",
   "version": "3.8.0"
  }
 },
 "nbformat": 4,
 "nbformat_minor": 5
}
