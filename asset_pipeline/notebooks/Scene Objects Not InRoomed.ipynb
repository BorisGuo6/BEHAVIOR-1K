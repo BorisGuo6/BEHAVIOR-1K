{
 "cells": [
  {
   "cell_type": "code",
   "execution_count": 1,
   "id": "cd925391",
   "metadata": {},
   "outputs": [
    {
     "name": "stderr",
     "output_type": "stream",
     "text": [
      "Loading BDDL knowledge base... This may take a few seconds.\n",
      "[nltk_data] Downloading package wordnet to\n",
      "[nltk_data]     C:\\Users\\cgokmen\\AppData\\Roaming\\nltk_data...\n",
      "[nltk_data]   Package wordnet is already up-to-date!\n",
      "Complained object azqqwx does not exist in the database. Skipping.\n",
      "Complained object ntmrkt does not exist in the database. Skipping.\n",
      "Complained object aginyz does not exist in the database. Skipping.\n",
      "Complained object fzisrr does not exist in the database. Skipping.\n",
      "Complained object qbxmgb does not exist in the database. Skipping.\n",
      "Complained object qbxmgb does not exist in the database. Skipping.\n",
      "Complained object adimyi does not exist in the database. Skipping.\n",
      "Complained object adimyi does not exist in the database. Skipping.\n",
      "Complained object csxnnw does not exist in the database. Skipping.\n",
      "Complained object ewbqsp does not exist in the database. Skipping.\n",
      "Complained object nmnycd does not exist in the database. Skipping.\n",
      "Complained object qwzkxn does not exist in the database. Skipping.\n",
      "Complained object rhwsaa does not exist in the database. Skipping.\n",
      "Complained object uddigl does not exist in the database. Skipping.\n",
      "Complained object xqgwla does not exist in the database. Skipping.\n",
      "Complained object ogzsvf does not exist in the database. Skipping.\n",
      "Complained object bjyvil does not exist in the database. Skipping.\n",
      "Complained object yzplpe does not exist in the database. Skipping.\n",
      "Complained object asjalm does not exist in the database. Skipping.\n",
      "Complained object btdcou does not exist in the database. Skipping.\n",
      "Complained object btdcou does not exist in the database. Skipping.\n",
      "Complained object btdcou does not exist in the database. Skipping.\n",
      "Complained object iuzbqu does not exist in the database. Skipping.\n",
      "Complained object iuzbqu does not exist in the database. Skipping.\n",
      "Complained object mazmaa does not exist in the database. Skipping.\n",
      "Complained object pqzkrj does not exist in the database. Skipping.\n",
      "Complained object sfobco does not exist in the database. Skipping.\n"
     ]
    }
   ],
   "source": [
    "from bddl.knowledge_base import *"
   ]
  },
  {
   "cell_type": "code",
   "execution_count": 2,
   "id": "62591144",
   "metadata": {},
   "outputs": [
    {
     "data": {
      "text/plain": [
       "116"
      ]
     },
     "execution_count": 2,
     "metadata": {},
     "output_type": "execute_result"
    }
   ],
   "source": [
    "scene_object_synsets = [s for s in Synset.all_objects() if any(p.name == \"sceneObject\" for p in s.properties)]\n",
    "len(scene_object_synsets)"
   ]
  },
  {
   "cell_type": "code",
   "execution_count": 3,
   "id": "7e1860d8",
   "metadata": {},
   "outputs": [
    {
     "name": "stdout",
     "output_type": "stream",
     "text": [
      "Task adding_chemicals_to_hot_tub-0 contains scene object hot_tub.n.02 but does not have (inroom hot_tub.n.02 in its definition\n",
      "Task buy_mulch-0 contains scene object pot_plant.n.01 but does not have (inroom pot_plant.n.01 in its definition\n",
      "Task buying_gardening_supplies-0 contains scene object pot_plant.n.01 but does not have (inroom pot_plant.n.01 in its definition\n",
      "Task buying_groceries_for_a_feast-0 contains scene object shopping_cart.n.01 but does not have (inroom shopping_cart.n.01 in its definition\n",
      "Task carrying_out_garden_furniture-0 contains scene object lawn_chair.n.01 but does not have (inroom lawn_chair.n.01 in its definition\n",
      "Task cleaning_barbecue_grill-0 contains scene object grill.n.02 but does not have (inroom grill.n.02 in its definition\n",
      "Task cleaning_garden_tools-0 contains scene object pot_plant.n.01 but does not have (inroom pot_plant.n.01 in its definition\n",
      "Task cleaning_high_chair-0 contains scene object highchair.n.01 but does not have (inroom highchair.n.01 in its definition\n",
      "Task cleaning_patio_furniture-0 contains scene object lawn_chair.n.01 but does not have (inroom lawn_chair.n.01 in its definition\n",
      "Task cleaning_the_yard-0 contains scene object scrub.n.01 but does not have (inroom scrub.n.01 in its definition\n",
      "Task distributing_event_T_shirts-0 contains scene object booth.n.01 but does not have (inroom booth.n.01 in its definition\n",
      "Task dust_houseplants-0 contains scene object pot_plant.n.01 but does not have (inroom pot_plant.n.01 in its definition\n",
      "Task fertilize_plants-0 contains scene object pot_plant.n.01 but does not have (inroom pot_plant.n.01 in its definition\n",
      "Task fixing_broken_table-0 contains scene object coffee_table.n.01 but does not have (inroom coffee_table.n.01 in its definition\n",
      "Task grill_burgers-0 contains scene object console_table.n.01 but does not have (inroom console_table.n.01 in its definition\n",
      "Task hang_paper_lanterns-0 contains scene object pole.n.01 but does not have (inroom pole.n.01 in its definition\n",
      "Task hanging_flags-0 contains scene object pole.n.01 but does not have (inroom pole.n.01 in its definition\n",
      "Task hanging_up_wind_chimes-0 contains scene object pole.n.01 but does not have (inroom pole.n.01 in its definition\n",
      "Task make_a_bake_sale_stand_stall-0 contains scene object booth.n.01 but does not have (inroom booth.n.01 in its definition\n",
      "Task place_houseplants_around_your_home-0 contains scene object pot_plant.n.01 but does not have (inroom pot_plant.n.01 in its definition\n",
      "Task putting_birdseed_in_cage-0 contains scene object pot_plant.n.01 but does not have (inroom pot_plant.n.01 in its definition\n",
      "Task putting_in_a_hot_tub-0 contains scene object hot_tub.n.02 but does not have (inroom hot_tub.n.02 in its definition\n",
      "Task putting_tablecloth_on_table-0 contains scene object pot_plant.n.01 but does not have (inroom pot_plant.n.01 in its definition\n",
      "Task putting_up_Christmas_lights_outside-0 contains scene object rail_fence.n.01 but does not have (inroom rail_fence.n.01 in its definition\n",
      "Task putting_up_outdoor_holiday_decorations-0 contains scene object pot_plant.n.01 but does not have (inroom pot_plant.n.01 in its definition\n",
      "Task rearranging_furniture-0 contains scene object chair.n.01 but does not have (inroom chair.n.01 in its definition\n",
      "Task remove_a_wall_mirror-0 contains scene object mirror.n.01 but does not have (inroom mirror.n.01 in its definition\n",
      "Task repairs_to_furniture-0 contains scene object table.n.02 but does not have (inroom table.n.02 in its definition\n",
      "Task selling_products_at_flea_market-0 contains scene object booth.n.01 but does not have (inroom booth.n.01 in its definition\n",
      "Task selling_products_at_flea_market-0 contains scene object cash_register.n.01 but does not have (inroom cash_register.n.01 in its definition\n",
      "Task set_up_a_home_office_in_your_garage-0 contains scene object table.n.02 but does not have (inroom table.n.02 in its definition\n",
      "Task setting_up_garden_furniture-0 contains scene object lawn_chair.n.01 but does not have (inroom lawn_chair.n.01 in its definition\n",
      "Task setup_a_baby_crib-0 contains scene object crib.n.01 but does not have (inroom crib.n.01 in its definition\n",
      "Task stripping_furniture-0 contains scene object table.n.02 but does not have (inroom table.n.02 in its definition\n",
      "Task tidy_your_garden-0 contains scene object bench.n.01 but does not have (inroom bench.n.01 in its definition\n",
      "Task tidying_living_room-0 contains scene object pot_plant.n.01 but does not have (inroom pot_plant.n.01 in its definition\n",
      "Task watering_indoor_flowers-0 contains scene object pot_plant.n.01 but does not have (inroom pot_plant.n.01 in its definition\n",
      "Task watering_outdoor_plants-0 contains scene object pot_plant.n.01 but does not have (inroom pot_plant.n.01 in its definition\n",
      "37 tasks with bad inroom definitions\n"
     ]
    }
   ],
   "source": [
    "tasks_with_bad_inroom = set()\n",
    "for task in Task.all_objects():\n",
    "    for synset in task.synsets:\n",
    "        if synset not in scene_object_synsets:\n",
    "            continue\n",
    "\n",
    "        # Check if the task definition contains \"(inroom x\" where x is the synset\n",
    "        query = f\"(inroom {synset.name}\"\n",
    "        if query not in task.definition:\n",
    "            print(f\"Task {task.name} contains scene object {synset.name} but does not have (inroom {synset.name} in its definition\")\n",
    "            tasks_with_bad_inroom.add(task.name)\n",
    "\n",
    "print(len(tasks_with_bad_inroom), \"tasks with bad inroom definitions\")"
   ]
  },
  {
   "cell_type": "code",
   "execution_count": null,
   "id": "32d7db67",
   "metadata": {},
   "outputs": [],
   "source": []
  }
 ],
 "metadata": {
  "kernelspec": {
   "display_name": "pipeline",
   "language": "python",
   "name": "python3"
  },
  "language_info": {
   "codemirror_mode": {
    "name": "ipython",
    "version": 3
   },
   "file_extension": ".py",
   "mimetype": "text/x-python",
   "name": "python",
   "nbconvert_exporter": "python",
   "pygments_lexer": "ipython3",
   "version": "3.10.0"
  }
 },
 "nbformat": 4,
 "nbformat_minor": 5
}
