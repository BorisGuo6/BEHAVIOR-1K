{
 "cells": [
  {
   "cell_type": "code",
   "execution_count": 3,
   "id": "c21c888b",
   "metadata": {},
   "outputs": [],
   "source": [
    "import sys\n",
    "sys.path.append(r\"D:\\BEHAVIOR-1K\\asset_pipeline\")\n",
    "import b1k_pipeline.utils"
   ]
  },
  {
   "cell_type": "code",
   "execution_count": 7,
   "id": "49ec545b",
   "metadata": {},
   "outputs": [
    {
     "data": {
      "application/vnd.jupyter.widget-view+json": {
       "model_id": "40dbdb3e352a4b108af9111b49ffe070",
       "version_major": 2,
       "version_minor": 0
      },
      "text/plain": [
       "  0%|          | 0/1620 [00:00<?, ?it/s]"
      ]
     },
     "metadata": {},
     "output_type": "display_data"
    }
   ],
   "source": [
    "import glob, json, os\n",
    "from tqdm.notebook import tqdm\n",
    "\n",
    "files = glob.glob(r\"D:\\BEHAVIOR-1K\\asset_pipeline\\cad\\*\\*\\artifacts\\collision_selection.json\")\n",
    "for fn in tqdm(files):\n",
    "    # Read selection\n",
    "    with open(fn, \"r\") as f:\n",
    "        selection = json.load(f)\n",
    "        \n",
    "    # Remove None\n",
    "    new_selection = {k: v for k,v in selection.items() if v is not None}\n",
    "    removed = set(selection.keys()) - set(new_selection.keys())\n",
    "    \n",
    "    # Rewrite selection\n",
    "    with open(fn, \"w\") as f:\n",
    "        json.dump(new_selection, f, indent=4, sort_keys=True)\n",
    "        \n",
    "    # Add complaints\n",
    "    if removed:\n",
    "        target_dir = os.path.dirname(os.path.dirname(fn))\n",
    "        complaints_file = os.path.join(target_dir, \"complaints.json\")\n",
    "        complaints = []\n",
    "        if os.path.exists(complaints_file):\n",
    "            with open(complaints_file, \"r\") as f:\n",
    "                complaints = json.load(f)\n",
    "        for r in sorted(removed):\n",
    "            parsed_name = b1k_pipeline.utils.parse_name(r)\n",
    "            object_key = parsed_name.group(\"category\") + \"-\" + parsed_name.group(\"model_id\")\n",
    "            complaints.append({\n",
    "                \"object\": object_key,\n",
    "                \"message\": \"Was at least one of the collision mesh candidates acceptable?\",\n",
    "                \"complaint\": \"Automated complaint: None was marked in original pass - please review.\",\n",
    "                \"processed\": False\n",
    "            })\n",
    "\n",
    "        with open(complaints_file, \"w\") as f:\n",
    "            json.dump(complaints, f, indent=4)"
   ]
  },
  {
   "cell_type": "code",
   "execution_count": null,
   "id": "f64ccb74",
   "metadata": {},
   "outputs": [],
   "source": []
  }
 ],
 "metadata": {
  "kernelspec": {
   "display_name": "Python 3 (ipykernel)",
   "language": "python",
   "name": "python3"
  },
  "language_info": {
   "codemirror_mode": {
    "name": "ipython",
    "version": 3
   },
   "file_extension": ".py",
   "mimetype": "text/x-python",
   "name": "python",
   "nbconvert_exporter": "python",
   "pygments_lexer": "ipython3",
   "version": "3.10.0"
  }
 },
 "nbformat": 4,
 "nbformat_minor": 5
}
