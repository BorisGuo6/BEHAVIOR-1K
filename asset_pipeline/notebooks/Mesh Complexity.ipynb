{
 "cells": [
  {
   "cell_type": "code",
   "execution_count": 9,
   "id": "89e9af17",
   "metadata": {},
   "outputs": [],
   "source": [
    "import glob, pathlib, tqdm\n",
    "import numpy as np"
   ]
  },
  {
   "cell_type": "code",
   "execution_count": 6,
   "id": "bf00b590",
   "metadata": {},
   "outputs": [
    {
     "name": "stdout",
     "output_type": "stream",
     "text": [
      "2665\n"
     ]
    }
   ],
   "source": [
    "# collision_objs = glob.glob(r\"D:\\ig_pipeline\\artifacts\\aggregate\\objects\\*\\*\\shape\\collision\\*.obj\")\n",
    "collision_objs = glob.glob(r\"C:\\Users\\Cem\\research\\iGibson-dev\\igibson\\data\\ig_dataset\\objects\\*\\*\\shape\\collision\\*.obj\")\n",
    "print(len(collision_objs))"
   ]
  },
  {
   "cell_type": "code",
   "execution_count": 7,
   "id": "05a23463",
   "metadata": {},
   "outputs": [
    {
     "name": "stderr",
     "output_type": "stream",
     "text": [
      "100%|████████████████████████████████████████████████████████████████████████████| 2665/2665 [00:02<00:00, 1230.55it/s]\n"
     ]
    }
   ],
   "source": [
    "# Count the number of o-directives in each\n",
    "o_directives = {}\n",
    "for p in tqdm.tqdm(collision_objs):\n",
    "    p = pathlib.Path(p)\n",
    "    target = p.parts[-5] + \"-\" + p.parts[-4]\n",
    "    with open(p, \"r\") as f:\n",
    "        lines = f.readlines()\n",
    "        o_lines = [x for x in lines if x.strip().startswith(\"o \")]\n",
    "        o_directives[target] = len(o_lines)"
   ]
  },
  {
   "cell_type": "code",
   "execution_count": 11,
   "id": "a3f7caeb",
   "metadata": {},
   "outputs": [
    {
     "data": {
      "image/png": "[encoded data removed]",
      "text/plain": [
       "<Figure size 432x288 with 1 Axes>"
      ]
     },
     "metadata": {
      "needs_background": "light"
     },
     "output_type": "display_data"
    },
    {
     "name": "stdout",
     "output_type": "stream",
     "text": [
      "15.0\n",
      "35.53453947368421\n",
      "87.92128165325545\n"
     ]
    }
   ],
   "source": [
    "import matplotlib.pyplot as plt\n",
    "a = np.array(list(o_directives.values()))\n",
    "_ = plt.hist(np.minimum(a, 64), bins='auto')  # arguments are passed to np.histogram\n",
    "plt.title(\"Histogram with 'auto' bins\")\n",
    "plt.xlabel(\"Collision mesh count\")\n",
    "plt.ylabel(\"# objects with this collision mesh count\")\n",
    "plt.show()\n",
    "print(np.median(a))\n",
    "print(np.mean(a))\n",
    "print(np.std(a))"
   ]
  },
  {
   "cell_type": "code",
   "execution_count": 24,
   "id": "9f97238f",
   "metadata": {},
   "outputs": [],
   "source": [
    "import sys\n",
    "sys.path.append(r\"D:\\ig_pipeline\")\n",
    "from b1k_pipeline.utils import get_targets, PIPELINE_ROOT, parse_name"
   ]
  },
  {
   "cell_type": "code",
   "execution_count": 89,
   "id": "8c708fad",
   "metadata": {},
   "outputs": [
    {
     "name": "stderr",
     "output_type": "stream",
     "text": [
      "100%|████████████████████████████████████████████████████████████████████████████| 1232/1232 [00:00<00:00, 4467.26it/s]\n"
     ]
    }
   ],
   "source": [
    "import json\n",
    "from collections import defaultdict\n",
    "# Count the number of objects with non-tagged fixed links\n",
    "link_cnts = {}\n",
    "for target in tqdm.tqdm(get_targets(\"combined\")):\n",
    "    obj_list_file = PIPELINE_ROOT / \"cad\" / target / \"artifacts\" / \"object_list.json\"\n",
    "    assert obj_list_file.exists(), \"Missing obj list file \" + str(obj_list_file)\n",
    "    with open(obj_list_file, \"r\") as f:\n",
    "        data = json.load(f)\n",
    "        meshes = data[\"meshes\"]\n",
    "        parsed = [parse_name(x) for x in meshes]\n",
    "        obj_link_cnts = defaultdict(set)\n",
    "        for p in parsed:\n",
    "            if not p.group(\"link_name\") or p.group(\"link_name\") == \"base_link\":\n",
    "                continue\n",
    "            if p.group(\"bad\"):\n",
    "                continue\n",
    "            obj_name = p.group(\"obj_basename\")\n",
    "            link_name = p.group(\"link_basename\")\n",
    "            # Don't count openable links\n",
    "            if p.group(\"tag\") and \"openable\" in p.group(\"tag\"):\n",
    "                continue\n",
    "            obj_link_cnts[obj_name].add(link_name)\n",
    "        # fixed = sum(1 for x in parsed if x is not None and x.group(\"joint_type\") == \"F\" and not x.group(\"tag\"))\n",
    "        link_cnts.update({x: len(y) for x, y in obj_link_cnts.items()})"
   ]
  },
  {
   "cell_type": "code",
   "execution_count": 90,
   "id": "6b9f7b21",
   "metadata": {},
   "outputs": [
    {
     "name": "stdout",
     "output_type": "stream",
     "text": [
      "Interesting count:  35\n"
     ]
    },
    {
     "data": {
      "image/png": "[encoded data removed]",
      "text/plain": [
       "<Figure size 432x288 with 1 Axes>"
      ]
     },
     "metadata": {
      "needs_background": "light"
     },
     "output_type": "display_data"
    }
   ],
   "source": [
    "interesting = np.asarray(list(link_cnts.values()), dtype=int)\n",
    "interesting = interesting[interesting>3]\n",
    "print(\"Interesting count: \", len(interesting))\n",
    "_ = plt.hist(interesting, bins=\"auto\")  # arguments are passed to np.histogram\n",
    "plt.title(\"Histogram with 'auto' bins\")\n",
    "plt.xlabel(\"Link count\")\n",
    "plt.ylabel(\"# targets with this link count\")\n",
    "plt.show()"
   ]
  },
  {
   "cell_type": "code",
   "execution_count": 91,
   "id": "04ee7ca0",
   "metadata": {},
   "outputs": [
    {
     "name": "stdout",
     "output_type": "stream",
     "text": [
      "('microwave-abzvij-0', 19)\n",
      "('microwave-bfbeeb-0', 18)\n",
      "('washer-omeuop-0', 12)\n",
      "('dryer-xsuyua-0', 10)\n",
      "('coffee_maker-pyttso-0', 9)\n",
      "('stove-qbjiva-0', 9)\n",
      "('stove-rgpphy-0', 9)\n",
      "('breakfast_table-rjgmmy-0', 8)\n",
      "('coffee_table-fqluyq-0', 8)\n",
      "('coffee_table-qlmqyy-0', 8)\n",
      "('desk-ampuyz-0', 8)\n",
      "('desk-yezrwt-0', 8)\n",
      "('dryer-zlmnfg-0', 8)\n",
      "('washer-xusefg-0', 8)\n",
      "('desk-bptvoy-0', 7)\n",
      "('dryer-fhtvuq-0', 7)\n",
      "('stove-igwqpj-0', 7)\n",
      "('stove-yhjzwg-0', 7)\n",
      "('pedestal_table-pyybeq-0', 6)\n",
      "('stove-dusebh-0', 6)\n",
      "('stove-dwhqap-0', 6)\n",
      "('monitor-huvcgu-0', 5)\n",
      "('table_lamp-zpqejt-0', 5)\n",
      "('coffee_table-elhvfw-0', 4)\n",
      "('coffee_table-gcollb-0', 4)\n",
      "('console_table-fihyuz-0', 4)\n",
      "('desk-kmmlna-0', 4)\n",
      "('dishwasher-tnlzww-0', 4)\n",
      "('microwave-hjjxmi-0', 4)\n",
      "('stove-jhyhag-0', 4)\n",
      "('stove-kfhkqp-0', 4)\n",
      "('table_lamp-kwkqot-0', 4)\n",
      "('table_lamp-pmekkr-0', 4)\n",
      "('washer-jgyzhv-0', 4)\n",
      "('washer-zgzvcv-0', 4)\n",
      "('briefcase-rxvbea-0', 3)\n",
      "('coffee_table-aoojzy-0', 3)\n",
      "('console_table-xqlxni-0', 3)\n",
      "('desk-egzdgz-0', 3)\n",
      "('desk-ntezkg-0', 3)\n",
      "('desk-uxgyui-0', 3)\n",
      "('dishwasher-znfvmj-0', 3)\n",
      "('floor_lamp-fanocp-0', 3)\n",
      "('floor_lamp-pfuqec-0', 3)\n",
      "('oven-hxorzh-0', 3)\n",
      "('oven-nkxhvf-0', 3)\n",
      "('oven-wuinhm-0', 3)\n",
      "('table_lamp-awfehr-0', 3)\n",
      "('table_lamp-bhdxug-0', 3)\n",
      "('table_lamp-dkfwyb-0', 3)\n",
      "('table_lamp-midfvh-0', 3)\n",
      "('table_lamp-pxdhzm-0', 3)\n",
      "('table_lamp-tggobp-0', 3)\n",
      "('table_lamp-tnbwvj-0', 3)\n",
      "('table_lamp-wdqvjl-0', 3)\n",
      "('toilet-aapttl-0', 3)\n",
      "('toilet-chuack-0', 3)\n",
      "('toilet-mzocsn-0', 3)\n",
      "('toilet-rqxqtd-0', 3)\n",
      "('toilet-vcgvfe-0', 3)\n",
      "('toilet-vdbmon-0', 3)\n",
      "('toilet-wkltpj-0', 3)\n",
      "('toilet-yxbgey-0', 3)\n",
      "('trash_can-mdojox-0', 3)\n",
      "('trash_can-nuoypc-0', 3)\n",
      "('trash_can-pdmzhv-0', 3)\n",
      "('wall_clock-przkmo-0', 3)\n",
      "('washer-dobgmu-0', 3)\n",
      "('bottom_cabinet_no_top-wtnrwl-0', 2)\n",
      "('coffee_table-vcgabn-0', 2)\n",
      "('desk-cnewsu-0', 2)\n",
      "('desk-phavlj-0', 2)\n",
      "('desk-tmukzm-0', 2)\n",
      "('desk-vpwmkm-0', 2)\n",
      "('dishwasher-dngvvi-0', 2)\n",
      "('dishwasher-ynrhuk-0', 2)\n",
      "('door-cbgtjl-0', 2)\n",
      "('door-ohagsq-0', 2)\n",
      "('floor_lamp-imgsrd-0', 2)\n",
      "('folding_chair-dqhazh-0', 2)\n",
      "('folding_chair-dxergu-0', 2)\n",
      "('folding_chair-vngcqu-0', 2)\n",
      "('microwave-rtfebu-0', 2)\n",
      "('standing_tv-gjlztf-0', 2)\n",
      "('table_lamp-jiuwwn-0', 2)\n",
      "('table_lamp-lyjkje-0', 2)\n",
      "('table_lamp-ncgcgo-0', 2)\n",
      "('table_lamp-utsqrs-0', 2)\n",
      "('table_lamp-wslomg-0', 2)\n",
      "('table_lamp-wvysoe-0', 2)\n",
      "('toilet-kfmkbm-0', 2)\n",
      "('toilet-nqwekw-0', 2)\n",
      "('toilet-sjjweo-0', 2)\n",
      "('toilet-vtqdev-0', 2)\n",
      "('toilet-wusctd-0', 2)\n",
      "('wall_clock-xevvel-0', 2)\n",
      "('window-mjssrd-0', 2)\n",
      "('backpack-gvbiwl-0', 1)\n",
      "('blender-cwkvib-0', 1)\n",
      "('breakfast_table-lwtcfh-0', 1)\n",
      "('breakfast_table-mwsyqb-0', 1)\n",
      "('briefcase-fdpjtj-0', 1)\n",
      "('briefcase-ohelib-0', 1)\n",
      "('coffee_table-gpkbiw-0', 1)\n",
      "('coffee_table-hmwkkt-0', 1)\n",
      "('coffee_table-stocuk-0', 1)\n",
      "('coffee_table-tzmkgq-0', 1)\n",
      "('coffee_table-ytlgdt-0', 1)\n",
      "('coffee_table-zzqwse-0', 1)\n",
      "('console_table-emeeke-0', 1)\n",
      "('console_table-tvhett-0', 1)\n",
      "('desk-jfhurf-0', 1)\n",
      "('desk-tdhgko-0', 1)\n",
      "('dishwasher-cgugie-0', 1)\n",
      "('door-ceddpg-0', 1)\n",
      "('door-ktydvs-0', 1)\n",
      "('door-lctyaf-0', 1)\n",
      "('door-lvgliq-0', 1)\n",
      "('door-mgmayh-0', 1)\n",
      "('door-nfrbch-0', 1)\n",
      "('door-rhcnln-0', 1)\n",
      "('floor_lamp-lqdmym-0', 1)\n",
      "('monitor-rbqanz-0', 1)\n",
      "('stand-geeldi-0', 1)\n",
      "('stand-kanola-0', 1)\n",
      "('stand-ljtrka-0', 1)\n",
      "('standing_tv-bkyguk-0', 1)\n",
      "('standing_tv-blyapt-0', 1)\n",
      "('standing_tv-ghxsoy-0', 1)\n",
      "('standing_tv-lkpsai-0', 1)\n",
      "('standing_tv-sbxgwj-0', 1)\n",
      "('standing_tv-udotid-0', 1)\n",
      "('standing_tv-wbkvxr-0', 1)\n",
      "('table_lamp-eosezn-0', 1)\n",
      "('table_lamp-htinka-0', 1)\n",
      "('table_lamp-xbfgjc-0', 1)\n",
      "('toilet-jkwccu-0', 1)\n",
      "('trash_can-eahqyq-0', 1)\n",
      "('trash_can-ifzxzj-0', 1)\n",
      "('trash_can-wklill-0', 1)\n",
      "('wall_mounted_tv-gffrzl-0', 1)\n",
      "('window-bhwwja-0', 1)\n",
      "('window-qdkcdn-0', 1)\n"
     ]
    }
   ],
   "source": [
    "print(\"\\n\".join(str(x) for x in sorted(link_cnts.items(), key=lambda x: -x[1])))"
   ]
  },
  {
   "cell_type": "code",
   "execution_count": null,
   "id": "1f9d6e1f",
   "metadata": {},
   "outputs": [],
   "source": []
  },
  {
   "cell_type": "code",
   "execution_count": null,
   "id": "0a13af77",
   "metadata": {},
   "outputs": [],
   "source": []
  }
 ],
 "metadata": {
  "kernelspec": {
   "display_name": "Python 3 (ipykernel)",
   "language": "python",
   "name": "python3"
  },
  "language_info": {
   "codemirror_mode": {
    "name": "ipython",
    "version": 3
   },
   "file_extension": ".py",
   "mimetype": "text/x-python",
   "name": "python",
   "nbconvert_exporter": "python",
   "pygments_lexer": "ipython3",
   "version": "3.8.0"
  }
 },
 "nbformat": 4,
 "nbformat_minor": 5
}
