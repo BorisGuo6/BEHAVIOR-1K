{
 "cells": [
  {
   "cell_type": "code",
   "execution_count": 5,
   "id": "89e9af17",
   "metadata": {},
   "outputs": [],
   "source": [
    "import glob, pathlib, tqdm, trimesh\n",
    "import numpy as np"
   ]
  },
  {
   "cell_type": "code",
   "execution_count": 9,
   "id": "bf00b590",
   "metadata": {},
   "outputs": [
    {
     "name": "stdout",
     "output_type": "stream",
     "text": [
      "2665\n"
     ]
    }
   ],
   "source": [
    "# collision_objs = glob.glob(r\"D:\\ig_pipeline\\artifacts\\aggregate\\objects\\*\\*\\shape\\collision\\*.obj\")\n",
    "collision_objs = glob.glob(r\"C:\\Users\\Cem\\research\\iGibson-dev\\igibson\\data\\ig_dataset\\objects\\*\\*\\shape\\collision\\*.obj\")\n",
    "print(len(collision_objs))"
   ]
  },
  {
   "cell_type": "code",
   "execution_count": 10,
   "id": "05a23463",
   "metadata": {},
   "outputs": [
    {
     "name": "stderr",
     "output_type": "stream",
     "text": [
      "100%|██████████████████████████████████████████████████████████████████████████████| 2665/2665 [00:34<00:00, 76.94it/s]\n"
     ]
    }
   ],
   "source": [
    "# Count the number of o-directives in each\n",
    "o_directives = {}\n",
    "for p in tqdm.tqdm(collision_objs):\n",
    "    p = pathlib.Path(p)\n",
    "    target = p.parts[-5] + \"-\" + p.parts[-4]\n",
    "    o_directives[target] = len(trimesh.load(p, force=\"mesh\", skip_material=True).split())"
   ]
  },
  {
   "cell_type": "code",
   "execution_count": 11,
   "id": "a3f7caeb",
   "metadata": {},
   "outputs": [
    {
     "data": {
      "image/png": "[encoded data removed]",
      "text/plain": [
       "<Figure size 432x288 with 1 Axes>"
      ]
     },
     "metadata": {
      "needs_background": "light"
     },
     "output_type": "display_data"
    },
    {
     "name": "stdout",
     "output_type": "stream",
     "text": [
      "15.0\n",
      "35.32154605263158\n",
      "87.06830196357483\n"
     ]
    }
   ],
   "source": [
    "import matplotlib.pyplot as plt\n",
    "a = np.array(list(o_directives.values()))\n",
    "_ = plt.hist(np.minimum(a, 64), bins='auto')  # arguments are passed to np.histogram\n",
    "plt.title(\"Histogram with 'auto' bins\")\n",
    "plt.xlabel(\"Collision mesh count\")\n",
    "plt.ylabel(\"# objects with this collision mesh count\")\n",
    "plt.show()\n",
    "print(np.median(a))\n",
    "print(np.mean(a))\n",
    "print(np.std(a))"
   ]
  },
  {
   "cell_type": "code",
   "execution_count": null,
   "id": "9f97238f",
   "metadata": {},
   "outputs": [],
   "source": [
    "import sys\n",
    "sys.path.append(r\"D:\\ig_pipeline\")\n",
    "from b1k_pipeline.utils import get_targets, PIPELINE_ROOT, parse_name"
   ]
  },
  {
   "cell_type": "code",
   "execution_count": null,
   "id": "8c708fad",
   "metadata": {},
   "outputs": [],
   "source": [
    "import json\n",
    "from collections import defaultdict\n",
    "# Count the number of objects with non-tagged fixed links\n",
    "link_cnts = {}\n",
    "for target in tqdm.tqdm(get_targets(\"combined\")):\n",
    "    obj_list_file = PIPELINE_ROOT / \"cad\" / target / \"artifacts\" / \"object_list.json\"\n",
    "    assert obj_list_file.exists(), \"Missing obj list file \" + str(obj_list_file)\n",
    "    with open(obj_list_file, \"r\") as f:\n",
    "        data = json.load(f)\n",
    "        meshes = data[\"meshes\"]\n",
    "        parsed = [parse_name(x) for x in meshes]\n",
    "        obj_link_cnts = defaultdict(set)\n",
    "        for p in parsed:\n",
    "            if not p.group(\"link_name\") or p.group(\"link_name\") == \"base_link\":\n",
    "                continue\n",
    "            if p.group(\"bad\"):\n",
    "                continue\n",
    "            obj_name = p.group(\"obj_basename\")\n",
    "            link_name = p.group(\"link_basename\")\n",
    "            # Don't count openable links\n",
    "            if p.group(\"tag\") and \"openable\" in p.group(\"tag\"):\n",
    "                continue\n",
    "            obj_link_cnts[obj_name].add(link_name)\n",
    "        # fixed = sum(1 for x in parsed if x is not None and x.group(\"joint_type\") == \"F\" and not x.group(\"tag\"))\n",
    "        link_cnts.update({x: len(y) for x, y in obj_link_cnts.items()})"
   ]
  },
  {
   "cell_type": "code",
   "execution_count": null,
   "id": "6b9f7b21",
   "metadata": {},
   "outputs": [],
   "source": [
    "interesting = np.asarray(list(link_cnts.values()), dtype=int)\n",
    "interesting = interesting[interesting>3]\n",
    "print(\"Interesting count: \", len(interesting))\n",
    "_ = plt.hist(interesting, bins=\"auto\")  # arguments are passed to np.histogram\n",
    "plt.title(\"Histogram with 'auto' bins\")\n",
    "plt.xlabel(\"Link count\")\n",
    "plt.ylabel(\"# targets with this link count\")\n",
    "plt.show()"
   ]
  },
  {
   "cell_type": "code",
   "execution_count": null,
   "id": "04ee7ca0",
   "metadata": {},
   "outputs": [],
   "source": [
    "print(\"\\n\".join(str(x) for x in sorted(link_cnts.items(), key=lambda x: -x[1])))"
   ]
  },
  {
   "cell_type": "code",
   "execution_count": null,
   "id": "1f9d6e1f",
   "metadata": {},
   "outputs": [],
   "source": []
  },
  {
   "cell_type": "code",
   "execution_count": null,
   "id": "0a13af77",
   "metadata": {},
   "outputs": [],
   "source": []
  }
 ],
 "metadata": {
  "kernelspec": {
   "display_name": "Python 3 (ipykernel)",
   "language": "python",
   "name": "python3"
  },
  "language_info": {
   "codemirror_mode": {
    "name": "ipython",
    "version": 3
   },
   "file_extension": ".py",
   "mimetype": "text/x-python",
   "name": "python",
   "nbconvert_exporter": "python",
   "pygments_lexer": "ipython3",
   "version": "3.8.0"
  }
 },
 "nbformat": 4,
 "nbformat_minor": 5
}
