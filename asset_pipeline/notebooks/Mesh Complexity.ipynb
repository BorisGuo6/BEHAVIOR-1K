{
 "cells": [
  {
   "cell_type": "code",
   "execution_count": 95,
   "id": "89e9af17",
   "metadata": {},
   "outputs": [],
   "source": [
    "import glob, pathlib, trimesh, random\n",
    "from tqdm.notebook import tqdm\n",
    "import numpy as np"
   ]
  },
  {
   "cell_type": "code",
   "execution_count": 96,
   "id": "0a523f6d",
   "metadata": {},
   "outputs": [],
   "source": [
    "import matplotlib.pyplot as plt\n",
    "def display_stats(a, title):\n",
    "    _ = plt.hist(np.minimum(a, 64), bins=\"auto\")  # arguments are passed to np.histogram\n",
    "    plt.title(title)\n",
    "    # plt.xlabel(\"Collision mesh count\")\n",
    "    # plt.ylabel(\"# objects with this collision mesh count\")\n",
    "    plt.show()\n",
    "    print(\"Median\", np.median(a))\n",
    "    print(\"Mean\", np.mean(a))\n",
    "    print(\"Std\", np.std(a))\n",
    "    print(\"Max\", np.max(a))\n",
    "    print(\"Min\", np.min(a))"
   ]
  },
  {
   "cell_type": "code",
   "execution_count": 97,
   "id": "bf00b590",
   "metadata": {},
   "outputs": [
    {
     "name": "stdout",
     "output_type": "stream",
     "text": [
      "2492\n"
     ]
    }
   ],
   "source": [
    "collision_objs = glob.glob(r\"D:\\ig_pipeline\\artifacts\\aggregate\\objects\\*\\*\\shape\\collision\\*.obj\")\n",
    "# collision_objs = glob.glob(r\"C:\\Users\\Cem\\research\\iGibson-dev\\igibson\\data\\ig_dataset\\objects\\*\\*\\shape\\collision\\*.obj\")\n",
    "print(len(collision_objs))\n",
    "random.shuffle(collision_objs)"
   ]
  },
  {
   "cell_type": "markdown",
   "id": "d894f953",
   "metadata": {},
   "source": [
    "## Count Collision Hulls"
   ]
  },
  {
   "cell_type": "code",
   "execution_count": 98,
   "id": "05a23463",
   "metadata": {},
   "outputs": [
    {
     "data": {
      "application/vnd.jupyter.widget-view+json": {
       "model_id": "ef6fa21e63864381b15a3bc9efe55574",
       "version_major": 2,
       "version_minor": 0
      },
      "text/plain": [
       "  0%|          | 0/2492 [00:00<?, ?it/s]"
      ]
     },
     "metadata": {},
     "output_type": "display_data"
    }
   ],
   "source": [
    "# Count the number of o-directives in each\n",
    "o_directives = {}\n",
    "for p in tqdm(collision_objs):\n",
    "    p = pathlib.Path(p)\n",
    "    target = p.parts[-5] + \"-\" + p.parts[-4]\n",
    "    o_directives[target] = len(trimesh.load(p, force=\"mesh\", skip_material=True).split())"
   ]
  },
  {
   "cell_type": "code",
   "execution_count": 99,
   "id": "a3f7caeb",
   "metadata": {},
   "outputs": [
    {
     "data": {
      "image/png": "[encoded data removed]",
      "text/plain": [
       "<Figure size 432x288 with 1 Axes>"
      ]
     },
     "metadata": {
      "needs_background": "light"
     },
     "output_type": "display_data"
    },
    {
     "name": "stdout",
     "output_type": "stream",
     "text": [
      "Median 7.0\n",
      "Mean 24.502412868632707\n",
      "Std 52.193649727970296\n",
      "Max 954\n",
      "Min 0\n"
     ]
    }
   ],
   "source": [
    "a = np.array(list(o_directives.values()))\n",
    "display_stats(a, \"Collision mesh count histogram\")"
   ]
  },
  {
   "cell_type": "markdown",
   "id": "8d68c690",
   "metadata": {},
   "source": [
    "## Analyze bounding box volumes"
   ]
  },
  {
   "cell_type": "code",
   "execution_count": 91,
   "id": "e5a82f35",
   "metadata": {},
   "outputs": [
    {
     "data": {
      "application/vnd.jupyter.widget-view+json": {
       "model_id": "30ec0db3762741da9634ec7f4a9f6a9c",
       "version_major": 2,
       "version_minor": 0
      },
      "text/plain": [
       "  0%|          | 0/2492 [00:00<?, ?it/s]"
      ]
     },
     "metadata": {},
     "output_type": "display_data"
    },
    {
     "name": "stderr",
     "output_type": "stream",
     "text": [
      "C:\\Users\\Cem\\AppData\\Local\\Temp\\ipykernel_32988\\1049509059.py:24: RuntimeWarning: divide by zero encountered in double_scalars\n",
      "  bb_volume_ratios[target] = col_vol / vis_vol\n",
      "C:\\Users\\Cem\\AppData\\Local\\Temp\\ipykernel_32988\\1049509059.py:26: RuntimeWarning: divide by zero encountered in true_divide\n",
      "  dim_ratio = col_bb / vis_bb\n"
     ]
    },
    {
     "name": "stdout",
     "output_type": "stream",
     "text": [
      "Warning: package-msfzpz bb has dimension close to zero: [0.9079 0.     0.4636]\n",
      "Warning: package-msfzpz bb has dimension close to zero: [0.9079 0.     0.4636]\n",
      "Warning: carton-causya bb has dimension close to zero: [0.9079 0.     0.4636]\n",
      "Warning: carton-causya bb has dimension close to zero: [0.4637 0.     0.9272]\n",
      "Warning: washer-jgyzhv bb has dimension close to zero: [0.6574 0.5363 0.    ]\n",
      "Warning: carton-causya bb has dimension close to zero: [0.9079 0.     0.4636]\n",
      "Error: bean-mfkwzi bb's all dimensions are close to zero, can't include it: [0.0002 0.0002 0.0002]\n",
      "Error: walnut-nzqier bb's all dimensions are close to zero, can't include it: [0.0006 0.0007 0.0006]\n",
      "Warning: microwave-rtfebu bb has dimension close to zero: [0.9205 0.9205 0.    ]\n",
      "Error: bean-cdinsu bb's all dimensions are close to zero, can't include it: [0.0002 0.0002 0.0002]\n",
      "Warning: package-msfzpz bb has dimension close to zero: [0.4637 0.     0.9272]\n"
     ]
    }
   ],
   "source": [
    "col_vols = {}\n",
    "vis_vols = {}\n",
    "bb_volume_ratios = {}\n",
    "bb_max_nonzero_dim_ratios = {}\n",
    "filtered_objs = collision_objs  # [x for x in collision_objs if \"floors\" in x]\n",
    "watertight = 0\n",
    "for col_name in tqdm(filtered_objs):\n",
    "    col_name = pathlib.Path(col_name)\n",
    "    target = col_name.parts[-5] + \"-\" + col_name.parts[-4]\n",
    "    vis_name = pathlib.Path(str(col_name).replace(\"collision\", \"visual\"))\n",
    "    col_mesh = trimesh.load(col_name, force=\"mesh\", skip_material=True)\n",
    "    vis_mesh = trimesh.load(vis_name, force=\"mesh\", skip_material=True, merge_tex=True, merge_norm=True)\n",
    "    if vis_mesh.is_volume:\n",
    "        watertight += 1\n",
    "    \n",
    "    col_bb = col_mesh.bounding_box.extents\n",
    "    vis_bb = vis_mesh.bounding_box.extents\n",
    "    \n",
    "    col_vol = np.product(col_bb)\n",
    "    vis_vol = np.product(vis_bb)\n",
    "    \n",
    "    col_vols[target] = col_vol\n",
    "    vis_vols[target] = vis_vol\n",
    "    bb_volume_ratios[target] = col_vol / vis_vol\n",
    "    \n",
    "    dim_ratio = col_bb / vis_bb\n",
    "    invalid_dims = np.isclose(vis_bb, 0, atol=1e-3)\n",
    "    if np.all(invalid_dims):\n",
    "        print(f\"Error: {target} bb's all dimensions are close to zero, can't include it:\", vis_bb)\n",
    "        continue\n",
    "    elif np.any(invalid_dims):\n",
    "        print(f\"Warning: {target} bb has dimension close to zero:\", vis_bb)\n",
    "    bb_max_nonzero_dim_ratios[target] = np.max(dim_ratio[~invalid_dims])"
   ]
  },
  {
   "cell_type": "code",
   "execution_count": 92,
   "id": "645d5967",
   "metadata": {},
   "outputs": [
    {
     "name": "stdout",
     "output_type": "stream",
     "text": [
      "Total 2492\n",
      "Watertight 768\n",
      "Ratio 0.30818619582664525\n"
     ]
    }
   ],
   "source": [
    "print(\"Total\", len(filtered_objs))\n",
    "print(\"Watertight\", watertight)\n",
    "print(\"Ratio\", watertight / len(filtered_objs))"
   ]
  },
  {
   "cell_type": "code",
   "execution_count": 93,
   "id": "d46c1630",
   "metadata": {},
   "outputs": [
    {
     "data": {
      "image/png": "[encoded data removed]",
      "text/plain": [
       "<Figure size 432x288 with 1 Axes>"
      ]
     },
     "metadata": {
      "needs_background": "light"
     },
     "output_type": "display_data"
    },
    {
     "name": "stdout",
     "output_type": "stream",
     "text": [
      "Median -1.4587954697897685\n",
      "Mean -1.7750037284893985\n",
      "Std 4.17633306187687\n",
      "Max 14.997523930347594\n",
      "Min -25.54418901770333\n"
     ]
    }
   ],
   "source": [
    "a = np.array(list(col_vols.values()))\n",
    "display_stats(np.log(a), \"Collision bounding box volume histogram\")"
   ]
  },
  {
   "cell_type": "code",
   "execution_count": 28,
   "id": "a8317713",
   "metadata": {},
   "outputs": [
    {
     "data": {
      "image/png": "[encoded data removed]",
      "text/plain": [
       "<Figure size 432x288 with 1 Axes>"
      ]
     },
     "metadata": {
      "needs_background": "light"
     },
     "output_type": "display_data"
    },
    {
     "name": "stdout",
     "output_type": "stream",
     "text": [
      "Median 0.968187506031601\n",
      "Mean 0.7801856162950185\n",
      "Std 1.1039477987148885\n",
      "Max 2.8577349722046033\n",
      "Min -1.6845982781597286\n"
     ]
    }
   ],
   "source": [
    "a = np.array(list(vis_vols.values()))\n",
    "display_stats(np.log(a), \"Visual bounding box volume histogram\")"
   ]
  },
  {
   "cell_type": "code",
   "execution_count": 37,
   "id": "56d575d5",
   "metadata": {},
   "outputs": [
    {
     "data": {
      "image/png": "[encoded data removed]",
      "text/plain": [
       "<Figure size 432x288 with 1 Axes>"
      ]
     },
     "metadata": {
      "needs_background": "light"
     },
     "output_type": "display_data"
    },
    {
     "name": "stdout",
     "output_type": "stream",
     "text": [
      "Median 1.13626829263237\n",
      "Mean inf\n",
      "Std nan\n",
      "Max inf\n",
      "Min 0.968481251697957\n"
     ]
    },
    {
     "name": "stderr",
     "output_type": "stream",
     "text": [
      "C:\\Users\\Cem\\.conda\\envs\\pipeline\\lib\\site-packages\\numpy\\core\\_methods.py:232: RuntimeWarning: invalid value encountered in subtract\n",
      "  x = asanyarray(arr - arrmean)\n"
     ]
    }
   ],
   "source": [
    "a = np.array(list(bb_volume_ratios.values()))\n",
    "display_stats(a, \"Collision-to-visual bounding box volume ratio histogram\")"
   ]
  },
  {
   "cell_type": "code",
   "execution_count": 94,
   "id": "160627e6",
   "metadata": {
    "scrolled": true
   },
   "outputs": [
    {
     "data": {
      "image/png": "[encoded data removed]",
      "text/plain": [
       "<Figure size 432x288 with 1 Axes>"
      ]
     },
     "metadata": {
      "needs_background": "light"
     },
     "output_type": "display_data"
    },
    {
     "name": "stdout",
     "output_type": "stream",
     "text": [
      "Median 1.0080048008455835\n",
      "Mean 1.0411298202126682\n",
      "Std 0.07867116557052281\n",
      "Max 1.8692758620689658\n",
      "Min 0.9999763147792707\n"
     ]
    }
   ],
   "source": [
    "a = np.array(list(bb_max_nonzero_dim_ratios.values()))\n",
    "display_stats(a, \"Maximum collision-to-visual bounding box non-zero dimension ratio histogram\")"
   ]
  },
  {
   "cell_type": "markdown",
   "id": "9d16bba4",
   "metadata": {},
   "source": [
    "## Objects with too many links"
   ]
  },
  {
   "cell_type": "code",
   "execution_count": null,
   "id": "9f97238f",
   "metadata": {},
   "outputs": [],
   "source": [
    "import sys\n",
    "sys.path.append(r\"D:\\ig_pipeline\")\n",
    "from b1k_pipeline.utils import get_targets, PIPELINE_ROOT, parse_name"
   ]
  },
  {
   "cell_type": "code",
   "execution_count": null,
   "id": "8c708fad",
   "metadata": {},
   "outputs": [],
   "source": [
    "import json\n",
    "from collections import defaultdict\n",
    "# Count the number of objects with non-tagged fixed links\n",
    "link_cnts = {}\n",
    "for target in tqdm.tqdm(get_targets(\"combined\")):\n",
    "    obj_list_file = PIPELINE_ROOT / \"cad\" / target / \"artifacts\" / \"object_list.json\"\n",
    "    assert obj_list_file.exists(), \"Missing obj list file \" + str(obj_list_file)\n",
    "    with open(obj_list_file, \"r\") as f:\n",
    "        data = json.load(f)\n",
    "        meshes = data[\"meshes\"]\n",
    "        parsed = [parse_name(x) for x in meshes]\n",
    "        obj_link_cnts = defaultdict(set)\n",
    "        for p in parsed:\n",
    "            if not p.group(\"link_name\") or p.group(\"link_name\") == \"base_link\":\n",
    "                continue\n",
    "            if p.group(\"bad\"):\n",
    "                continue\n",
    "            obj_name = p.group(\"obj_basename\")\n",
    "            link_name = p.group(\"link_basename\")\n",
    "            # Don't count openable links\n",
    "            if p.group(\"tag\") and \"openable\" in p.group(\"tag\"):\n",
    "                continue\n",
    "            obj_link_cnts[obj_name].add(link_name)\n",
    "        # fixed = sum(1 for x in parsed if x is not None and x.group(\"joint_type\") == \"F\" and not x.group(\"tag\"))\n",
    "        link_cnts.update({x: len(y) for x, y in obj_link_cnts.items()})"
   ]
  },
  {
   "cell_type": "code",
   "execution_count": null,
   "id": "6b9f7b21",
   "metadata": {},
   "outputs": [],
   "source": [
    "interesting = np.asarray(list(link_cnts.values()), dtype=int)\n",
    "interesting = interesting[interesting>3]\n",
    "display_stats(a, \"Collision-to-visual bounding box volume ratio histogram\")"
   ]
  },
  {
   "cell_type": "code",
   "execution_count": null,
   "id": "04ee7ca0",
   "metadata": {},
   "outputs": [],
   "source": [
    "print(\"\\n\".join(str(x) for x in sorted(link_cnts.items(), key=lambda x: -x[1])))"
   ]
  },
  {
   "cell_type": "code",
   "execution_count": null,
   "id": "1f9d6e1f",
   "metadata": {},
   "outputs": [],
   "source": []
  },
  {
   "cell_type": "code",
   "execution_count": null,
   "id": "8d683ead",
   "metadata": {},
   "outputs": [],
   "source": []
  }
 ],
 "metadata": {
  "kernelspec": {
   "display_name": "Python 3 (ipykernel)",
   "language": "python",
   "name": "python3"
  },
  "language_info": {
   "codemirror_mode": {
    "name": "ipython",
    "version": 3
   },
   "file_extension": ".py",
   "mimetype": "text/x-python",
   "name": "python",
   "nbconvert_exporter": "python",
   "pygments_lexer": "ipython3",
   "version": "3.8.0"
  }
 },
 "nbformat": 4,
 "nbformat_minor": 5
}
