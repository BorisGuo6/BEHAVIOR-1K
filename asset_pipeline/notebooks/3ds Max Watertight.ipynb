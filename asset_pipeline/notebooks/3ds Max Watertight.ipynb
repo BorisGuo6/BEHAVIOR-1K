{
 "cells": [
  {
   "cell_type": "code",
   "execution_count": 28,
   "id": "289cd403",
   "metadata": {},
   "outputs": [],
   "source": [
    "import trimesh"
   ]
  },
  {
   "cell_type": "code",
   "execution_count": 29,
   "id": "bfe2f169",
   "metadata": {},
   "outputs": [
    {
     "name": "stdout",
     "output_type": "stream",
     "text": [
      "Watertight True\n",
      "Volume False\n",
      "is_convex False\n"
     ]
    }
   ],
   "source": [
    "a = trimesh.load(r\"D:\\convex.obj\", force=\"mesh\", skip_material=True, merge_norm=True)\n",
    "print(\"Watertight\", a.is_watertight)\n",
    "print(\"Volume\", a.is_volume)\n",
    "print(\"is_convex\", a.is_convex)"
   ]
  },
  {
   "cell_type": "code",
   "execution_count": 34,
   "id": "1c05ff61",
   "metadata": {},
   "outputs": [
    {
     "name": "stdout",
     "output_type": "stream",
     "text": [
      "72\n"
     ]
    }
   ],
   "source": [
    "print(len(a.vertices))"
   ]
  },
  {
   "cell_type": "code",
   "execution_count": 31,
   "id": "fb45c9f4",
   "metadata": {},
   "outputs": [],
   "source": [
    "trimesh.repair.fix_winding(a)"
   ]
  },
  {
   "cell_type": "code",
   "execution_count": 36,
   "id": "b16e337e",
   "metadata": {},
   "outputs": [
    {
     "name": "stdout",
     "output_type": "stream",
     "text": [
      "Watertight True\n",
      "Volume True\n",
      "is_convex True\n"
     ]
    }
   ],
   "source": [
    "print(\"Watertight\", a.is_watertight)\n",
    "print(\"Volume\", a.is_volume)\n",
    "print(\"is_convex\", a.is_convex)"
   ]
  },
  {
   "cell_type": "code",
   "execution_count": 42,
   "id": "2bb2a1ec",
   "metadata": {},
   "outputs": [
    {
     "name": "stdout",
     "output_type": "stream",
     "text": [
      "[True, True, True, True, True, True, True, True, True, True, True, True]\n",
      "True\n"
     ]
    }
   ],
   "source": [
    "print([item.is_convex for item in a.split()])\n",
    "print(a.is_convex)"
   ]
  },
  {
   "cell_type": "code",
   "execution_count": null,
   "id": "b6476828",
   "metadata": {},
   "outputs": [],
   "source": []
  },
  {
   "cell_type": "code",
   "execution_count": null,
   "id": "a94bd25a",
   "metadata": {},
   "outputs": [],
   "source": []
  }
 ],
 "metadata": {
  "kernelspec": {
   "display_name": "Python 3 (ipykernel)",
   "language": "python",
   "name": "python3"
  },
  "language_info": {
   "codemirror_mode": {
    "name": "ipython",
    "version": 3
   },
   "file_extension": ".py",
   "mimetype": "text/x-python",
   "name": "python",
   "nbconvert_exporter": "python",
   "pygments_lexer": "ipython3",
   "version": "3.8.0"
  }
 },
 "nbformat": 4,
 "nbformat_minor": 5
}
