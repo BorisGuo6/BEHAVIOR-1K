{
 "cells": [
  {
   "cell_type": "code",
   "execution_count": 1,
   "metadata": {},
   "outputs": [],
   "source": [
    "import pathlib\n",
    "import json\n",
    "export_meshes_jsons = {\n",
    "    p.parts[-3]: json.loads(p.read_text())\n",
    "    for p in pathlib.Path(r\"D:\\ig_pipeline\").rglob(\"cad/*/*/artifacts/export_meshes.json\")\n",
    "}"
   ]
  },
  {
   "cell_type": "code",
   "execution_count": 2,
   "metadata": {},
   "outputs": [
    {
     "name": "stdout",
     "output_type": "stream",
     "text": [
      "dict_keys(['batch-00', 'batch-01', 'batch-02', 'batch-03', 'batch-04', 'batch-05', 'batch-06', 'batch-07', 'batch-08', 'batch-09', 'batch-10', 'batch-11', 'batch-12', 'batch-13', 'custom-aa', 'legacy_batch-00', 'legacy_batch-01', 'legacy_batch-02', 'legacy_batch-03', 'legacy_batch-04', 'legacy_batch-05', 'legacy_batch-06', 'legacy_batch-07', 'legacy_batch-08', 'legacy_batch-09', 'legacy_batch-10', 'legacy_batch-11', 'legacy_batch-12', 'procedural-aa', 'substances-01', 'substances-02', 'task_relavant-ab', 'task_relevant-xy', 'Beechwood_0_garden', 'Beechwood_0_int', 'Beechwood_1_int', 'Benevolence_0_int', 'Benevolence_1_int', 'Benevolence_2_int', 'commercial_kitchen_fire_extinguisher', 'commercial_kitchen_pans', 'grocery_store_asian', 'grocery_store_convenience', 'grocery_store_half_stocked', 'hall_arch_wood', 'hall_conference_large', 'hall_glass_ceiling', 'hall_train_station', 'hotel_suite_large', 'hotel_suite_small', 'house_double_floor_lower', 'house_double_floor_upper', 'house_single_floor', 'Ihlen_0_int', 'Ihlen_1_int', 'Merom_0_garden', 'Merom_0_int', 'Merom_1_int', 'office_bike', 'office_cubicles_left', 'office_cubicles_right', 'office_large', 'Pomaria_0_garden', 'Pomaria_0_int', 'Pomaria_1_int', 'Pomaria_2_int', 'public_restroom_blue', 'public_restroom_brown', 'public_restroom_futuristic', 'public_restroom_marble', 'public_restroom_white', 'restaurant_asian', 'restaurant_cafeteria', 'restaurant_diner', 'restaurant_hotel', 'restaurant_urban', 'Rs_int', 'school_biology', 'school_chemistry', 'school_computer_lab_and_infirmary', 'school_geography', 'Wainscott_0_garden', 'Wainscott_0_int', 'Wainscott_1_int'])\n"
     ]
    },
    {
     "data": {
      "text/plain": [
       "{}"
      ]
     },
     "execution_count": 2,
     "metadata": {},
     "output_type": "execute_result"
    }
   ],
   "source": [
    "import matplotlib.pyplot as plt\n",
    "\n",
    "files = {k: v for k, v in export_meshes_jsons.items()}\n",
    "baking_times = {o: t for k, v in files.items() for o, t in v[\"baking_times\"].items()}\n",
    "export_times = {o: t for k, v in files.items() for o, t in v[\"export_times\"].items()}\n",
    "unwrap_times = {o: t for k, v in files.items() for o, t in v[\"unwrap_times\"].items()}\n",
    "\n",
    "print(files.keys())\n",
    "baking_times\n"
   ]
  },
  {
   "cell_type": "code",
   "execution_count": 3,
   "metadata": {},
   "outputs": [
    {
     "data": {
      "image/png": "[encoded data removed]",
      "text/plain": [
       "<Figure size 432x288 with 1 Axes>"
      ]
     },
     "metadata": {
      "needs_background": "light"
     },
     "output_type": "display_data"
    }
   ],
   "source": [
    "# Plot the baking, export and unwrap times as histograms on the same chart\n",
    "plt.figure()\n",
    "plt.hist(baking_times.values(), bins=100, alpha=0.5, label=\"Baking\")\n",
    "plt.hist(export_times.values(), bins=100, alpha=0.5, label=\"Export\")\n",
    "plt.hist(unwrap_times.values(), bins=100, alpha=0.5, label=\"Unwrap\")\n",
    "plt.title(\"Baking, export and unwrap times\")\n",
    "plt.xlabel(\"Time (s)\")\n",
    "plt.ylabel(\"Frequency\")\n",
    "plt.legend()\n",
    "plt.show()"
   ]
  },
  {
   "cell_type": "code",
   "execution_count": 4,
   "metadata": {},
   "outputs": [
    {
     "name": "stdout",
     "output_type": "stream",
     "text": [
      "Export times:\n",
      "Count: 27171\n",
      "Min: 0.2200300693511963\n",
      "Max: 15.59098744392395\n",
      "Mean: 0.7308828932242787\n",
      "Median: 0.3649301528930664\n",
      "Standard deviation: 1.0875735489377372\n",
      "25th percentile: 0.28464627265930176\n",
      "75th percentile: 0.675012469291687\n",
      "\n",
      "Baking times:\n",
      "Count: 0\n"
     ]
    },
    {
     "ename": "ValueError",
     "evalue": "zero-size array to reduction operation minimum which has no identity",
     "output_type": "error",
     "traceback": [
      "\u001b[1;31m---------------------------------------------------------------------------\u001b[0m",
      "\u001b[1;31mValueError\u001b[0m                                Traceback (most recent call last)",
      "Input \u001b[1;32mIn [4]\u001b[0m, in \u001b[0;36m<cell line: 17>\u001b[1;34m()\u001b[0m\n\u001b[0;32m     15\u001b[0m \u001b[38;5;28mprint\u001b[39m(\u001b[38;5;124m\"\u001b[39m\u001b[38;5;124mBaking times:\u001b[39m\u001b[38;5;124m\"\u001b[39m)\n\u001b[0;32m     16\u001b[0m \u001b[38;5;28mprint\u001b[39m(\u001b[38;5;124m\"\u001b[39m\u001b[38;5;124mCount:\u001b[39m\u001b[38;5;124m\"\u001b[39m, \u001b[38;5;28mlen\u001b[39m(baking_times))\n\u001b[1;32m---> 17\u001b[0m \u001b[38;5;28mprint\u001b[39m(\u001b[38;5;124m\"\u001b[39m\u001b[38;5;124mMin:\u001b[39m\u001b[38;5;124m\"\u001b[39m, \u001b[43mnp\u001b[49m\u001b[38;5;241;43m.\u001b[39;49m\u001b[43mmin\u001b[49m\u001b[43m(\u001b[49m\u001b[38;5;28;43mlist\u001b[39;49m\u001b[43m(\u001b[49m\u001b[43mbaking_times\u001b[49m\u001b[38;5;241;43m.\u001b[39;49m\u001b[43mvalues\u001b[49m\u001b[43m(\u001b[49m\u001b[43m)\u001b[49m\u001b[43m)\u001b[49m\u001b[43m)\u001b[49m)\n\u001b[0;32m     18\u001b[0m \u001b[38;5;28mprint\u001b[39m(\u001b[38;5;124m\"\u001b[39m\u001b[38;5;124mMax:\u001b[39m\u001b[38;5;124m\"\u001b[39m, np\u001b[38;5;241m.\u001b[39mmax(\u001b[38;5;28mlist\u001b[39m(baking_times\u001b[38;5;241m.\u001b[39mvalues())))\n\u001b[0;32m     19\u001b[0m \u001b[38;5;28mprint\u001b[39m(\u001b[38;5;124m\"\u001b[39m\u001b[38;5;124mMean:\u001b[39m\u001b[38;5;124m\"\u001b[39m, np\u001b[38;5;241m.\u001b[39mmean(\u001b[38;5;28mlist\u001b[39m(baking_times\u001b[38;5;241m.\u001b[39mvalues())))\n",
      "File \u001b[1;32m<__array_function__ internals>:180\u001b[0m, in \u001b[0;36mamin\u001b[1;34m(*args, **kwargs)\u001b[0m\n",
      "File \u001b[1;32mc:\\Users\\Cem\\.conda\\envs\\pipeline\\lib\\site-packages\\numpy\\core\\fromnumeric.py:2916\u001b[0m, in \u001b[0;36mamin\u001b[1;34m(a, axis, out, keepdims, initial, where)\u001b[0m\n\u001b[0;32m   2800\u001b[0m \u001b[38;5;129m@array_function_dispatch\u001b[39m(_amin_dispatcher)\n\u001b[0;32m   2801\u001b[0m \u001b[38;5;28;01mdef\u001b[39;00m \u001b[38;5;21mamin\u001b[39m(a, axis\u001b[38;5;241m=\u001b[39m\u001b[38;5;28;01mNone\u001b[39;00m, out\u001b[38;5;241m=\u001b[39m\u001b[38;5;28;01mNone\u001b[39;00m, keepdims\u001b[38;5;241m=\u001b[39mnp\u001b[38;5;241m.\u001b[39m_NoValue, initial\u001b[38;5;241m=\u001b[39mnp\u001b[38;5;241m.\u001b[39m_NoValue,\n\u001b[0;32m   2802\u001b[0m          where\u001b[38;5;241m=\u001b[39mnp\u001b[38;5;241m.\u001b[39m_NoValue):\n\u001b[0;32m   2803\u001b[0m     \u001b[38;5;124;03m\"\"\"\u001b[39;00m\n\u001b[0;32m   2804\u001b[0m \u001b[38;5;124;03m    Return the minimum of an array or minimum along an axis.\u001b[39;00m\n\u001b[0;32m   2805\u001b[0m \n\u001b[1;32m   (...)\u001b[0m\n\u001b[0;32m   2914\u001b[0m \u001b[38;5;124;03m    6\u001b[39;00m\n\u001b[0;32m   2915\u001b[0m \u001b[38;5;124;03m    \"\"\"\u001b[39;00m\n\u001b[1;32m-> 2916\u001b[0m     \u001b[38;5;28;01mreturn\u001b[39;00m \u001b[43m_wrapreduction\u001b[49m\u001b[43m(\u001b[49m\u001b[43ma\u001b[49m\u001b[43m,\u001b[49m\u001b[43m \u001b[49m\u001b[43mnp\u001b[49m\u001b[38;5;241;43m.\u001b[39;49m\u001b[43mminimum\u001b[49m\u001b[43m,\u001b[49m\u001b[43m \u001b[49m\u001b[38;5;124;43m'\u001b[39;49m\u001b[38;5;124;43mmin\u001b[39;49m\u001b[38;5;124;43m'\u001b[39;49m\u001b[43m,\u001b[49m\u001b[43m \u001b[49m\u001b[43maxis\u001b[49m\u001b[43m,\u001b[49m\u001b[43m \u001b[49m\u001b[38;5;28;43;01mNone\u001b[39;49;00m\u001b[43m,\u001b[49m\u001b[43m \u001b[49m\u001b[43mout\u001b[49m\u001b[43m,\u001b[49m\n\u001b[0;32m   2917\u001b[0m \u001b[43m                          \u001b[49m\u001b[43mkeepdims\u001b[49m\u001b[38;5;241;43m=\u001b[39;49m\u001b[43mkeepdims\u001b[49m\u001b[43m,\u001b[49m\u001b[43m \u001b[49m\u001b[43minitial\u001b[49m\u001b[38;5;241;43m=\u001b[39;49m\u001b[43minitial\u001b[49m\u001b[43m,\u001b[49m\u001b[43m \u001b[49m\u001b[43mwhere\u001b[49m\u001b[38;5;241;43m=\u001b[39;49m\u001b[43mwhere\u001b[49m\u001b[43m)\u001b[49m\n",
      "File \u001b[1;32mc:\\Users\\Cem\\.conda\\envs\\pipeline\\lib\\site-packages\\numpy\\core\\fromnumeric.py:86\u001b[0m, in \u001b[0;36m_wrapreduction\u001b[1;34m(obj, ufunc, method, axis, dtype, out, **kwargs)\u001b[0m\n\u001b[0;32m     83\u001b[0m         \u001b[38;5;28;01melse\u001b[39;00m:\n\u001b[0;32m     84\u001b[0m             \u001b[38;5;28;01mreturn\u001b[39;00m reduction(axis\u001b[38;5;241m=\u001b[39maxis, out\u001b[38;5;241m=\u001b[39mout, \u001b[38;5;241m*\u001b[39m\u001b[38;5;241m*\u001b[39mpasskwargs)\n\u001b[1;32m---> 86\u001b[0m \u001b[38;5;28;01mreturn\u001b[39;00m \u001b[43mufunc\u001b[49m\u001b[38;5;241;43m.\u001b[39;49m\u001b[43mreduce\u001b[49m\u001b[43m(\u001b[49m\u001b[43mobj\u001b[49m\u001b[43m,\u001b[49m\u001b[43m \u001b[49m\u001b[43maxis\u001b[49m\u001b[43m,\u001b[49m\u001b[43m \u001b[49m\u001b[43mdtype\u001b[49m\u001b[43m,\u001b[49m\u001b[43m \u001b[49m\u001b[43mout\u001b[49m\u001b[43m,\u001b[49m\u001b[43m \u001b[49m\u001b[38;5;241;43m*\u001b[39;49m\u001b[38;5;241;43m*\u001b[39;49m\u001b[43mpasskwargs\u001b[49m\u001b[43m)\u001b[49m\n",
      "\u001b[1;31mValueError\u001b[0m: zero-size array to reduction operation minimum which has no identity"
     ]
    }
   ],
   "source": [
    "# Print the statistics of all three times\n",
    "import numpy as np\n",
    "\n",
    "print(\"Export times:\")\n",
    "print(\"Count:\", len(export_times))\n",
    "print(\"Min:\", np.min(list(export_times.values())))\n",
    "print(\"Max:\", np.max(list(export_times.values())))\n",
    "print(\"Mean:\", np.mean(list(export_times.values())))\n",
    "print(\"Median:\", np.median(list(export_times.values())))\n",
    "print(\"Standard deviation:\", np.std(list(export_times.values())))\n",
    "print(\"25th percentile:\", np.percentile(list(export_times.values()), 25))\n",
    "print(\"75th percentile:\", np.percentile(list(export_times.values()), 75))\n",
    "print()\n",
    "\n",
    "print(\"Baking times:\")\n",
    "print(\"Count:\", len(baking_times))\n",
    "print(\"Min:\", np.min(list(baking_times.values())))\n",
    "print(\"Max:\", np.max(list(baking_times.values())))\n",
    "print(\"Mean:\", np.mean(list(baking_times.values())))\n",
    "print(\"Median:\", np.median(list(baking_times.values())))\n",
    "print(\"Standard deviation:\", np.std(list(baking_times.values())))\n",
    "print(\"25th percentile:\", np.percentile(list(baking_times.values()), 25))\n",
    "print(\"75th percentile:\", np.percentile(list(baking_times.values()), 75))\n",
    "print()\n",
    "\n",
    "print(\"Unwrap times:\")\n",
    "print(\"Count:\", len(unwrap_times))\n",
    "print(\"Min:\", np.min(list(unwrap_times.values())))\n",
    "print(\"Max:\", np.max(list(unwrap_times.values())))\n",
    "print(\"Mean:\", np.mean(list(unwrap_times.values())))\n",
    "print(\"Median:\", np.median(list(unwrap_times.values())))\n",
    "print(\"Standard deviation:\", np.std(list(unwrap_times.values())))\n",
    "print(\"25th percentile:\", np.percentile(list(unwrap_times.values()), 25))\n",
    "print(\"75th percentile:\", np.percentile(list(unwrap_times.values()), 75))\n",
    "print()\n"
   ]
  },
  {
   "cell_type": "code",
   "execution_count": null,
   "metadata": {},
   "outputs": [],
   "source": []
  }
 ],
 "metadata": {
  "kernelspec": {
   "display_name": "pipeline",
   "language": "python",
   "name": "python3"
  },
  "language_info": {
   "codemirror_mode": {
    "name": "ipython",
    "version": 3
   },
   "file_extension": ".py",
   "mimetype": "text/x-python",
   "name": "python",
   "nbconvert_exporter": "python",
   "pygments_lexer": "ipython3",
   "version": "3.8.0"
  }
 },
 "nbformat": 4,
 "nbformat_minor": 2
}
