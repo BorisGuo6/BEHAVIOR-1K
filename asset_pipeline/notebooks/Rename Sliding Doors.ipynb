{
 "cells": [
  {
   "cell_type": "code",
   "execution_count": 3,
   "metadata": {},
   "outputs": [],
   "source": [
    "import json, pathlib\n",
    "by_target = {}\n",
    "for p in pathlib.Path(r\"D:\\ig_pipeline\").glob(\"cad/*/*/artifacts/object_list.json\"):\n",
    "    with p.open() as f:\n",
    "        target = \"/\".join(p.parts[-4:-2])\n",
    "        by_target[target] = json.load(f)"
   ]
  },
  {
   "cell_type": "code",
   "execution_count": 5,
   "metadata": {},
   "outputs": [],
   "source": [
    "import sys\n",
    "sys.path.append(r\"D:\\ig_pipeline\")\n",
    "from b1k_pipeline.utils import parse_name"
   ]
  },
  {
   "cell_type": "code",
   "execution_count": 7,
   "metadata": {},
   "outputs": [
    {
     "name": "stdout",
     "output_type": "stream",
     "text": [
      "Target: scenes/grocery_store_convenience\n",
      "  - hgcxno\n",
      "Target: scenes/house_single_floor\n",
      "  - zlxolj\n",
      "  - whqaxp\n",
      "  - hkxqfh\n",
      "  - lrvyvc\n",
      "  - nhcpvf\n",
      "  - vgjnsq\n",
      "  - egqeue\n",
      "  - arkmpj\n",
      "  - mtufto\n",
      "  - tprpvb\n",
      "  - ryflkw\n",
      "  - mqlbnj\n",
      "  - xqdonc\n",
      "  - agrzdb\n"
     ]
    }
   ],
   "source": [
    "# For each target, find the meshes that have category `door` and joint type P\n",
    "for target, object_list in by_target.items():\n",
    "    prismatic_doors = set()\n",
    "    for mesh in object_list[\"meshes\"]:\n",
    "        pn = parse_name(mesh)\n",
    "        if pn.group(\"category\") == \"door\" and pn.group(\"joint_type\") == \"P\":\n",
    "            prismatic_doors.add(pn.group(\"model_id\"))\n",
    "        \n",
    "    if prismatic_doors:\n",
    "        print(f\"Target: {target}\")\n",
    "        for door in prismatic_doors:\n",
    "            print(f\"  - {door}\")"
   ]
  },
  {
   "cell_type": "code",
   "execution_count": null,
   "metadata": {},
   "outputs": [],
   "source": []
  }
 ],
 "metadata": {
  "kernelspec": {
   "display_name": "Python 3",
   "language": "python",
   "name": "python3"
  },
  "language_info": {
   "codemirror_mode": {
    "name": "ipython",
    "version": 3
   },
   "file_extension": ".py",
   "mimetype": "text/x-python",
   "name": "python",
   "nbconvert_exporter": "python",
   "pygments_lexer": "ipython3",
   "version": "3.10.0"
  }
 },
 "nbformat": 4,
 "nbformat_minor": 2
}
