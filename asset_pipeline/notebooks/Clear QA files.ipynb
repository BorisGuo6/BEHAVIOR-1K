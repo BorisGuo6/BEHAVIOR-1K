{
 "cells": [
  {
   "cell_type": "code",
   "execution_count": 7,
   "metadata": {},
   "outputs": [],
   "source": [
    "with open(r\"D:\\ig_pipeline\\todo-manual.txt\") as f:\n",
    "    todo = {x.strip() for x in f}"
   ]
  },
  {
   "cell_type": "code",
   "execution_count": 8,
   "metadata": {},
   "outputs": [
    {
     "name": "stdout",
     "output_type": "stream",
     "text": [
      "Deleting D:\\ig_pipeline\\qa-merged\\walls\\crydgh.json\n",
      "Deleting D:\\ig_pipeline\\qa-merged\\walls\\galkwn.json\n",
      "Deleting D:\\ig_pipeline\\qa-merged\\walls\\gfyaka.json\n",
      "Deleting D:\\ig_pipeline\\qa-merged\\walls\\gkyims.json\n",
      "Deleting D:\\ig_pipeline\\qa-merged\\walls\\gvpsby.json\n",
      "Deleting D:\\ig_pipeline\\qa-merged\\walls\\hltkbe.json\n",
      "Deleting D:\\ig_pipeline\\qa-merged\\walls\\ixwdkv.json\n",
      "Deleting D:\\ig_pipeline\\qa-merged\\walls\\nlhetj.json\n",
      "Deleting D:\\ig_pipeline\\qa-merged\\walls\\oubyzg.json\n",
      "Deleting D:\\ig_pipeline\\qa-merged\\walls\\ovzcgo.json\n",
      "Deleting D:\\ig_pipeline\\qa-merged\\walls\\pirsax.json\n"
     ]
    }
   ],
   "source": [
    "import pathlib\n",
    "for fn in pathlib.Path(r\"D:\\ig_pipeline\\qa-merged\").glob(\"*/*.json\"):\n",
    "    if fn.stem in todo:\n",
    "        print(\"Deleting \" + str(fn))\n",
    "        fn.unlink()"
   ]
  },
  {
   "cell_type": "code",
   "execution_count": null,
   "metadata": {},
   "outputs": [],
   "source": []
  }
 ],
 "metadata": {
  "kernelspec": {
   "display_name": "omnigibson",
   "language": "python",
   "name": "python3"
  },
  "language_info": {
   "codemirror_mode": {
    "name": "ipython",
    "version": 3
   },
   "file_extension": ".py",
   "mimetype": "text/x-python",
   "name": "python",
   "nbconvert_exporter": "python",
   "pygments_lexer": "ipython3",
   "version": "3.10.0"
  }
 },
 "nbformat": 4,
 "nbformat_minor": 2
}
