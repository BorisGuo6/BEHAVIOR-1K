{
 "cells": [
  {
   "cell_type": "code",
   "execution_count": 1,
   "metadata": {},
   "outputs": [],
   "source": [
    "import trimesh\n",
    "import sys\n",
    "sys.path.append(\"/scr/ig_pipeline/\")\n",
    "import b1k_pipeline.utils"
   ]
  },
  {
   "cell_type": "code",
   "execution_count": 8,
   "metadata": {},
   "outputs": [],
   "source": [
    "import tqdm\n",
    "\n",
    "objects_fs = b1k_pipeline.utils.ParallelZipFS(\"objects.zip\")\n",
    "surface_areas = {}\n",
    "obj_files = [x.path for x in objects_fs.glob(\"objects/*/*/shape/visual/*.obj\")]"
   ]
  },
  {
   "cell_type": "code",
   "execution_count": 9,
   "metadata": {},
   "outputs": [
    {
     "name": "stderr",
     "output_type": "stream",
     "text": [
      "100%|██████████| 9032/9032 [07:39<00:00, 19.67it/s]  \n"
     ]
    }
   ],
   "source": [
    "for obj_file in tqdm.tqdm(obj_files):\n",
    "    obj = b1k_pipeline.utils.load_mesh(objects_fs, obj_file, load_texture=False)\n",
    "    surface_areas[obj_file] = obj.area"
   ]
  },
  {
   "cell_type": "code",
   "execution_count": 23,
   "metadata": {},
   "outputs": [],
   "source": [
    "# Disregard floors for now\n",
    "interesting_surface_areas = {k: v for k, v in surface_areas.items() if \"objects/floors\" not in k and \"objects/walls\" not in k and \"objects/ceilings\" not in k and \"objects/driveway\" not in k and \"objects/lawn\" not in k and \"objects/background\" not in k and \"objects/roof\" not in k and \"objects/swimming_pool\" not in k}"
   ]
  },
  {
   "cell_type": "code",
   "execution_count": 10,
   "metadata": {},
   "outputs": [],
   "source": [
    "import matplotlib.pyplot as plt"
   ]
  },
  {
   "cell_type": "code",
   "execution_count": 31,
   "metadata": {},
   "outputs": [
    {
     "data": {
      "image/png": "[encoded data removed]",
      "text/plain": [
       "<Figure size 640x480 with 1 Axes>"
      ]
     },
     "metadata": {},
     "output_type": "display_data"
    }
   ],
   "source": [
    "import numpy as np\n",
    "data = np.array(list(interesting_surface_areas.values()))\n",
    "plt.hist(np.log(data) / np.log(10), bins=20)\n",
    "plt.show()"
   ]
  },
  {
   "cell_type": "code",
   "execution_count": 29,
   "metadata": {},
   "outputs": [
    {
     "data": {
      "text/plain": [
       "[('/objects/bottle_of_lemon_juice/vsjter/shape/visual/bottle_of_lemon_juice-vsjter-cap.obj',\n",
       "  1.260206229132992e-06),\n",
       " ('/objects/ginger/eoikjc/shape/visual/ginger-eoikjc-base_link.obj',\n",
       "  3.0416128829745755e-06),\n",
       " ('/objects/flour/xmctdk/shape/visual/flour-xmctdk-base_link.obj',\n",
       "  3.0416128829745755e-06),\n",
       " ('/objects/mustard_seasoning/wsjhrf/shape/visual/mustard_seasoning-wsjhrf-base_link.obj',\n",
       "  3.0416128829745755e-06),\n",
       " ('/objects/pumpkin_pie_spice/ccevus/shape/visual/pumpkin_pie_spice-ccevus-base_link.obj',\n",
       "  3.0416128829745755e-06),\n",
       " ('/objects/cocoa_powder/ymkwck/shape/visual/cocoa_powder-ymkwck-base_link.obj',\n",
       "  3.0416128829745755e-06),\n",
       " ('/objects/soil/kkrybm/shape/visual/soil-kkrybm-base_link.obj',\n",
       "  3.0416128829745755e-06),\n",
       " ('/objects/soil/nwgosx/shape/visual/soil-nwgosx-base_link.obj',\n",
       "  3.0416128829745755e-06),\n",
       " ('/objects/cinnamon/vpxzao/shape/visual/cinnamon-vpxzao-base_link.obj',\n",
       "  3.0416128829745755e-06),\n",
       " ('/objects/onion_powder/vqzdvn/shape/visual/onion_powder-vqzdvn-base_link.obj',\n",
       "  3.0416128829745755e-06),\n",
       " ('/objects/jerk_seasoning/wbrorj/shape/visual/jerk_seasoning-wbrorj-base_link.obj',\n",
       "  3.0416128829745755e-06),\n",
       " ('/objects/yeast/yzhnqh/shape/visual/yeast-yzhnqh-base_link.obj',\n",
       "  3.0416128829745755e-06),\n",
       " ('/objects/baking_powder/fpjztb/shape/visual/baking_powder-fpjztb-base_link.obj',\n",
       "  3.0416128829745755e-06),\n",
       " ('/objects/cream_of_tartar/uhlwos/shape/visual/cream_of_tartar-uhlwos-base_link.obj',\n",
       "  3.0416128829745755e-06),\n",
       " ('/objects/ash/wrfges/shape/visual/ash-wrfges-base_link.obj',\n",
       "  3.0416128829745755e-06),\n",
       " ('/objects/ash/jgnpik/shape/visual/ash-jgnpik-base_link.obj',\n",
       "  3.0416128829745755e-06),\n",
       " ('/objects/allspice/wbrxkc/shape/visual/allspice-wbrxkc-base_link.obj',\n",
       "  3.0416128829745755e-06),\n",
       " ('/objects/sugar_coffee_scrub/mzycjm/shape/visual/sugar_coffee_scrub-mzycjm-base_link.obj',\n",
       "  3.0416128829745755e-06),\n",
       " ('/objects/cake_mix/mckbdi/shape/visual/cake_mix-mckbdi-base_link.obj',\n",
       "  3.0416128829745755e-06),\n",
       " ('/objects/cayenne/dvykwn/shape/visual/cayenne-dvykwn-base_link.obj',\n",
       "  3.0416128829745755e-06)]"
      ]
     },
     "execution_count": 29,
     "metadata": {},
     "output_type": "execute_result"
    }
   ],
   "source": [
    "[x for x in sorted(interesting_surface_areas.items(), key=lambda x: x[1], reverse=False)][:20]"
   ]
  },
  {
   "cell_type": "code",
   "execution_count": null,
   "metadata": {},
   "outputs": [],
   "source": []
  }
 ],
 "metadata": {
  "kernelspec": {
   "display_name": "pipeline",
   "language": "python",
   "name": "python3"
  },
  "language_info": {
   "codemirror_mode": {
    "name": "ipython",
    "version": 3
   },
   "file_extension": ".py",
   "mimetype": "text/x-python",
   "name": "python",
   "nbconvert_exporter": "python",
   "pygments_lexer": "ipython3",
   "version": "3.8.0"
  },
  "orig_nbformat": 4
 },
 "nbformat": 4,
 "nbformat_minor": 2
}
