{
 "cells": [
  {
   "cell_type": "markdown",
   "metadata": {},
   "source": [
    "# Missing Meta Link Analysis"
   ]
  },
  {
   "cell_type": "code",
   "execution_count": 1,
   "metadata": {},
   "outputs": [
    {
     "name": "stderr",
     "output_type": "stream",
     "text": [
      "Loading BDDL knowledge base... This may take a few seconds.\n",
      "[nltk_data] Downloading package wordnet to /home/cgokmen/nltk_data...\n",
      "[nltk_data]   Package wordnet is already up-to-date!\n"
     ]
    }
   ],
   "source": [
    "from bddl.knowledge_base import *"
   ]
  },
  {
   "cell_type": "markdown",
   "metadata": {},
   "source": [
    "## Analysis by Object"
   ]
  },
  {
   "cell_type": "code",
   "execution_count": 2,
   "metadata": {},
   "outputs": [],
   "source": [
    "objects_w_missing_metadata = {o: o.missing_meta_links for o in Object.all_objects() if o.missing_meta_links}"
   ]
  },
  {
   "cell_type": "code",
   "execution_count": 3,
   "metadata": {},
   "outputs": [
    {
     "data": {
      "text/plain": [
       "457"
      ]
     },
     "execution_count": 3,
     "metadata": {},
     "output_type": "execute_result"
    }
   ],
   "source": [
    "len(objects_w_missing_metadata)"
   ]
  },
  {
   "cell_type": "code",
   "execution_count": 4,
   "metadata": {},
   "outputs": [
    {
     "name": "stdout",
     "output_type": "stream",
     "text": [
      "[('subpart', 290), ('fillable', 167)]\n"
     ]
    }
   ],
   "source": [
    "import collections\n",
    "by_type = collections.Counter(mt for missing_types in objects_w_missing_metadata.values() for mt in missing_types)\n",
    "print(by_type.most_common())"
   ]
  },
  {
   "cell_type": "markdown",
   "metadata": {},
   "source": [
    "### Split by provider for work"
   ]
  },
  {
   "cell_type": "code",
   "execution_count": 5,
   "metadata": {},
   "outputs": [],
   "source": [
    "todo = {\"togglebutton\", \"slicer\", \"heatsource\", \"fluidsource\", \"fluidsink\"}\n",
    "by_provider = collections.defaultdict(dict)\n",
    "for o, mts in objects_w_missing_metadata.items():\n",
    "    required_mts = todo.intersection(mts)\n",
    "    if not required_mts:\n",
    "        continue\n",
    "\n",
    "    by_provider[o.provider][o.name] = required_mts\n",
    "\n",
    "for provider, objects in sorted(by_provider.items()):\n",
    "    print(provider)\n",
    "    for name, mts in objects.items():\n",
    "        print(f\"  {name}: {mts}\")\n",
    "    print()"
   ]
  },
  {
   "cell_type": "markdown",
   "metadata": {},
   "source": [
    "## Analysis by Synset"
   ]
  },
  {
   "cell_type": "code",
   "execution_count": 6,
   "metadata": {},
   "outputs": [
    {
     "name": "stdout",
     "output_type": "stream",
     "text": [
      "402\n"
     ]
    }
   ],
   "source": [
    "synsets_w_missing_metadata = [s for s in Synset.all_objects() if not s.has_fully_supporting_object]\n",
    "print(len(synsets_w_missing_metadata))"
   ]
  },
  {
   "cell_type": "code",
   "execution_count": 7,
   "metadata": {},
   "outputs": [
    {
     "name": "stdout",
     "output_type": "stream",
     "text": [
      "34\n",
      "[Synset(name='ashtray.n.01'), Synset(name='bag.n.04'), Synset(name='barbecue_sauce__bottle.n.01'), Synset(name='barrow.n.03'), Synset(name='bath_towel.n.01'), Synset(name='beer_barrel.n.01'), Synset(name='bird_feeder.n.01'), Synset(name='catsup__bottle.n.01'), Synset(name='chocolate_sauce__bottle.n.01'), Synset(name='compost_bin.n.01'), Synset(name='cookie_sheet.n.01'), Synset(name='copper_pot.n.01'), Synset(name='glaze__bottle.n.01'), Synset(name='hot_sauce__bottle.n.01'), Synset(name='litter_box.n.01'), Synset(name='mixing_bowl.n.01'), Synset(name='mustard__bottle.n.01'), Synset(name='napkin.n.01'), Synset(name='person.n.01'), Synset(name='punching_bag.n.02'), Synset(name='sack.n.01'), Synset(name='salsa__bottle.n.01'), Synset(name='saucepan.n.01'), Synset(name='soy_sauce__bottle.n.01'), Synset(name='sugar_syrup__bottle.n.01'), Synset(name='sweater.n.01'), Synset(name='table_linen.n.01'), Synset(name='tissue.n.02'), Synset(name='towel.n.01'), Synset(name='underwear.n.01'), Synset(name='vanilla__bottle.n.01'), Synset(name='waffle_iron.n.01'), Synset(name='white_sauce__bottle.n.01'), Synset(name='wine_sauce__bottle.n.01')]\n"
     ]
    }
   ],
   "source": [
    "tr_synsets_w_missing_metadata = [s for s in Synset.all_objects() if len(s.tasks) > 0 and not s.has_fully_supporting_object]\n",
    "print(len(tr_synsets_w_missing_metadata))\n",
    "print(tr_synsets_w_missing_metadata)"
   ]
  },
  {
   "cell_type": "code",
   "execution_count": 8,
   "metadata": {},
   "outputs": [
    {
     "name": "stdout",
     "output_type": "stream",
     "text": [
      "0 missing subpart annotation despite having sliceable part\n",
      "\n",
      "\n",
      "0 missing half objs\n",
      "[]\n"
     ]
    }
   ],
   "source": [
    "# Check if any sliceable task relevant synsets are bad\n",
    "def get_sliced(s):\n",
    "  return Synset.get(\"half__\" + s.name.split(\".n.\")[0] + \".n.01\")\n",
    "\n",
    "transition_relevant_synsets = {\n",
    "  s\n",
    "  for t in Task.all_objects()\n",
    "  for transition in t.relevant_transitions\n",
    "  for s in list(transition.output_synsets) + list(transition.input_synsets)\n",
    "}\n",
    "\n",
    "sliceable_tr_synsets_w_missing_metadata = [\n",
    "  (s, get_sliced(s)) for s in Synset.all_objects()\n",
    "  if (\n",
    "    any(p.name == \"sliceable\" for p in s.properties) and\n",
    "    not any(ml.name == \"subpart\" for o in s.matching_objects for ml in o.meta_links)) and\n",
    "    (len(get_sliced(s).tasks) > 0 or s in transition_relevant_synsets)]\n",
    "print(len(sliceable_tr_synsets_w_missing_metadata), \"missing subpart annotation despite having sliceable part\")\n",
    "print(\"\\n\".join(f\"{s.name} -> {sliced.name}\" for s, sliced in sliceable_tr_synsets_w_missing_metadata))\n",
    "print()\n",
    "missing_half_objs = [sliced for s, sliced in sliceable_tr_synsets_w_missing_metadata if len(sliced.matching_objects) == 0]\n",
    "print(len(missing_half_objs), \"missing half objs\")\n",
    "print(missing_half_objs)"
   ]
  },
  {
   "cell_type": "code",
   "execution_count": 9,
   "metadata": {},
   "outputs": [
    {
     "name": "stdout",
     "output_type": "stream",
     "text": [
      "make_seafood_stew-0 fish_stew <bddl.knowledge_base.orm.ManyToMany object at 0x7f653886cc40> <bddl.knowledge_base.orm.ManyToMany object at 0x7f653886ccd0>\n"
     ]
    }
   ],
   "source": [
    "clam = Synset.get(\"clam.n.03\")\n",
    "for task in Task.all_objects():\n",
    "  for transition in task.relevant_transitions:\n",
    "    if clam in transition.input_synsets or clam in transition.output_synsets:\n",
    "      print(task.name, transition.name, transition.input_synsets, transition.output_synsets)"
   ]
  },
  {
   "cell_type": "code",
   "execution_count": 10,
   "metadata": {},
   "outputs": [
    {
     "name": "stdout",
     "output_type": "stream",
     "text": [
      "0 missing subpart annotation despite having sliceable part\n",
      "\n",
      "\n",
      "0 missing half objs\n",
      "[]\n"
     ]
    }
   ],
   "source": [
    "# Check if any sliceable task relevant synsets are bad\n",
    "sliceable_synsets_w_missing_metadata = [\n",
    "  (s, get_sliced(s)) for s in Synset.all_objects()\n",
    "  if (\n",
    "    any(p.name == \"sliceable\" for p in s.properties) and\n",
    "    len(s.matching_objects) > 0 and\n",
    "    not any(ml.name == \"subpart\" for o in s.matching_objects for ml in o.meta_links))\n",
    "]\n",
    "print(len(sliceable_synsets_w_missing_metadata), \"missing subpart annotation despite having sliceable part\")\n",
    "print(\"\\n\".join(f\"{s.name} -> {sliced.name}\" for s, sliced in sliceable_synsets_w_missing_metadata))\n",
    "print()\n",
    "missing_half_objs = [sliced for s, sliced in sliceable_synsets_w_missing_metadata if len(sliced.matching_objects) == 0]\n",
    "print(len(missing_half_objs), \"missing half objs\")\n",
    "print(missing_half_objs)"
   ]
  },
  {
   "cell_type": "code",
   "execution_count": 11,
   "metadata": {},
   "outputs": [
    {
     "name": "stdout",
     "output_type": "stream",
     "text": [
      "622\n",
      "['ashtray-dhkkfo', 'ashtray-nfuxzd', 'baking_powder_jar-lgopij', 'baking_sheet-yhurut', 'barbecue_sauce_bottle-gfxrnj', 'basil_jar-swytaw', 'beaker-dtjmai', 'beaker-effbnc', 'beaker-exzsal', 'beaker-fxrsyi', 'beaker-fyrkzs', 'beaker-jdijek', 'beaker-qwoqqr', 'beaker-rhohgs', 'beaker-sfvswx', 'beaker-sstojv', 'beaker-uobdoq', 'beaker-uzgibd', 'beaker-zycgen', 'beef_broth_carton-ecqxgd', 'beer_bottle-nigfha', 'beer_glass-lymciz', 'beer_glass-mxsliu', 'beer_glass-rxscji', 'beer_keg-xtqbuf', 'bird_feed_bag-dpxnlc', 'bird_feeder-hvlkjx', 'blender-cwkvib', 'blender-dhfqid', 'blender-eyedvd', 'blender-xnjqix', 'bowl-adciys', 'bowl-ajzltc', 'bowl-aspeds', 'bowl-belcml', 'bowl-bexgtn', 'bowl-bnobdx', 'bowl-byzaxy', 'bowl-ckxwea', 'bowl-cypjlv', 'bowl-dalyim', 'bowl-eawgwj', 'bowl-eipwho', 'bowl-fedafr', 'bowl-feuaak', 'bowl-fiarri', 'bowl-fwdfeg', 'bowl-hitnkv', 'bowl-hpqjug', 'bowl-hynhgz', 'bowl-jblalf', 'bowl-jfvjep', 'bowl-jhtxxh', 'bowl-jpvcjv', 'bowl-kasebx', 'bowl-kdkrov', 'bowl-kthvrl', 'bowl-lgaxzt', 'bowl-mspdar', 'bowl-nkkhbn', 'bowl-npuuir', 'bowl-oyidja', 'bowl-pihjqa', 'bowl-qzodht', 'bowl-rbnyxi', 'bowl-rlwpcd', 'bowl-sqqahm', 'bowl-szgdpc', 'bowl-tvtive', 'bowl-tyczoo', 'bowl-vccsrl', 'bowl-wryghu', 'bowl-wtepsx', 'bowl-xplzbo', 'bowl-xpnlup', 'brown_rice_sack-pbvpua', 'brown_sugar_sack-uftzyo', 'bucket-bdhvnt', 'bucket-lsmlzi', 'bucket-wlilma', 'butter_package-qixpto', 'can-gqwnfv', 'can-xcppkc', 'canteen-ouhqnw', 'canteen-ttxunv', 'carafe-hdbsog', 'carafe-mdtkkv', 'carafe-ocjcgp', 'carton-causya', 'carton-cdmmwy', 'carton-hhlmbi', 'carton-libote', 'carton-msfzpz', 'carton-sxlklf', 'carton-uartvl', 'carton-ylrxhe', 'casserole-mmbavt', 'casserole-ncbsee', 'cast-heuzgu', 'cat_food_tin-rclizj', 'catsup_bottle-qfvqfm', 'cauldron-lbcxwi', 'cauldron-zndohl', 'chalice-sfkezf', 'chia_seed_bag-xkixrg', 'chicken_broth_carton-ztripg', 'chicken_soup_carton-ooyqcr', 'chickpea_can-jeqtzg', 'china-cvdbum', 'china-gklybu', 'china-hacehh', 'china-jwxbpa', 'china-qhnpmc', 'china-qlxhhh', 'chlorine_bottle-uzkxtz', 'chocolate_sauce_bottle-yegrkf', 'cleansing_bottle-nsxhvs', 'cleansing_bottle-ovjhuf', 'clove_jar-cqdioi', 'cocktail_glass-xevdnl', 'cocoa_box-kxwgoo', 'cocoa_powder_box-cjmtvq', 'coconut_oil_jar-phimqa', 'coffee_bean_jar-loduxu', 'coffee_cup-ckkwmj', 'coffee_cup-dkxddg', 'coffee_cup-fgizgn', 'coffee_cup-ibhhfj', 'coffee_cup-nbhcgu', 'coffee_cup-nhzrei', 'coffee_cup-rixzrk', 'coffee_cup-rypdvd', 'coffee_cup-siksnl', 'coffee_cup-skamgp', 'coffee_cup-xjdyon', 'coffee_cup-ykuftq', 'cola_bottle-oyqdtz', 'compost_bin-fvkdos', 'cooking_oil_bottle-cfdond', 'copper_pot-gqemcq', 'cornstarch_jar-dhseui', 'cream_carton-lfjmos', 'cream_cheese_box-hfclfn', 'crock_pot-lspxjq', 'crock_pot-xdahvv', 'decanter-ofasfw', 'detergent_bottle-yufawg', 'disinfectant_bottle-ifqdxn', 'dog_food_can-vxxcvg', 'drip_pot-xmxvml', 'electric_cauldron-qmdgct', 'electric_kettle-hkdsla', 'electric_mixer-ceaeqf', 'electric_mixer-qornxa', 'erlenmeyer_flask-bpwjxr', 'erlenmeyer_flask-iwwpsf', 'fabric_softener_bottle-uyixwc', 'feta_box-qxnzpx', 'floor_wax_bottle-fzhcdb', 'flour_sack-zhsjcs', 'food_processor-gamkbo', 'fragrance_decanter-ngcvaw', 'frosting_jar-ztyxyi', 'frying_pan-aewpzn', 'frying_pan-cprjvq', 'frying_pan-hzspwg', 'frying_pan-jpzusm', 'frying_pan-mhndon', 'frying_pan-sfbdjn', 'frying_pan-snvhlz', 'frying_pan-vycozd', 'fuel_can-bfaqfe', 'gelatin_box-oxknkz', 'glaze_bottle-zdxagk', 'goblet-nawrfs', 'graduated_cylinder-egpkea', 'granola_box-yzeuqo', 'granulated_sugar_jar-qwthua', 'granulated_sugar_sack-oywwzz', 'grated_cheese_sack-fxnjfr', 'gravy_boat-arryyl', 'gravy_boat-krgqwl', 'ground_beef_package-lwsgzd', 'herbicide_bottle-aeslmf', 'honey_jar-dhgtvg', 'hot_sauce_bottle-qvpthd', 'hot_tub-nuzkuf', 'hot_tub-wbnkfk', 'hummus_box-jvnqly', 'hydrogen_peroxide_bottle-luhnej', 'ice_bucket-vlurir', 'ice_cream_carton-lulzdz', 'ink_bottle-gcyvrx', 'instant_coffee_jar-ycgxwb', 'instant_pot-lkbvad', 'instant_pot-wengzf', 'jar-acsllv', 'jar-bnrvcs', 'jar-bpxhso', 'jar-bqpmsv', 'jar-busiti', 'jar-crlhmi', 'jar-dlvall', 'jar-gejwoi', 'jar-gkakwk', 'jar-gqtsam', 'jar-hjrnct', 'jar-ifgcmr', 'jar-iuydyz', 'jar-jdwvyt', 'jar-jnjtrl', 'jar-kfzxah', 'jar-kijnrj', 'jar-lvuvbf', 'jar-mefezc', 'jar-miivhi', 'jar-mlnuza', 'jar-mxhrcl', 'jar-ociqav', 'jar-pjaljg', 'jar-qdnmwg', 'jar-sjwgfn', 'jar-vxqpnm', 'jar-vyfehw', 'jar-waousd', 'jar-wcqjew', 'jar-zdeyzf', 'jelly_bean_jar-nftsal', 'jelly_jar-lrjoro', 'jigger-aysfhf', 'jimmies_jar-oqyoos', 'jug-gjgwvi', 'jug-hjjeeh', 'jug-llexze', 'jug-pvxfot', 'jug-quzmfw', 'kettle-bzisss', 'kettle-vjbldp', 'lemon_juice_bottle-qsdqik', 'lemonade_bottle-yprkek', 'lime_juice_bottle-bnekjp', 'liquid_carton-rsvypp', 'liquid_carton-ykfkyq', 'liquid_soap_bottle-hazvbh', 'litter_box-rwnakn', 'lubricant_bottle-omknho', 'lunch_box-adxzhe', 'maple_syrup_jar-wigtue', 'margarine_box-owqbsb', 'marinara_jar-cydfkt', 'measuring_cup-ahtzhp', 'milk_carton-icvmix', 'mixing_bowl-bsgybx', 'mixing_bowl-deudkt', 'mixing_bowl-xifive', 'mop_bucket-xjzyfc', 'mug-dhnxww', 'mug-ehnmxj', 'mug-fapsrj', 'mug-jgethp', 'mug-kewbyf', 'mug-kitxam', 'mug-lgxhsc', 'mug-ntgftr', 'mug-ppdqbj', 'mug-ppzttc', 'mug-waqrdy', 'mug-yiamah', 'mug-yxaapv', 'mulch_bag-zsrpiu', 'mustard_bottle-lgxfyv', 'noodle_jar-tmjxno', 'oat_box-xdhysb', 'oden_cooker-fjpams', 'oil_bottle-gcixra', 'oil_bottle-yoxfyu', 'olive_oil_bottle-zfvhus', 'orange_juice_carton-jjlfla', 'paper_bag-bzsxgw', 'paper_bag-ruryqd', 'paper_bag-wvhmww', 'paper_cup-guobeq', 'pasta_box-jaypjo', 'peanut_butter_jar-xdxqxj', 'pellet_food_bag-jgyqpd', 'petfood_bag-fhfqys', 'petri_dish-vbiqcq', 'petri_dish-xfqatj', 'pill_bottle-csvdbe', 'pill_bottle-wsasmm', 'pineapple_juice_carton-barzwx', 'pitcher-ankfvi', 'pitcher-bbewjo', 'pitcher-mbrlge', 'pitcher-ompiss', 'pitcher-tsyims', 'pitcher-tzbnmh', 'pitcher-wmkwhg', 'plant_pot-ihnfbi', 'plant_pot-skbcqq', 'plant_pot-vhglly', 'plant_pot-ygrtaz', 'plate-aewthq', 'plate-akfjxx', 'plate-amhlqh', 'plate-aynjhg', 'plate-bgxzec', 'plate-dbprwc', 'plate-dnqekb', 'plate-efkgcw', 'plate-eixyyn', 'plate-eozsdg', 'plate-fhdyrj', 'plate-fkpaie', 'plate-haewxp', 'plate-iawoof', 'plate-ihrjrb', 'plate-itoeew', 'plate-ivbrtz', 'plate-ivuveo', 'plate-iwfvwf', 'plate-kkjiko', 'plate-kkmkbd', 'plate-ksgizx', 'plate-lixwwc', 'plate-lkomhp', 'plate-luhkiz', 'plate-molqhs', 'plate-mtetqm', 'plate-nbuspz', 'plate-nhodax', 'plate-nikfgd', 'plate-nmhxfz', 'plate-nrjump', 'plate-ntedfx', 'plate-odmjdd', 'plate-pjinwe', 'plate-pkkgzc', 'plate-pyilfa', 'plate-qbxfmv', 'plate-qtfzeq', 'plate-qyuyjr', 'plate-spppps', 'plate-tgrsui', 'plate-uakqei', 'plate-ujodgo', 'plate-uumkbl', 'plate-vitdwc', 'plate-vjqzwa', 'plate-vtjwof', 'plate-wgcgia', 'plate-wqgndf', 'plate-xfjmld', 'plate-xtdcau', 'plate-ypdfrp', 'plate-zpddxu', 'platter-csanbr', 'platter-ekjpdj', 'platter-hnlivs', 'platter-iadlti', 'platter-ieoasd', 'platter-kiiamx', 'polish_bottle-hldhxl', 'popcorn_bag-hdcpqg', 'pressure_cooker-otyngn', 'pumpkin_seed_bag-wyojnz', 'punching_bag-svkdji', 'raisin_box-yowyst', 'reagent_bottle-tnjpsf', 'reagent_bottle-trtrsl', 'reagent_bottle-uaijua', 'reagent_bottle-ukayce', 'reagent_bottle-xstykf', 'recycling_bin-duugbb', 'recycling_bin-nuoypc', 'refried_beans_can-dafdgk', 'round_bottom_flask-fjytro', 'round_bottom_flask-hmzafz', 'round_bottom_flask-injdmj', 'round_bottom_flask-tqyiso', 'rum_bottle-ueagnt', 'saddle_soap_bottle-ugqdao', 'salad_bowl-dhdhul', 'salsa_bottle-kydilb', 'salt_bottle-wdpcmk', 'saucepan-fsinsu', 'saucepot-chjetk', 'saucepot-fbfmwt', 'saucepot-kvgaar', 'saucepot-obuxbe', 'saucepot-ozrwwk', 'saucepot-pkfydm', 'saucepot-sthkfz', 'saucepot-tfzijn', 'saucepot-urqzec', 'saucepot-uvzmss', 'saucepot-vqtkwq', 'saucepot-wfryvm', 'saucer-cjsbft', 'saucer-mgbeah', 'saucer-oxivmf', 'saucer-szzjzd', 'saucer-vghfkh', 'sesame_oil_bottle-bupgpj', 'shampoo_bottle-tukaoq', 'shopping_basket-nedrsh', 'shopping_basket-vsxhsv', 'shortening_carton-gswpdr', 'soap_bottle-hamffy', 'soda_can-xbkwbi', 'soda_cup-fsfsas', 'soda_cup-gnzegv', 'soda_cup-lpanoc', 'soda_cup-vicaqs', 'soda_water_bottle-upfssc', 'sodium_carbonate_jar-vxtjjn', 'soil_bag-gzcqwx', 'solvent_bottle-nbctrk', 'soy_sauce_bottle-saujjl', 'specimen_bottle-vlplhs', 'stockpot-azoiaq', 'stockpot-dcleem', 'stockpot-fuzmdd', 'stockpot-grrcna', 'stockpot-gxiqbw', 'stockpot-lfnbhc', 'stockpot-oshwps', 'stockpot-yvhmex', 'sugar_sack-xixblr', 'sugar_syrup_bottle-kdlbbq', 'sunflower_seed_bag-dhwlaw', 'swimming_pool-kohria', 'swimming_pool-qjhauf', 'swimming_pool-sbvksi', 'swimming_pool-vnvmkx', 'tank-bsdexp', 'teacup-cpozxi', 'teacup-kccqwj', 'teacup-oxfzfe', 'teacup-tfzfam', 'teacup-vckahe', 'teacup-wopjex', 'teacup-zdvgol', 'teapot-foaehs', 'teapot-jlalfc', 'teapot-mvrhya', 'test_tube-apybok', 'test_tube-iejmzf', 'test_tube-qwtyqj', 'test_tube-tgodzn', 'test_tube-vnmcfg', 'test_tube-ykvekt', 'toilet_soap_bottle-iyrrna', 'tomato_paste_can-krarex', 'tomato_sauce_jar-krfzqk', 'trash_can-aefcem', 'trash_can-cdzyew', 'trash_can-cjmezk', 'trash_can-djgllo', 'trash_can-dnvpag', 'trash_can-eahqyq', 'trash_can-fkosow', 'trash_can-gilsji', 'trash_can-glzckq', 'trash_can-gsgutn', 'trash_can-gvnfgj', 'trash_can-gxajos', 'trash_can-hqdnjz', 'trash_can-hxsyxo', 'trash_can-ifzxzj', 'trash_can-jlawet', 'trash_can-leazin', 'trash_can-mcukuh', 'trash_can-mdojox', 'trash_can-pdmzhv', 'trash_can-rbqckd', 'trash_can-rteihy', 'trash_can-uknjdm', 'trash_can-vasiit', 'trash_can-wklill', 'trash_can-wkxtxh', 'trash_can-xkqkbf', 'trash_can-zotrbg', 'tray-avotsj', 'tray-coqeme', 'tray-glwebh', 'tray-gsxbym', 'tray-hbjdlb', 'tray-hjxczh', 'tray-huwhjg', 'tray-hvlfig', 'tray-iaaiyi', 'tray-incirm', 'tray-jpcflq', 'tray-mhhoga', 'tray-mkdcha', 'tray-mmegts', 'tray-spopfj', 'tray-thkphg', 'tray-tkgsho', 'tray-txcjux', 'tray-uekqey', 'tray-vxbtax', 'tray-wbwmcs', 'tray-xzcnjq', 'tray-yqtlhy', 'tray-zcmnji', 'tray-zsddtq', 'tupperware-mkstwr', 'vanilla_bottle-drevku', 'vase-aegxpb', 'vase-atgnsc', 'vase-bbduix', 'vase-bedkqu', 'vase-cvyops', 'vase-dfjcsi', 'vase-dwspgo', 'vase-dxnzuk', 'vase-eqhgiy', 'vase-euqzpy', 'vase-gopbrh', 'vase-hkwtnf', 'vase-hliauj', 'vase-htyvuz', 'vase-icpews', 'vase-ipbgrw', 'vase-jdddsr', 'vase-jpwsrp', 'vase-kjeudr', 'vase-mawxva', 'vase-mdmwcs', 'vase-meetii', 'vase-nodcpg', 'vase-nuqzjs', 'vase-pqsamn', 'vase-qebiei', 'vase-rfegnv', 'vase-rfigof', 'vase-rusmlm', 'vase-rwotxo', 'vase-saenda', 'vase-sakwru', 'vase-stqkvx', 'vase-szsudo', 'vase-tjrbxv', 'vase-toreid', 'vase-twknia', 'vase-uuypot', 'vase-vmbzmm', 'vase-wltgjn', 'vase-wmuysk', 'vase-xfduug', 'vase-ysdoep', 'vase-zaziny', 'vase-zwekzu', 'vinegar_bottle-hbsbwt', 'vinegar_bottle-ykysuc', 'vodka_bottle-bojwlu', 'wading_pool-xixlzr', 'waffle_maker-yjmnej', 'washer-dobgmu', 'washer-jgyzhv', 'washer-mrgspe', 'washer-omeuop', 'washer-xusefg', 'washer-ynwamu', 'washer-zgzvcv', 'washer-ziomqg', 'water_bottle-ackxiy', 'water_bottle-lzdzkk', 'water_glass-bbpraa', 'water_glass-cdteyb', 'water_glass-edfzlt', 'water_glass-elwfms', 'water_glass-evaida', 'water_glass-ewgotr', 'water_glass-ggpnlr', 'water_glass-gypzlg', 'water_glass-igyuko', 'water_glass-imsnkt', 'water_glass-kttdbu', 'water_glass-ktuvuo', 'water_glass-kuiiai', 'water_glass-lvqgvn', 'water_glass-nfoydb', 'water_glass-onbiqg', 'water_glass-ptciim', 'water_glass-slscza', 'water_glass-szjfpb', 'water_glass-uwtdng', 'water_glass-vcwsbm', 'water_glass-wvztiw', 'water_glass-ybhepe', 'water_glass-zbridw', 'wheelbarrow-msaevo', 'whiskey_bottle-jpduev', 'white_rice_sack-xiwkwz', 'white_sauce_bottle-gtwngf', 'wine_bottle-hlzfxw', 'wine_bottle-vjdkci', 'wine_bottle-zuctnl', 'wine_sauce_bottle-vqtevv', 'wineglass-aakcyj', 'wineglass-adiwil', 'wineglass-akusda', 'wineglass-bnored', 'wineglass-bovcqx', 'wineglass-cmdagy', 'wineglass-euzudc', 'wineglass-exasdr', 'wineglass-ezsdil', 'wineglass-ggbdlq', 'wineglass-hxccge', 'wineglass-jzmrdd', 'wineglass-kxovsj', 'wineglass-oadvet', 'wineglass-ovoceo', 'wineglass-vxmzmq', 'wineglass-yfzibn', 'wok-pobfpe', 'yeast_jar-vmajcm', 'yogurt_carton-ahbhsd']\n"
     ]
    }
   ],
   "source": [
    "# What objects are fillable?\n",
    "fillable_objs = [\n",
    "  o for o in Object.all_objects()\n",
    "  if any(p.name == 'fillable' for p in o.category.synset.properties)\n",
    "]\n",
    "print(len(fillable_objs))\n",
    "print(sorted([x.name for x in fillable_objs]))"
   ]
  },
  {
   "cell_type": "code",
   "execution_count": null,
   "metadata": {},
   "outputs": [],
   "source": [
    "# Check what synsets don't have full versions\n"
   ]
  }
 ],
 "metadata": {
  "kernelspec": {
   "display_name": "Python 3 (ipykernel)",
   "language": "python",
   "name": "python3"
  },
  "language_info": {
   "codemirror_mode": {
    "name": "ipython",
    "version": 3
   },
   "file_extension": ".py",
   "mimetype": "text/x-python",
   "name": "python",
   "nbconvert_exporter": "python",
   "pygments_lexer": "ipython3",
   "version": "3.10.13"
  }
 },
 "nbformat": 4,
 "nbformat_minor": 4
}
