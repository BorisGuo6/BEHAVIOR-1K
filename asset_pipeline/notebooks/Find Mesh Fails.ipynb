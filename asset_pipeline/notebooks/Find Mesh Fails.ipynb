{
 "cells": [
  {
   "cell_type": "code",
   "execution_count": 1,
   "id": "f02dffde",
   "metadata": {},
   "outputs": [],
   "source": [
    "import sys\n",
    "sys.path.append(r\"D:\\ig_pipeline\")"
   ]
  },
  {
   "cell_type": "code",
   "execution_count": 2,
   "id": "cb6ed84c",
   "metadata": {},
   "outputs": [],
   "source": [
    "from b1k_pipeline.utils import PipelineFS, get_targets"
   ]
  },
  {
   "cell_type": "code",
   "execution_count": 3,
   "id": "88d741fb",
   "metadata": {},
   "outputs": [],
   "source": [
    "pipeline_fs = PipelineFS()"
   ]
  },
  {
   "cell_type": "code",
   "execution_count": 4,
   "id": "ad899d2a",
   "metadata": {},
   "outputs": [
    {
     "data": {
      "application/vnd.jupyter.widget-view+json": {
       "model_id": "38dafe227f354533a1089c33b800f537",
       "version_major": 2,
       "version_minor": 0
      },
      "text/plain": [
       "  0%|          | 0/1974 [00:00<?, ?it/s]"
      ]
     },
     "metadata": {},
     "output_type": "display_data"
    },
    {
     "name": "stdout",
     "output_type": "stream",
     "text": [
      "scenes/restaurant_urban missing meshes file\n"
     ]
    }
   ],
   "source": [
    "import json\n",
    "from tqdm.notebook import tqdm\n",
    "from fs.zipfs import ZipFS\n",
    "\n",
    "problematic_targets = []\n",
    "for tgt in tqdm(get_targets(\"combined\")):\n",
    "    target_fs = pipeline_fs.target_output(tgt)\n",
    "    assert target_fs.exists(\"object_list.json\")\n",
    "    mesh_list = json.loads(target_fs.readtext(\"object_list.json\"))[\"meshes\"]\n",
    "    \n",
    "    if not target_fs.exists(\"meshes.zip\"):\n",
    "        problematic_targets.append(tgt)\n",
    "        print(tgt, \"missing meshes file\")\n",
    "        continue\n",
    "        \n",
    "    missing_meshes = []\n",
    "    with target_fs.open(\"meshes.zip\", \"rb\") as zip_file, ZipFS(zip_file) as zip_fs:\n",
    "        for mesh in mesh_list:\n",
    "            if not zip_fs.exists(mesh):\n",
    "                missing_meshes.append(mesh)\n",
    "\n",
    "    if missing_meshes:\n",
    "        problematic_targets.append(tgt)"
   ]
  },
  {
   "cell_type": "code",
   "execution_count": 5,
   "id": "9c67199d",
   "metadata": {},
   "outputs": [
    {
     "data": {
      "text/plain": [
       "1"
      ]
     },
     "execution_count": 5,
     "metadata": {},
     "output_type": "execute_result"
    }
   ],
   "source": [
    "len(problematic_targets)"
   ]
  },
  {
   "cell_type": "code",
   "execution_count": 6,
   "id": "73be4d8c",
   "metadata": {},
   "outputs": [
    {
     "data": {
      "text/plain": [
       "['scenes/restaurant_urban']"
      ]
     },
     "execution_count": 6,
     "metadata": {},
     "output_type": "execute_result"
    }
   ],
   "source": [
    "problematic_targets"
   ]
  },
  {
   "cell_type": "code",
   "execution_count": 7,
   "id": "1af13c27",
   "metadata": {},
   "outputs": [
    {
     "name": "stdout",
     "output_type": "stream",
     "text": [
      "dvc repro -s -f export_meshes@scenes/restaurant_urban\n"
     ]
    }
   ],
   "source": [
    "print(\"dvc repro -s -f\", \" \".join(f\"export_meshes@{tgt}\" for tgt in problematic_targets))"
   ]
  },
  {
   "cell_type": "code",
   "execution_count": null,
   "id": "45326867",
   "metadata": {},
   "outputs": [],
   "source": []
  }
 ],
 "metadata": {
  "kernelspec": {
   "display_name": "Python 3 (ipykernel)",
   "language": "python",
   "name": "python3"
  },
  "language_info": {
   "codemirror_mode": {
    "name": "ipython",
    "version": 3
   },
   "file_extension": ".py",
   "mimetype": "text/x-python",
   "name": "python",
   "nbconvert_exporter": "python",
   "pygments_lexer": "ipython3",
   "version": "3.8.0"
  }
 },
 "nbformat": 4,
 "nbformat_minor": 5
}
