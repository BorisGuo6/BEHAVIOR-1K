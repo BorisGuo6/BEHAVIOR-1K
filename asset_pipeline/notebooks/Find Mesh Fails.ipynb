{
 "cells": [
  {
   "cell_type": "code",
   "execution_count": 18,
   "id": "f02dffde",
   "metadata": {},
   "outputs": [],
   "source": [
    "import sys\n",
    "sys.path.append(r\"D:\\ig_pipeline\")"
   ]
  },
  {
   "cell_type": "code",
   "execution_count": 19,
   "id": "cb6ed84c",
   "metadata": {},
   "outputs": [],
   "source": [
    "from b1k_pipeline.utils import PipelineFS, get_targets"
   ]
  },
  {
   "cell_type": "code",
   "execution_count": 20,
   "id": "88d741fb",
   "metadata": {},
   "outputs": [],
   "source": [
    "pipeline_fs = PipelineFS()"
   ]
  },
  {
   "cell_type": "code",
   "execution_count": null,
   "id": "ad899d2a",
   "metadata": {},
   "outputs": [
    {
     "data": {
      "application/vnd.jupyter.widget-view+json": {
       "model_id": "84c53228cfee4bfa932d70ecdae26322",
       "version_major": 2,
       "version_minor": 0
      },
      "text/plain": [
       "  0%|          | 0/1987 [00:00<?, ?it/s]"
      ]
     },
     "metadata": {},
     "output_type": "display_data"
    },
    {
     "name": "stdout",
     "output_type": "stream",
     "text": [
      "objects/valentine_wreath-ik missing meshes file\n",
      "objects/wood-we missing meshes file\n",
      "scenes/Beechwood_0_garden missing meshes file\n",
      "scenes/Merom_0_garden missing meshes file\n",
      "scenes/Pomaria_0_garden missing meshes file\n",
      "scenes/Rs_garden missing meshes file\n",
      "scenes/Wainscott_0_garden missing meshes file\n",
      "scenes/school_biology missing meshes file\n",
      "scenes/school_chemistry missing meshes file\n",
      "scenes/school_computer_lab_and_infirmary missing meshes file\n",
      "scenes/school_geography missing meshes file\n"
     ]
    }
   ],
   "source": [
    "import json\n",
    "from tqdm.notebook import tqdm\n",
    "from fs.zipfs import ZipFS\n",
    "\n",
    "problematic_targets = []\n",
    "for tgt in tqdm(get_targets(\"combined\")):\n",
    "    target_fs = pipeline_fs.target_output(tgt)\n",
    "    assert target_fs.exists(\"object_list.json\")\n",
    "    mesh_list = json.loads(target_fs.readtext(\"object_list.json\"))[\"meshes\"]\n",
    "    \n",
    "    if not target_fs.exists(\"meshes.zip\"):\n",
    "        problematic_targets.append(tgt)\n",
    "        print(tgt, \"missing meshes file\")\n",
    "        continue\n",
    "        \n",
    "    missing_meshes = []\n",
    "    with target_fs.open(\"meshes.zip\", \"rb\") as zip_file, ZipFS(zip_file) as zip_fs:\n",
    "        for mesh in mesh_list:\n",
    "            if not zip_fs.exists(mesh):\n",
    "                missing_meshes.append(mesh)\n",
    "\n",
    "    if missing_meshes:\n",
    "        problematic_targets.append(tgt)"
   ]
  },
  {
   "cell_type": "code",
   "execution_count": 22,
   "id": "9c67199d",
   "metadata": {},
   "outputs": [
    {
     "data": {
      "text/plain": [
       "13"
      ]
     },
     "execution_count": 22,
     "metadata": {},
     "output_type": "execute_result"
    }
   ],
   "source": [
    "len(problematic_targets)"
   ]
  },
  {
   "cell_type": "code",
   "execution_count": 23,
   "id": "73be4d8c",
   "metadata": {},
   "outputs": [
    {
     "data": {
      "text/plain": [
       "['objects/valentine_wreath-ik',\n",
       " 'objects/wood-we',\n",
       " 'scenes/Beechwood_0_garden',\n",
       " 'scenes/Merom_0_garden',\n",
       " 'scenes/Pomaria_0_garden',\n",
       " 'scenes/Rs_garden',\n",
       " 'scenes/Wainscott_0_garden',\n",
       " 'scenes/house_double_floor_lower',\n",
       " 'scenes/office_cubicles_right',\n",
       " 'scenes/school_biology',\n",
       " 'scenes/school_chemistry',\n",
       " 'scenes/school_computer_lab_and_infirmary',\n",
       " 'scenes/school_geography']"
      ]
     },
     "execution_count": 23,
     "metadata": {},
     "output_type": "execute_result"
    }
   ],
   "source": [
    "problematic_targets"
   ]
  },
  {
   "cell_type": "code",
   "execution_count": 24,
   "id": "1af13c27",
   "metadata": {},
   "outputs": [
    {
     "name": "stdout",
     "output_type": "stream",
     "text": [
      "dvc repro -s -f export_meshes@objects/valentine_wreath-ik export_meshes@objects/wood-we export_meshes@scenes/Beechwood_0_garden export_meshes@scenes/Merom_0_garden export_meshes@scenes/Pomaria_0_garden export_meshes@scenes/Rs_garden export_meshes@scenes/Wainscott_0_garden export_meshes@scenes/house_double_floor_lower export_meshes@scenes/office_cubicles_right export_meshes@scenes/school_biology export_meshes@scenes/school_chemistry export_meshes@scenes/school_computer_lab_and_infirmary export_meshes@scenes/school_geography\n"
     ]
    }
   ],
   "source": [
    "print(\"dvc repro -s -f\", \" \".join(f\"export_meshes@{tgt}\" for tgt in problematic_targets))"
   ]
  },
  {
   "cell_type": "code",
   "execution_count": 8,
   "id": "45326867",
   "metadata": {},
   "outputs": [
    {
     "ename": "ValueError",
     "evalue": "too many values to unpack (expected 2)",
     "output_type": "error",
     "traceback": [
      "\u001b[1;31m---------------------------------------------------------------------------\u001b[0m",
      "\u001b[1;31mValueError\u001b[0m                                Traceback (most recent call last)",
      "Input \u001b[1;32mIn [8]\u001b[0m, in \u001b[0;36m<cell line: 5>\u001b[1;34m()\u001b[0m\n\u001b[0;32m      3\u001b[0m     lock \u001b[38;5;241m=\u001b[39m yaml\u001b[38;5;241m.\u001b[39mload(f, Loader\u001b[38;5;241m=\u001b[39myaml\u001b[38;5;241m.\u001b[39mSafeLoader)\n\u001b[0;32m      4\u001b[0m ctr \u001b[38;5;241m=\u001b[39m collections\u001b[38;5;241m.\u001b[39mCounter()\n\u001b[1;32m----> 5\u001b[0m \u001b[38;5;28;01mfor\u001b[39;00m stage_name, stage \u001b[38;5;129;01min\u001b[39;00m lock[\u001b[38;5;124m\"\u001b[39m\u001b[38;5;124mstages\u001b[39m\u001b[38;5;124m\"\u001b[39m]:\n\u001b[0;32m      6\u001b[0m     \u001b[38;5;28;01mif\u001b[39;00m \u001b[38;5;129;01mnot\u001b[39;00m stage_name\u001b[38;5;241m.\u001b[39mstartswith(\u001b[38;5;124m\"\u001b[39m\u001b[38;5;124mexport_meshes@\u001b[39m\u001b[38;5;124m\"\u001b[39m):\n\u001b[0;32m      7\u001b[0m         \u001b[38;5;28;01mcontinue\u001b[39;00m\n",
      "\u001b[1;31mValueError\u001b[0m: too many values to unpack (expected 2)"
     ]
    }
   ],
   "source": [
    "import yaml, collections\n",
    "with open(r\"D:\\ig_pipeline\\dvc.lock\", \"r\") as f:\n",
    "    lock = yaml.load(f, Loader=yaml.SafeLoader)"
   ]
  },
  {
   "cell_type": "code",
   "execution_count": 9,
   "id": "ec257740",
   "metadata": {},
   "outputs": [
    {
     "name": "stdout",
     "output_type": "stream",
     "text": [
      "[(('69f298971e31f767a0e0645d8c2543cc', 21401), 1934), (('f629a4d2e54b32d291fd55550630cb79', 21402), 51)]\n"
     ]
    }
   ],
   "source": [
    "ctr = collections.Counter()\n",
    "for stage_name, stage in lock[\"stages\"].items():\n",
    "    if not stage_name.startswith(\"export_meshes@\"):\n",
    "        continue\n",
    "        \n",
    "    pyfile, = [x for x in stage[\"deps\"] if x[\"path\"].endswith(\"export_meshes.py\")]\n",
    "    md5 = pyfile[\"md5\"]\n",
    "    size = pyfile[\"size\"]\n",
    "    ctr[(md5, size)] += 1\n",
    "print(ctr.most_common())"
   ]
  },
  {
   "cell_type": "code",
   "execution_count": 17,
   "id": "a9226ab2",
   "metadata": {},
   "outputs": [
    {
     "name": "stdout",
     "output_type": "stream",
     "text": [
      "f629a4d2e54b32d291fd55550630cb79\n"
     ]
    }
   ],
   "source": [
    "import hashlib\n",
    "with open(r\"D:\\ig_pipeline\\b1k_pipeline\\max\\export_meshes.py\", \"r\") as f:\n",
    "    print(hashlib.md5(f.read().encode(\"utf-8\")).hexdigest())"
   ]
  },
  {
   "cell_type": "code",
   "execution_count": null,
   "id": "ea894bc5",
   "metadata": {},
   "outputs": [],
   "source": []
  }
 ],
 "metadata": {
  "kernelspec": {
   "display_name": "Python 3 (ipykernel)",
   "language": "python",
   "name": "python3"
  },
  "language_info": {
   "codemirror_mode": {
    "name": "ipython",
    "version": 3
   },
   "file_extension": ".py",
   "mimetype": "text/x-python",
   "name": "python",
   "nbconvert_exporter": "python",
   "pygments_lexer": "ipython3",
   "version": "3.8.0"
  }
 },
 "nbformat": 4,
 "nbformat_minor": 5
}
