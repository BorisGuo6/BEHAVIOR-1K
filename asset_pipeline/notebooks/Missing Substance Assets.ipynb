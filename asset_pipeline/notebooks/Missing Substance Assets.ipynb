{
 "cells": [
  {
   "cell_type": "code",
   "execution_count": 1,
   "id": "1a42a213",
   "metadata": {},
   "outputs": [
    {
     "name": "stderr",
     "output_type": "stream",
     "text": [
      "Loading BDDL knowledge base... This may take a few seconds.\n",
      "[nltk_data] Downloading package wordnet to /home/cgokmen/nltk_data...\n",
      "[nltk_data]   Package wordnet is already up-to-date!\n",
      "Complained object upmkjr does not exist in the database. Skipping.\n",
      "Complained object wmchsj does not exist in the database. Skipping.\n",
      "Complained object uqusgj does not exist in the database. Skipping.\n",
      "Complained object aginyz does not exist in the database. Skipping.\n",
      "Complained object fzisrr does not exist in the database. Skipping.\n",
      "Complained object pcpvvu does not exist in the database. Skipping.\n",
      "Complained object qbxmgb does not exist in the database. Skipping.\n",
      "Complained object qbxmgb does not exist in the database. Skipping.\n",
      "Complained object adimyi does not exist in the database. Skipping.\n",
      "Complained object adimyi does not exist in the database. Skipping.\n",
      "Complained object csxnnw does not exist in the database. Skipping.\n",
      "Complained object ewbqsp does not exist in the database. Skipping.\n",
      "Complained object gfgnbf does not exist in the database. Skipping.\n",
      "Complained object gfgnbf does not exist in the database. Skipping.\n",
      "Complained object nmnycd does not exist in the database. Skipping.\n",
      "Complained object qwzkxn does not exist in the database. Skipping.\n",
      "Complained object rhwsaa does not exist in the database. Skipping.\n",
      "Complained object uddigl does not exist in the database. Skipping.\n",
      "Complained object xqgwla does not exist in the database. Skipping.\n",
      "Complained object iomnix does not exist in the database. Skipping.\n",
      "Complained object iomnix does not exist in the database. Skipping.\n",
      "Complained object obvwkc does not exist in the database. Skipping.\n",
      "Complained object iiugii does not exist in the database. Skipping.\n",
      "Complained object qnciwe does not exist in the database. Skipping.\n",
      "Complained object ogzsvf does not exist in the database. Skipping.\n",
      "Complained object bjyvil does not exist in the database. Skipping.\n",
      "Complained object smlors does not exist in the database. Skipping.\n",
      "Complained object yzplpe does not exist in the database. Skipping.\n",
      "Complained object fwlxwe does not exist in the database. Skipping.\n",
      "Complained object asjalm does not exist in the database. Skipping.\n",
      "Complained object orntct does not exist in the database. Skipping.\n",
      "Complained object orntct does not exist in the database. Skipping.\n",
      "Complained object udyhsc does not exist in the database. Skipping.\n",
      "Complained object btdcou does not exist in the database. Skipping.\n",
      "Complained object btdcou does not exist in the database. Skipping.\n",
      "Complained object btdcou does not exist in the database. Skipping.\n",
      "Complained object acugsx does not exist in the database. Skipping.\n",
      "Complained object autzye does not exist in the database. Skipping.\n",
      "Complained object cegpja does not exist in the database. Skipping.\n",
      "Complained object edumiy does not exist in the database. Skipping.\n",
      "Complained object ffybck does not exist in the database. Skipping.\n",
      "Complained object hltkbe does not exist in the database. Skipping.\n",
      "Complained object iuzbqu does not exist in the database. Skipping.\n",
      "Complained object iuzbqu does not exist in the database. Skipping.\n",
      "Complained object klcxyf does not exist in the database. Skipping.\n",
      "Complained object mazmaa does not exist in the database. Skipping.\n",
      "Complained object ndfsrm does not exist in the database. Skipping.\n",
      "Complained object nnxsjd does not exist in the database. Skipping.\n",
      "Complained object ogrxqz does not exist in the database. Skipping.\n",
      "Complained object onrszv does not exist in the database. Skipping.\n",
      "Complained object orjpqs does not exist in the database. Skipping.\n",
      "Complained object penqpk does not exist in the database. Skipping.\n",
      "Complained object pffhuv does not exist in the database. Skipping.\n",
      "Complained object pohzfc does not exist in the database. Skipping.\n",
      "Complained object potacy does not exist in the database. Skipping.\n",
      "Complained object pqbutt does not exist in the database. Skipping.\n",
      "Complained object pqzkrj does not exist in the database. Skipping.\n",
      "Complained object qwwinf does not exist in the database. Skipping.\n",
      "Complained object rqcytb does not exist in the database. Skipping.\n",
      "Complained object rstyxz does not exist in the database. Skipping.\n",
      "Complained object sfobco does not exist in the database. Skipping.\n",
      "Complained object tghwgm does not exist in the database. Skipping.\n",
      "Complained object vqgvuw does not exist in the database. Skipping.\n",
      "Complained object vtwnqs does not exist in the database. Skipping.\n",
      "Complained object xayqcu does not exist in the database. Skipping.\n",
      "Complained object xsfcrp does not exist in the database. Skipping.\n",
      "Complained object yijzob does not exist in the database. Skipping.\n",
      "Complained object yorsom does not exist in the database. Skipping.\n",
      "Complained object zpsuqe does not exist in the database. Skipping.\n"
     ]
    }
   ],
   "source": [
    "# Import the knowledgebase\n",
    "from bddl.knowledge_base import *"
   ]
  },
  {
   "cell_type": "code",
   "execution_count": 3,
   "id": "fdd6aa98",
   "metadata": {},
   "outputs": [
    {
     "name": "stdout",
     "output_type": "stream",
     "text": [
      "[Synset(name='cooked__kidney_bean.n.01'), Synset(name='cooked__paprika.n.01'), Synset(name='toast.n.01'), Synset(name='cooked__coconut.n.01'), Synset(name='diced__chard.n.01'), Synset(name='cooked__diced__turkey.n.01'), Synset(name='cooked__diced__virginia_ham.n.01'), Synset(name='cooked__saffron.n.01'), Synset(name='diced__head_cabbage.n.01'), Synset(name='cooked__diced__zucchini.n.01'), Synset(name='coconut.n.01'), Synset(name='cooked__diced__chorizo.n.01'), Synset(name='cooked__diced__steak.n.01'), Synset(name='cooked__pumpkin_seed.n.01'), Synset(name='diced__butter.n.01'), Synset(name='diced__orange.n.01'), Synset(name='cooked__brown_rice.n.01'), Synset(name='cooked__cumin.n.01'), Synset(name='cooked__penne.n.01'), Synset(name='cooked__popcorn.n.01'), Synset(name='cooked__diced__head_cabbage.n.01'), Synset(name='cooked__diced__green_onion.n.01'), Synset(name='cooked__quinoa.n.01'), Synset(name='cooked__onion_powder.n.01'), Synset(name='diced__turkey.n.01'), Synset(name='cooked__ground_beef.n.01'), Synset(name='granola.n.01'), Synset(name='clove.n.04'), Synset(name='diced__chorizo.n.01'), Synset(name='cooked__breadcrumb.n.01'), Synset(name='cooked__salt.n.01'), Synset(name='cooked__black_bean.n.01'), Synset(name='cooked__diced__chicken.n.01'), Synset(name='cooked__noodle.n.01'), Synset(name='kidney_bean.n.02'), Synset(name='cooked__marjoram.n.01'), Synset(name='cooked__white_rice.n.01'), Synset(name='cooked__orzo.n.01'), Synset(name='cooked__pea.n.01'), Synset(name='cooked__diced__potato.n.01'), Synset(name='cooked__curry_powder.n.01'), Synset(name='cooked__sunflower_seed.n.01'), Synset(name='cooked__diced__bell_pepper.n.01'), Synset(name='cooked__diced__beefsteak_tomato.n.01'), Synset(name='orzo.n.01'), Synset(name='diced__steak.n.01'), Synset(name='cooked__diced__chili.n.01'), Synset(name='cooked__lemon-pepper_seasoning.n.01'), Synset(name='diced__chicken_breast.n.01'), Synset(name='cooked__diced__chard.n.01'), Synset(name='cooked__diced__clove.n.01'), Synset(name='diced__strawberry.n.01'), Synset(name='cooked__diced__broccoli.n.01'), Synset(name='cooked__diced__carrot.n.01'), Synset(name='cooked__diced__vidalia_onion.n.01'), Synset(name='cooked__flour.n.01'), Synset(name='cooked__diced__carne_asada.n.01'), Synset(name='cooked__chickpea.n.01'), Synset(name='diced__celery.n.01'), Synset(name='cooked__black_pepper.n.01'), Synset(name='diced__broccoli.n.01')]\n"
     ]
    }
   ],
   "source": [
    "# Get the synsets that are in the bad view\n",
    "synsets = Synset.view_object_unsupported_properties()\n",
    "print(synsets)"
   ]
  },
  {
   "cell_type": "code",
   "execution_count": 12,
   "id": "6c5f272f",
   "metadata": {},
   "outputs": [
    {
     "name": "stdout",
     "output_type": "stream",
     "text": [
      "[(3, Synset(name='diced__butter.n.01')), (1, Synset(name='cooked__sunflower_seed.n.01')), (1, Synset(name='cooked__salt.n.01')), (1, Synset(name='cooked__popcorn.n.01')), (1, Synset(name='cooked__coconut.n.01')), (1, Synset(name='cooked__chickpea.n.01')), (1, Synset(name='coconut.n.01'))]\n",
      "68\n"
     ]
    }
   ],
   "source": [
    "# Sort by how many tasks are affected by each\n",
    "def task_affected_by_missing_synset(synset, task):\n",
    "    if synset in task.synsets:\n",
    "        return True\n",
    "    \n",
    "    # Check the task relevant transitions and see if any of them are affected\n",
    "    relevant_transitions = task.relevant_transitions\n",
    "    for transition in relevant_transitions:\n",
    "        if synset in transition.input_synsets or synset in transition.output_synsets:\n",
    "            return True\n",
    "        \n",
    "    return False\n",
    "\n",
    "tasks_and_synsets = [(sum(1 for t in Task.view_challenge() if task_affected_by_missing_synset(s, t)), s) for s in synsets]\n",
    "tasks_and_synsets.sort(reverse=True)\n",
    "tasks_and_synsets = [(t, s) for t, s in tasks_and_synsets if t > 0]\n",
    "print(tasks_and_synsets)\n",
    "\n",
    "# What are all the affected tasks\n",
    "affected_tasks = [t for t in Task.all_objects() if any(task_affected_by_missing_synset(s, t) for s in synsets)]\n",
    "print(len(affected_tasks))"
   ]
  },
  {
   "cell_type": "code",
   "execution_count": null,
   "id": "190fd000",
   "metadata": {},
   "outputs": [],
   "source": []
  }
 ],
 "metadata": {
  "kernelspec": {
   "display_name": "omnigibson45",
   "language": "python",
   "name": "python3"
  },
  "language_info": {
   "codemirror_mode": {
    "name": "ipython",
    "version": 3
   },
   "file_extension": ".py",
   "mimetype": "text/x-python",
   "name": "python",
   "nbconvert_exporter": "python",
   "pygments_lexer": "ipython3",
   "version": "3.10.0"
  }
 },
 "nbformat": 4,
 "nbformat_minor": 5
}
